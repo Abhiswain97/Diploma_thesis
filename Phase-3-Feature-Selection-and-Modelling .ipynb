{
 "cells": [
  {
   "cell_type": "markdown",
   "id": "6918494c",
   "metadata": {
    "toc": true
   },
   "source": [
    "<h1>Table of Contents<span class=\"tocSkip\"></span></h1>\n",
    "<div class=\"toc\"><ul class=\"toc-item\"><li><span><a href=\"#Feature-Selection\" data-toc-modified-id=\"Feature-Selection-1\"><span class=\"toc-item-num\">1&nbsp;&nbsp;</span>Feature Selection</a></span><ul class=\"toc-item\"><li><span><a href=\"#Variance-Thresholding\" data-toc-modified-id=\"Variance-Thresholding-1.1\"><span class=\"toc-item-num\">1.1&nbsp;&nbsp;</span>Variance Thresholding</a></span></li><li><span><a href=\"#Anova-Test\" data-toc-modified-id=\"Anova-Test-1.2\"><span class=\"toc-item-num\">1.2&nbsp;&nbsp;</span>Anova Test</a></span></li><li><span><a href=\"#RFE-(Recursive-Feature-Elimination)\" data-toc-modified-id=\"RFE-(Recursive-Feature-Elimination)-1.3\"><span class=\"toc-item-num\">1.3&nbsp;&nbsp;</span>RFE (Recursive Feature Elimination)</a></span></li><li><span><a href=\"#Feature-Selection-using-RandomForest\" data-toc-modified-id=\"Feature-Selection-using-RandomForest-1.4\"><span class=\"toc-item-num\">1.4&nbsp;&nbsp;</span>Feature Selection using RandomForest</a></span></li><li><span><a href=\"#Conclusion\" data-toc-modified-id=\"Conclusion-1.5\"><span class=\"toc-item-num\">1.5&nbsp;&nbsp;</span>Conclusion</a></span></li></ul></li><li><span><a href=\"#Modelling\" data-toc-modified-id=\"Modelling-2\"><span class=\"toc-item-num\">2&nbsp;&nbsp;</span>Modelling</a></span><ul class=\"toc-item\"><li><span><a href=\"#Anova-Features\" data-toc-modified-id=\"Anova-Features-2.1\"><span class=\"toc-item-num\">2.1&nbsp;&nbsp;</span>Anova Features</a></span><ul class=\"toc-item\"><li><span><a href=\"#RandomForest\" data-toc-modified-id=\"RandomForest-2.1.1\"><span class=\"toc-item-num\">2.1.1&nbsp;&nbsp;</span>RandomForest</a></span></li><li><span><a href=\"#Decision-tree-modelling\" data-toc-modified-id=\"Decision-tree-modelling-2.1.2\"><span class=\"toc-item-num\">2.1.2&nbsp;&nbsp;</span>Decision tree modelling</a></span></li><li><span><a href=\"#LinearSVC\" data-toc-modified-id=\"LinearSVC-2.1.3\"><span class=\"toc-item-num\">2.1.3&nbsp;&nbsp;</span>LinearSVC</a></span></li></ul></li><li><span><a href=\"#Hyperparameter-tuning-using-Optuna\" data-toc-modified-id=\"Hyperparameter-tuning-using-Optuna-2.2\"><span class=\"toc-item-num\">2.2&nbsp;&nbsp;</span>Hyperparameter tuning using Optuna</a></span></li><li><span><a href=\"#Results\" data-toc-modified-id=\"Results-2.3\"><span class=\"toc-item-num\">2.3&nbsp;&nbsp;</span>Results</a></span></li><li><span><a href=\"#Conclusion\" data-toc-modified-id=\"Conclusion-2.4\"><span class=\"toc-item-num\">2.4&nbsp;&nbsp;</span>Conclusion</a></span></li></ul></li></ul></div>"
   ]
  },
  {
   "cell_type": "markdown",
   "id": "1d6575a4",
   "metadata": {},
   "source": [
    "<center><h1>Feature Selection</h1></center>"
   ]
  },
  {
   "cell_type": "code",
   "execution_count": 117,
   "id": "a48945d2",
   "metadata": {},
   "outputs": [
    {
     "name": "stderr",
     "output_type": "stream",
     "text": [
      "Intel(R) Extension for Scikit-learn* enabled (https://github.com/intel/scikit-learn-intelex)\n"
     ]
    }
   ],
   "source": [
    "from functools import partial\n",
    "\n",
    "import numpy as np\n",
    "import pandas as pd\n",
    "import seaborn as sns\n",
    "\n",
    "from sklearnex import patch_sklearn\n",
    "\n",
    "patch_sklearn()\n",
    "\n",
    "from sklearn.experimental import enable_halving_search_cv\n",
    "from sklearn.utils.validation import check_is_fitted\n",
    "\n",
    "from sklearn.preprocessing import MinMaxScaler, StandardScaler\n",
    "\n",
    "from sklearn.tree import DecisionTreeClassifier, ExtraTreeClassifier\n",
    "from sklearn.ensemble import RandomForestClassifier, GradientBoostingClassifier\n",
    "from sklearn.linear_model import SGDClassifier\n",
    "from sklearn.svm import LinearSVC\n",
    "\n",
    "from sklearn import metrics\n",
    "\n",
    "from sklearn.model_selection import (\n",
    "    train_test_split,\n",
    "    KFold,\n",
    "    StratifiedKFold,\n",
    "    GridSearchCV,\n",
    "    HalvingGridSearchCV,\n",
    "    cross_validate,\n",
    "    cross_val_score,\n",
    "    cross_val_predict,\n",
    ")\n",
    "\n",
    "from sklearn.feature_selection import (\n",
    "    VarianceThreshold,\n",
    "    f_classif,\n",
    "    SelectKBest,\n",
    "    SelectFromModel,\n",
    "    RFE,\n",
    ")\n",
    "\n",
    "from imblearn import over_sampling, under_sampling, ensemble\n",
    "from imblearn.metrics import (\n",
    "    sensitivity_specificity_support,\n",
    "    classification_report_imbalanced,\n",
    ")\n",
    "\n",
    "from skopt import BayesSearchCV, gp_minimize, space\n",
    "from skopt.utils import use_named_args\n",
    "\n",
    "import optuna\n",
    "\n",
    "from joblib import dump, load\n",
    "\n",
    "from prettytable import PrettyTable\n",
    "\n",
    "from omegaconf import OmegaConf\n",
    "\n",
    "sns.set(rc={\"figure.figsize\": (10, 8)}, font_scale=1.25)\n",
    "\n",
    "np.random.seed(42)"
   ]
  },
  {
   "cell_type": "code",
   "execution_count": 2,
   "id": "d1222750",
   "metadata": {},
   "outputs": [],
   "source": [
    "df = (\n",
    "    pd.read_csv(\"./DryBeanDataset/Dry_Bean_Dataset.csv\")\n",
    "    .sample(frac=1)\n",
    "    .reset_index(drop=True)\n",
    ")"
   ]
  },
  {
   "cell_type": "code",
   "execution_count": 3,
   "id": "7b124fdd",
   "metadata": {},
   "outputs": [
    {
     "data": {
      "text/html": [
       "<div>\n",
       "<style scoped>\n",
       "    .dataframe tbody tr th:only-of-type {\n",
       "        vertical-align: middle;\n",
       "    }\n",
       "\n",
       "    .dataframe tbody tr th {\n",
       "        vertical-align: top;\n",
       "    }\n",
       "\n",
       "    .dataframe thead th {\n",
       "        text-align: right;\n",
       "    }\n",
       "</style>\n",
       "<table border=\"1\" class=\"dataframe\">\n",
       "  <thead>\n",
       "    <tr style=\"text-align: right;\">\n",
       "      <th></th>\n",
       "      <th>Area</th>\n",
       "      <th>Perimeter</th>\n",
       "      <th>MajorAxisLength</th>\n",
       "      <th>MinorAxisLength</th>\n",
       "      <th>AspectRation</th>\n",
       "      <th>Eccentricity</th>\n",
       "      <th>ConvexArea</th>\n",
       "      <th>EquivDiameter</th>\n",
       "      <th>Extent</th>\n",
       "      <th>Solidity</th>\n",
       "      <th>roundness</th>\n",
       "      <th>Compactness</th>\n",
       "      <th>ShapeFactor1</th>\n",
       "      <th>ShapeFactor2</th>\n",
       "      <th>ShapeFactor3</th>\n",
       "      <th>ShapeFactor4</th>\n",
       "      <th>Class</th>\n",
       "    </tr>\n",
       "  </thead>\n",
       "  <tbody>\n",
       "    <tr>\n",
       "      <th>0</th>\n",
       "      <td>42339</td>\n",
       "      <td>741.226</td>\n",
       "      <td>260.199330</td>\n",
       "      <td>207.306394</td>\n",
       "      <td>1.255144</td>\n",
       "      <td>0.604347</td>\n",
       "      <td>42676</td>\n",
       "      <td>232.180294</td>\n",
       "      <td>0.771202</td>\n",
       "      <td>0.992103</td>\n",
       "      <td>0.968387</td>\n",
       "      <td>0.892317</td>\n",
       "      <td>0.006146</td>\n",
       "      <td>0.002403</td>\n",
       "      <td>0.796230</td>\n",
       "      <td>0.999383</td>\n",
       "      <td>SEKER</td>\n",
       "    </tr>\n",
       "    <tr>\n",
       "      <th>1</th>\n",
       "      <td>68247</td>\n",
       "      <td>1088.754</td>\n",
       "      <td>370.368146</td>\n",
       "      <td>237.863792</td>\n",
       "      <td>1.557060</td>\n",
       "      <td>0.766507</td>\n",
       "      <td>70172</td>\n",
       "      <td>294.779204</td>\n",
       "      <td>0.767683</td>\n",
       "      <td>0.972567</td>\n",
       "      <td>0.723492</td>\n",
       "      <td>0.795909</td>\n",
       "      <td>0.005427</td>\n",
       "      <td>0.001343</td>\n",
       "      <td>0.633471</td>\n",
       "      <td>0.986352</td>\n",
       "      <td>BARBUNYA</td>\n",
       "    </tr>\n",
       "    <tr>\n",
       "      <th>2</th>\n",
       "      <td>37856</td>\n",
       "      <td>708.716</td>\n",
       "      <td>248.430330</td>\n",
       "      <td>194.360324</td>\n",
       "      <td>1.278195</td>\n",
       "      <td>0.622835</td>\n",
       "      <td>38232</td>\n",
       "      <td>219.544429</td>\n",
       "      <td>0.744640</td>\n",
       "      <td>0.990165</td>\n",
       "      <td>0.947109</td>\n",
       "      <td>0.883726</td>\n",
       "      <td>0.006563</td>\n",
       "      <td>0.002469</td>\n",
       "      <td>0.780972</td>\n",
       "      <td>0.998235</td>\n",
       "      <td>SEKER</td>\n",
       "    </tr>\n",
       "    <tr>\n",
       "      <th>3</th>\n",
       "      <td>33143</td>\n",
       "      <td>648.385</td>\n",
       "      <td>222.526309</td>\n",
       "      <td>189.737379</td>\n",
       "      <td>1.172812</td>\n",
       "      <td>0.522480</td>\n",
       "      <td>33377</td>\n",
       "      <td>205.423899</td>\n",
       "      <td>0.769980</td>\n",
       "      <td>0.992989</td>\n",
       "      <td>0.990685</td>\n",
       "      <td>0.923144</td>\n",
       "      <td>0.006714</td>\n",
       "      <td>0.003008</td>\n",
       "      <td>0.852195</td>\n",
       "      <td>0.999465</td>\n",
       "      <td>SEKER</td>\n",
       "    </tr>\n",
       "    <tr>\n",
       "      <th>4</th>\n",
       "      <td>29925</td>\n",
       "      <td>647.570</td>\n",
       "      <td>237.714031</td>\n",
       "      <td>161.004849</td>\n",
       "      <td>1.476440</td>\n",
       "      <td>0.735703</td>\n",
       "      <td>30321</td>\n",
       "      <td>195.196551</td>\n",
       "      <td>0.785309</td>\n",
       "      <td>0.986940</td>\n",
       "      <td>0.896748</td>\n",
       "      <td>0.821140</td>\n",
       "      <td>0.007944</td>\n",
       "      <td>0.002228</td>\n",
       "      <td>0.674271</td>\n",
       "      <td>0.995521</td>\n",
       "      <td>DERMASON</td>\n",
       "    </tr>\n",
       "  </tbody>\n",
       "</table>\n",
       "</div>"
      ],
      "text/plain": [
       "    Area  Perimeter  MajorAxisLength  MinorAxisLength  AspectRation  \\\n",
       "0  42339    741.226       260.199330       207.306394      1.255144   \n",
       "1  68247   1088.754       370.368146       237.863792      1.557060   \n",
       "2  37856    708.716       248.430330       194.360324      1.278195   \n",
       "3  33143    648.385       222.526309       189.737379      1.172812   \n",
       "4  29925    647.570       237.714031       161.004849      1.476440   \n",
       "\n",
       "   Eccentricity  ConvexArea  EquivDiameter    Extent  Solidity  roundness  \\\n",
       "0      0.604347       42676     232.180294  0.771202  0.992103   0.968387   \n",
       "1      0.766507       70172     294.779204  0.767683  0.972567   0.723492   \n",
       "2      0.622835       38232     219.544429  0.744640  0.990165   0.947109   \n",
       "3      0.522480       33377     205.423899  0.769980  0.992989   0.990685   \n",
       "4      0.735703       30321     195.196551  0.785309  0.986940   0.896748   \n",
       "\n",
       "   Compactness  ShapeFactor1  ShapeFactor2  ShapeFactor3  ShapeFactor4  \\\n",
       "0     0.892317      0.006146      0.002403      0.796230      0.999383   \n",
       "1     0.795909      0.005427      0.001343      0.633471      0.986352   \n",
       "2     0.883726      0.006563      0.002469      0.780972      0.998235   \n",
       "3     0.923144      0.006714      0.003008      0.852195      0.999465   \n",
       "4     0.821140      0.007944      0.002228      0.674271      0.995521   \n",
       "\n",
       "      Class  \n",
       "0     SEKER  \n",
       "1  BARBUNYA  \n",
       "2     SEKER  \n",
       "3     SEKER  \n",
       "4  DERMASON  "
      ]
     },
     "execution_count": 3,
     "metadata": {},
     "output_type": "execute_result"
    }
   ],
   "source": [
    "df.head()"
   ]
  },
  {
   "cell_type": "code",
   "execution_count": 4,
   "id": "957b2f2d",
   "metadata": {},
   "outputs": [],
   "source": [
    "X = df.drop(\"Class\", axis=1)\n",
    "y = df[\"Class\"].astype(\"category\").cat.codes"
   ]
  },
  {
   "cell_type": "code",
   "execution_count": 5,
   "id": "a16fe526",
   "metadata": {},
   "outputs": [
    {
     "data": {
      "text/plain": [
       "Area               8.599026e+08\n",
       "Perimeter          4.592007e+04\n",
       "MajorAxisLength    7.343494e+03\n",
       "MinorAxisLength    2.022309e+03\n",
       "AspectRation       6.085026e-02\n",
       "Eccentricity       8.464324e-03\n",
       "ConvexArea         8.865456e+08\n",
       "EquivDiameter      3.501932e+03\n",
       "Extent             2.409471e-03\n",
       "Solidity           2.171913e-05\n",
       "roundness          3.542617e-03\n",
       "Compactness        3.808552e-03\n",
       "ShapeFactor1       1.272380e-06\n",
       "ShapeFactor2       3.550668e-07\n",
       "ShapeFactor3       9.800238e-03\n",
       "ShapeFactor4       1.906595e-05\n",
       "dtype: float64"
      ]
     },
     "execution_count": 5,
     "metadata": {},
     "output_type": "execute_result"
    }
   ],
   "source": [
    "X.var(numeric_only=True)"
   ]
  },
  {
   "cell_type": "code",
   "execution_count": 6,
   "id": "25ff0a5b",
   "metadata": {},
   "outputs": [],
   "source": [
    "scaler = MinMaxScaler(feature_range=(1, 10))\n",
    "X_scaled = scaler.fit_transform(X)"
   ]
  },
  {
   "cell_type": "code",
   "execution_count": 7,
   "id": "3c2cb786",
   "metadata": {},
   "outputs": [],
   "source": [
    "X_scaled_df = pd.DataFrame(X_scaled, columns=df.columns[:-1].tolist())"
   ]
  },
  {
   "cell_type": "code",
   "execution_count": 8,
   "id": "8ade6929",
   "metadata": {},
   "outputs": [
    {
     "data": {
      "text/html": [
       "<div>\n",
       "<style scoped>\n",
       "    .dataframe tbody tr th:only-of-type {\n",
       "        vertical-align: middle;\n",
       "    }\n",
       "\n",
       "    .dataframe tbody tr th {\n",
       "        vertical-align: top;\n",
       "    }\n",
       "\n",
       "    .dataframe thead th {\n",
       "        text-align: right;\n",
       "    }\n",
       "</style>\n",
       "<table border=\"1\" class=\"dataframe\">\n",
       "  <thead>\n",
       "    <tr style=\"text-align: right;\">\n",
       "      <th></th>\n",
       "      <th>Area</th>\n",
       "      <th>Perimeter</th>\n",
       "      <th>MajorAxisLength</th>\n",
       "      <th>MinorAxisLength</th>\n",
       "      <th>AspectRation</th>\n",
       "      <th>Eccentricity</th>\n",
       "      <th>ConvexArea</th>\n",
       "      <th>EquivDiameter</th>\n",
       "      <th>Extent</th>\n",
       "      <th>Solidity</th>\n",
       "      <th>roundness</th>\n",
       "      <th>Compactness</th>\n",
       "      <th>ShapeFactor1</th>\n",
       "      <th>ShapeFactor2</th>\n",
       "      <th>ShapeFactor3</th>\n",
       "      <th>ShapeFactor4</th>\n",
       "    </tr>\n",
       "  </thead>\n",
       "  <tbody>\n",
       "    <tr>\n",
       "      <th>0</th>\n",
       "      <td>1.842333</td>\n",
       "      <td>2.333948</td>\n",
       "      <td>2.241553</td>\n",
       "      <td>3.259922</td>\n",
       "      <td>2.474618</td>\n",
       "      <td>6.008954</td>\n",
       "      <td>1.815939</td>\n",
       "      <td>2.564276</td>\n",
       "      <td>7.249960</td>\n",
       "      <td>9.692861</td>\n",
       "      <td>9.599492</td>\n",
       "      <td>7.534442</td>\n",
       "      <td>4.949932</td>\n",
       "      <td>6.338256</td>\n",
       "      <td>7.153161</td>\n",
       "      <td>9.939511</td>\n",
       "    </tr>\n",
       "    <tr>\n",
       "      <th>1</th>\n",
       "      <td>2.837961</td>\n",
       "      <td>4.475314</td>\n",
       "      <td>4.027241</td>\n",
       "      <td>4.074337</td>\n",
       "      <td>4.407996</td>\n",
       "      <td>8.116537</td>\n",
       "      <td>2.836085</td>\n",
       "      <td>3.944692</td>\n",
       "      <td>7.148074</td>\n",
       "      <td>7.361961</td>\n",
       "      <td>5.200767</td>\n",
       "      <td>5.031962</td>\n",
       "      <td>4.106907</td>\n",
       "      <td>3.261495</td>\n",
       "      <td>4.557913</td>\n",
       "      <td>7.686064</td>\n",
       "    </tr>\n",
       "    <tr>\n",
       "      <th>2</th>\n",
       "      <td>1.670054</td>\n",
       "      <td>2.133631</td>\n",
       "      <td>2.050793</td>\n",
       "      <td>2.914883</td>\n",
       "      <td>2.622229</td>\n",
       "      <td>6.249241</td>\n",
       "      <td>1.651059</td>\n",
       "      <td>2.285633</td>\n",
       "      <td>6.480978</td>\n",
       "      <td>9.461633</td>\n",
       "      <td>9.217301</td>\n",
       "      <td>7.311453</td>\n",
       "      <td>5.438912</td>\n",
       "      <td>6.528719</td>\n",
       "      <td>6.909876</td>\n",
       "      <td>9.740964</td>\n",
       "    </tr>\n",
       "    <tr>\n",
       "      <th>3</th>\n",
       "      <td>1.488937</td>\n",
       "      <td>1.761889</td>\n",
       "      <td>1.630924</td>\n",
       "      <td>2.791673</td>\n",
       "      <td>1.947392</td>\n",
       "      <td>4.944941</td>\n",
       "      <td>1.470931</td>\n",
       "      <td>1.974250</td>\n",
       "      <td>7.214565</td>\n",
       "      <td>9.798561</td>\n",
       "      <td>10.000000</td>\n",
       "      <td>8.334629</td>\n",
       "      <td>5.616748</td>\n",
       "      <td>8.092549</td>\n",
       "      <td>8.045553</td>\n",
       "      <td>9.953770</td>\n",
       "    </tr>\n",
       "    <tr>\n",
       "      <th>4</th>\n",
       "      <td>1.365271</td>\n",
       "      <td>1.756867</td>\n",
       "      <td>1.877097</td>\n",
       "      <td>2.025894</td>\n",
       "      <td>3.891733</td>\n",
       "      <td>7.716176</td>\n",
       "      <td>1.357548</td>\n",
       "      <td>1.748719</td>\n",
       "      <td>7.658365</td>\n",
       "      <td>9.076779</td>\n",
       "      <td>8.312734</td>\n",
       "      <td>5.686900</td>\n",
       "      <td>7.058892</td>\n",
       "      <td>5.828550</td>\n",
       "      <td>5.208494</td>\n",
       "      <td>9.271746</td>\n",
       "    </tr>\n",
       "  </tbody>\n",
       "</table>\n",
       "</div>"
      ],
      "text/plain": [
       "       Area  Perimeter  MajorAxisLength  MinorAxisLength  AspectRation  \\\n",
       "0  1.842333   2.333948         2.241553         3.259922      2.474618   \n",
       "1  2.837961   4.475314         4.027241         4.074337      4.407996   \n",
       "2  1.670054   2.133631         2.050793         2.914883      2.622229   \n",
       "3  1.488937   1.761889         1.630924         2.791673      1.947392   \n",
       "4  1.365271   1.756867         1.877097         2.025894      3.891733   \n",
       "\n",
       "   Eccentricity  ConvexArea  EquivDiameter    Extent  Solidity  roundness  \\\n",
       "0      6.008954    1.815939       2.564276  7.249960  9.692861   9.599492   \n",
       "1      8.116537    2.836085       3.944692  7.148074  7.361961   5.200767   \n",
       "2      6.249241    1.651059       2.285633  6.480978  9.461633   9.217301   \n",
       "3      4.944941    1.470931       1.974250  7.214565  9.798561  10.000000   \n",
       "4      7.716176    1.357548       1.748719  7.658365  9.076779   8.312734   \n",
       "\n",
       "   Compactness  ShapeFactor1  ShapeFactor2  ShapeFactor3  ShapeFactor4  \n",
       "0     7.534442      4.949932      6.338256      7.153161      9.939511  \n",
       "1     5.031962      4.106907      3.261495      4.557913      7.686064  \n",
       "2     7.311453      5.438912      6.528719      6.909876      9.740964  \n",
       "3     8.334629      5.616748      8.092549      8.045553      9.953770  \n",
       "4     5.686900      7.058892      5.828550      5.208494      9.271746  "
      ]
     },
     "execution_count": 8,
     "metadata": {},
     "output_type": "execute_result"
    }
   ],
   "source": [
    "X_scaled_df.head()"
   ]
  },
  {
   "cell_type": "code",
   "execution_count": 9,
   "id": "e9b47752",
   "metadata": {},
   "outputs": [
    {
     "data": {
      "text/plain": [
       "Area               1.269917\n",
       "Perimeter          1.743431\n",
       "MajorAxisLength    1.929286\n",
       "MinorAxisLength    1.436504\n",
       "AspectRation       2.495305\n",
       "Eccentricity       1.429793\n",
       "ConvexArea         1.220357\n",
       "EquivDiameter      1.702920\n",
       "Extent             2.019396\n",
       "Solidity           0.309189\n",
       "roundness          1.142924\n",
       "Compactness        2.566088\n",
       "ShapeFactor1       1.750466\n",
       "ShapeFactor2       2.991209\n",
       "ShapeFactor3       2.491745\n",
       "ShapeFactor4       0.570142\n",
       "dtype: float64"
      ]
     },
     "execution_count": 9,
     "metadata": {},
     "output_type": "execute_result"
    }
   ],
   "source": [
    "X_scaled_df.var()"
   ]
  },
  {
   "cell_type": "markdown",
   "id": "11099d7b",
   "metadata": {},
   "source": [
    "## Variance Thresholding\n",
    "\n",
    "If the variance is low or close to zero, then a feature is approximately constant and will not improve the performance of the model. In that case, it should be removed.\n",
    "\n",
    "Variance will also be very low for a feature if only a handful of observations of that feature differ from a constant value.\n",
    "\n",
    "What we can do is set a threshold and drop features with low variance "
   ]
  },
  {
   "cell_type": "code",
   "execution_count": 10,
   "id": "9b441108",
   "metadata": {},
   "outputs": [],
   "source": [
    "vt = VarianceThreshold(threshold=1)\n",
    "X_scaled_var_feats = vt.fit_transform(X_scaled)"
   ]
  },
  {
   "cell_type": "code",
   "execution_count": 11,
   "id": "cc771ff5",
   "metadata": {},
   "outputs": [],
   "source": [
    "X_scaled_var_feats_df = pd.DataFrame(\n",
    "    X_scaled_var_feats, columns=X_scaled_df.columns[vt.get_support(indices=True)]\n",
    ")"
   ]
  },
  {
   "cell_type": "code",
   "execution_count": 12,
   "id": "cc73c3fb",
   "metadata": {},
   "outputs": [
    {
     "data": {
      "text/html": [
       "<div>\n",
       "<style scoped>\n",
       "    .dataframe tbody tr th:only-of-type {\n",
       "        vertical-align: middle;\n",
       "    }\n",
       "\n",
       "    .dataframe tbody tr th {\n",
       "        vertical-align: top;\n",
       "    }\n",
       "\n",
       "    .dataframe thead th {\n",
       "        text-align: right;\n",
       "    }\n",
       "</style>\n",
       "<table border=\"1\" class=\"dataframe\">\n",
       "  <thead>\n",
       "    <tr style=\"text-align: right;\">\n",
       "      <th></th>\n",
       "      <th>Area</th>\n",
       "      <th>Perimeter</th>\n",
       "      <th>MajorAxisLength</th>\n",
       "      <th>MinorAxisLength</th>\n",
       "      <th>AspectRation</th>\n",
       "      <th>Eccentricity</th>\n",
       "      <th>ConvexArea</th>\n",
       "      <th>EquivDiameter</th>\n",
       "      <th>Extent</th>\n",
       "      <th>roundness</th>\n",
       "      <th>Compactness</th>\n",
       "      <th>ShapeFactor1</th>\n",
       "      <th>ShapeFactor2</th>\n",
       "      <th>ShapeFactor3</th>\n",
       "    </tr>\n",
       "  </thead>\n",
       "  <tbody>\n",
       "    <tr>\n",
       "      <th>0</th>\n",
       "      <td>1.842333</td>\n",
       "      <td>2.333948</td>\n",
       "      <td>2.241553</td>\n",
       "      <td>3.259922</td>\n",
       "      <td>2.474618</td>\n",
       "      <td>6.008954</td>\n",
       "      <td>1.815939</td>\n",
       "      <td>2.564276</td>\n",
       "      <td>7.249960</td>\n",
       "      <td>9.599492</td>\n",
       "      <td>7.534442</td>\n",
       "      <td>4.949932</td>\n",
       "      <td>6.338256</td>\n",
       "      <td>7.153161</td>\n",
       "    </tr>\n",
       "    <tr>\n",
       "      <th>1</th>\n",
       "      <td>2.837961</td>\n",
       "      <td>4.475314</td>\n",
       "      <td>4.027241</td>\n",
       "      <td>4.074337</td>\n",
       "      <td>4.407996</td>\n",
       "      <td>8.116537</td>\n",
       "      <td>2.836085</td>\n",
       "      <td>3.944692</td>\n",
       "      <td>7.148074</td>\n",
       "      <td>5.200767</td>\n",
       "      <td>5.031962</td>\n",
       "      <td>4.106907</td>\n",
       "      <td>3.261495</td>\n",
       "      <td>4.557913</td>\n",
       "    </tr>\n",
       "    <tr>\n",
       "      <th>2</th>\n",
       "      <td>1.670054</td>\n",
       "      <td>2.133631</td>\n",
       "      <td>2.050793</td>\n",
       "      <td>2.914883</td>\n",
       "      <td>2.622229</td>\n",
       "      <td>6.249241</td>\n",
       "      <td>1.651059</td>\n",
       "      <td>2.285633</td>\n",
       "      <td>6.480978</td>\n",
       "      <td>9.217301</td>\n",
       "      <td>7.311453</td>\n",
       "      <td>5.438912</td>\n",
       "      <td>6.528719</td>\n",
       "      <td>6.909876</td>\n",
       "    </tr>\n",
       "    <tr>\n",
       "      <th>3</th>\n",
       "      <td>1.488937</td>\n",
       "      <td>1.761889</td>\n",
       "      <td>1.630924</td>\n",
       "      <td>2.791673</td>\n",
       "      <td>1.947392</td>\n",
       "      <td>4.944941</td>\n",
       "      <td>1.470931</td>\n",
       "      <td>1.974250</td>\n",
       "      <td>7.214565</td>\n",
       "      <td>10.000000</td>\n",
       "      <td>8.334629</td>\n",
       "      <td>5.616748</td>\n",
       "      <td>8.092549</td>\n",
       "      <td>8.045553</td>\n",
       "    </tr>\n",
       "    <tr>\n",
       "      <th>4</th>\n",
       "      <td>1.365271</td>\n",
       "      <td>1.756867</td>\n",
       "      <td>1.877097</td>\n",
       "      <td>2.025894</td>\n",
       "      <td>3.891733</td>\n",
       "      <td>7.716176</td>\n",
       "      <td>1.357548</td>\n",
       "      <td>1.748719</td>\n",
       "      <td>7.658365</td>\n",
       "      <td>8.312734</td>\n",
       "      <td>5.686900</td>\n",
       "      <td>7.058892</td>\n",
       "      <td>5.828550</td>\n",
       "      <td>5.208494</td>\n",
       "    </tr>\n",
       "  </tbody>\n",
       "</table>\n",
       "</div>"
      ],
      "text/plain": [
       "       Area  Perimeter  MajorAxisLength  MinorAxisLength  AspectRation  \\\n",
       "0  1.842333   2.333948         2.241553         3.259922      2.474618   \n",
       "1  2.837961   4.475314         4.027241         4.074337      4.407996   \n",
       "2  1.670054   2.133631         2.050793         2.914883      2.622229   \n",
       "3  1.488937   1.761889         1.630924         2.791673      1.947392   \n",
       "4  1.365271   1.756867         1.877097         2.025894      3.891733   \n",
       "\n",
       "   Eccentricity  ConvexArea  EquivDiameter    Extent  roundness  Compactness  \\\n",
       "0      6.008954    1.815939       2.564276  7.249960   9.599492     7.534442   \n",
       "1      8.116537    2.836085       3.944692  7.148074   5.200767     5.031962   \n",
       "2      6.249241    1.651059       2.285633  6.480978   9.217301     7.311453   \n",
       "3      4.944941    1.470931       1.974250  7.214565  10.000000     8.334629   \n",
       "4      7.716176    1.357548       1.748719  7.658365   8.312734     5.686900   \n",
       "\n",
       "   ShapeFactor1  ShapeFactor2  ShapeFactor3  \n",
       "0      4.949932      6.338256      7.153161  \n",
       "1      4.106907      3.261495      4.557913  \n",
       "2      5.438912      6.528719      6.909876  \n",
       "3      5.616748      8.092549      8.045553  \n",
       "4      7.058892      5.828550      5.208494  "
      ]
     },
     "execution_count": 12,
     "metadata": {},
     "output_type": "execute_result"
    }
   ],
   "source": [
    "X_scaled_var_feats_df.head()"
   ]
  },
  {
   "cell_type": "markdown",
   "id": "87fd72c0",
   "metadata": {},
   "source": [
    "**Obvservation**\n",
    "\n",
    " - As we can see 2 low variance features are removed which are `Solidity` and `ShapeFactor4`"
   ]
  },
  {
   "cell_type": "markdown",
   "id": "b7ef1cbe",
   "metadata": {},
   "source": [
    "## Anova Test\n",
    "\n",
    "Analysis of variance (ANOVA) is a statistical technique that is used to check if the means of two or more groups are significantly different from each other. ANOVA checks the impact of one or more factors by comparing the means of different samples. \n",
    "\n",
    "If we had categorical variables we would do another test called the $\\chi^2$ test. Since we have all numeric features we do the ANOVA test."
   ]
  },
  {
   "cell_type": "code",
   "execution_count": 13,
   "id": "2d1cf863",
   "metadata": {},
   "outputs": [
    {
     "data": {
      "text/plain": [
       "SelectKBest(k=8)"
      ]
     },
     "execution_count": 13,
     "metadata": {},
     "output_type": "execute_result"
    }
   ],
   "source": [
    "anova_filter = SelectKBest(score_func=f_classif, k=8)\n",
    "anova_filter.fit(X, y)"
   ]
  },
  {
   "cell_type": "code",
   "execution_count": 14,
   "id": "6ca72c37",
   "metadata": {},
   "outputs": [],
   "source": [
    "anova_df = pd.DataFrame(\n",
    "    {\n",
    "        \"features\": df.columns[anova_filter.get_support(indices=True)],\n",
    "        \"scores\": anova_filter.scores_[anova_filter.get_support(indices=True)],\n",
    "    }\n",
    ")"
   ]
  },
  {
   "cell_type": "code",
   "execution_count": 15,
   "id": "1c9fe7e7",
   "metadata": {},
   "outputs": [
    {
     "data": {
      "text/html": [
       "<div>\n",
       "<style scoped>\n",
       "    .dataframe tbody tr th:only-of-type {\n",
       "        vertical-align: middle;\n",
       "    }\n",
       "\n",
       "    .dataframe tbody tr th {\n",
       "        vertical-align: top;\n",
       "    }\n",
       "\n",
       "    .dataframe thead th {\n",
       "        text-align: right;\n",
       "    }\n",
       "</style>\n",
       "<table border=\"1\" class=\"dataframe\">\n",
       "  <thead>\n",
       "    <tr style=\"text-align: right;\">\n",
       "      <th></th>\n",
       "      <th>features</th>\n",
       "      <th>scores</th>\n",
       "    </tr>\n",
       "  </thead>\n",
       "  <tbody>\n",
       "    <tr>\n",
       "      <th>0</th>\n",
       "      <td>Area</td>\n",
       "      <td>29017.510462</td>\n",
       "    </tr>\n",
       "    <tr>\n",
       "      <th>1</th>\n",
       "      <td>Perimeter</td>\n",
       "      <td>24283.663708</td>\n",
       "    </tr>\n",
       "    <tr>\n",
       "      <th>2</th>\n",
       "      <td>MajorAxisLength</td>\n",
       "      <td>21622.237935</td>\n",
       "    </tr>\n",
       "    <tr>\n",
       "      <th>3</th>\n",
       "      <td>MinorAxisLength</td>\n",
       "      <td>22442.386382</td>\n",
       "    </tr>\n",
       "    <tr>\n",
       "      <th>4</th>\n",
       "      <td>ConvexArea</td>\n",
       "      <td>28961.791217</td>\n",
       "    </tr>\n",
       "    <tr>\n",
       "      <th>5</th>\n",
       "      <td>EquivDiameter</td>\n",
       "      <td>25444.547794</td>\n",
       "    </tr>\n",
       "    <tr>\n",
       "      <th>6</th>\n",
       "      <td>ShapeFactor1</td>\n",
       "      <td>12081.321137</td>\n",
       "    </tr>\n",
       "    <tr>\n",
       "      <th>7</th>\n",
       "      <td>ShapeFactor2</td>\n",
       "      <td>12329.884201</td>\n",
       "    </tr>\n",
       "  </tbody>\n",
       "</table>\n",
       "</div>"
      ],
      "text/plain": [
       "          features        scores\n",
       "0             Area  29017.510462\n",
       "1        Perimeter  24283.663708\n",
       "2  MajorAxisLength  21622.237935\n",
       "3  MinorAxisLength  22442.386382\n",
       "4       ConvexArea  28961.791217\n",
       "5    EquivDiameter  25444.547794\n",
       "6     ShapeFactor1  12081.321137\n",
       "7     ShapeFactor2  12329.884201"
      ]
     },
     "execution_count": 15,
     "metadata": {},
     "output_type": "execute_result"
    }
   ],
   "source": [
    "anova_df"
   ]
  },
  {
   "cell_type": "markdown",
   "id": "1d1591a2",
   "metadata": {},
   "source": [
    "**Obvservation**\n",
    "\n",
    " - We have selected 8 best features according to the anova scores. \n",
    " - We can select more features also, it can be a thought of as a hyperparameter to be tuned i.e trying different models with different number of features\n",
    " - I selected the number 8 as in the previous EDA notebook we saw that 8 principal components could be used to describe the whole dataset"
   ]
  },
  {
   "cell_type": "markdown",
   "id": "d48ea860",
   "metadata": {},
   "source": [
    "## RFE (Recursive Feature Elimination)\n",
    "\n",
    "Recursive Feature Elimination selects features by recursively considering smaller subsets of features by pruning the least important feature at each step. Here models are created iteartively and in each iteration it determines the best and worst performing features and this process continues until all the features are explored.Next ranking is given on eah feature based on their elimination orde. In the worst case, if a dataset contains N number of features RFE will do a greedy search for $N^2$ combinations of features."
   ]
  },
  {
   "cell_type": "code",
   "execution_count": 16,
   "id": "f7648f42",
   "metadata": {},
   "outputs": [
    {
     "name": "stdout",
     "output_type": "stream",
     "text": [
      "Fitting estimator with 16 features.\n",
      "Fitting estimator with 15 features.\n",
      "Fitting estimator with 14 features.\n",
      "Fitting estimator with 13 features.\n",
      "Fitting estimator with 12 features.\n",
      "Fitting estimator with 11 features.\n",
      "Fitting estimator with 10 features.\n",
      "Fitting estimator with 9 features.\n"
     ]
    },
    {
     "data": {
      "text/plain": [
       "RFE(estimator=DecisionTreeClassifier(), n_features_to_select=8, verbose=3)"
      ]
     },
     "execution_count": 16,
     "metadata": {},
     "output_type": "execute_result"
    }
   ],
   "source": [
    "rfe = RFE(estimator=DecisionTreeClassifier(), n_features_to_select=8, verbose=3)\n",
    "rfe.fit(X, y)"
   ]
  },
  {
   "cell_type": "code",
   "execution_count": 17,
   "id": "150de8cf",
   "metadata": {},
   "outputs": [
    {
     "data": {
      "text/plain": [
       "array(['Perimeter', 'MajorAxisLength', 'MinorAxisLength', 'roundness',\n",
       "       'Compactness', 'ShapeFactor1', 'ShapeFactor3', 'ShapeFactor4'],\n",
       "      dtype=object)"
      ]
     },
     "execution_count": 17,
     "metadata": {},
     "output_type": "execute_result"
    }
   ],
   "source": [
    "rfe.get_feature_names_out()"
   ]
  },
  {
   "cell_type": "code",
   "execution_count": 18,
   "id": "56de84b9",
   "metadata": {},
   "outputs": [],
   "source": [
    "rfe_df = pd.DataFrame(\n",
    "    {\"features\": X.columns.to_list(), \"rank\": rfe.ranking_, \"selected\": rfe.support_}\n",
    ")"
   ]
  },
  {
   "cell_type": "code",
   "execution_count": 19,
   "id": "8014193b",
   "metadata": {},
   "outputs": [
    {
     "data": {
      "text/html": [
       "<div>\n",
       "<style scoped>\n",
       "    .dataframe tbody tr th:only-of-type {\n",
       "        vertical-align: middle;\n",
       "    }\n",
       "\n",
       "    .dataframe tbody tr th {\n",
       "        vertical-align: top;\n",
       "    }\n",
       "\n",
       "    .dataframe thead th {\n",
       "        text-align: right;\n",
       "    }\n",
       "</style>\n",
       "<table border=\"1\" class=\"dataframe\">\n",
       "  <thead>\n",
       "    <tr style=\"text-align: right;\">\n",
       "      <th></th>\n",
       "      <th>features</th>\n",
       "      <th>rank</th>\n",
       "      <th>selected</th>\n",
       "    </tr>\n",
       "  </thead>\n",
       "  <tbody>\n",
       "    <tr>\n",
       "      <th>0</th>\n",
       "      <td>Area</td>\n",
       "      <td>8</td>\n",
       "      <td>False</td>\n",
       "    </tr>\n",
       "    <tr>\n",
       "      <th>1</th>\n",
       "      <td>Perimeter</td>\n",
       "      <td>1</td>\n",
       "      <td>True</td>\n",
       "    </tr>\n",
       "    <tr>\n",
       "      <th>2</th>\n",
       "      <td>MajorAxisLength</td>\n",
       "      <td>1</td>\n",
       "      <td>True</td>\n",
       "    </tr>\n",
       "    <tr>\n",
       "      <th>3</th>\n",
       "      <td>MinorAxisLength</td>\n",
       "      <td>1</td>\n",
       "      <td>True</td>\n",
       "    </tr>\n",
       "    <tr>\n",
       "      <th>4</th>\n",
       "      <td>AspectRation</td>\n",
       "      <td>9</td>\n",
       "      <td>False</td>\n",
       "    </tr>\n",
       "    <tr>\n",
       "      <th>5</th>\n",
       "      <td>Eccentricity</td>\n",
       "      <td>7</td>\n",
       "      <td>False</td>\n",
       "    </tr>\n",
       "    <tr>\n",
       "      <th>6</th>\n",
       "      <td>ConvexArea</td>\n",
       "      <td>5</td>\n",
       "      <td>False</td>\n",
       "    </tr>\n",
       "    <tr>\n",
       "      <th>7</th>\n",
       "      <td>EquivDiameter</td>\n",
       "      <td>3</td>\n",
       "      <td>False</td>\n",
       "    </tr>\n",
       "    <tr>\n",
       "      <th>8</th>\n",
       "      <td>Extent</td>\n",
       "      <td>4</td>\n",
       "      <td>False</td>\n",
       "    </tr>\n",
       "    <tr>\n",
       "      <th>9</th>\n",
       "      <td>Solidity</td>\n",
       "      <td>2</td>\n",
       "      <td>False</td>\n",
       "    </tr>\n",
       "    <tr>\n",
       "      <th>10</th>\n",
       "      <td>roundness</td>\n",
       "      <td>1</td>\n",
       "      <td>True</td>\n",
       "    </tr>\n",
       "    <tr>\n",
       "      <th>11</th>\n",
       "      <td>Compactness</td>\n",
       "      <td>1</td>\n",
       "      <td>True</td>\n",
       "    </tr>\n",
       "    <tr>\n",
       "      <th>12</th>\n",
       "      <td>ShapeFactor1</td>\n",
       "      <td>1</td>\n",
       "      <td>True</td>\n",
       "    </tr>\n",
       "    <tr>\n",
       "      <th>13</th>\n",
       "      <td>ShapeFactor2</td>\n",
       "      <td>6</td>\n",
       "      <td>False</td>\n",
       "    </tr>\n",
       "    <tr>\n",
       "      <th>14</th>\n",
       "      <td>ShapeFactor3</td>\n",
       "      <td>1</td>\n",
       "      <td>True</td>\n",
       "    </tr>\n",
       "    <tr>\n",
       "      <th>15</th>\n",
       "      <td>ShapeFactor4</td>\n",
       "      <td>1</td>\n",
       "      <td>True</td>\n",
       "    </tr>\n",
       "  </tbody>\n",
       "</table>\n",
       "</div>"
      ],
      "text/plain": [
       "           features  rank  selected\n",
       "0              Area     8     False\n",
       "1         Perimeter     1      True\n",
       "2   MajorAxisLength     1      True\n",
       "3   MinorAxisLength     1      True\n",
       "4      AspectRation     9     False\n",
       "5      Eccentricity     7     False\n",
       "6        ConvexArea     5     False\n",
       "7     EquivDiameter     3     False\n",
       "8            Extent     4     False\n",
       "9          Solidity     2     False\n",
       "10        roundness     1      True\n",
       "11      Compactness     1      True\n",
       "12     ShapeFactor1     1      True\n",
       "13     ShapeFactor2     6     False\n",
       "14     ShapeFactor3     1      True\n",
       "15     ShapeFactor4     1      True"
      ]
     },
     "execution_count": 19,
     "metadata": {},
     "output_type": "execute_result"
    }
   ],
   "source": [
    "rfe_df"
   ]
  },
  {
   "cell_type": "markdown",
   "id": "b9b222ef",
   "metadata": {},
   "source": [
    "**Obvservation**\n",
    "\n",
    " - We can see that the ones which are marked as `True` are the features selected."
   ]
  },
  {
   "cell_type": "markdown",
   "id": "ec59b406",
   "metadata": {},
   "source": [
    "## Feature Selection using RandomForest\n",
    "\n",
    "Feature selection using Random forest comes under the category of Embedded methods. Embedded methods combine the qualities of filter and wrapper methods. They are implemented by algorithms that have their own built-in feature selection methods. Some of the benefits of embedded methods are :\n",
    "\n",
    "1. They are highly accurate.\n",
    "2. They generalize better.\n",
    "3. They are interpretable"
   ]
  },
  {
   "cell_type": "code",
   "execution_count": 20,
   "id": "f6047031",
   "metadata": {},
   "outputs": [],
   "source": [
    "X_train, X_test, y_train, y_test = train_test_split(\n",
    "    X, y, test_size=0.3, random_state=42, stratify=y\n",
    ")"
   ]
  },
  {
   "cell_type": "code",
   "execution_count": 21,
   "id": "64fe432d",
   "metadata": {
    "scrolled": false
   },
   "outputs": [
    {
     "data": {
      "text/plain": [
       "SelectFromModel(estimator=RandomForestClassifier(n_jobs=-1, verbose=1))"
      ]
     },
     "execution_count": 21,
     "metadata": {},
     "output_type": "execute_result"
    }
   ],
   "source": [
    "selector = SelectFromModel(\n",
    "    estimator=RandomForestClassifier(n_estimators=100, verbose=1, n_jobs=-1)\n",
    ")\n",
    "selector.fit(X_train, y_train)"
   ]
  },
  {
   "cell_type": "code",
   "execution_count": 22,
   "id": "99cf6bff",
   "metadata": {},
   "outputs": [
    {
     "name": "stdout",
     "output_type": "stream",
     "text": [
      "Selected features are: ['Perimeter' 'MajorAxisLength' 'MinorAxisLength' 'AspectRation'\n",
      " 'EquivDiameter' 'Compactness' 'ShapeFactor1' 'ShapeFactor3']\n"
     ]
    }
   ],
   "source": [
    "print(f\"Selected features are: {selector.get_feature_names_out()}\")"
   ]
  },
  {
   "cell_type": "markdown",
   "id": "5844a1a6",
   "metadata": {},
   "source": [
    "## Conclusion\n",
    "\n",
    "I now enlist all the methods used and the features selected"
   ]
  },
  {
   "cell_type": "code",
   "execution_count": 23,
   "id": "277c035f",
   "metadata": {},
   "outputs": [],
   "source": [
    "methods = [\n",
    "    \"Variance Thresholding (threshold = 1)\",\n",
    "    \"ANOVA F-test\",\n",
    "    \"Recursive Feature Elimination (estimator = DecisionTreeClassifier)\",\n",
    "    \"Using RandomForest feature importance\",\n",
    "]\n",
    "\n",
    "features = [\n",
    "    X_scaled_var_feats_df.columns.to_list(),\n",
    "    df.columns[anova_filter.get_support(indices=True)].to_list(),\n",
    "    rfe.get_feature_names_out().tolist(),\n",
    "    selector.get_feature_names_out().tolist(),\n",
    "]"
   ]
  },
  {
   "cell_type": "code",
   "execution_count": 24,
   "id": "a3d05dc2",
   "metadata": {},
   "outputs": [],
   "source": [
    "table = PrettyTable([\"Methods\", \"Features Selected\"])\n",
    "for m, f in zip(methods, features):\n",
    "    table.add_row([m, f])"
   ]
  },
  {
   "cell_type": "code",
   "execution_count": 25,
   "id": "b192246c",
   "metadata": {},
   "outputs": [
    {
     "data": {
      "text/html": [
       "<table>\n",
       "    <thead>\n",
       "        <tr>\n",
       "            <th>Methods</th>\n",
       "            <th>Features Selected</th>\n",
       "        </tr>\n",
       "    </thead>\n",
       "    <tbody>\n",
       "        <tr>\n",
       "            <td>Variance Thresholding (threshold = 1)</td>\n",
       "            <td>[&#x27;Area&#x27;, &#x27;Perimeter&#x27;, &#x27;MajorAxisLength&#x27;, &#x27;MinorAxisLength&#x27;, &#x27;AspectRation&#x27;, &#x27;Eccentricity&#x27;, &#x27;ConvexArea&#x27;, &#x27;EquivDiameter&#x27;, &#x27;Extent&#x27;, &#x27;roundness&#x27;, &#x27;Compactness&#x27;, &#x27;ShapeFactor1&#x27;, &#x27;ShapeFactor2&#x27;, &#x27;ShapeFactor3&#x27;]</td>\n",
       "        </tr>\n",
       "        <tr>\n",
       "            <td>ANOVA F-test</td>\n",
       "            <td>[&#x27;Area&#x27;, &#x27;Perimeter&#x27;, &#x27;MajorAxisLength&#x27;, &#x27;MinorAxisLength&#x27;, &#x27;ConvexArea&#x27;, &#x27;EquivDiameter&#x27;, &#x27;ShapeFactor1&#x27;, &#x27;ShapeFactor2&#x27;]</td>\n",
       "        </tr>\n",
       "        <tr>\n",
       "            <td>Recursive Feature Elimination (estimator = DecisionTreeClassifier)</td>\n",
       "            <td>[&#x27;Perimeter&#x27;, &#x27;MajorAxisLength&#x27;, &#x27;MinorAxisLength&#x27;, &#x27;roundness&#x27;, &#x27;Compactness&#x27;, &#x27;ShapeFactor1&#x27;, &#x27;ShapeFactor3&#x27;, &#x27;ShapeFactor4&#x27;]</td>\n",
       "        </tr>\n",
       "        <tr>\n",
       "            <td>Using RandomForest feature importance</td>\n",
       "            <td>[&#x27;Perimeter&#x27;, &#x27;MajorAxisLength&#x27;, &#x27;MinorAxisLength&#x27;, &#x27;AspectRation&#x27;, &#x27;EquivDiameter&#x27;, &#x27;Compactness&#x27;, &#x27;ShapeFactor1&#x27;, &#x27;ShapeFactor3&#x27;]</td>\n",
       "        </tr>\n",
       "    </tbody>\n",
       "</table>"
      ],
      "text/plain": [
       "+--------------------------------------------------------------------+------------------------------------------------------------------------------------------------------------------------------------------------------------------------------------------------------------------+\n",
       "|                              Methods                               |                                                                                                Features Selected                                                                                                 |\n",
       "+--------------------------------------------------------------------+------------------------------------------------------------------------------------------------------------------------------------------------------------------------------------------------------------------+\n",
       "|               Variance Thresholding (threshold = 1)                | ['Area', 'Perimeter', 'MajorAxisLength', 'MinorAxisLength', 'AspectRation', 'Eccentricity', 'ConvexArea', 'EquivDiameter', 'Extent', 'roundness', 'Compactness', 'ShapeFactor1', 'ShapeFactor2', 'ShapeFactor3'] |\n",
       "|                            ANOVA F-test                            |                                            ['Area', 'Perimeter', 'MajorAxisLength', 'MinorAxisLength', 'ConvexArea', 'EquivDiameter', 'ShapeFactor1', 'ShapeFactor2']                                            |\n",
       "| Recursive Feature Elimination (estimator = DecisionTreeClassifier) |                                         ['Perimeter', 'MajorAxisLength', 'MinorAxisLength', 'roundness', 'Compactness', 'ShapeFactor1', 'ShapeFactor3', 'ShapeFactor4']                                          |\n",
       "|               Using RandomForest feature importance                |                                       ['Perimeter', 'MajorAxisLength', 'MinorAxisLength', 'AspectRation', 'EquivDiameter', 'Compactness', 'ShapeFactor1', 'ShapeFactor3']                                        |\n",
       "+--------------------------------------------------------------------+------------------------------------------------------------------------------------------------------------------------------------------------------------------------------------------------------------------+"
      ]
     },
     "execution_count": 25,
     "metadata": {},
     "output_type": "execute_result"
    }
   ],
   "source": [
    "table"
   ]
  },
  {
   "cell_type": "markdown",
   "id": "552853b1",
   "metadata": {},
   "source": [
    "# Modelling"
   ]
  },
  {
   "cell_type": "code",
   "execution_count": 96,
   "id": "305f70b7",
   "metadata": {},
   "outputs": [],
   "source": [
    "class Modelling:\n",
    "    def __init__(self, X_train, y_train, X_test, y_test, model, class_names):\n",
    "        self._X_train, self._y_train, self._X_test, self._y_test = (\n",
    "            X_train,\n",
    "            y_train,\n",
    "            X_test,\n",
    "            y_test,\n",
    "        )\n",
    "        self._model = model\n",
    "        self._tuned_model = None\n",
    "        self.class_names = class_names\n",
    "        self.scorer = metrics.make_scorer(metrics.f1_score, average=\"weighted\")\n",
    "        self.preds = None\n",
    "        self.study = None\n",
    "        self.scaler = StandardScaler()\n",
    "        self.X_train_scaled = self.scaler.fit_transform(self._X_train)\n",
    "        self.X_test_scaled = self.scaler.transform(self._X_test)\n",
    "        \n",
    "        print(f\"Using model: {self._model.__class__.__name__}\")\n",
    "\n",
    "    def get_preds(self):\n",
    "        \"\"\"\n",
    "        This method calculates the predictions either\n",
    "        using base-line or tuned-model\n",
    "\n",
    "        The sequence of calling `perform_cross_validation()`\n",
    "        or `tune()` method before this depends on how it's\n",
    "        going to calculate the predsictions\n",
    "\n",
    "\n",
    "        Parameters\n",
    "        ----------\n",
    "\n",
    "        self.preds: the np.array of predictions\n",
    "\n",
    "        If called after `perform_cross_validation()` uses baseline model\n",
    "        If called after `tune()` used tuned_model\n",
    "\n",
    "        \"\"\"\n",
    "        if self._tuned_model is not None:\n",
    "            if self._tuned_model.__class__.__name__ == \"LinearSVC\":\n",
    "                self.preds = self._tuned_model.predict(self.X_test_scaled)\n",
    "            else:\n",
    "                self.preds = self._tuned_model.predict(self._X_test)\n",
    "        else:\n",
    "            if self._model.__class__.__name__ == \"LinearSVC\":\n",
    "                self.preds = self._model.predict(self.X_test_scaled)\n",
    "            else:\n",
    "                self.preds = self._model.predict(self._X_test)\n",
    "\n",
    "    def perform_cross_validation(self, save=True):\n",
    "        \"\"\"\n",
    "        Performs 10-fold cross-validation over the baseline model\n",
    "        \"\"\"\n",
    "        print(\"Performing 10-fold cross validation\")\n",
    "        \n",
    "        if self._model.__class__.__name__ == \"LinearSVC\":\n",
    "            results = cross_validate(\n",
    "                estimator=self._model,\n",
    "                X=self.X_train_scaled,\n",
    "                y=self._y_train,\n",
    "                scoring=self.scorer,\n",
    "                cv=StratifiedKFold(n_splits=10),\n",
    "                verbose=2,\n",
    "                n_jobs=-1,\n",
    "                return_estimator=True,\n",
    "            )\n",
    "            self._model = results[\"estimator\"][-1]\n",
    "        else:\n",
    "            results = cross_validate(\n",
    "                estimator=self._model,\n",
    "                X=self._X_train,\n",
    "                y=self._y_train,\n",
    "                scoring=self.scorer,\n",
    "                cv=StratifiedKFold(n_splits=10),\n",
    "                verbose=2,\n",
    "                n_jobs=-1,\n",
    "                return_estimator=True,\n",
    "            )\n",
    "            self._model = results[\"estimator\"][-1]\n",
    "\n",
    "        # Calling the get_preds() function after cross-val\n",
    "        # This should use base-line model for metrics and confusion-matrix\n",
    "        self.get_preds()\n",
    "        \n",
    "        if save:\n",
    "            dump(\n",
    "                self._model, \n",
    "                filename=f\"./ML_models/BaseLine-{self._model.__class__.__name__}.joblib\"\n",
    "            )\n",
    "            \n",
    "        \n",
    "\n",
    "    def plot_cf(self, save=True):\n",
    "        \"\"\"\n",
    "        Plots the confusion matrix\n",
    "\n",
    "        Depending on the state of tuned_model this function uses\n",
    "        tuned_model or base-line model for plotting the confusion matrix.\n",
    "        This behavior is controlled by `get_preds()` method.\n",
    "        The sequence of model-fitting and calling get_preds defines whether\n",
    "        the confusion matrix is made from base-line or tuned-model. Refer `get_preds()`\n",
    "\n",
    "        Parameters\n",
    "        ----------\n",
    "\n",
    "        save: default=True\n",
    "            To the save the cf as a .png file\n",
    "        \"\"\"\n",
    "\n",
    "        if self._tuned_model is not None:\n",
    "            cf = metrics.confusion_matrix(self._y_test, self.preds)\n",
    "        else:\n",
    "            cf = metrics.confusion_matrix(self._y_test, self.preds)\n",
    "\n",
    "        ax = sns.heatmap(\n",
    "            cf,\n",
    "            annot=True,\n",
    "            xticklabels=self.class_names,\n",
    "            yticklabels=self.class_names,\n",
    "            fmt=\"d\",\n",
    "            cmap=\"viridis_r\",\n",
    "        )\n",
    "\n",
    "        title = str()\n",
    "\n",
    "        if self._tuned_model is not None:\n",
    "            title = f\"Confusion Matrix for Tuned {self._model.__class__.__name__}\"\n",
    "            ax.set_title(title, fontsize=\"30\")\n",
    "        else:\n",
    "            title = f\"Confusion Matrix for Base-line {self._model.__class__.__name__}\"\n",
    "            ax.set_title(title, fontsize=\"30\")\n",
    "\n",
    "        ax.set_ylabel(\"Actual Class\", fontsize=\"20\")\n",
    "        _ = ax.set_xlabel(\"Predicted Class\", fontsize=\"20\")\n",
    "\n",
    "        if save:\n",
    "            fig = ax.get_figure()\n",
    "            fig.savefig(f\"./ML_results/{title}.png\", bbox_inches=\"tight\")\n",
    "            print(f\"Figure saved at ./ML_results/{title}.png\")\n",
    "\n",
    "    def get_metrics(self):\n",
    "        \"\"\"\n",
    "        This method prints the `classification_report_imbalanced()`\n",
    "\n",
    "        Depending on the state of tuned_model this function uses\n",
    "        tuned_model or base-line model calculating the metrics.\n",
    "        This behavior is controlled by `get_preds()` method.\n",
    "        The sequence of model-fitting and calling get_preds defines whether\n",
    "        the metrics are calculated from base-line or tuned-model. Refer `get_preds()`\n",
    "        \"\"\"\n",
    "\n",
    "        print(\n",
    "            classification_report_imbalanced(\n",
    "                self._y_test, self.preds, target_names=self.class_names\n",
    "            )\n",
    "        )\n",
    "\n",
    "    def objective_all_models(self, trial):\n",
    "\n",
    "        classifier_name = trial.suggest_categorical(\"clf_name\", [\"rf\", \"dt\", \"svm\"])\n",
    "\n",
    "        if classifier_name == \"rf\":\n",
    "            params = {\n",
    "                \"max_depth\": trial.suggest_categorical(\n",
    "                    \"rf_max_depth\", [10, 20, 30, 40]\n",
    "                ),\n",
    "                \"bootstrap\": trial.suggest_categorical(\"rf_bootstrap\", [True, False]),\n",
    "                \"max_features\": trial.suggest_categorical(\n",
    "                    \"rf_max_features\", [\"auto\", \"sqrt\"]\n",
    "                ),\n",
    "                \"class_weight\": trial.suggest_categorical(\n",
    "                    \"rf_class_weight\", [\"balanced\", \"balanced_subsample\"]\n",
    "                ),\n",
    "                \"n_jobs\": -1,\n",
    "            }\n",
    "            self._model = RandomForestClassifier(**params)\n",
    "\n",
    "            return np.mean(\n",
    "                cross_val_score(\n",
    "                    estimator=self._model,\n",
    "                    X=self._X_train,\n",
    "                    y=self._y_train,\n",
    "                    scoring=self.scorer,\n",
    "                    n_jobs=-1,\n",
    "                )\n",
    "            )\n",
    "\n",
    "        elif classifier_name == \"dt\":\n",
    "            params = {\n",
    "                \"max_depth\": trial.suggest_categorical(\n",
    "                    \"dt_max_depth\", [2, 3, 5, 10, 20]\n",
    "                ),\n",
    "                \"min_samples_leaf\": trial.suggest_categorical(\n",
    "                    \"dt_min_samples_leaf\", [5, 10, 20, 50, 100]\n",
    "                ),\n",
    "                \"max_features\": trial.suggest_categorical(\n",
    "                    \"dt_max_features\", [\"sqrt\", \"auto\", \"log2\"]\n",
    "                ),\n",
    "                \"criterion\": trial.suggest_categorical(\n",
    "                    \"dt_criterion\", [\"gini\", \"entropy\"]\n",
    "                ),\n",
    "                \"splitter\": trial.suggest_categorical(\n",
    "                    \"dt_splitter\", [\"best\", \"random\"]\n",
    "                ),\n",
    "            }\n",
    "            self._model = DecisionTreeClassifier(**params)\n",
    "\n",
    "            return np.mean(\n",
    "                cross_val_score(\n",
    "                    estimator=self._model,\n",
    "                    X=self._X_train,\n",
    "                    y=self._y_train,\n",
    "                    scoring=self.scorer,\n",
    "                    n_jobs=-1,\n",
    "                )\n",
    "            )\n",
    "\n",
    "        elif classifier_name == \"svm\":\n",
    "            params = {\n",
    "                \"C\": trial.suggest_float(\"svm_C\", 0.1, 3.0, log=True),\n",
    "                \"loss\": trial.suggest_categorical(\n",
    "                    \"svm_loss\", [\"hinge\", \"squared_hinge\"]\n",
    "                ),\n",
    "                \"class_weight\": \"balanced\",\n",
    "            }\n",
    "            self._model = LinearSVC()\n",
    "\n",
    "            return np.mean(\n",
    "                cross_val_score(\n",
    "                    estimator=self._model,\n",
    "                    X=self.X_train_scaled,\n",
    "                    y=self._y_train,\n",
    "                    scoring=self.scorer,\n",
    "                    n_jobs=-1,\n",
    "                )\n",
    "            )\n",
    "        \n",
    "    def clean_hparams(self, study):\n",
    "        d = {}\n",
    "        for k, v in study.best_params.items():\n",
    "            if k == \"clf_name\":\n",
    "                continue\n",
    "            idx = k.index(\"_\") + 1\n",
    "            k = k[idx:]\n",
    "            d[k] = v\n",
    "\n",
    "        return d\n",
    "    \n",
    "    def fit_tune(self, study, best_params):\n",
    "        if study.best_params[\"clf_name\"] == \"rf\":\n",
    "            self._tuned_model = RandomForestClassifier(**best_params).fit(\n",
    "                self._X_train, self._y_train\n",
    "            )\n",
    "        elif study.best_params[\"clf_name\"] == \"dt\":\n",
    "            self._tuned_model = DecisionTreeClassifier(**best_params).fit(\n",
    "                self._X_train, self._y_train\n",
    "            )\n",
    "        else:\n",
    "            self._tuned_model = LinearSVC(**best_params).fit(\n",
    "                self.X_train_scaled, self._y_train\n",
    "            )\n",
    "\n",
    "    def tune(self, n_trials=50):\n",
    "        \n",
    "        study = optuna.create_study(\n",
    "            direction=\"maximize\", \n",
    "            study_name=\"DryBeanStudy\",\n",
    "            storage='sqlite:///DryBean.db',\n",
    "            load_if_exists=True\n",
    "        )\n",
    "            \n",
    "        # Optimize the study\n",
    "        study.optimize(self.objective_all_models, n_trials=n_trials)\n",
    "\n",
    "        best_params = self.clean_hparams(study=study)\n",
    "\n",
    "        self.fit_tune(\n",
    "            study=study, \n",
    "            best_params=best_params\n",
    "        )\n",
    "\n",
    "        # Calling the get_preds() function after cross-val\n",
    "        # This should update Tuned model for metrics and confusion-matrix\n",
    "        self.get_preds()\n",
    "        \n",
    "        # Saving the tuned model\n",
    "        check_is_fitted(estimator=self._tuned_model)\n",
    "        \n",
    "        dump(\n",
    "            self._model, \n",
    "            filename=f\"./ML_models/Tuned-{self._tuned_model.__class__.__name__}.joblib\"\n",
    "        )\n",
    "        \n",
    "        return study"
   ]
  },
  {
   "cell_type": "markdown",
   "id": "8e548c6c",
   "metadata": {},
   "source": [
    "## Anova Features"
   ]
  },
  {
   "cell_type": "markdown",
   "id": "6cc26ac3",
   "metadata": {},
   "source": [
    "Let's start with features selected using the ANOVA F-test\n",
    "\n",
    "Our metric of choice is going to be `Weighted F1-score`. \n",
    "Here's a very good explanation for it: [link](https://stats.stackexchange.com/questions/463224/which-performance-metrics-for-highly-imbalanced-multiclass-dataset) "
   ]
  },
  {
   "cell_type": "code",
   "execution_count": 97,
   "id": "6472d1fd",
   "metadata": {},
   "outputs": [],
   "source": [
    "feats = anova_filter.get_feature_names_out().tolist()"
   ]
  },
  {
   "cell_type": "code",
   "execution_count": 98,
   "id": "7331561c",
   "metadata": {},
   "outputs": [
    {
     "data": {
      "text/html": [
       "<div>\n",
       "<style scoped>\n",
       "    .dataframe tbody tr th:only-of-type {\n",
       "        vertical-align: middle;\n",
       "    }\n",
       "\n",
       "    .dataframe tbody tr th {\n",
       "        vertical-align: top;\n",
       "    }\n",
       "\n",
       "    .dataframe thead th {\n",
       "        text-align: right;\n",
       "    }\n",
       "</style>\n",
       "<table border=\"1\" class=\"dataframe\">\n",
       "  <thead>\n",
       "    <tr style=\"text-align: right;\">\n",
       "      <th></th>\n",
       "      <th>Area</th>\n",
       "      <th>Perimeter</th>\n",
       "      <th>MajorAxisLength</th>\n",
       "      <th>MinorAxisLength</th>\n",
       "      <th>ConvexArea</th>\n",
       "      <th>EquivDiameter</th>\n",
       "      <th>ShapeFactor1</th>\n",
       "      <th>ShapeFactor2</th>\n",
       "    </tr>\n",
       "  </thead>\n",
       "  <tbody>\n",
       "    <tr>\n",
       "      <th>0</th>\n",
       "      <td>42339</td>\n",
       "      <td>741.226</td>\n",
       "      <td>260.199330</td>\n",
       "      <td>207.306394</td>\n",
       "      <td>42676</td>\n",
       "      <td>232.180294</td>\n",
       "      <td>0.006146</td>\n",
       "      <td>0.002403</td>\n",
       "    </tr>\n",
       "    <tr>\n",
       "      <th>1</th>\n",
       "      <td>68247</td>\n",
       "      <td>1088.754</td>\n",
       "      <td>370.368146</td>\n",
       "      <td>237.863792</td>\n",
       "      <td>70172</td>\n",
       "      <td>294.779204</td>\n",
       "      <td>0.005427</td>\n",
       "      <td>0.001343</td>\n",
       "    </tr>\n",
       "    <tr>\n",
       "      <th>2</th>\n",
       "      <td>37856</td>\n",
       "      <td>708.716</td>\n",
       "      <td>248.430330</td>\n",
       "      <td>194.360324</td>\n",
       "      <td>38232</td>\n",
       "      <td>219.544429</td>\n",
       "      <td>0.006563</td>\n",
       "      <td>0.002469</td>\n",
       "    </tr>\n",
       "    <tr>\n",
       "      <th>3</th>\n",
       "      <td>33143</td>\n",
       "      <td>648.385</td>\n",
       "      <td>222.526309</td>\n",
       "      <td>189.737379</td>\n",
       "      <td>33377</td>\n",
       "      <td>205.423899</td>\n",
       "      <td>0.006714</td>\n",
       "      <td>0.003008</td>\n",
       "    </tr>\n",
       "    <tr>\n",
       "      <th>4</th>\n",
       "      <td>29925</td>\n",
       "      <td>647.570</td>\n",
       "      <td>237.714031</td>\n",
       "      <td>161.004849</td>\n",
       "      <td>30321</td>\n",
       "      <td>195.196551</td>\n",
       "      <td>0.007944</td>\n",
       "      <td>0.002228</td>\n",
       "    </tr>\n",
       "  </tbody>\n",
       "</table>\n",
       "</div>"
      ],
      "text/plain": [
       "    Area  Perimeter  MajorAxisLength  MinorAxisLength  ConvexArea  \\\n",
       "0  42339    741.226       260.199330       207.306394       42676   \n",
       "1  68247   1088.754       370.368146       237.863792       70172   \n",
       "2  37856    708.716       248.430330       194.360324       38232   \n",
       "3  33143    648.385       222.526309       189.737379       33377   \n",
       "4  29925    647.570       237.714031       161.004849       30321   \n",
       "\n",
       "   EquivDiameter  ShapeFactor1  ShapeFactor2  \n",
       "0     232.180294      0.006146      0.002403  \n",
       "1     294.779204      0.005427      0.001343  \n",
       "2     219.544429      0.006563      0.002469  \n",
       "3     205.423899      0.006714      0.003008  \n",
       "4     195.196551      0.007944      0.002228  "
      ]
     },
     "execution_count": 98,
     "metadata": {},
     "output_type": "execute_result"
    }
   ],
   "source": [
    "X[feats].head()"
   ]
  },
  {
   "cell_type": "code",
   "execution_count": 99,
   "id": "49534472",
   "metadata": {},
   "outputs": [],
   "source": [
    "X_ = X[feats]\n",
    "y_ = y\n",
    "\n",
    "X_train_, X_test_, y_train_, y_test_ = train_test_split(\n",
    "    X_, y_, test_size=0.3, stratify=y_, random_state=42\n",
    ")"
   ]
  },
  {
   "cell_type": "code",
   "execution_count": 100,
   "id": "022c1c39",
   "metadata": {},
   "outputs": [],
   "source": [
    "classes = np.unique(df.Class.values)"
   ]
  },
  {
   "cell_type": "markdown",
   "id": "f38fc87c",
   "metadata": {},
   "source": [
    "### RandomForest"
   ]
  },
  {
   "cell_type": "code",
   "execution_count": 101,
   "id": "2fad79f3",
   "metadata": {},
   "outputs": [
    {
     "name": "stdout",
     "output_type": "stream",
     "text": [
      "Using model: RandomForestClassifier\n"
     ]
    }
   ],
   "source": [
    "model = Modelling(\n",
    "    X_train=X_train_,\n",
    "    y_train=y_train_,\n",
    "    X_test=X_test_,\n",
    "    y_test=y_test_,\n",
    "    model=RandomForestClassifier(n_jobs=-1, class_weight=\"balanced\"),\n",
    "    class_names=classes,\n",
    ")"
   ]
  },
  {
   "cell_type": "code",
   "execution_count": 102,
   "id": "c29c48ff",
   "metadata": {},
   "outputs": [
    {
     "name": "stdout",
     "output_type": "stream",
     "text": [
      "Performing 10-fold cross validation\n"
     ]
    },
    {
     "name": "stderr",
     "output_type": "stream",
     "text": [
      "[Parallel(n_jobs=-1)]: Using backend LokyBackend with 8 concurrent workers.\n",
      "[Parallel(n_jobs=-1)]: Done   7 out of  10 | elapsed:    1.7s remaining:    0.7s\n",
      "[Parallel(n_jobs=-1)]: Done  10 out of  10 | elapsed:    1.9s finished\n"
     ]
    }
   ],
   "source": [
    "model.perform_cross_validation()"
   ]
  },
  {
   "cell_type": "code",
   "execution_count": 103,
   "id": "86043d9e",
   "metadata": {},
   "outputs": [
    {
     "name": "stdout",
     "output_type": "stream",
     "text": [
      "                   pre       rec       spe        f1       geo       iba       sup\n",
      "\n",
      "   BARBUNYA       0.90      0.87      0.99      0.88      0.93      0.85       397\n",
      "     BOMBAY       1.00      1.00      1.00      1.00      1.00      1.00       157\n",
      "       CALI       0.91      0.91      0.99      0.91      0.95      0.89       489\n",
      "   DERMASON       0.91      0.91      0.97      0.91      0.94      0.87      1064\n",
      "      HOROZ       0.94      0.93      0.99      0.94      0.96      0.92       578\n",
      "      SEKER       0.93      0.93      0.99      0.93      0.96      0.91       608\n",
      "       SIRA       0.84      0.86      0.96      0.85      0.91      0.82       791\n",
      "\n",
      "avg / total       0.91      0.91      0.98      0.91      0.94      0.88      4084\n",
      "\n"
     ]
    }
   ],
   "source": [
    "model.get_metrics()"
   ]
  },
  {
   "cell_type": "code",
   "execution_count": 104,
   "id": "bd224909",
   "metadata": {},
   "outputs": [
    {
     "name": "stdout",
     "output_type": "stream",
     "text": [
      "Figure saved at ./ML_results/Confusion Matrix for Base-line RandomForestClassifier.png\n"
     ]
    },
    {
     "data": {
      "image/png": "[encoded data removed]",
      "text/plain": [
       "<Figure size 720x576 with 2 Axes>"
      ]
     },
     "metadata": {},
     "output_type": "display_data"
    }
   ],
   "source": [
    "model.plot_cf()"
   ]
  },
  {
   "cell_type": "markdown",
   "id": "2d1659a3",
   "metadata": {},
   "source": [
    "### Decision tree modelling"
   ]
  },
  {
   "cell_type": "code",
   "execution_count": 108,
   "id": "e221af21",
   "metadata": {
    "scrolled": false
   },
   "outputs": [
    {
     "name": "stdout",
     "output_type": "stream",
     "text": [
      "Using model: DecisionTreeClassifier\n"
     ]
    }
   ],
   "source": [
    "dt_model = Modelling(\n",
    "    X_train=X_train_,\n",
    "    y_train=y_train_,\n",
    "    X_test=X_test_,\n",
    "    y_test=y_test_,\n",
    "    model=DecisionTreeClassifier(class_weight=\"balanced\"),\n",
    "    class_names=classes,\n",
    ")"
   ]
  },
  {
   "cell_type": "code",
   "execution_count": 109,
   "id": "e3364110",
   "metadata": {},
   "outputs": [
    {
     "name": "stdout",
     "output_type": "stream",
     "text": [
      "Performing 10-fold cross validation\n"
     ]
    },
    {
     "name": "stderr",
     "output_type": "stream",
     "text": [
      "[Parallel(n_jobs=-1)]: Using backend LokyBackend with 8 concurrent workers.\n",
      "[Parallel(n_jobs=-1)]: Done   7 out of  10 | elapsed:    0.0s remaining:    0.0s\n",
      "[Parallel(n_jobs=-1)]: Done  10 out of  10 | elapsed:    0.2s finished\n"
     ]
    }
   ],
   "source": [
    "dt_model.perform_cross_validation()"
   ]
  },
  {
   "cell_type": "code",
   "execution_count": 110,
   "id": "d5b33643",
   "metadata": {},
   "outputs": [
    {
     "name": "stdout",
     "output_type": "stream",
     "text": [
      "                   pre       rec       spe        f1       geo       iba       sup\n",
      "\n",
      "   BARBUNYA       0.81      0.84      0.98      0.82      0.91      0.81       397\n",
      "     BOMBAY       1.00      1.00      1.00      1.00      1.00      1.00       157\n",
      "       CALI       0.87      0.86      0.98      0.86      0.92      0.83       489\n",
      "   DERMASON       0.89      0.87      0.96      0.88      0.92      0.83      1064\n",
      "      HOROZ       0.92      0.92      0.99      0.92      0.95      0.91       578\n",
      "      SEKER       0.91      0.92      0.98      0.91      0.95      0.90       608\n",
      "       SIRA       0.80      0.80      0.95      0.80      0.87      0.75       791\n",
      "\n",
      "avg / total       0.87      0.87      0.97      0.87      0.92      0.84      4084\n",
      "\n"
     ]
    }
   ],
   "source": [
    "dt_model.get_metrics()"
   ]
  },
  {
   "cell_type": "code",
   "execution_count": 111,
   "id": "ba349836",
   "metadata": {},
   "outputs": [
    {
     "name": "stdout",
     "output_type": "stream",
     "text": [
      "Figure saved at ./ML_results/Confusion Matrix for Base-line DecisionTreeClassifier.png\n"
     ]
    },
    {
     "data": {
      "image/png": "[encoded data removed]",
      "text/plain": [
       "<Figure size 720x576 with 2 Axes>"
      ]
     },
     "metadata": {},
     "output_type": "display_data"
    }
   ],
   "source": [
    "dt_model.plot_cf()"
   ]
  },
  {
   "cell_type": "markdown",
   "id": "fc80aaef",
   "metadata": {},
   "source": [
    "### LinearSVC"
   ]
  },
  {
   "cell_type": "code",
   "execution_count": 112,
   "id": "a2922ea4",
   "metadata": {},
   "outputs": [
    {
     "name": "stdout",
     "output_type": "stream",
     "text": [
      "Using model: LinearSVC\n"
     ]
    }
   ],
   "source": [
    "svm_model = Modelling(\n",
    "    X_train=X_train_,\n",
    "    y_train=y_train_,\n",
    "    X_test=X_test_,\n",
    "    y_test=y_test_,\n",
    "    model=LinearSVC(max_iter=5000),\n",
    "    class_names=classes,\n",
    ")"
   ]
  },
  {
   "cell_type": "code",
   "execution_count": 113,
   "id": "bba1c27a",
   "metadata": {},
   "outputs": [
    {
     "name": "stdout",
     "output_type": "stream",
     "text": [
      "Performing 10-fold cross validation\n"
     ]
    },
    {
     "name": "stderr",
     "output_type": "stream",
     "text": [
      "[Parallel(n_jobs=-1)]: Using backend LokyBackend with 8 concurrent workers.\n",
      "[Parallel(n_jobs=-1)]: Done   7 out of  10 | elapsed:    0.3s remaining:    0.1s\n",
      "[Parallel(n_jobs=-1)]: Done  10 out of  10 | elapsed:    0.6s finished\n"
     ]
    }
   ],
   "source": [
    "svm_model.perform_cross_validation()"
   ]
  },
  {
   "cell_type": "code",
   "execution_count": 114,
   "id": "a468dbd0",
   "metadata": {},
   "outputs": [
    {
     "name": "stdout",
     "output_type": "stream",
     "text": [
      "                   pre       rec       spe        f1       geo       iba       sup\n",
      "\n",
      "   BARBUNYA       0.95      0.85      1.00      0.90      0.92      0.83       397\n",
      "     BOMBAY       1.00      1.00      1.00      1.00      1.00      1.00       157\n",
      "       CALI       0.90      0.94      0.99      0.92      0.97      0.93       489\n",
      "   DERMASON       0.92      0.89      0.97      0.90      0.93      0.86      1064\n",
      "      HOROZ       0.95      0.94      0.99      0.94      0.96      0.93       578\n",
      "      SEKER       0.95      0.94      0.99      0.94      0.96      0.93       608\n",
      "       SIRA       0.82      0.90      0.95      0.86      0.93      0.85       791\n",
      "\n",
      "avg / total       0.91      0.91      0.98      0.91      0.94      0.89      4084\n",
      "\n"
     ]
    }
   ],
   "source": [
    "svm_model.get_metrics()"
   ]
  },
  {
   "cell_type": "code",
   "execution_count": 115,
   "id": "3b404ed5",
   "metadata": {},
   "outputs": [
    {
     "name": "stdout",
     "output_type": "stream",
     "text": [
      "Figure saved at ./ML_results/Confusion Matrix for Base-line LinearSVC.png\n"
     ]
    },
    {
     "data": {
      "image/png": "[encoded data removed]",
      "text/plain": [
       "<Figure size 720x576 with 2 Axes>"
      ]
     },
     "metadata": {},
     "output_type": "display_data"
    }
   ],
   "source": [
    "svm_model.plot_cf()"
   ]
  },
  {
   "cell_type": "markdown",
   "id": "491b02a8",
   "metadata": {},
   "source": [
    "## Hyperparameter tuning using Optuna"
   ]
  },
  {
   "cell_type": "code",
   "execution_count": 116,
   "id": "8af17c48",
   "metadata": {
    "scrolled": false
   },
   "outputs": [
    {
     "name": "stderr",
     "output_type": "stream",
     "text": [
      "\u001b[32m[I 2022-02-06 23:12:03,306]\u001b[0m Using an existing study with name 'DryBeanStudy' instead of creating a new one.\u001b[0m\n",
      "\u001b[32m[I 2022-02-06 23:12:03,706]\u001b[0m Trial 195 finished with value: 0.9089926640196608 and parameters: {'clf_name': 'svm', 'svm_C': 0.7096800634217435, 'svm_loss': 'hinge'}. Best is trial 2 with value: 0.9089926640196608.\u001b[0m\n",
      "\u001b[32m[I 2022-02-06 23:12:04,056]\u001b[0m Trial 196 finished with value: 0.9089926640196608 and parameters: {'clf_name': 'svm', 'svm_C': 1.9387380793607198, 'svm_loss': 'hinge'}. Best is trial 2 with value: 0.9089926640196608.\u001b[0m\n",
      "\u001b[32m[I 2022-02-06 23:12:04,407]\u001b[0m Trial 197 finished with value: 0.9089926640196608 and parameters: {'clf_name': 'svm', 'svm_C': 0.10460279469298202, 'svm_loss': 'hinge'}. Best is trial 2 with value: 0.9089926640196608.\u001b[0m\n",
      "\u001b[32m[I 2022-02-06 23:12:04,750]\u001b[0m Trial 198 finished with value: 0.9089926640196608 and parameters: {'clf_name': 'svm', 'svm_C': 1.1156282311920909, 'svm_loss': 'hinge'}. Best is trial 2 with value: 0.9089926640196608.\u001b[0m\n",
      "\u001b[32m[I 2022-02-06 23:12:05,045]\u001b[0m Trial 199 finished with value: 0.6976422269142061 and parameters: {'clf_name': 'dt', 'dt_max_depth': 3, 'dt_min_samples_leaf': 10, 'dt_max_features': 'auto', 'dt_criterion': 'entropy', 'dt_splitter': 'best'}. Best is trial 2 with value: 0.9089926640196608.\u001b[0m\n",
      "\u001b[32m[I 2022-02-06 23:12:05,375]\u001b[0m Trial 200 finished with value: 0.9089926640196608 and parameters: {'clf_name': 'svm', 'svm_C': 1.1656231537682453, 'svm_loss': 'hinge'}. Best is trial 2 with value: 0.9089926640196608.\u001b[0m\n",
      "\u001b[32m[I 2022-02-06 23:12:05,761]\u001b[0m Trial 201 finished with value: 0.9089926640196608 and parameters: {'clf_name': 'svm', 'svm_C': 1.2857919718891107, 'svm_loss': 'hinge'}. Best is trial 2 with value: 0.9089926640196608.\u001b[0m\n",
      "\u001b[32m[I 2022-02-06 23:12:06,125]\u001b[0m Trial 202 finished with value: 0.9089926640196608 and parameters: {'clf_name': 'svm', 'svm_C': 1.033666481274391, 'svm_loss': 'hinge'}. Best is trial 2 with value: 0.9089926640196608.\u001b[0m\n",
      "\u001b[32m[I 2022-02-06 23:12:06,489]\u001b[0m Trial 203 finished with value: 0.9089926640196608 and parameters: {'clf_name': 'svm', 'svm_C': 2.556551880407903, 'svm_loss': 'hinge'}. Best is trial 2 with value: 0.9089926640196608.\u001b[0m\n",
      "\u001b[32m[I 2022-02-06 23:12:06,904]\u001b[0m Trial 204 finished with value: 0.9089926640196608 and parameters: {'clf_name': 'svm', 'svm_C': 0.23547769737392768, 'svm_loss': 'hinge'}. Best is trial 2 with value: 0.9089926640196608.\u001b[0m\n",
      "\u001b[32m[I 2022-02-06 23:12:07,258]\u001b[0m Trial 205 finished with value: 0.9089926640196608 and parameters: {'clf_name': 'svm', 'svm_C': 0.2118027684274833, 'svm_loss': 'hinge'}. Best is trial 2 with value: 0.9089926640196608.\u001b[0m\n",
      "\u001b[32m[I 2022-02-06 23:12:07,649]\u001b[0m Trial 206 finished with value: 0.9089926640196608 and parameters: {'clf_name': 'svm', 'svm_C': 0.23107938323198896, 'svm_loss': 'hinge'}. Best is trial 2 with value: 0.9089926640196608.\u001b[0m\n",
      "\u001b[32m[I 2022-02-06 23:12:08,012]\u001b[0m Trial 207 finished with value: 0.9089926640196608 and parameters: {'clf_name': 'svm', 'svm_C': 0.19592624683330445, 'svm_loss': 'hinge'}. Best is trial 2 with value: 0.9089926640196608.\u001b[0m\n",
      "\u001b[32m[I 2022-02-06 23:12:08,398]\u001b[0m Trial 208 finished with value: 0.9089926640196608 and parameters: {'clf_name': 'svm', 'svm_C': 0.2505501943433895, 'svm_loss': 'hinge'}. Best is trial 2 with value: 0.9089926640196608.\u001b[0m\n",
      "\u001b[32m[I 2022-02-06 23:12:08,775]\u001b[0m Trial 209 finished with value: 0.9089926640196608 and parameters: {'clf_name': 'svm', 'svm_C': 0.25062425431141644, 'svm_loss': 'hinge'}. Best is trial 2 with value: 0.9089926640196608.\u001b[0m\n",
      "\u001b[32m[I 2022-02-06 23:12:09,125]\u001b[0m Trial 210 finished with value: 0.9089926640196608 and parameters: {'clf_name': 'svm', 'svm_C': 0.3297821828826599, 'svm_loss': 'hinge'}. Best is trial 2 with value: 0.9089926640196608.\u001b[0m\n",
      "\u001b[32m[I 2022-02-06 23:12:09,491]\u001b[0m Trial 211 finished with value: 0.9089926640196608 and parameters: {'clf_name': 'svm', 'svm_C': 0.28446923830027804, 'svm_loss': 'hinge'}. Best is trial 2 with value: 0.9089926640196608.\u001b[0m\n",
      "\u001b[32m[I 2022-02-06 23:12:09,902]\u001b[0m Trial 212 finished with value: 0.9089926640196608 and parameters: {'clf_name': 'svm', 'svm_C': 0.22036885863805003, 'svm_loss': 'hinge'}. Best is trial 2 with value: 0.9089926640196608.\u001b[0m\n",
      "\u001b[32m[I 2022-02-06 23:12:10,256]\u001b[0m Trial 213 finished with value: 0.9089926640196608 and parameters: {'clf_name': 'svm', 'svm_C': 0.47201867602498904, 'svm_loss': 'hinge'}. Best is trial 2 with value: 0.9089926640196608.\u001b[0m\n",
      "\u001b[32m[I 2022-02-06 23:12:10,598]\u001b[0m Trial 214 finished with value: 0.9089926640196608 and parameters: {'clf_name': 'svm', 'svm_C': 0.3427524344856847, 'svm_loss': 'hinge'}. Best is trial 2 with value: 0.9089926640196608.\u001b[0m\n",
      "\u001b[32m[I 2022-02-06 23:12:10,955]\u001b[0m Trial 215 finished with value: 0.9089926640196608 and parameters: {'clf_name': 'svm', 'svm_C': 0.4940741494660544, 'svm_loss': 'hinge'}. Best is trial 2 with value: 0.9089926640196608.\u001b[0m\n",
      "\u001b[32m[I 2022-02-06 23:12:11,306]\u001b[0m Trial 216 finished with value: 0.9089926640196608 and parameters: {'clf_name': 'svm', 'svm_C': 0.5728570723375331, 'svm_loss': 'squared_hinge'}. Best is trial 2 with value: 0.9089926640196608.\u001b[0m\n",
      "\u001b[32m[I 2022-02-06 23:12:11,656]\u001b[0m Trial 217 finished with value: 0.9089926640196608 and parameters: {'clf_name': 'svm', 'svm_C': 0.5763733705465071, 'svm_loss': 'hinge'}. Best is trial 2 with value: 0.9089926640196608.\u001b[0m\n",
      "\u001b[32m[I 2022-02-06 23:12:11,990]\u001b[0m Trial 218 finished with value: 0.9089926640196608 and parameters: {'clf_name': 'svm', 'svm_C': 0.5066151890009224, 'svm_loss': 'hinge'}. Best is trial 2 with value: 0.9089926640196608.\u001b[0m\n",
      "\u001b[32m[I 2022-02-06 23:12:12,342]\u001b[0m Trial 219 finished with value: 0.9089926640196608 and parameters: {'clf_name': 'svm', 'svm_C': 0.11987717657769369, 'svm_loss': 'hinge'}. Best is trial 2 with value: 0.9089926640196608.\u001b[0m\n",
      "\u001b[32m[I 2022-02-06 23:12:12,688]\u001b[0m Trial 220 finished with value: 0.9029614753131516 and parameters: {'clf_name': 'rf', 'rf_max_depth': 10, 'rf_bootstrap': True, 'rf_max_features': 'auto', 'rf_class_weight': 'balanced'}. Best is trial 2 with value: 0.9089926640196608.\u001b[0m\n",
      "\u001b[32m[I 2022-02-06 23:12:13,152]\u001b[0m Trial 221 finished with value: 0.9089926640196608 and parameters: {'clf_name': 'svm', 'svm_C': 1.866635832580328, 'svm_loss': 'hinge'}. Best is trial 2 with value: 0.9089926640196608.\u001b[0m\n",
      "\u001b[32m[I 2022-02-06 23:12:13,488]\u001b[0m Trial 222 finished with value: 0.9089926640196608 and parameters: {'clf_name': 'svm', 'svm_C': 1.7500403393384945, 'svm_loss': 'hinge'}. Best is trial 2 with value: 0.9089926640196608.\u001b[0m\n",
      "\u001b[32m[I 2022-02-06 23:12:13,901]\u001b[0m Trial 223 finished with value: 0.9089926640196608 and parameters: {'clf_name': 'svm', 'svm_C': 0.27798471768497013, 'svm_loss': 'squared_hinge'}. Best is trial 2 with value: 0.9089926640196608.\u001b[0m\n",
      "\u001b[32m[I 2022-02-06 23:12:14,241]\u001b[0m Trial 224 finished with value: 0.9089926640196608 and parameters: {'clf_name': 'svm', 'svm_C': 0.4185917857447788, 'svm_loss': 'squared_hinge'}. Best is trial 2 with value: 0.9089926640196608.\u001b[0m\n",
      "\u001b[32m[I 2022-02-06 23:12:14,638]\u001b[0m Trial 225 finished with value: 0.9089926640196608 and parameters: {'clf_name': 'svm', 'svm_C': 0.46086231661767196, 'svm_loss': 'squared_hinge'}. Best is trial 2 with value: 0.9089926640196608.\u001b[0m\n",
      "\u001b[32m[I 2022-02-06 23:12:15,021]\u001b[0m Trial 226 finished with value: 0.9089926640196608 and parameters: {'clf_name': 'svm', 'svm_C': 0.3014787095164731, 'svm_loss': 'squared_hinge'}. Best is trial 2 with value: 0.9089926640196608.\u001b[0m\n",
      "\u001b[32m[I 2022-02-06 23:12:15,386]\u001b[0m Trial 227 finished with value: 0.9089926640196608 and parameters: {'clf_name': 'svm', 'svm_C': 0.44158897100119077, 'svm_loss': 'squared_hinge'}. Best is trial 2 with value: 0.9089926640196608.\u001b[0m\n",
      "\u001b[32m[I 2022-02-06 23:12:15,765]\u001b[0m Trial 228 finished with value: 0.9089926640196608 and parameters: {'clf_name': 'svm', 'svm_C': 0.45202496807772397, 'svm_loss': 'squared_hinge'}. Best is trial 2 with value: 0.9089926640196608.\u001b[0m\n",
      "\u001b[32m[I 2022-02-06 23:12:16,131]\u001b[0m Trial 229 finished with value: 0.9089926640196608 and parameters: {'clf_name': 'svm', 'svm_C': 0.4322258807079853, 'svm_loss': 'squared_hinge'}. Best is trial 2 with value: 0.9089926640196608.\u001b[0m\n"
     ]
    },
    {
     "name": "stderr",
     "output_type": "stream",
     "text": [
      "\u001b[32m[I 2022-02-06 23:12:16,519]\u001b[0m Trial 230 finished with value: 0.9089926640196608 and parameters: {'clf_name': 'svm', 'svm_C': 0.3982196860719412, 'svm_loss': 'squared_hinge'}. Best is trial 2 with value: 0.9089926640196608.\u001b[0m\n",
      "\u001b[32m[I 2022-02-06 23:12:16,884]\u001b[0m Trial 231 finished with value: 0.9089926640196608 and parameters: {'clf_name': 'svm', 'svm_C': 0.20173020033152989, 'svm_loss': 'squared_hinge'}. Best is trial 2 with value: 0.9089926640196608.\u001b[0m\n",
      "\u001b[32m[I 2022-02-06 23:12:17,251]\u001b[0m Trial 232 finished with value: 0.9089926640196608 and parameters: {'clf_name': 'svm', 'svm_C': 0.18711211617000634, 'svm_loss': 'squared_hinge'}. Best is trial 2 with value: 0.9089926640196608.\u001b[0m\n",
      "\u001b[32m[I 2022-02-06 23:12:17,603]\u001b[0m Trial 233 finished with value: 0.9089926640196608 and parameters: {'clf_name': 'svm', 'svm_C': 0.4163818970469482, 'svm_loss': 'squared_hinge'}. Best is trial 2 with value: 0.9089926640196608.\u001b[0m\n",
      "\u001b[32m[I 2022-02-06 23:12:17,985]\u001b[0m Trial 234 finished with value: 0.9089926640196608 and parameters: {'clf_name': 'svm', 'svm_C': 0.3753632927370303, 'svm_loss': 'squared_hinge'}. Best is trial 2 with value: 0.9089926640196608.\u001b[0m\n",
      "\u001b[32m[I 2022-02-06 23:12:18,369]\u001b[0m Trial 235 finished with value: 0.9089926640196608 and parameters: {'clf_name': 'svm', 'svm_C': 0.5274050046163156, 'svm_loss': 'squared_hinge'}. Best is trial 2 with value: 0.9089926640196608.\u001b[0m\n",
      "\u001b[32m[I 2022-02-06 23:12:18,717]\u001b[0m Trial 236 finished with value: 0.9089926640196608 and parameters: {'clf_name': 'svm', 'svm_C': 0.3859378545324712, 'svm_loss': 'squared_hinge'}. Best is trial 2 with value: 0.9089926640196608.\u001b[0m\n",
      "\u001b[32m[I 2022-02-06 23:12:19,049]\u001b[0m Trial 237 finished with value: 0.9089926640196608 and parameters: {'clf_name': 'svm', 'svm_C': 0.5582129444847865, 'svm_loss': 'squared_hinge'}. Best is trial 2 with value: 0.9089926640196608.\u001b[0m\n",
      "\u001b[32m[I 2022-02-06 23:12:19,386]\u001b[0m Trial 238 finished with value: 0.9089926640196608 and parameters: {'clf_name': 'svm', 'svm_C': 0.3102892325540572, 'svm_loss': 'squared_hinge'}. Best is trial 2 with value: 0.9089926640196608.\u001b[0m\n",
      "\u001b[32m[I 2022-02-06 23:12:19,734]\u001b[0m Trial 239 finished with value: 0.9089926640196608 and parameters: {'clf_name': 'svm', 'svm_C': 0.6471321279713925, 'svm_loss': 'squared_hinge'}. Best is trial 2 with value: 0.9089926640196608.\u001b[0m\n",
      "\u001b[32m[I 2022-02-06 23:12:20,117]\u001b[0m Trial 240 finished with value: 0.9089926640196608 and parameters: {'clf_name': 'svm', 'svm_C': 0.537564318749059, 'svm_loss': 'squared_hinge'}. Best is trial 2 with value: 0.9089926640196608.\u001b[0m\n",
      "\u001b[32m[I 2022-02-06 23:12:20,468]\u001b[0m Trial 241 finished with value: 0.9089926640196608 and parameters: {'clf_name': 'svm', 'svm_C': 0.12961019909368823, 'svm_loss': 'squared_hinge'}. Best is trial 2 with value: 0.9089926640196608.\u001b[0m\n",
      "\u001b[32m[I 2022-02-06 23:12:20,821]\u001b[0m Trial 242 finished with value: 0.9089926640196608 and parameters: {'clf_name': 'svm', 'svm_C': 0.8864772547423597, 'svm_loss': 'squared_hinge'}. Best is trial 2 with value: 0.9089926640196608.\u001b[0m\n",
      "\u001b[32m[I 2022-02-06 23:12:21,168]\u001b[0m Trial 243 finished with value: 0.9089926640196608 and parameters: {'clf_name': 'svm', 'svm_C': 0.8418895702070761, 'svm_loss': 'squared_hinge'}. Best is trial 2 with value: 0.9089926640196608.\u001b[0m\n",
      "\u001b[32m[I 2022-02-06 23:12:21,504]\u001b[0m Trial 244 finished with value: 0.9089926640196608 and parameters: {'clf_name': 'svm', 'svm_C': 0.8024822521776109, 'svm_loss': 'squared_hinge'}. Best is trial 2 with value: 0.9089926640196608.\u001b[0m\n",
      "\u001b[32m[I 2022-02-06 23:12:21,852]\u001b[0m Trial 245 finished with value: 0.9089926640196608 and parameters: {'clf_name': 'svm', 'svm_C': 0.9573713388422755, 'svm_loss': 'squared_hinge'}. Best is trial 2 with value: 0.9089926640196608.\u001b[0m\n",
      "\u001b[32m[I 2022-02-06 23:12:22,030]\u001b[0m Trial 246 finished with value: 0.80371950741323 and parameters: {'clf_name': 'dt', 'dt_max_depth': 10, 'dt_min_samples_leaf': 5, 'dt_max_features': 'sqrt', 'dt_criterion': 'gini', 'dt_splitter': 'random'}. Best is trial 2 with value: 0.9089926640196608.\u001b[0m\n",
      "\u001b[32m[I 2022-02-06 23:12:22,400]\u001b[0m Trial 247 finished with value: 0.9089926640196608 and parameters: {'clf_name': 'svm', 'svm_C': 2.6113093690377602, 'svm_loss': 'squared_hinge'}. Best is trial 2 with value: 0.9089926640196608.\u001b[0m\n",
      "\u001b[32m[I 2022-02-06 23:12:22,751]\u001b[0m Trial 248 finished with value: 0.9089926640196608 and parameters: {'clf_name': 'svm', 'svm_C': 0.642828631972878, 'svm_loss': 'squared_hinge'}. Best is trial 2 with value: 0.9089926640196608.\u001b[0m\n",
      "\u001b[32m[I 2022-02-06 23:12:23,114]\u001b[0m Trial 249 finished with value: 0.9089926640196608 and parameters: {'clf_name': 'svm', 'svm_C': 0.8759689967732319, 'svm_loss': 'squared_hinge'}. Best is trial 2 with value: 0.9089926640196608.\u001b[0m\n",
      "\u001b[32m[I 2022-02-06 23:12:23,468]\u001b[0m Trial 250 finished with value: 0.9089926640196608 and parameters: {'clf_name': 'svm', 'svm_C': 0.7571370992197214, 'svm_loss': 'squared_hinge'}. Best is trial 2 with value: 0.9089926640196608.\u001b[0m\n",
      "\u001b[32m[I 2022-02-06 23:12:23,907]\u001b[0m Trial 251 finished with value: 0.9089926640196608 and parameters: {'clf_name': 'svm', 'svm_C': 0.43553545263879895, 'svm_loss': 'squared_hinge'}. Best is trial 2 with value: 0.9089926640196608.\u001b[0m\n",
      "\u001b[32m[I 2022-02-06 23:12:24,288]\u001b[0m Trial 252 finished with value: 0.9089926640196608 and parameters: {'clf_name': 'svm', 'svm_C': 0.37809274861387254, 'svm_loss': 'squared_hinge'}. Best is trial 2 with value: 0.9089926640196608.\u001b[0m\n",
      "\u001b[32m[I 2022-02-06 23:12:24,678]\u001b[0m Trial 253 finished with value: 0.9089926640196608 and parameters: {'clf_name': 'svm', 'svm_C': 0.35669286565772745, 'svm_loss': 'squared_hinge'}. Best is trial 2 with value: 0.9089926640196608.\u001b[0m\n",
      "\u001b[32m[I 2022-02-06 23:12:25,043]\u001b[0m Trial 254 finished with value: 0.9089926640196608 and parameters: {'clf_name': 'svm', 'svm_C': 0.12998978471718328, 'svm_loss': 'squared_hinge'}. Best is trial 2 with value: 0.9089926640196608.\u001b[0m\n",
      "\u001b[32m[I 2022-02-06 23:12:25,440]\u001b[0m Trial 255 finished with value: 0.9089926640196608 and parameters: {'clf_name': 'svm', 'svm_C': 0.9624894648860247, 'svm_loss': 'squared_hinge'}. Best is trial 2 with value: 0.9089926640196608.\u001b[0m\n",
      "\u001b[32m[I 2022-02-06 23:12:25,758]\u001b[0m Trial 256 finished with value: 0.9089926640196608 and parameters: {'clf_name': 'svm', 'svm_C': 0.3278967783580023, 'svm_loss': 'squared_hinge'}. Best is trial 2 with value: 0.9089926640196608.\u001b[0m\n",
      "\u001b[32m[I 2022-02-06 23:12:26,319]\u001b[0m Trial 257 finished with value: 0.8938771426250849 and parameters: {'clf_name': 'rf', 'rf_max_depth': 40, 'rf_bootstrap': False, 'rf_max_features': 'sqrt', 'rf_class_weight': 'balanced_subsample'}. Best is trial 2 with value: 0.9089926640196608.\u001b[0m\n",
      "\u001b[32m[I 2022-02-06 23:12:26,681]\u001b[0m Trial 258 finished with value: 0.9089926640196608 and parameters: {'clf_name': 'svm', 'svm_C': 0.47011962451282696, 'svm_loss': 'squared_hinge'}. Best is trial 2 with value: 0.9089926640196608.\u001b[0m\n",
      "\u001b[32m[I 2022-02-06 23:12:27,047]\u001b[0m Trial 259 finished with value: 0.9089926640196608 and parameters: {'clf_name': 'svm', 'svm_C': 1.3298312112480153, 'svm_loss': 'squared_hinge'}. Best is trial 2 with value: 0.9089926640196608.\u001b[0m\n",
      "\u001b[32m[I 2022-02-06 23:12:27,397]\u001b[0m Trial 260 finished with value: 0.9089926640196608 and parameters: {'clf_name': 'svm', 'svm_C': 1.2082686506235152, 'svm_loss': 'squared_hinge'}. Best is trial 2 with value: 0.9089926640196608.\u001b[0m\n",
      "\u001b[32m[I 2022-02-06 23:12:27,764]\u001b[0m Trial 261 finished with value: 0.9089926640196608 and parameters: {'clf_name': 'svm', 'svm_C': 2.7222835003339143, 'svm_loss': 'squared_hinge'}. Best is trial 2 with value: 0.9089926640196608.\u001b[0m\n",
      "\u001b[32m[I 2022-02-06 23:12:28,130]\u001b[0m Trial 262 finished with value: 0.9089926640196608 and parameters: {'clf_name': 'svm', 'svm_C': 0.9020383502184769, 'svm_loss': 'squared_hinge'}. Best is trial 2 with value: 0.9089926640196608.\u001b[0m\n",
      "\u001b[32m[I 2022-02-06 23:12:28,481]\u001b[0m Trial 263 finished with value: 0.9089926640196608 and parameters: {'clf_name': 'svm', 'svm_C': 2.107422766867903, 'svm_loss': 'squared_hinge'}. Best is trial 2 with value: 0.9089926640196608.\u001b[0m\n",
      "\u001b[32m[I 2022-02-06 23:12:28,830]\u001b[0m Trial 264 finished with value: 0.9089926640196608 and parameters: {'clf_name': 'svm', 'svm_C': 2.459089598704105, 'svm_loss': 'squared_hinge'}. Best is trial 2 with value: 0.9089926640196608.\u001b[0m\n"
     ]
    },
    {
     "name": "stderr",
     "output_type": "stream",
     "text": [
      "\u001b[32m[I 2022-02-06 23:12:29,250]\u001b[0m Trial 265 finished with value: 0.9089926640196608 and parameters: {'clf_name': 'svm', 'svm_C': 0.8236573542384628, 'svm_loss': 'squared_hinge'}. Best is trial 2 with value: 0.9089926640196608.\u001b[0m\n",
      "\u001b[32m[I 2022-02-06 23:12:29,619]\u001b[0m Trial 266 finished with value: 0.9089926640196608 and parameters: {'clf_name': 'svm', 'svm_C': 2.269232897836502, 'svm_loss': 'squared_hinge'}. Best is trial 2 with value: 0.9089926640196608.\u001b[0m\n",
      "\u001b[32m[I 2022-02-06 23:12:29,998]\u001b[0m Trial 267 finished with value: 0.9089926640196608 and parameters: {'clf_name': 'svm', 'svm_C': 0.9979274275201694, 'svm_loss': 'squared_hinge'}. Best is trial 2 with value: 0.9089926640196608.\u001b[0m\n",
      "\u001b[32m[I 2022-02-06 23:12:30,359]\u001b[0m Trial 268 finished with value: 0.9089926640196608 and parameters: {'clf_name': 'svm', 'svm_C': 2.0744254603405667, 'svm_loss': 'squared_hinge'}. Best is trial 2 with value: 0.9089926640196608.\u001b[0m\n",
      "\u001b[32m[I 2022-02-06 23:12:30,500]\u001b[0m Trial 269 finished with value: 0.48757808601489305 and parameters: {'clf_name': 'dt', 'dt_max_depth': 3, 'dt_min_samples_leaf': 20, 'dt_max_features': 'log2', 'dt_criterion': 'entropy', 'dt_splitter': 'random'}. Best is trial 2 with value: 0.9089926640196608.\u001b[0m\n",
      "\u001b[32m[I 2022-02-06 23:12:30,842]\u001b[0m Trial 270 finished with value: 0.9089926640196608 and parameters: {'clf_name': 'svm', 'svm_C': 0.41785568464533246, 'svm_loss': 'squared_hinge'}. Best is trial 2 with value: 0.9089926640196608.\u001b[0m\n",
      "\u001b[32m[I 2022-02-06 23:12:31,236]\u001b[0m Trial 271 finished with value: 0.9089926640196608 and parameters: {'clf_name': 'svm', 'svm_C': 1.4687611408955914, 'svm_loss': 'hinge'}. Best is trial 2 with value: 0.9089926640196608.\u001b[0m\n",
      "\u001b[32m[I 2022-02-06 23:12:31,648]\u001b[0m Trial 272 finished with value: 0.9089926640196608 and parameters: {'clf_name': 'svm', 'svm_C': 1.543438936507374, 'svm_loss': 'hinge'}. Best is trial 2 with value: 0.9089926640196608.\u001b[0m\n",
      "\u001b[32m[I 2022-02-06 23:12:31,993]\u001b[0m Trial 273 finished with value: 0.9089926640196608 and parameters: {'clf_name': 'svm', 'svm_C': 1.7718370444378666, 'svm_loss': 'hinge'}. Best is trial 2 with value: 0.9089926640196608.\u001b[0m\n",
      "\u001b[32m[I 2022-02-06 23:12:32,363]\u001b[0m Trial 274 finished with value: 0.9089926640196608 and parameters: {'clf_name': 'svm', 'svm_C': 1.678647178120872, 'svm_loss': 'hinge'}. Best is trial 2 with value: 0.9089926640196608.\u001b[0m\n",
      "\u001b[32m[I 2022-02-06 23:12:32,722]\u001b[0m Trial 275 finished with value: 0.9089926640196608 and parameters: {'clf_name': 'svm', 'svm_C': 0.32229373093643615, 'svm_loss': 'squared_hinge'}. Best is trial 2 with value: 0.9089926640196608.\u001b[0m\n",
      "\u001b[32m[I 2022-02-06 23:12:33,077]\u001b[0m Trial 276 finished with value: 0.9089926640196608 and parameters: {'clf_name': 'svm', 'svm_C': 0.3609768948511757, 'svm_loss': 'squared_hinge'}. Best is trial 2 with value: 0.9089926640196608.\u001b[0m\n",
      "\u001b[32m[I 2022-02-06 23:12:33,445]\u001b[0m Trial 277 finished with value: 0.9089926640196608 and parameters: {'clf_name': 'svm', 'svm_C': 1.9471781978762466, 'svm_loss': 'hinge'}. Best is trial 2 with value: 0.9089926640196608.\u001b[0m\n",
      "\u001b[32m[I 2022-02-06 23:12:33,988]\u001b[0m Trial 278 finished with value: 0.8968956502286639 and parameters: {'clf_name': 'rf', 'rf_max_depth': 20, 'rf_bootstrap': False, 'rf_max_features': 'sqrt', 'rf_class_weight': 'balanced_subsample'}. Best is trial 2 with value: 0.9089926640196608.\u001b[0m\n",
      "\u001b[32m[I 2022-02-06 23:12:34,347]\u001b[0m Trial 279 finished with value: 0.9089926640196608 and parameters: {'clf_name': 'svm', 'svm_C': 0.7256339831576204, 'svm_loss': 'squared_hinge'}. Best is trial 2 with value: 0.9089926640196608.\u001b[0m\n",
      "\u001b[32m[I 2022-02-06 23:12:34,698]\u001b[0m Trial 280 finished with value: 0.9089926640196608 and parameters: {'clf_name': 'svm', 'svm_C': 1.1859678847855344, 'svm_loss': 'hinge'}. Best is trial 2 with value: 0.9089926640196608.\u001b[0m\n",
      "\u001b[32m[I 2022-02-06 23:12:35,121]\u001b[0m Trial 281 finished with value: 0.9089926640196608 and parameters: {'clf_name': 'svm', 'svm_C': 1.9967113878933995, 'svm_loss': 'hinge'}. Best is trial 2 with value: 0.9089926640196608.\u001b[0m\n",
      "\u001b[32m[I 2022-02-06 23:12:35,510]\u001b[0m Trial 282 finished with value: 0.9089926640196608 and parameters: {'clf_name': 'svm', 'svm_C': 0.11516010232176625, 'svm_loss': 'hinge'}. Best is trial 2 with value: 0.9089926640196608.\u001b[0m\n",
      "\u001b[32m[I 2022-02-06 23:12:35,872]\u001b[0m Trial 283 finished with value: 0.9089926640196608 and parameters: {'clf_name': 'svm', 'svm_C': 1.1619985352588402, 'svm_loss': 'hinge'}. Best is trial 2 with value: 0.9089926640196608.\u001b[0m\n",
      "\u001b[32m[I 2022-02-06 23:12:36,271]\u001b[0m Trial 284 finished with value: 0.9089926640196608 and parameters: {'clf_name': 'svm', 'svm_C': 1.3280283715601757, 'svm_loss': 'hinge'}. Best is trial 2 with value: 0.9089926640196608.\u001b[0m\n",
      "\u001b[32m[I 2022-02-06 23:12:36,614]\u001b[0m Trial 285 finished with value: 0.9089926640196608 and parameters: {'clf_name': 'svm', 'svm_C': 1.0597430350594792, 'svm_loss': 'hinge'}. Best is trial 2 with value: 0.9089926640196608.\u001b[0m\n",
      "\u001b[32m[I 2022-02-06 23:12:37,003]\u001b[0m Trial 286 finished with value: 0.9089926640196608 and parameters: {'clf_name': 'svm', 'svm_C': 1.1134361082376638, 'svm_loss': 'hinge'}. Best is trial 2 with value: 0.9089926640196608.\u001b[0m\n",
      "\u001b[32m[I 2022-02-06 23:12:37,376]\u001b[0m Trial 287 finished with value: 0.9089926640196608 and parameters: {'clf_name': 'svm', 'svm_C': 2.2615472828700853, 'svm_loss': 'hinge'}. Best is trial 2 with value: 0.9089926640196608.\u001b[0m\n",
      "\u001b[32m[I 2022-02-06 23:12:37,708]\u001b[0m Trial 288 finished with value: 0.9089926640196608 and parameters: {'clf_name': 'svm', 'svm_C': 0.24739961910394093, 'svm_loss': 'hinge'}. Best is trial 2 with value: 0.9089926640196608.\u001b[0m\n",
      "\u001b[32m[I 2022-02-06 23:12:38,115]\u001b[0m Trial 289 finished with value: 0.9089926640196608 and parameters: {'clf_name': 'svm', 'svm_C': 0.2585915535146693, 'svm_loss': 'hinge'}. Best is trial 2 with value: 0.9089926640196608.\u001b[0m\n",
      "\u001b[32m[I 2022-02-06 23:12:38,459]\u001b[0m Trial 290 finished with value: 0.9089926640196608 and parameters: {'clf_name': 'svm', 'svm_C': 1.59995530218904, 'svm_loss': 'hinge'}. Best is trial 2 with value: 0.9089926640196608.\u001b[0m\n",
      "\u001b[32m[I 2022-02-06 23:12:38,838]\u001b[0m Trial 291 finished with value: 0.9089926640196608 and parameters: {'clf_name': 'svm', 'svm_C': 0.21979331391727788, 'svm_loss': 'hinge'}. Best is trial 2 with value: 0.9089926640196608.\u001b[0m\n",
      "\u001b[32m[I 2022-02-06 23:12:38,992]\u001b[0m Trial 292 finished with value: 0.5036866562546373 and parameters: {'clf_name': 'dt', 'dt_max_depth': 2, 'dt_min_samples_leaf': 10, 'dt_max_features': 'auto', 'dt_criterion': 'gini', 'dt_splitter': 'best'}. Best is trial 2 with value: 0.9089926640196608.\u001b[0m\n",
      "\u001b[32m[I 2022-02-06 23:12:39,378]\u001b[0m Trial 293 finished with value: 0.9089926640196608 and parameters: {'clf_name': 'svm', 'svm_C': 1.3370849889086662, 'svm_loss': 'hinge'}. Best is trial 2 with value: 0.9089926640196608.\u001b[0m\n",
      "\u001b[32m[I 2022-02-06 23:12:39,709]\u001b[0m Trial 294 finished with value: 0.9089926640196608 and parameters: {'clf_name': 'svm', 'svm_C': 1.9640785763228745, 'svm_loss': 'hinge'}. Best is trial 2 with value: 0.9089926640196608.\u001b[0m\n",
      "C:\\Users\\abhi0\\anaconda3\\envs\\tensorflow\\lib\\site-packages\\sklearn\\svm\\_base.py:1206: ConvergenceWarning: Liblinear failed to converge, increase the number of iterations.\n",
      "  warnings.warn(\n"
     ]
    }
   ],
   "source": [
    "study = svm_model.tune(n_trials=100)"
   ]
  },
  {
   "cell_type": "code",
   "execution_count": 124,
   "id": "541a3c88",
   "metadata": {
    "scrolled": false
   },
   "outputs": [],
   "source": [
    "# trial_df = study.trials_dataframe()"
   ]
  },
  {
   "cell_type": "code",
   "execution_count": 125,
   "id": "05961817",
   "metadata": {},
   "outputs": [],
   "source": [
    "# trail_df.to_csv(\"./ML_results/DryBeanStudy_trails.csv\", index=False)"
   ]
  },
  {
   "cell_type": "markdown",
   "id": "9da67bdb",
   "metadata": {},
   "source": [
    "## Results"
   ]
  },
  {
   "cell_type": "code",
   "execution_count": 126,
   "id": "5eeb9db4",
   "metadata": {},
   "outputs": [
    {
     "data": {
      "text/plain": [
       "{'clf_name': 'svm', 'svm_C': 0.9453194088256368, 'svm_loss': 'hinge'}"
      ]
     },
     "execution_count": 126,
     "metadata": {},
     "output_type": "execute_result"
    }
   ],
   "source": [
    "study.best_params"
   ]
  },
  {
   "cell_type": "code",
   "execution_count": 127,
   "id": "456f72c7",
   "metadata": {},
   "outputs": [
    {
     "data": {
      "text/plain": [
       "0.9089926640196608"
      ]
     },
     "execution_count": 127,
     "metadata": {},
     "output_type": "execute_result"
    }
   ],
   "source": [
    "study.best_value"
   ]
  },
  {
   "cell_type": "code",
   "execution_count": 128,
   "id": "a190f747",
   "metadata": {},
   "outputs": [
    {
     "data": {
      "text/plain": [
       "FrozenTrial(number=2, values=[0.9089926640196608], datetime_start=datetime.datetime(2022, 2, 6, 4, 5, 59, 360444), datetime_complete=datetime.datetime(2022, 2, 6, 4, 5, 59, 769001), params={'clf_name': 'svm', 'svm_C': 0.9453194088256368, 'svm_loss': 'hinge'}, distributions={'clf_name': CategoricalDistribution(choices=('rf', 'dt', 'svm')), 'svm_C': LogUniformDistribution(high=3.0, low=0.1), 'svm_loss': CategoricalDistribution(choices=('hinge', 'squared_hinge'))}, user_attrs={}, system_attrs={}, intermediate_values={}, trial_id=3, state=TrialState.COMPLETE, value=None)"
      ]
     },
     "execution_count": 128,
     "metadata": {},
     "output_type": "execute_result"
    }
   ],
   "source": [
    "study.best_trial"
   ]
  },
  {
   "cell_type": "markdown",
   "id": "d85df89e",
   "metadata": {},
   "source": [
    "**Obvservation**\n",
    "\n",
    "- As you can see, Linear SVM turns out to be the best among the 3\n",
    "- Best f1-score: ~ 0.91\n",
    "- Best params: \n",
    "    - 'C': 0.9453194088256368 \n",
    "    - 'loss': 'hinge'"
   ]
  },
  {
   "cell_type": "markdown",
   "id": "c0bafa4b",
   "metadata": {},
   "source": [
    "## Conclusion\n",
    "\n",
    "This is all about hyper-parameter tuning by wrting your own classes and controlling each and every aspect of it. However, personally atleast I feel there's a better way of doing it, that is by using [`PyCaret`](https://pycaret.org/). PyCaret is a low-code library for end to end machine learning. We can do everything we did here from feature selction to modelling to hyper-parameter tuning and beyond, while all the time having complete control of the pipeline. PyCaret handles a lot of boiler plate stuff like the `Modelling` class we designed here. It also has deployment options. We haven't even done any ensembling/blending/stacking. We try all of those and more using PyCaret. "
   ]
  }
 ],
 "metadata": {
  "kernelspec": {
   "display_name": "Python 3 (ipykernel)",
   "language": "python",
   "name": "python3"
  },
  "language_info": {
   "codemirror_mode": {
    "name": "ipython",
    "version": 3
   },
   "file_extension": ".py",
   "mimetype": "text/x-python",
   "name": "python",
   "nbconvert_exporter": "python",
   "pygments_lexer": "ipython3",
   "version": "3.8.5"
  },
  "toc": {
   "base_numbering": 1,
   "nav_menu": {},
   "number_sections": true,
   "sideBar": true,
   "skip_h1_title": false,
   "title_cell": "Table of Contents",
   "title_sidebar": "Contents",
   "toc_cell": true,
   "toc_position": {
    "height": "565.6px",
    "left": "24px",
    "top": "197.125px",
    "width": "291.825px"
   },
   "toc_section_display": true,
   "toc_window_display": true
  }
 },
 "nbformat": 4,
 "nbformat_minor": 5
}
