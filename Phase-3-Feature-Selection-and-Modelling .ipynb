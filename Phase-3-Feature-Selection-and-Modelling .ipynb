{
 "cells": [
  {
   "cell_type": "markdown",
   "id": "6918494c",
   "metadata": {
    "toc": true
   },
   "source": [
    "<h1>Table of Contents<span class=\"tocSkip\"></span></h1>\n",
    "<div class=\"toc\"><ul class=\"toc-item\"><li><span><a href=\"#Feature-Selection\" data-toc-modified-id=\"Feature-Selection-1\"><span class=\"toc-item-num\">1&nbsp;&nbsp;</span>Feature Selection</a></span><ul class=\"toc-item\"><li><span><a href=\"#Variance-Thresholding\" data-toc-modified-id=\"Variance-Thresholding-1.1\"><span class=\"toc-item-num\">1.1&nbsp;&nbsp;</span>Variance Thresholding</a></span></li><li><span><a href=\"#Anova-Test\" data-toc-modified-id=\"Anova-Test-1.2\"><span class=\"toc-item-num\">1.2&nbsp;&nbsp;</span>Anova Test</a></span></li><li><span><a href=\"#RFE-(Recursive-Feature-Elimination)\" data-toc-modified-id=\"RFE-(Recursive-Feature-Elimination)-1.3\"><span class=\"toc-item-num\">1.3&nbsp;&nbsp;</span>RFE (Recursive Feature Elimination)</a></span></li><li><span><a href=\"#Feature-Selection-using-RandomForest\" data-toc-modified-id=\"Feature-Selection-using-RandomForest-1.4\"><span class=\"toc-item-num\">1.4&nbsp;&nbsp;</span>Feature Selection using RandomForest</a></span></li><li><span><a href=\"#Conclusion\" data-toc-modified-id=\"Conclusion-1.5\"><span class=\"toc-item-num\">1.5&nbsp;&nbsp;</span>Conclusion</a></span></li></ul></li><li><span><a href=\"#Modelling\" data-toc-modified-id=\"Modelling-2\"><span class=\"toc-item-num\">2&nbsp;&nbsp;</span>Modelling</a></span><ul class=\"toc-item\"><li><span><a href=\"#Anova-Features\" data-toc-modified-id=\"Anova-Features-2.1\"><span class=\"toc-item-num\">2.1&nbsp;&nbsp;</span>Anova Features</a></span><ul class=\"toc-item\"><li><span><a href=\"#RandomForest\" data-toc-modified-id=\"RandomForest-2.1.1\"><span class=\"toc-item-num\">2.1.1&nbsp;&nbsp;</span>RandomForest</a></span></li><li><span><a href=\"#Decision-tree-modelling\" data-toc-modified-id=\"Decision-tree-modelling-2.1.2\"><span class=\"toc-item-num\">2.1.2&nbsp;&nbsp;</span>Decision tree modelling</a></span></li><li><span><a href=\"#LinearSVC\" data-toc-modified-id=\"LinearSVC-2.1.3\"><span class=\"toc-item-num\">2.1.3&nbsp;&nbsp;</span>LinearSVC</a></span></li></ul></li><li><span><a href=\"#Hyperparameter-tuning-using-Optuna\" data-toc-modified-id=\"Hyperparameter-tuning-using-Optuna-2.2\"><span class=\"toc-item-num\">2.2&nbsp;&nbsp;</span>Hyperparameter tuning using Optuna</a></span></li><li><span><a href=\"#Saving-the-models-and-the-results\" data-toc-modified-id=\"Saving-the-models-and-the-results-2.3\"><span class=\"toc-item-num\">2.3&nbsp;&nbsp;</span>Saving the models and the results</a></span></li><li><span><a href=\"#Using-Variance-thresholding-features\" data-toc-modified-id=\"Using-Variance-thresholding-features-2.4\"><span class=\"toc-item-num\">2.4&nbsp;&nbsp;</span>Using Variance thresholding features</a></span><ul class=\"toc-item\"><li><span><a href=\"#RandomForest-Classifier\" data-toc-modified-id=\"RandomForest-Classifier-2.4.1\"><span class=\"toc-item-num\">2.4.1&nbsp;&nbsp;</span><code>RandomForest</code> Classifier</a></span></li></ul></li><li><span><a href=\"#Conclusion\" data-toc-modified-id=\"Conclusion-2.5\"><span class=\"toc-item-num\">2.5&nbsp;&nbsp;</span>Conclusion</a></span></li></ul></li></ul></div>"
   ]
  },
  {
   "cell_type": "markdown",
   "id": "1d6575a4",
   "metadata": {},
   "source": [
    "<center><h1>Feature Selection</h1></center>"
   ]
  },
  {
   "cell_type": "code",
   "execution_count": 189,
   "id": "a48945d2",
   "metadata": {},
   "outputs": [
    {
     "name": "stderr",
     "output_type": "stream",
     "text": [
      "Intel(R) Extension for Scikit-learn* enabled (https://github.com/intel/scikit-learn-intelex)\n"
     ]
    }
   ],
   "source": [
    "import numpy as np\n",
    "import pandas as pd\n",
    "import seaborn as sns\n",
    "\n",
    "from sklearnex import patch_sklearn\n",
    "\n",
    "patch_sklearn()\n",
    "\n",
    "from sklearn.experimental import enable_halving_search_cv\n",
    "\n",
    "from sklearn.preprocessing import MinMaxScaler, StandardScaler\n",
    "\n",
    "from sklearn.tree import DecisionTreeClassifier, plot_tree\n",
    "from sklearn.ensemble import RandomForestClassifier\n",
    "from sklearn.linear_model import SGDClassifier\n",
    "from sklearn.svm import LinearSVC\n",
    "\n",
    "from sklearn import metrics\n",
    "\n",
    "from sklearn.model_selection import (\n",
    "    train_test_split,\n",
    "    KFold,\n",
    "    StratifiedKFold,\n",
    "    GridSearchCV,\n",
    "    HalvingGridSearchCV,\n",
    "    cross_validate,\n",
    "    cross_val_score,\n",
    "    cross_val_predict,\n",
    ")\n",
    "\n",
    "from sklearn.feature_selection import (\n",
    "    VarianceThreshold,\n",
    "    f_classif,\n",
    "    SelectKBest,\n",
    "    SelectFromModel,\n",
    "    RFE,\n",
    ")\n",
    "\n",
    "from imblearn import over_sampling, under_sampling, ensemble\n",
    "from imblearn.metrics import (\n",
    "    sensitivity_specificity_support,\n",
    "    classification_report_imbalanced,\n",
    ")\n",
    "\n",
    "from skopt import BayesSearchCV, gp_minimize, space\n",
    "from skopt.utils import use_named_args\n",
    "\n",
    "import optuna\n",
    "\n",
    "from joblib import dump, load\n",
    "\n",
    "from prettytable import PrettyTable\n",
    "\n",
    "from omegaconf import OmegaConf\n",
    "\n",
    "sns.set(rc={\"figure.figsize\": (10, 8)}, font_scale=1.25)\n",
    "\n",
    "np.random.seed(42)"
   ]
  },
  {
   "cell_type": "code",
   "execution_count": 190,
   "id": "d1222750",
   "metadata": {},
   "outputs": [],
   "source": [
    "df = (\n",
    "    pd.read_csv(\"./DryBeanDataset/Dry_Bean_Dataset.csv\")\n",
    "    .sample(frac=1)\n",
    "    .reset_index(drop=True)\n",
    ")"
   ]
  },
  {
   "cell_type": "code",
   "execution_count": 191,
   "id": "7b124fdd",
   "metadata": {},
   "outputs": [
    {
     "data": {
      "text/html": [
       "<div>\n",
       "<style scoped>\n",
       "    .dataframe tbody tr th:only-of-type {\n",
       "        vertical-align: middle;\n",
       "    }\n",
       "\n",
       "    .dataframe tbody tr th {\n",
       "        vertical-align: top;\n",
       "    }\n",
       "\n",
       "    .dataframe thead th {\n",
       "        text-align: right;\n",
       "    }\n",
       "</style>\n",
       "<table border=\"1\" class=\"dataframe\">\n",
       "  <thead>\n",
       "    <tr style=\"text-align: right;\">\n",
       "      <th></th>\n",
       "      <th>Area</th>\n",
       "      <th>Perimeter</th>\n",
       "      <th>MajorAxisLength</th>\n",
       "      <th>MinorAxisLength</th>\n",
       "      <th>AspectRation</th>\n",
       "      <th>Eccentricity</th>\n",
       "      <th>ConvexArea</th>\n",
       "      <th>EquivDiameter</th>\n",
       "      <th>Extent</th>\n",
       "      <th>Solidity</th>\n",
       "      <th>roundness</th>\n",
       "      <th>Compactness</th>\n",
       "      <th>ShapeFactor1</th>\n",
       "      <th>ShapeFactor2</th>\n",
       "      <th>ShapeFactor3</th>\n",
       "      <th>ShapeFactor4</th>\n",
       "      <th>Class</th>\n",
       "    </tr>\n",
       "  </thead>\n",
       "  <tbody>\n",
       "    <tr>\n",
       "      <th>0</th>\n",
       "      <td>42339</td>\n",
       "      <td>741.226</td>\n",
       "      <td>260.199330</td>\n",
       "      <td>207.306394</td>\n",
       "      <td>1.255144</td>\n",
       "      <td>0.604347</td>\n",
       "      <td>42676</td>\n",
       "      <td>232.180294</td>\n",
       "      <td>0.771202</td>\n",
       "      <td>0.992103</td>\n",
       "      <td>0.968387</td>\n",
       "      <td>0.892317</td>\n",
       "      <td>0.006146</td>\n",
       "      <td>0.002403</td>\n",
       "      <td>0.796230</td>\n",
       "      <td>0.999383</td>\n",
       "      <td>SEKER</td>\n",
       "    </tr>\n",
       "    <tr>\n",
       "      <th>1</th>\n",
       "      <td>68247</td>\n",
       "      <td>1088.754</td>\n",
       "      <td>370.368146</td>\n",
       "      <td>237.863792</td>\n",
       "      <td>1.557060</td>\n",
       "      <td>0.766507</td>\n",
       "      <td>70172</td>\n",
       "      <td>294.779204</td>\n",
       "      <td>0.767683</td>\n",
       "      <td>0.972567</td>\n",
       "      <td>0.723492</td>\n",
       "      <td>0.795909</td>\n",
       "      <td>0.005427</td>\n",
       "      <td>0.001343</td>\n",
       "      <td>0.633471</td>\n",
       "      <td>0.986352</td>\n",
       "      <td>BARBUNYA</td>\n",
       "    </tr>\n",
       "    <tr>\n",
       "      <th>2</th>\n",
       "      <td>37856</td>\n",
       "      <td>708.716</td>\n",
       "      <td>248.430330</td>\n",
       "      <td>194.360324</td>\n",
       "      <td>1.278195</td>\n",
       "      <td>0.622835</td>\n",
       "      <td>38232</td>\n",
       "      <td>219.544429</td>\n",
       "      <td>0.744640</td>\n",
       "      <td>0.990165</td>\n",
       "      <td>0.947109</td>\n",
       "      <td>0.883726</td>\n",
       "      <td>0.006563</td>\n",
       "      <td>0.002469</td>\n",
       "      <td>0.780972</td>\n",
       "      <td>0.998235</td>\n",
       "      <td>SEKER</td>\n",
       "    </tr>\n",
       "    <tr>\n",
       "      <th>3</th>\n",
       "      <td>33143</td>\n",
       "      <td>648.385</td>\n",
       "      <td>222.526309</td>\n",
       "      <td>189.737379</td>\n",
       "      <td>1.172812</td>\n",
       "      <td>0.522480</td>\n",
       "      <td>33377</td>\n",
       "      <td>205.423899</td>\n",
       "      <td>0.769980</td>\n",
       "      <td>0.992989</td>\n",
       "      <td>0.990685</td>\n",
       "      <td>0.923144</td>\n",
       "      <td>0.006714</td>\n",
       "      <td>0.003008</td>\n",
       "      <td>0.852195</td>\n",
       "      <td>0.999465</td>\n",
       "      <td>SEKER</td>\n",
       "    </tr>\n",
       "    <tr>\n",
       "      <th>4</th>\n",
       "      <td>29925</td>\n",
       "      <td>647.570</td>\n",
       "      <td>237.714031</td>\n",
       "      <td>161.004849</td>\n",
       "      <td>1.476440</td>\n",
       "      <td>0.735703</td>\n",
       "      <td>30321</td>\n",
       "      <td>195.196551</td>\n",
       "      <td>0.785309</td>\n",
       "      <td>0.986940</td>\n",
       "      <td>0.896748</td>\n",
       "      <td>0.821140</td>\n",
       "      <td>0.007944</td>\n",
       "      <td>0.002228</td>\n",
       "      <td>0.674271</td>\n",
       "      <td>0.995521</td>\n",
       "      <td>DERMASON</td>\n",
       "    </tr>\n",
       "  </tbody>\n",
       "</table>\n",
       "</div>"
      ],
      "text/plain": [
       "    Area  Perimeter  MajorAxisLength  MinorAxisLength  AspectRation  \\\n",
       "0  42339    741.226       260.199330       207.306394      1.255144   \n",
       "1  68247   1088.754       370.368146       237.863792      1.557060   \n",
       "2  37856    708.716       248.430330       194.360324      1.278195   \n",
       "3  33143    648.385       222.526309       189.737379      1.172812   \n",
       "4  29925    647.570       237.714031       161.004849      1.476440   \n",
       "\n",
       "   Eccentricity  ConvexArea  EquivDiameter    Extent  Solidity  roundness  \\\n",
       "0      0.604347       42676     232.180294  0.771202  0.992103   0.968387   \n",
       "1      0.766507       70172     294.779204  0.767683  0.972567   0.723492   \n",
       "2      0.622835       38232     219.544429  0.744640  0.990165   0.947109   \n",
       "3      0.522480       33377     205.423899  0.769980  0.992989   0.990685   \n",
       "4      0.735703       30321     195.196551  0.785309  0.986940   0.896748   \n",
       "\n",
       "   Compactness  ShapeFactor1  ShapeFactor2  ShapeFactor3  ShapeFactor4  \\\n",
       "0     0.892317      0.006146      0.002403      0.796230      0.999383   \n",
       "1     0.795909      0.005427      0.001343      0.633471      0.986352   \n",
       "2     0.883726      0.006563      0.002469      0.780972      0.998235   \n",
       "3     0.923144      0.006714      0.003008      0.852195      0.999465   \n",
       "4     0.821140      0.007944      0.002228      0.674271      0.995521   \n",
       "\n",
       "      Class  \n",
       "0     SEKER  \n",
       "1  BARBUNYA  \n",
       "2     SEKER  \n",
       "3     SEKER  \n",
       "4  DERMASON  "
      ]
     },
     "execution_count": 191,
     "metadata": {},
     "output_type": "execute_result"
    }
   ],
   "source": [
    "df.head()"
   ]
  },
  {
   "cell_type": "code",
   "execution_count": 192,
   "id": "957b2f2d",
   "metadata": {},
   "outputs": [],
   "source": [
    "X = df.drop(\"Class\", axis=1)\n",
    "y = df[\"Class\"].astype(\"category\").cat.codes"
   ]
  },
  {
   "cell_type": "code",
   "execution_count": 193,
   "id": "a16fe526",
   "metadata": {},
   "outputs": [
    {
     "data": {
      "text/plain": [
       "Area               8.599026e+08\n",
       "Perimeter          4.592007e+04\n",
       "MajorAxisLength    7.343494e+03\n",
       "MinorAxisLength    2.022309e+03\n",
       "AspectRation       6.085026e-02\n",
       "Eccentricity       8.464324e-03\n",
       "ConvexArea         8.865456e+08\n",
       "EquivDiameter      3.501932e+03\n",
       "Extent             2.409471e-03\n",
       "Solidity           2.171913e-05\n",
       "roundness          3.542617e-03\n",
       "Compactness        3.808552e-03\n",
       "ShapeFactor1       1.272380e-06\n",
       "ShapeFactor2       3.550668e-07\n",
       "ShapeFactor3       9.800238e-03\n",
       "ShapeFactor4       1.906595e-05\n",
       "dtype: float64"
      ]
     },
     "execution_count": 193,
     "metadata": {},
     "output_type": "execute_result"
    }
   ],
   "source": [
    "X.var(numeric_only=True)"
   ]
  },
  {
   "cell_type": "code",
   "execution_count": 194,
   "id": "25ff0a5b",
   "metadata": {},
   "outputs": [],
   "source": [
    "scaler = MinMaxScaler(feature_range=(1, 10))\n",
    "X_scaled = scaler.fit_transform(X)"
   ]
  },
  {
   "cell_type": "code",
   "execution_count": 195,
   "id": "3c2cb786",
   "metadata": {},
   "outputs": [],
   "source": [
    "X_scaled_df = pd.DataFrame(X_scaled, columns=df.columns[:-1].tolist())"
   ]
  },
  {
   "cell_type": "code",
   "execution_count": 196,
   "id": "8ade6929",
   "metadata": {},
   "outputs": [
    {
     "data": {
      "text/html": [
       "<div>\n",
       "<style scoped>\n",
       "    .dataframe tbody tr th:only-of-type {\n",
       "        vertical-align: middle;\n",
       "    }\n",
       "\n",
       "    .dataframe tbody tr th {\n",
       "        vertical-align: top;\n",
       "    }\n",
       "\n",
       "    .dataframe thead th {\n",
       "        text-align: right;\n",
       "    }\n",
       "</style>\n",
       "<table border=\"1\" class=\"dataframe\">\n",
       "  <thead>\n",
       "    <tr style=\"text-align: right;\">\n",
       "      <th></th>\n",
       "      <th>Area</th>\n",
       "      <th>Perimeter</th>\n",
       "      <th>MajorAxisLength</th>\n",
       "      <th>MinorAxisLength</th>\n",
       "      <th>AspectRation</th>\n",
       "      <th>Eccentricity</th>\n",
       "      <th>ConvexArea</th>\n",
       "      <th>EquivDiameter</th>\n",
       "      <th>Extent</th>\n",
       "      <th>Solidity</th>\n",
       "      <th>roundness</th>\n",
       "      <th>Compactness</th>\n",
       "      <th>ShapeFactor1</th>\n",
       "      <th>ShapeFactor2</th>\n",
       "      <th>ShapeFactor3</th>\n",
       "      <th>ShapeFactor4</th>\n",
       "    </tr>\n",
       "  </thead>\n",
       "  <tbody>\n",
       "    <tr>\n",
       "      <th>0</th>\n",
       "      <td>1.842333</td>\n",
       "      <td>2.333948</td>\n",
       "      <td>2.241553</td>\n",
       "      <td>3.259922</td>\n",
       "      <td>2.474618</td>\n",
       "      <td>6.008954</td>\n",
       "      <td>1.815939</td>\n",
       "      <td>2.564276</td>\n",
       "      <td>7.249960</td>\n",
       "      <td>9.692861</td>\n",
       "      <td>9.599492</td>\n",
       "      <td>7.534442</td>\n",
       "      <td>4.949932</td>\n",
       "      <td>6.338256</td>\n",
       "      <td>7.153161</td>\n",
       "      <td>9.939511</td>\n",
       "    </tr>\n",
       "    <tr>\n",
       "      <th>1</th>\n",
       "      <td>2.837961</td>\n",
       "      <td>4.475314</td>\n",
       "      <td>4.027241</td>\n",
       "      <td>4.074337</td>\n",
       "      <td>4.407996</td>\n",
       "      <td>8.116537</td>\n",
       "      <td>2.836085</td>\n",
       "      <td>3.944692</td>\n",
       "      <td>7.148074</td>\n",
       "      <td>7.361961</td>\n",
       "      <td>5.200767</td>\n",
       "      <td>5.031962</td>\n",
       "      <td>4.106907</td>\n",
       "      <td>3.261495</td>\n",
       "      <td>4.557913</td>\n",
       "      <td>7.686064</td>\n",
       "    </tr>\n",
       "    <tr>\n",
       "      <th>2</th>\n",
       "      <td>1.670054</td>\n",
       "      <td>2.133631</td>\n",
       "      <td>2.050793</td>\n",
       "      <td>2.914883</td>\n",
       "      <td>2.622229</td>\n",
       "      <td>6.249241</td>\n",
       "      <td>1.651059</td>\n",
       "      <td>2.285633</td>\n",
       "      <td>6.480978</td>\n",
       "      <td>9.461633</td>\n",
       "      <td>9.217301</td>\n",
       "      <td>7.311453</td>\n",
       "      <td>5.438912</td>\n",
       "      <td>6.528719</td>\n",
       "      <td>6.909876</td>\n",
       "      <td>9.740964</td>\n",
       "    </tr>\n",
       "    <tr>\n",
       "      <th>3</th>\n",
       "      <td>1.488937</td>\n",
       "      <td>1.761889</td>\n",
       "      <td>1.630924</td>\n",
       "      <td>2.791673</td>\n",
       "      <td>1.947392</td>\n",
       "      <td>4.944941</td>\n",
       "      <td>1.470931</td>\n",
       "      <td>1.974250</td>\n",
       "      <td>7.214565</td>\n",
       "      <td>9.798561</td>\n",
       "      <td>10.000000</td>\n",
       "      <td>8.334629</td>\n",
       "      <td>5.616748</td>\n",
       "      <td>8.092549</td>\n",
       "      <td>8.045553</td>\n",
       "      <td>9.953770</td>\n",
       "    </tr>\n",
       "    <tr>\n",
       "      <th>4</th>\n",
       "      <td>1.365271</td>\n",
       "      <td>1.756867</td>\n",
       "      <td>1.877097</td>\n",
       "      <td>2.025894</td>\n",
       "      <td>3.891733</td>\n",
       "      <td>7.716176</td>\n",
       "      <td>1.357548</td>\n",
       "      <td>1.748719</td>\n",
       "      <td>7.658365</td>\n",
       "      <td>9.076779</td>\n",
       "      <td>8.312734</td>\n",
       "      <td>5.686900</td>\n",
       "      <td>7.058892</td>\n",
       "      <td>5.828550</td>\n",
       "      <td>5.208494</td>\n",
       "      <td>9.271746</td>\n",
       "    </tr>\n",
       "  </tbody>\n",
       "</table>\n",
       "</div>"
      ],
      "text/plain": [
       "       Area  Perimeter  MajorAxisLength  MinorAxisLength  AspectRation  \\\n",
       "0  1.842333   2.333948         2.241553         3.259922      2.474618   \n",
       "1  2.837961   4.475314         4.027241         4.074337      4.407996   \n",
       "2  1.670054   2.133631         2.050793         2.914883      2.622229   \n",
       "3  1.488937   1.761889         1.630924         2.791673      1.947392   \n",
       "4  1.365271   1.756867         1.877097         2.025894      3.891733   \n",
       "\n",
       "   Eccentricity  ConvexArea  EquivDiameter    Extent  Solidity  roundness  \\\n",
       "0      6.008954    1.815939       2.564276  7.249960  9.692861   9.599492   \n",
       "1      8.116537    2.836085       3.944692  7.148074  7.361961   5.200767   \n",
       "2      6.249241    1.651059       2.285633  6.480978  9.461633   9.217301   \n",
       "3      4.944941    1.470931       1.974250  7.214565  9.798561  10.000000   \n",
       "4      7.716176    1.357548       1.748719  7.658365  9.076779   8.312734   \n",
       "\n",
       "   Compactness  ShapeFactor1  ShapeFactor2  ShapeFactor3  ShapeFactor4  \n",
       "0     7.534442      4.949932      6.338256      7.153161      9.939511  \n",
       "1     5.031962      4.106907      3.261495      4.557913      7.686064  \n",
       "2     7.311453      5.438912      6.528719      6.909876      9.740964  \n",
       "3     8.334629      5.616748      8.092549      8.045553      9.953770  \n",
       "4     5.686900      7.058892      5.828550      5.208494      9.271746  "
      ]
     },
     "execution_count": 196,
     "metadata": {},
     "output_type": "execute_result"
    }
   ],
   "source": [
    "X_scaled_df.head()"
   ]
  },
  {
   "cell_type": "code",
   "execution_count": 197,
   "id": "e9b47752",
   "metadata": {},
   "outputs": [
    {
     "data": {
      "text/plain": [
       "Area               1.269917\n",
       "Perimeter          1.743431\n",
       "MajorAxisLength    1.929286\n",
       "MinorAxisLength    1.436504\n",
       "AspectRation       2.495305\n",
       "Eccentricity       1.429793\n",
       "ConvexArea         1.220357\n",
       "EquivDiameter      1.702920\n",
       "Extent             2.019396\n",
       "Solidity           0.309189\n",
       "roundness          1.142924\n",
       "Compactness        2.566088\n",
       "ShapeFactor1       1.750466\n",
       "ShapeFactor2       2.991209\n",
       "ShapeFactor3       2.491745\n",
       "ShapeFactor4       0.570142\n",
       "dtype: float64"
      ]
     },
     "execution_count": 197,
     "metadata": {},
     "output_type": "execute_result"
    }
   ],
   "source": [
    "X_scaled_df.var()"
   ]
  },
  {
   "cell_type": "markdown",
   "id": "11099d7b",
   "metadata": {},
   "source": [
    "## Variance Thresholding\n",
    "\n",
    "If the variance is low or close to zero, then a feature is approximately constant and will not improve the performance of the model. In that case, it should be removed.\n",
    "\n",
    "Variance will also be very low for a feature if only a handful of observations of that feature differ from a constant value.\n",
    "\n",
    "What we can do is set a threshold and drop features with low variance "
   ]
  },
  {
   "cell_type": "code",
   "execution_count": 198,
   "id": "9b441108",
   "metadata": {},
   "outputs": [],
   "source": [
    "vt = VarianceThreshold(threshold=1)\n",
    "X_scaled_var_feats = vt.fit_transform(X_scaled)"
   ]
  },
  {
   "cell_type": "code",
   "execution_count": 199,
   "id": "cc771ff5",
   "metadata": {},
   "outputs": [],
   "source": [
    "X_scaled_var_feats_df = pd.DataFrame(\n",
    "    X_scaled_var_feats, columns=X_scaled_df.columns[vt.get_support(indices=True)]\n",
    ")"
   ]
  },
  {
   "cell_type": "code",
   "execution_count": 200,
   "id": "cc73c3fb",
   "metadata": {},
   "outputs": [
    {
     "data": {
      "text/html": [
       "<div>\n",
       "<style scoped>\n",
       "    .dataframe tbody tr th:only-of-type {\n",
       "        vertical-align: middle;\n",
       "    }\n",
       "\n",
       "    .dataframe tbody tr th {\n",
       "        vertical-align: top;\n",
       "    }\n",
       "\n",
       "    .dataframe thead th {\n",
       "        text-align: right;\n",
       "    }\n",
       "</style>\n",
       "<table border=\"1\" class=\"dataframe\">\n",
       "  <thead>\n",
       "    <tr style=\"text-align: right;\">\n",
       "      <th></th>\n",
       "      <th>Area</th>\n",
       "      <th>Perimeter</th>\n",
       "      <th>MajorAxisLength</th>\n",
       "      <th>MinorAxisLength</th>\n",
       "      <th>AspectRation</th>\n",
       "      <th>Eccentricity</th>\n",
       "      <th>ConvexArea</th>\n",
       "      <th>EquivDiameter</th>\n",
       "      <th>Extent</th>\n",
       "      <th>roundness</th>\n",
       "      <th>Compactness</th>\n",
       "      <th>ShapeFactor1</th>\n",
       "      <th>ShapeFactor2</th>\n",
       "      <th>ShapeFactor3</th>\n",
       "    </tr>\n",
       "  </thead>\n",
       "  <tbody>\n",
       "    <tr>\n",
       "      <th>0</th>\n",
       "      <td>1.842333</td>\n",
       "      <td>2.333948</td>\n",
       "      <td>2.241553</td>\n",
       "      <td>3.259922</td>\n",
       "      <td>2.474618</td>\n",
       "      <td>6.008954</td>\n",
       "      <td>1.815939</td>\n",
       "      <td>2.564276</td>\n",
       "      <td>7.249960</td>\n",
       "      <td>9.599492</td>\n",
       "      <td>7.534442</td>\n",
       "      <td>4.949932</td>\n",
       "      <td>6.338256</td>\n",
       "      <td>7.153161</td>\n",
       "    </tr>\n",
       "    <tr>\n",
       "      <th>1</th>\n",
       "      <td>2.837961</td>\n",
       "      <td>4.475314</td>\n",
       "      <td>4.027241</td>\n",
       "      <td>4.074337</td>\n",
       "      <td>4.407996</td>\n",
       "      <td>8.116537</td>\n",
       "      <td>2.836085</td>\n",
       "      <td>3.944692</td>\n",
       "      <td>7.148074</td>\n",
       "      <td>5.200767</td>\n",
       "      <td>5.031962</td>\n",
       "      <td>4.106907</td>\n",
       "      <td>3.261495</td>\n",
       "      <td>4.557913</td>\n",
       "    </tr>\n",
       "    <tr>\n",
       "      <th>2</th>\n",
       "      <td>1.670054</td>\n",
       "      <td>2.133631</td>\n",
       "      <td>2.050793</td>\n",
       "      <td>2.914883</td>\n",
       "      <td>2.622229</td>\n",
       "      <td>6.249241</td>\n",
       "      <td>1.651059</td>\n",
       "      <td>2.285633</td>\n",
       "      <td>6.480978</td>\n",
       "      <td>9.217301</td>\n",
       "      <td>7.311453</td>\n",
       "      <td>5.438912</td>\n",
       "      <td>6.528719</td>\n",
       "      <td>6.909876</td>\n",
       "    </tr>\n",
       "    <tr>\n",
       "      <th>3</th>\n",
       "      <td>1.488937</td>\n",
       "      <td>1.761889</td>\n",
       "      <td>1.630924</td>\n",
       "      <td>2.791673</td>\n",
       "      <td>1.947392</td>\n",
       "      <td>4.944941</td>\n",
       "      <td>1.470931</td>\n",
       "      <td>1.974250</td>\n",
       "      <td>7.214565</td>\n",
       "      <td>10.000000</td>\n",
       "      <td>8.334629</td>\n",
       "      <td>5.616748</td>\n",
       "      <td>8.092549</td>\n",
       "      <td>8.045553</td>\n",
       "    </tr>\n",
       "    <tr>\n",
       "      <th>4</th>\n",
       "      <td>1.365271</td>\n",
       "      <td>1.756867</td>\n",
       "      <td>1.877097</td>\n",
       "      <td>2.025894</td>\n",
       "      <td>3.891733</td>\n",
       "      <td>7.716176</td>\n",
       "      <td>1.357548</td>\n",
       "      <td>1.748719</td>\n",
       "      <td>7.658365</td>\n",
       "      <td>8.312734</td>\n",
       "      <td>5.686900</td>\n",
       "      <td>7.058892</td>\n",
       "      <td>5.828550</td>\n",
       "      <td>5.208494</td>\n",
       "    </tr>\n",
       "  </tbody>\n",
       "</table>\n",
       "</div>"
      ],
      "text/plain": [
       "       Area  Perimeter  MajorAxisLength  MinorAxisLength  AspectRation  \\\n",
       "0  1.842333   2.333948         2.241553         3.259922      2.474618   \n",
       "1  2.837961   4.475314         4.027241         4.074337      4.407996   \n",
       "2  1.670054   2.133631         2.050793         2.914883      2.622229   \n",
       "3  1.488937   1.761889         1.630924         2.791673      1.947392   \n",
       "4  1.365271   1.756867         1.877097         2.025894      3.891733   \n",
       "\n",
       "   Eccentricity  ConvexArea  EquivDiameter    Extent  roundness  Compactness  \\\n",
       "0      6.008954    1.815939       2.564276  7.249960   9.599492     7.534442   \n",
       "1      8.116537    2.836085       3.944692  7.148074   5.200767     5.031962   \n",
       "2      6.249241    1.651059       2.285633  6.480978   9.217301     7.311453   \n",
       "3      4.944941    1.470931       1.974250  7.214565  10.000000     8.334629   \n",
       "4      7.716176    1.357548       1.748719  7.658365   8.312734     5.686900   \n",
       "\n",
       "   ShapeFactor1  ShapeFactor2  ShapeFactor3  \n",
       "0      4.949932      6.338256      7.153161  \n",
       "1      4.106907      3.261495      4.557913  \n",
       "2      5.438912      6.528719      6.909876  \n",
       "3      5.616748      8.092549      8.045553  \n",
       "4      7.058892      5.828550      5.208494  "
      ]
     },
     "execution_count": 200,
     "metadata": {},
     "output_type": "execute_result"
    }
   ],
   "source": [
    "X_scaled_var_feats_df.head()"
   ]
  },
  {
   "cell_type": "markdown",
   "id": "87fd72c0",
   "metadata": {},
   "source": [
    "**Obvservation**\n",
    "\n",
    " - As we can see 2 low variance features are removed which are `Solidity` and `ShapeFactor4`"
   ]
  },
  {
   "cell_type": "markdown",
   "id": "b7ef1cbe",
   "metadata": {},
   "source": [
    "## Anova Test\n",
    "\n",
    "Analysis of variance (ANOVA) is a statistical technique that is used to check if the means of two or more groups are significantly different from each other. ANOVA checks the impact of one or more factors by comparing the means of different samples. \n",
    "\n",
    "If we had categorical variables we would do another test called the $\\chi^2$ test. Since we have all numeric features we do the ANOVA test."
   ]
  },
  {
   "cell_type": "code",
   "execution_count": 201,
   "id": "2d1cf863",
   "metadata": {},
   "outputs": [
    {
     "data": {
      "text/plain": [
       "SelectKBest(k=8)"
      ]
     },
     "execution_count": 201,
     "metadata": {},
     "output_type": "execute_result"
    }
   ],
   "source": [
    "anova_filter = SelectKBest(score_func=f_classif, k=8)\n",
    "anova_filter.fit(X, y)"
   ]
  },
  {
   "cell_type": "code",
   "execution_count": 202,
   "id": "6ca72c37",
   "metadata": {},
   "outputs": [],
   "source": [
    "anova_df = pd.DataFrame(\n",
    "    {\n",
    "        \"features\": df.columns[anova_filter.get_support(indices=True)],\n",
    "        \"scores\": anova_filter.scores_[anova_filter.get_support(indices=True)],\n",
    "    }\n",
    ")"
   ]
  },
  {
   "cell_type": "code",
   "execution_count": 203,
   "id": "1c9fe7e7",
   "metadata": {},
   "outputs": [
    {
     "data": {
      "text/html": [
       "<div>\n",
       "<style scoped>\n",
       "    .dataframe tbody tr th:only-of-type {\n",
       "        vertical-align: middle;\n",
       "    }\n",
       "\n",
       "    .dataframe tbody tr th {\n",
       "        vertical-align: top;\n",
       "    }\n",
       "\n",
       "    .dataframe thead th {\n",
       "        text-align: right;\n",
       "    }\n",
       "</style>\n",
       "<table border=\"1\" class=\"dataframe\">\n",
       "  <thead>\n",
       "    <tr style=\"text-align: right;\">\n",
       "      <th></th>\n",
       "      <th>features</th>\n",
       "      <th>scores</th>\n",
       "    </tr>\n",
       "  </thead>\n",
       "  <tbody>\n",
       "    <tr>\n",
       "      <th>0</th>\n",
       "      <td>Area</td>\n",
       "      <td>29017.510462</td>\n",
       "    </tr>\n",
       "    <tr>\n",
       "      <th>1</th>\n",
       "      <td>Perimeter</td>\n",
       "      <td>24283.663708</td>\n",
       "    </tr>\n",
       "    <tr>\n",
       "      <th>2</th>\n",
       "      <td>MajorAxisLength</td>\n",
       "      <td>21622.237935</td>\n",
       "    </tr>\n",
       "    <tr>\n",
       "      <th>3</th>\n",
       "      <td>MinorAxisLength</td>\n",
       "      <td>22442.386382</td>\n",
       "    </tr>\n",
       "    <tr>\n",
       "      <th>4</th>\n",
       "      <td>ConvexArea</td>\n",
       "      <td>28961.791217</td>\n",
       "    </tr>\n",
       "    <tr>\n",
       "      <th>5</th>\n",
       "      <td>EquivDiameter</td>\n",
       "      <td>25444.547794</td>\n",
       "    </tr>\n",
       "    <tr>\n",
       "      <th>6</th>\n",
       "      <td>ShapeFactor1</td>\n",
       "      <td>12081.321137</td>\n",
       "    </tr>\n",
       "    <tr>\n",
       "      <th>7</th>\n",
       "      <td>ShapeFactor2</td>\n",
       "      <td>12329.884201</td>\n",
       "    </tr>\n",
       "  </tbody>\n",
       "</table>\n",
       "</div>"
      ],
      "text/plain": [
       "          features        scores\n",
       "0             Area  29017.510462\n",
       "1        Perimeter  24283.663708\n",
       "2  MajorAxisLength  21622.237935\n",
       "3  MinorAxisLength  22442.386382\n",
       "4       ConvexArea  28961.791217\n",
       "5    EquivDiameter  25444.547794\n",
       "6     ShapeFactor1  12081.321137\n",
       "7     ShapeFactor2  12329.884201"
      ]
     },
     "execution_count": 203,
     "metadata": {},
     "output_type": "execute_result"
    }
   ],
   "source": [
    "anova_df"
   ]
  },
  {
   "cell_type": "markdown",
   "id": "1d1591a2",
   "metadata": {},
   "source": [
    "**Obvservation**\n",
    "\n",
    " - We have selected 8 best features according to the anova scores. \n",
    " - We can select more features also, it can be a thought of as a hyperparameter to be tuned i.e trying different models with different number of features\n",
    " - I selected the number 8 as in the previous EDA notebook we saw that 8 principal components could be used to describe the whole dataset"
   ]
  },
  {
   "cell_type": "markdown",
   "id": "d48ea860",
   "metadata": {},
   "source": [
    "## RFE (Recursive Feature Elimination)\n",
    "\n",
    "Recursive Feature Elimination selects features by recursively considering smaller subsets of features by pruning the least important feature at each step. Here models are created iteartively and in each iteration it determines the best and worst performing features and this process continues until all the features are explored.Next ranking is given on eah feature based on their elimination orde. In the worst case, if a dataset contains N number of features RFE will do a greedy search for $N^2$ combinations of features."
   ]
  },
  {
   "cell_type": "code",
   "execution_count": 204,
   "id": "f7648f42",
   "metadata": {},
   "outputs": [
    {
     "name": "stdout",
     "output_type": "stream",
     "text": [
      "Fitting estimator with 16 features.\n",
      "Fitting estimator with 15 features.\n",
      "Fitting estimator with 14 features.\n",
      "Fitting estimator with 13 features.\n",
      "Fitting estimator with 12 features.\n",
      "Fitting estimator with 11 features.\n",
      "Fitting estimator with 10 features.\n",
      "Fitting estimator with 9 features.\n"
     ]
    },
    {
     "data": {
      "text/plain": [
       "RFE(estimator=DecisionTreeClassifier(), n_features_to_select=8, verbose=3)"
      ]
     },
     "execution_count": 204,
     "metadata": {},
     "output_type": "execute_result"
    }
   ],
   "source": [
    "rfe = RFE(estimator=DecisionTreeClassifier(), n_features_to_select=8, verbose=3)\n",
    "rfe.fit(X, y)"
   ]
  },
  {
   "cell_type": "code",
   "execution_count": 205,
   "id": "150de8cf",
   "metadata": {},
   "outputs": [
    {
     "data": {
      "text/plain": [
       "array(['Perimeter', 'MajorAxisLength', 'MinorAxisLength', 'roundness',\n",
       "       'Compactness', 'ShapeFactor1', 'ShapeFactor3', 'ShapeFactor4'],\n",
       "      dtype=object)"
      ]
     },
     "execution_count": 205,
     "metadata": {},
     "output_type": "execute_result"
    }
   ],
   "source": [
    "rfe.get_feature_names_out()"
   ]
  },
  {
   "cell_type": "code",
   "execution_count": 206,
   "id": "56de84b9",
   "metadata": {},
   "outputs": [],
   "source": [
    "rfe_df = pd.DataFrame(\n",
    "    {\"features\": X.columns.to_list(), \"rank\": rfe.ranking_, \"selected\": rfe.support_}\n",
    ")"
   ]
  },
  {
   "cell_type": "code",
   "execution_count": 207,
   "id": "8014193b",
   "metadata": {},
   "outputs": [
    {
     "data": {
      "text/html": [
       "<div>\n",
       "<style scoped>\n",
       "    .dataframe tbody tr th:only-of-type {\n",
       "        vertical-align: middle;\n",
       "    }\n",
       "\n",
       "    .dataframe tbody tr th {\n",
       "        vertical-align: top;\n",
       "    }\n",
       "\n",
       "    .dataframe thead th {\n",
       "        text-align: right;\n",
       "    }\n",
       "</style>\n",
       "<table border=\"1\" class=\"dataframe\">\n",
       "  <thead>\n",
       "    <tr style=\"text-align: right;\">\n",
       "      <th></th>\n",
       "      <th>features</th>\n",
       "      <th>rank</th>\n",
       "      <th>selected</th>\n",
       "    </tr>\n",
       "  </thead>\n",
       "  <tbody>\n",
       "    <tr>\n",
       "      <th>0</th>\n",
       "      <td>Area</td>\n",
       "      <td>8</td>\n",
       "      <td>False</td>\n",
       "    </tr>\n",
       "    <tr>\n",
       "      <th>1</th>\n",
       "      <td>Perimeter</td>\n",
       "      <td>1</td>\n",
       "      <td>True</td>\n",
       "    </tr>\n",
       "    <tr>\n",
       "      <th>2</th>\n",
       "      <td>MajorAxisLength</td>\n",
       "      <td>1</td>\n",
       "      <td>True</td>\n",
       "    </tr>\n",
       "    <tr>\n",
       "      <th>3</th>\n",
       "      <td>MinorAxisLength</td>\n",
       "      <td>1</td>\n",
       "      <td>True</td>\n",
       "    </tr>\n",
       "    <tr>\n",
       "      <th>4</th>\n",
       "      <td>AspectRation</td>\n",
       "      <td>9</td>\n",
       "      <td>False</td>\n",
       "    </tr>\n",
       "    <tr>\n",
       "      <th>5</th>\n",
       "      <td>Eccentricity</td>\n",
       "      <td>7</td>\n",
       "      <td>False</td>\n",
       "    </tr>\n",
       "    <tr>\n",
       "      <th>6</th>\n",
       "      <td>ConvexArea</td>\n",
       "      <td>5</td>\n",
       "      <td>False</td>\n",
       "    </tr>\n",
       "    <tr>\n",
       "      <th>7</th>\n",
       "      <td>EquivDiameter</td>\n",
       "      <td>3</td>\n",
       "      <td>False</td>\n",
       "    </tr>\n",
       "    <tr>\n",
       "      <th>8</th>\n",
       "      <td>Extent</td>\n",
       "      <td>4</td>\n",
       "      <td>False</td>\n",
       "    </tr>\n",
       "    <tr>\n",
       "      <th>9</th>\n",
       "      <td>Solidity</td>\n",
       "      <td>2</td>\n",
       "      <td>False</td>\n",
       "    </tr>\n",
       "    <tr>\n",
       "      <th>10</th>\n",
       "      <td>roundness</td>\n",
       "      <td>1</td>\n",
       "      <td>True</td>\n",
       "    </tr>\n",
       "    <tr>\n",
       "      <th>11</th>\n",
       "      <td>Compactness</td>\n",
       "      <td>1</td>\n",
       "      <td>True</td>\n",
       "    </tr>\n",
       "    <tr>\n",
       "      <th>12</th>\n",
       "      <td>ShapeFactor1</td>\n",
       "      <td>1</td>\n",
       "      <td>True</td>\n",
       "    </tr>\n",
       "    <tr>\n",
       "      <th>13</th>\n",
       "      <td>ShapeFactor2</td>\n",
       "      <td>6</td>\n",
       "      <td>False</td>\n",
       "    </tr>\n",
       "    <tr>\n",
       "      <th>14</th>\n",
       "      <td>ShapeFactor3</td>\n",
       "      <td>1</td>\n",
       "      <td>True</td>\n",
       "    </tr>\n",
       "    <tr>\n",
       "      <th>15</th>\n",
       "      <td>ShapeFactor4</td>\n",
       "      <td>1</td>\n",
       "      <td>True</td>\n",
       "    </tr>\n",
       "  </tbody>\n",
       "</table>\n",
       "</div>"
      ],
      "text/plain": [
       "           features  rank  selected\n",
       "0              Area     8     False\n",
       "1         Perimeter     1      True\n",
       "2   MajorAxisLength     1      True\n",
       "3   MinorAxisLength     1      True\n",
       "4      AspectRation     9     False\n",
       "5      Eccentricity     7     False\n",
       "6        ConvexArea     5     False\n",
       "7     EquivDiameter     3     False\n",
       "8            Extent     4     False\n",
       "9          Solidity     2     False\n",
       "10        roundness     1      True\n",
       "11      Compactness     1      True\n",
       "12     ShapeFactor1     1      True\n",
       "13     ShapeFactor2     6     False\n",
       "14     ShapeFactor3     1      True\n",
       "15     ShapeFactor4     1      True"
      ]
     },
     "execution_count": 207,
     "metadata": {},
     "output_type": "execute_result"
    }
   ],
   "source": [
    "rfe_df"
   ]
  },
  {
   "cell_type": "markdown",
   "id": "b9b222ef",
   "metadata": {},
   "source": [
    "**Obvservation**\n",
    "\n",
    " - We can see that the ones which are marked as `True` are the features selected."
   ]
  },
  {
   "cell_type": "markdown",
   "id": "ec59b406",
   "metadata": {},
   "source": [
    "## Feature Selection using RandomForest\n",
    "\n",
    "Feature selection using Random forest comes under the category of Embedded methods. Embedded methods combine the qualities of filter and wrapper methods. They are implemented by algorithms that have their own built-in feature selection methods. Some of the benefits of embedded methods are :\n",
    "\n",
    "1. They are highly accurate.\n",
    "2. They generalize better.\n",
    "3. They are interpretable"
   ]
  },
  {
   "cell_type": "code",
   "execution_count": 208,
   "id": "f6047031",
   "metadata": {},
   "outputs": [],
   "source": [
    "X_train, X_test, y_train, y_test = train_test_split(\n",
    "    X, y, test_size=0.3, random_state=42, stratify=y\n",
    ")"
   ]
  },
  {
   "cell_type": "code",
   "execution_count": 209,
   "id": "64fe432d",
   "metadata": {
    "scrolled": false
   },
   "outputs": [
    {
     "data": {
      "text/plain": [
       "SelectFromModel(estimator=RandomForestClassifier(n_jobs=-1, verbose=1))"
      ]
     },
     "execution_count": 209,
     "metadata": {},
     "output_type": "execute_result"
    }
   ],
   "source": [
    "selector = SelectFromModel(\n",
    "    estimator=RandomForestClassifier(n_estimators=100, verbose=1, n_jobs=-1)\n",
    ")\n",
    "selector.fit(X_train, y_train)"
   ]
  },
  {
   "cell_type": "code",
   "execution_count": 210,
   "id": "99cf6bff",
   "metadata": {},
   "outputs": [
    {
     "name": "stdout",
     "output_type": "stream",
     "text": [
      "Selected features are: ['Perimeter' 'MajorAxisLength' 'MinorAxisLength' 'AspectRation'\n",
      " 'EquivDiameter' 'Compactness' 'ShapeFactor1' 'ShapeFactor3']\n"
     ]
    }
   ],
   "source": [
    "print(f\"Selected features are: {selector.get_feature_names_out()}\")"
   ]
  },
  {
   "cell_type": "markdown",
   "id": "5844a1a6",
   "metadata": {},
   "source": [
    "## Conclusion\n",
    "\n",
    "I now enlist all the methods used and the features selected"
   ]
  },
  {
   "cell_type": "code",
   "execution_count": 211,
   "id": "277c035f",
   "metadata": {},
   "outputs": [],
   "source": [
    "methods = [\n",
    "    \"Variance Thresholding (threshold = 1)\",\n",
    "    \"ANOVA F-test\",\n",
    "    \"Recursive Feature Elimination (estimator = DecisionTreeClassifier)\",\n",
    "    \"Using RandomForest feature importance\",\n",
    "]\n",
    "\n",
    "features = [\n",
    "    X_scaled_var_feats_df.columns.to_list(),\n",
    "    df.columns[anova_filter.get_support(indices=True)].to_list(),\n",
    "    rfe.get_feature_names_out().tolist(),\n",
    "    selector.get_feature_names_out().tolist(),\n",
    "]"
   ]
  },
  {
   "cell_type": "code",
   "execution_count": 212,
   "id": "a3d05dc2",
   "metadata": {},
   "outputs": [],
   "source": [
    "table = PrettyTable([\"Methods\", \"Features Selected\"])\n",
    "for m, f in zip(methods, features):\n",
    "    table.add_row([m, f])"
   ]
  },
  {
   "cell_type": "code",
   "execution_count": 213,
   "id": "b192246c",
   "metadata": {},
   "outputs": [
    {
     "data": {
      "text/html": [
       "<table>\n",
       "    <thead>\n",
       "        <tr>\n",
       "            <th>Methods</th>\n",
       "            <th>Features Selected</th>\n",
       "        </tr>\n",
       "    </thead>\n",
       "    <tbody>\n",
       "        <tr>\n",
       "            <td>Variance Thresholding (threshold = 1)</td>\n",
       "            <td>[&#x27;Area&#x27;, &#x27;Perimeter&#x27;, &#x27;MajorAxisLength&#x27;, &#x27;MinorAxisLength&#x27;, &#x27;AspectRation&#x27;, &#x27;Eccentricity&#x27;, &#x27;ConvexArea&#x27;, &#x27;EquivDiameter&#x27;, &#x27;Extent&#x27;, &#x27;roundness&#x27;, &#x27;Compactness&#x27;, &#x27;ShapeFactor1&#x27;, &#x27;ShapeFactor2&#x27;, &#x27;ShapeFactor3&#x27;]</td>\n",
       "        </tr>\n",
       "        <tr>\n",
       "            <td>ANOVA F-test</td>\n",
       "            <td>[&#x27;Area&#x27;, &#x27;Perimeter&#x27;, &#x27;MajorAxisLength&#x27;, &#x27;MinorAxisLength&#x27;, &#x27;ConvexArea&#x27;, &#x27;EquivDiameter&#x27;, &#x27;ShapeFactor1&#x27;, &#x27;ShapeFactor2&#x27;]</td>\n",
       "        </tr>\n",
       "        <tr>\n",
       "            <td>Recursive Feature Elimination (estimator = DecisionTreeClassifier)</td>\n",
       "            <td>[&#x27;Perimeter&#x27;, &#x27;MajorAxisLength&#x27;, &#x27;MinorAxisLength&#x27;, &#x27;roundness&#x27;, &#x27;Compactness&#x27;, &#x27;ShapeFactor1&#x27;, &#x27;ShapeFactor3&#x27;, &#x27;ShapeFactor4&#x27;]</td>\n",
       "        </tr>\n",
       "        <tr>\n",
       "            <td>Using RandomForest feature importance</td>\n",
       "            <td>[&#x27;Perimeter&#x27;, &#x27;MajorAxisLength&#x27;, &#x27;MinorAxisLength&#x27;, &#x27;AspectRation&#x27;, &#x27;EquivDiameter&#x27;, &#x27;Compactness&#x27;, &#x27;ShapeFactor1&#x27;, &#x27;ShapeFactor3&#x27;]</td>\n",
       "        </tr>\n",
       "    </tbody>\n",
       "</table>"
      ],
      "text/plain": [
       "+--------------------------------------------------------------------+------------------------------------------------------------------------------------------------------------------------------------------------------------------------------------------------------------------+\n",
       "|                              Methods                               |                                                                                                Features Selected                                                                                                 |\n",
       "+--------------------------------------------------------------------+------------------------------------------------------------------------------------------------------------------------------------------------------------------------------------------------------------------+\n",
       "|               Variance Thresholding (threshold = 1)                | ['Area', 'Perimeter', 'MajorAxisLength', 'MinorAxisLength', 'AspectRation', 'Eccentricity', 'ConvexArea', 'EquivDiameter', 'Extent', 'roundness', 'Compactness', 'ShapeFactor1', 'ShapeFactor2', 'ShapeFactor3'] |\n",
       "|                            ANOVA F-test                            |                                            ['Area', 'Perimeter', 'MajorAxisLength', 'MinorAxisLength', 'ConvexArea', 'EquivDiameter', 'ShapeFactor1', 'ShapeFactor2']                                            |\n",
       "| Recursive Feature Elimination (estimator = DecisionTreeClassifier) |                                         ['Perimeter', 'MajorAxisLength', 'MinorAxisLength', 'roundness', 'Compactness', 'ShapeFactor1', 'ShapeFactor3', 'ShapeFactor4']                                          |\n",
       "|               Using RandomForest feature importance                |                                       ['Perimeter', 'MajorAxisLength', 'MinorAxisLength', 'AspectRation', 'EquivDiameter', 'Compactness', 'ShapeFactor1', 'ShapeFactor3']                                        |\n",
       "+--------------------------------------------------------------------+------------------------------------------------------------------------------------------------------------------------------------------------------------------------------------------------------------------+"
      ]
     },
     "execution_count": 213,
     "metadata": {},
     "output_type": "execute_result"
    }
   ],
   "source": [
    "table"
   ]
  },
  {
   "cell_type": "markdown",
   "id": "552853b1",
   "metadata": {},
   "source": [
    "# Modelling"
   ]
  },
  {
   "cell_type": "code",
   "execution_count": 214,
   "id": "305f70b7",
   "metadata": {},
   "outputs": [],
   "source": [
    "class Modelling:\n",
    "    def __init__(self, X_train, y_train, X_test, y_test, model, class_names):\n",
    "        self._X_train, self._y_train, self._X_test, self._y_test = (\n",
    "            X_train,\n",
    "            y_train,\n",
    "            X_test,\n",
    "            y_test,\n",
    "        )\n",
    "        self._model = model\n",
    "        self._tuned_model = None\n",
    "        self.class_names = class_names\n",
    "        self.scorer = metrics.make_scorer(metrics.f1_score, average=\"weighted\")\n",
    "        self.preds = None\n",
    "        self.study = None\n",
    "        self.scaler = StandardScaler()\n",
    "        self.X_train_scaled = self.scaler.fit_transform(self._X_train)\n",
    "        self.X_test_scaled = self.scaler.transform(self._X_test)\n",
    "        \n",
    "        print(f\"Using model: {self._model.__class__.__name__}\")\n",
    "\n",
    "    def get_preds(self):\n",
    "        \"\"\"\n",
    "        This method calculates the the predictions either\n",
    "        using base-line or tuned-model\n",
    "\n",
    "        The sequence of calling `perform_cross_validation()`\n",
    "        or `tune()` method before this depends on how it's\n",
    "        going to calculate the predsictions\n",
    "\n",
    "\n",
    "        Parameters\n",
    "        ----------\n",
    "\n",
    "        self.preds: the np.array of predictions\n",
    "\n",
    "        If called after `perform_cross_validation()` uses baseline model\n",
    "        If called after `tune()` used tuned_model\n",
    "\n",
    "        \"\"\"\n",
    "        if self._tuned_model is not None:\n",
    "            if self._tuned_model.__class__.__name__ == \"LinearSVC\":\n",
    "                self.preds = self._tuned_model.predict(self.X_test_scaled)\n",
    "            else:\n",
    "                self.preds = self._tuned_model.predict(self._X_test)\n",
    "        else:\n",
    "            if self._model.__class__.__name__ == \"LinearSVC\":\n",
    "                self.preds = self._model.predict(self.X_test_scaled)\n",
    "            else:\n",
    "                self.preds = self._model.predict(self._X_test)\n",
    "\n",
    "    def perform_cross_validation(self):\n",
    "        \"\"\"\n",
    "        Performs 10-fold cross-validation over the baseline model\n",
    "        \"\"\"\n",
    "        print(\"Performing 10-fold cross validation\")\n",
    "        \n",
    "        if self._model.__class__.__name__ == \"LinearSVC\":\n",
    "            results = cross_validate(\n",
    "                estimator=self._model,\n",
    "                X=self.X_train_scaled,\n",
    "                y=self._y_train,\n",
    "                scoring=self.scorer,\n",
    "                cv=StratifiedKFold(n_splits=10),\n",
    "                verbose=2,\n",
    "                n_jobs=-1,\n",
    "                return_estimator=True,\n",
    "            )\n",
    "            self._model = results[\"estimator\"][-1]\n",
    "        else:\n",
    "            results = cross_validate(\n",
    "                estimator=self._model,\n",
    "                X=self._X_train,\n",
    "                y=self._y_train,\n",
    "                scoring=self.scorer,\n",
    "                cv=StratifiedKFold(n_splits=10),\n",
    "                verbose=2,\n",
    "                n_jobs=-1,\n",
    "                return_estimator=True,\n",
    "            )\n",
    "            self._model = results[\"estimator\"][-1]\n",
    "\n",
    "        # Calling the get_preds() function after cross-val\n",
    "        # This should use base-line model for metrics and confusion-matrix\n",
    "        self.get_preds()\n",
    "\n",
    "    def plot_cf(self, save=True):\n",
    "        \"\"\"\n",
    "        Plots the confusion matrix\n",
    "\n",
    "        Depending on the state of tuned_model this function uses\n",
    "        tuned_model or base-line model for plotting the confusion matrix.\n",
    "        This behavior is controlled by `get_preds()` method.\n",
    "        The sequence of model-fitting and calling get_preds defines whether\n",
    "        the confusion matrix is made from base-line or tuned-model. Refer `get_preds()`\n",
    "\n",
    "        Parameters\n",
    "        ----------\n",
    "\n",
    "        save: default=True\n",
    "            To the save the cf as a .png file\n",
    "        \"\"\"\n",
    "\n",
    "        if self._tuned_model is not None:\n",
    "            cf = metrics.confusion_matrix(self._y_test, self.preds)\n",
    "        else:\n",
    "            cf = metrics.confusion_matrix(self._y_test, self.preds)\n",
    "\n",
    "        ax = sns.heatmap(\n",
    "            cf,\n",
    "            annot=True,\n",
    "            xticklabels=self.class_names,\n",
    "            yticklabels=self.class_names,\n",
    "            fmt=\"d\",\n",
    "            cmap=\"viridis_r\",\n",
    "        )\n",
    "\n",
    "        title = str()\n",
    "\n",
    "        if self._tuned_model is not None:\n",
    "            title = f\"Confusion Matrix for Tuned {self._model.__class__.__name__}\"\n",
    "            ax.set_title(title, fontsize=\"30\")\n",
    "        else:\n",
    "            title = f\"Confusion Matrix for Base-line {self._model.__class__.__name__}\"\n",
    "            ax.set_title(title, fontsize=\"30\")\n",
    "\n",
    "        ax.set_ylabel(\"Actual Class\", fontsize=\"20\")\n",
    "        _ = ax.set_xlabel(\"Predicted Class\", fontsize=\"20\")\n",
    "\n",
    "        if save:\n",
    "            fig = ax.get_figure()\n",
    "            fig.savefig(f\"./ML_results/{title}.png\", bbox_inches=\"tight\")\n",
    "            print(f\"Figure saved at ./ML_results/{title}.png\")\n",
    "\n",
    "    def get_metrics(self):\n",
    "        \"\"\"\n",
    "        This method prints the `classification_report_imbalanced()`\n",
    "\n",
    "        Depending on the state of tuned_model this function uses\n",
    "        tuned_model or base-line model calculating the metrics.\n",
    "        This behavior is controlled by `get_preds()` method.\n",
    "        The sequence of model-fitting and calling get_preds defines whether\n",
    "        the metrics are calculated from base-line or tuned-model. Refer `get_preds()`\n",
    "        \"\"\"\n",
    "\n",
    "        print(\n",
    "            classification_report_imbalanced(\n",
    "                self._y_test, self.preds, target_names=self.class_names\n",
    "            )\n",
    "        )\n",
    "\n",
    "    def objective(self, trial):\n",
    "\n",
    "        classifier_name = trial.suggest_categorical(\"clf_name\", [\"rf\", \"dt\", \"svm\"])\n",
    "\n",
    "        if classifier_name == \"rf\":\n",
    "            params = {\n",
    "                \"max_depth\": trial.suggest_categorical(\n",
    "                    \"rf_max_depth\", [10, 20, 30, 40]\n",
    "                ),\n",
    "                \"bootstrap\": trial.suggest_categorical(\"rf_bootstrap\", [True, False]),\n",
    "                \"max_features\": trial.suggest_categorical(\n",
    "                    \"rf_max_features\", [\"auto\", \"sqrt\"]\n",
    "                ),\n",
    "                \"class_weight\": trial.suggest_categorical(\n",
    "                    \"rf_class_weight\", [\"balanced\", \"balanced_subsample\"]\n",
    "                ),\n",
    "                \"n_jobs\": -1,\n",
    "            }\n",
    "            self._model = RandomForestClassifier(**params)\n",
    "\n",
    "            return np.mean(\n",
    "                cross_val_score(\n",
    "                    estimator=self._model,\n",
    "                    X=self._X_train,\n",
    "                    y=self._y_train,\n",
    "                    scoring=self.scorer,\n",
    "                    n_jobs=-1,\n",
    "                )\n",
    "            )\n",
    "\n",
    "        elif classifier_name == \"dt\":\n",
    "            params = {\n",
    "                \"max_depth\": trial.suggest_categorical(\n",
    "                    \"dt_max_depth\", [2, 3, 5, 10, 20]\n",
    "                ),\n",
    "                \"min_samples_leaf\": trial.suggest_categorical(\n",
    "                    \"dt_min_samples_leaf\", [5, 10, 20, 50, 100]\n",
    "                ),\n",
    "                \"max_features\": trial.suggest_categorical(\n",
    "                    \"dt_max_features\", [\"sqrt\", \"auto\", \"log2\"]\n",
    "                ),\n",
    "                \"criterion\": trial.suggest_categorical(\n",
    "                    \"dt_criterion\", [\"gini\", \"entropy\"]\n",
    "                ),\n",
    "                \"splitter\": trial.suggest_categorical(\n",
    "                    \"dt_splitter\", [\"best\", \"random\"]\n",
    "                ),\n",
    "            }\n",
    "            self._model = DecisionTreeClassifier(**params)\n",
    "\n",
    "            return np.mean(\n",
    "                cross_val_score(\n",
    "                    estimator=self._model,\n",
    "                    X=self._X_train,\n",
    "                    y=self._y_train,\n",
    "                    scoring=self.scorer,\n",
    "                    n_jobs=-1,\n",
    "                )\n",
    "            )\n",
    "\n",
    "        elif classifier_name == \"svm\":\n",
    "            params = {\n",
    "                \"C\": trial.suggest_float(\"svm_C\", 0.1, 3.0, log=True),\n",
    "                \"loss\": trial.suggest_categorical(\n",
    "                    \"svm_loss\", [\"hinge\", \"squared_hinge\"]\n",
    "                ),\n",
    "                \"class_weight\": \"balanced\",\n",
    "            }\n",
    "            self._model = LinearSVC()\n",
    "\n",
    "            return np.mean(\n",
    "                cross_val_score(\n",
    "                    estimator=self._model,\n",
    "                    X=self.X_train_scaled,\n",
    "                    y=self._y_train,\n",
    "                    scoring=self.scorer,\n",
    "                    n_jobs=-1,\n",
    "                )\n",
    "            )\n",
    "\n",
    "    def clean_hparams(self):\n",
    "        d = {}\n",
    "        for k, v in self.study.best_params.items():\n",
    "            if k == \"clf_name\":\n",
    "                continue\n",
    "            idx = k.index(\"_\") + 1\n",
    "            k = k[idx:]\n",
    "            d[k] = v\n",
    "\n",
    "        return d\n",
    "\n",
    "    def tune(self, n_trials=50):\n",
    "\n",
    "        # Create Optuna study 'DryBeanStudy'\n",
    "        self.study = optuna.create_study(\n",
    "            direction=\"maximize\", study_name=\"DryBeanStudy\",\n",
    "            storage='sqlite:///DryBean.db'\n",
    "        )\n",
    "\n",
    "        # Optimize the study\n",
    "        self.study.optimize(self.objective, n_trials=n_trials)\n",
    "\n",
    "        best_params = self.clean_hparams()\n",
    "\n",
    "        if self.study.best_params[\"clf_name\"] == \"rf\":\n",
    "            self._tuned_model = RandomForestClassifier(**best_params).fit(\n",
    "                self._X_train, self._y_train\n",
    "            )\n",
    "        elif self.study.best_params[\"clf_name\"] == \"dt\":\n",
    "            self._tuned_model = DecisionTreeClassifier(**best_params).fit(\n",
    "                self._X_train, self._y_train\n",
    "            )\n",
    "        else:\n",
    "            self._tuned_model = LinearSVC(**best_params).fit(\n",
    "                self.X_train_scaled, self._y_train\n",
    "            )\n",
    "\n",
    "        # Calling the get_preds() function after cross-val\n",
    "        # This should update Tuned model for metrics and confusion-matrix\n",
    "        self.get_preds()\n",
    "        \n",
    "        return self.study"
   ]
  },
  {
   "cell_type": "markdown",
   "id": "8e548c6c",
   "metadata": {},
   "source": [
    "## Anova Features"
   ]
  },
  {
   "cell_type": "markdown",
   "id": "6cc26ac3",
   "metadata": {},
   "source": [
    "Let's start with features selected using the ANOVA F-test\n",
    "\n",
    "Our metric of choice is going to be `Weighted F1-score`. \n",
    "Here's a very good explanation for it: [link](https://stats.stackexchange.com/questions/463224/which-performance-metrics-for-highly-imbalanced-multiclass-dataset) "
   ]
  },
  {
   "cell_type": "code",
   "execution_count": 215,
   "id": "6472d1fd",
   "metadata": {},
   "outputs": [],
   "source": [
    "feats = anova_filter.get_feature_names_out().tolist()"
   ]
  },
  {
   "cell_type": "code",
   "execution_count": 216,
   "id": "7331561c",
   "metadata": {},
   "outputs": [
    {
     "data": {
      "text/html": [
       "<div>\n",
       "<style scoped>\n",
       "    .dataframe tbody tr th:only-of-type {\n",
       "        vertical-align: middle;\n",
       "    }\n",
       "\n",
       "    .dataframe tbody tr th {\n",
       "        vertical-align: top;\n",
       "    }\n",
       "\n",
       "    .dataframe thead th {\n",
       "        text-align: right;\n",
       "    }\n",
       "</style>\n",
       "<table border=\"1\" class=\"dataframe\">\n",
       "  <thead>\n",
       "    <tr style=\"text-align: right;\">\n",
       "      <th></th>\n",
       "      <th>Area</th>\n",
       "      <th>Perimeter</th>\n",
       "      <th>MajorAxisLength</th>\n",
       "      <th>MinorAxisLength</th>\n",
       "      <th>ConvexArea</th>\n",
       "      <th>EquivDiameter</th>\n",
       "      <th>ShapeFactor1</th>\n",
       "      <th>ShapeFactor2</th>\n",
       "    </tr>\n",
       "  </thead>\n",
       "  <tbody>\n",
       "    <tr>\n",
       "      <th>0</th>\n",
       "      <td>42339</td>\n",
       "      <td>741.226</td>\n",
       "      <td>260.199330</td>\n",
       "      <td>207.306394</td>\n",
       "      <td>42676</td>\n",
       "      <td>232.180294</td>\n",
       "      <td>0.006146</td>\n",
       "      <td>0.002403</td>\n",
       "    </tr>\n",
       "    <tr>\n",
       "      <th>1</th>\n",
       "      <td>68247</td>\n",
       "      <td>1088.754</td>\n",
       "      <td>370.368146</td>\n",
       "      <td>237.863792</td>\n",
       "      <td>70172</td>\n",
       "      <td>294.779204</td>\n",
       "      <td>0.005427</td>\n",
       "      <td>0.001343</td>\n",
       "    </tr>\n",
       "    <tr>\n",
       "      <th>2</th>\n",
       "      <td>37856</td>\n",
       "      <td>708.716</td>\n",
       "      <td>248.430330</td>\n",
       "      <td>194.360324</td>\n",
       "      <td>38232</td>\n",
       "      <td>219.544429</td>\n",
       "      <td>0.006563</td>\n",
       "      <td>0.002469</td>\n",
       "    </tr>\n",
       "    <tr>\n",
       "      <th>3</th>\n",
       "      <td>33143</td>\n",
       "      <td>648.385</td>\n",
       "      <td>222.526309</td>\n",
       "      <td>189.737379</td>\n",
       "      <td>33377</td>\n",
       "      <td>205.423899</td>\n",
       "      <td>0.006714</td>\n",
       "      <td>0.003008</td>\n",
       "    </tr>\n",
       "    <tr>\n",
       "      <th>4</th>\n",
       "      <td>29925</td>\n",
       "      <td>647.570</td>\n",
       "      <td>237.714031</td>\n",
       "      <td>161.004849</td>\n",
       "      <td>30321</td>\n",
       "      <td>195.196551</td>\n",
       "      <td>0.007944</td>\n",
       "      <td>0.002228</td>\n",
       "    </tr>\n",
       "    <tr>\n",
       "      <th>5</th>\n",
       "      <td>38489</td>\n",
       "      <td>707.978</td>\n",
       "      <td>244.119399</td>\n",
       "      <td>200.950084</td>\n",
       "      <td>38782</td>\n",
       "      <td>221.372349</td>\n",
       "      <td>0.006343</td>\n",
       "      <td>0.002646</td>\n",
       "    </tr>\n",
       "    <tr>\n",
       "      <th>6</th>\n",
       "      <td>89592</td>\n",
       "      <td>1155.357</td>\n",
       "      <td>452.291405</td>\n",
       "      <td>254.964533</td>\n",
       "      <td>90627</td>\n",
       "      <td>337.745581</td>\n",
       "      <td>0.005048</td>\n",
       "      <td>0.000968</td>\n",
       "    </tr>\n",
       "    <tr>\n",
       "      <th>7</th>\n",
       "      <td>42379</td>\n",
       "      <td>759.965</td>\n",
       "      <td>251.037567</td>\n",
       "      <td>215.217912</td>\n",
       "      <td>42840</td>\n",
       "      <td>232.289945</td>\n",
       "      <td>0.005924</td>\n",
       "      <td>0.002679</td>\n",
       "    </tr>\n",
       "    <tr>\n",
       "      <th>8</th>\n",
       "      <td>203536</td>\n",
       "      <td>1735.247</td>\n",
       "      <td>648.157318</td>\n",
       "      <td>401.698875</td>\n",
       "      <td>206049</td>\n",
       "      <td>509.067858</td>\n",
       "      <td>0.003184</td>\n",
       "      <td>0.000747</td>\n",
       "    </tr>\n",
       "    <tr>\n",
       "      <th>9</th>\n",
       "      <td>27306</td>\n",
       "      <td>608.784</td>\n",
       "      <td>225.492411</td>\n",
       "      <td>154.595717</td>\n",
       "      <td>27648</td>\n",
       "      <td>186.459323</td>\n",
       "      <td>0.008258</td>\n",
       "      <td>0.002382</td>\n",
       "    </tr>\n",
       "  </tbody>\n",
       "</table>\n",
       "</div>"
      ],
      "text/plain": [
       "     Area  Perimeter  MajorAxisLength  MinorAxisLength  ConvexArea  \\\n",
       "0   42339    741.226       260.199330       207.306394       42676   \n",
       "1   68247   1088.754       370.368146       237.863792       70172   \n",
       "2   37856    708.716       248.430330       194.360324       38232   \n",
       "3   33143    648.385       222.526309       189.737379       33377   \n",
       "4   29925    647.570       237.714031       161.004849       30321   \n",
       "5   38489    707.978       244.119399       200.950084       38782   \n",
       "6   89592   1155.357       452.291405       254.964533       90627   \n",
       "7   42379    759.965       251.037567       215.217912       42840   \n",
       "8  203536   1735.247       648.157318       401.698875      206049   \n",
       "9   27306    608.784       225.492411       154.595717       27648   \n",
       "\n",
       "   EquivDiameter  ShapeFactor1  ShapeFactor2  \n",
       "0     232.180294      0.006146      0.002403  \n",
       "1     294.779204      0.005427      0.001343  \n",
       "2     219.544429      0.006563      0.002469  \n",
       "3     205.423899      0.006714      0.003008  \n",
       "4     195.196551      0.007944      0.002228  \n",
       "5     221.372349      0.006343      0.002646  \n",
       "6     337.745581      0.005048      0.000968  \n",
       "7     232.289945      0.005924      0.002679  \n",
       "8     509.067858      0.003184      0.000747  \n",
       "9     186.459323      0.008258      0.002382  "
      ]
     },
     "execution_count": 216,
     "metadata": {},
     "output_type": "execute_result"
    }
   ],
   "source": [
    "X[feats].head(10)"
   ]
  },
  {
   "cell_type": "code",
   "execution_count": 217,
   "id": "49534472",
   "metadata": {},
   "outputs": [],
   "source": [
    "X_ = X[feats]\n",
    "y_ = y\n",
    "\n",
    "X_train_, X_test_, y_train_, y_test_ = train_test_split(\n",
    "    X_, y_, test_size=0.3, stratify=y_, random_state=42\n",
    ")"
   ]
  },
  {
   "cell_type": "code",
   "execution_count": 218,
   "id": "022c1c39",
   "metadata": {},
   "outputs": [],
   "source": [
    "classes = np.unique(df.Class.values)"
   ]
  },
  {
   "cell_type": "markdown",
   "id": "f38fc87c",
   "metadata": {},
   "source": [
    "### RandomForest"
   ]
  },
  {
   "cell_type": "code",
   "execution_count": 219,
   "id": "2fad79f3",
   "metadata": {},
   "outputs": [
    {
     "name": "stdout",
     "output_type": "stream",
     "text": [
      "Using model: RandomForestClassifier\n"
     ]
    }
   ],
   "source": [
    "model = Modelling(\n",
    "    X_train=X_train_,\n",
    "    y_train=y_train_,\n",
    "    X_test=X_test_,\n",
    "    y_test=y_test_,\n",
    "    model=RandomForestClassifier(n_jobs=-1, class_weight=\"balanced\"),\n",
    "    class_names=classes,\n",
    ")"
   ]
  },
  {
   "cell_type": "code",
   "execution_count": 220,
   "id": "c29c48ff",
   "metadata": {},
   "outputs": [
    {
     "name": "stdout",
     "output_type": "stream",
     "text": [
      "Performing 10-fold cross validation\n"
     ]
    },
    {
     "name": "stderr",
     "output_type": "stream",
     "text": [
      "[Parallel(n_jobs=-1)]: Using backend LokyBackend with 8 concurrent workers.\n",
      "[Parallel(n_jobs=-1)]: Done   7 out of  10 | elapsed:    5.7s remaining:    2.4s\n",
      "[Parallel(n_jobs=-1)]: Done  10 out of  10 | elapsed:    6.0s finished\n"
     ]
    }
   ],
   "source": [
    "model.perform_cross_validation()"
   ]
  },
  {
   "cell_type": "code",
   "execution_count": 221,
   "id": "86043d9e",
   "metadata": {},
   "outputs": [
    {
     "name": "stdout",
     "output_type": "stream",
     "text": [
      "                   pre       rec       spe        f1       geo       iba       sup\n",
      "\n",
      "   BARBUNYA       0.90      0.87      0.99      0.89      0.93      0.85       397\n",
      "     BOMBAY       1.00      1.00      1.00      1.00      1.00      1.00       157\n",
      "       CALI       0.91      0.91      0.99      0.91      0.95      0.89       489\n",
      "   DERMASON       0.90      0.91      0.97      0.91      0.94      0.88      1064\n",
      "      HOROZ       0.95      0.93      0.99      0.94      0.96      0.92       578\n",
      "      SEKER       0.93      0.93      0.99      0.93      0.96      0.92       608\n",
      "       SIRA       0.85      0.86      0.96      0.85      0.91      0.82       791\n",
      "\n",
      "avg / total       0.91      0.91      0.98      0.91      0.94      0.88      4084\n",
      "\n"
     ]
    }
   ],
   "source": [
    "model.get_metrics()"
   ]
  },
  {
   "cell_type": "code",
   "execution_count": 222,
   "id": "bd224909",
   "metadata": {},
   "outputs": [
    {
     "name": "stdout",
     "output_type": "stream",
     "text": [
      "Figure saved at ./ML_results/Confusion Matrix for Base-line RandomForestClassifier.png\n"
     ]
    },
    {
     "data": {
      "image/png": "[encoded data removed]",
      "text/plain": [
       "<Figure size 720x576 with 2 Axes>"
      ]
     },
     "metadata": {},
     "output_type": "display_data"
    }
   ],
   "source": [
    "model.plot_cf()"
   ]
  },
  {
   "cell_type": "markdown",
   "id": "2d1659a3",
   "metadata": {},
   "source": [
    "### Decision tree modelling"
   ]
  },
  {
   "cell_type": "code",
   "execution_count": 223,
   "id": "e221af21",
   "metadata": {
    "scrolled": false
   },
   "outputs": [
    {
     "name": "stdout",
     "output_type": "stream",
     "text": [
      "Using model: DecisionTreeClassifier\n"
     ]
    }
   ],
   "source": [
    "dt_model = Modelling(\n",
    "    X_train=X_train_,\n",
    "    y_train=y_train_,\n",
    "    X_test=X_test_,\n",
    "    y_test=y_test_,\n",
    "    model=DecisionTreeClassifier(class_weight=\"balanced\"),\n",
    "    class_names=classes,\n",
    ")"
   ]
  },
  {
   "cell_type": "code",
   "execution_count": 224,
   "id": "e3364110",
   "metadata": {},
   "outputs": [
    {
     "name": "stdout",
     "output_type": "stream",
     "text": [
      "Performing 10-fold cross validation\n"
     ]
    },
    {
     "name": "stderr",
     "output_type": "stream",
     "text": [
      "[Parallel(n_jobs=-1)]: Using backend LokyBackend with 8 concurrent workers.\n",
      "[Parallel(n_jobs=-1)]: Done   7 out of  10 | elapsed:    0.1s remaining:    0.0s\n",
      "[Parallel(n_jobs=-1)]: Done  10 out of  10 | elapsed:    0.2s finished\n"
     ]
    }
   ],
   "source": [
    "dt_model.perform_cross_validation()"
   ]
  },
  {
   "cell_type": "code",
   "execution_count": 225,
   "id": "d5b33643",
   "metadata": {},
   "outputs": [
    {
     "name": "stdout",
     "output_type": "stream",
     "text": [
      "                   pre       rec       spe        f1       geo       iba       sup\n",
      "\n",
      "   BARBUNYA       0.83      0.84      0.98      0.83      0.91      0.81       397\n",
      "     BOMBAY       1.00      1.00      1.00      1.00      1.00      1.00       157\n",
      "       CALI       0.87      0.86      0.98      0.86      0.92      0.83       489\n",
      "   DERMASON       0.89      0.87      0.96      0.88      0.91      0.83      1064\n",
      "      HOROZ       0.92      0.92      0.99      0.92      0.95      0.90       578\n",
      "      SEKER       0.91      0.91      0.98      0.91      0.95      0.89       608\n",
      "       SIRA       0.79      0.82      0.95      0.80      0.88      0.77       791\n",
      "\n",
      "avg / total       0.87      0.87      0.97      0.87      0.92      0.84      4084\n",
      "\n"
     ]
    }
   ],
   "source": [
    "dt_model.get_metrics()"
   ]
  },
  {
   "cell_type": "code",
   "execution_count": 226,
   "id": "ba349836",
   "metadata": {},
   "outputs": [
    {
     "name": "stdout",
     "output_type": "stream",
     "text": [
      "Figure saved at ./ML_results/Confusion Matrix for Base-line DecisionTreeClassifier.png\n"
     ]
    },
    {
     "data": {
      "image/png": "[encoded data removed]",
      "text/plain": [
       "<Figure size 720x576 with 2 Axes>"
      ]
     },
     "metadata": {},
     "output_type": "display_data"
    }
   ],
   "source": [
    "dt_model.plot_cf()"
   ]
  },
  {
   "cell_type": "markdown",
   "id": "fc80aaef",
   "metadata": {},
   "source": [
    "### LinearSVC"
   ]
  },
  {
   "cell_type": "code",
   "execution_count": 227,
   "id": "a2922ea4",
   "metadata": {},
   "outputs": [
    {
     "name": "stdout",
     "output_type": "stream",
     "text": [
      "Using model: LinearSVC\n"
     ]
    }
   ],
   "source": [
    "svm_model = Modelling(\n",
    "    X_train=X_train_,\n",
    "    y_train=y_train_,\n",
    "    X_test=X_test_,\n",
    "    y_test=y_test_,\n",
    "    model=LinearSVC(max_iter=5000),\n",
    "    class_names=classes,\n",
    ")"
   ]
  },
  {
   "cell_type": "code",
   "execution_count": 228,
   "id": "bba1c27a",
   "metadata": {},
   "outputs": [
    {
     "name": "stdout",
     "output_type": "stream",
     "text": [
      "Performing 10-fold cross validation\n"
     ]
    },
    {
     "name": "stderr",
     "output_type": "stream",
     "text": [
      "[Parallel(n_jobs=-1)]: Using backend LokyBackend with 8 concurrent workers.\n",
      "[Parallel(n_jobs=-1)]: Done   7 out of  10 | elapsed:    0.7s remaining:    0.2s\n",
      "[Parallel(n_jobs=-1)]: Done  10 out of  10 | elapsed:    1.0s finished\n"
     ]
    }
   ],
   "source": [
    "svm_model.perform_cross_validation()"
   ]
  },
  {
   "cell_type": "code",
   "execution_count": 229,
   "id": "a468dbd0",
   "metadata": {},
   "outputs": [
    {
     "name": "stdout",
     "output_type": "stream",
     "text": [
      "                   pre       rec       spe        f1       geo       iba       sup\n",
      "\n",
      "   BARBUNYA       0.95      0.85      1.00      0.90      0.92      0.83       397\n",
      "     BOMBAY       1.00      1.00      1.00      1.00      1.00      1.00       157\n",
      "       CALI       0.90      0.94      0.99      0.92      0.97      0.93       489\n",
      "   DERMASON       0.92      0.89      0.97      0.90      0.93      0.86      1064\n",
      "      HOROZ       0.95      0.94      0.99      0.94      0.96      0.93       578\n",
      "      SEKER       0.95      0.94      0.99      0.94      0.96      0.93       608\n",
      "       SIRA       0.82      0.90      0.95      0.86      0.93      0.85       791\n",
      "\n",
      "avg / total       0.91      0.91      0.98      0.91      0.94      0.89      4084\n",
      "\n"
     ]
    }
   ],
   "source": [
    "svm_model.get_metrics()"
   ]
  },
  {
   "cell_type": "code",
   "execution_count": 230,
   "id": "3b404ed5",
   "metadata": {},
   "outputs": [
    {
     "name": "stdout",
     "output_type": "stream",
     "text": [
      "Figure saved at ./ML_results/Confusion Matrix for Base-line LinearSVC.png\n"
     ]
    },
    {
     "data": {
      "image/png": "[encoded data removed]",
      "text/plain": [
       "<Figure size 720x576 with 2 Axes>"
      ]
     },
     "metadata": {},
     "output_type": "display_data"
    }
   ],
   "source": [
    "svm_model.plot_cf()"
   ]
  },
  {
   "cell_type": "markdown",
   "id": "491b02a8",
   "metadata": {},
   "source": [
    "## Hyperparameter tuning using Optuna"
   ]
  },
  {
   "cell_type": "code",
   "execution_count": 231,
   "id": "8af17c48",
   "metadata": {
    "scrolled": false
   },
   "outputs": [
    {
     "name": "stderr",
     "output_type": "stream",
     "text": [
      "\u001b[32m[I 2022-02-06 04:05:58,450]\u001b[0m A new study created in RDB with name: DryBeanStudy\u001b[0m\n",
      "\u001b[32m[I 2022-02-06 04:05:59,184]\u001b[0m Trial 0 finished with value: 0.8957342739135064 and parameters: {'clf_name': 'rf', 'rf_max_depth': 40, 'rf_bootstrap': False, 'rf_max_features': 'sqrt', 'rf_class_weight': 'balanced'}. Best is trial 0 with value: 0.8957342739135064.\u001b[0m\n",
      "\u001b[32m[I 2022-02-06 04:05:59,354]\u001b[0m Trial 1 finished with value: 0.6700001027320626 and parameters: {'clf_name': 'dt', 'dt_max_depth': 10, 'dt_min_samples_leaf': 100, 'dt_max_features': 'auto', 'dt_criterion': 'entropy', 'dt_splitter': 'random'}. Best is trial 0 with value: 0.8957342739135064.\u001b[0m\n",
      "\u001b[32m[I 2022-02-06 04:05:59,800]\u001b[0m Trial 2 finished with value: 0.9089926640196608 and parameters: {'clf_name': 'svm', 'svm_C': 0.9453194088256368, 'svm_loss': 'hinge'}. Best is trial 2 with value: 0.9089926640196608.\u001b[0m\n",
      "\u001b[32m[I 2022-02-06 04:05:59,934]\u001b[0m Trial 3 finished with value: 0.7082099292192068 and parameters: {'clf_name': 'dt', 'dt_max_depth': 3, 'dt_min_samples_leaf': 50, 'dt_max_features': 'sqrt', 'dt_criterion': 'entropy', 'dt_splitter': 'best'}. Best is trial 2 with value: 0.9089926640196608.\u001b[0m\n",
      "\u001b[32m[I 2022-02-06 04:06:00,387]\u001b[0m Trial 4 finished with value: 0.9030609711817341 and parameters: {'clf_name': 'rf', 'rf_max_depth': 10, 'rf_bootstrap': False, 'rf_max_features': 'auto', 'rf_class_weight': 'balanced'}. Best is trial 2 with value: 0.9089926640196608.\u001b[0m\n",
      "\u001b[32m[I 2022-02-06 04:06:01,014]\u001b[0m Trial 5 finished with value: 0.9027572377768417 and parameters: {'clf_name': 'rf', 'rf_max_depth': 30, 'rf_bootstrap': True, 'rf_max_features': 'auto', 'rf_class_weight': 'balanced_subsample'}. Best is trial 2 with value: 0.9089926640196608.\u001b[0m\n",
      "\u001b[32m[I 2022-02-06 04:06:01,435]\u001b[0m Trial 6 finished with value: 0.89979416640591 and parameters: {'clf_name': 'rf', 'rf_max_depth': 10, 'rf_bootstrap': True, 'rf_max_features': 'auto', 'rf_class_weight': 'balanced_subsample'}. Best is trial 2 with value: 0.9089926640196608.\u001b[0m\n",
      "\u001b[32m[I 2022-02-06 04:06:01,595]\u001b[0m Trial 7 finished with value: 0.8691257732915949 and parameters: {'clf_name': 'dt', 'dt_max_depth': 10, 'dt_min_samples_leaf': 50, 'dt_max_features': 'sqrt', 'dt_criterion': 'gini', 'dt_splitter': 'best'}. Best is trial 2 with value: 0.9089926640196608.\u001b[0m\n",
      "\u001b[32m[I 2022-02-06 04:06:01,769]\u001b[0m Trial 8 finished with value: 0.8572840215867691 and parameters: {'clf_name': 'dt', 'dt_max_depth': 20, 'dt_min_samples_leaf': 100, 'dt_max_features': 'auto', 'dt_criterion': 'entropy', 'dt_splitter': 'best'}. Best is trial 2 with value: 0.9089926640196608.\u001b[0m\n",
      "\u001b[32m[I 2022-02-06 04:06:01,925]\u001b[0m Trial 9 finished with value: 0.8182276687166125 and parameters: {'clf_name': 'dt', 'dt_max_depth': 10, 'dt_min_samples_leaf': 10, 'dt_max_features': 'sqrt', 'dt_criterion': 'entropy', 'dt_splitter': 'random'}. Best is trial 2 with value: 0.9089926640196608.\u001b[0m\n",
      "\u001b[32m[I 2022-02-06 04:06:02,331]\u001b[0m Trial 10 finished with value: 0.9089926640196608 and parameters: {'clf_name': 'svm', 'svm_C': 1.3097610220834786, 'svm_loss': 'hinge'}. Best is trial 2 with value: 0.9089926640196608.\u001b[0m\n",
      "\u001b[32m[I 2022-02-06 04:06:02,742]\u001b[0m Trial 11 finished with value: 0.9089926640196608 and parameters: {'clf_name': 'svm', 'svm_C': 1.1593475812752028, 'svm_loss': 'hinge'}. Best is trial 2 with value: 0.9089926640196608.\u001b[0m\n",
      "\u001b[32m[I 2022-02-06 04:06:03,124]\u001b[0m Trial 12 finished with value: 0.9089926640196608 and parameters: {'clf_name': 'svm', 'svm_C': 1.1285016112013877, 'svm_loss': 'hinge'}. Best is trial 2 with value: 0.9089926640196608.\u001b[0m\n",
      "\u001b[32m[I 2022-02-06 04:06:03,610]\u001b[0m Trial 13 finished with value: 0.9089926640196608 and parameters: {'clf_name': 'svm', 'svm_C': 0.19258429422831144, 'svm_loss': 'hinge'}. Best is trial 2 with value: 0.9089926640196608.\u001b[0m\n",
      "\u001b[32m[I 2022-02-06 04:06:04,099]\u001b[0m Trial 14 finished with value: 0.9089926640196608 and parameters: {'clf_name': 'svm', 'svm_C': 2.6550506353387613, 'svm_loss': 'squared_hinge'}. Best is trial 2 with value: 0.9089926640196608.\u001b[0m\n",
      "\u001b[32m[I 2022-02-06 04:06:04,578]\u001b[0m Trial 15 finished with value: 0.9089926640196608 and parameters: {'clf_name': 'svm', 'svm_C': 0.7169703439027056, 'svm_loss': 'hinge'}. Best is trial 2 with value: 0.9089926640196608.\u001b[0m\n",
      "\u001b[32m[I 2022-02-06 04:06:05,008]\u001b[0m Trial 16 finished with value: 0.9089926640196608 and parameters: {'clf_name': 'svm', 'svm_C': 0.2841944701780788, 'svm_loss': 'hinge'}. Best is trial 2 with value: 0.9089926640196608.\u001b[0m\n",
      "\u001b[32m[I 2022-02-06 04:06:05,729]\u001b[0m Trial 17 finished with value: 0.9089926640196608 and parameters: {'clf_name': 'svm', 'svm_C': 0.25675195657993705, 'svm_loss': 'squared_hinge'}. Best is trial 2 with value: 0.9089926640196608.\u001b[0m\n",
      "\u001b[32m[I 2022-02-06 04:06:06,367]\u001b[0m Trial 18 finished with value: 0.9089926640196608 and parameters: {'clf_name': 'svm', 'svm_C': 0.44862808712898683, 'svm_loss': 'squared_hinge'}. Best is trial 2 with value: 0.9089926640196608.\u001b[0m\n",
      "\u001b[32m[I 2022-02-06 04:06:06,836]\u001b[0m Trial 19 finished with value: 0.9089926640196608 and parameters: {'clf_name': 'svm', 'svm_C': 0.3688224338181858, 'svm_loss': 'squared_hinge'}. Best is trial 2 with value: 0.9089926640196608.\u001b[0m\n",
      "\u001b[32m[I 2022-02-06 04:06:07,300]\u001b[0m Trial 20 finished with value: 0.9089926640196608 and parameters: {'clf_name': 'svm', 'svm_C': 0.10589299260559733, 'svm_loss': 'squared_hinge'}. Best is trial 2 with value: 0.9089926640196608.\u001b[0m\n",
      "\u001b[32m[I 2022-02-06 04:06:07,739]\u001b[0m Trial 21 finished with value: 0.9089926640196608 and parameters: {'clf_name': 'svm', 'svm_C': 0.4324830928503545, 'svm_loss': 'squared_hinge'}. Best is trial 2 with value: 0.9089926640196608.\u001b[0m\n",
      "\u001b[32m[I 2022-02-06 04:06:08,263]\u001b[0m Trial 22 finished with value: 0.9089926640196608 and parameters: {'clf_name': 'svm', 'svm_C': 0.4686926717069464, 'svm_loss': 'squared_hinge'}. Best is trial 2 with value: 0.9089926640196608.\u001b[0m\n",
      "\u001b[32m[I 2022-02-06 04:06:08,792]\u001b[0m Trial 23 finished with value: 0.9089926640196608 and parameters: {'clf_name': 'svm', 'svm_C': 0.12055546653673094, 'svm_loss': 'squared_hinge'}. Best is trial 2 with value: 0.9089926640196608.\u001b[0m\n",
      "\u001b[32m[I 2022-02-06 04:06:09,276]\u001b[0m Trial 24 finished with value: 0.9089926640196608 and parameters: {'clf_name': 'svm', 'svm_C': 0.10504931351383347, 'svm_loss': 'squared_hinge'}. Best is trial 2 with value: 0.9089926640196608.\u001b[0m\n",
      "\u001b[32m[I 2022-02-06 04:06:09,750]\u001b[0m Trial 25 finished with value: 0.9089926640196608 and parameters: {'clf_name': 'svm', 'svm_C': 0.6045815500061457, 'svm_loss': 'squared_hinge'}. Best is trial 2 with value: 0.9089926640196608.\u001b[0m\n",
      "\u001b[32m[I 2022-02-06 04:06:10,229]\u001b[0m Trial 26 finished with value: 0.9089926640196608 and parameters: {'clf_name': 'svm', 'svm_C': 1.9986524964331622, 'svm_loss': 'squared_hinge'}. Best is trial 2 with value: 0.9089926640196608.\u001b[0m\n",
      "\u001b[32m[I 2022-02-06 04:06:10,688]\u001b[0m Trial 27 finished with value: 0.9089926640196608 and parameters: {'clf_name': 'svm', 'svm_C': 0.11101524739410451, 'svm_loss': 'hinge'}. Best is trial 2 with value: 0.9089926640196608.\u001b[0m\n",
      "\u001b[32m[I 2022-02-06 04:06:11,351]\u001b[0m Trial 28 finished with value: 0.9019024114808293 and parameters: {'clf_name': 'rf', 'rf_max_depth': 20, 'rf_bootstrap': True, 'rf_max_features': 'sqrt', 'rf_class_weight': 'balanced'}. Best is trial 2 with value: 0.9089926640196608.\u001b[0m\n",
      "\u001b[32m[I 2022-02-06 04:06:11,794]\u001b[0m Trial 29 finished with value: 0.9089926640196608 and parameters: {'clf_name': 'svm', 'svm_C': 0.26590307409397795, 'svm_loss': 'squared_hinge'}. Best is trial 2 with value: 0.9089926640196608.\u001b[0m\n",
      "\u001b[32m[I 2022-02-06 04:06:12,610]\u001b[0m Trial 30 finished with value: 0.8963482208151513 and parameters: {'clf_name': 'rf', 'rf_max_depth': 20, 'rf_bootstrap': False, 'rf_max_features': 'sqrt', 'rf_class_weight': 'balanced_subsample'}. Best is trial 2 with value: 0.9089926640196608.\u001b[0m\n",
      "\u001b[32m[I 2022-02-06 04:06:13,083]\u001b[0m Trial 31 finished with value: 0.9089926640196608 and parameters: {'clf_name': 'svm', 'svm_C': 0.6671295621139309, 'svm_loss': 'squared_hinge'}. Best is trial 2 with value: 0.9089926640196608.\u001b[0m\n",
      "\u001b[32m[I 2022-02-06 04:06:13,558]\u001b[0m Trial 32 finished with value: 0.9089926640196608 and parameters: {'clf_name': 'svm', 'svm_C': 1.7483865770791984, 'svm_loss': 'hinge'}. Best is trial 2 with value: 0.9089926640196608.\u001b[0m\n"
     ]
    },
    {
     "name": "stderr",
     "output_type": "stream",
     "text": [
      "\u001b[32m[I 2022-02-06 04:06:14,046]\u001b[0m Trial 33 finished with value: 0.9089926640196608 and parameters: {'clf_name': 'svm', 'svm_C': 0.1799061800126904, 'svm_loss': 'hinge'}. Best is trial 2 with value: 0.9089926640196608.\u001b[0m\n",
      "\u001b[32m[I 2022-02-06 04:06:14,526]\u001b[0m Trial 34 finished with value: 0.9089926640196608 and parameters: {'clf_name': 'svm', 'svm_C': 0.2898480857503267, 'svm_loss': 'hinge'}. Best is trial 2 with value: 0.9089926640196608.\u001b[0m\n",
      "\u001b[32m[I 2022-02-06 04:06:14,705]\u001b[0m Trial 35 finished with value: 0.3650711482609939 and parameters: {'clf_name': 'dt', 'dt_max_depth': 2, 'dt_min_samples_leaf': 5, 'dt_max_features': 'log2', 'dt_criterion': 'gini', 'dt_splitter': 'random'}. Best is trial 2 with value: 0.9089926640196608.\u001b[0m\n",
      "\u001b[32m[I 2022-02-06 04:06:15,202]\u001b[0m Trial 36 finished with value: 0.9089926640196608 and parameters: {'clf_name': 'svm', 'svm_C': 0.1704682691176658, 'svm_loss': 'squared_hinge'}. Best is trial 2 with value: 0.9089926640196608.\u001b[0m\n",
      "\u001b[32m[I 2022-02-06 04:06:15,681]\u001b[0m Trial 37 finished with value: 0.9089926640196608 and parameters: {'clf_name': 'svm', 'svm_C': 0.16952779902505932, 'svm_loss': 'hinge'}. Best is trial 2 with value: 0.9089926640196608.\u001b[0m\n",
      "\u001b[32m[I 2022-02-06 04:06:16,380]\u001b[0m Trial 38 finished with value: 0.902479911614952 and parameters: {'clf_name': 'rf', 'rf_max_depth': 40, 'rf_bootstrap': True, 'rf_max_features': 'auto', 'rf_class_weight': 'balanced_subsample'}. Best is trial 2 with value: 0.9089926640196608.\u001b[0m\n",
      "\u001b[32m[I 2022-02-06 04:06:16,616]\u001b[0m Trial 39 finished with value: 0.8634740435953006 and parameters: {'clf_name': 'dt', 'dt_max_depth': 5, 'dt_min_samples_leaf': 20, 'dt_max_features': 'log2', 'dt_criterion': 'gini', 'dt_splitter': 'best'}. Best is trial 2 with value: 0.9089926640196608.\u001b[0m\n",
      "\u001b[32m[I 2022-02-06 04:06:17,109]\u001b[0m Trial 40 finished with value: 0.9089926640196608 and parameters: {'clf_name': 'svm', 'svm_C': 0.3496030133802132, 'svm_loss': 'squared_hinge'}. Best is trial 2 with value: 0.9089926640196608.\u001b[0m\n",
      "\u001b[32m[I 2022-02-06 04:06:17,664]\u001b[0m Trial 41 finished with value: 0.9089926640196608 and parameters: {'clf_name': 'svm', 'svm_C': 0.10675579499701861, 'svm_loss': 'squared_hinge'}. Best is trial 2 with value: 0.9089926640196608.\u001b[0m\n",
      "\u001b[32m[I 2022-02-06 04:06:18,150]\u001b[0m Trial 42 finished with value: 0.9089926640196608 and parameters: {'clf_name': 'svm', 'svm_C': 0.44013924827508244, 'svm_loss': 'squared_hinge'}. Best is trial 2 with value: 0.9089926640196608.\u001b[0m\n",
      "\u001b[32m[I 2022-02-06 04:06:18,619]\u001b[0m Trial 43 finished with value: 0.9089926640196608 and parameters: {'clf_name': 'svm', 'svm_C': 0.1312926314789605, 'svm_loss': 'squared_hinge'}. Best is trial 2 with value: 0.9089926640196608.\u001b[0m\n",
      "\u001b[32m[I 2022-02-06 04:06:19,167]\u001b[0m Trial 44 finished with value: 0.9089926640196608 and parameters: {'clf_name': 'svm', 'svm_C': 0.42971422795689335, 'svm_loss': 'squared_hinge'}. Best is trial 2 with value: 0.9089926640196608.\u001b[0m\n",
      "\u001b[32m[I 2022-02-06 04:06:19,359]\u001b[0m Trial 45 finished with value: 0.3143251906698334 and parameters: {'clf_name': 'dt', 'dt_max_depth': 2, 'dt_min_samples_leaf': 5, 'dt_max_features': 'auto', 'dt_criterion': 'gini', 'dt_splitter': 'random'}. Best is trial 2 with value: 0.9089926640196608.\u001b[0m\n",
      "\u001b[32m[I 2022-02-06 04:06:20,153]\u001b[0m Trial 46 finished with value: 0.8947406787527461 and parameters: {'clf_name': 'rf', 'rf_max_depth': 30, 'rf_bootstrap': False, 'rf_max_features': 'sqrt', 'rf_class_weight': 'balanced'}. Best is trial 2 with value: 0.9089926640196608.\u001b[0m\n",
      "\u001b[32m[I 2022-02-06 04:06:20,748]\u001b[0m Trial 47 finished with value: 0.9089926640196608 and parameters: {'clf_name': 'svm', 'svm_C': 0.2060943834378699, 'svm_loss': 'hinge'}. Best is trial 2 with value: 0.9089926640196608.\u001b[0m\n",
      "\u001b[32m[I 2022-02-06 04:06:21,318]\u001b[0m Trial 48 finished with value: 0.9089926640196608 and parameters: {'clf_name': 'svm', 'svm_C': 2.948836502056156, 'svm_loss': 'squared_hinge'}. Best is trial 2 with value: 0.9089926640196608.\u001b[0m\n",
      "\u001b[32m[I 2022-02-06 04:06:21,851]\u001b[0m Trial 49 finished with value: 0.9089926640196608 and parameters: {'clf_name': 'svm', 'svm_C': 0.13783135645027544, 'svm_loss': 'squared_hinge'}. Best is trial 2 with value: 0.9089926640196608.\u001b[0m\n",
      "\u001b[32m[I 2022-02-06 04:06:22,401]\u001b[0m Trial 50 finished with value: 0.9089926640196608 and parameters: {'clf_name': 'svm', 'svm_C': 2.7117749484848592, 'svm_loss': 'squared_hinge'}. Best is trial 2 with value: 0.9089926640196608.\u001b[0m\n",
      "\u001b[32m[I 2022-02-06 04:06:22,870]\u001b[0m Trial 51 finished with value: 0.9089926640196608 and parameters: {'clf_name': 'svm', 'svm_C': 0.1300136381415246, 'svm_loss': 'squared_hinge'}. Best is trial 2 with value: 0.9089926640196608.\u001b[0m\n",
      "\u001b[32m[I 2022-02-06 04:06:23,445]\u001b[0m Trial 52 finished with value: 0.9089926640196608 and parameters: {'clf_name': 'svm', 'svm_C': 2.0440652619743678, 'svm_loss': 'squared_hinge'}. Best is trial 2 with value: 0.9089926640196608.\u001b[0m\n",
      "\u001b[32m[I 2022-02-06 04:06:23,993]\u001b[0m Trial 53 finished with value: 0.9089926640196608 and parameters: {'clf_name': 'svm', 'svm_C': 0.6840480508965447, 'svm_loss': 'squared_hinge'}. Best is trial 2 with value: 0.9089926640196608.\u001b[0m\n",
      "\u001b[32m[I 2022-02-06 04:06:24,598]\u001b[0m Trial 54 finished with value: 0.9089926640196608 and parameters: {'clf_name': 'svm', 'svm_C': 1.6133707608103138, 'svm_loss': 'squared_hinge'}. Best is trial 2 with value: 0.9089926640196608.\u001b[0m\n",
      "\u001b[32m[I 2022-02-06 04:06:25,058]\u001b[0m Trial 55 finished with value: 0.9089926640196608 and parameters: {'clf_name': 'svm', 'svm_C': 0.9314633926070114, 'svm_loss': 'hinge'}. Best is trial 2 with value: 0.9089926640196608.\u001b[0m\n",
      "\u001b[32m[I 2022-02-06 04:06:25,240]\u001b[0m Trial 56 finished with value: 0.6838089398412504 and parameters: {'clf_name': 'dt', 'dt_max_depth': 5, 'dt_min_samples_leaf': 10, 'dt_max_features': 'log2', 'dt_criterion': 'gini', 'dt_splitter': 'random'}. Best is trial 2 with value: 0.9089926640196608.\u001b[0m\n",
      "\u001b[32m[I 2022-02-06 04:06:25,639]\u001b[0m Trial 57 finished with value: 0.9089926640196608 and parameters: {'clf_name': 'svm', 'svm_C': 0.9318928846903671, 'svm_loss': 'hinge'}. Best is trial 2 with value: 0.9089926640196608.\u001b[0m\n",
      "\u001b[32m[I 2022-02-06 04:06:26,210]\u001b[0m Trial 58 finished with value: 0.9089926640196608 and parameters: {'clf_name': 'svm', 'svm_C': 0.9335362653887531, 'svm_loss': 'hinge'}. Best is trial 2 with value: 0.9089926640196608.\u001b[0m\n",
      "\u001b[32m[I 2022-02-06 04:06:26,742]\u001b[0m Trial 59 finished with value: 0.9089926640196608 and parameters: {'clf_name': 'svm', 'svm_C': 0.23648172985020305, 'svm_loss': 'hinge'}. Best is trial 2 with value: 0.9089926640196608.\u001b[0m\n",
      "\u001b[32m[I 2022-02-06 04:06:27,606]\u001b[0m Trial 60 finished with value: 0.9089926640196608 and parameters: {'clf_name': 'svm', 'svm_C': 1.2018656766495983, 'svm_loss': 'hinge'}. Best is trial 2 with value: 0.9089926640196608.\u001b[0m\n",
      "\u001b[32m[I 2022-02-06 04:06:28,168]\u001b[0m Trial 61 finished with value: 0.9089926640196608 and parameters: {'clf_name': 'svm', 'svm_C': 0.6220813242407781, 'svm_loss': 'hinge'}. Best is trial 2 with value: 0.9089926640196608.\u001b[0m\n",
      "\u001b[32m[I 2022-02-06 04:06:28,699]\u001b[0m Trial 62 finished with value: 0.9089926640196608 and parameters: {'clf_name': 'svm', 'svm_C': 1.5078962653499057, 'svm_loss': 'hinge'}. Best is trial 2 with value: 0.9089926640196608.\u001b[0m\n",
      "\u001b[32m[I 2022-02-06 04:06:29,233]\u001b[0m Trial 63 finished with value: 0.9089926640196608 and parameters: {'clf_name': 'svm', 'svm_C': 0.1703382541545128, 'svm_loss': 'hinge'}. Best is trial 2 with value: 0.9089926640196608.\u001b[0m\n",
      "\u001b[32m[I 2022-02-06 04:06:29,755]\u001b[0m Trial 64 finished with value: 0.9089926640196608 and parameters: {'clf_name': 'svm', 'svm_C': 0.3243184774239512, 'svm_loss': 'hinge'}. Best is trial 2 with value: 0.9089926640196608.\u001b[0m\n",
      "\u001b[32m[I 2022-02-06 04:06:30,311]\u001b[0m Trial 65 finished with value: 0.9089926640196608 and parameters: {'clf_name': 'svm', 'svm_C': 0.1632749780946758, 'svm_loss': 'hinge'}. Best is trial 2 with value: 0.9089926640196608.\u001b[0m\n",
      "\u001b[32m[I 2022-02-06 04:06:30,849]\u001b[0m Trial 66 finished with value: 0.9014053105643676 and parameters: {'clf_name': 'rf', 'rf_max_depth': 10, 'rf_bootstrap': False, 'rf_max_features': 'sqrt', 'rf_class_weight': 'balanced_subsample'}. Best is trial 2 with value: 0.9089926640196608.\u001b[0m\n"
     ]
    },
    {
     "name": "stderr",
     "output_type": "stream",
     "text": [
      "\u001b[32m[I 2022-02-06 04:06:31,394]\u001b[0m Trial 67 finished with value: 0.9089926640196608 and parameters: {'clf_name': 'svm', 'svm_C': 0.8525092227515153, 'svm_loss': 'hinge'}. Best is trial 2 with value: 0.9089926640196608.\u001b[0m\n",
      "\u001b[32m[I 2022-02-06 04:06:31,916]\u001b[0m Trial 68 finished with value: 0.9089926640196608 and parameters: {'clf_name': 'svm', 'svm_C': 0.210480564208085, 'svm_loss': 'squared_hinge'}. Best is trial 2 with value: 0.9089926640196608.\u001b[0m\n",
      "\u001b[32m[I 2022-02-06 04:06:32,392]\u001b[0m Trial 69 finished with value: 0.9089926640196608 and parameters: {'clf_name': 'svm', 'svm_C': 0.15496199483888878, 'svm_loss': 'hinge'}. Best is trial 2 with value: 0.9089926640196608.\u001b[0m\n",
      "\u001b[32m[I 2022-02-06 04:06:32,708]\u001b[0m Trial 70 finished with value: 0.7223941843286331 and parameters: {'clf_name': 'dt', 'dt_max_depth': 3, 'dt_min_samples_leaf': 20, 'dt_max_features': 'auto', 'dt_criterion': 'entropy', 'dt_splitter': 'best'}. Best is trial 2 with value: 0.9089926640196608.\u001b[0m\n",
      "\u001b[32m[I 2022-02-06 04:06:33,207]\u001b[0m Trial 71 finished with value: 0.9089926640196608 and parameters: {'clf_name': 'svm', 'svm_C': 0.15879822309059494, 'svm_loss': 'hinge'}. Best is trial 2 with value: 0.9089926640196608.\u001b[0m\n",
      "\u001b[32m[I 2022-02-06 04:06:33,688]\u001b[0m Trial 72 finished with value: 0.9089926640196608 and parameters: {'clf_name': 'svm', 'svm_C': 0.17113458292797393, 'svm_loss': 'hinge'}. Best is trial 2 with value: 0.9089926640196608.\u001b[0m\n",
      "\u001b[32m[I 2022-02-06 04:06:34,272]\u001b[0m Trial 73 finished with value: 0.9089926640196608 and parameters: {'clf_name': 'svm', 'svm_C': 0.3093269037791123, 'svm_loss': 'squared_hinge'}. Best is trial 2 with value: 0.9089926640196608.\u001b[0m\n",
      "\u001b[32m[I 2022-02-06 04:06:34,821]\u001b[0m Trial 74 finished with value: 0.9089926640196608 and parameters: {'clf_name': 'svm', 'svm_C': 0.5040304497132836, 'svm_loss': 'squared_hinge'}. Best is trial 2 with value: 0.9089926640196608.\u001b[0m\n",
      "\u001b[32m[I 2022-02-06 04:06:35,303]\u001b[0m Trial 75 finished with value: 0.9089926640196608 and parameters: {'clf_name': 'svm', 'svm_C': 0.3884493874816224, 'svm_loss': 'squared_hinge'}. Best is trial 2 with value: 0.9089926640196608.\u001b[0m\n",
      "\u001b[32m[I 2022-02-06 04:06:35,722]\u001b[0m Trial 76 finished with value: 0.9089926640196608 and parameters: {'clf_name': 'svm', 'svm_C': 0.5197393125060411, 'svm_loss': 'squared_hinge'}. Best is trial 2 with value: 0.9089926640196608.\u001b[0m\n",
      "\u001b[32m[I 2022-02-06 04:06:36,165]\u001b[0m Trial 77 finished with value: 0.9089926640196608 and parameters: {'clf_name': 'svm', 'svm_C': 0.3500868538322157, 'svm_loss': 'hinge'}. Best is trial 2 with value: 0.9089926640196608.\u001b[0m\n",
      "\u001b[32m[I 2022-02-06 04:06:36,987]\u001b[0m Trial 78 finished with value: 0.9011953995420152 and parameters: {'clf_name': 'rf', 'rf_max_depth': 20, 'rf_bootstrap': True, 'rf_max_features': 'auto', 'rf_class_weight': 'balanced'}. Best is trial 2 with value: 0.9089926640196608.\u001b[0m\n",
      "\u001b[32m[I 2022-02-06 04:06:37,454]\u001b[0m Trial 79 finished with value: 0.9089926640196608 and parameters: {'clf_name': 'svm', 'svm_C': 0.18410739638172394, 'svm_loss': 'hinge'}. Best is trial 2 with value: 0.9089926640196608.\u001b[0m\n",
      "\u001b[32m[I 2022-02-06 04:06:37,996]\u001b[0m Trial 80 finished with value: 0.9089926640196608 and parameters: {'clf_name': 'svm', 'svm_C': 0.1437935111258892, 'svm_loss': 'squared_hinge'}. Best is trial 2 with value: 0.9089926640196608.\u001b[0m\n",
      "\u001b[32m[I 2022-02-06 04:06:38,535]\u001b[0m Trial 81 finished with value: 0.9089926640196608 and parameters: {'clf_name': 'svm', 'svm_C': 2.172949232755065, 'svm_loss': 'squared_hinge'}. Best is trial 2 with value: 0.9089926640196608.\u001b[0m\n",
      "\u001b[32m[I 2022-02-06 04:06:38,962]\u001b[0m Trial 82 finished with value: 0.9089926640196608 and parameters: {'clf_name': 'svm', 'svm_C': 0.9191947366736283, 'svm_loss': 'squared_hinge'}. Best is trial 2 with value: 0.9089926640196608.\u001b[0m\n",
      "\u001b[32m[I 2022-02-06 04:06:39,403]\u001b[0m Trial 83 finished with value: 0.9089926640196608 and parameters: {'clf_name': 'svm', 'svm_C': 0.7640923610848219, 'svm_loss': 'squared_hinge'}. Best is trial 2 with value: 0.9089926640196608.\u001b[0m\n",
      "\u001b[32m[I 2022-02-06 04:06:39,793]\u001b[0m Trial 84 finished with value: 0.9089926640196608 and parameters: {'clf_name': 'svm', 'svm_C': 1.0639095301721835, 'svm_loss': 'hinge'}. Best is trial 2 with value: 0.9089926640196608.\u001b[0m\n",
      "\u001b[32m[I 2022-02-06 04:06:40,288]\u001b[0m Trial 85 finished with value: 0.9089926640196608 and parameters: {'clf_name': 'svm', 'svm_C': 1.4302051237867377, 'svm_loss': 'hinge'}. Best is trial 2 with value: 0.9089926640196608.\u001b[0m\n",
      "\u001b[32m[I 2022-02-06 04:06:40,744]\u001b[0m Trial 86 finished with value: 0.9089926640196608 and parameters: {'clf_name': 'svm', 'svm_C': 1.1735940629181305, 'svm_loss': 'hinge'}. Best is trial 2 with value: 0.9089926640196608.\u001b[0m\n",
      "\u001b[32m[I 2022-02-06 04:06:41,175]\u001b[0m Trial 87 finished with value: 0.9089926640196608 and parameters: {'clf_name': 'svm', 'svm_C': 0.7459148161202332, 'svm_loss': 'hinge'}. Best is trial 2 with value: 0.9089926640196608.\u001b[0m\n",
      "\u001b[32m[I 2022-02-06 04:06:41,635]\u001b[0m Trial 88 finished with value: 0.9089926640196608 and parameters: {'clf_name': 'svm', 'svm_C': 1.5788049436931004, 'svm_loss': 'hinge'}. Best is trial 2 with value: 0.9089926640196608.\u001b[0m\n",
      "\u001b[32m[I 2022-02-06 04:06:42,122]\u001b[0m Trial 89 finished with value: 0.9089926640196608 and parameters: {'clf_name': 'svm', 'svm_C': 1.2946659744941467, 'svm_loss': 'hinge'}. Best is trial 2 with value: 0.9089926640196608.\u001b[0m\n",
      "\u001b[32m[I 2022-02-06 04:06:42,315]\u001b[0m Trial 90 finished with value: 0.6970258935005462 and parameters: {'clf_name': 'dt', 'dt_max_depth': 20, 'dt_min_samples_leaf': 100, 'dt_max_features': 'sqrt', 'dt_criterion': 'entropy', 'dt_splitter': 'random'}. Best is trial 2 with value: 0.9089926640196608.\u001b[0m\n",
      "\u001b[32m[I 2022-02-06 04:06:42,731]\u001b[0m Trial 91 finished with value: 0.9089926640196608 and parameters: {'clf_name': 'svm', 'svm_C': 1.0993908035717586, 'svm_loss': 'hinge'}. Best is trial 2 with value: 0.9089926640196608.\u001b[0m\n",
      "\u001b[32m[I 2022-02-06 04:06:43,176]\u001b[0m Trial 92 finished with value: 0.9089926640196608 and parameters: {'clf_name': 'svm', 'svm_C': 2.857952035584127, 'svm_loss': 'squared_hinge'}. Best is trial 2 with value: 0.9089926640196608.\u001b[0m\n",
      "\u001b[32m[I 2022-02-06 04:06:43,647]\u001b[0m Trial 93 finished with value: 0.9089926640196608 and parameters: {'clf_name': 'svm', 'svm_C': 2.900767820529229, 'svm_loss': 'squared_hinge'}. Best is trial 2 with value: 0.9089926640196608.\u001b[0m\n",
      "\u001b[32m[I 2022-02-06 04:06:44,054]\u001b[0m Trial 94 finished with value: 0.9089926640196608 and parameters: {'clf_name': 'svm', 'svm_C': 2.4254163099351835, 'svm_loss': 'squared_hinge'}. Best is trial 2 with value: 0.9089926640196608.\u001b[0m\n",
      "\u001b[32m[I 2022-02-06 04:06:44,441]\u001b[0m Trial 95 finished with value: 0.9089926640196608 and parameters: {'clf_name': 'svm', 'svm_C': 0.22748521298176153, 'svm_loss': 'hinge'}. Best is trial 2 with value: 0.9089926640196608.\u001b[0m\n",
      "\u001b[32m[I 2022-02-06 04:06:44,857]\u001b[0m Trial 96 finished with value: 0.9089926640196608 and parameters: {'clf_name': 'svm', 'svm_C': 0.2157046789226585, 'svm_loss': 'hinge'}. Best is trial 2 with value: 0.9089926640196608.\u001b[0m\n",
      "\u001b[32m[I 2022-02-06 04:06:45,282]\u001b[0m Trial 97 finished with value: 0.9089926640196608 and parameters: {'clf_name': 'svm', 'svm_C': 0.6119412802194119, 'svm_loss': 'hinge'}. Best is trial 2 with value: 0.9089926640196608.\u001b[0m\n",
      "\u001b[32m[I 2022-02-06 04:06:45,724]\u001b[0m Trial 98 finished with value: 0.9089926640196608 and parameters: {'clf_name': 'svm', 'svm_C': 0.19610701144865314, 'svm_loss': 'hinge'}. Best is trial 2 with value: 0.9089926640196608.\u001b[0m\n",
      "\u001b[32m[I 2022-02-06 04:06:46,099]\u001b[0m Trial 99 finished with value: 0.9089926640196608 and parameters: {'clf_name': 'svm', 'svm_C': 0.12083136175891449, 'svm_loss': 'hinge'}. Best is trial 2 with value: 0.9089926640196608.\u001b[0m\n",
      "C:\\Users\\abhi0\\anaconda3\\envs\\tensorflow\\lib\\site-packages\\sklearn\\svm\\_base.py:1206: ConvergenceWarning: Liblinear failed to converge, increase the number of iterations.\n",
      "  warnings.warn(\n"
     ]
    }
   ],
   "source": [
    "study = svm_model.tune(n_trials=100)"
   ]
  },
  {
   "cell_type": "code",
   "execution_count": 232,
   "id": "541a3c88",
   "metadata": {
    "scrolled": false
   },
   "outputs": [],
   "source": [
    "trial_df = study.trials_dataframe()"
   ]
  },
  {
   "cell_type": "code",
   "execution_count": 233,
   "id": "05961817",
   "metadata": {},
   "outputs": [],
   "source": [
    "trail_df.to_csv(\"./ML_results/DryBeanStudy_trails.csv\", index=False)"
   ]
  },
  {
   "cell_type": "markdown",
   "id": "0065d88f",
   "metadata": {},
   "source": [
    "## Using Variance thresholding features\n",
    "\n",
    "### `RandomForest` Classifier"
   ]
  },
  {
   "cell_type": "code",
   "execution_count": 234,
   "id": "692e786e",
   "metadata": {},
   "outputs": [],
   "source": [
    "X = df.iloc[:, vt.get_support(indices=True)]\n",
    "y = df.Class.astype(\"category\").cat.codes.tolist()"
   ]
  },
  {
   "cell_type": "code",
   "execution_count": 235,
   "id": "482d381b",
   "metadata": {},
   "outputs": [],
   "source": [
    "X_train_, X_test_, y_train_, y_test_ = train_test_split(X, y, test_size=0.3, stratify=y)"
   ]
  },
  {
   "cell_type": "markdown",
   "id": "c0bafa4b",
   "metadata": {},
   "source": [
    "## Conclusion\n",
    "\n",
    "Coming soon ...."
   ]
  },
  {
   "cell_type": "code",
   "execution_count": null,
   "id": "284ab0e0",
   "metadata": {},
   "outputs": [],
   "source": []
  }
 ],
 "metadata": {
  "kernelspec": {
   "display_name": "Python 3 (ipykernel)",
   "language": "python",
   "name": "python3"
  },
  "language_info": {
   "codemirror_mode": {
    "name": "ipython",
    "version": 3
   },
   "file_extension": ".py",
   "mimetype": "text/x-python",
   "name": "python",
   "nbconvert_exporter": "python",
   "pygments_lexer": "ipython3",
   "version": "3.8.5"
  },
  "toc": {
   "base_numbering": 1,
   "nav_menu": {},
   "number_sections": true,
   "sideBar": true,
   "skip_h1_title": false,
   "title_cell": "Table of Contents",
   "title_sidebar": "Contents",
   "toc_cell": true,
   "toc_position": {
    "height": "565.6px",
    "left": "24px",
    "top": "197.125px",
    "width": "291.825px"
   },
   "toc_section_display": true,
   "toc_window_display": true
  }
 },
 "nbformat": 4,
 "nbformat_minor": 5
}
