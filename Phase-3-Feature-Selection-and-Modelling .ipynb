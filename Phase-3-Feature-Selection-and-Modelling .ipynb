{
 "cells": [
  {
   "cell_type": "markdown",
   "id": "6918494c",
   "metadata": {
    "toc": true
   },
   "source": [
    "<h1>Table of Contents<span class=\"tocSkip\"></span></h1>\n",
    "<div class=\"toc\"><ul class=\"toc-item\"><li><span><a href=\"#Feature-Selection\" data-toc-modified-id=\"Feature-Selection-1\"><span class=\"toc-item-num\">1&nbsp;&nbsp;</span>Feature Selection</a></span><ul class=\"toc-item\"><li><span><a href=\"#Variance-Thresholding\" data-toc-modified-id=\"Variance-Thresholding-1.1\"><span class=\"toc-item-num\">1.1&nbsp;&nbsp;</span>Variance Thresholding</a></span></li><li><span><a href=\"#Anova-Test\" data-toc-modified-id=\"Anova-Test-1.2\"><span class=\"toc-item-num\">1.2&nbsp;&nbsp;</span>Anova Test</a></span></li><li><span><a href=\"#RFE-(Recursive-Feature-Elimination)\" data-toc-modified-id=\"RFE-(Recursive-Feature-Elimination)-1.3\"><span class=\"toc-item-num\">1.3&nbsp;&nbsp;</span>RFE (Recursive Feature Elimination)</a></span></li><li><span><a href=\"#Feature-Selection-using-RandomForest\" data-toc-modified-id=\"Feature-Selection-using-RandomForest-1.4\"><span class=\"toc-item-num\">1.4&nbsp;&nbsp;</span>Feature Selection using RandomForest</a></span></li><li><span><a href=\"#Conclusion\" data-toc-modified-id=\"Conclusion-1.5\"><span class=\"toc-item-num\">1.5&nbsp;&nbsp;</span>Conclusion</a></span></li></ul></li><li><span><a href=\"#Modelling\" data-toc-modified-id=\"Modelling-2\"><span class=\"toc-item-num\">2&nbsp;&nbsp;</span>Modelling</a></span><ul class=\"toc-item\"><li><span><a href=\"#Decision-tree-modelling\" data-toc-modified-id=\"Decision-tree-modelling-2.1\"><span class=\"toc-item-num\">2.1&nbsp;&nbsp;</span>Decision tree modelling</a></span><ul class=\"toc-item\"><li><span><a href=\"#Hyperparameter-tuning-the-decision-tree\" data-toc-modified-id=\"Hyperparameter-tuning-the-decision-tree-2.1.1\"><span class=\"toc-item-num\">2.1.1&nbsp;&nbsp;</span>Hyperparameter tuning the decision tree</a></span></li></ul></li><li><span><a href=\"#Modelling-with-Random-Forest\" data-toc-modified-id=\"Modelling-with-Random-Forest-2.2\"><span class=\"toc-item-num\">2.2&nbsp;&nbsp;</span>Modelling with Random Forest</a></span><ul class=\"toc-item\"><li><span><a href=\"#Tuning-the-Random-Forest\" data-toc-modified-id=\"Tuning-the-Random-Forest-2.2.1\"><span class=\"toc-item-num\">2.2.1&nbsp;&nbsp;</span>Tuning the Random Forest</a></span></li></ul></li><li><span><a href=\"#Saving-both-the-models-and-the-results\" data-toc-modified-id=\"Saving-both-the-models-and-the-results-2.3\"><span class=\"toc-item-num\">2.3&nbsp;&nbsp;</span>Saving both the models and the results</a></span></li></ul></li></ul></div>"
   ]
  },
  {
   "cell_type": "markdown",
   "id": "1d6575a4",
   "metadata": {},
   "source": [
    "<center><h1>Feature Selection</h1></center>"
   ]
  },
  {
   "cell_type": "code",
   "execution_count": 72,
   "id": "a48945d2",
   "metadata": {},
   "outputs": [],
   "source": [
    "import numpy as np\n",
    "import pandas as pd\n",
    "import seaborn as sns\n",
    "\n",
    "from sklearn.experimental import enable_halving_search_cv\n",
    "\n",
    "from sklearn.preprocessing import (\n",
    "    MinMaxScaler, \n",
    "    StandardScaler\n",
    ")\n",
    "\n",
    "from sklearn.tree import DecisionTreeClassifier\n",
    "from sklearn.ensemble import RandomForestClassifier\n",
    "\n",
    "from sklearn import metrics\n",
    "\n",
    "from sklearn.model_selection import (\n",
    "    train_test_split, \n",
    "    KFold, \n",
    "    HalvingGridSearchCV\n",
    ")\n",
    "\n",
    "from sklearn.feature_selection import (\n",
    "    VarianceThreshold, \n",
    "    f_classif,\n",
    "    SelectKBest,\n",
    "    SelectFromModel,\n",
    "    RFE\n",
    ")\n",
    "\n",
    "from skopt import BayesSearchCV\n",
    "\n",
    "from joblib import dump, load\n",
    "\n",
    "from prettytable import PrettyTable\n",
    "\n",
    "sns.set(rc={\"figure.figsize\": (10, 8)}, font_scale=1.25)"
   ]
  },
  {
   "cell_type": "code",
   "execution_count": 58,
   "id": "d1222750",
   "metadata": {},
   "outputs": [],
   "source": [
    "df = pd.read_csv(\"./cleaned_data/Data_removed_outlier_iqr.csv\")"
   ]
  },
  {
   "cell_type": "code",
   "execution_count": 3,
   "id": "7b124fdd",
   "metadata": {},
   "outputs": [
    {
     "data": {
      "text/html": [
       "<div>\n",
       "<style scoped>\n",
       "    .dataframe tbody tr th:only-of-type {\n",
       "        vertical-align: middle;\n",
       "    }\n",
       "\n",
       "    .dataframe tbody tr th {\n",
       "        vertical-align: top;\n",
       "    }\n",
       "\n",
       "    .dataframe thead th {\n",
       "        text-align: right;\n",
       "    }\n",
       "</style>\n",
       "<table border=\"1\" class=\"dataframe\">\n",
       "  <thead>\n",
       "    <tr style=\"text-align: right;\">\n",
       "      <th></th>\n",
       "      <th>Area</th>\n",
       "      <th>Perimeter</th>\n",
       "      <th>MajorAxisLength</th>\n",
       "      <th>MinorAxisLength</th>\n",
       "      <th>AspectRation</th>\n",
       "      <th>Eccentricity</th>\n",
       "      <th>ConvexArea</th>\n",
       "      <th>EquivDiameter</th>\n",
       "      <th>Extent</th>\n",
       "      <th>Solidity</th>\n",
       "      <th>roundness</th>\n",
       "      <th>Compactness</th>\n",
       "      <th>ShapeFactor1</th>\n",
       "      <th>ShapeFactor2</th>\n",
       "      <th>ShapeFactor3</th>\n",
       "      <th>ShapeFactor4</th>\n",
       "      <th>Class</th>\n",
       "    </tr>\n",
       "  </thead>\n",
       "  <tbody>\n",
       "    <tr>\n",
       "      <th>0</th>\n",
       "      <td>35280</td>\n",
       "      <td>717.703</td>\n",
       "      <td>264.995250</td>\n",
       "      <td>170.035245</td>\n",
       "      <td>1.558472</td>\n",
       "      <td>0.766994</td>\n",
       "      <td>35772</td>\n",
       "      <td>211.943132</td>\n",
       "      <td>0.703616</td>\n",
       "      <td>0.986246</td>\n",
       "      <td>0.860694</td>\n",
       "      <td>0.799800</td>\n",
       "      <td>0.007511</td>\n",
       "      <td>0.001896</td>\n",
       "      <td>0.639680</td>\n",
       "      <td>0.996923</td>\n",
       "      <td>DERMASON</td>\n",
       "    </tr>\n",
       "    <tr>\n",
       "      <th>1</th>\n",
       "      <td>83296</td>\n",
       "      <td>1142.638</td>\n",
       "      <td>446.765889</td>\n",
       "      <td>239.013317</td>\n",
       "      <td>1.869209</td>\n",
       "      <td>0.844861</td>\n",
       "      <td>84270</td>\n",
       "      <td>325.662035</td>\n",
       "      <td>0.702588</td>\n",
       "      <td>0.988442</td>\n",
       "      <td>0.801709</td>\n",
       "      <td>0.728932</td>\n",
       "      <td>0.005364</td>\n",
       "      <td>0.000934</td>\n",
       "      <td>0.531342</td>\n",
       "      <td>0.993190</td>\n",
       "      <td>CALI</td>\n",
       "    </tr>\n",
       "    <tr>\n",
       "      <th>2</th>\n",
       "      <td>35594</td>\n",
       "      <td>689.634</td>\n",
       "      <td>254.572928</td>\n",
       "      <td>178.441837</td>\n",
       "      <td>1.426644</td>\n",
       "      <td>0.713214</td>\n",
       "      <td>35966</td>\n",
       "      <td>212.884213</td>\n",
       "      <td>0.811629</td>\n",
       "      <td>0.989657</td>\n",
       "      <td>0.940479</td>\n",
       "      <td>0.836241</td>\n",
       "      <td>0.007152</td>\n",
       "      <td>0.002157</td>\n",
       "      <td>0.699298</td>\n",
       "      <td>0.997650</td>\n",
       "      <td>DERMASON</td>\n",
       "    </tr>\n",
       "    <tr>\n",
       "      <th>3</th>\n",
       "      <td>52710</td>\n",
       "      <td>872.700</td>\n",
       "      <td>326.039383</td>\n",
       "      <td>207.399450</td>\n",
       "      <td>1.572036</td>\n",
       "      <td>0.771592</td>\n",
       "      <td>53280</td>\n",
       "      <td>259.060720</td>\n",
       "      <td>0.677419</td>\n",
       "      <td>0.989302</td>\n",
       "      <td>0.869707</td>\n",
       "      <td>0.794569</td>\n",
       "      <td>0.006186</td>\n",
       "      <td>0.001521</td>\n",
       "      <td>0.631340</td>\n",
       "      <td>0.992488</td>\n",
       "      <td>SIRA</td>\n",
       "    </tr>\n",
       "    <tr>\n",
       "      <th>4</th>\n",
       "      <td>62855</td>\n",
       "      <td>1004.759</td>\n",
       "      <td>413.879306</td>\n",
       "      <td>194.299306</td>\n",
       "      <td>2.130112</td>\n",
       "      <td>0.882954</td>\n",
       "      <td>63781</td>\n",
       "      <td>282.894807</td>\n",
       "      <td>0.598340</td>\n",
       "      <td>0.985482</td>\n",
       "      <td>0.782395</td>\n",
       "      <td>0.683520</td>\n",
       "      <td>0.006585</td>\n",
       "      <td>0.000887</td>\n",
       "      <td>0.467200</td>\n",
       "      <td>0.995188</td>\n",
       "      <td>HOROZ</td>\n",
       "    </tr>\n",
       "  </tbody>\n",
       "</table>\n",
       "</div>"
      ],
      "text/plain": [
       "    Area  Perimeter  MajorAxisLength  MinorAxisLength  AspectRation  \\\n",
       "0  35280    717.703       264.995250       170.035245      1.558472   \n",
       "1  83296   1142.638       446.765889       239.013317      1.869209   \n",
       "2  35594    689.634       254.572928       178.441837      1.426644   \n",
       "3  52710    872.700       326.039383       207.399450      1.572036   \n",
       "4  62855   1004.759       413.879306       194.299306      2.130112   \n",
       "\n",
       "   Eccentricity  ConvexArea  EquivDiameter    Extent  Solidity  roundness  \\\n",
       "0      0.766994       35772     211.943132  0.703616  0.986246   0.860694   \n",
       "1      0.844861       84270     325.662035  0.702588  0.988442   0.801709   \n",
       "2      0.713214       35966     212.884213  0.811629  0.989657   0.940479   \n",
       "3      0.771592       53280     259.060720  0.677419  0.989302   0.869707   \n",
       "4      0.882954       63781     282.894807  0.598340  0.985482   0.782395   \n",
       "\n",
       "   Compactness  ShapeFactor1  ShapeFactor2  ShapeFactor3  ShapeFactor4  \\\n",
       "0     0.799800      0.007511      0.001896      0.639680      0.996923   \n",
       "1     0.728932      0.005364      0.000934      0.531342      0.993190   \n",
       "2     0.836241      0.007152      0.002157      0.699298      0.997650   \n",
       "3     0.794569      0.006186      0.001521      0.631340      0.992488   \n",
       "4     0.683520      0.006585      0.000887      0.467200      0.995188   \n",
       "\n",
       "      Class  \n",
       "0  DERMASON  \n",
       "1      CALI  \n",
       "2  DERMASON  \n",
       "3      SIRA  \n",
       "4     HOROZ  "
      ]
     },
     "execution_count": 3,
     "metadata": {},
     "output_type": "execute_result"
    }
   ],
   "source": [
    "df.head()"
   ]
  },
  {
   "cell_type": "code",
   "execution_count": 4,
   "id": "957b2f2d",
   "metadata": {},
   "outputs": [],
   "source": [
    "X = df.drop('Class', axis=1)\n",
    "y = df['Class'].astype('category').cat.codes"
   ]
  },
  {
   "cell_type": "code",
   "execution_count": 5,
   "id": "a16fe526",
   "metadata": {},
   "outputs": [
    {
     "data": {
      "text/plain": [
       "Area               2.822575e+08\n",
       "Perimeter          2.552720e+04\n",
       "MajorAxisLength    4.481631e+03\n",
       "MinorAxisLength    8.885643e+02\n",
       "AspectRation       6.266115e-02\n",
       "Eccentricity       8.710692e-03\n",
       "ConvexArea         2.930358e+08\n",
       "EquivDiameter      1.712622e+03\n",
       "Extent             2.414141e-03\n",
       "Solidity           2.150092e-05\n",
       "roundness          3.647966e-03\n",
       "Compactness        3.917317e-03\n",
       "ShapeFactor1       9.303870e-07\n",
       "ShapeFactor2       3.371308e-07\n",
       "ShapeFactor3       1.007840e-02\n",
       "ShapeFactor4       1.858476e-05\n",
       "dtype: float64"
      ]
     },
     "execution_count": 5,
     "metadata": {},
     "output_type": "execute_result"
    }
   ],
   "source": [
    "X.var(numeric_only=True)"
   ]
  },
  {
   "cell_type": "code",
   "execution_count": 6,
   "id": "25ff0a5b",
   "metadata": {},
   "outputs": [],
   "source": [
    "scaler = MinMaxScaler(feature_range=(1, 10))\n",
    "X_scaled = scaler.fit_transform(X)"
   ]
  },
  {
   "cell_type": "code",
   "execution_count": 7,
   "id": "3c2cb786",
   "metadata": {},
   "outputs": [],
   "source": [
    "X_scaled_df = pd.DataFrame(X_scaled, columns=df.columns[:-1].tolist())"
   ]
  },
  {
   "cell_type": "code",
   "execution_count": 8,
   "id": "8ade6929",
   "metadata": {},
   "outputs": [
    {
     "data": {
      "text/html": [
       "<div>\n",
       "<style scoped>\n",
       "    .dataframe tbody tr th:only-of-type {\n",
       "        vertical-align: middle;\n",
       "    }\n",
       "\n",
       "    .dataframe tbody tr th {\n",
       "        vertical-align: top;\n",
       "    }\n",
       "\n",
       "    .dataframe thead th {\n",
       "        text-align: right;\n",
       "    }\n",
       "</style>\n",
       "<table border=\"1\" class=\"dataframe\">\n",
       "  <thead>\n",
       "    <tr style=\"text-align: right;\">\n",
       "      <th></th>\n",
       "      <th>Area</th>\n",
       "      <th>Perimeter</th>\n",
       "      <th>MajorAxisLength</th>\n",
       "      <th>MinorAxisLength</th>\n",
       "      <th>AspectRation</th>\n",
       "      <th>Eccentricity</th>\n",
       "      <th>ConvexArea</th>\n",
       "      <th>EquivDiameter</th>\n",
       "      <th>Extent</th>\n",
       "      <th>Solidity</th>\n",
       "      <th>roundness</th>\n",
       "      <th>Compactness</th>\n",
       "      <th>ShapeFactor1</th>\n",
       "      <th>ShapeFactor2</th>\n",
       "      <th>ShapeFactor3</th>\n",
       "      <th>ShapeFactor4</th>\n",
       "    </tr>\n",
       "  </thead>\n",
       "  <tbody>\n",
       "    <tr>\n",
       "      <th>0</th>\n",
       "      <td>2.098625</td>\n",
       "      <td>3.016910</td>\n",
       "      <td>3.087722</td>\n",
       "      <td>2.683622</td>\n",
       "      <td>4.417042</td>\n",
       "      <td>8.122872</td>\n",
       "      <td>2.109502</td>\n",
       "      <td>2.727128</td>\n",
       "      <td>5.293329</td>\n",
       "      <td>8.994033</td>\n",
       "      <td>7.665143</td>\n",
       "      <td>5.132964</td>\n",
       "      <td>6.251251</td>\n",
       "      <td>4.536541</td>\n",
       "      <td>4.656919</td>\n",
       "      <td>9.514172</td>\n",
       "    </tr>\n",
       "    <tr>\n",
       "      <th>1</th>\n",
       "      <td>5.648529</td>\n",
       "      <td>7.458373</td>\n",
       "      <td>7.750059</td>\n",
       "      <td>5.127365</td>\n",
       "      <td>6.406905</td>\n",
       "      <td>9.134902</td>\n",
       "      <td>5.675823</td>\n",
       "      <td>6.601082</td>\n",
       "      <td>5.263568</td>\n",
       "      <td>9.256008</td>\n",
       "      <td>6.605667</td>\n",
       "      <td>3.293449</td>\n",
       "      <td>3.512836</td>\n",
       "      <td>1.566158</td>\n",
       "      <td>2.929442</td>\n",
       "      <td>8.868550</td>\n",
       "    </tr>\n",
       "    <tr>\n",
       "      <th>2</th>\n",
       "      <td>2.121839</td>\n",
       "      <td>2.723530</td>\n",
       "      <td>2.820394</td>\n",
       "      <td>2.981450</td>\n",
       "      <td>3.572851</td>\n",
       "      <td>7.423900</td>\n",
       "      <td>2.123768</td>\n",
       "      <td>2.759187</td>\n",
       "      <td>8.420327</td>\n",
       "      <td>9.400973</td>\n",
       "      <td>9.098218</td>\n",
       "      <td>6.078862</td>\n",
       "      <td>5.793397</td>\n",
       "      <td>5.344295</td>\n",
       "      <td>5.607558</td>\n",
       "      <td>9.639797</td>\n",
       "    </tr>\n",
       "    <tr>\n",
       "      <th>3</th>\n",
       "      <td>3.387254</td>\n",
       "      <td>4.636954</td>\n",
       "      <td>4.653477</td>\n",
       "      <td>4.007355</td>\n",
       "      <td>4.503898</td>\n",
       "      <td>8.182628</td>\n",
       "      <td>3.396961</td>\n",
       "      <td>4.332238</td>\n",
       "      <td>4.534940</td>\n",
       "      <td>9.358605</td>\n",
       "      <td>7.827025</td>\n",
       "      <td>4.997184</td>\n",
       "      <td>4.560889</td>\n",
       "      <td>3.378249</td>\n",
       "      <td>4.523934</td>\n",
       "      <td>8.747308</td>\n",
       "    </tr>\n",
       "    <tr>\n",
       "      <th>4</th>\n",
       "      <td>4.137291</td>\n",
       "      <td>6.017248</td>\n",
       "      <td>6.906533</td>\n",
       "      <td>3.543245</td>\n",
       "      <td>8.077647</td>\n",
       "      <td>9.629996</td>\n",
       "      <td>4.169156</td>\n",
       "      <td>5.144171</td>\n",
       "      <td>2.245580</td>\n",
       "      <td>8.902799</td>\n",
       "      <td>6.258752</td>\n",
       "      <td>2.114683</td>\n",
       "      <td>5.069827</td>\n",
       "      <td>1.419470</td>\n",
       "      <td>1.906669</td>\n",
       "      <td>9.214072</td>\n",
       "    </tr>\n",
       "  </tbody>\n",
       "</table>\n",
       "</div>"
      ],
      "text/plain": [
       "       Area  Perimeter  MajorAxisLength  MinorAxisLength  AspectRation  \\\n",
       "0  2.098625   3.016910         3.087722         2.683622      4.417042   \n",
       "1  5.648529   7.458373         7.750059         5.127365      6.406905   \n",
       "2  2.121839   2.723530         2.820394         2.981450      3.572851   \n",
       "3  3.387254   4.636954         4.653477         4.007355      4.503898   \n",
       "4  4.137291   6.017248         6.906533         3.543245      8.077647   \n",
       "\n",
       "   Eccentricity  ConvexArea  EquivDiameter    Extent  Solidity  roundness  \\\n",
       "0      8.122872    2.109502       2.727128  5.293329  8.994033   7.665143   \n",
       "1      9.134902    5.675823       6.601082  5.263568  9.256008   6.605667   \n",
       "2      7.423900    2.123768       2.759187  8.420327  9.400973   9.098218   \n",
       "3      8.182628    3.396961       4.332238  4.534940  9.358605   7.827025   \n",
       "4      9.629996    4.169156       5.144171  2.245580  8.902799   6.258752   \n",
       "\n",
       "   Compactness  ShapeFactor1  ShapeFactor2  ShapeFactor3  ShapeFactor4  \n",
       "0     5.132964      6.251251      4.536541      4.656919      9.514172  \n",
       "1     3.293449      3.512836      1.566158      2.929442      8.868550  \n",
       "2     6.078862      5.793397      5.344295      5.607558      9.639797  \n",
       "3     4.997184      4.560889      3.378249      4.523934      8.747308  \n",
       "4     2.114683      5.069827      1.419470      1.906669      9.214072  "
      ]
     },
     "execution_count": 8,
     "metadata": {},
     "output_type": "execute_result"
    }
   ],
   "source": [
    "X_scaled_df.head()"
   ]
  },
  {
   "cell_type": "code",
   "execution_count": 9,
   "id": "e9b47752",
   "metadata": {},
   "outputs": [
    {
     "data": {
      "text/plain": [
       "Area               1.542790\n",
       "Perimeter          2.788754\n",
       "MajorAxisLength    2.948464\n",
       "MinorAxisLength    1.115265\n",
       "AspectRation       2.569564\n",
       "Eccentricity       1.471410\n",
       "ConvexArea         1.584579\n",
       "EquivDiameter      1.987491\n",
       "Extent             2.023309\n",
       "Solidity           0.306082\n",
       "roundness          1.176912\n",
       "Compactness        2.639371\n",
       "ShapeFactor1       1.512696\n",
       "ShapeFactor2       3.215439\n",
       "ShapeFactor3       2.562470\n",
       "ShapeFactor4       0.555753\n",
       "dtype: float64"
      ]
     },
     "execution_count": 9,
     "metadata": {},
     "output_type": "execute_result"
    }
   ],
   "source": [
    "X_scaled_df.var()"
   ]
  },
  {
   "cell_type": "markdown",
   "id": "11099d7b",
   "metadata": {},
   "source": [
    "## Variance Thresholding\n",
    "\n",
    "If the variance is low or close to zero, then a feature is approximately constant and will not improve the performance of the model. In that case, it should be removed.\n",
    "\n",
    "Variance will also be very low for a feature if only a handful of observations of that feature differ from a constant value.\n",
    "\n",
    "What we can do is set a threshold and drop features with low variance "
   ]
  },
  {
   "cell_type": "code",
   "execution_count": 10,
   "id": "9b441108",
   "metadata": {},
   "outputs": [],
   "source": [
    "vt = VarianceThreshold(threshold=1)\n",
    "X_scaled_var_feats = vt.fit_transform(X_scaled)"
   ]
  },
  {
   "cell_type": "code",
   "execution_count": 11,
   "id": "cc771ff5",
   "metadata": {},
   "outputs": [],
   "source": [
    "X_scaled_var_feats_df = pd.DataFrame(\n",
    "    X_scaled_var_feats, \n",
    "    columns=X_scaled_df.columns[vt.get_support(indices=True)]\n",
    ")"
   ]
  },
  {
   "cell_type": "code",
   "execution_count": 12,
   "id": "cc73c3fb",
   "metadata": {},
   "outputs": [
    {
     "data": {
      "text/html": [
       "<div>\n",
       "<style scoped>\n",
       "    .dataframe tbody tr th:only-of-type {\n",
       "        vertical-align: middle;\n",
       "    }\n",
       "\n",
       "    .dataframe tbody tr th {\n",
       "        vertical-align: top;\n",
       "    }\n",
       "\n",
       "    .dataframe thead th {\n",
       "        text-align: right;\n",
       "    }\n",
       "</style>\n",
       "<table border=\"1\" class=\"dataframe\">\n",
       "  <thead>\n",
       "    <tr style=\"text-align: right;\">\n",
       "      <th></th>\n",
       "      <th>Area</th>\n",
       "      <th>Perimeter</th>\n",
       "      <th>MajorAxisLength</th>\n",
       "      <th>MinorAxisLength</th>\n",
       "      <th>AspectRation</th>\n",
       "      <th>Eccentricity</th>\n",
       "      <th>ConvexArea</th>\n",
       "      <th>EquivDiameter</th>\n",
       "      <th>Extent</th>\n",
       "      <th>roundness</th>\n",
       "      <th>Compactness</th>\n",
       "      <th>ShapeFactor1</th>\n",
       "      <th>ShapeFactor2</th>\n",
       "      <th>ShapeFactor3</th>\n",
       "    </tr>\n",
       "  </thead>\n",
       "  <tbody>\n",
       "    <tr>\n",
       "      <th>0</th>\n",
       "      <td>2.098625</td>\n",
       "      <td>3.016910</td>\n",
       "      <td>3.087722</td>\n",
       "      <td>2.683622</td>\n",
       "      <td>4.417042</td>\n",
       "      <td>8.122872</td>\n",
       "      <td>2.109502</td>\n",
       "      <td>2.727128</td>\n",
       "      <td>5.293329</td>\n",
       "      <td>7.665143</td>\n",
       "      <td>5.132964</td>\n",
       "      <td>6.251251</td>\n",
       "      <td>4.536541</td>\n",
       "      <td>4.656919</td>\n",
       "    </tr>\n",
       "    <tr>\n",
       "      <th>1</th>\n",
       "      <td>5.648529</td>\n",
       "      <td>7.458373</td>\n",
       "      <td>7.750059</td>\n",
       "      <td>5.127365</td>\n",
       "      <td>6.406905</td>\n",
       "      <td>9.134902</td>\n",
       "      <td>5.675823</td>\n",
       "      <td>6.601082</td>\n",
       "      <td>5.263568</td>\n",
       "      <td>6.605667</td>\n",
       "      <td>3.293449</td>\n",
       "      <td>3.512836</td>\n",
       "      <td>1.566158</td>\n",
       "      <td>2.929442</td>\n",
       "    </tr>\n",
       "    <tr>\n",
       "      <th>2</th>\n",
       "      <td>2.121839</td>\n",
       "      <td>2.723530</td>\n",
       "      <td>2.820394</td>\n",
       "      <td>2.981450</td>\n",
       "      <td>3.572851</td>\n",
       "      <td>7.423900</td>\n",
       "      <td>2.123768</td>\n",
       "      <td>2.759187</td>\n",
       "      <td>8.420327</td>\n",
       "      <td>9.098218</td>\n",
       "      <td>6.078862</td>\n",
       "      <td>5.793397</td>\n",
       "      <td>5.344295</td>\n",
       "      <td>5.607558</td>\n",
       "    </tr>\n",
       "    <tr>\n",
       "      <th>3</th>\n",
       "      <td>3.387254</td>\n",
       "      <td>4.636954</td>\n",
       "      <td>4.653477</td>\n",
       "      <td>4.007355</td>\n",
       "      <td>4.503898</td>\n",
       "      <td>8.182628</td>\n",
       "      <td>3.396961</td>\n",
       "      <td>4.332238</td>\n",
       "      <td>4.534940</td>\n",
       "      <td>7.827025</td>\n",
       "      <td>4.997184</td>\n",
       "      <td>4.560889</td>\n",
       "      <td>3.378249</td>\n",
       "      <td>4.523934</td>\n",
       "    </tr>\n",
       "    <tr>\n",
       "      <th>4</th>\n",
       "      <td>4.137291</td>\n",
       "      <td>6.017248</td>\n",
       "      <td>6.906533</td>\n",
       "      <td>3.543245</td>\n",
       "      <td>8.077647</td>\n",
       "      <td>9.629996</td>\n",
       "      <td>4.169156</td>\n",
       "      <td>5.144171</td>\n",
       "      <td>2.245580</td>\n",
       "      <td>6.258752</td>\n",
       "      <td>2.114683</td>\n",
       "      <td>5.069827</td>\n",
       "      <td>1.419470</td>\n",
       "      <td>1.906669</td>\n",
       "    </tr>\n",
       "  </tbody>\n",
       "</table>\n",
       "</div>"
      ],
      "text/plain": [
       "       Area  Perimeter  MajorAxisLength  MinorAxisLength  AspectRation  \\\n",
       "0  2.098625   3.016910         3.087722         2.683622      4.417042   \n",
       "1  5.648529   7.458373         7.750059         5.127365      6.406905   \n",
       "2  2.121839   2.723530         2.820394         2.981450      3.572851   \n",
       "3  3.387254   4.636954         4.653477         4.007355      4.503898   \n",
       "4  4.137291   6.017248         6.906533         3.543245      8.077647   \n",
       "\n",
       "   Eccentricity  ConvexArea  EquivDiameter    Extent  roundness  Compactness  \\\n",
       "0      8.122872    2.109502       2.727128  5.293329   7.665143     5.132964   \n",
       "1      9.134902    5.675823       6.601082  5.263568   6.605667     3.293449   \n",
       "2      7.423900    2.123768       2.759187  8.420327   9.098218     6.078862   \n",
       "3      8.182628    3.396961       4.332238  4.534940   7.827025     4.997184   \n",
       "4      9.629996    4.169156       5.144171  2.245580   6.258752     2.114683   \n",
       "\n",
       "   ShapeFactor1  ShapeFactor2  ShapeFactor3  \n",
       "0      6.251251      4.536541      4.656919  \n",
       "1      3.512836      1.566158      2.929442  \n",
       "2      5.793397      5.344295      5.607558  \n",
       "3      4.560889      3.378249      4.523934  \n",
       "4      5.069827      1.419470      1.906669  "
      ]
     },
     "execution_count": 12,
     "metadata": {},
     "output_type": "execute_result"
    }
   ],
   "source": [
    "X_scaled_var_feats_df.head()"
   ]
  },
  {
   "cell_type": "markdown",
   "id": "87fd72c0",
   "metadata": {},
   "source": [
    "**Obvservation**\n",
    "\n",
    " - As we can see 2 low variance features are removed which are `Solidity` and `ShapeFactor4`"
   ]
  },
  {
   "cell_type": "markdown",
   "id": "b7ef1cbe",
   "metadata": {},
   "source": [
    "## Anova Test\n",
    "\n",
    "Analysis of variance (ANOVA) is a statistical technique that is used to check if the means of two or more groups are significantly different from each other. ANOVA checks the impact of one or more factors by comparing the means of different samples. \n",
    "\n",
    "If we had categorical variables we would do another test called the $\\chi^2$ test. Since we have all numeric features we do the ANOVA test."
   ]
  },
  {
   "cell_type": "code",
   "execution_count": 13,
   "id": "2d1cf863",
   "metadata": {},
   "outputs": [
    {
     "data": {
      "text/plain": [
       "SelectKBest(k=8)"
      ]
     },
     "execution_count": 13,
     "metadata": {},
     "output_type": "execute_result"
    }
   ],
   "source": [
    "anova_filter = SelectKBest(score_func=f_classif, k=8)\n",
    "anova_filter.fit(X, y)"
   ]
  },
  {
   "cell_type": "code",
   "execution_count": 14,
   "id": "6ca72c37",
   "metadata": {},
   "outputs": [],
   "source": [
    "anova_df = pd.DataFrame({\n",
    "    'features': df.columns[anova_filter.get_support(indices=True)],\n",
    "    'scores': anova_filter.scores_[anova_filter.get_support(indices=True)]\n",
    "})"
   ]
  },
  {
   "cell_type": "code",
   "execution_count": 15,
   "id": "1c9fe7e7",
   "metadata": {},
   "outputs": [
    {
     "data": {
      "text/html": [
       "<div>\n",
       "<style scoped>\n",
       "    .dataframe tbody tr th:only-of-type {\n",
       "        vertical-align: middle;\n",
       "    }\n",
       "\n",
       "    .dataframe tbody tr th {\n",
       "        vertical-align: top;\n",
       "    }\n",
       "\n",
       "    .dataframe thead th {\n",
       "        text-align: right;\n",
       "    }\n",
       "</style>\n",
       "<table border=\"1\" class=\"dataframe\">\n",
       "  <thead>\n",
       "    <tr style=\"text-align: right;\">\n",
       "      <th></th>\n",
       "      <th>features</th>\n",
       "      <th>scores</th>\n",
       "    </tr>\n",
       "  </thead>\n",
       "  <tbody>\n",
       "    <tr>\n",
       "      <th>0</th>\n",
       "      <td>Area</td>\n",
       "      <td>12106.046095</td>\n",
       "    </tr>\n",
       "    <tr>\n",
       "      <th>1</th>\n",
       "      <td>Perimeter</td>\n",
       "      <td>13571.034479</td>\n",
       "    </tr>\n",
       "    <tr>\n",
       "      <th>2</th>\n",
       "      <td>MajorAxisLength</td>\n",
       "      <td>13811.838587</td>\n",
       "    </tr>\n",
       "    <tr>\n",
       "      <th>3</th>\n",
       "      <td>AspectRation</td>\n",
       "      <td>10508.820302</td>\n",
       "    </tr>\n",
       "    <tr>\n",
       "      <th>4</th>\n",
       "      <td>ConvexArea</td>\n",
       "      <td>12251.935448</td>\n",
       "    </tr>\n",
       "    <tr>\n",
       "      <th>5</th>\n",
       "      <td>EquivDiameter</td>\n",
       "      <td>12284.518500</td>\n",
       "    </tr>\n",
       "    <tr>\n",
       "      <th>6</th>\n",
       "      <td>Compactness</td>\n",
       "      <td>10309.663853</td>\n",
       "    </tr>\n",
       "    <tr>\n",
       "      <th>7</th>\n",
       "      <td>ShapeFactor2</td>\n",
       "      <td>10833.619482</td>\n",
       "    </tr>\n",
       "  </tbody>\n",
       "</table>\n",
       "</div>"
      ],
      "text/plain": [
       "          features        scores\n",
       "0             Area  12106.046095\n",
       "1        Perimeter  13571.034479\n",
       "2  MajorAxisLength  13811.838587\n",
       "3     AspectRation  10508.820302\n",
       "4       ConvexArea  12251.935448\n",
       "5    EquivDiameter  12284.518500\n",
       "6      Compactness  10309.663853\n",
       "7     ShapeFactor2  10833.619482"
      ]
     },
     "execution_count": 15,
     "metadata": {},
     "output_type": "execute_result"
    }
   ],
   "source": [
    "anova_df"
   ]
  },
  {
   "cell_type": "markdown",
   "id": "1d1591a2",
   "metadata": {},
   "source": [
    "**Obvservation**\n",
    "\n",
    " - We have selected 8 best features according to the anova scores. \n",
    " - We can select more features also, it can be a thought of as a hyperparameter to be tuned i.e trying different models with different number of features\n",
    " - I selected the number 8 as in the previous EDA notebook we saw that 8 principal components could be used to describe the whole dataset"
   ]
  },
  {
   "cell_type": "markdown",
   "id": "d48ea860",
   "metadata": {},
   "source": [
    "## RFE (Recursive Feature Elimination)\n",
    "\n",
    "Recursive Feature Elimination selects features by recursively considering smaller subsets of features by pruning the least important feature at each step. Here models are created iteartively and in each iteration it determines the best and worst performing features and this process continues until all the features are explored.Next ranking is given on eah feature based on their elimination orde. In the worst case, if a dataset contains N number of features RFE will do a greedy search for $N^2$ combinations of features."
   ]
  },
  {
   "cell_type": "code",
   "execution_count": 16,
   "id": "f7648f42",
   "metadata": {},
   "outputs": [
    {
     "name": "stdout",
     "output_type": "stream",
     "text": [
      "Fitting estimator with 16 features.\n",
      "Fitting estimator with 15 features.\n",
      "Fitting estimator with 14 features.\n",
      "Fitting estimator with 13 features.\n",
      "Fitting estimator with 12 features.\n",
      "Fitting estimator with 11 features.\n",
      "Fitting estimator with 10 features.\n",
      "Fitting estimator with 9 features.\n"
     ]
    },
    {
     "data": {
      "text/plain": [
       "RFE(estimator=DecisionTreeClassifier(), n_features_to_select=8, verbose=3)"
      ]
     },
     "execution_count": 16,
     "metadata": {},
     "output_type": "execute_result"
    }
   ],
   "source": [
    "rfe = RFE(estimator=DecisionTreeClassifier(), n_features_to_select=8, verbose=3)\n",
    "rfe.fit(X, y)"
   ]
  },
  {
   "cell_type": "code",
   "execution_count": 17,
   "id": "150de8cf",
   "metadata": {},
   "outputs": [
    {
     "data": {
      "text/plain": [
       "array(['Perimeter', 'MajorAxisLength', 'MinorAxisLength', 'roundness',\n",
       "       'Compactness', 'ShapeFactor1', 'ShapeFactor3', 'ShapeFactor4'],\n",
       "      dtype=object)"
      ]
     },
     "execution_count": 17,
     "metadata": {},
     "output_type": "execute_result"
    }
   ],
   "source": [
    "rfe.get_feature_names_out()"
   ]
  },
  {
   "cell_type": "code",
   "execution_count": 18,
   "id": "56de84b9",
   "metadata": {},
   "outputs": [],
   "source": [
    "rfe_df = pd.DataFrame(\n",
    "    {\n",
    "        'features': X.columns.to_list(),\n",
    "        'rank': rfe.ranking_,\n",
    "        'selected': rfe.support_\n",
    "    }\n",
    ")"
   ]
  },
  {
   "cell_type": "code",
   "execution_count": 19,
   "id": "8014193b",
   "metadata": {},
   "outputs": [
    {
     "data": {
      "text/html": [
       "<div>\n",
       "<style scoped>\n",
       "    .dataframe tbody tr th:only-of-type {\n",
       "        vertical-align: middle;\n",
       "    }\n",
       "\n",
       "    .dataframe tbody tr th {\n",
       "        vertical-align: top;\n",
       "    }\n",
       "\n",
       "    .dataframe thead th {\n",
       "        text-align: right;\n",
       "    }\n",
       "</style>\n",
       "<table border=\"1\" class=\"dataframe\">\n",
       "  <thead>\n",
       "    <tr style=\"text-align: right;\">\n",
       "      <th></th>\n",
       "      <th>features</th>\n",
       "      <th>rank</th>\n",
       "      <th>selected</th>\n",
       "    </tr>\n",
       "  </thead>\n",
       "  <tbody>\n",
       "    <tr>\n",
       "      <th>0</th>\n",
       "      <td>Area</td>\n",
       "      <td>3</td>\n",
       "      <td>False</td>\n",
       "    </tr>\n",
       "    <tr>\n",
       "      <th>1</th>\n",
       "      <td>Perimeter</td>\n",
       "      <td>1</td>\n",
       "      <td>True</td>\n",
       "    </tr>\n",
       "    <tr>\n",
       "      <th>2</th>\n",
       "      <td>MajorAxisLength</td>\n",
       "      <td>1</td>\n",
       "      <td>True</td>\n",
       "    </tr>\n",
       "    <tr>\n",
       "      <th>3</th>\n",
       "      <td>MinorAxisLength</td>\n",
       "      <td>1</td>\n",
       "      <td>True</td>\n",
       "    </tr>\n",
       "    <tr>\n",
       "      <th>4</th>\n",
       "      <td>AspectRation</td>\n",
       "      <td>8</td>\n",
       "      <td>False</td>\n",
       "    </tr>\n",
       "    <tr>\n",
       "      <th>5</th>\n",
       "      <td>Eccentricity</td>\n",
       "      <td>7</td>\n",
       "      <td>False</td>\n",
       "    </tr>\n",
       "    <tr>\n",
       "      <th>6</th>\n",
       "      <td>ConvexArea</td>\n",
       "      <td>5</td>\n",
       "      <td>False</td>\n",
       "    </tr>\n",
       "    <tr>\n",
       "      <th>7</th>\n",
       "      <td>EquivDiameter</td>\n",
       "      <td>9</td>\n",
       "      <td>False</td>\n",
       "    </tr>\n",
       "    <tr>\n",
       "      <th>8</th>\n",
       "      <td>Extent</td>\n",
       "      <td>4</td>\n",
       "      <td>False</td>\n",
       "    </tr>\n",
       "    <tr>\n",
       "      <th>9</th>\n",
       "      <td>Solidity</td>\n",
       "      <td>2</td>\n",
       "      <td>False</td>\n",
       "    </tr>\n",
       "    <tr>\n",
       "      <th>10</th>\n",
       "      <td>roundness</td>\n",
       "      <td>1</td>\n",
       "      <td>True</td>\n",
       "    </tr>\n",
       "    <tr>\n",
       "      <th>11</th>\n",
       "      <td>Compactness</td>\n",
       "      <td>1</td>\n",
       "      <td>True</td>\n",
       "    </tr>\n",
       "    <tr>\n",
       "      <th>12</th>\n",
       "      <td>ShapeFactor1</td>\n",
       "      <td>1</td>\n",
       "      <td>True</td>\n",
       "    </tr>\n",
       "    <tr>\n",
       "      <th>13</th>\n",
       "      <td>ShapeFactor2</td>\n",
       "      <td>6</td>\n",
       "      <td>False</td>\n",
       "    </tr>\n",
       "    <tr>\n",
       "      <th>14</th>\n",
       "      <td>ShapeFactor3</td>\n",
       "      <td>1</td>\n",
       "      <td>True</td>\n",
       "    </tr>\n",
       "    <tr>\n",
       "      <th>15</th>\n",
       "      <td>ShapeFactor4</td>\n",
       "      <td>1</td>\n",
       "      <td>True</td>\n",
       "    </tr>\n",
       "  </tbody>\n",
       "</table>\n",
       "</div>"
      ],
      "text/plain": [
       "           features  rank  selected\n",
       "0              Area     3     False\n",
       "1         Perimeter     1      True\n",
       "2   MajorAxisLength     1      True\n",
       "3   MinorAxisLength     1      True\n",
       "4      AspectRation     8     False\n",
       "5      Eccentricity     7     False\n",
       "6        ConvexArea     5     False\n",
       "7     EquivDiameter     9     False\n",
       "8            Extent     4     False\n",
       "9          Solidity     2     False\n",
       "10        roundness     1      True\n",
       "11      Compactness     1      True\n",
       "12     ShapeFactor1     1      True\n",
       "13     ShapeFactor2     6     False\n",
       "14     ShapeFactor3     1      True\n",
       "15     ShapeFactor4     1      True"
      ]
     },
     "execution_count": 19,
     "metadata": {},
     "output_type": "execute_result"
    }
   ],
   "source": [
    "rfe_df"
   ]
  },
  {
   "cell_type": "markdown",
   "id": "b9b222ef",
   "metadata": {},
   "source": [
    "**Obvservation**\n",
    "\n",
    " - We can see that the ones which are marked as `True` are the features selected."
   ]
  },
  {
   "cell_type": "markdown",
   "id": "ec59b406",
   "metadata": {},
   "source": [
    "## Feature Selection using RandomForest\n",
    "\n",
    "Feature selection using Random forest comes under the category of Embedded methods. Embedded methods combine the qualities of filter and wrapper methods. They are implemented by algorithms that have their own built-in feature selection methods. Some of the benefits of embedded methods are :\n",
    "\n",
    "1. They are highly accurate.\n",
    "2. They generalize better.\n",
    "3. They are interpretable"
   ]
  },
  {
   "cell_type": "code",
   "execution_count": 20,
   "id": "f6047031",
   "metadata": {},
   "outputs": [],
   "source": [
    "X_train, X_test, y_train, y_test = train_test_split(X, y, test_size=0.3)"
   ]
  },
  {
   "cell_type": "code",
   "execution_count": 21,
   "id": "64fe432d",
   "metadata": {
    "scrolled": false
   },
   "outputs": [
    {
     "name": "stderr",
     "output_type": "stream",
     "text": [
      "[Parallel(n_jobs=-1)]: Using backend ThreadingBackend with 8 concurrent workers.\n",
      "[Parallel(n_jobs=-1)]: Done  34 tasks      | elapsed:    0.1s\n",
      "[Parallel(n_jobs=-1)]: Done 100 out of 100 | elapsed:    0.5s finished\n"
     ]
    },
    {
     "data": {
      "text/plain": [
       "SelectFromModel(estimator=RandomForestClassifier(n_jobs=-1, verbose=1))"
      ]
     },
     "execution_count": 21,
     "metadata": {},
     "output_type": "execute_result"
    }
   ],
   "source": [
    "selector = SelectFromModel(estimator=RandomForestClassifier(n_estimators=100, verbose=1, n_jobs=-1))\n",
    "selector.fit(X_train, y_train)"
   ]
  },
  {
   "cell_type": "code",
   "execution_count": 22,
   "id": "99cf6bff",
   "metadata": {},
   "outputs": [
    {
     "name": "stdout",
     "output_type": "stream",
     "text": [
      "Selected features are: ['Perimeter' 'MajorAxisLength' 'MinorAxisLength' 'ConvexArea'\n",
      " 'Compactness' 'ShapeFactor1' 'ShapeFactor3']\n"
     ]
    }
   ],
   "source": [
    "print(f\"Selected features are: {selector.get_feature_names_out()}\")"
   ]
  },
  {
   "cell_type": "markdown",
   "id": "5844a1a6",
   "metadata": {},
   "source": [
    "## Conclusion\n",
    "\n",
    "I now enlist all the methods used and the features selected"
   ]
  },
  {
   "cell_type": "code",
   "execution_count": 23,
   "id": "277c035f",
   "metadata": {},
   "outputs": [],
   "source": [
    "methods = [\n",
    "    'Variance Thresholding (threshold = 1)',\n",
    "    'ANOVA F-test',\n",
    "    'Recursive Feature Elimination (estimator = DecisionTreeClassifier)',\n",
    "    'Using RandomForest feature importance'\n",
    "]\n",
    "\n",
    "features = [\n",
    "    X_scaled_var_feats_df.columns.to_list(),\n",
    "    df.columns[anova_filter.get_support(indices=True)].to_list(),\n",
    "    rfe.get_feature_names_out().tolist(),\n",
    "    selector.get_feature_names_out().tolist()\n",
    "]"
   ]
  },
  {
   "cell_type": "code",
   "execution_count": 24,
   "id": "a3d05dc2",
   "metadata": {},
   "outputs": [],
   "source": [
    "table = PrettyTable(['Methods', 'Features Selected'])\n",
    "for m, f in zip(methods, features):\n",
    "    table.add_row([m, f])"
   ]
  },
  {
   "cell_type": "code",
   "execution_count": 25,
   "id": "b192246c",
   "metadata": {},
   "outputs": [
    {
     "data": {
      "text/html": [
       "<table>\n",
       "    <thead>\n",
       "        <tr>\n",
       "            <th>Methods</th>\n",
       "            <th>Features Selected</th>\n",
       "        </tr>\n",
       "    </thead>\n",
       "    <tbody>\n",
       "        <tr>\n",
       "            <td>Variance Thresholding (threshold = 1)</td>\n",
       "            <td>[&#x27;Area&#x27;, &#x27;Perimeter&#x27;, &#x27;MajorAxisLength&#x27;, &#x27;MinorAxisLength&#x27;, &#x27;AspectRation&#x27;, &#x27;Eccentricity&#x27;, &#x27;ConvexArea&#x27;, &#x27;EquivDiameter&#x27;, &#x27;Extent&#x27;, &#x27;roundness&#x27;, &#x27;Compactness&#x27;, &#x27;ShapeFactor1&#x27;, &#x27;ShapeFactor2&#x27;, &#x27;ShapeFactor3&#x27;]</td>\n",
       "        </tr>\n",
       "        <tr>\n",
       "            <td>ANOVA F-test</td>\n",
       "            <td>[&#x27;Area&#x27;, &#x27;Perimeter&#x27;, &#x27;MajorAxisLength&#x27;, &#x27;AspectRation&#x27;, &#x27;ConvexArea&#x27;, &#x27;EquivDiameter&#x27;, &#x27;Compactness&#x27;, &#x27;ShapeFactor2&#x27;]</td>\n",
       "        </tr>\n",
       "        <tr>\n",
       "            <td>Recursive Feature Elimination (estimator = DecisionTreeClassifier)</td>\n",
       "            <td>[&#x27;Perimeter&#x27;, &#x27;MajorAxisLength&#x27;, &#x27;MinorAxisLength&#x27;, &#x27;roundness&#x27;, &#x27;Compactness&#x27;, &#x27;ShapeFactor1&#x27;, &#x27;ShapeFactor3&#x27;, &#x27;ShapeFactor4&#x27;]</td>\n",
       "        </tr>\n",
       "        <tr>\n",
       "            <td>Using RandomForest feature importance</td>\n",
       "            <td>[&#x27;Perimeter&#x27;, &#x27;MajorAxisLength&#x27;, &#x27;MinorAxisLength&#x27;, &#x27;ConvexArea&#x27;, &#x27;Compactness&#x27;, &#x27;ShapeFactor1&#x27;, &#x27;ShapeFactor3&#x27;]</td>\n",
       "        </tr>\n",
       "    </tbody>\n",
       "</table>"
      ],
      "text/plain": [
       "+--------------------------------------------------------------------+------------------------------------------------------------------------------------------------------------------------------------------------------------------------------------------------------------------+\n",
       "|                              Methods                               |                                                                                                Features Selected                                                                                                 |\n",
       "+--------------------------------------------------------------------+------------------------------------------------------------------------------------------------------------------------------------------------------------------------------------------------------------------+\n",
       "|               Variance Thresholding (threshold = 1)                | ['Area', 'Perimeter', 'MajorAxisLength', 'MinorAxisLength', 'AspectRation', 'Eccentricity', 'ConvexArea', 'EquivDiameter', 'Extent', 'roundness', 'Compactness', 'ShapeFactor1', 'ShapeFactor2', 'ShapeFactor3'] |\n",
       "|                            ANOVA F-test                            |                                              ['Area', 'Perimeter', 'MajorAxisLength', 'AspectRation', 'ConvexArea', 'EquivDiameter', 'Compactness', 'ShapeFactor2']                                              |\n",
       "| Recursive Feature Elimination (estimator = DecisionTreeClassifier) |                                         ['Perimeter', 'MajorAxisLength', 'MinorAxisLength', 'roundness', 'Compactness', 'ShapeFactor1', 'ShapeFactor3', 'ShapeFactor4']                                          |\n",
       "|               Using RandomForest feature importance                |                                                 ['Perimeter', 'MajorAxisLength', 'MinorAxisLength', 'ConvexArea', 'Compactness', 'ShapeFactor1', 'ShapeFactor3']                                                 |\n",
       "+--------------------------------------------------------------------+------------------------------------------------------------------------------------------------------------------------------------------------------------------------------------------------------------------+"
      ]
     },
     "execution_count": 25,
     "metadata": {},
     "output_type": "execute_result"
    }
   ],
   "source": [
    "table"
   ]
  },
  {
   "cell_type": "markdown",
   "id": "552853b1",
   "metadata": {},
   "source": [
    "# Modelling"
   ]
  },
  {
   "cell_type": "markdown",
   "id": "6cc26ac3",
   "metadata": {},
   "source": [
    "Let's start with features selected using the ANOVA F-test\n",
    "\n",
    "Our metric of choice is going to be `Weighted F1-score`. \n",
    "Here's a very good explanation for it: [link](https://stats.stackexchange.com/questions/463224/which-performance-metrics-for-highly-imbalanced-multiclass-dataset) "
   ]
  },
  {
   "cell_type": "code",
   "execution_count": 75,
   "id": "7b12d770",
   "metadata": {},
   "outputs": [],
   "source": [
    "def plot_cf(cf):\n",
    "    classes = df.Class.astype(\"category\").cat.categories.tolist()\n",
    "    _ = sns.heatmap(cf, annot=True, xticklabels=classes, yticklabels=classes, fmt=\"d\", cmap=\"viridis_r\")"
   ]
  },
  {
   "cell_type": "code",
   "execution_count": 26,
   "id": "6472d1fd",
   "metadata": {},
   "outputs": [],
   "source": [
    "feats = anova_filter.get_feature_names_out().tolist()"
   ]
  },
  {
   "cell_type": "code",
   "execution_count": 27,
   "id": "7331561c",
   "metadata": {},
   "outputs": [
    {
     "data": {
      "text/html": [
       "<div>\n",
       "<style scoped>\n",
       "    .dataframe tbody tr th:only-of-type {\n",
       "        vertical-align: middle;\n",
       "    }\n",
       "\n",
       "    .dataframe tbody tr th {\n",
       "        vertical-align: top;\n",
       "    }\n",
       "\n",
       "    .dataframe thead th {\n",
       "        text-align: right;\n",
       "    }\n",
       "</style>\n",
       "<table border=\"1\" class=\"dataframe\">\n",
       "  <thead>\n",
       "    <tr style=\"text-align: right;\">\n",
       "      <th></th>\n",
       "      <th>Area</th>\n",
       "      <th>Perimeter</th>\n",
       "      <th>MajorAxisLength</th>\n",
       "      <th>AspectRation</th>\n",
       "      <th>ConvexArea</th>\n",
       "      <th>EquivDiameter</th>\n",
       "      <th>Compactness</th>\n",
       "      <th>ShapeFactor2</th>\n",
       "    </tr>\n",
       "  </thead>\n",
       "  <tbody>\n",
       "    <tr>\n",
       "      <th>0</th>\n",
       "      <td>35280</td>\n",
       "      <td>717.703</td>\n",
       "      <td>264.995250</td>\n",
       "      <td>1.558472</td>\n",
       "      <td>35772</td>\n",
       "      <td>211.943132</td>\n",
       "      <td>0.799800</td>\n",
       "      <td>0.001896</td>\n",
       "    </tr>\n",
       "    <tr>\n",
       "      <th>1</th>\n",
       "      <td>83296</td>\n",
       "      <td>1142.638</td>\n",
       "      <td>446.765889</td>\n",
       "      <td>1.869209</td>\n",
       "      <td>84270</td>\n",
       "      <td>325.662035</td>\n",
       "      <td>0.728932</td>\n",
       "      <td>0.000934</td>\n",
       "    </tr>\n",
       "    <tr>\n",
       "      <th>2</th>\n",
       "      <td>35594</td>\n",
       "      <td>689.634</td>\n",
       "      <td>254.572928</td>\n",
       "      <td>1.426644</td>\n",
       "      <td>35966</td>\n",
       "      <td>212.884213</td>\n",
       "      <td>0.836241</td>\n",
       "      <td>0.002157</td>\n",
       "    </tr>\n",
       "    <tr>\n",
       "      <th>3</th>\n",
       "      <td>52710</td>\n",
       "      <td>872.700</td>\n",
       "      <td>326.039383</td>\n",
       "      <td>1.572036</td>\n",
       "      <td>53280</td>\n",
       "      <td>259.060720</td>\n",
       "      <td>0.794569</td>\n",
       "      <td>0.001521</td>\n",
       "    </tr>\n",
       "    <tr>\n",
       "      <th>4</th>\n",
       "      <td>62855</td>\n",
       "      <td>1004.759</td>\n",
       "      <td>413.879306</td>\n",
       "      <td>2.130112</td>\n",
       "      <td>63781</td>\n",
       "      <td>282.894807</td>\n",
       "      <td>0.683520</td>\n",
       "      <td>0.000887</td>\n",
       "    </tr>\n",
       "    <tr>\n",
       "      <th>5</th>\n",
       "      <td>36112</td>\n",
       "      <td>723.077</td>\n",
       "      <td>225.328776</td>\n",
       "      <td>1.100957</td>\n",
       "      <td>36709</td>\n",
       "      <td>214.427672</td>\n",
       "      <td>0.951621</td>\n",
       "      <td>0.003156</td>\n",
       "    </tr>\n",
       "    <tr>\n",
       "      <th>6</th>\n",
       "      <td>59442</td>\n",
       "      <td>975.979</td>\n",
       "      <td>402.887444</td>\n",
       "      <td>2.118794</td>\n",
       "      <td>60289</td>\n",
       "      <td>275.107079</td>\n",
       "      <td>0.682839</td>\n",
       "      <td>0.000909</td>\n",
       "    </tr>\n",
       "    <tr>\n",
       "      <th>7</th>\n",
       "      <td>58931</td>\n",
       "      <td>957.164</td>\n",
       "      <td>388.354344</td>\n",
       "      <td>2.001383</td>\n",
       "      <td>59526</td>\n",
       "      <td>273.922032</td>\n",
       "      <td>0.705340</td>\n",
       "      <td>0.001006</td>\n",
       "    </tr>\n",
       "    <tr>\n",
       "      <th>8</th>\n",
       "      <td>34010</td>\n",
       "      <td>681.989</td>\n",
       "      <td>257.829640</td>\n",
       "      <td>1.528818</td>\n",
       "      <td>34410</td>\n",
       "      <td>208.093433</td>\n",
       "      <td>0.807097</td>\n",
       "      <td>0.001984</td>\n",
       "    </tr>\n",
       "    <tr>\n",
       "      <th>9</th>\n",
       "      <td>27280</td>\n",
       "      <td>603.203</td>\n",
       "      <td>223.021086</td>\n",
       "      <td>1.428199</td>\n",
       "      <td>27550</td>\n",
       "      <td>186.370531</td>\n",
       "      <td>0.835663</td>\n",
       "      <td>0.002459</td>\n",
       "    </tr>\n",
       "  </tbody>\n",
       "</table>\n",
       "</div>"
      ],
      "text/plain": [
       "    Area  Perimeter  MajorAxisLength  AspectRation  ConvexArea  EquivDiameter  \\\n",
       "0  35280    717.703       264.995250      1.558472       35772     211.943132   \n",
       "1  83296   1142.638       446.765889      1.869209       84270     325.662035   \n",
       "2  35594    689.634       254.572928      1.426644       35966     212.884213   \n",
       "3  52710    872.700       326.039383      1.572036       53280     259.060720   \n",
       "4  62855   1004.759       413.879306      2.130112       63781     282.894807   \n",
       "5  36112    723.077       225.328776      1.100957       36709     214.427672   \n",
       "6  59442    975.979       402.887444      2.118794       60289     275.107079   \n",
       "7  58931    957.164       388.354344      2.001383       59526     273.922032   \n",
       "8  34010    681.989       257.829640      1.528818       34410     208.093433   \n",
       "9  27280    603.203       223.021086      1.428199       27550     186.370531   \n",
       "\n",
       "   Compactness  ShapeFactor2  \n",
       "0     0.799800      0.001896  \n",
       "1     0.728932      0.000934  \n",
       "2     0.836241      0.002157  \n",
       "3     0.794569      0.001521  \n",
       "4     0.683520      0.000887  \n",
       "5     0.951621      0.003156  \n",
       "6     0.682839      0.000909  \n",
       "7     0.705340      0.001006  \n",
       "8     0.807097      0.001984  \n",
       "9     0.835663      0.002459  "
      ]
     },
     "execution_count": 27,
     "metadata": {},
     "output_type": "execute_result"
    }
   ],
   "source": [
    "X[feats].head(10)"
   ]
  },
  {
   "cell_type": "code",
   "execution_count": 62,
   "id": "40578a4e",
   "metadata": {},
   "outputs": [],
   "source": [
    "anova = pd.concat([X[feats], y], axis=1)"
   ]
  },
  {
   "cell_type": "code",
   "execution_count": 69,
   "id": "ff7f9ffd",
   "metadata": {},
   "outputs": [],
   "source": [
    "anova.rename(columns={anova.columns[-1]: 'labels'}, inplace=True)"
   ]
  },
  {
   "cell_type": "code",
   "execution_count": 70,
   "id": "7ad53c37",
   "metadata": {},
   "outputs": [],
   "source": [
    "# anova.to_csv('./selected_features/Anova.csv', index=False)"
   ]
  },
  {
   "cell_type": "code",
   "execution_count": 28,
   "id": "8f2330b9",
   "metadata": {},
   "outputs": [],
   "source": [
    "X_ = X[feats]\n",
    "y_ = y"
   ]
  },
  {
   "cell_type": "code",
   "execution_count": 29,
   "id": "75aa0cf5",
   "metadata": {},
   "outputs": [],
   "source": [
    "def cross_validate(X, y, model):\n",
    "    kfold = KFold(n_splits=10)\n",
    "    idx = 1\n",
    "    for train_index, test_index in kfold.split(X=X, y=y):\n",
    "        X_train_ , X_test_ = X.iloc[train_index,:],X.iloc[test_index,:]\n",
    "        y_train_ , y_test_ = y[train_index] , y[test_index]\n",
    "        \n",
    "        model.fit(X_train_, y_train_)\n",
    "        y_pred_ = model.predict(X_test_)\n",
    "            \n",
    "        print(\n",
    "            f\"[FOLD {idx}] \" \n",
    "            f\"Weighted F1-score: {round(metrics.f1_score(y_pred_, y_test_, average='weighted'), 3)} \"\n",
    "        )\n",
    "        \n",
    "        idx += 1"
   ]
  },
  {
   "cell_type": "markdown",
   "id": "2d1659a3",
   "metadata": {},
   "source": [
    "## Decision tree modelling"
   ]
  },
  {
   "cell_type": "code",
   "execution_count": 30,
   "id": "e221af21",
   "metadata": {},
   "outputs": [
    {
     "name": "stdout",
     "output_type": "stream",
     "text": [
      "Prediction from the baseline model, F1-score: 0.8752931788513145\n"
     ]
    }
   ],
   "source": [
    "X_train_, X_test_, y_train_, y_test_ = train_test_split(X_, y_, test_size=0.3)\n",
    "\n",
    "dt = DecisionTreeClassifier()\n",
    "dt.fit(X_train_, y_train_)\n",
    "\n",
    "preds = dt.predict(X_test_)\n",
    "print(f\"Prediction from the baseline model, F1-score: {metrics.f1_score(preds, y_test_, average='weighted')}\")"
   ]
  },
  {
   "cell_type": "markdown",
   "id": "df810af0",
   "metadata": {},
   "source": [
    "### Hyperparameter tuning the decision tree\n",
    "\n",
    "A very good guide to tuning the decision tree and it's various parameters I refered to is: [How to tune a Decision Tree ?](https://towardsdatascience.com/how-to-tune-a-decision-tree-f03721801680)"
   ]
  },
  {
   "cell_type": "code",
   "execution_count": 31,
   "id": "0df8f39f",
   "metadata": {},
   "outputs": [],
   "source": [
    "params_dt = {\n",
    "    'max_depth': [2, 3, 5, 10, 20],\n",
    "    'min_samples_leaf': [5, 10, 20, 50, 100],\n",
    "    'max_features': ['sqrt', 'auto', 'log2'],\n",
    "    'criterion': [\"gini\", \"entropy\"],\n",
    "    'splitter': ['best', 'random']\n",
    "}"
   ]
  },
  {
   "cell_type": "code",
   "execution_count": 32,
   "id": "50c57607",
   "metadata": {},
   "outputs": [],
   "source": [
    "scorer = metrics.make_scorer(\n",
    "    metrics.f1_score, average='weighted'\n",
    ")\n",
    "\n",
    "hf_gs_cv_dt = HalvingGridSearchCV(\n",
    "    estimator=DecisionTreeClassifier(), n_jobs=-1,\n",
    "    param_grid=params_dt, scoring=scorer, cv=10, verbose=10, \n",
    ")"
   ]
  },
  {
   "cell_type": "code",
   "execution_count": 34,
   "id": "f07ff625",
   "metadata": {},
   "outputs": [
    {
     "name": "stdout",
     "output_type": "stream",
     "text": [
      "n_iterations: 4\n",
      "n_required_iterations: 6\n",
      "n_possible_iterations: 4\n",
      "min_resources_: 140\n",
      "max_resources_: 9177\n",
      "aggressive_elimination: False\n",
      "factor: 3\n",
      "----------\n",
      "iter: 0\n",
      "n_candidates: 300\n",
      "n_resources: 140\n",
      "Fitting 10 folds for each of 300 candidates, totalling 3000 fits\n",
      "----------\n",
      "iter: 1\n",
      "n_candidates: 100\n",
      "n_resources: 420\n",
      "Fitting 10 folds for each of 100 candidates, totalling 1000 fits\n",
      "----------\n",
      "iter: 2\n",
      "n_candidates: 34\n",
      "n_resources: 1260\n",
      "Fitting 10 folds for each of 34 candidates, totalling 340 fits\n",
      "----------\n",
      "iter: 3\n",
      "n_candidates: 12\n",
      "n_resources: 3780\n",
      "Fitting 10 folds for each of 12 candidates, totalling 120 fits\n",
      "Wall time: 9.14 s\n"
     ]
    },
    {
     "data": {
      "text/plain": [
       "HalvingGridSearchCV(cv=10, estimator=DecisionTreeClassifier(), n_jobs=-1,\n",
       "                    param_grid={'criterion': ['gini', 'entropy'],\n",
       "                                'max_depth': [2, 3, 5, 10, 20],\n",
       "                                'max_features': ['sqrt', 'auto', 'log2'],\n",
       "                                'min_samples_leaf': [5, 10, 20, 50, 100],\n",
       "                                'splitter': ['best', 'random']},\n",
       "                    scoring=make_scorer(f1_score, average=weighted),\n",
       "                    verbose=10)"
      ]
     },
     "execution_count": 34,
     "metadata": {},
     "output_type": "execute_result"
    }
   ],
   "source": [
    "%%time\n",
    "hf_gs_cv_dt.fit(X_train_, y_train_)"
   ]
  },
  {
   "cell_type": "code",
   "execution_count": 35,
   "id": "ea593ffc",
   "metadata": {},
   "outputs": [
    {
     "data": {
      "text/plain": [
       "{'criterion': 'entropy',\n",
       " 'max_depth': 10,\n",
       " 'max_features': 'log2',\n",
       " 'min_samples_leaf': 5,\n",
       " 'splitter': 'best'}"
      ]
     },
     "execution_count": 35,
     "metadata": {},
     "output_type": "execute_result"
    }
   ],
   "source": [
    "hf_gs_cv_dt.best_params_"
   ]
  },
  {
   "cell_type": "code",
   "execution_count": 36,
   "id": "f494edae",
   "metadata": {},
   "outputs": [
    {
     "data": {
      "text/html": [
       "<div>\n",
       "<style scoped>\n",
       "    .dataframe tbody tr th:only-of-type {\n",
       "        vertical-align: middle;\n",
       "    }\n",
       "\n",
       "    .dataframe tbody tr th {\n",
       "        vertical-align: top;\n",
       "    }\n",
       "\n",
       "    .dataframe thead th {\n",
       "        text-align: right;\n",
       "    }\n",
       "</style>\n",
       "<table border=\"1\" class=\"dataframe\">\n",
       "  <thead>\n",
       "    <tr style=\"text-align: right;\">\n",
       "      <th></th>\n",
       "      <th>iter</th>\n",
       "      <th>n_resources</th>\n",
       "      <th>mean_fit_time</th>\n",
       "      <th>std_fit_time</th>\n",
       "      <th>mean_score_time</th>\n",
       "      <th>std_score_time</th>\n",
       "      <th>param_criterion</th>\n",
       "      <th>param_max_depth</th>\n",
       "      <th>param_max_features</th>\n",
       "      <th>param_min_samples_leaf</th>\n",
       "      <th>...</th>\n",
       "      <th>split2_train_score</th>\n",
       "      <th>split3_train_score</th>\n",
       "      <th>split4_train_score</th>\n",
       "      <th>split5_train_score</th>\n",
       "      <th>split6_train_score</th>\n",
       "      <th>split7_train_score</th>\n",
       "      <th>split8_train_score</th>\n",
       "      <th>split9_train_score</th>\n",
       "      <th>mean_train_score</th>\n",
       "      <th>std_train_score</th>\n",
       "    </tr>\n",
       "  </thead>\n",
       "  <tbody>\n",
       "    <tr>\n",
       "      <th>0</th>\n",
       "      <td>0</td>\n",
       "      <td>140</td>\n",
       "      <td>0.003553</td>\n",
       "      <td>0.000654</td>\n",
       "      <td>0.003801</td>\n",
       "      <td>0.001167</td>\n",
       "      <td>gini</td>\n",
       "      <td>2</td>\n",
       "      <td>sqrt</td>\n",
       "      <td>5</td>\n",
       "      <td>...</td>\n",
       "      <td>0.546654</td>\n",
       "      <td>0.518397</td>\n",
       "      <td>0.668809</td>\n",
       "      <td>0.489652</td>\n",
       "      <td>0.613769</td>\n",
       "      <td>0.515568</td>\n",
       "      <td>0.580307</td>\n",
       "      <td>0.581991</td>\n",
       "      <td>0.568230</td>\n",
       "      <td>0.052120</td>\n",
       "    </tr>\n",
       "    <tr>\n",
       "      <th>1</th>\n",
       "      <td>0</td>\n",
       "      <td>140</td>\n",
       "      <td>0.004199</td>\n",
       "      <td>0.001470</td>\n",
       "      <td>0.003801</td>\n",
       "      <td>0.000600</td>\n",
       "      <td>gini</td>\n",
       "      <td>2</td>\n",
       "      <td>sqrt</td>\n",
       "      <td>5</td>\n",
       "      <td>...</td>\n",
       "      <td>0.394000</td>\n",
       "      <td>0.523475</td>\n",
       "      <td>0.436813</td>\n",
       "      <td>0.345508</td>\n",
       "      <td>0.456166</td>\n",
       "      <td>0.346716</td>\n",
       "      <td>0.300636</td>\n",
       "      <td>0.601299</td>\n",
       "      <td>0.406380</td>\n",
       "      <td>0.094296</td>\n",
       "    </tr>\n",
       "    <tr>\n",
       "      <th>2</th>\n",
       "      <td>0</td>\n",
       "      <td>140</td>\n",
       "      <td>0.004900</td>\n",
       "      <td>0.003805</td>\n",
       "      <td>0.003300</td>\n",
       "      <td>0.000457</td>\n",
       "      <td>gini</td>\n",
       "      <td>2</td>\n",
       "      <td>sqrt</td>\n",
       "      <td>10</td>\n",
       "      <td>...</td>\n",
       "      <td>0.407434</td>\n",
       "      <td>0.527978</td>\n",
       "      <td>0.682341</td>\n",
       "      <td>0.422399</td>\n",
       "      <td>0.460875</td>\n",
       "      <td>0.692151</td>\n",
       "      <td>0.490465</td>\n",
       "      <td>0.553256</td>\n",
       "      <td>0.537019</td>\n",
       "      <td>0.103310</td>\n",
       "    </tr>\n",
       "    <tr>\n",
       "      <th>3</th>\n",
       "      <td>0</td>\n",
       "      <td>140</td>\n",
       "      <td>0.003301</td>\n",
       "      <td>0.000640</td>\n",
       "      <td>0.003100</td>\n",
       "      <td>0.000539</td>\n",
       "      <td>gini</td>\n",
       "      <td>2</td>\n",
       "      <td>sqrt</td>\n",
       "      <td>10</td>\n",
       "      <td>...</td>\n",
       "      <td>0.445844</td>\n",
       "      <td>0.520801</td>\n",
       "      <td>0.344661</td>\n",
       "      <td>0.263836</td>\n",
       "      <td>0.395119</td>\n",
       "      <td>0.424009</td>\n",
       "      <td>0.390370</td>\n",
       "      <td>0.166667</td>\n",
       "      <td>0.344682</td>\n",
       "      <td>0.118562</td>\n",
       "    </tr>\n",
       "    <tr>\n",
       "      <th>4</th>\n",
       "      <td>0</td>\n",
       "      <td>140</td>\n",
       "      <td>0.003501</td>\n",
       "      <td>0.000671</td>\n",
       "      <td>0.003200</td>\n",
       "      <td>0.000400</td>\n",
       "      <td>gini</td>\n",
       "      <td>2</td>\n",
       "      <td>sqrt</td>\n",
       "      <td>20</td>\n",
       "      <td>...</td>\n",
       "      <td>0.583193</td>\n",
       "      <td>0.742487</td>\n",
       "      <td>0.487347</td>\n",
       "      <td>0.633832</td>\n",
       "      <td>0.537617</td>\n",
       "      <td>0.498577</td>\n",
       "      <td>0.490465</td>\n",
       "      <td>0.511854</td>\n",
       "      <td>0.543819</td>\n",
       "      <td>0.082293</td>\n",
       "    </tr>\n",
       "  </tbody>\n",
       "</table>\n",
       "<p>5 rows × 37 columns</p>\n",
       "</div>"
      ],
      "text/plain": [
       "   iter  n_resources  mean_fit_time  std_fit_time  mean_score_time  \\\n",
       "0     0          140       0.003553      0.000654         0.003801   \n",
       "1     0          140       0.004199      0.001470         0.003801   \n",
       "2     0          140       0.004900      0.003805         0.003300   \n",
       "3     0          140       0.003301      0.000640         0.003100   \n",
       "4     0          140       0.003501      0.000671         0.003200   \n",
       "\n",
       "   std_score_time param_criterion param_max_depth param_max_features  \\\n",
       "0        0.001167            gini               2               sqrt   \n",
       "1        0.000600            gini               2               sqrt   \n",
       "2        0.000457            gini               2               sqrt   \n",
       "3        0.000539            gini               2               sqrt   \n",
       "4        0.000400            gini               2               sqrt   \n",
       "\n",
       "  param_min_samples_leaf  ... split2_train_score split3_train_score  \\\n",
       "0                      5  ...           0.546654           0.518397   \n",
       "1                      5  ...           0.394000           0.523475   \n",
       "2                     10  ...           0.407434           0.527978   \n",
       "3                     10  ...           0.445844           0.520801   \n",
       "4                     20  ...           0.583193           0.742487   \n",
       "\n",
       "   split4_train_score  split5_train_score  split6_train_score  \\\n",
       "0            0.668809            0.489652            0.613769   \n",
       "1            0.436813            0.345508            0.456166   \n",
       "2            0.682341            0.422399            0.460875   \n",
       "3            0.344661            0.263836            0.395119   \n",
       "4            0.487347            0.633832            0.537617   \n",
       "\n",
       "   split7_train_score  split8_train_score  split9_train_score  \\\n",
       "0            0.515568            0.580307            0.581991   \n",
       "1            0.346716            0.300636            0.601299   \n",
       "2            0.692151            0.490465            0.553256   \n",
       "3            0.424009            0.390370            0.166667   \n",
       "4            0.498577            0.490465            0.511854   \n",
       "\n",
       "   mean_train_score  std_train_score  \n",
       "0          0.568230         0.052120  \n",
       "1          0.406380         0.094296  \n",
       "2          0.537019         0.103310  \n",
       "3          0.344682         0.118562  \n",
       "4          0.543819         0.082293  \n",
       "\n",
       "[5 rows x 37 columns]"
      ]
     },
     "execution_count": 36,
     "metadata": {},
     "output_type": "execute_result"
    }
   ],
   "source": [
    "hf_gs_cv_dt_df = pd.DataFrame(hf_gs_cv_dt.cv_results_)\n",
    "hf_gs_cv_dt_df.head()"
   ]
  },
  {
   "cell_type": "code",
   "execution_count": 37,
   "id": "1f7d669b",
   "metadata": {},
   "outputs": [
    {
     "data": {
      "text/html": [
       "<div>\n",
       "<style scoped>\n",
       "    .dataframe tbody tr th:only-of-type {\n",
       "        vertical-align: middle;\n",
       "    }\n",
       "\n",
       "    .dataframe tbody tr th {\n",
       "        vertical-align: top;\n",
       "    }\n",
       "\n",
       "    .dataframe thead th {\n",
       "        text-align: right;\n",
       "    }\n",
       "</style>\n",
       "<table border=\"1\" class=\"dataframe\">\n",
       "  <thead>\n",
       "    <tr style=\"text-align: right;\">\n",
       "      <th></th>\n",
       "      <th>iter</th>\n",
       "      <th>n_resources</th>\n",
       "      <th>mean_fit_time</th>\n",
       "      <th>std_fit_time</th>\n",
       "      <th>mean_score_time</th>\n",
       "      <th>std_score_time</th>\n",
       "      <th>param_criterion</th>\n",
       "      <th>param_max_depth</th>\n",
       "      <th>param_max_features</th>\n",
       "      <th>param_min_samples_leaf</th>\n",
       "      <th>...</th>\n",
       "      <th>split2_train_score</th>\n",
       "      <th>split3_train_score</th>\n",
       "      <th>split4_train_score</th>\n",
       "      <th>split5_train_score</th>\n",
       "      <th>split6_train_score</th>\n",
       "      <th>split7_train_score</th>\n",
       "      <th>split8_train_score</th>\n",
       "      <th>split9_train_score</th>\n",
       "      <th>mean_train_score</th>\n",
       "      <th>std_train_score</th>\n",
       "    </tr>\n",
       "  </thead>\n",
       "  <tbody>\n",
       "    <tr>\n",
       "      <th>439</th>\n",
       "      <td>3</td>\n",
       "      <td>3780</td>\n",
       "      <td>0.029001</td>\n",
       "      <td>0.003006</td>\n",
       "      <td>0.0031</td>\n",
       "      <td>0.000301</td>\n",
       "      <td>entropy</td>\n",
       "      <td>10</td>\n",
       "      <td>log2</td>\n",
       "      <td>5</td>\n",
       "      <td>...</td>\n",
       "      <td>0.933640</td>\n",
       "      <td>0.932294</td>\n",
       "      <td>0.924811</td>\n",
       "      <td>0.918196</td>\n",
       "      <td>0.920690</td>\n",
       "      <td>0.912110</td>\n",
       "      <td>0.917584</td>\n",
       "      <td>0.920323</td>\n",
       "      <td>0.923591</td>\n",
       "      <td>0.006813</td>\n",
       "    </tr>\n",
       "    <tr>\n",
       "      <th>437</th>\n",
       "      <td>3</td>\n",
       "      <td>3780</td>\n",
       "      <td>0.014499</td>\n",
       "      <td>0.001025</td>\n",
       "      <td>0.0037</td>\n",
       "      <td>0.001487</td>\n",
       "      <td>gini</td>\n",
       "      <td>10</td>\n",
       "      <td>log2</td>\n",
       "      <td>5</td>\n",
       "      <td>...</td>\n",
       "      <td>0.918968</td>\n",
       "      <td>0.915394</td>\n",
       "      <td>0.915961</td>\n",
       "      <td>0.926768</td>\n",
       "      <td>0.920363</td>\n",
       "      <td>0.917944</td>\n",
       "      <td>0.923957</td>\n",
       "      <td>0.925481</td>\n",
       "      <td>0.919858</td>\n",
       "      <td>0.004416</td>\n",
       "    </tr>\n",
       "    <tr>\n",
       "      <th>422</th>\n",
       "      <td>2</td>\n",
       "      <td>1260</td>\n",
       "      <td>0.006299</td>\n",
       "      <td>0.000641</td>\n",
       "      <td>0.0029</td>\n",
       "      <td>0.000539</td>\n",
       "      <td>gini</td>\n",
       "      <td>20</td>\n",
       "      <td>log2</td>\n",
       "      <td>5</td>\n",
       "      <td>...</td>\n",
       "      <td>0.921873</td>\n",
       "      <td>0.925950</td>\n",
       "      <td>0.917111</td>\n",
       "      <td>0.934911</td>\n",
       "      <td>0.919555</td>\n",
       "      <td>0.924250</td>\n",
       "      <td>0.922334</td>\n",
       "      <td>0.926750</td>\n",
       "      <td>0.924553</td>\n",
       "      <td>0.004933</td>\n",
       "    </tr>\n",
       "    <tr>\n",
       "      <th>443</th>\n",
       "      <td>3</td>\n",
       "      <td>3780</td>\n",
       "      <td>0.021899</td>\n",
       "      <td>0.001376</td>\n",
       "      <td>0.0030</td>\n",
       "      <td>0.000774</td>\n",
       "      <td>entropy</td>\n",
       "      <td>20</td>\n",
       "      <td>sqrt</td>\n",
       "      <td>5</td>\n",
       "      <td>...</td>\n",
       "      <td>0.934757</td>\n",
       "      <td>0.933998</td>\n",
       "      <td>0.931156</td>\n",
       "      <td>0.930058</td>\n",
       "      <td>0.926677</td>\n",
       "      <td>0.924585</td>\n",
       "      <td>0.930666</td>\n",
       "      <td>0.927944</td>\n",
       "      <td>0.929980</td>\n",
       "      <td>0.002967</td>\n",
       "    </tr>\n",
       "    <tr>\n",
       "      <th>442</th>\n",
       "      <td>3</td>\n",
       "      <td>3780</td>\n",
       "      <td>0.012001</td>\n",
       "      <td>0.001485</td>\n",
       "      <td>0.0030</td>\n",
       "      <td>0.000004</td>\n",
       "      <td>gini</td>\n",
       "      <td>10</td>\n",
       "      <td>sqrt</td>\n",
       "      <td>5</td>\n",
       "      <td>...</td>\n",
       "      <td>0.923349</td>\n",
       "      <td>0.916846</td>\n",
       "      <td>0.917335</td>\n",
       "      <td>0.913921</td>\n",
       "      <td>0.917590</td>\n",
       "      <td>0.911338</td>\n",
       "      <td>0.921140</td>\n",
       "      <td>0.923916</td>\n",
       "      <td>0.918377</td>\n",
       "      <td>0.004521</td>\n",
       "    </tr>\n",
       "  </tbody>\n",
       "</table>\n",
       "<p>5 rows × 37 columns</p>\n",
       "</div>"
      ],
      "text/plain": [
       "     iter  n_resources  mean_fit_time  std_fit_time  mean_score_time  \\\n",
       "439     3         3780       0.029001      0.003006           0.0031   \n",
       "437     3         3780       0.014499      0.001025           0.0037   \n",
       "422     2         1260       0.006299      0.000641           0.0029   \n",
       "443     3         3780       0.021899      0.001376           0.0030   \n",
       "442     3         3780       0.012001      0.001485           0.0030   \n",
       "\n",
       "     std_score_time param_criterion param_max_depth param_max_features  \\\n",
       "439        0.000301         entropy              10               log2   \n",
       "437        0.001487            gini              10               log2   \n",
       "422        0.000539            gini              20               log2   \n",
       "443        0.000774         entropy              20               sqrt   \n",
       "442        0.000004            gini              10               sqrt   \n",
       "\n",
       "    param_min_samples_leaf  ... split2_train_score split3_train_score  \\\n",
       "439                      5  ...           0.933640           0.932294   \n",
       "437                      5  ...           0.918968           0.915394   \n",
       "422                      5  ...           0.921873           0.925950   \n",
       "443                      5  ...           0.934757           0.933998   \n",
       "442                      5  ...           0.923349           0.916846   \n",
       "\n",
       "     split4_train_score  split5_train_score  split6_train_score  \\\n",
       "439            0.924811            0.918196            0.920690   \n",
       "437            0.915961            0.926768            0.920363   \n",
       "422            0.917111            0.934911            0.919555   \n",
       "443            0.931156            0.930058            0.926677   \n",
       "442            0.917335            0.913921            0.917590   \n",
       "\n",
       "     split7_train_score  split8_train_score  split9_train_score  \\\n",
       "439            0.912110            0.917584            0.920323   \n",
       "437            0.917944            0.923957            0.925481   \n",
       "422            0.924250            0.922334            0.926750   \n",
       "443            0.924585            0.930666            0.927944   \n",
       "442            0.911338            0.921140            0.923916   \n",
       "\n",
       "     mean_train_score  std_train_score  \n",
       "439          0.923591         0.006813  \n",
       "437          0.919858         0.004416  \n",
       "422          0.924553         0.004933  \n",
       "443          0.929980         0.002967  \n",
       "442          0.918377         0.004521  \n",
       "\n",
       "[5 rows x 37 columns]"
      ]
     },
     "execution_count": 37,
     "metadata": {},
     "output_type": "execute_result"
    }
   ],
   "source": [
    "hf_gs_cv_dt_df.nlargest(5, columns=['mean_test_score'])"
   ]
  },
  {
   "cell_type": "code",
   "execution_count": 38,
   "id": "234f3199",
   "metadata": {},
   "outputs": [],
   "source": [
    "best_model = hf_gs_cv_dt.best_estimator_"
   ]
  },
  {
   "cell_type": "markdown",
   "id": "072093bb",
   "metadata": {},
   "source": [
    "Fitting the best estimator after tuning"
   ]
  },
  {
   "cell_type": "code",
   "execution_count": 39,
   "id": "e0b9caf2",
   "metadata": {},
   "outputs": [
    {
     "name": "stdout",
     "output_type": "stream",
     "text": [
      "Prediction from the best model, F1-score: 0.8837836323045146\n"
     ]
    }
   ],
   "source": [
    "preds = best_model.predict(X_test_)\n",
    "print(f\"Prediction from the best model, F1-score: {metrics.f1_score(preds, y_test_, average='weighted')}\")"
   ]
  },
  {
   "cell_type": "markdown",
   "id": "ac285570",
   "metadata": {},
   "source": [
    "**Obvservation**\n",
    "\n",
    "- After hyperparamter tuning we can clearly see a improvement in our model without any under-sampling or over-sampling\n",
    "- With the default `DecisionTreeClassifier` we get approx ~ 0.86 weighted f1-score.\n",
    "- After tuning we are now getting approx ~ 0.89 weighted f1-score."
   ]
  },
  {
   "cell_type": "markdown",
   "id": "fe805f92",
   "metadata": {},
   "source": [
    "## Modelling with Random Forest"
   ]
  },
  {
   "cell_type": "code",
   "execution_count": 80,
   "id": "0b86edba",
   "metadata": {},
   "outputs": [
    {
     "name": "stderr",
     "output_type": "stream",
     "text": [
      "[Parallel(n_jobs=-1)]: Using backend ThreadingBackend with 8 concurrent workers.\n",
      "[Parallel(n_jobs=-1)]: Done  34 tasks      | elapsed:    0.0s\n"
     ]
    },
    {
     "name": "stdout",
     "output_type": "stream",
     "text": [
      "Prediction from the baseline model, F1-score: 0.908874778042126\n"
     ]
    },
    {
     "name": "stderr",
     "output_type": "stream",
     "text": [
      "[Parallel(n_jobs=-1)]: Done 100 out of 100 | elapsed:    0.3s finished\n",
      "[Parallel(n_jobs=8)]: Using backend ThreadingBackend with 8 concurrent workers.\n",
      "[Parallel(n_jobs=8)]: Done  34 tasks      | elapsed:    0.0s\n",
      "[Parallel(n_jobs=8)]: Done 100 out of 100 | elapsed:    0.0s finished\n"
     ]
    }
   ],
   "source": [
    "dt = RandomForestClassifier(n_jobs=-1, verbose=1)\n",
    "dt.fit(X_train_, y_train_)\n",
    "\n",
    "preds = dt.predict(X_test_)\n",
    "print(f\"Prediction from the baseline model, F1-score: {metrics.f1_score(preds, y_test_, average='weighted')}\")"
   ]
  },
  {
   "cell_type": "code",
   "execution_count": 81,
   "id": "b72462fa",
   "metadata": {},
   "outputs": [
    {
     "data": {
      "image/png": "[encoded data removed]",
      "text/plain": [
       "<Figure size 720x576 with 2 Axes>"
      ]
     },
     "metadata": {},
     "output_type": "display_data"
    }
   ],
   "source": [
    "cf = metrics.confusion_matrix(y_test_, preds)\n",
    "plot_cf(cf)"
   ]
  },
  {
   "cell_type": "markdown",
   "id": "9458787d",
   "metadata": {},
   "source": [
    "### Tuning the Random Forest\n",
    "\n",
    "We have already seen `HalvingGridSearchCV` for tuning the decision tree. We will now use `BayesSearchCV` which is a better way and more efficient way to tune the hyper parameters rather than just trying every possible combination. \n",
    "\n",
    "The one-sentence summary of Bayesian hyperparameter optimization is: build a probability model of the objective function and use it to select the most promising hyperparameters to evaluate in the true objective function.\n",
    "\n",
    "Detailed explanation in: [A Conceptual Explanation of Bayesian Hyperparameter Optimization for Machine Learning](https://towardsdatascience.com/a-conceptual-explanation-of-bayesian-model-based-hyperparameter-optimization-for-machine-learning-b8172278050f)"
   ]
  },
  {
   "cell_type": "code",
   "execution_count": 43,
   "id": "69c40730",
   "metadata": {},
   "outputs": [],
   "source": [
    "params_rf = {\n",
    "    'bootstrap': [True, False],\n",
    "    'max_depth': [10, 20, 30, 40, 50, 60, 70, 80, 90, 100, None],\n",
    "    'max_features': ['auto', 'sqrt'],\n",
    "    'min_samples_leaf': [1, 2, 4],\n",
    "    'min_samples_split': [2, 5, 10],\n",
    "    'n_estimators': [100, 200, 400, 600, 800, 1000]\n",
    "}"
   ]
  },
  {
   "cell_type": "code",
   "execution_count": 44,
   "id": "1f53fa52",
   "metadata": {},
   "outputs": [],
   "source": [
    "bs_cv_rf = BayesSearchCV(\n",
    "    estimator=RandomForestClassifier(n_jobs=-1), \n",
    "    search_spaces=params_rf, n_iter=20,\n",
    "    cv=5, verbose=2, scoring=scorer\n",
    ")"
   ]
  },
  {
   "cell_type": "code",
   "execution_count": 45,
   "id": "b7611b1d",
   "metadata": {
    "scrolled": false
   },
   "outputs": [
    {
     "name": "stdout",
     "output_type": "stream",
     "text": [
      "Wall time: 0 ns\n",
      "Fitting 5 folds for each of 1 candidates, totalling 5 fits\n",
      "[CV] END bootstrap=True, max_depth=50, max_features=auto, min_samples_leaf=4, min_samples_split=5, n_estimators=400; total time=   1.5s\n",
      "[CV] END bootstrap=True, max_depth=50, max_features=auto, min_samples_leaf=4, min_samples_split=5, n_estimators=400; total time=   1.4s\n",
      "[CV] END bootstrap=True, max_depth=50, max_features=auto, min_samples_leaf=4, min_samples_split=5, n_estimators=400; total time=   1.4s\n",
      "[CV] END bootstrap=True, max_depth=50, max_features=auto, min_samples_leaf=4, min_samples_split=5, n_estimators=400; total time=   1.4s\n",
      "[CV] END bootstrap=True, max_depth=50, max_features=auto, min_samples_leaf=4, min_samples_split=5, n_estimators=400; total time=   1.4s\n",
      "Fitting 5 folds for each of 1 candidates, totalling 5 fits\n",
      "[CV] END bootstrap=True, max_depth=20, max_features=sqrt, min_samples_leaf=1, min_samples_split=2, n_estimators=800; total time=   3.3s\n",
      "[CV] END bootstrap=True, max_depth=20, max_features=sqrt, min_samples_leaf=1, min_samples_split=2, n_estimators=800; total time=   3.7s\n",
      "[CV] END bootstrap=True, max_depth=20, max_features=sqrt, min_samples_leaf=1, min_samples_split=2, n_estimators=800; total time=   4.0s\n",
      "[CV] END bootstrap=True, max_depth=20, max_features=sqrt, min_samples_leaf=1, min_samples_split=2, n_estimators=800; total time=   3.8s\n",
      "[CV] END bootstrap=True, max_depth=20, max_features=sqrt, min_samples_leaf=1, min_samples_split=2, n_estimators=800; total time=   3.8s\n",
      "Fitting 5 folds for each of 1 candidates, totalling 5 fits\n",
      "[CV] END bootstrap=False, max_depth=40, max_features=sqrt, min_samples_leaf=1, min_samples_split=5, n_estimators=200; total time=   1.4s\n",
      "[CV] END bootstrap=False, max_depth=40, max_features=sqrt, min_samples_leaf=1, min_samples_split=5, n_estimators=200; total time=   1.6s\n",
      "[CV] END bootstrap=False, max_depth=40, max_features=sqrt, min_samples_leaf=1, min_samples_split=5, n_estimators=200; total time=   1.7s\n",
      "[CV] END bootstrap=False, max_depth=40, max_features=sqrt, min_samples_leaf=1, min_samples_split=5, n_estimators=200; total time=   1.6s\n",
      "[CV] END bootstrap=False, max_depth=40, max_features=sqrt, min_samples_leaf=1, min_samples_split=5, n_estimators=200; total time=   1.6s\n",
      "Fitting 5 folds for each of 1 candidates, totalling 5 fits\n",
      "[CV] END bootstrap=False, max_depth=90, max_features=sqrt, min_samples_leaf=4, min_samples_split=5, n_estimators=200; total time=   1.4s\n",
      "[CV] END bootstrap=False, max_depth=90, max_features=sqrt, min_samples_leaf=4, min_samples_split=5, n_estimators=200; total time=   1.4s\n",
      "[CV] END bootstrap=False, max_depth=90, max_features=sqrt, min_samples_leaf=4, min_samples_split=5, n_estimators=200; total time=   1.3s\n",
      "[CV] END bootstrap=False, max_depth=90, max_features=sqrt, min_samples_leaf=4, min_samples_split=5, n_estimators=200; total time=   1.2s\n",
      "[CV] END bootstrap=False, max_depth=90, max_features=sqrt, min_samples_leaf=4, min_samples_split=5, n_estimators=200; total time=   1.3s\n",
      "Fitting 5 folds for each of 1 candidates, totalling 5 fits\n",
      "[CV] END bootstrap=True, max_depth=80, max_features=auto, min_samples_leaf=1, min_samples_split=5, n_estimators=400; total time=   1.9s\n",
      "[CV] END bootstrap=True, max_depth=80, max_features=auto, min_samples_leaf=1, min_samples_split=5, n_estimators=400; total time=   1.7s\n",
      "[CV] END bootstrap=True, max_depth=80, max_features=auto, min_samples_leaf=1, min_samples_split=5, n_estimators=400; total time=   1.8s\n",
      "[CV] END bootstrap=True, max_depth=80, max_features=auto, min_samples_leaf=1, min_samples_split=5, n_estimators=400; total time=   1.8s\n",
      "[CV] END bootstrap=True, max_depth=80, max_features=auto, min_samples_leaf=1, min_samples_split=5, n_estimators=400; total time=   1.8s\n",
      "Fitting 5 folds for each of 1 candidates, totalling 5 fits\n",
      "[CV] END bootstrap=True, max_depth=30, max_features=auto, min_samples_leaf=2, min_samples_split=5, n_estimators=1000; total time=   4.2s\n",
      "[CV] END bootstrap=True, max_depth=30, max_features=auto, min_samples_leaf=2, min_samples_split=5, n_estimators=1000; total time=   4.2s\n",
      "[CV] END bootstrap=True, max_depth=30, max_features=auto, min_samples_leaf=2, min_samples_split=5, n_estimators=1000; total time=   4.4s\n",
      "[CV] END bootstrap=True, max_depth=30, max_features=auto, min_samples_leaf=2, min_samples_split=5, n_estimators=1000; total time=   4.6s\n",
      "[CV] END bootstrap=True, max_depth=30, max_features=auto, min_samples_leaf=2, min_samples_split=5, n_estimators=1000; total time=   4.7s\n",
      "Fitting 5 folds for each of 1 candidates, totalling 5 fits\n",
      "[CV] END bootstrap=True, max_depth=90, max_features=sqrt, min_samples_leaf=1, min_samples_split=5, n_estimators=800; total time=   4.0s\n",
      "[CV] END bootstrap=True, max_depth=90, max_features=sqrt, min_samples_leaf=1, min_samples_split=5, n_estimators=800; total time=   3.7s\n",
      "[CV] END bootstrap=True, max_depth=90, max_features=sqrt, min_samples_leaf=1, min_samples_split=5, n_estimators=800; total time=   3.7s\n",
      "[CV] END bootstrap=True, max_depth=90, max_features=sqrt, min_samples_leaf=1, min_samples_split=5, n_estimators=800; total time=   3.8s\n",
      "[CV] END bootstrap=True, max_depth=90, max_features=sqrt, min_samples_leaf=1, min_samples_split=5, n_estimators=800; total time=   3.9s\n",
      "Fitting 5 folds for each of 1 candidates, totalling 5 fits\n",
      "[CV] END bootstrap=True, max_depth=20, max_features=sqrt, min_samples_leaf=2, min_samples_split=5, n_estimators=1000; total time=   5.0s\n",
      "[CV] END bootstrap=True, max_depth=20, max_features=sqrt, min_samples_leaf=2, min_samples_split=5, n_estimators=1000; total time=   4.9s\n",
      "[CV] END bootstrap=True, max_depth=20, max_features=sqrt, min_samples_leaf=2, min_samples_split=5, n_estimators=1000; total time=   4.6s\n",
      "[CV] END bootstrap=True, max_depth=20, max_features=sqrt, min_samples_leaf=2, min_samples_split=5, n_estimators=1000; total time=   4.7s\n",
      "[CV] END bootstrap=True, max_depth=20, max_features=sqrt, min_samples_leaf=2, min_samples_split=5, n_estimators=1000; total time=   4.9s\n",
      "Fitting 5 folds for each of 1 candidates, totalling 5 fits\n",
      "[CV] END bootstrap=True, max_depth=50, max_features=sqrt, min_samples_leaf=2, min_samples_split=10, n_estimators=200; total time=   0.8s\n",
      "[CV] END bootstrap=True, max_depth=50, max_features=sqrt, min_samples_leaf=2, min_samples_split=10, n_estimators=200; total time=   0.8s\n",
      "[CV] END bootstrap=True, max_depth=50, max_features=sqrt, min_samples_leaf=2, min_samples_split=10, n_estimators=200; total time=   0.8s\n",
      "[CV] END bootstrap=True, max_depth=50, max_features=sqrt, min_samples_leaf=2, min_samples_split=10, n_estimators=200; total time=   0.8s\n",
      "[CV] END bootstrap=True, max_depth=50, max_features=sqrt, min_samples_leaf=2, min_samples_split=10, n_estimators=200; total time=   0.8s\n",
      "Fitting 5 folds for each of 1 candidates, totalling 5 fits\n",
      "[CV] END bootstrap=True, max_depth=80, max_features=sqrt, min_samples_leaf=1, min_samples_split=5, n_estimators=600; total time=   2.9s\n",
      "[CV] END bootstrap=True, max_depth=80, max_features=sqrt, min_samples_leaf=1, min_samples_split=5, n_estimators=600; total time=   2.5s\n",
      "[CV] END bootstrap=True, max_depth=80, max_features=sqrt, min_samples_leaf=1, min_samples_split=5, n_estimators=600; total time=   2.5s\n",
      "[CV] END bootstrap=True, max_depth=80, max_features=sqrt, min_samples_leaf=1, min_samples_split=5, n_estimators=600; total time=   2.6s\n",
      "[CV] END bootstrap=True, max_depth=80, max_features=sqrt, min_samples_leaf=1, min_samples_split=5, n_estimators=600; total time=   3.2s\n",
      "Fitting 5 folds for each of 1 candidates, totalling 5 fits\n",
      "[CV] END bootstrap=True, max_depth=10, max_features=sqrt, min_samples_leaf=2, min_samples_split=10, n_estimators=600; total time=   2.3s\n",
      "[CV] END bootstrap=True, max_depth=10, max_features=sqrt, min_samples_leaf=2, min_samples_split=10, n_estimators=600; total time=   2.3s\n",
      "[CV] END bootstrap=True, max_depth=10, max_features=sqrt, min_samples_leaf=2, min_samples_split=10, n_estimators=600; total time=   2.2s\n",
      "[CV] END bootstrap=True, max_depth=10, max_features=sqrt, min_samples_leaf=2, min_samples_split=10, n_estimators=600; total time=   2.2s\n",
      "[CV] END bootstrap=True, max_depth=10, max_features=sqrt, min_samples_leaf=2, min_samples_split=10, n_estimators=600; total time=   2.2s\n",
      "Fitting 5 folds for each of 1 candidates, totalling 5 fits\n"
     ]
    },
    {
     "name": "stdout",
     "output_type": "stream",
     "text": [
      "[CV] END bootstrap=False, max_depth=30, max_features=sqrt, min_samples_leaf=2, min_samples_split=10, n_estimators=400; total time=   2.6s\n",
      "[CV] END bootstrap=False, max_depth=30, max_features=sqrt, min_samples_leaf=2, min_samples_split=10, n_estimators=400; total time=   2.5s\n",
      "[CV] END bootstrap=False, max_depth=30, max_features=sqrt, min_samples_leaf=2, min_samples_split=10, n_estimators=400; total time=   2.5s\n",
      "[CV] END bootstrap=False, max_depth=30, max_features=sqrt, min_samples_leaf=2, min_samples_split=10, n_estimators=400; total time=   2.6s\n",
      "[CV] END bootstrap=False, max_depth=30, max_features=sqrt, min_samples_leaf=2, min_samples_split=10, n_estimators=400; total time=   2.6s\n",
      "Fitting 5 folds for each of 1 candidates, totalling 5 fits\n",
      "[CV] END bootstrap=True, max_depth=80, max_features=auto, min_samples_leaf=2, min_samples_split=10, n_estimators=800; total time=   3.2s\n",
      "[CV] END bootstrap=True, max_depth=80, max_features=auto, min_samples_leaf=2, min_samples_split=10, n_estimators=800; total time=   3.5s\n",
      "[CV] END bootstrap=True, max_depth=80, max_features=auto, min_samples_leaf=2, min_samples_split=10, n_estimators=800; total time=   3.3s\n",
      "[CV] END bootstrap=True, max_depth=80, max_features=auto, min_samples_leaf=2, min_samples_split=10, n_estimators=800; total time=   3.4s\n",
      "[CV] END bootstrap=True, max_depth=80, max_features=auto, min_samples_leaf=2, min_samples_split=10, n_estimators=800; total time=   3.5s\n",
      "Fitting 5 folds for each of 1 candidates, totalling 5 fits\n",
      "[CV] END bootstrap=False, max_depth=50, max_features=sqrt, min_samples_leaf=2, min_samples_split=10, n_estimators=200; total time=   1.1s\n",
      "[CV] END bootstrap=False, max_depth=50, max_features=sqrt, min_samples_leaf=2, min_samples_split=10, n_estimators=200; total time=   1.2s\n",
      "[CV] END bootstrap=False, max_depth=50, max_features=sqrt, min_samples_leaf=2, min_samples_split=10, n_estimators=200; total time=   1.2s\n",
      "[CV] END bootstrap=False, max_depth=50, max_features=sqrt, min_samples_leaf=2, min_samples_split=10, n_estimators=200; total time=   1.2s\n",
      "[CV] END bootstrap=False, max_depth=50, max_features=sqrt, min_samples_leaf=2, min_samples_split=10, n_estimators=200; total time=   1.2s\n",
      "Fitting 5 folds for each of 1 candidates, totalling 5 fits\n",
      "[CV] END bootstrap=False, max_depth=70, max_features=auto, min_samples_leaf=2, min_samples_split=2, n_estimators=400; total time=   2.7s\n",
      "[CV] END bootstrap=False, max_depth=70, max_features=auto, min_samples_leaf=2, min_samples_split=2, n_estimators=400; total time=   2.6s\n",
      "[CV] END bootstrap=False, max_depth=70, max_features=auto, min_samples_leaf=2, min_samples_split=2, n_estimators=400; total time=   2.7s\n",
      "[CV] END bootstrap=False, max_depth=70, max_features=auto, min_samples_leaf=2, min_samples_split=2, n_estimators=400; total time=   2.6s\n",
      "[CV] END bootstrap=False, max_depth=70, max_features=auto, min_samples_leaf=2, min_samples_split=2, n_estimators=400; total time=   2.6s\n",
      "Fitting 5 folds for each of 1 candidates, totalling 5 fits\n",
      "[CV] END bootstrap=False, max_depth=40, max_features=sqrt, min_samples_leaf=4, min_samples_split=5, n_estimators=200; total time=   1.1s\n",
      "[CV] END bootstrap=False, max_depth=40, max_features=sqrt, min_samples_leaf=4, min_samples_split=5, n_estimators=200; total time=   1.2s\n",
      "[CV] END bootstrap=False, max_depth=40, max_features=sqrt, min_samples_leaf=4, min_samples_split=5, n_estimators=200; total time=   1.2s\n",
      "[CV] END bootstrap=False, max_depth=40, max_features=sqrt, min_samples_leaf=4, min_samples_split=5, n_estimators=200; total time=   1.2s\n",
      "[CV] END bootstrap=False, max_depth=40, max_features=sqrt, min_samples_leaf=4, min_samples_split=5, n_estimators=200; total time=   1.3s\n",
      "Fitting 5 folds for each of 1 candidates, totalling 5 fits\n",
      "[CV] END bootstrap=True, max_depth=None, max_features=sqrt, min_samples_leaf=1, min_samples_split=5, n_estimators=600; total time=   2.5s\n",
      "[CV] END bootstrap=True, max_depth=None, max_features=sqrt, min_samples_leaf=1, min_samples_split=5, n_estimators=600; total time=   2.7s\n",
      "[CV] END bootstrap=True, max_depth=None, max_features=sqrt, min_samples_leaf=1, min_samples_split=5, n_estimators=600; total time=   2.7s\n",
      "[CV] END bootstrap=True, max_depth=None, max_features=sqrt, min_samples_leaf=1, min_samples_split=5, n_estimators=600; total time=   2.9s\n",
      "[CV] END bootstrap=True, max_depth=None, max_features=sqrt, min_samples_leaf=1, min_samples_split=5, n_estimators=600; total time=   3.4s\n",
      "Fitting 5 folds for each of 1 candidates, totalling 5 fits\n",
      "[CV] END bootstrap=True, max_depth=60, max_features=sqrt, min_samples_leaf=1, min_samples_split=2, n_estimators=200; total time=   0.8s\n",
      "[CV] END bootstrap=True, max_depth=60, max_features=sqrt, min_samples_leaf=1, min_samples_split=2, n_estimators=200; total time=   0.8s\n",
      "[CV] END bootstrap=True, max_depth=60, max_features=sqrt, min_samples_leaf=1, min_samples_split=2, n_estimators=200; total time=   0.8s\n",
      "[CV] END bootstrap=True, max_depth=60, max_features=sqrt, min_samples_leaf=1, min_samples_split=2, n_estimators=200; total time=   0.8s\n",
      "[CV] END bootstrap=True, max_depth=60, max_features=sqrt, min_samples_leaf=1, min_samples_split=2, n_estimators=200; total time=   0.8s\n",
      "Fitting 5 folds for each of 1 candidates, totalling 5 fits\n",
      "[CV] END bootstrap=False, max_depth=100, max_features=auto, min_samples_leaf=1, min_samples_split=5, n_estimators=100; total time=   0.6s\n",
      "[CV] END bootstrap=False, max_depth=100, max_features=auto, min_samples_leaf=1, min_samples_split=5, n_estimators=100; total time=   0.6s\n",
      "[CV] END bootstrap=False, max_depth=100, max_features=auto, min_samples_leaf=1, min_samples_split=5, n_estimators=100; total time=   0.6s\n",
      "[CV] END bootstrap=False, max_depth=100, max_features=auto, min_samples_leaf=1, min_samples_split=5, n_estimators=100; total time=   0.6s\n",
      "[CV] END bootstrap=False, max_depth=100, max_features=auto, min_samples_leaf=1, min_samples_split=5, n_estimators=100; total time=   0.6s\n",
      "Fitting 5 folds for each of 1 candidates, totalling 5 fits\n",
      "[CV] END bootstrap=False, max_depth=10, max_features=auto, min_samples_leaf=4, min_samples_split=2, n_estimators=1000; total time=   4.8s\n",
      "[CV] END bootstrap=False, max_depth=10, max_features=auto, min_samples_leaf=4, min_samples_split=2, n_estimators=1000; total time=   5.1s\n",
      "[CV] END bootstrap=False, max_depth=10, max_features=auto, min_samples_leaf=4, min_samples_split=2, n_estimators=1000; total time=   5.3s\n",
      "[CV] END bootstrap=False, max_depth=10, max_features=auto, min_samples_leaf=4, min_samples_split=2, n_estimators=1000; total time=   5.5s\n",
      "[CV] END bootstrap=False, max_depth=10, max_features=auto, min_samples_leaf=4, min_samples_split=2, n_estimators=1000; total time=   5.5s\n"
     ]
    },
    {
     "data": {
      "text/plain": [
       "BayesSearchCV(cv=5, estimator=RandomForestClassifier(n_jobs=-1), n_iter=20,\n",
       "              scoring=make_scorer(f1_score, average=weighted),\n",
       "              search_spaces={'bootstrap': [True, False],\n",
       "                             'max_depth': [10, 20, 30, 40, 50, 60, 70, 80, 90,\n",
       "                                           100, None],\n",
       "                             'max_features': ['auto', 'sqrt'],\n",
       "                             'min_samples_leaf': [1, 2, 4],\n",
       "                             'min_samples_split': [2, 5, 10],\n",
       "                             'n_estimators': [100, 200, 400, 600, 800, 1000]},\n",
       "              verbose=2)"
      ]
     },
     "execution_count": 45,
     "metadata": {},
     "output_type": "execute_result"
    }
   ],
   "source": [
    "%time\n",
    "bs_cv_rf.fit(X_, y_)"
   ]
  },
  {
   "cell_type": "code",
   "execution_count": 51,
   "id": "6a5c613f",
   "metadata": {},
   "outputs": [
    {
     "data": {
      "text/plain": [
       "OrderedDict([('bootstrap', True),\n",
       "             ('max_depth', 50),\n",
       "             ('max_features', 'sqrt'),\n",
       "             ('min_samples_leaf', 2),\n",
       "             ('min_samples_split', 10),\n",
       "             ('n_estimators', 200)])"
      ]
     },
     "execution_count": 51,
     "metadata": {},
     "output_type": "execute_result"
    }
   ],
   "source": [
    "bs_cv_rf.best_params_"
   ]
  },
  {
   "cell_type": "code",
   "execution_count": 48,
   "id": "5b222b42",
   "metadata": {},
   "outputs": [],
   "source": [
    "best_model = bs_cv_rf.best_estimator_"
   ]
  },
  {
   "cell_type": "code",
   "execution_count": 50,
   "id": "15d657db",
   "metadata": {},
   "outputs": [
    {
     "name": "stdout",
     "output_type": "stream",
     "text": [
      "Prediction from the tuned model, F1-score: 0.9611404808283409\n"
     ]
    }
   ],
   "source": [
    "preds = best_model.predict(X_test_)\n",
    "print(f\"Prediction from the tuned model, F1-score: {metrics.f1_score(preds, y_test_, average='weighted')}\")"
   ]
  },
  {
   "cell_type": "code",
   "execution_count": 82,
   "id": "e3578111",
   "metadata": {},
   "outputs": [
    {
     "data": {
      "image/png": "[encoded data removed]",
      "text/plain": [
       "<Figure size 720x576 with 2 Axes>"
      ]
     },
     "metadata": {},
     "output_type": "display_data"
    }
   ],
   "source": [
    "cf = metrics.confusion_matrix(y_test_, best_model.predict(X_test_))\n",
    "plot_cf(cf)"
   ]
  },
  {
   "cell_type": "markdown",
   "id": "9d0d4936",
   "metadata": {},
   "source": [
    "**Obvservation**\n",
    "\n",
    "- After hyperparamter tuning we can clearly see a improvement in our model without any under-sampling or over-sampling\n",
    "- With the default `RandomForestClassifier` we get approx ~ 0.90 weighted f1-score.\n",
    "- After tuning we are now getting approx ~ 0.96 weighted f1-score, this is massive!"
   ]
  },
  {
   "cell_type": "markdown",
   "id": "ffb05223",
   "metadata": {},
   "source": [
    "From the confusion matrix however we can see that while it's better our minority class almost goes unnoticed"
   ]
  },
  {
   "cell_type": "markdown",
   "id": "18af7bd2",
   "metadata": {},
   "source": [
    "## Saving both the models and the results"
   ]
  },
  {
   "cell_type": "code",
   "execution_count": 54,
   "id": "a2decf4d",
   "metadata": {},
   "outputs": [
    {
     "data": {
      "text/plain": [
       "['./ML_models/RandomForest-tuned.joblib']"
      ]
     },
     "execution_count": 54,
     "metadata": {},
     "output_type": "execute_result"
    }
   ],
   "source": [
    "dump(hf_gs_cv_dt.best_estimator_, './ML_models/DecisionTree-tuned.joblib')\n",
    "dump(bs_cv_rf.best_estimator_, './ML_models/RandomForest-tuned.joblib')"
   ]
  },
  {
   "cell_type": "code",
   "execution_count": 55,
   "id": "27d07c2e",
   "metadata": {},
   "outputs": [],
   "source": [
    "hf_gs_cv_dt_df.to_csv('./ML_results/DecisionTree_HalvingGridSearchCV_results.csv', index=False)"
   ]
  },
  {
   "cell_type": "code",
   "execution_count": 56,
   "id": "4de5aa85",
   "metadata": {},
   "outputs": [],
   "source": [
    "bs_cv_rf_df = pd.DataFrame(bs_cv_rf.cv_results_)\n",
    "bs_cv_rf_df.to_csv('./ML_results/RandomForest_BayesSearchCV_results.csv', index=False)"
   ]
  },
  {
   "cell_type": "code",
   "execution_count": null,
   "id": "982802a6",
   "metadata": {},
   "outputs": [],
   "source": []
  }
 ],
 "metadata": {
  "kernelspec": {
   "display_name": "Python 3 (ipykernel)",
   "language": "python",
   "name": "python3"
  },
  "language_info": {
   "codemirror_mode": {
    "name": "ipython",
    "version": 3
   },
   "file_extension": ".py",
   "mimetype": "text/x-python",
   "name": "python",
   "nbconvert_exporter": "python",
   "pygments_lexer": "ipython3",
   "version": "3.8.5"
  },
  "toc": {
   "base_numbering": 1,
   "nav_menu": {},
   "number_sections": true,
   "sideBar": true,
   "skip_h1_title": false,
   "title_cell": "Table of Contents",
   "title_sidebar": "Contents",
   "toc_cell": true,
   "toc_position": {
    "height": "565.6px",
    "left": "24px",
    "top": "197.125px",
    "width": "273.825px"
   },
   "toc_section_display": true,
   "toc_window_display": true
  }
 },
 "nbformat": 4,
 "nbformat_minor": 5
}
