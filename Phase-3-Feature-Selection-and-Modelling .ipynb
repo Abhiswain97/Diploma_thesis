{
 "cells": [
  {
   "cell_type": "markdown",
   "id": "6918494c",
   "metadata": {
    "toc": true
   },
   "source": [
    "<h1>Table of Contents<span class=\"tocSkip\"></span></h1>\n",
    "<div class=\"toc\"><ul class=\"toc-item\"><li><span><a href=\"#Feature-Selection\" data-toc-modified-id=\"Feature-Selection-1\"><span class=\"toc-item-num\">1&nbsp;&nbsp;</span>Feature Selection</a></span><ul class=\"toc-item\"><li><span><a href=\"#Variance-Thresholding\" data-toc-modified-id=\"Variance-Thresholding-1.1\"><span class=\"toc-item-num\">1.1&nbsp;&nbsp;</span>Variance Thresholding</a></span></li><li><span><a href=\"#Anova-Test\" data-toc-modified-id=\"Anova-Test-1.2\"><span class=\"toc-item-num\">1.2&nbsp;&nbsp;</span>Anova Test</a></span></li><li><span><a href=\"#RFE-(Recursive-Feature-Elimination)\" data-toc-modified-id=\"RFE-(Recursive-Feature-Elimination)-1.3\"><span class=\"toc-item-num\">1.3&nbsp;&nbsp;</span>RFE (Recursive Feature Elimination)</a></span></li><li><span><a href=\"#Feature-Selection-using-RandomForest\" data-toc-modified-id=\"Feature-Selection-using-RandomForest-1.4\"><span class=\"toc-item-num\">1.4&nbsp;&nbsp;</span>Feature Selection using RandomForest</a></span></li><li><span><a href=\"#Conclusion\" data-toc-modified-id=\"Conclusion-1.5\"><span class=\"toc-item-num\">1.5&nbsp;&nbsp;</span>Conclusion</a></span></li></ul></li><li><span><a href=\"#Modelling\" data-toc-modified-id=\"Modelling-2\"><span class=\"toc-item-num\">2&nbsp;&nbsp;</span>Modelling</a></span><ul class=\"toc-item\"><li><span><a href=\"#Scorer-=-F1---weighted\" data-toc-modified-id=\"Scorer-=-F1---weighted-2.1\"><span class=\"toc-item-num\">2.1&nbsp;&nbsp;</span>Scorer = <code>F1 - weighted</code></a></span></li><li><span><a href=\"#Decision-tree-modelling\" data-toc-modified-id=\"Decision-tree-modelling-2.2\"><span class=\"toc-item-num\">2.2&nbsp;&nbsp;</span>Decision tree modelling</a></span><ul class=\"toc-item\"><li><span><a href=\"#Hyperparameter-tuning-the-decision-tree\" data-toc-modified-id=\"Hyperparameter-tuning-the-decision-tree-2.2.1\"><span class=\"toc-item-num\">2.2.1&nbsp;&nbsp;</span>Hyperparameter tuning the decision tree</a></span></li></ul></li><li><span><a href=\"#Modelling-with-Random-Forest\" data-toc-modified-id=\"Modelling-with-Random-Forest-2.3\"><span class=\"toc-item-num\">2.3&nbsp;&nbsp;</span>Modelling with Random Forest</a></span><ul class=\"toc-item\"><li><span><a href=\"#Tuning-the-Random-Forest\" data-toc-modified-id=\"Tuning-the-Random-Forest-2.3.1\"><span class=\"toc-item-num\">2.3.1&nbsp;&nbsp;</span>Tuning the Random Forest</a></span></li></ul></li><li><span><a href=\"#Modelling-with-SVC\" data-toc-modified-id=\"Modelling-with-SVC-2.4\"><span class=\"toc-item-num\">2.4&nbsp;&nbsp;</span>Modelling with SVC</a></span><ul class=\"toc-item\"><li><span><a href=\"#Tuning-the-SVC\" data-toc-modified-id=\"Tuning-the-SVC-2.4.1\"><span class=\"toc-item-num\">2.4.1&nbsp;&nbsp;</span>Tuning the SVC</a></span></li></ul></li><li><span><a href=\"#Saving-both-the-models-and-the-results\" data-toc-modified-id=\"Saving-both-the-models-and-the-results-2.5\"><span class=\"toc-item-num\">2.5&nbsp;&nbsp;</span>Saving both the models and the results</a></span></li></ul></li></ul></div>"
   ]
  },
  {
   "cell_type": "markdown",
   "id": "1d6575a4",
   "metadata": {},
   "source": [
    "<center><h1>Feature Selection</h1></center>"
   ]
  },
  {
   "cell_type": "code",
   "execution_count": 79,
   "id": "a48945d2",
   "metadata": {},
   "outputs": [],
   "source": [
    "import numpy as np\n",
    "import pandas as pd\n",
    "import seaborn as sns\n",
    "\n",
    "from sklearn.experimental import enable_halving_search_cv\n",
    "\n",
    "from sklearn.preprocessing import (\n",
    "    MinMaxScaler, \n",
    "    StandardScaler\n",
    ")\n",
    "\n",
    "from sklearn.tree import DecisionTreeClassifier\n",
    "from sklearn.ensemble import RandomForestClassifier\n",
    "from sklearn.linear_model import SGDClassifier\n",
    "from sklearn import svm\n",
    "\n",
    "from sklearn import metrics\n",
    "\n",
    "from sklearn.model_selection import (\n",
    "    train_test_split, \n",
    "    KFold, StratifiedKFold, GridSearchCV,\n",
    "    HalvingGridSearchCV, cross_validate\n",
    ")\n",
    "\n",
    "from sklearn.feature_selection import (\n",
    "    VarianceThreshold, \n",
    "    f_classif,\n",
    "    SelectKBest,\n",
    "    SelectFromModel,\n",
    "    RFE\n",
    ")\n",
    "\n",
    "from imblearn import (\n",
    "    over_sampling, \n",
    "    under_sampling,\n",
    "    ensemble\n",
    ")\n",
    "from imblearn.metrics import sensitivity_specificity_support, classification_report_imbalanced\n",
    "\n",
    "from skopt import BayesSearchCV\n",
    "\n",
    "from joblib import dump, load\n",
    "\n",
    "from prettytable import PrettyTable\n",
    "\n",
    "sns.set(rc={\"figure.figsize\": (10, 8)}, font_scale=1.25)\n",
    "\n",
    "np.random.seed(42)"
   ]
  },
  {
   "cell_type": "code",
   "execution_count": 42,
   "id": "d1222750",
   "metadata": {},
   "outputs": [],
   "source": [
    "df = pd.read_csv(\"./DryBeanDataset/Dry_Bean_Dataset.csv\").sample(frac=1).reset_index(drop=True)"
   ]
  },
  {
   "cell_type": "code",
   "execution_count": 43,
   "id": "7b124fdd",
   "metadata": {},
   "outputs": [
    {
     "data": {
      "text/html": [
       "<div>\n",
       "<style scoped>\n",
       "    .dataframe tbody tr th:only-of-type {\n",
       "        vertical-align: middle;\n",
       "    }\n",
       "\n",
       "    .dataframe tbody tr th {\n",
       "        vertical-align: top;\n",
       "    }\n",
       "\n",
       "    .dataframe thead th {\n",
       "        text-align: right;\n",
       "    }\n",
       "</style>\n",
       "<table border=\"1\" class=\"dataframe\">\n",
       "  <thead>\n",
       "    <tr style=\"text-align: right;\">\n",
       "      <th></th>\n",
       "      <th>Area</th>\n",
       "      <th>Perimeter</th>\n",
       "      <th>MajorAxisLength</th>\n",
       "      <th>MinorAxisLength</th>\n",
       "      <th>AspectRation</th>\n",
       "      <th>Eccentricity</th>\n",
       "      <th>ConvexArea</th>\n",
       "      <th>EquivDiameter</th>\n",
       "      <th>Extent</th>\n",
       "      <th>Solidity</th>\n",
       "      <th>roundness</th>\n",
       "      <th>Compactness</th>\n",
       "      <th>ShapeFactor1</th>\n",
       "      <th>ShapeFactor2</th>\n",
       "      <th>ShapeFactor3</th>\n",
       "      <th>ShapeFactor4</th>\n",
       "      <th>Class</th>\n",
       "    </tr>\n",
       "  </thead>\n",
       "  <tbody>\n",
       "    <tr>\n",
       "      <th>0</th>\n",
       "      <td>42339</td>\n",
       "      <td>741.226</td>\n",
       "      <td>260.199330</td>\n",
       "      <td>207.306394</td>\n",
       "      <td>1.255144</td>\n",
       "      <td>0.604347</td>\n",
       "      <td>42676</td>\n",
       "      <td>232.180294</td>\n",
       "      <td>0.771202</td>\n",
       "      <td>0.992103</td>\n",
       "      <td>0.968387</td>\n",
       "      <td>0.892317</td>\n",
       "      <td>0.006146</td>\n",
       "      <td>0.002403</td>\n",
       "      <td>0.796230</td>\n",
       "      <td>0.999383</td>\n",
       "      <td>SEKER</td>\n",
       "    </tr>\n",
       "    <tr>\n",
       "      <th>1</th>\n",
       "      <td>68247</td>\n",
       "      <td>1088.754</td>\n",
       "      <td>370.368146</td>\n",
       "      <td>237.863792</td>\n",
       "      <td>1.557060</td>\n",
       "      <td>0.766507</td>\n",
       "      <td>70172</td>\n",
       "      <td>294.779204</td>\n",
       "      <td>0.767683</td>\n",
       "      <td>0.972567</td>\n",
       "      <td>0.723492</td>\n",
       "      <td>0.795909</td>\n",
       "      <td>0.005427</td>\n",
       "      <td>0.001343</td>\n",
       "      <td>0.633471</td>\n",
       "      <td>0.986352</td>\n",
       "      <td>BARBUNYA</td>\n",
       "    </tr>\n",
       "    <tr>\n",
       "      <th>2</th>\n",
       "      <td>37856</td>\n",
       "      <td>708.716</td>\n",
       "      <td>248.430330</td>\n",
       "      <td>194.360324</td>\n",
       "      <td>1.278195</td>\n",
       "      <td>0.622835</td>\n",
       "      <td>38232</td>\n",
       "      <td>219.544429</td>\n",
       "      <td>0.744640</td>\n",
       "      <td>0.990165</td>\n",
       "      <td>0.947109</td>\n",
       "      <td>0.883726</td>\n",
       "      <td>0.006563</td>\n",
       "      <td>0.002469</td>\n",
       "      <td>0.780972</td>\n",
       "      <td>0.998235</td>\n",
       "      <td>SEKER</td>\n",
       "    </tr>\n",
       "    <tr>\n",
       "      <th>3</th>\n",
       "      <td>33143</td>\n",
       "      <td>648.385</td>\n",
       "      <td>222.526309</td>\n",
       "      <td>189.737379</td>\n",
       "      <td>1.172812</td>\n",
       "      <td>0.522480</td>\n",
       "      <td>33377</td>\n",
       "      <td>205.423899</td>\n",
       "      <td>0.769980</td>\n",
       "      <td>0.992989</td>\n",
       "      <td>0.990685</td>\n",
       "      <td>0.923144</td>\n",
       "      <td>0.006714</td>\n",
       "      <td>0.003008</td>\n",
       "      <td>0.852195</td>\n",
       "      <td>0.999465</td>\n",
       "      <td>SEKER</td>\n",
       "    </tr>\n",
       "    <tr>\n",
       "      <th>4</th>\n",
       "      <td>29925</td>\n",
       "      <td>647.570</td>\n",
       "      <td>237.714031</td>\n",
       "      <td>161.004849</td>\n",
       "      <td>1.476440</td>\n",
       "      <td>0.735703</td>\n",
       "      <td>30321</td>\n",
       "      <td>195.196551</td>\n",
       "      <td>0.785309</td>\n",
       "      <td>0.986940</td>\n",
       "      <td>0.896748</td>\n",
       "      <td>0.821140</td>\n",
       "      <td>0.007944</td>\n",
       "      <td>0.002228</td>\n",
       "      <td>0.674271</td>\n",
       "      <td>0.995521</td>\n",
       "      <td>DERMASON</td>\n",
       "    </tr>\n",
       "  </tbody>\n",
       "</table>\n",
       "</div>"
      ],
      "text/plain": [
       "    Area  Perimeter  MajorAxisLength  MinorAxisLength  AspectRation  \\\n",
       "0  42339    741.226       260.199330       207.306394      1.255144   \n",
       "1  68247   1088.754       370.368146       237.863792      1.557060   \n",
       "2  37856    708.716       248.430330       194.360324      1.278195   \n",
       "3  33143    648.385       222.526309       189.737379      1.172812   \n",
       "4  29925    647.570       237.714031       161.004849      1.476440   \n",
       "\n",
       "   Eccentricity  ConvexArea  EquivDiameter    Extent  Solidity  roundness  \\\n",
       "0      0.604347       42676     232.180294  0.771202  0.992103   0.968387   \n",
       "1      0.766507       70172     294.779204  0.767683  0.972567   0.723492   \n",
       "2      0.622835       38232     219.544429  0.744640  0.990165   0.947109   \n",
       "3      0.522480       33377     205.423899  0.769980  0.992989   0.990685   \n",
       "4      0.735703       30321     195.196551  0.785309  0.986940   0.896748   \n",
       "\n",
       "   Compactness  ShapeFactor1  ShapeFactor2  ShapeFactor3  ShapeFactor4  \\\n",
       "0     0.892317      0.006146      0.002403      0.796230      0.999383   \n",
       "1     0.795909      0.005427      0.001343      0.633471      0.986352   \n",
       "2     0.883726      0.006563      0.002469      0.780972      0.998235   \n",
       "3     0.923144      0.006714      0.003008      0.852195      0.999465   \n",
       "4     0.821140      0.007944      0.002228      0.674271      0.995521   \n",
       "\n",
       "      Class  \n",
       "0     SEKER  \n",
       "1  BARBUNYA  \n",
       "2     SEKER  \n",
       "3     SEKER  \n",
       "4  DERMASON  "
      ]
     },
     "execution_count": 43,
     "metadata": {},
     "output_type": "execute_result"
    }
   ],
   "source": [
    "df.head()"
   ]
  },
  {
   "cell_type": "code",
   "execution_count": 4,
   "id": "957b2f2d",
   "metadata": {},
   "outputs": [],
   "source": [
    "X = df.drop('Class', axis=1)\n",
    "y = df['Class'].astype('category').cat.codes"
   ]
  },
  {
   "cell_type": "code",
   "execution_count": 5,
   "id": "a16fe526",
   "metadata": {},
   "outputs": [
    {
     "data": {
      "text/plain": [
       "Area               8.599026e+08\n",
       "Perimeter          4.592007e+04\n",
       "MajorAxisLength    7.343494e+03\n",
       "MinorAxisLength    2.022309e+03\n",
       "AspectRation       6.085026e-02\n",
       "Eccentricity       8.464324e-03\n",
       "ConvexArea         8.865456e+08\n",
       "EquivDiameter      3.501932e+03\n",
       "Extent             2.409471e-03\n",
       "Solidity           2.171913e-05\n",
       "roundness          3.542617e-03\n",
       "Compactness        3.808552e-03\n",
       "ShapeFactor1       1.272380e-06\n",
       "ShapeFactor2       3.550668e-07\n",
       "ShapeFactor3       9.800238e-03\n",
       "ShapeFactor4       1.906595e-05\n",
       "dtype: float64"
      ]
     },
     "execution_count": 5,
     "metadata": {},
     "output_type": "execute_result"
    }
   ],
   "source": [
    "X.var(numeric_only=True)"
   ]
  },
  {
   "cell_type": "code",
   "execution_count": 6,
   "id": "25ff0a5b",
   "metadata": {},
   "outputs": [],
   "source": [
    "scaler = MinMaxScaler(feature_range=(1, 10))\n",
    "X_scaled = scaler.fit_transform(X)"
   ]
  },
  {
   "cell_type": "code",
   "execution_count": 7,
   "id": "3c2cb786",
   "metadata": {},
   "outputs": [],
   "source": [
    "X_scaled_df = pd.DataFrame(X_scaled, columns=df.columns[:-1].tolist())"
   ]
  },
  {
   "cell_type": "code",
   "execution_count": 8,
   "id": "8ade6929",
   "metadata": {},
   "outputs": [
    {
     "data": {
      "text/html": [
       "<div>\n",
       "<style scoped>\n",
       "    .dataframe tbody tr th:only-of-type {\n",
       "        vertical-align: middle;\n",
       "    }\n",
       "\n",
       "    .dataframe tbody tr th {\n",
       "        vertical-align: top;\n",
       "    }\n",
       "\n",
       "    .dataframe thead th {\n",
       "        text-align: right;\n",
       "    }\n",
       "</style>\n",
       "<table border=\"1\" class=\"dataframe\">\n",
       "  <thead>\n",
       "    <tr style=\"text-align: right;\">\n",
       "      <th></th>\n",
       "      <th>Area</th>\n",
       "      <th>Perimeter</th>\n",
       "      <th>MajorAxisLength</th>\n",
       "      <th>MinorAxisLength</th>\n",
       "      <th>AspectRation</th>\n",
       "      <th>Eccentricity</th>\n",
       "      <th>ConvexArea</th>\n",
       "      <th>EquivDiameter</th>\n",
       "      <th>Extent</th>\n",
       "      <th>Solidity</th>\n",
       "      <th>roundness</th>\n",
       "      <th>Compactness</th>\n",
       "      <th>ShapeFactor1</th>\n",
       "      <th>ShapeFactor2</th>\n",
       "      <th>ShapeFactor3</th>\n",
       "      <th>ShapeFactor4</th>\n",
       "    </tr>\n",
       "  </thead>\n",
       "  <tbody>\n",
       "    <tr>\n",
       "      <th>0</th>\n",
       "      <td>1.842333</td>\n",
       "      <td>2.333948</td>\n",
       "      <td>2.241553</td>\n",
       "      <td>3.259922</td>\n",
       "      <td>2.474618</td>\n",
       "      <td>6.008954</td>\n",
       "      <td>1.815939</td>\n",
       "      <td>2.564276</td>\n",
       "      <td>7.249960</td>\n",
       "      <td>9.692861</td>\n",
       "      <td>9.599492</td>\n",
       "      <td>7.534442</td>\n",
       "      <td>4.949932</td>\n",
       "      <td>6.338256</td>\n",
       "      <td>7.153161</td>\n",
       "      <td>9.939511</td>\n",
       "    </tr>\n",
       "    <tr>\n",
       "      <th>1</th>\n",
       "      <td>2.837961</td>\n",
       "      <td>4.475314</td>\n",
       "      <td>4.027241</td>\n",
       "      <td>4.074337</td>\n",
       "      <td>4.407996</td>\n",
       "      <td>8.116537</td>\n",
       "      <td>2.836085</td>\n",
       "      <td>3.944692</td>\n",
       "      <td>7.148074</td>\n",
       "      <td>7.361961</td>\n",
       "      <td>5.200767</td>\n",
       "      <td>5.031962</td>\n",
       "      <td>4.106907</td>\n",
       "      <td>3.261495</td>\n",
       "      <td>4.557913</td>\n",
       "      <td>7.686064</td>\n",
       "    </tr>\n",
       "    <tr>\n",
       "      <th>2</th>\n",
       "      <td>1.670054</td>\n",
       "      <td>2.133631</td>\n",
       "      <td>2.050793</td>\n",
       "      <td>2.914883</td>\n",
       "      <td>2.622229</td>\n",
       "      <td>6.249241</td>\n",
       "      <td>1.651059</td>\n",
       "      <td>2.285633</td>\n",
       "      <td>6.480978</td>\n",
       "      <td>9.461633</td>\n",
       "      <td>9.217301</td>\n",
       "      <td>7.311453</td>\n",
       "      <td>5.438912</td>\n",
       "      <td>6.528719</td>\n",
       "      <td>6.909876</td>\n",
       "      <td>9.740964</td>\n",
       "    </tr>\n",
       "    <tr>\n",
       "      <th>3</th>\n",
       "      <td>1.488937</td>\n",
       "      <td>1.761889</td>\n",
       "      <td>1.630924</td>\n",
       "      <td>2.791673</td>\n",
       "      <td>1.947392</td>\n",
       "      <td>4.944941</td>\n",
       "      <td>1.470931</td>\n",
       "      <td>1.974250</td>\n",
       "      <td>7.214565</td>\n",
       "      <td>9.798561</td>\n",
       "      <td>10.000000</td>\n",
       "      <td>8.334629</td>\n",
       "      <td>5.616748</td>\n",
       "      <td>8.092549</td>\n",
       "      <td>8.045553</td>\n",
       "      <td>9.953770</td>\n",
       "    </tr>\n",
       "    <tr>\n",
       "      <th>4</th>\n",
       "      <td>1.365271</td>\n",
       "      <td>1.756867</td>\n",
       "      <td>1.877097</td>\n",
       "      <td>2.025894</td>\n",
       "      <td>3.891733</td>\n",
       "      <td>7.716176</td>\n",
       "      <td>1.357548</td>\n",
       "      <td>1.748719</td>\n",
       "      <td>7.658365</td>\n",
       "      <td>9.076779</td>\n",
       "      <td>8.312734</td>\n",
       "      <td>5.686900</td>\n",
       "      <td>7.058892</td>\n",
       "      <td>5.828550</td>\n",
       "      <td>5.208494</td>\n",
       "      <td>9.271746</td>\n",
       "    </tr>\n",
       "  </tbody>\n",
       "</table>\n",
       "</div>"
      ],
      "text/plain": [
       "       Area  Perimeter  MajorAxisLength  MinorAxisLength  AspectRation  \\\n",
       "0  1.842333   2.333948         2.241553         3.259922      2.474618   \n",
       "1  2.837961   4.475314         4.027241         4.074337      4.407996   \n",
       "2  1.670054   2.133631         2.050793         2.914883      2.622229   \n",
       "3  1.488937   1.761889         1.630924         2.791673      1.947392   \n",
       "4  1.365271   1.756867         1.877097         2.025894      3.891733   \n",
       "\n",
       "   Eccentricity  ConvexArea  EquivDiameter    Extent  Solidity  roundness  \\\n",
       "0      6.008954    1.815939       2.564276  7.249960  9.692861   9.599492   \n",
       "1      8.116537    2.836085       3.944692  7.148074  7.361961   5.200767   \n",
       "2      6.249241    1.651059       2.285633  6.480978  9.461633   9.217301   \n",
       "3      4.944941    1.470931       1.974250  7.214565  9.798561  10.000000   \n",
       "4      7.716176    1.357548       1.748719  7.658365  9.076779   8.312734   \n",
       "\n",
       "   Compactness  ShapeFactor1  ShapeFactor2  ShapeFactor3  ShapeFactor4  \n",
       "0     7.534442      4.949932      6.338256      7.153161      9.939511  \n",
       "1     5.031962      4.106907      3.261495      4.557913      7.686064  \n",
       "2     7.311453      5.438912      6.528719      6.909876      9.740964  \n",
       "3     8.334629      5.616748      8.092549      8.045553      9.953770  \n",
       "4     5.686900      7.058892      5.828550      5.208494      9.271746  "
      ]
     },
     "execution_count": 8,
     "metadata": {},
     "output_type": "execute_result"
    }
   ],
   "source": [
    "X_scaled_df.head()"
   ]
  },
  {
   "cell_type": "code",
   "execution_count": 9,
   "id": "e9b47752",
   "metadata": {},
   "outputs": [
    {
     "data": {
      "text/plain": [
       "Area               1.269917\n",
       "Perimeter          1.743431\n",
       "MajorAxisLength    1.929286\n",
       "MinorAxisLength    1.436504\n",
       "AspectRation       2.495305\n",
       "Eccentricity       1.429793\n",
       "ConvexArea         1.220357\n",
       "EquivDiameter      1.702920\n",
       "Extent             2.019396\n",
       "Solidity           0.309189\n",
       "roundness          1.142924\n",
       "Compactness        2.566088\n",
       "ShapeFactor1       1.750466\n",
       "ShapeFactor2       2.991209\n",
       "ShapeFactor3       2.491745\n",
       "ShapeFactor4       0.570142\n",
       "dtype: float64"
      ]
     },
     "execution_count": 9,
     "metadata": {},
     "output_type": "execute_result"
    }
   ],
   "source": [
    "X_scaled_df.var()"
   ]
  },
  {
   "cell_type": "markdown",
   "id": "11099d7b",
   "metadata": {},
   "source": [
    "## Variance Thresholding\n",
    "\n",
    "If the variance is low or close to zero, then a feature is approximately constant and will not improve the performance of the model. In that case, it should be removed.\n",
    "\n",
    "Variance will also be very low for a feature if only a handful of observations of that feature differ from a constant value.\n",
    "\n",
    "What we can do is set a threshold and drop features with low variance "
   ]
  },
  {
   "cell_type": "code",
   "execution_count": 10,
   "id": "9b441108",
   "metadata": {},
   "outputs": [],
   "source": [
    "vt = VarianceThreshold(threshold=1)\n",
    "X_scaled_var_feats = vt.fit_transform(X_scaled)"
   ]
  },
  {
   "cell_type": "code",
   "execution_count": 11,
   "id": "cc771ff5",
   "metadata": {},
   "outputs": [],
   "source": [
    "X_scaled_var_feats_df = pd.DataFrame(\n",
    "    X_scaled_var_feats, \n",
    "    columns=X_scaled_df.columns[vt.get_support(indices=True)]\n",
    ")"
   ]
  },
  {
   "cell_type": "code",
   "execution_count": 12,
   "id": "cc73c3fb",
   "metadata": {},
   "outputs": [
    {
     "data": {
      "text/html": [
       "<div>\n",
       "<style scoped>\n",
       "    .dataframe tbody tr th:only-of-type {\n",
       "        vertical-align: middle;\n",
       "    }\n",
       "\n",
       "    .dataframe tbody tr th {\n",
       "        vertical-align: top;\n",
       "    }\n",
       "\n",
       "    .dataframe thead th {\n",
       "        text-align: right;\n",
       "    }\n",
       "</style>\n",
       "<table border=\"1\" class=\"dataframe\">\n",
       "  <thead>\n",
       "    <tr style=\"text-align: right;\">\n",
       "      <th></th>\n",
       "      <th>Area</th>\n",
       "      <th>Perimeter</th>\n",
       "      <th>MajorAxisLength</th>\n",
       "      <th>MinorAxisLength</th>\n",
       "      <th>AspectRation</th>\n",
       "      <th>Eccentricity</th>\n",
       "      <th>ConvexArea</th>\n",
       "      <th>EquivDiameter</th>\n",
       "      <th>Extent</th>\n",
       "      <th>roundness</th>\n",
       "      <th>Compactness</th>\n",
       "      <th>ShapeFactor1</th>\n",
       "      <th>ShapeFactor2</th>\n",
       "      <th>ShapeFactor3</th>\n",
       "    </tr>\n",
       "  </thead>\n",
       "  <tbody>\n",
       "    <tr>\n",
       "      <th>0</th>\n",
       "      <td>1.842333</td>\n",
       "      <td>2.333948</td>\n",
       "      <td>2.241553</td>\n",
       "      <td>3.259922</td>\n",
       "      <td>2.474618</td>\n",
       "      <td>6.008954</td>\n",
       "      <td>1.815939</td>\n",
       "      <td>2.564276</td>\n",
       "      <td>7.249960</td>\n",
       "      <td>9.599492</td>\n",
       "      <td>7.534442</td>\n",
       "      <td>4.949932</td>\n",
       "      <td>6.338256</td>\n",
       "      <td>7.153161</td>\n",
       "    </tr>\n",
       "    <tr>\n",
       "      <th>1</th>\n",
       "      <td>2.837961</td>\n",
       "      <td>4.475314</td>\n",
       "      <td>4.027241</td>\n",
       "      <td>4.074337</td>\n",
       "      <td>4.407996</td>\n",
       "      <td>8.116537</td>\n",
       "      <td>2.836085</td>\n",
       "      <td>3.944692</td>\n",
       "      <td>7.148074</td>\n",
       "      <td>5.200767</td>\n",
       "      <td>5.031962</td>\n",
       "      <td>4.106907</td>\n",
       "      <td>3.261495</td>\n",
       "      <td>4.557913</td>\n",
       "    </tr>\n",
       "    <tr>\n",
       "      <th>2</th>\n",
       "      <td>1.670054</td>\n",
       "      <td>2.133631</td>\n",
       "      <td>2.050793</td>\n",
       "      <td>2.914883</td>\n",
       "      <td>2.622229</td>\n",
       "      <td>6.249241</td>\n",
       "      <td>1.651059</td>\n",
       "      <td>2.285633</td>\n",
       "      <td>6.480978</td>\n",
       "      <td>9.217301</td>\n",
       "      <td>7.311453</td>\n",
       "      <td>5.438912</td>\n",
       "      <td>6.528719</td>\n",
       "      <td>6.909876</td>\n",
       "    </tr>\n",
       "    <tr>\n",
       "      <th>3</th>\n",
       "      <td>1.488937</td>\n",
       "      <td>1.761889</td>\n",
       "      <td>1.630924</td>\n",
       "      <td>2.791673</td>\n",
       "      <td>1.947392</td>\n",
       "      <td>4.944941</td>\n",
       "      <td>1.470931</td>\n",
       "      <td>1.974250</td>\n",
       "      <td>7.214565</td>\n",
       "      <td>10.000000</td>\n",
       "      <td>8.334629</td>\n",
       "      <td>5.616748</td>\n",
       "      <td>8.092549</td>\n",
       "      <td>8.045553</td>\n",
       "    </tr>\n",
       "    <tr>\n",
       "      <th>4</th>\n",
       "      <td>1.365271</td>\n",
       "      <td>1.756867</td>\n",
       "      <td>1.877097</td>\n",
       "      <td>2.025894</td>\n",
       "      <td>3.891733</td>\n",
       "      <td>7.716176</td>\n",
       "      <td>1.357548</td>\n",
       "      <td>1.748719</td>\n",
       "      <td>7.658365</td>\n",
       "      <td>8.312734</td>\n",
       "      <td>5.686900</td>\n",
       "      <td>7.058892</td>\n",
       "      <td>5.828550</td>\n",
       "      <td>5.208494</td>\n",
       "    </tr>\n",
       "  </tbody>\n",
       "</table>\n",
       "</div>"
      ],
      "text/plain": [
       "       Area  Perimeter  MajorAxisLength  MinorAxisLength  AspectRation  \\\n",
       "0  1.842333   2.333948         2.241553         3.259922      2.474618   \n",
       "1  2.837961   4.475314         4.027241         4.074337      4.407996   \n",
       "2  1.670054   2.133631         2.050793         2.914883      2.622229   \n",
       "3  1.488937   1.761889         1.630924         2.791673      1.947392   \n",
       "4  1.365271   1.756867         1.877097         2.025894      3.891733   \n",
       "\n",
       "   Eccentricity  ConvexArea  EquivDiameter    Extent  roundness  Compactness  \\\n",
       "0      6.008954    1.815939       2.564276  7.249960   9.599492     7.534442   \n",
       "1      8.116537    2.836085       3.944692  7.148074   5.200767     5.031962   \n",
       "2      6.249241    1.651059       2.285633  6.480978   9.217301     7.311453   \n",
       "3      4.944941    1.470931       1.974250  7.214565  10.000000     8.334629   \n",
       "4      7.716176    1.357548       1.748719  7.658365   8.312734     5.686900   \n",
       "\n",
       "   ShapeFactor1  ShapeFactor2  ShapeFactor3  \n",
       "0      4.949932      6.338256      7.153161  \n",
       "1      4.106907      3.261495      4.557913  \n",
       "2      5.438912      6.528719      6.909876  \n",
       "3      5.616748      8.092549      8.045553  \n",
       "4      7.058892      5.828550      5.208494  "
      ]
     },
     "execution_count": 12,
     "metadata": {},
     "output_type": "execute_result"
    }
   ],
   "source": [
    "X_scaled_var_feats_df.head()"
   ]
  },
  {
   "cell_type": "markdown",
   "id": "87fd72c0",
   "metadata": {},
   "source": [
    "**Obvservation**\n",
    "\n",
    " - As we can see 2 low variance features are removed which are `Solidity` and `ShapeFactor4`"
   ]
  },
  {
   "cell_type": "markdown",
   "id": "b7ef1cbe",
   "metadata": {},
   "source": [
    "## Anova Test\n",
    "\n",
    "Analysis of variance (ANOVA) is a statistical technique that is used to check if the means of two or more groups are significantly different from each other. ANOVA checks the impact of one or more factors by comparing the means of different samples. \n",
    "\n",
    "If we had categorical variables we would do another test called the $\\chi^2$ test. Since we have all numeric features we do the ANOVA test."
   ]
  },
  {
   "cell_type": "code",
   "execution_count": 13,
   "id": "2d1cf863",
   "metadata": {},
   "outputs": [
    {
     "data": {
      "text/plain": [
       "SelectKBest(k=8)"
      ]
     },
     "execution_count": 13,
     "metadata": {},
     "output_type": "execute_result"
    }
   ],
   "source": [
    "anova_filter = SelectKBest(score_func=f_classif, k=8)\n",
    "anova_filter.fit(X, y)"
   ]
  },
  {
   "cell_type": "code",
   "execution_count": 14,
   "id": "6ca72c37",
   "metadata": {},
   "outputs": [],
   "source": [
    "anova_df = pd.DataFrame({\n",
    "    'features': df.columns[anova_filter.get_support(indices=True)],\n",
    "    'scores': anova_filter.scores_[anova_filter.get_support(indices=True)]\n",
    "})"
   ]
  },
  {
   "cell_type": "code",
   "execution_count": 15,
   "id": "1c9fe7e7",
   "metadata": {},
   "outputs": [
    {
     "data": {
      "text/html": [
       "<div>\n",
       "<style scoped>\n",
       "    .dataframe tbody tr th:only-of-type {\n",
       "        vertical-align: middle;\n",
       "    }\n",
       "\n",
       "    .dataframe tbody tr th {\n",
       "        vertical-align: top;\n",
       "    }\n",
       "\n",
       "    .dataframe thead th {\n",
       "        text-align: right;\n",
       "    }\n",
       "</style>\n",
       "<table border=\"1\" class=\"dataframe\">\n",
       "  <thead>\n",
       "    <tr style=\"text-align: right;\">\n",
       "      <th></th>\n",
       "      <th>features</th>\n",
       "      <th>scores</th>\n",
       "    </tr>\n",
       "  </thead>\n",
       "  <tbody>\n",
       "    <tr>\n",
       "      <th>0</th>\n",
       "      <td>Area</td>\n",
       "      <td>29017.510462</td>\n",
       "    </tr>\n",
       "    <tr>\n",
       "      <th>1</th>\n",
       "      <td>Perimeter</td>\n",
       "      <td>24283.663708</td>\n",
       "    </tr>\n",
       "    <tr>\n",
       "      <th>2</th>\n",
       "      <td>MajorAxisLength</td>\n",
       "      <td>21622.237935</td>\n",
       "    </tr>\n",
       "    <tr>\n",
       "      <th>3</th>\n",
       "      <td>MinorAxisLength</td>\n",
       "      <td>22442.386382</td>\n",
       "    </tr>\n",
       "    <tr>\n",
       "      <th>4</th>\n",
       "      <td>ConvexArea</td>\n",
       "      <td>28961.791217</td>\n",
       "    </tr>\n",
       "    <tr>\n",
       "      <th>5</th>\n",
       "      <td>EquivDiameter</td>\n",
       "      <td>25444.547794</td>\n",
       "    </tr>\n",
       "    <tr>\n",
       "      <th>6</th>\n",
       "      <td>ShapeFactor1</td>\n",
       "      <td>12081.321137</td>\n",
       "    </tr>\n",
       "    <tr>\n",
       "      <th>7</th>\n",
       "      <td>ShapeFactor2</td>\n",
       "      <td>12329.884201</td>\n",
       "    </tr>\n",
       "  </tbody>\n",
       "</table>\n",
       "</div>"
      ],
      "text/plain": [
       "          features        scores\n",
       "0             Area  29017.510462\n",
       "1        Perimeter  24283.663708\n",
       "2  MajorAxisLength  21622.237935\n",
       "3  MinorAxisLength  22442.386382\n",
       "4       ConvexArea  28961.791217\n",
       "5    EquivDiameter  25444.547794\n",
       "6     ShapeFactor1  12081.321137\n",
       "7     ShapeFactor2  12329.884201"
      ]
     },
     "execution_count": 15,
     "metadata": {},
     "output_type": "execute_result"
    }
   ],
   "source": [
    "anova_df"
   ]
  },
  {
   "cell_type": "markdown",
   "id": "1d1591a2",
   "metadata": {},
   "source": [
    "**Obvservation**\n",
    "\n",
    " - We have selected 8 best features according to the anova scores. \n",
    " - We can select more features also, it can be a thought of as a hyperparameter to be tuned i.e trying different models with different number of features\n",
    " - I selected the number 8 as in the previous EDA notebook we saw that 8 principal components could be used to describe the whole dataset"
   ]
  },
  {
   "cell_type": "markdown",
   "id": "d48ea860",
   "metadata": {},
   "source": [
    "## RFE (Recursive Feature Elimination)\n",
    "\n",
    "Recursive Feature Elimination selects features by recursively considering smaller subsets of features by pruning the least important feature at each step. Here models are created iteartively and in each iteration it determines the best and worst performing features and this process continues until all the features are explored.Next ranking is given on eah feature based on their elimination orde. In the worst case, if a dataset contains N number of features RFE will do a greedy search for $N^2$ combinations of features."
   ]
  },
  {
   "cell_type": "code",
   "execution_count": 16,
   "id": "f7648f42",
   "metadata": {},
   "outputs": [
    {
     "name": "stdout",
     "output_type": "stream",
     "text": [
      "Fitting estimator with 16 features.\n",
      "Fitting estimator with 15 features.\n",
      "Fitting estimator with 14 features.\n",
      "Fitting estimator with 13 features.\n",
      "Fitting estimator with 12 features.\n",
      "Fitting estimator with 11 features.\n",
      "Fitting estimator with 10 features.\n",
      "Fitting estimator with 9 features.\n"
     ]
    },
    {
     "data": {
      "text/plain": [
       "RFE(estimator=DecisionTreeClassifier(), n_features_to_select=8, verbose=3)"
      ]
     },
     "execution_count": 16,
     "metadata": {},
     "output_type": "execute_result"
    }
   ],
   "source": [
    "rfe = RFE(estimator=DecisionTreeClassifier(), n_features_to_select=8, verbose=3)\n",
    "rfe.fit(X, y)"
   ]
  },
  {
   "cell_type": "code",
   "execution_count": 17,
   "id": "150de8cf",
   "metadata": {},
   "outputs": [
    {
     "data": {
      "text/plain": [
       "array(['Perimeter', 'MajorAxisLength', 'MinorAxisLength', 'roundness',\n",
       "       'Compactness', 'ShapeFactor1', 'ShapeFactor3', 'ShapeFactor4'],\n",
       "      dtype=object)"
      ]
     },
     "execution_count": 17,
     "metadata": {},
     "output_type": "execute_result"
    }
   ],
   "source": [
    "rfe.get_feature_names_out()"
   ]
  },
  {
   "cell_type": "code",
   "execution_count": 18,
   "id": "56de84b9",
   "metadata": {},
   "outputs": [],
   "source": [
    "rfe_df = pd.DataFrame(\n",
    "    {\n",
    "        'features': X.columns.to_list(),\n",
    "        'rank': rfe.ranking_,\n",
    "        'selected': rfe.support_\n",
    "    }\n",
    ")"
   ]
  },
  {
   "cell_type": "code",
   "execution_count": 19,
   "id": "8014193b",
   "metadata": {},
   "outputs": [
    {
     "data": {
      "text/html": [
       "<div>\n",
       "<style scoped>\n",
       "    .dataframe tbody tr th:only-of-type {\n",
       "        vertical-align: middle;\n",
       "    }\n",
       "\n",
       "    .dataframe tbody tr th {\n",
       "        vertical-align: top;\n",
       "    }\n",
       "\n",
       "    .dataframe thead th {\n",
       "        text-align: right;\n",
       "    }\n",
       "</style>\n",
       "<table border=\"1\" class=\"dataframe\">\n",
       "  <thead>\n",
       "    <tr style=\"text-align: right;\">\n",
       "      <th></th>\n",
       "      <th>features</th>\n",
       "      <th>rank</th>\n",
       "      <th>selected</th>\n",
       "    </tr>\n",
       "  </thead>\n",
       "  <tbody>\n",
       "    <tr>\n",
       "      <th>0</th>\n",
       "      <td>Area</td>\n",
       "      <td>8</td>\n",
       "      <td>False</td>\n",
       "    </tr>\n",
       "    <tr>\n",
       "      <th>1</th>\n",
       "      <td>Perimeter</td>\n",
       "      <td>1</td>\n",
       "      <td>True</td>\n",
       "    </tr>\n",
       "    <tr>\n",
       "      <th>2</th>\n",
       "      <td>MajorAxisLength</td>\n",
       "      <td>1</td>\n",
       "      <td>True</td>\n",
       "    </tr>\n",
       "    <tr>\n",
       "      <th>3</th>\n",
       "      <td>MinorAxisLength</td>\n",
       "      <td>1</td>\n",
       "      <td>True</td>\n",
       "    </tr>\n",
       "    <tr>\n",
       "      <th>4</th>\n",
       "      <td>AspectRation</td>\n",
       "      <td>9</td>\n",
       "      <td>False</td>\n",
       "    </tr>\n",
       "    <tr>\n",
       "      <th>5</th>\n",
       "      <td>Eccentricity</td>\n",
       "      <td>7</td>\n",
       "      <td>False</td>\n",
       "    </tr>\n",
       "    <tr>\n",
       "      <th>6</th>\n",
       "      <td>ConvexArea</td>\n",
       "      <td>5</td>\n",
       "      <td>False</td>\n",
       "    </tr>\n",
       "    <tr>\n",
       "      <th>7</th>\n",
       "      <td>EquivDiameter</td>\n",
       "      <td>3</td>\n",
       "      <td>False</td>\n",
       "    </tr>\n",
       "    <tr>\n",
       "      <th>8</th>\n",
       "      <td>Extent</td>\n",
       "      <td>4</td>\n",
       "      <td>False</td>\n",
       "    </tr>\n",
       "    <tr>\n",
       "      <th>9</th>\n",
       "      <td>Solidity</td>\n",
       "      <td>2</td>\n",
       "      <td>False</td>\n",
       "    </tr>\n",
       "    <tr>\n",
       "      <th>10</th>\n",
       "      <td>roundness</td>\n",
       "      <td>1</td>\n",
       "      <td>True</td>\n",
       "    </tr>\n",
       "    <tr>\n",
       "      <th>11</th>\n",
       "      <td>Compactness</td>\n",
       "      <td>1</td>\n",
       "      <td>True</td>\n",
       "    </tr>\n",
       "    <tr>\n",
       "      <th>12</th>\n",
       "      <td>ShapeFactor1</td>\n",
       "      <td>1</td>\n",
       "      <td>True</td>\n",
       "    </tr>\n",
       "    <tr>\n",
       "      <th>13</th>\n",
       "      <td>ShapeFactor2</td>\n",
       "      <td>6</td>\n",
       "      <td>False</td>\n",
       "    </tr>\n",
       "    <tr>\n",
       "      <th>14</th>\n",
       "      <td>ShapeFactor3</td>\n",
       "      <td>1</td>\n",
       "      <td>True</td>\n",
       "    </tr>\n",
       "    <tr>\n",
       "      <th>15</th>\n",
       "      <td>ShapeFactor4</td>\n",
       "      <td>1</td>\n",
       "      <td>True</td>\n",
       "    </tr>\n",
       "  </tbody>\n",
       "</table>\n",
       "</div>"
      ],
      "text/plain": [
       "           features  rank  selected\n",
       "0              Area     8     False\n",
       "1         Perimeter     1      True\n",
       "2   MajorAxisLength     1      True\n",
       "3   MinorAxisLength     1      True\n",
       "4      AspectRation     9     False\n",
       "5      Eccentricity     7     False\n",
       "6        ConvexArea     5     False\n",
       "7     EquivDiameter     3     False\n",
       "8            Extent     4     False\n",
       "9          Solidity     2     False\n",
       "10        roundness     1      True\n",
       "11      Compactness     1      True\n",
       "12     ShapeFactor1     1      True\n",
       "13     ShapeFactor2     6     False\n",
       "14     ShapeFactor3     1      True\n",
       "15     ShapeFactor4     1      True"
      ]
     },
     "execution_count": 19,
     "metadata": {},
     "output_type": "execute_result"
    }
   ],
   "source": [
    "rfe_df"
   ]
  },
  {
   "cell_type": "markdown",
   "id": "b9b222ef",
   "metadata": {},
   "source": [
    "**Obvservation**\n",
    "\n",
    " - We can see that the ones which are marked as `True` are the features selected."
   ]
  },
  {
   "cell_type": "markdown",
   "id": "ec59b406",
   "metadata": {},
   "source": [
    "## Feature Selection using RandomForest\n",
    "\n",
    "Feature selection using Random forest comes under the category of Embedded methods. Embedded methods combine the qualities of filter and wrapper methods. They are implemented by algorithms that have their own built-in feature selection methods. Some of the benefits of embedded methods are :\n",
    "\n",
    "1. They are highly accurate.\n",
    "2. They generalize better.\n",
    "3. They are interpretable"
   ]
  },
  {
   "cell_type": "code",
   "execution_count": 20,
   "id": "f6047031",
   "metadata": {},
   "outputs": [],
   "source": [
    "X_train, X_test, y_train, y_test = train_test_split(X, y, test_size=0.3, random_state=42, stratify=y)"
   ]
  },
  {
   "cell_type": "code",
   "execution_count": 21,
   "id": "64fe432d",
   "metadata": {
    "scrolled": false
   },
   "outputs": [
    {
     "name": "stderr",
     "output_type": "stream",
     "text": [
      "[Parallel(n_jobs=-1)]: Using backend ThreadingBackend with 8 concurrent workers.\n",
      "[Parallel(n_jobs=-1)]: Done  34 tasks      | elapsed:    0.1s\n",
      "[Parallel(n_jobs=-1)]: Done 100 out of 100 | elapsed:    0.5s finished\n"
     ]
    },
    {
     "data": {
      "text/plain": [
       "SelectFromModel(estimator=RandomForestClassifier(n_jobs=-1, verbose=1))"
      ]
     },
     "execution_count": 21,
     "metadata": {},
     "output_type": "execute_result"
    }
   ],
   "source": [
    "selector = SelectFromModel(estimator=RandomForestClassifier(n_estimators=100, verbose=1, n_jobs=-1))\n",
    "selector.fit(X_train, y_train)"
   ]
  },
  {
   "cell_type": "code",
   "execution_count": 22,
   "id": "99cf6bff",
   "metadata": {},
   "outputs": [
    {
     "name": "stdout",
     "output_type": "stream",
     "text": [
      "Selected features are: ['Area' 'Perimeter' 'MajorAxisLength' 'MinorAxisLength' 'AspectRation'\n",
      " 'ConvexArea' 'Compactness' 'ShapeFactor1' 'ShapeFactor3']\n"
     ]
    }
   ],
   "source": [
    "print(f\"Selected features are: {selector.get_feature_names_out()}\")"
   ]
  },
  {
   "cell_type": "markdown",
   "id": "5844a1a6",
   "metadata": {},
   "source": [
    "## Conclusion\n",
    "\n",
    "I now enlist all the methods used and the features selected"
   ]
  },
  {
   "cell_type": "code",
   "execution_count": 23,
   "id": "277c035f",
   "metadata": {},
   "outputs": [],
   "source": [
    "methods = [\n",
    "    'Variance Thresholding (threshold = 1)',\n",
    "    'ANOVA F-test',\n",
    "    'Recursive Feature Elimination (estimator = DecisionTreeClassifier)',\n",
    "    'Using RandomForest feature importance'\n",
    "]\n",
    "\n",
    "features = [\n",
    "    X_scaled_var_feats_df.columns.to_list(),\n",
    "    df.columns[anova_filter.get_support(indices=True)].to_list(),\n",
    "    rfe.get_feature_names_out().tolist(),\n",
    "    selector.get_feature_names_out().tolist()\n",
    "]"
   ]
  },
  {
   "cell_type": "code",
   "execution_count": 24,
   "id": "a3d05dc2",
   "metadata": {},
   "outputs": [],
   "source": [
    "table = PrettyTable(['Methods', 'Features Selected'])\n",
    "for m, f in zip(methods, features):\n",
    "    table.add_row([m, f])"
   ]
  },
  {
   "cell_type": "code",
   "execution_count": 25,
   "id": "b192246c",
   "metadata": {},
   "outputs": [
    {
     "data": {
      "text/html": [
       "<table>\n",
       "    <thead>\n",
       "        <tr>\n",
       "            <th>Methods</th>\n",
       "            <th>Features Selected</th>\n",
       "        </tr>\n",
       "    </thead>\n",
       "    <tbody>\n",
       "        <tr>\n",
       "            <td>Variance Thresholding (threshold = 1)</td>\n",
       "            <td>[&#x27;Area&#x27;, &#x27;Perimeter&#x27;, &#x27;MajorAxisLength&#x27;, &#x27;MinorAxisLength&#x27;, &#x27;AspectRation&#x27;, &#x27;Eccentricity&#x27;, &#x27;ConvexArea&#x27;, &#x27;EquivDiameter&#x27;, &#x27;Extent&#x27;, &#x27;roundness&#x27;, &#x27;Compactness&#x27;, &#x27;ShapeFactor1&#x27;, &#x27;ShapeFactor2&#x27;, &#x27;ShapeFactor3&#x27;]</td>\n",
       "        </tr>\n",
       "        <tr>\n",
       "            <td>ANOVA F-test</td>\n",
       "            <td>[&#x27;Area&#x27;, &#x27;Perimeter&#x27;, &#x27;MajorAxisLength&#x27;, &#x27;MinorAxisLength&#x27;, &#x27;ConvexArea&#x27;, &#x27;EquivDiameter&#x27;, &#x27;ShapeFactor1&#x27;, &#x27;ShapeFactor2&#x27;]</td>\n",
       "        </tr>\n",
       "        <tr>\n",
       "            <td>Recursive Feature Elimination (estimator = DecisionTreeClassifier)</td>\n",
       "            <td>[&#x27;Perimeter&#x27;, &#x27;MajorAxisLength&#x27;, &#x27;MinorAxisLength&#x27;, &#x27;roundness&#x27;, &#x27;Compactness&#x27;, &#x27;ShapeFactor1&#x27;, &#x27;ShapeFactor3&#x27;, &#x27;ShapeFactor4&#x27;]</td>\n",
       "        </tr>\n",
       "        <tr>\n",
       "            <td>Using RandomForest feature importance</td>\n",
       "            <td>[&#x27;Area&#x27;, &#x27;Perimeter&#x27;, &#x27;MajorAxisLength&#x27;, &#x27;MinorAxisLength&#x27;, &#x27;AspectRation&#x27;, &#x27;ConvexArea&#x27;, &#x27;Compactness&#x27;, &#x27;ShapeFactor1&#x27;, &#x27;ShapeFactor3&#x27;]</td>\n",
       "        </tr>\n",
       "    </tbody>\n",
       "</table>"
      ],
      "text/plain": [
       "+--------------------------------------------------------------------+------------------------------------------------------------------------------------------------------------------------------------------------------------------------------------------------------------------+\n",
       "|                              Methods                               |                                                                                                Features Selected                                                                                                 |\n",
       "+--------------------------------------------------------------------+------------------------------------------------------------------------------------------------------------------------------------------------------------------------------------------------------------------+\n",
       "|               Variance Thresholding (threshold = 1)                | ['Area', 'Perimeter', 'MajorAxisLength', 'MinorAxisLength', 'AspectRation', 'Eccentricity', 'ConvexArea', 'EquivDiameter', 'Extent', 'roundness', 'Compactness', 'ShapeFactor1', 'ShapeFactor2', 'ShapeFactor3'] |\n",
       "|                            ANOVA F-test                            |                                            ['Area', 'Perimeter', 'MajorAxisLength', 'MinorAxisLength', 'ConvexArea', 'EquivDiameter', 'ShapeFactor1', 'ShapeFactor2']                                            |\n",
       "| Recursive Feature Elimination (estimator = DecisionTreeClassifier) |                                         ['Perimeter', 'MajorAxisLength', 'MinorAxisLength', 'roundness', 'Compactness', 'ShapeFactor1', 'ShapeFactor3', 'ShapeFactor4']                                          |\n",
       "|               Using RandomForest feature importance                |                                     ['Area', 'Perimeter', 'MajorAxisLength', 'MinorAxisLength', 'AspectRation', 'ConvexArea', 'Compactness', 'ShapeFactor1', 'ShapeFactor3']                                     |\n",
       "+--------------------------------------------------------------------+------------------------------------------------------------------------------------------------------------------------------------------------------------------------------------------------------------------+"
      ]
     },
     "execution_count": 25,
     "metadata": {},
     "output_type": "execute_result"
    }
   ],
   "source": [
    "table"
   ]
  },
  {
   "cell_type": "markdown",
   "id": "552853b1",
   "metadata": {},
   "source": [
    "# Modelling"
   ]
  },
  {
   "cell_type": "markdown",
   "id": "6cc26ac3",
   "metadata": {},
   "source": [
    "Let's start with features selected using the ANOVA F-test\n",
    "\n",
    "Our metric of choice is going to be `Weighted F1-score`. \n",
    "Here's a very good explanation for it: [link](https://stats.stackexchange.com/questions/463224/which-performance-metrics-for-highly-imbalanced-multiclass-dataset) "
   ]
  },
  {
   "cell_type": "code",
   "execution_count": 26,
   "id": "09ac9ba9",
   "metadata": {},
   "outputs": [],
   "source": [
    "def plot_cf(cf):\n",
    "    classes = df.Class.astype(\"category\").cat.categories.tolist()\n",
    "    _ = sns.heatmap(cf, annot=True, xticklabels=classes, yticklabels=classes, fmt=\"d\", cmap=\"viridis_r\")"
   ]
  },
  {
   "cell_type": "code",
   "execution_count": 27,
   "id": "6472d1fd",
   "metadata": {},
   "outputs": [],
   "source": [
    "feats = anova_filter.get_feature_names_out().tolist()"
   ]
  },
  {
   "cell_type": "code",
   "execution_count": 28,
   "id": "7331561c",
   "metadata": {},
   "outputs": [
    {
     "data": {
      "text/html": [
       "<div>\n",
       "<style scoped>\n",
       "    .dataframe tbody tr th:only-of-type {\n",
       "        vertical-align: middle;\n",
       "    }\n",
       "\n",
       "    .dataframe tbody tr th {\n",
       "        vertical-align: top;\n",
       "    }\n",
       "\n",
       "    .dataframe thead th {\n",
       "        text-align: right;\n",
       "    }\n",
       "</style>\n",
       "<table border=\"1\" class=\"dataframe\">\n",
       "  <thead>\n",
       "    <tr style=\"text-align: right;\">\n",
       "      <th></th>\n",
       "      <th>Area</th>\n",
       "      <th>Perimeter</th>\n",
       "      <th>MajorAxisLength</th>\n",
       "      <th>MinorAxisLength</th>\n",
       "      <th>ConvexArea</th>\n",
       "      <th>EquivDiameter</th>\n",
       "      <th>ShapeFactor1</th>\n",
       "      <th>ShapeFactor2</th>\n",
       "    </tr>\n",
       "  </thead>\n",
       "  <tbody>\n",
       "    <tr>\n",
       "      <th>0</th>\n",
       "      <td>42339</td>\n",
       "      <td>741.226</td>\n",
       "      <td>260.199330</td>\n",
       "      <td>207.306394</td>\n",
       "      <td>42676</td>\n",
       "      <td>232.180294</td>\n",
       "      <td>0.006146</td>\n",
       "      <td>0.002403</td>\n",
       "    </tr>\n",
       "    <tr>\n",
       "      <th>1</th>\n",
       "      <td>68247</td>\n",
       "      <td>1088.754</td>\n",
       "      <td>370.368146</td>\n",
       "      <td>237.863792</td>\n",
       "      <td>70172</td>\n",
       "      <td>294.779204</td>\n",
       "      <td>0.005427</td>\n",
       "      <td>0.001343</td>\n",
       "    </tr>\n",
       "    <tr>\n",
       "      <th>2</th>\n",
       "      <td>37856</td>\n",
       "      <td>708.716</td>\n",
       "      <td>248.430330</td>\n",
       "      <td>194.360324</td>\n",
       "      <td>38232</td>\n",
       "      <td>219.544429</td>\n",
       "      <td>0.006563</td>\n",
       "      <td>0.002469</td>\n",
       "    </tr>\n",
       "    <tr>\n",
       "      <th>3</th>\n",
       "      <td>33143</td>\n",
       "      <td>648.385</td>\n",
       "      <td>222.526309</td>\n",
       "      <td>189.737379</td>\n",
       "      <td>33377</td>\n",
       "      <td>205.423899</td>\n",
       "      <td>0.006714</td>\n",
       "      <td>0.003008</td>\n",
       "    </tr>\n",
       "    <tr>\n",
       "      <th>4</th>\n",
       "      <td>29925</td>\n",
       "      <td>647.570</td>\n",
       "      <td>237.714031</td>\n",
       "      <td>161.004849</td>\n",
       "      <td>30321</td>\n",
       "      <td>195.196551</td>\n",
       "      <td>0.007944</td>\n",
       "      <td>0.002228</td>\n",
       "    </tr>\n",
       "    <tr>\n",
       "      <th>5</th>\n",
       "      <td>38489</td>\n",
       "      <td>707.978</td>\n",
       "      <td>244.119399</td>\n",
       "      <td>200.950084</td>\n",
       "      <td>38782</td>\n",
       "      <td>221.372349</td>\n",
       "      <td>0.006343</td>\n",
       "      <td>0.002646</td>\n",
       "    </tr>\n",
       "    <tr>\n",
       "      <th>6</th>\n",
       "      <td>89592</td>\n",
       "      <td>1155.357</td>\n",
       "      <td>452.291405</td>\n",
       "      <td>254.964533</td>\n",
       "      <td>90627</td>\n",
       "      <td>337.745581</td>\n",
       "      <td>0.005048</td>\n",
       "      <td>0.000968</td>\n",
       "    </tr>\n",
       "    <tr>\n",
       "      <th>7</th>\n",
       "      <td>42379</td>\n",
       "      <td>759.965</td>\n",
       "      <td>251.037567</td>\n",
       "      <td>215.217912</td>\n",
       "      <td>42840</td>\n",
       "      <td>232.289945</td>\n",
       "      <td>0.005924</td>\n",
       "      <td>0.002679</td>\n",
       "    </tr>\n",
       "    <tr>\n",
       "      <th>8</th>\n",
       "      <td>203536</td>\n",
       "      <td>1735.247</td>\n",
       "      <td>648.157318</td>\n",
       "      <td>401.698875</td>\n",
       "      <td>206049</td>\n",
       "      <td>509.067858</td>\n",
       "      <td>0.003184</td>\n",
       "      <td>0.000747</td>\n",
       "    </tr>\n",
       "    <tr>\n",
       "      <th>9</th>\n",
       "      <td>27306</td>\n",
       "      <td>608.784</td>\n",
       "      <td>225.492411</td>\n",
       "      <td>154.595717</td>\n",
       "      <td>27648</td>\n",
       "      <td>186.459323</td>\n",
       "      <td>0.008258</td>\n",
       "      <td>0.002382</td>\n",
       "    </tr>\n",
       "  </tbody>\n",
       "</table>\n",
       "</div>"
      ],
      "text/plain": [
       "     Area  Perimeter  MajorAxisLength  MinorAxisLength  ConvexArea  \\\n",
       "0   42339    741.226       260.199330       207.306394       42676   \n",
       "1   68247   1088.754       370.368146       237.863792       70172   \n",
       "2   37856    708.716       248.430330       194.360324       38232   \n",
       "3   33143    648.385       222.526309       189.737379       33377   \n",
       "4   29925    647.570       237.714031       161.004849       30321   \n",
       "5   38489    707.978       244.119399       200.950084       38782   \n",
       "6   89592   1155.357       452.291405       254.964533       90627   \n",
       "7   42379    759.965       251.037567       215.217912       42840   \n",
       "8  203536   1735.247       648.157318       401.698875      206049   \n",
       "9   27306    608.784       225.492411       154.595717       27648   \n",
       "\n",
       "   EquivDiameter  ShapeFactor1  ShapeFactor2  \n",
       "0     232.180294      0.006146      0.002403  \n",
       "1     294.779204      0.005427      0.001343  \n",
       "2     219.544429      0.006563      0.002469  \n",
       "3     205.423899      0.006714      0.003008  \n",
       "4     195.196551      0.007944      0.002228  \n",
       "5     221.372349      0.006343      0.002646  \n",
       "6     337.745581      0.005048      0.000968  \n",
       "7     232.289945      0.005924      0.002679  \n",
       "8     509.067858      0.003184      0.000747  \n",
       "9     186.459323      0.008258      0.002382  "
      ]
     },
     "execution_count": 28,
     "metadata": {},
     "output_type": "execute_result"
    }
   ],
   "source": [
    "X[feats].head(10)"
   ]
  },
  {
   "cell_type": "code",
   "execution_count": 29,
   "id": "d307711d",
   "metadata": {},
   "outputs": [],
   "source": [
    "# anova.to_csv('./selected_features/Anova.csv', index=False)"
   ]
  },
  {
   "cell_type": "code",
   "execution_count": 30,
   "id": "8f2330b9",
   "metadata": {},
   "outputs": [],
   "source": [
    "X_ = X[feats]\n",
    "y_ = y"
   ]
  },
  {
   "cell_type": "markdown",
   "id": "e69021b7",
   "metadata": {},
   "source": [
    "## Scorer = `F1 - weighted`"
   ]
  },
  {
   "cell_type": "code",
   "execution_count": 31,
   "id": "543e7bfb",
   "metadata": {},
   "outputs": [],
   "source": [
    "scorer = metrics.make_scorer(\n",
    "    metrics.f1_score, average='weighted'\n",
    ")"
   ]
  },
  {
   "cell_type": "code",
   "execution_count": 32,
   "id": "07505df8",
   "metadata": {},
   "outputs": [],
   "source": [
    "def print_score(results):\n",
    "    print(\n",
    "        f\"F1-score (weighted) mean +/- std. dev.: \"\n",
    "        f\"{results['test_score'].mean():.3f} +/- \"\n",
    "        f\"{results['test_score'].std():.3f}\"\n",
    "    )\n",
    "    \n",
    "    return results['estimator'][-1]"
   ]
  },
  {
   "cell_type": "markdown",
   "id": "2d1659a3",
   "metadata": {},
   "source": [
    "## Decision tree modelling"
   ]
  },
  {
   "cell_type": "code",
   "execution_count": 33,
   "id": "e221af21",
   "metadata": {
    "scrolled": false
   },
   "outputs": [
    {
     "name": "stderr",
     "output_type": "stream",
     "text": [
      "[Parallel(n_jobs=-1)]: Using backend LokyBackend with 8 concurrent workers.\n",
      "[Parallel(n_jobs=-1)]: Done   7 out of  10 | elapsed:    1.7s remaining:    0.7s\n",
      "[Parallel(n_jobs=-1)]: Done  10 out of  10 | elapsed:    1.7s finished\n"
     ]
    }
   ],
   "source": [
    "X_train_, X_test_, y_train_, y_test_ = train_test_split(X_, y_, test_size=0.3, stratify=y_)\n",
    "\n",
    "dt = DecisionTreeClassifier()\n",
    "results = cross_validate(\n",
    "    estimator=dt, \n",
    "    X=X_train_, \n",
    "    y=y_train_, \n",
    "    scoring=scorer, \n",
    "    cv=StratifiedKFold(n_splits=10), \n",
    "    verbose=2, \n",
    "    n_jobs=-1,\n",
    "    return_estimator=True \n",
    ")"
   ]
  },
  {
   "cell_type": "code",
   "execution_count": 37,
   "id": "83011049",
   "metadata": {},
   "outputs": [
    {
     "name": "stdout",
     "output_type": "stream",
     "text": [
      "F1-score (weighted) mean +/- std. dev.: 0.879 +/- 0.006\n"
     ]
    }
   ],
   "source": [
    "model = print_score(results=results)"
   ]
  },
  {
   "cell_type": "code",
   "execution_count": 38,
   "id": "680aa3fe",
   "metadata": {},
   "outputs": [
    {
     "name": "stdout",
     "output_type": "stream",
     "text": [
      "Prediction from the baseline model, F1-score: 0.8759010934700935\n"
     ]
    }
   ],
   "source": [
    "# Predicting on the test data\n",
    "\n",
    "preds = model.predict(X_test_)\n",
    "print(f\"Prediction from the baseline model, F1-score: {metrics.f1_score(preds, y_test_, average='weighted')}\")"
   ]
  },
  {
   "cell_type": "code",
   "execution_count": 39,
   "id": "f3f40c28",
   "metadata": {},
   "outputs": [
    {
     "data": {
      "image/png": "[encoded data removed]",
      "text/plain": [
       "<Figure size 720x576 with 2 Axes>"
      ]
     },
     "metadata": {},
     "output_type": "display_data"
    }
   ],
   "source": [
    "cf = metrics.confusion_matrix(y_true=y_test, y_pred=preds)\n",
    "plot_cf(cf)"
   ]
  },
  {
   "cell_type": "markdown",
   "id": "df810af0",
   "metadata": {},
   "source": [
    "### Hyperparameter tuning the decision tree\n",
    "\n",
    "A very good guide to tuning the decision tree and it's various parameters I refered to is: [How to tune a Decision Tree ?](https://towardsdatascience.com/how-to-tune-a-decision-tree-f03721801680)"
   ]
  },
  {
   "cell_type": "code",
   "execution_count": 67,
   "id": "0df8f39f",
   "metadata": {},
   "outputs": [],
   "source": [
    "params_dt = {\n",
    "    'max_depth': [2, 3, 5, 10, 20],\n",
    "    'min_samples_leaf': [5, 10, 20, 50, 100],\n",
    "    'max_features': ['sqrt', 'auto', 'log2'],\n",
    "    'criterion': [\"gini\", \"entropy\"],\n",
    "    'splitter': ['best', 'random']\n",
    "}"
   ]
  },
  {
   "cell_type": "code",
   "execution_count": 68,
   "id": "50c57607",
   "metadata": {},
   "outputs": [],
   "source": [
    "gs_cv_dt = GridSearchCV(\n",
    "    estimator=DecisionTreeClassifier(), n_jobs=-1,\n",
    "    param_grid=params_dt, scoring=scorer, cv=StratifiedKFold(n_splits=10), verbose=10, \n",
    ")"
   ]
  },
  {
   "cell_type": "code",
   "execution_count": 69,
   "id": "f07ff625",
   "metadata": {},
   "outputs": [
    {
     "name": "stdout",
     "output_type": "stream",
     "text": [
      "Fitting 10 folds for each of 300 candidates, totalling 3000 fits\n",
      "Wall time: 9.22 s\n"
     ]
    },
    {
     "data": {
      "text/plain": [
       "GridSearchCV(cv=StratifiedKFold(n_splits=10, random_state=None, shuffle=False),\n",
       "             estimator=DecisionTreeClassifier(), n_jobs=-1,\n",
       "             param_grid={'criterion': ['gini', 'entropy'],\n",
       "                         'max_depth': [2, 3, 5, 10, 20],\n",
       "                         'max_features': ['sqrt', 'auto', 'log2'],\n",
       "                         'min_samples_leaf': [5, 10, 20, 50, 100],\n",
       "                         'splitter': ['best', 'random']},\n",
       "             scoring=make_scorer(f1_score, average=weighted), verbose=10)"
      ]
     },
     "execution_count": 69,
     "metadata": {},
     "output_type": "execute_result"
    }
   ],
   "source": [
    "%%time\n",
    "gs_cv_dt.fit(X_train_, y_train_)"
   ]
  },
  {
   "cell_type": "code",
   "execution_count": 70,
   "id": "ea593ffc",
   "metadata": {},
   "outputs": [
    {
     "data": {
      "text/plain": [
       "{'criterion': 'entropy',\n",
       " 'max_depth': 10,\n",
       " 'max_features': 'log2',\n",
       " 'min_samples_leaf': 10,\n",
       " 'splitter': 'best'}"
      ]
     },
     "execution_count": 70,
     "metadata": {},
     "output_type": "execute_result"
    }
   ],
   "source": [
    "gs_cv_dt.best_params_"
   ]
  },
  {
   "cell_type": "code",
   "execution_count": 71,
   "id": "f494edae",
   "metadata": {},
   "outputs": [
    {
     "data": {
      "text/html": [
       "<div>\n",
       "<style scoped>\n",
       "    .dataframe tbody tr th:only-of-type {\n",
       "        vertical-align: middle;\n",
       "    }\n",
       "\n",
       "    .dataframe tbody tr th {\n",
       "        vertical-align: top;\n",
       "    }\n",
       "\n",
       "    .dataframe thead th {\n",
       "        text-align: right;\n",
       "    }\n",
       "</style>\n",
       "<table border=\"1\" class=\"dataframe\">\n",
       "  <thead>\n",
       "    <tr style=\"text-align: right;\">\n",
       "      <th></th>\n",
       "      <th>mean_fit_time</th>\n",
       "      <th>std_fit_time</th>\n",
       "      <th>mean_score_time</th>\n",
       "      <th>std_score_time</th>\n",
       "      <th>param_criterion</th>\n",
       "      <th>param_max_depth</th>\n",
       "      <th>param_max_features</th>\n",
       "      <th>param_min_samples_leaf</th>\n",
       "      <th>param_splitter</th>\n",
       "      <th>params</th>\n",
       "      <th>...</th>\n",
       "      <th>split3_test_score</th>\n",
       "      <th>split4_test_score</th>\n",
       "      <th>split5_test_score</th>\n",
       "      <th>split6_test_score</th>\n",
       "      <th>split7_test_score</th>\n",
       "      <th>split8_test_score</th>\n",
       "      <th>split9_test_score</th>\n",
       "      <th>mean_test_score</th>\n",
       "      <th>std_test_score</th>\n",
       "      <th>rank_test_score</th>\n",
       "    </tr>\n",
       "  </thead>\n",
       "  <tbody>\n",
       "    <tr>\n",
       "      <th>0</th>\n",
       "      <td>0.014200</td>\n",
       "      <td>0.004954</td>\n",
       "      <td>0.004403</td>\n",
       "      <td>0.000663</td>\n",
       "      <td>gini</td>\n",
       "      <td>2</td>\n",
       "      <td>sqrt</td>\n",
       "      <td>5</td>\n",
       "      <td>best</td>\n",
       "      <td>{'criterion': 'gini', 'max_depth': 2, 'max_fea...</td>\n",
       "      <td>...</td>\n",
       "      <td>0.588758</td>\n",
       "      <td>0.482065</td>\n",
       "      <td>0.577710</td>\n",
       "      <td>0.513512</td>\n",
       "      <td>0.488598</td>\n",
       "      <td>0.565203</td>\n",
       "      <td>0.494338</td>\n",
       "      <td>0.536852</td>\n",
       "      <td>0.037627</td>\n",
       "      <td>205</td>\n",
       "    </tr>\n",
       "    <tr>\n",
       "      <th>1</th>\n",
       "      <td>0.008799</td>\n",
       "      <td>0.005094</td>\n",
       "      <td>0.004300</td>\n",
       "      <td>0.000900</td>\n",
       "      <td>gini</td>\n",
       "      <td>2</td>\n",
       "      <td>sqrt</td>\n",
       "      <td>5</td>\n",
       "      <td>random</td>\n",
       "      <td>{'criterion': 'gini', 'max_depth': 2, 'max_fea...</td>\n",
       "      <td>...</td>\n",
       "      <td>0.174232</td>\n",
       "      <td>0.224280</td>\n",
       "      <td>0.338464</td>\n",
       "      <td>0.303031</td>\n",
       "      <td>0.241705</td>\n",
       "      <td>0.187004</td>\n",
       "      <td>0.290286</td>\n",
       "      <td>0.265510</td>\n",
       "      <td>0.064358</td>\n",
       "      <td>297</td>\n",
       "    </tr>\n",
       "    <tr>\n",
       "      <th>2</th>\n",
       "      <td>0.011299</td>\n",
       "      <td>0.001007</td>\n",
       "      <td>0.003601</td>\n",
       "      <td>0.000491</td>\n",
       "      <td>gini</td>\n",
       "      <td>2</td>\n",
       "      <td>sqrt</td>\n",
       "      <td>10</td>\n",
       "      <td>best</td>\n",
       "      <td>{'criterion': 'gini', 'max_depth': 2, 'max_fea...</td>\n",
       "      <td>...</td>\n",
       "      <td>0.483336</td>\n",
       "      <td>0.527768</td>\n",
       "      <td>0.498437</td>\n",
       "      <td>0.555702</td>\n",
       "      <td>0.470542</td>\n",
       "      <td>0.541888</td>\n",
       "      <td>0.536786</td>\n",
       "      <td>0.515567</td>\n",
       "      <td>0.031696</td>\n",
       "      <td>211</td>\n",
       "    </tr>\n",
       "    <tr>\n",
       "      <th>3</th>\n",
       "      <td>0.006600</td>\n",
       "      <td>0.001428</td>\n",
       "      <td>0.003900</td>\n",
       "      <td>0.000541</td>\n",
       "      <td>gini</td>\n",
       "      <td>2</td>\n",
       "      <td>sqrt</td>\n",
       "      <td>10</td>\n",
       "      <td>random</td>\n",
       "      <td>{'criterion': 'gini', 'max_depth': 2, 'max_fea...</td>\n",
       "      <td>...</td>\n",
       "      <td>0.221302</td>\n",
       "      <td>0.326103</td>\n",
       "      <td>0.321830</td>\n",
       "      <td>0.247466</td>\n",
       "      <td>0.386005</td>\n",
       "      <td>0.323977</td>\n",
       "      <td>0.332847</td>\n",
       "      <td>0.298423</td>\n",
       "      <td>0.047384</td>\n",
       "      <td>286</td>\n",
       "    </tr>\n",
       "    <tr>\n",
       "      <th>4</th>\n",
       "      <td>0.012700</td>\n",
       "      <td>0.002147</td>\n",
       "      <td>0.004101</td>\n",
       "      <td>0.001375</td>\n",
       "      <td>gini</td>\n",
       "      <td>2</td>\n",
       "      <td>sqrt</td>\n",
       "      <td>20</td>\n",
       "      <td>best</td>\n",
       "      <td>{'criterion': 'gini', 'max_depth': 2, 'max_fea...</td>\n",
       "      <td>...</td>\n",
       "      <td>0.415630</td>\n",
       "      <td>0.489028</td>\n",
       "      <td>0.459334</td>\n",
       "      <td>0.501155</td>\n",
       "      <td>0.390132</td>\n",
       "      <td>0.392470</td>\n",
       "      <td>0.503755</td>\n",
       "      <td>0.453130</td>\n",
       "      <td>0.043588</td>\n",
       "      <td>248</td>\n",
       "    </tr>\n",
       "  </tbody>\n",
       "</table>\n",
       "<p>5 rows × 23 columns</p>\n",
       "</div>"
      ],
      "text/plain": [
       "   mean_fit_time  std_fit_time  mean_score_time  std_score_time  \\\n",
       "0       0.014200      0.004954         0.004403        0.000663   \n",
       "1       0.008799      0.005094         0.004300        0.000900   \n",
       "2       0.011299      0.001007         0.003601        0.000491   \n",
       "3       0.006600      0.001428         0.003900        0.000541   \n",
       "4       0.012700      0.002147         0.004101        0.001375   \n",
       "\n",
       "  param_criterion param_max_depth param_max_features param_min_samples_leaf  \\\n",
       "0            gini               2               sqrt                      5   \n",
       "1            gini               2               sqrt                      5   \n",
       "2            gini               2               sqrt                     10   \n",
       "3            gini               2               sqrt                     10   \n",
       "4            gini               2               sqrt                     20   \n",
       "\n",
       "  param_splitter                                             params  ...  \\\n",
       "0           best  {'criterion': 'gini', 'max_depth': 2, 'max_fea...  ...   \n",
       "1         random  {'criterion': 'gini', 'max_depth': 2, 'max_fea...  ...   \n",
       "2           best  {'criterion': 'gini', 'max_depth': 2, 'max_fea...  ...   \n",
       "3         random  {'criterion': 'gini', 'max_depth': 2, 'max_fea...  ...   \n",
       "4           best  {'criterion': 'gini', 'max_depth': 2, 'max_fea...  ...   \n",
       "\n",
       "   split3_test_score  split4_test_score  split5_test_score  split6_test_score  \\\n",
       "0           0.588758           0.482065           0.577710           0.513512   \n",
       "1           0.174232           0.224280           0.338464           0.303031   \n",
       "2           0.483336           0.527768           0.498437           0.555702   \n",
       "3           0.221302           0.326103           0.321830           0.247466   \n",
       "4           0.415630           0.489028           0.459334           0.501155   \n",
       "\n",
       "   split7_test_score  split8_test_score  split9_test_score  mean_test_score  \\\n",
       "0           0.488598           0.565203           0.494338         0.536852   \n",
       "1           0.241705           0.187004           0.290286         0.265510   \n",
       "2           0.470542           0.541888           0.536786         0.515567   \n",
       "3           0.386005           0.323977           0.332847         0.298423   \n",
       "4           0.390132           0.392470           0.503755         0.453130   \n",
       "\n",
       "   std_test_score  rank_test_score  \n",
       "0        0.037627              205  \n",
       "1        0.064358              297  \n",
       "2        0.031696              211  \n",
       "3        0.047384              286  \n",
       "4        0.043588              248  \n",
       "\n",
       "[5 rows x 23 columns]"
      ]
     },
     "execution_count": 71,
     "metadata": {},
     "output_type": "execute_result"
    }
   ],
   "source": [
    "gs_cv_dt_df = pd.DataFrame(gs_cv_dt.cv_results_)\n",
    "gs_cv_dt_df.head()"
   ]
  },
  {
   "cell_type": "code",
   "execution_count": 72,
   "id": "1f7d669b",
   "metadata": {},
   "outputs": [
    {
     "data": {
      "text/html": [
       "<div>\n",
       "<style scoped>\n",
       "    .dataframe tbody tr th:only-of-type {\n",
       "        vertical-align: middle;\n",
       "    }\n",
       "\n",
       "    .dataframe tbody tr th {\n",
       "        vertical-align: top;\n",
       "    }\n",
       "\n",
       "    .dataframe thead th {\n",
       "        text-align: right;\n",
       "    }\n",
       "</style>\n",
       "<table border=\"1\" class=\"dataframe\">\n",
       "  <thead>\n",
       "    <tr style=\"text-align: right;\">\n",
       "      <th></th>\n",
       "      <th>mean_fit_time</th>\n",
       "      <th>std_fit_time</th>\n",
       "      <th>mean_score_time</th>\n",
       "      <th>std_score_time</th>\n",
       "      <th>param_criterion</th>\n",
       "      <th>param_max_depth</th>\n",
       "      <th>param_max_features</th>\n",
       "      <th>param_min_samples_leaf</th>\n",
       "      <th>param_splitter</th>\n",
       "      <th>params</th>\n",
       "      <th>...</th>\n",
       "      <th>split3_test_score</th>\n",
       "      <th>split4_test_score</th>\n",
       "      <th>split5_test_score</th>\n",
       "      <th>split6_test_score</th>\n",
       "      <th>split7_test_score</th>\n",
       "      <th>split8_test_score</th>\n",
       "      <th>split9_test_score</th>\n",
       "      <th>mean_test_score</th>\n",
       "      <th>std_test_score</th>\n",
       "      <th>rank_test_score</th>\n",
       "    </tr>\n",
       "  </thead>\n",
       "  <tbody>\n",
       "    <tr>\n",
       "      <th>262</th>\n",
       "      <td>0.065002</td>\n",
       "      <td>0.001553</td>\n",
       "      <td>0.002998</td>\n",
       "      <td>0.000009</td>\n",
       "      <td>entropy</td>\n",
       "      <td>10</td>\n",
       "      <td>log2</td>\n",
       "      <td>10</td>\n",
       "      <td>best</td>\n",
       "      <td>{'criterion': 'entropy', 'max_depth': 10, 'max...</td>\n",
       "      <td>...</td>\n",
       "      <td>0.899932</td>\n",
       "      <td>0.887115</td>\n",
       "      <td>0.884034</td>\n",
       "      <td>0.893298</td>\n",
       "      <td>0.897420</td>\n",
       "      <td>0.886432</td>\n",
       "      <td>0.892083</td>\n",
       "      <td>0.893483</td>\n",
       "      <td>0.007226</td>\n",
       "      <td>1</td>\n",
       "    </tr>\n",
       "    <tr>\n",
       "      <th>114</th>\n",
       "      <td>0.034499</td>\n",
       "      <td>0.003528</td>\n",
       "      <td>0.003700</td>\n",
       "      <td>0.000640</td>\n",
       "      <td>gini</td>\n",
       "      <td>10</td>\n",
       "      <td>log2</td>\n",
       "      <td>20</td>\n",
       "      <td>best</td>\n",
       "      <td>{'criterion': 'gini', 'max_depth': 10, 'max_fe...</td>\n",
       "      <td>...</td>\n",
       "      <td>0.886913</td>\n",
       "      <td>0.895639</td>\n",
       "      <td>0.872710</td>\n",
       "      <td>0.893174</td>\n",
       "      <td>0.885980</td>\n",
       "      <td>0.884133</td>\n",
       "      <td>0.879313</td>\n",
       "      <td>0.888164</td>\n",
       "      <td>0.012206</td>\n",
       "      <td>2</td>\n",
       "    </tr>\n",
       "    <tr>\n",
       "      <th>112</th>\n",
       "      <td>0.035299</td>\n",
       "      <td>0.001735</td>\n",
       "      <td>0.003400</td>\n",
       "      <td>0.000663</td>\n",
       "      <td>gini</td>\n",
       "      <td>10</td>\n",
       "      <td>log2</td>\n",
       "      <td>10</td>\n",
       "      <td>best</td>\n",
       "      <td>{'criterion': 'gini', 'max_depth': 10, 'max_fe...</td>\n",
       "      <td>...</td>\n",
       "      <td>0.881437</td>\n",
       "      <td>0.898968</td>\n",
       "      <td>0.862994</td>\n",
       "      <td>0.881972</td>\n",
       "      <td>0.890903</td>\n",
       "      <td>0.892251</td>\n",
       "      <td>0.887051</td>\n",
       "      <td>0.887573</td>\n",
       "      <td>0.013161</td>\n",
       "      <td>3</td>\n",
       "    </tr>\n",
       "    <tr>\n",
       "      <th>292</th>\n",
       "      <td>0.072999</td>\n",
       "      <td>0.004605</td>\n",
       "      <td>0.003201</td>\n",
       "      <td>0.000401</td>\n",
       "      <td>entropy</td>\n",
       "      <td>20</td>\n",
       "      <td>log2</td>\n",
       "      <td>10</td>\n",
       "      <td>best</td>\n",
       "      <td>{'criterion': 'entropy', 'max_depth': 20, 'max...</td>\n",
       "      <td>...</td>\n",
       "      <td>0.893429</td>\n",
       "      <td>0.897490</td>\n",
       "      <td>0.871696</td>\n",
       "      <td>0.884700</td>\n",
       "      <td>0.891185</td>\n",
       "      <td>0.898278</td>\n",
       "      <td>0.874478</td>\n",
       "      <td>0.887194</td>\n",
       "      <td>0.010022</td>\n",
       "      <td>4</td>\n",
       "    </tr>\n",
       "    <tr>\n",
       "      <th>282</th>\n",
       "      <td>0.048699</td>\n",
       "      <td>0.002051</td>\n",
       "      <td>0.003201</td>\n",
       "      <td>0.000400</td>\n",
       "      <td>entropy</td>\n",
       "      <td>20</td>\n",
       "      <td>auto</td>\n",
       "      <td>10</td>\n",
       "      <td>best</td>\n",
       "      <td>{'criterion': 'entropy', 'max_depth': 20, 'max...</td>\n",
       "      <td>...</td>\n",
       "      <td>0.862920</td>\n",
       "      <td>0.896513</td>\n",
       "      <td>0.880474</td>\n",
       "      <td>0.883282</td>\n",
       "      <td>0.889366</td>\n",
       "      <td>0.888107</td>\n",
       "      <td>0.879916</td>\n",
       "      <td>0.887159</td>\n",
       "      <td>0.012746</td>\n",
       "      <td>5</td>\n",
       "    </tr>\n",
       "  </tbody>\n",
       "</table>\n",
       "<p>5 rows × 23 columns</p>\n",
       "</div>"
      ],
      "text/plain": [
       "     mean_fit_time  std_fit_time  mean_score_time  std_score_time  \\\n",
       "262       0.065002      0.001553         0.002998        0.000009   \n",
       "114       0.034499      0.003528         0.003700        0.000640   \n",
       "112       0.035299      0.001735         0.003400        0.000663   \n",
       "292       0.072999      0.004605         0.003201        0.000401   \n",
       "282       0.048699      0.002051         0.003201        0.000400   \n",
       "\n",
       "    param_criterion param_max_depth param_max_features param_min_samples_leaf  \\\n",
       "262         entropy              10               log2                     10   \n",
       "114            gini              10               log2                     20   \n",
       "112            gini              10               log2                     10   \n",
       "292         entropy              20               log2                     10   \n",
       "282         entropy              20               auto                     10   \n",
       "\n",
       "    param_splitter                                             params  ...  \\\n",
       "262           best  {'criterion': 'entropy', 'max_depth': 10, 'max...  ...   \n",
       "114           best  {'criterion': 'gini', 'max_depth': 10, 'max_fe...  ...   \n",
       "112           best  {'criterion': 'gini', 'max_depth': 10, 'max_fe...  ...   \n",
       "292           best  {'criterion': 'entropy', 'max_depth': 20, 'max...  ...   \n",
       "282           best  {'criterion': 'entropy', 'max_depth': 20, 'max...  ...   \n",
       "\n",
       "     split3_test_score  split4_test_score  split5_test_score  \\\n",
       "262           0.899932           0.887115           0.884034   \n",
       "114           0.886913           0.895639           0.872710   \n",
       "112           0.881437           0.898968           0.862994   \n",
       "292           0.893429           0.897490           0.871696   \n",
       "282           0.862920           0.896513           0.880474   \n",
       "\n",
       "     split6_test_score  split7_test_score  split8_test_score  \\\n",
       "262           0.893298           0.897420           0.886432   \n",
       "114           0.893174           0.885980           0.884133   \n",
       "112           0.881972           0.890903           0.892251   \n",
       "292           0.884700           0.891185           0.898278   \n",
       "282           0.883282           0.889366           0.888107   \n",
       "\n",
       "     split9_test_score  mean_test_score  std_test_score  rank_test_score  \n",
       "262           0.892083         0.893483        0.007226                1  \n",
       "114           0.879313         0.888164        0.012206                2  \n",
       "112           0.887051         0.887573        0.013161                3  \n",
       "292           0.874478         0.887194        0.010022                4  \n",
       "282           0.879916         0.887159        0.012746                5  \n",
       "\n",
       "[5 rows x 23 columns]"
      ]
     },
     "execution_count": 72,
     "metadata": {},
     "output_type": "execute_result"
    }
   ],
   "source": [
    "gs_cv_dt_df.nlargest(5, columns=['mean_test_score'])"
   ]
  },
  {
   "cell_type": "code",
   "execution_count": 73,
   "id": "234f3199",
   "metadata": {},
   "outputs": [],
   "source": [
    "tuned_model = gs_cv_dt.best_estimator_"
   ]
  },
  {
   "cell_type": "markdown",
   "id": "072093bb",
   "metadata": {},
   "source": [
    "Fitting the best estimator after tuning"
   ]
  },
  {
   "cell_type": "code",
   "execution_count": 74,
   "id": "e0b9caf2",
   "metadata": {},
   "outputs": [
    {
     "name": "stdout",
     "output_type": "stream",
     "text": [
      "Prediction from the best model, F1-score: 0.8870413368608534\n"
     ]
    }
   ],
   "source": [
    "preds = tuned_model.predict(X_test_)\n",
    "print(f\"Prediction from the best model, F1-score: {metrics.f1_score(preds, y_test_, average='weighted')}\")"
   ]
  },
  {
   "cell_type": "code",
   "execution_count": 75,
   "id": "8f9a0054",
   "metadata": {},
   "outputs": [
    {
     "data": {
      "image/png": "[encoded data removed]",
      "text/plain": [
       "<Figure size 720x576 with 2 Axes>"
      ]
     },
     "metadata": {},
     "output_type": "display_data"
    }
   ],
   "source": [
    "cf = metrics.confusion_matrix(y_true=y_test, y_pred=preds)\n",
    "plot_cf(cf)"
   ]
  },
  {
   "cell_type": "markdown",
   "id": "ac285570",
   "metadata": {},
   "source": [
    "**Obvservation**\n",
    "\n",
    "- After hyperparamter tuning we can clearly see a improvement in our model without any under-sampling or over-sampling\n",
    "- With the default `DecisionTreeClassifier` we get approx ~ 0.87 weighted f1-score.\n",
    "- After tuning we are now getting approx ~ 0.89 weighted f1-score."
   ]
  },
  {
   "cell_type": "markdown",
   "id": "fe805f92",
   "metadata": {},
   "source": [
    "## Modelling with Random Forest"
   ]
  },
  {
   "cell_type": "code",
   "execution_count": 76,
   "id": "0b86edba",
   "metadata": {},
   "outputs": [
    {
     "name": "stderr",
     "output_type": "stream",
     "text": [
      "[Parallel(n_jobs=1)]: Using backend SequentialBackend with 1 concurrent workers.\n",
      "[Parallel(n_jobs=1)]: Done  10 out of  10 | elapsed:    0.6s finished\n"
     ]
    }
   ],
   "source": [
    "rf = RandomForestClassifier(n_jobs=-1, class_weight='balanced')\n",
    "results = cross_validate(\n",
    "    estimator=dt, \n",
    "    X=X_train_, \n",
    "    y=y_train_, \n",
    "    scoring=scorer, \n",
    "    cv=StratifiedKFold(n_splits=10), \n",
    "    verbose=1, \n",
    "    n_jobs=1,\n",
    "    return_estimator=True \n",
    ")"
   ]
  },
  {
   "cell_type": "code",
   "execution_count": 77,
   "id": "2eec6e74",
   "metadata": {},
   "outputs": [
    {
     "name": "stdout",
     "output_type": "stream",
     "text": [
      "Prediction from the baseline model, F1-score: 0.8762375772213905\n"
     ]
    }
   ],
   "source": [
    "preds = results['estimator'][-1].predict(X_test_)\n",
    "print(f\"Prediction from the baseline model, F1-score: {metrics.f1_score(preds, y_test_, average='weighted')}\")"
   ]
  },
  {
   "cell_type": "code",
   "execution_count": 78,
   "id": "2412fc78",
   "metadata": {},
   "outputs": [
    {
     "data": {
      "image/png": "[encoded data removed]",
      "text/plain": [
       "<Figure size 720x576 with 2 Axes>"
      ]
     },
     "metadata": {},
     "output_type": "display_data"
    }
   ],
   "source": [
    "cf = metrics.confusion_matrix(y_test_, preds)\n",
    "plot_cf(cf)"
   ]
  },
  {
   "cell_type": "markdown",
   "id": "9458787d",
   "metadata": {},
   "source": [
    "### Tuning the Random Forest\n",
    "\n",
    "We have already seen `HalvingGridSearchCV` for tuning the decision tree. We will now use `BayesSearchCV` which is a better way and more efficient way to tune the hyper parameters rather than just trying every possible combination. \n",
    "\n",
    "The one-sentence summary of Bayesian hyperparameter optimization is: build a probability model of the objective function and use it to select the most promising hyperparameters to evaluate in the true objective function.\n",
    "\n",
    "Detailed explanation in: [A Conceptual Explanation of Bayesian Hyperparameter Optimization for Machine Learning](https://towardsdatascience.com/a-conceptual-explanation-of-bayesian-model-based-hyperparameter-optimization-for-machine-learning-b8172278050f)"
   ]
  },
  {
   "cell_type": "code",
   "execution_count": 80,
   "id": "69c40730",
   "metadata": {},
   "outputs": [],
   "source": [
    "params_rf = {\n",
    "    'bootstrap': [True, False],\n",
    "    'max_depth': [10, 20, 30, 40, 50],\n",
    "    'max_features': ['auto', 'sqrt'],\n",
    "    'min_samples_leaf': [1, 2, 4],\n",
    "    'min_samples_split': [2, 5, 10],\n",
    "    'n_estimators': [100, 200, 400, 600],\n",
    "    'class_weight': ['balanced', 'balanced_subsample']\n",
    "}"
   ]
  },
  {
   "cell_type": "code",
   "execution_count": 81,
   "id": "1f53fa52",
   "metadata": {},
   "outputs": [],
   "source": [
    "bs_cv_rf = BayesSearchCV(\n",
    "    estimator=RandomForestClassifier(n_jobs=-1), \n",
    "    search_spaces=params_rf, n_iter=20,\n",
    "    cv=StratifiedKFold(n_splits=10), verbose=2, scoring=scorer\n",
    ")"
   ]
  },
  {
   "cell_type": "code",
   "execution_count": 82,
   "id": "b7611b1d",
   "metadata": {
    "scrolled": false
   },
   "outputs": [
    {
     "name": "stdout",
     "output_type": "stream",
     "text": [
      "Fitting 10 folds for each of 1 candidates, totalling 10 fits\n",
      "[CV] END bootstrap=True, class_weight=balanced, max_depth=30, max_features=sqrt, min_samples_leaf=2, min_samples_split=10, n_estimators=200; total time=   1.9s\n",
      "[CV] END bootstrap=True, class_weight=balanced, max_depth=30, max_features=sqrt, min_samples_leaf=2, min_samples_split=10, n_estimators=200; total time=   0.6s\n",
      "[CV] END bootstrap=True, class_weight=balanced, max_depth=30, max_features=sqrt, min_samples_leaf=2, min_samples_split=10, n_estimators=200; total time=   0.5s\n",
      "[CV] END bootstrap=True, class_weight=balanced, max_depth=30, max_features=sqrt, min_samples_leaf=2, min_samples_split=10, n_estimators=200; total time=   0.6s\n",
      "[CV] END bootstrap=True, class_weight=balanced, max_depth=30, max_features=sqrt, min_samples_leaf=2, min_samples_split=10, n_estimators=200; total time=   0.5s\n",
      "[CV] END bootstrap=True, class_weight=balanced, max_depth=30, max_features=sqrt, min_samples_leaf=2, min_samples_split=10, n_estimators=200; total time=   0.6s\n",
      "[CV] END bootstrap=True, class_weight=balanced, max_depth=30, max_features=sqrt, min_samples_leaf=2, min_samples_split=10, n_estimators=200; total time=   0.5s\n",
      "[CV] END bootstrap=True, class_weight=balanced, max_depth=30, max_features=sqrt, min_samples_leaf=2, min_samples_split=10, n_estimators=200; total time=   0.5s\n",
      "[CV] END bootstrap=True, class_weight=balanced, max_depth=30, max_features=sqrt, min_samples_leaf=2, min_samples_split=10, n_estimators=200; total time=   0.5s\n",
      "[CV] END bootstrap=True, class_weight=balanced, max_depth=30, max_features=sqrt, min_samples_leaf=2, min_samples_split=10, n_estimators=200; total time=   0.5s\n",
      "Fitting 10 folds for each of 1 candidates, totalling 10 fits\n",
      "[CV] END bootstrap=False, class_weight=balanced, max_depth=50, max_features=sqrt, min_samples_leaf=1, min_samples_split=10, n_estimators=200; total time=   0.8s\n",
      "[CV] END bootstrap=False, class_weight=balanced, max_depth=50, max_features=sqrt, min_samples_leaf=1, min_samples_split=10, n_estimators=200; total time=   0.8s\n",
      "[CV] END bootstrap=False, class_weight=balanced, max_depth=50, max_features=sqrt, min_samples_leaf=1, min_samples_split=10, n_estimators=200; total time=   0.8s\n",
      "[CV] END bootstrap=False, class_weight=balanced, max_depth=50, max_features=sqrt, min_samples_leaf=1, min_samples_split=10, n_estimators=200; total time=   0.9s\n",
      "[CV] END bootstrap=False, class_weight=balanced, max_depth=50, max_features=sqrt, min_samples_leaf=1, min_samples_split=10, n_estimators=200; total time=   0.8s\n",
      "[CV] END bootstrap=False, class_weight=balanced, max_depth=50, max_features=sqrt, min_samples_leaf=1, min_samples_split=10, n_estimators=200; total time=   0.9s\n",
      "[CV] END bootstrap=False, class_weight=balanced, max_depth=50, max_features=sqrt, min_samples_leaf=1, min_samples_split=10, n_estimators=200; total time=   0.8s\n",
      "[CV] END bootstrap=False, class_weight=balanced, max_depth=50, max_features=sqrt, min_samples_leaf=1, min_samples_split=10, n_estimators=200; total time=   0.9s\n",
      "[CV] END bootstrap=False, class_weight=balanced, max_depth=50, max_features=sqrt, min_samples_leaf=1, min_samples_split=10, n_estimators=200; total time=   0.8s\n",
      "[CV] END bootstrap=False, class_weight=balanced, max_depth=50, max_features=sqrt, min_samples_leaf=1, min_samples_split=10, n_estimators=200; total time=   0.8s\n",
      "Fitting 10 folds for each of 1 candidates, totalling 10 fits\n",
      "[CV] END bootstrap=True, class_weight=balanced, max_depth=50, max_features=sqrt, min_samples_leaf=2, min_samples_split=10, n_estimators=200; total time=   0.6s\n",
      "[CV] END bootstrap=True, class_weight=balanced, max_depth=50, max_features=sqrt, min_samples_leaf=2, min_samples_split=10, n_estimators=200; total time=   0.5s\n",
      "[CV] END bootstrap=True, class_weight=balanced, max_depth=50, max_features=sqrt, min_samples_leaf=2, min_samples_split=10, n_estimators=200; total time=   0.6s\n",
      "[CV] END bootstrap=True, class_weight=balanced, max_depth=50, max_features=sqrt, min_samples_leaf=2, min_samples_split=10, n_estimators=200; total time=   0.5s\n",
      "[CV] END bootstrap=True, class_weight=balanced, max_depth=50, max_features=sqrt, min_samples_leaf=2, min_samples_split=10, n_estimators=200; total time=   0.6s\n",
      "[CV] END bootstrap=True, class_weight=balanced, max_depth=50, max_features=sqrt, min_samples_leaf=2, min_samples_split=10, n_estimators=200; total time=   0.6s\n",
      "[CV] END bootstrap=True, class_weight=balanced, max_depth=50, max_features=sqrt, min_samples_leaf=2, min_samples_split=10, n_estimators=200; total time=   0.5s\n",
      "[CV] END bootstrap=True, class_weight=balanced, max_depth=50, max_features=sqrt, min_samples_leaf=2, min_samples_split=10, n_estimators=200; total time=   0.6s\n",
      "[CV] END bootstrap=True, class_weight=balanced, max_depth=50, max_features=sqrt, min_samples_leaf=2, min_samples_split=10, n_estimators=200; total time=   0.5s\n",
      "[CV] END bootstrap=True, class_weight=balanced, max_depth=50, max_features=sqrt, min_samples_leaf=2, min_samples_split=10, n_estimators=200; total time=   0.6s\n",
      "Fitting 10 folds for each of 1 candidates, totalling 10 fits\n",
      "[CV] END bootstrap=False, class_weight=balanced, max_depth=40, max_features=sqrt, min_samples_leaf=2, min_samples_split=2, n_estimators=600; total time=   2.6s\n",
      "[CV] END bootstrap=False, class_weight=balanced, max_depth=40, max_features=sqrt, min_samples_leaf=2, min_samples_split=2, n_estimators=600; total time=   2.8s\n",
      "[CV] END bootstrap=False, class_weight=balanced, max_depth=40, max_features=sqrt, min_samples_leaf=2, min_samples_split=2, n_estimators=600; total time=   2.7s\n",
      "[CV] END bootstrap=False, class_weight=balanced, max_depth=40, max_features=sqrt, min_samples_leaf=2, min_samples_split=2, n_estimators=600; total time=   3.4s\n",
      "[CV] END bootstrap=False, class_weight=balanced, max_depth=40, max_features=sqrt, min_samples_leaf=2, min_samples_split=2, n_estimators=600; total time=   3.2s\n",
      "[CV] END bootstrap=False, class_weight=balanced, max_depth=40, max_features=sqrt, min_samples_leaf=2, min_samples_split=2, n_estimators=600; total time=   3.1s\n",
      "[CV] END bootstrap=False, class_weight=balanced, max_depth=40, max_features=sqrt, min_samples_leaf=2, min_samples_split=2, n_estimators=600; total time=   3.0s\n",
      "[CV] END bootstrap=False, class_weight=balanced, max_depth=40, max_features=sqrt, min_samples_leaf=2, min_samples_split=2, n_estimators=600; total time=   3.0s\n",
      "[CV] END bootstrap=False, class_weight=balanced, max_depth=40, max_features=sqrt, min_samples_leaf=2, min_samples_split=2, n_estimators=600; total time=   3.0s\n",
      "[CV] END bootstrap=False, class_weight=balanced, max_depth=40, max_features=sqrt, min_samples_leaf=2, min_samples_split=2, n_estimators=600; total time=   3.0s\n",
      "Fitting 10 folds for each of 1 candidates, totalling 10 fits\n",
      "[CV] END bootstrap=True, class_weight=balanced, max_depth=30, max_features=auto, min_samples_leaf=2, min_samples_split=5, n_estimators=200; total time=   0.6s\n",
      "[CV] END bootstrap=True, class_weight=balanced, max_depth=30, max_features=auto, min_samples_leaf=2, min_samples_split=5, n_estimators=200; total time=   0.7s\n",
      "[CV] END bootstrap=True, class_weight=balanced, max_depth=30, max_features=auto, min_samples_leaf=2, min_samples_split=5, n_estimators=200; total time=   0.6s\n",
      "[CV] END bootstrap=True, class_weight=balanced, max_depth=30, max_features=auto, min_samples_leaf=2, min_samples_split=5, n_estimators=200; total time=   0.7s\n",
      "[CV] END bootstrap=True, class_weight=balanced, max_depth=30, max_features=auto, min_samples_leaf=2, min_samples_split=5, n_estimators=200; total time=   0.7s\n",
      "[CV] END bootstrap=True, class_weight=balanced, max_depth=30, max_features=auto, min_samples_leaf=2, min_samples_split=5, n_estimators=200; total time=   0.9s\n",
      "[CV] END bootstrap=True, class_weight=balanced, max_depth=30, max_features=auto, min_samples_leaf=2, min_samples_split=5, n_estimators=200; total time=   0.9s\n",
      "[CV] END bootstrap=True, class_weight=balanced, max_depth=30, max_features=auto, min_samples_leaf=2, min_samples_split=5, n_estimators=200; total time=   0.7s\n",
      "[CV] END bootstrap=True, class_weight=balanced, max_depth=30, max_features=auto, min_samples_leaf=2, min_samples_split=5, n_estimators=200; total time=   0.7s\n",
      "[CV] END bootstrap=True, class_weight=balanced, max_depth=30, max_features=auto, min_samples_leaf=2, min_samples_split=5, n_estimators=200; total time=   0.7s\n",
      "Fitting 10 folds for each of 1 candidates, totalling 10 fits\n"
     ]
    },
    {
     "name": "stdout",
     "output_type": "stream",
     "text": [
      "[CV] END bootstrap=True, class_weight=balanced, max_depth=40, max_features=sqrt, min_samples_leaf=2, min_samples_split=2, n_estimators=400; total time=   1.3s\n",
      "[CV] END bootstrap=True, class_weight=balanced, max_depth=40, max_features=sqrt, min_samples_leaf=2, min_samples_split=2, n_estimators=400; total time=   1.4s\n",
      "[CV] END bootstrap=True, class_weight=balanced, max_depth=40, max_features=sqrt, min_samples_leaf=2, min_samples_split=2, n_estimators=400; total time=   1.4s\n",
      "[CV] END bootstrap=True, class_weight=balanced, max_depth=40, max_features=sqrt, min_samples_leaf=2, min_samples_split=2, n_estimators=400; total time=   1.3s\n",
      "[CV] END bootstrap=True, class_weight=balanced, max_depth=40, max_features=sqrt, min_samples_leaf=2, min_samples_split=2, n_estimators=400; total time=   1.2s\n",
      "[CV] END bootstrap=True, class_weight=balanced, max_depth=40, max_features=sqrt, min_samples_leaf=2, min_samples_split=2, n_estimators=400; total time=   1.2s\n",
      "[CV] END bootstrap=True, class_weight=balanced, max_depth=40, max_features=sqrt, min_samples_leaf=2, min_samples_split=2, n_estimators=400; total time=   1.3s\n",
      "[CV] END bootstrap=True, class_weight=balanced, max_depth=40, max_features=sqrt, min_samples_leaf=2, min_samples_split=2, n_estimators=400; total time=   1.3s\n",
      "[CV] END bootstrap=True, class_weight=balanced, max_depth=40, max_features=sqrt, min_samples_leaf=2, min_samples_split=2, n_estimators=400; total time=   1.4s\n",
      "[CV] END bootstrap=True, class_weight=balanced, max_depth=40, max_features=sqrt, min_samples_leaf=2, min_samples_split=2, n_estimators=400; total time=   1.4s\n",
      "Fitting 10 folds for each of 1 candidates, totalling 10 fits\n",
      "[CV] END bootstrap=True, class_weight=balanced, max_depth=10, max_features=auto, min_samples_leaf=2, min_samples_split=5, n_estimators=600; total time=   1.7s\n",
      "[CV] END bootstrap=True, class_weight=balanced, max_depth=10, max_features=auto, min_samples_leaf=2, min_samples_split=5, n_estimators=600; total time=   1.7s\n",
      "[CV] END bootstrap=True, class_weight=balanced, max_depth=10, max_features=auto, min_samples_leaf=2, min_samples_split=5, n_estimators=600; total time=   1.7s\n",
      "[CV] END bootstrap=True, class_weight=balanced, max_depth=10, max_features=auto, min_samples_leaf=2, min_samples_split=5, n_estimators=600; total time=   1.7s\n",
      "[CV] END bootstrap=True, class_weight=balanced, max_depth=10, max_features=auto, min_samples_leaf=2, min_samples_split=5, n_estimators=600; total time=   1.7s\n",
      "[CV] END bootstrap=True, class_weight=balanced, max_depth=10, max_features=auto, min_samples_leaf=2, min_samples_split=5, n_estimators=600; total time=   1.7s\n",
      "[CV] END bootstrap=True, class_weight=balanced, max_depth=10, max_features=auto, min_samples_leaf=2, min_samples_split=5, n_estimators=600; total time=   1.7s\n",
      "[CV] END bootstrap=True, class_weight=balanced, max_depth=10, max_features=auto, min_samples_leaf=2, min_samples_split=5, n_estimators=600; total time=   2.0s\n",
      "[CV] END bootstrap=True, class_weight=balanced, max_depth=10, max_features=auto, min_samples_leaf=2, min_samples_split=5, n_estimators=600; total time=   2.0s\n",
      "[CV] END bootstrap=True, class_weight=balanced, max_depth=10, max_features=auto, min_samples_leaf=2, min_samples_split=5, n_estimators=600; total time=   2.2s\n",
      "Fitting 10 folds for each of 1 candidates, totalling 10 fits\n",
      "[CV] END bootstrap=True, class_weight=balanced, max_depth=20, max_features=sqrt, min_samples_leaf=1, min_samples_split=2, n_estimators=400; total time=   1.5s\n",
      "[CV] END bootstrap=True, class_weight=balanced, max_depth=20, max_features=sqrt, min_samples_leaf=1, min_samples_split=2, n_estimators=400; total time=   1.6s\n",
      "[CV] END bootstrap=True, class_weight=balanced, max_depth=20, max_features=sqrt, min_samples_leaf=1, min_samples_split=2, n_estimators=400; total time=   1.9s\n",
      "[CV] END bootstrap=True, class_weight=balanced, max_depth=20, max_features=sqrt, min_samples_leaf=1, min_samples_split=2, n_estimators=400; total time=   1.7s\n",
      "[CV] END bootstrap=True, class_weight=balanced, max_depth=20, max_features=sqrt, min_samples_leaf=1, min_samples_split=2, n_estimators=400; total time=   1.6s\n",
      "[CV] END bootstrap=True, class_weight=balanced, max_depth=20, max_features=sqrt, min_samples_leaf=1, min_samples_split=2, n_estimators=400; total time=   1.6s\n",
      "[CV] END bootstrap=True, class_weight=balanced, max_depth=20, max_features=sqrt, min_samples_leaf=1, min_samples_split=2, n_estimators=400; total time=   1.5s\n",
      "[CV] END bootstrap=True, class_weight=balanced, max_depth=20, max_features=sqrt, min_samples_leaf=1, min_samples_split=2, n_estimators=400; total time=   1.5s\n",
      "[CV] END bootstrap=True, class_weight=balanced, max_depth=20, max_features=sqrt, min_samples_leaf=1, min_samples_split=2, n_estimators=400; total time=   1.5s\n",
      "[CV] END bootstrap=True, class_weight=balanced, max_depth=20, max_features=sqrt, min_samples_leaf=1, min_samples_split=2, n_estimators=400; total time=   1.7s\n",
      "Fitting 10 folds for each of 1 candidates, totalling 10 fits\n",
      "[CV] END bootstrap=True, class_weight=balanced, max_depth=10, max_features=auto, min_samples_leaf=4, min_samples_split=5, n_estimators=200; total time=   0.6s\n",
      "[CV] END bootstrap=True, class_weight=balanced, max_depth=10, max_features=auto, min_samples_leaf=4, min_samples_split=5, n_estimators=200; total time=   0.7s\n",
      "[CV] END bootstrap=True, class_weight=balanced, max_depth=10, max_features=auto, min_samples_leaf=4, min_samples_split=5, n_estimators=200; total time=   0.6s\n",
      "[CV] END bootstrap=True, class_weight=balanced, max_depth=10, max_features=auto, min_samples_leaf=4, min_samples_split=5, n_estimators=200; total time=   0.5s\n",
      "[CV] END bootstrap=True, class_weight=balanced, max_depth=10, max_features=auto, min_samples_leaf=4, min_samples_split=5, n_estimators=200; total time=   0.6s\n",
      "[CV] END bootstrap=True, class_weight=balanced, max_depth=10, max_features=auto, min_samples_leaf=4, min_samples_split=5, n_estimators=200; total time=   0.7s\n",
      "[CV] END bootstrap=True, class_weight=balanced, max_depth=10, max_features=auto, min_samples_leaf=4, min_samples_split=5, n_estimators=200; total time=   0.6s\n",
      "[CV] END bootstrap=True, class_weight=balanced, max_depth=10, max_features=auto, min_samples_leaf=4, min_samples_split=5, n_estimators=200; total time=   0.6s\n",
      "[CV] END bootstrap=True, class_weight=balanced, max_depth=10, max_features=auto, min_samples_leaf=4, min_samples_split=5, n_estimators=200; total time=   0.6s\n",
      "[CV] END bootstrap=True, class_weight=balanced, max_depth=10, max_features=auto, min_samples_leaf=4, min_samples_split=5, n_estimators=200; total time=   0.5s\n",
      "Fitting 10 folds for each of 1 candidates, totalling 10 fits\n",
      "[CV] END bootstrap=False, class_weight=balanced_subsample, max_depth=30, max_features=sqrt, min_samples_leaf=4, min_samples_split=5, n_estimators=400; total time=   1.8s\n",
      "[CV] END bootstrap=False, class_weight=balanced_subsample, max_depth=30, max_features=sqrt, min_samples_leaf=4, min_samples_split=5, n_estimators=400; total time=   1.9s\n",
      "[CV] END bootstrap=False, class_weight=balanced_subsample, max_depth=30, max_features=sqrt, min_samples_leaf=4, min_samples_split=5, n_estimators=400; total time=   2.0s\n",
      "[CV] END bootstrap=False, class_weight=balanced_subsample, max_depth=30, max_features=sqrt, min_samples_leaf=4, min_samples_split=5, n_estimators=400; total time=   2.0s\n",
      "[CV] END bootstrap=False, class_weight=balanced_subsample, max_depth=30, max_features=sqrt, min_samples_leaf=4, min_samples_split=5, n_estimators=400; total time=   2.0s\n",
      "[CV] END bootstrap=False, class_weight=balanced_subsample, max_depth=30, max_features=sqrt, min_samples_leaf=4, min_samples_split=5, n_estimators=400; total time=   2.0s\n",
      "[CV] END bootstrap=False, class_weight=balanced_subsample, max_depth=30, max_features=sqrt, min_samples_leaf=4, min_samples_split=5, n_estimators=400; total time=   2.1s\n",
      "[CV] END bootstrap=False, class_weight=balanced_subsample, max_depth=30, max_features=sqrt, min_samples_leaf=4, min_samples_split=5, n_estimators=400; total time=   2.2s\n",
      "[CV] END bootstrap=False, class_weight=balanced_subsample, max_depth=30, max_features=sqrt, min_samples_leaf=4, min_samples_split=5, n_estimators=400; total time=   2.1s\n",
      "[CV] END bootstrap=False, class_weight=balanced_subsample, max_depth=30, max_features=sqrt, min_samples_leaf=4, min_samples_split=5, n_estimators=400; total time=   2.0s\n"
     ]
    },
    {
     "name": "stdout",
     "output_type": "stream",
     "text": [
      "Fitting 10 folds for each of 1 candidates, totalling 10 fits\n",
      "[CV] END bootstrap=False, class_weight=balanced, max_depth=20, max_features=auto, min_samples_leaf=1, min_samples_split=2, n_estimators=400; total time=   1.9s\n",
      "[CV] END bootstrap=False, class_weight=balanced, max_depth=20, max_features=auto, min_samples_leaf=1, min_samples_split=2, n_estimators=400; total time=   2.1s\n",
      "[CV] END bootstrap=False, class_weight=balanced, max_depth=20, max_features=auto, min_samples_leaf=1, min_samples_split=2, n_estimators=400; total time=   2.1s\n",
      "[CV] END bootstrap=False, class_weight=balanced, max_depth=20, max_features=auto, min_samples_leaf=1, min_samples_split=2, n_estimators=400; total time=   2.1s\n",
      "[CV] END bootstrap=False, class_weight=balanced, max_depth=20, max_features=auto, min_samples_leaf=1, min_samples_split=2, n_estimators=400; total time=   2.1s\n",
      "[CV] END bootstrap=False, class_weight=balanced, max_depth=20, max_features=auto, min_samples_leaf=1, min_samples_split=2, n_estimators=400; total time=   2.3s\n",
      "[CV] END bootstrap=False, class_weight=balanced, max_depth=20, max_features=auto, min_samples_leaf=1, min_samples_split=2, n_estimators=400; total time=   2.1s\n",
      "[CV] END bootstrap=False, class_weight=balanced, max_depth=20, max_features=auto, min_samples_leaf=1, min_samples_split=2, n_estimators=400; total time=   2.1s\n",
      "[CV] END bootstrap=False, class_weight=balanced, max_depth=20, max_features=auto, min_samples_leaf=1, min_samples_split=2, n_estimators=400; total time=   2.7s\n",
      "[CV] END bootstrap=False, class_weight=balanced, max_depth=20, max_features=auto, min_samples_leaf=1, min_samples_split=2, n_estimators=400; total time=   2.3s\n",
      "Fitting 10 folds for each of 1 candidates, totalling 10 fits\n",
      "[CV] END bootstrap=True, class_weight=balanced_subsample, max_depth=30, max_features=auto, min_samples_leaf=1, min_samples_split=10, n_estimators=400; total time=   1.7s\n",
      "[CV] END bootstrap=True, class_weight=balanced_subsample, max_depth=30, max_features=auto, min_samples_leaf=1, min_samples_split=10, n_estimators=400; total time=   1.5s\n",
      "[CV] END bootstrap=True, class_weight=balanced_subsample, max_depth=30, max_features=auto, min_samples_leaf=1, min_samples_split=10, n_estimators=400; total time=   1.6s\n",
      "[CV] END bootstrap=True, class_weight=balanced_subsample, max_depth=30, max_features=auto, min_samples_leaf=1, min_samples_split=10, n_estimators=400; total time=   1.5s\n",
      "[CV] END bootstrap=True, class_weight=balanced_subsample, max_depth=30, max_features=auto, min_samples_leaf=1, min_samples_split=10, n_estimators=400; total time=   1.5s\n",
      "[CV] END bootstrap=True, class_weight=balanced_subsample, max_depth=30, max_features=auto, min_samples_leaf=1, min_samples_split=10, n_estimators=400; total time=   1.7s\n",
      "[CV] END bootstrap=True, class_weight=balanced_subsample, max_depth=30, max_features=auto, min_samples_leaf=1, min_samples_split=10, n_estimators=400; total time=   1.7s\n",
      "[CV] END bootstrap=True, class_weight=balanced_subsample, max_depth=30, max_features=auto, min_samples_leaf=1, min_samples_split=10, n_estimators=400; total time=   1.6s\n",
      "[CV] END bootstrap=True, class_weight=balanced_subsample, max_depth=30, max_features=auto, min_samples_leaf=1, min_samples_split=10, n_estimators=400; total time=   1.7s\n",
      "[CV] END bootstrap=True, class_weight=balanced_subsample, max_depth=30, max_features=auto, min_samples_leaf=1, min_samples_split=10, n_estimators=400; total time=   1.7s\n",
      "Fitting 10 folds for each of 1 candidates, totalling 10 fits\n",
      "[CV] END bootstrap=True, class_weight=balanced, max_depth=40, max_features=sqrt, min_samples_leaf=4, min_samples_split=10, n_estimators=600; total time=   1.8s\n",
      "[CV] END bootstrap=True, class_weight=balanced, max_depth=40, max_features=sqrt, min_samples_leaf=4, min_samples_split=10, n_estimators=600; total time=   2.1s\n",
      "[CV] END bootstrap=True, class_weight=balanced, max_depth=40, max_features=sqrt, min_samples_leaf=4, min_samples_split=10, n_estimators=600; total time=   2.0s\n",
      "[CV] END bootstrap=True, class_weight=balanced, max_depth=40, max_features=sqrt, min_samples_leaf=4, min_samples_split=10, n_estimators=600; total time=   2.0s\n",
      "[CV] END bootstrap=True, class_weight=balanced, max_depth=40, max_features=sqrt, min_samples_leaf=4, min_samples_split=10, n_estimators=600; total time=   2.0s\n",
      "[CV] END bootstrap=True, class_weight=balanced, max_depth=40, max_features=sqrt, min_samples_leaf=4, min_samples_split=10, n_estimators=600; total time=   2.0s\n",
      "[CV] END bootstrap=True, class_weight=balanced, max_depth=40, max_features=sqrt, min_samples_leaf=4, min_samples_split=10, n_estimators=600; total time=   2.0s\n",
      "[CV] END bootstrap=True, class_weight=balanced, max_depth=40, max_features=sqrt, min_samples_leaf=4, min_samples_split=10, n_estimators=600; total time=   2.1s\n",
      "[CV] END bootstrap=True, class_weight=balanced, max_depth=40, max_features=sqrt, min_samples_leaf=4, min_samples_split=10, n_estimators=600; total time=   2.1s\n",
      "[CV] END bootstrap=True, class_weight=balanced, max_depth=40, max_features=sqrt, min_samples_leaf=4, min_samples_split=10, n_estimators=600; total time=   2.0s\n",
      "Fitting 10 folds for each of 1 candidates, totalling 10 fits\n",
      "[CV] END bootstrap=False, class_weight=balanced_subsample, max_depth=30, max_features=auto, min_samples_leaf=2, min_samples_split=10, n_estimators=400; total time=   1.9s\n",
      "[CV] END bootstrap=False, class_weight=balanced_subsample, max_depth=30, max_features=auto, min_samples_leaf=2, min_samples_split=10, n_estimators=400; total time=   2.0s\n",
      "[CV] END bootstrap=False, class_weight=balanced_subsample, max_depth=30, max_features=auto, min_samples_leaf=2, min_samples_split=10, n_estimators=400; total time=   2.1s\n",
      "[CV] END bootstrap=False, class_weight=balanced_subsample, max_depth=30, max_features=auto, min_samples_leaf=2, min_samples_split=10, n_estimators=400; total time=   2.1s\n",
      "[CV] END bootstrap=False, class_weight=balanced_subsample, max_depth=30, max_features=auto, min_samples_leaf=2, min_samples_split=10, n_estimators=400; total time=   2.1s\n",
      "[CV] END bootstrap=False, class_weight=balanced_subsample, max_depth=30, max_features=auto, min_samples_leaf=2, min_samples_split=10, n_estimators=400; total time=   2.1s\n",
      "[CV] END bootstrap=False, class_weight=balanced_subsample, max_depth=30, max_features=auto, min_samples_leaf=2, min_samples_split=10, n_estimators=400; total time=   2.0s\n",
      "[CV] END bootstrap=False, class_weight=balanced_subsample, max_depth=30, max_features=auto, min_samples_leaf=2, min_samples_split=10, n_estimators=400; total time=   2.0s\n",
      "[CV] END bootstrap=False, class_weight=balanced_subsample, max_depth=30, max_features=auto, min_samples_leaf=2, min_samples_split=10, n_estimators=400; total time=   2.1s\n",
      "[CV] END bootstrap=False, class_weight=balanced_subsample, max_depth=30, max_features=auto, min_samples_leaf=2, min_samples_split=10, n_estimators=400; total time=   2.0s\n",
      "Fitting 10 folds for each of 1 candidates, totalling 10 fits\n",
      "[CV] END bootstrap=False, class_weight=balanced, max_depth=50, max_features=auto, min_samples_leaf=2, min_samples_split=5, n_estimators=100; total time=   0.4s\n",
      "[CV] END bootstrap=False, class_weight=balanced, max_depth=50, max_features=auto, min_samples_leaf=2, min_samples_split=5, n_estimators=100; total time=   0.4s\n",
      "[CV] END bootstrap=False, class_weight=balanced, max_depth=50, max_features=auto, min_samples_leaf=2, min_samples_split=5, n_estimators=100; total time=   0.4s\n",
      "[CV] END bootstrap=False, class_weight=balanced, max_depth=50, max_features=auto, min_samples_leaf=2, min_samples_split=5, n_estimators=100; total time=   0.4s\n",
      "[CV] END bootstrap=False, class_weight=balanced, max_depth=50, max_features=auto, min_samples_leaf=2, min_samples_split=5, n_estimators=100; total time=   0.5s\n",
      "[CV] END bootstrap=False, class_weight=balanced, max_depth=50, max_features=auto, min_samples_leaf=2, min_samples_split=5, n_estimators=100; total time=   0.5s\n",
      "[CV] END bootstrap=False, class_weight=balanced, max_depth=50, max_features=auto, min_samples_leaf=2, min_samples_split=5, n_estimators=100; total time=   0.5s\n",
      "[CV] END bootstrap=False, class_weight=balanced, max_depth=50, max_features=auto, min_samples_leaf=2, min_samples_split=5, n_estimators=100; total time=   0.5s\n"
     ]
    },
    {
     "name": "stdout",
     "output_type": "stream",
     "text": [
      "[CV] END bootstrap=False, class_weight=balanced, max_depth=50, max_features=auto, min_samples_leaf=2, min_samples_split=5, n_estimators=100; total time=   0.5s\n",
      "[CV] END bootstrap=False, class_weight=balanced, max_depth=50, max_features=auto, min_samples_leaf=2, min_samples_split=5, n_estimators=100; total time=   0.4s\n",
      "Fitting 10 folds for each of 1 candidates, totalling 10 fits\n",
      "[CV] END bootstrap=True, class_weight=balanced_subsample, max_depth=40, max_features=sqrt, min_samples_leaf=1, min_samples_split=5, n_estimators=100; total time=   0.3s\n",
      "[CV] END bootstrap=True, class_weight=balanced_subsample, max_depth=40, max_features=sqrt, min_samples_leaf=1, min_samples_split=5, n_estimators=100; total time=   0.3s\n",
      "[CV] END bootstrap=True, class_weight=balanced_subsample, max_depth=40, max_features=sqrt, min_samples_leaf=1, min_samples_split=5, n_estimators=100; total time=   0.3s\n",
      "[CV] END bootstrap=True, class_weight=balanced_subsample, max_depth=40, max_features=sqrt, min_samples_leaf=1, min_samples_split=5, n_estimators=100; total time=   0.3s\n",
      "[CV] END bootstrap=True, class_weight=balanced_subsample, max_depth=40, max_features=sqrt, min_samples_leaf=1, min_samples_split=5, n_estimators=100; total time=   0.3s\n",
      "[CV] END bootstrap=True, class_weight=balanced_subsample, max_depth=40, max_features=sqrt, min_samples_leaf=1, min_samples_split=5, n_estimators=100; total time=   0.3s\n",
      "[CV] END bootstrap=True, class_weight=balanced_subsample, max_depth=40, max_features=sqrt, min_samples_leaf=1, min_samples_split=5, n_estimators=100; total time=   0.4s\n",
      "[CV] END bootstrap=True, class_weight=balanced_subsample, max_depth=40, max_features=sqrt, min_samples_leaf=1, min_samples_split=5, n_estimators=100; total time=   0.4s\n",
      "[CV] END bootstrap=True, class_weight=balanced_subsample, max_depth=40, max_features=sqrt, min_samples_leaf=1, min_samples_split=5, n_estimators=100; total time=   0.3s\n",
      "[CV] END bootstrap=True, class_weight=balanced_subsample, max_depth=40, max_features=sqrt, min_samples_leaf=1, min_samples_split=5, n_estimators=100; total time=   0.3s\n",
      "Fitting 10 folds for each of 1 candidates, totalling 10 fits\n",
      "[CV] END bootstrap=True, class_weight=balanced_subsample, max_depth=30, max_features=sqrt, min_samples_leaf=4, min_samples_split=2, n_estimators=100; total time=   0.3s\n",
      "[CV] END bootstrap=True, class_weight=balanced_subsample, max_depth=30, max_features=sqrt, min_samples_leaf=4, min_samples_split=2, n_estimators=100; total time=   0.3s\n",
      "[CV] END bootstrap=True, class_weight=balanced_subsample, max_depth=30, max_features=sqrt, min_samples_leaf=4, min_samples_split=2, n_estimators=100; total time=   0.3s\n",
      "[CV] END bootstrap=True, class_weight=balanced_subsample, max_depth=30, max_features=sqrt, min_samples_leaf=4, min_samples_split=2, n_estimators=100; total time=   0.3s\n",
      "[CV] END bootstrap=True, class_weight=balanced_subsample, max_depth=30, max_features=sqrt, min_samples_leaf=4, min_samples_split=2, n_estimators=100; total time=   0.3s\n",
      "[CV] END bootstrap=True, class_weight=balanced_subsample, max_depth=30, max_features=sqrt, min_samples_leaf=4, min_samples_split=2, n_estimators=100; total time=   0.3s\n",
      "[CV] END bootstrap=True, class_weight=balanced_subsample, max_depth=30, max_features=sqrt, min_samples_leaf=4, min_samples_split=2, n_estimators=100; total time=   0.3s\n",
      "[CV] END bootstrap=True, class_weight=balanced_subsample, max_depth=30, max_features=sqrt, min_samples_leaf=4, min_samples_split=2, n_estimators=100; total time=   0.3s\n",
      "[CV] END bootstrap=True, class_weight=balanced_subsample, max_depth=30, max_features=sqrt, min_samples_leaf=4, min_samples_split=2, n_estimators=100; total time=   0.3s\n",
      "[CV] END bootstrap=True, class_weight=balanced_subsample, max_depth=30, max_features=sqrt, min_samples_leaf=4, min_samples_split=2, n_estimators=100; total time=   0.5s\n",
      "Fitting 10 folds for each of 1 candidates, totalling 10 fits\n",
      "[CV] END bootstrap=False, class_weight=balanced_subsample, max_depth=20, max_features=sqrt, min_samples_leaf=4, min_samples_split=10, n_estimators=100; total time=   0.4s\n",
      "[CV] END bootstrap=False, class_weight=balanced_subsample, max_depth=20, max_features=sqrt, min_samples_leaf=4, min_samples_split=10, n_estimators=100; total time=   0.4s\n",
      "[CV] END bootstrap=False, class_weight=balanced_subsample, max_depth=20, max_features=sqrt, min_samples_leaf=4, min_samples_split=10, n_estimators=100; total time=   0.4s\n",
      "[CV] END bootstrap=False, class_weight=balanced_subsample, max_depth=20, max_features=sqrt, min_samples_leaf=4, min_samples_split=10, n_estimators=100; total time=   0.4s\n",
      "[CV] END bootstrap=False, class_weight=balanced_subsample, max_depth=20, max_features=sqrt, min_samples_leaf=4, min_samples_split=10, n_estimators=100; total time=   0.5s\n",
      "[CV] END bootstrap=False, class_weight=balanced_subsample, max_depth=20, max_features=sqrt, min_samples_leaf=4, min_samples_split=10, n_estimators=100; total time=   0.5s\n",
      "[CV] END bootstrap=False, class_weight=balanced_subsample, max_depth=20, max_features=sqrt, min_samples_leaf=4, min_samples_split=10, n_estimators=100; total time=   0.5s\n",
      "[CV] END bootstrap=False, class_weight=balanced_subsample, max_depth=20, max_features=sqrt, min_samples_leaf=4, min_samples_split=10, n_estimators=100; total time=   0.5s\n",
      "[CV] END bootstrap=False, class_weight=balanced_subsample, max_depth=20, max_features=sqrt, min_samples_leaf=4, min_samples_split=10, n_estimators=100; total time=   0.5s\n",
      "[CV] END bootstrap=False, class_weight=balanced_subsample, max_depth=20, max_features=sqrt, min_samples_leaf=4, min_samples_split=10, n_estimators=100; total time=   0.4s\n",
      "Fitting 10 folds for each of 1 candidates, totalling 10 fits\n",
      "[CV] END bootstrap=True, class_weight=balanced_subsample, max_depth=30, max_features=sqrt, min_samples_leaf=1, min_samples_split=10, n_estimators=400; total time=   1.4s\n",
      "[CV] END bootstrap=True, class_weight=balanced_subsample, max_depth=30, max_features=sqrt, min_samples_leaf=1, min_samples_split=10, n_estimators=400; total time=   1.5s\n",
      "[CV] END bootstrap=True, class_weight=balanced_subsample, max_depth=30, max_features=sqrt, min_samples_leaf=1, min_samples_split=10, n_estimators=400; total time=   1.5s\n",
      "[CV] END bootstrap=True, class_weight=balanced_subsample, max_depth=30, max_features=sqrt, min_samples_leaf=1, min_samples_split=10, n_estimators=400; total time=   1.8s\n",
      "[CV] END bootstrap=True, class_weight=balanced_subsample, max_depth=30, max_features=sqrt, min_samples_leaf=1, min_samples_split=10, n_estimators=400; total time=   1.7s\n",
      "[CV] END bootstrap=True, class_weight=balanced_subsample, max_depth=30, max_features=sqrt, min_samples_leaf=1, min_samples_split=10, n_estimators=400; total time=   1.4s\n",
      "[CV] END bootstrap=True, class_weight=balanced_subsample, max_depth=30, max_features=sqrt, min_samples_leaf=1, min_samples_split=10, n_estimators=400; total time=   1.6s\n",
      "[CV] END bootstrap=True, class_weight=balanced_subsample, max_depth=30, max_features=sqrt, min_samples_leaf=1, min_samples_split=10, n_estimators=400; total time=   1.5s\n",
      "[CV] END bootstrap=True, class_weight=balanced_subsample, max_depth=30, max_features=sqrt, min_samples_leaf=1, min_samples_split=10, n_estimators=400; total time=   1.7s\n",
      "[CV] END bootstrap=True, class_weight=balanced_subsample, max_depth=30, max_features=sqrt, min_samples_leaf=1, min_samples_split=10, n_estimators=400; total time=   1.6s\n",
      "Fitting 10 folds for each of 1 candidates, totalling 10 fits\n",
      "[CV] END bootstrap=True, class_weight=balanced_subsample, max_depth=40, max_features=sqrt, min_samples_leaf=2, min_samples_split=10, n_estimators=200; total time=   0.7s\n",
      "[CV] END bootstrap=True, class_weight=balanced_subsample, max_depth=40, max_features=sqrt, min_samples_leaf=2, min_samples_split=10, n_estimators=200; total time=   0.7s\n",
      "[CV] END bootstrap=True, class_weight=balanced_subsample, max_depth=40, max_features=sqrt, min_samples_leaf=2, min_samples_split=10, n_estimators=200; total time=   0.8s\n",
      "[CV] END bootstrap=True, class_weight=balanced_subsample, max_depth=40, max_features=sqrt, min_samples_leaf=2, min_samples_split=10, n_estimators=200; total time=   0.8s\n",
      "[CV] END bootstrap=True, class_weight=balanced_subsample, max_depth=40, max_features=sqrt, min_samples_leaf=2, min_samples_split=10, n_estimators=200; total time=   0.9s\n"
     ]
    },
    {
     "name": "stdout",
     "output_type": "stream",
     "text": [
      "[CV] END bootstrap=True, class_weight=balanced_subsample, max_depth=40, max_features=sqrt, min_samples_leaf=2, min_samples_split=10, n_estimators=200; total time=   0.8s\n",
      "[CV] END bootstrap=True, class_weight=balanced_subsample, max_depth=40, max_features=sqrt, min_samples_leaf=2, min_samples_split=10, n_estimators=200; total time=   0.7s\n",
      "[CV] END bootstrap=True, class_weight=balanced_subsample, max_depth=40, max_features=sqrt, min_samples_leaf=2, min_samples_split=10, n_estimators=200; total time=   0.8s\n",
      "[CV] END bootstrap=True, class_weight=balanced_subsample, max_depth=40, max_features=sqrt, min_samples_leaf=2, min_samples_split=10, n_estimators=200; total time=   0.7s\n",
      "[CV] END bootstrap=True, class_weight=balanced_subsample, max_depth=40, max_features=sqrt, min_samples_leaf=2, min_samples_split=10, n_estimators=200; total time=   0.8s\n",
      "Wall time: 4min 48s\n"
     ]
    },
    {
     "data": {
      "text/plain": [
       "BayesSearchCV(cv=StratifiedKFold(n_splits=10, random_state=None, shuffle=False),\n",
       "              estimator=RandomForestClassifier(n_jobs=-1), n_iter=20,\n",
       "              scoring=make_scorer(f1_score, average=weighted),\n",
       "              search_spaces={'bootstrap': [True, False],\n",
       "                             'class_weight': ['balanced', 'balanced_subsample'],\n",
       "                             'max_depth': [10, 20, 30, 40, 50],\n",
       "                             'max_features': ['auto', 'sqrt'],\n",
       "                             'min_samples_leaf': [1, 2, 4],\n",
       "                             'min_samples_split': [2, 5, 10],\n",
       "                             'n_estimators': [100, 200, 400, 600]},\n",
       "              verbose=2)"
      ]
     },
     "execution_count": 82,
     "metadata": {},
     "output_type": "execute_result"
    }
   ],
   "source": [
    "%%time\n",
    "bs_cv_rf.fit(X_train_, y_train_)"
   ]
  },
  {
   "cell_type": "code",
   "execution_count": 83,
   "id": "8d1be986",
   "metadata": {},
   "outputs": [
    {
     "data": {
      "text/plain": [
       "OrderedDict([('bootstrap', True),\n",
       "             ('class_weight', 'balanced_subsample'),\n",
       "             ('max_depth', 30),\n",
       "             ('max_features', 'sqrt'),\n",
       "             ('min_samples_leaf', 1),\n",
       "             ('min_samples_split', 10),\n",
       "             ('n_estimators', 400)])"
      ]
     },
     "execution_count": 83,
     "metadata": {},
     "output_type": "execute_result"
    }
   ],
   "source": [
    "bs_cv_rf.best_params_"
   ]
  },
  {
   "cell_type": "code",
   "execution_count": 84,
   "id": "04a4fdb2",
   "metadata": {},
   "outputs": [
    {
     "data": {
      "text/plain": [
       "0.9090547834358352"
      ]
     },
     "execution_count": 84,
     "metadata": {},
     "output_type": "execute_result"
    }
   ],
   "source": [
    "bs_cv_rf.best_score_"
   ]
  },
  {
   "cell_type": "code",
   "execution_count": 85,
   "id": "292b52d6",
   "metadata": {},
   "outputs": [],
   "source": [
    "best_model = bs_cv_rf.best_estimator_"
   ]
  },
  {
   "cell_type": "code",
   "execution_count": 86,
   "id": "436d3d78",
   "metadata": {},
   "outputs": [
    {
     "name": "stdout",
     "output_type": "stream",
     "text": [
      "Prediction from the tuned model, F1-score: 0.9119965333209641\n"
     ]
    }
   ],
   "source": [
    "preds = best_model.predict(X_test_)\n",
    "print(f\"Prediction from the tuned model, F1-score: {metrics.f1_score(preds, y_test_, average='weighted')}\")"
   ]
  },
  {
   "cell_type": "code",
   "execution_count": 87,
   "id": "7e6c6436",
   "metadata": {},
   "outputs": [
    {
     "data": {
      "image/png": "[encoded data removed]",
      "text/plain": [
       "<Figure size 720x576 with 2 Axes>"
      ]
     },
     "metadata": {},
     "output_type": "display_data"
    }
   ],
   "source": [
    "cf = metrics.confusion_matrix(y_test_, best_model.predict(X_test_))\n",
    "plot_cf(cf)"
   ]
  },
  {
   "cell_type": "code",
   "execution_count": 90,
   "id": "3dd12e95",
   "metadata": {},
   "outputs": [
    {
     "name": "stdout",
     "output_type": "stream",
     "text": [
      "                   pre       rec       spe        f1       geo       iba       sup\n",
      "\n",
      "   BARBUNYA       0.90      0.86      0.99      0.88      0.92      0.84       397\n",
      "     BOMBAY       1.00      1.00      1.00      1.00      1.00      1.00       157\n",
      "       CALI       0.89      0.90      0.98      0.89      0.94      0.88       489\n",
      "   DERMASON       0.91      0.93      0.97      0.92      0.95      0.90      1064\n",
      "      HOROZ       0.95      0.94      0.99      0.95      0.97      0.93       578\n",
      "      SEKER       0.94      0.94      0.99      0.94      0.97      0.93       608\n",
      "       SIRA       0.87      0.86      0.97      0.86      0.91      0.82       791\n",
      "\n",
      "avg / total       0.91      0.91      0.98      0.91      0.95      0.89      4084\n",
      "\n"
     ]
    }
   ],
   "source": [
    "print(classification_report_imbalanced(y_test_, preds, target_names=np.unique(df.Class.values)))"
   ]
  },
  {
   "cell_type": "markdown",
   "id": "baf34687",
   "metadata": {},
   "source": [
    "**Obvservation**\n",
    "\n",
    "- After hyperparamter tuning we can clearly see a improvement in our model without any under-sampling or over-sampling\n",
    "- With the default `RandomForestClassifier` we get approx ~ 0.876 weighted f1-score.\n",
    "- After tuning we are now getting approx ~ 0.91 weighted f1-score, this is massive!"
   ]
  },
  {
   "cell_type": "markdown",
   "id": "f945a8b2",
   "metadata": {},
   "source": [
    "## Modelling with SVC"
   ]
  },
  {
   "cell_type": "code",
   "execution_count": 82,
   "id": "e84f1060",
   "metadata": {},
   "outputs": [
    {
     "name": "stderr",
     "output_type": "stream",
     "text": [
      "[Parallel(n_jobs=-1)]: Using backend LokyBackend with 8 concurrent workers.\n",
      "[Parallel(n_jobs=-1)]: Done   6 out of  10 | elapsed:    7.1s remaining:    4.7s\n",
      "[Parallel(n_jobs=-1)]: Done  10 out of  10 | elapsed:   10.6s finished\n"
     ]
    }
   ],
   "source": [
    "svc = svm.SVC()\n",
    "results = cross_validate(\n",
    "    estimator=svc, \n",
    "    X=X_train_, \n",
    "    y=y_train_, \n",
    "    scoring=scorer, \n",
    "    cv=StratifiedKFold(n_splits=10), \n",
    "    verbose=1, \n",
    "    n_jobs=-1,\n",
    "    return_estimator=True \n",
    ")"
   ]
  },
  {
   "cell_type": "code",
   "execution_count": 83,
   "id": "27072d31",
   "metadata": {},
   "outputs": [
    {
     "name": "stdout",
     "output_type": "stream",
     "text": [
      "F1-score (weighted) mean +/- std. dev.: 0.600 +/- 0.014\n"
     ]
    }
   ],
   "source": [
    "model = print_score(results)"
   ]
  },
  {
   "cell_type": "code",
   "execution_count": 84,
   "id": "348cd83c",
   "metadata": {},
   "outputs": [
    {
     "name": "stdout",
     "output_type": "stream",
     "text": [
      "Prediction from the tuned model, F1-score: 0.6780102849618075\n"
     ]
    }
   ],
   "source": [
    "preds = model.predict(X_test_)\n",
    "print(f\"Prediction from the tuned model, F1-score: {metrics.f1_score(preds, y_test_, average='weighted')}\")"
   ]
  },
  {
   "cell_type": "code",
   "execution_count": 51,
   "id": "e66d0d5a",
   "metadata": {
    "scrolled": false
   },
   "outputs": [
    {
     "data": {
      "image/png": "[encoded data removed]",
      "text/plain": [
       "<Figure size 720x576 with 2 Axes>"
      ]
     },
     "metadata": {},
     "output_type": "display_data"
    }
   ],
   "source": [
    "cf = metrics.confusion_matrix(y_test_, preds)\n",
    "plot_cf(cf)"
   ]
  },
  {
   "cell_type": "code",
   "execution_count": 52,
   "id": "a71c5571",
   "metadata": {},
   "outputs": [
    {
     "name": "stdout",
     "output_type": "stream",
     "text": [
      "                   pre       rec       spe        f1       geo       iba       sup\n",
      "\n",
      "   BARBUNYA       0.42      0.52      0.92      0.47      0.69      0.46       397\n",
      "     BOMBAY       0.30      0.86      0.92      0.45      0.89      0.79       157\n",
      "       CALI       0.00      0.00      1.00      0.00      0.00      0.00       489\n",
      "   DERMASON       0.40      0.98      0.48      0.57      0.69      0.50      1064\n",
      "      HOROZ       0.00      0.00      1.00      0.00      0.00      0.00       578\n",
      "      SEKER       0.58      0.51      0.94      0.54      0.69      0.45       608\n",
      "       SIRA       0.00      0.00      1.00      0.00      0.00      0.00       791\n",
      "\n",
      "avg / total       0.24      0.42      0.84      0.29      0.38      0.27      4084\n",
      "\n"
     ]
    },
    {
     "name": "stderr",
     "output_type": "stream",
     "text": [
      "C:\\Users\\abhi0\\anaconda3\\envs\\tensorflow\\lib\\site-packages\\sklearn\\metrics\\_classification.py:1318: UndefinedMetricWarning: Precision and F-score are ill-defined and being set to 0.0 in labels with no predicted samples. Use `zero_division` parameter to control this behavior.\n",
      "  _warn_prf(average, modifier, msg_start, len(result))\n"
     ]
    }
   ],
   "source": [
    "print(classification_report_imbalanced(y_test_, preds, target_names=np.unique(df.Class.values)))"
   ]
  },
  {
   "cell_type": "markdown",
   "id": "919b3186",
   "metadata": {},
   "source": [
    "### Tuning the SVC"
   ]
  },
  {
   "cell_type": "code",
   "execution_count": 68,
   "id": "8378a78e",
   "metadata": {},
   "outputs": [],
   "source": [
    "param_sgd = {\n",
    "    'alpha': [1e-4, 1e-3, 1e-2, 1e-1, 1e0, 1e1, 1e2, 1e3], # learning rate\n",
    "    'loss': ['hinge'], # logistic regression,\n",
    "    'penalty': ['l2'],\n",
    "    'n_jobs': [-1]\n",
    "}"
   ]
  },
  {
   "cell_type": "code",
   "execution_count": 69,
   "id": "9d4b1d8d",
   "metadata": {},
   "outputs": [],
   "source": [
    "bs_cv_svc = BayesSearchCV(\n",
    "    estimator=SGDClassifier(), \n",
    "    search_spaces=param_sgd, n_iter=5,\n",
    "    cv=StratifiedKFold(n_splits=10), verbose=2, scoring=scorer\n",
    ")"
   ]
  },
  {
   "cell_type": "code",
   "execution_count": 70,
   "id": "52c75d26",
   "metadata": {
    "scrolled": false
   },
   "outputs": [
    {
     "name": "stdout",
     "output_type": "stream",
     "text": [
      "Fitting 10 folds for each of 1 candidates, totalling 10 fits\n",
      "[CV] END ......alpha=0.01, loss=hinge, n_jobs=-1, penalty=l2; total time=   0.2s\n",
      "[CV] END ......alpha=0.01, loss=hinge, n_jobs=-1, penalty=l2; total time=   0.3s\n",
      "[CV] END ......alpha=0.01, loss=hinge, n_jobs=-1, penalty=l2; total time=   0.1s\n",
      "[CV] END ......alpha=0.01, loss=hinge, n_jobs=-1, penalty=l2; total time=   0.1s\n",
      "[CV] END ......alpha=0.01, loss=hinge, n_jobs=-1, penalty=l2; total time=   0.2s\n",
      "[CV] END ......alpha=0.01, loss=hinge, n_jobs=-1, penalty=l2; total time=   0.1s\n",
      "[CV] END ......alpha=0.01, loss=hinge, n_jobs=-1, penalty=l2; total time=   0.1s\n",
      "[CV] END ......alpha=0.01, loss=hinge, n_jobs=-1, penalty=l2; total time=   0.2s\n",
      "[CV] END ......alpha=0.01, loss=hinge, n_jobs=-1, penalty=l2; total time=   0.2s\n",
      "[CV] END ......alpha=0.01, loss=hinge, n_jobs=-1, penalty=l2; total time=   0.1s\n",
      "Fitting 10 folds for each of 1 candidates, totalling 10 fits\n",
      "[CV] END ......alpha=10.0, loss=hinge, n_jobs=-1, penalty=l2; total time=   0.1s\n",
      "[CV] END ......alpha=10.0, loss=hinge, n_jobs=-1, penalty=l2; total time=   0.1s\n",
      "[CV] END ......alpha=10.0, loss=hinge, n_jobs=-1, penalty=l2; total time=   0.1s\n",
      "[CV] END ......alpha=10.0, loss=hinge, n_jobs=-1, penalty=l2; total time=   0.3s\n",
      "[CV] END ......alpha=10.0, loss=hinge, n_jobs=-1, penalty=l2; total time=   0.3s\n",
      "[CV] END ......alpha=10.0, loss=hinge, n_jobs=-1, penalty=l2; total time=   0.1s\n",
      "[CV] END ......alpha=10.0, loss=hinge, n_jobs=-1, penalty=l2; total time=   0.1s\n",
      "[CV] END ......alpha=10.0, loss=hinge, n_jobs=-1, penalty=l2; total time=   0.1s\n",
      "[CV] END ......alpha=10.0, loss=hinge, n_jobs=-1, penalty=l2; total time=   0.1s\n",
      "[CV] END ......alpha=10.0, loss=hinge, n_jobs=-1, penalty=l2; total time=   0.1s\n",
      "Fitting 10 folds for each of 1 candidates, totalling 10 fits\n",
      "[CV] END ......alpha=0.01, loss=hinge, n_jobs=-1, penalty=l2; total time=   0.2s\n",
      "[CV] END ......alpha=0.01, loss=hinge, n_jobs=-1, penalty=l2; total time=   0.1s\n",
      "[CV] END ......alpha=0.01, loss=hinge, n_jobs=-1, penalty=l2; total time=   0.1s\n",
      "[CV] END ......alpha=0.01, loss=hinge, n_jobs=-1, penalty=l2; total time=   0.1s\n",
      "[CV] END ......alpha=0.01, loss=hinge, n_jobs=-1, penalty=l2; total time=   0.1s\n",
      "[CV] END ......alpha=0.01, loss=hinge, n_jobs=-1, penalty=l2; total time=   0.2s\n",
      "[CV] END ......alpha=0.01, loss=hinge, n_jobs=-1, penalty=l2; total time=   0.2s\n",
      "[CV] END ......alpha=0.01, loss=hinge, n_jobs=-1, penalty=l2; total time=   0.2s\n",
      "[CV] END ......alpha=0.01, loss=hinge, n_jobs=-1, penalty=l2; total time=   0.1s\n",
      "[CV] END ......alpha=0.01, loss=hinge, n_jobs=-1, penalty=l2; total time=   0.1s\n",
      "Fitting 10 folds for each of 1 candidates, totalling 10 fits\n",
      "[CV] END ....alpha=0.0001, loss=hinge, n_jobs=-1, penalty=l2; total time=   0.1s\n",
      "[CV] END ....alpha=0.0001, loss=hinge, n_jobs=-1, penalty=l2; total time=   0.1s\n",
      "[CV] END ....alpha=0.0001, loss=hinge, n_jobs=-1, penalty=l2; total time=   0.1s\n",
      "[CV] END ....alpha=0.0001, loss=hinge, n_jobs=-1, penalty=l2; total time=   0.2s\n",
      "[CV] END ....alpha=0.0001, loss=hinge, n_jobs=-1, penalty=l2; total time=   0.0s\n",
      "[CV] END ....alpha=0.0001, loss=hinge, n_jobs=-1, penalty=l2; total time=   0.1s\n",
      "[CV] END ....alpha=0.0001, loss=hinge, n_jobs=-1, penalty=l2; total time=   0.1s\n",
      "[CV] END ....alpha=0.0001, loss=hinge, n_jobs=-1, penalty=l2; total time=   0.0s\n",
      "[CV] END ....alpha=0.0001, loss=hinge, n_jobs=-1, penalty=l2; total time=   0.1s\n",
      "[CV] END ....alpha=0.0001, loss=hinge, n_jobs=-1, penalty=l2; total time=   0.1s\n",
      "Fitting 10 folds for each of 1 candidates, totalling 10 fits\n",
      "[CV] END .......alpha=0.1, loss=hinge, n_jobs=-1, penalty=l2; total time=   0.2s\n",
      "[CV] END .......alpha=0.1, loss=hinge, n_jobs=-1, penalty=l2; total time=   0.2s\n",
      "[CV] END .......alpha=0.1, loss=hinge, n_jobs=-1, penalty=l2; total time=   0.1s\n",
      "[CV] END .......alpha=0.1, loss=hinge, n_jobs=-1, penalty=l2; total time=   0.1s\n",
      "[CV] END .......alpha=0.1, loss=hinge, n_jobs=-1, penalty=l2; total time=   0.1s\n",
      "[CV] END .......alpha=0.1, loss=hinge, n_jobs=-1, penalty=l2; total time=   0.1s\n",
      "[CV] END .......alpha=0.1, loss=hinge, n_jobs=-1, penalty=l2; total time=   0.1s\n",
      "[CV] END .......alpha=0.1, loss=hinge, n_jobs=-1, penalty=l2; total time=   0.1s\n",
      "[CV] END .......alpha=0.1, loss=hinge, n_jobs=-1, penalty=l2; total time=   0.2s\n",
      "[CV] END .......alpha=0.1, loss=hinge, n_jobs=-1, penalty=l2; total time=   0.2s\n",
      "Wall time: 11.7 s\n"
     ]
    },
    {
     "data": {
      "text/plain": [
       "BayesSearchCV(cv=StratifiedKFold(n_splits=10, random_state=None, shuffle=False),\n",
       "              estimator=SGDClassifier(), n_iter=5,\n",
       "              scoring=make_scorer(f1_score, average=weighted),\n",
       "              search_spaces={'alpha': [0.0001, 0.001, 0.01, 0.1, 1.0, 10.0,\n",
       "                                       100.0, 1000.0],\n",
       "                             'loss': ['hinge'], 'n_jobs': [-1],\n",
       "                             'penalty': ['l2']},\n",
       "              verbose=2)"
      ]
     },
     "execution_count": 70,
     "metadata": {},
     "output_type": "execute_result"
    }
   ],
   "source": [
    "%%time\n",
    "bs_cv_svc.fit(X_train_, y_train_)"
   ]
  },
  {
   "cell_type": "code",
   "execution_count": 71,
   "id": "ed918de9",
   "metadata": {},
   "outputs": [
    {
     "data": {
      "text/plain": [
       "OrderedDict([('alpha', 0.1),\n",
       "             ('loss', 'hinge'),\n",
       "             ('n_jobs', -1),\n",
       "             ('penalty', 'l2')])"
      ]
     },
     "execution_count": 71,
     "metadata": {},
     "output_type": "execute_result"
    }
   ],
   "source": [
    "bs_cv_svc.best_params_"
   ]
  },
  {
   "cell_type": "code",
   "execution_count": 72,
   "id": "b9961419",
   "metadata": {},
   "outputs": [
    {
     "name": "stdout",
     "output_type": "stream",
     "text": [
      "Prediction from the tuned model, F1-score: 0.5353445633359721\n"
     ]
    }
   ],
   "source": [
    "best_model = bs_cv_svc.best_estimator_\n",
    "preds = best_model.predict(X_test_)\n",
    "print(f\"Prediction from the tuned model, F1-score: {metrics.f1_score(preds, y_test_, average='weighted')}\")"
   ]
  },
  {
   "cell_type": "code",
   "execution_count": 73,
   "id": "614341a0",
   "metadata": {},
   "outputs": [
    {
     "data": {
      "image/png": "[encoded data removed]",
      "text/plain": [
       "<Figure size 720x576 with 2 Axes>"
      ]
     },
     "metadata": {},
     "output_type": "display_data"
    }
   ],
   "source": [
    "cf = metrics.confusion_matrix(y_test_, preds)\n",
    "plot_cf(cf)"
   ]
  },
  {
   "cell_type": "code",
   "execution_count": 75,
   "id": "c37ed498",
   "metadata": {},
   "outputs": [
    {
     "name": "stdout",
     "output_type": "stream",
     "text": [
      "                   pre       rec       spe        f1       geo       iba       sup\n",
      "\n",
      "          0       0.16      0.03      0.98      0.05      0.17      0.03       397\n",
      "          1       0.96      1.00      1.00      0.98      1.00      1.00       157\n",
      "          2       0.00      0.00      1.00      0.00      0.00      0.00       489\n",
      "          3       0.79      0.83      0.92      0.81      0.87      0.76      1064\n",
      "          4       0.00      0.00      1.00      0.00      0.00      0.00       578\n",
      "          5       0.00      0.00      1.00      0.00      0.00      0.00       608\n",
      "          6       0.26      0.92      0.39      0.41      0.60      0.38       791\n",
      "\n",
      "avg / total       0.31      0.43      0.86      0.33      0.40      0.31      4084\n",
      "\n"
     ]
    },
    {
     "name": "stderr",
     "output_type": "stream",
     "text": [
      "C:\\Users\\abhi0\\anaconda3\\envs\\tensorflow\\lib\\site-packages\\sklearn\\metrics\\_classification.py:1318: UndefinedMetricWarning: Precision and F-score are ill-defined and being set to 0.0 in labels with no predicted samples. Use `zero_division` parameter to control this behavior.\n",
      "  _warn_prf(average, modifier, msg_start, len(result))\n"
     ]
    }
   ],
   "source": [
    "print(classification_report_imbalanced(y_test_, preds))"
   ]
  },
  {
   "cell_type": "markdown",
   "id": "8b6928fa",
   "metadata": {},
   "source": [
    "**Obvservation**\n",
    "\n",
    "- As, we can see that SGDClassifier with 'hinge-loss' performed the worst.\n",
    "- Random Forest perfor"
   ]
  },
  {
   "cell_type": "markdown",
   "id": "c5dfa293",
   "metadata": {},
   "source": [
    "## Saving both the models and the results"
   ]
  },
  {
   "cell_type": "code",
   "execution_count": 91,
   "id": "52ddb37d",
   "metadata": {},
   "outputs": [
    {
     "data": {
      "text/plain": [
       "['./ML_models/RandomForest-tuned.joblib']"
      ]
     },
     "execution_count": 91,
     "metadata": {},
     "output_type": "execute_result"
    }
   ],
   "source": [
    "dump(gs_cv_dt.best_estimator_, './ML_models/DecisionTree-tuned.joblib')\n",
    "dump(bs_cv_rf.best_estimator_, './ML_models/RandomForest-tuned.joblib')"
   ]
  },
  {
   "cell_type": "code",
   "execution_count": 92,
   "id": "0c78287e",
   "metadata": {},
   "outputs": [],
   "source": [
    "gs_cv_dt_df.to_csv('./ML_results/DecisionTree_GridSearchCV_results.csv', index=False)"
   ]
  },
  {
   "cell_type": "code",
   "execution_count": 93,
   "id": "454de3a2",
   "metadata": {},
   "outputs": [],
   "source": [
    "bs_cv_rf_df = pd.DataFrame(bs_cv_rf.cv_results_)\n",
    "bs_cv_rf_df.to_csv('./ML_results/RandomForest_BayesSearchCV_results.csv', index=False)"
   ]
  },
  {
   "cell_type": "code",
   "execution_count": null,
   "id": "66344ed4",
   "metadata": {},
   "outputs": [],
   "source": []
  }
 ],
 "metadata": {
  "kernelspec": {
   "display_name": "Python 3 (ipykernel)",
   "language": "python",
   "name": "python3"
  },
  "language_info": {
   "codemirror_mode": {
    "name": "ipython",
    "version": 3
   },
   "file_extension": ".py",
   "mimetype": "text/x-python",
   "name": "python",
   "nbconvert_exporter": "python",
   "pygments_lexer": "ipython3",
   "version": "3.8.5"
  },
  "toc": {
   "base_numbering": 1,
   "nav_menu": {},
   "number_sections": true,
   "sideBar": true,
   "skip_h1_title": false,
   "title_cell": "Table of Contents",
   "title_sidebar": "Contents",
   "toc_cell": true,
   "toc_position": {
    "height": "565.6px",
    "left": "24px",
    "top": "197.125px",
    "width": "273.825px"
   },
   "toc_section_display": true,
   "toc_window_display": true
  }
 },
 "nbformat": 4,
 "nbformat_minor": 5
}
