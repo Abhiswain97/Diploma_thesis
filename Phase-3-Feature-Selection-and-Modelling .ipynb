{
 "cells": [
  {
   "cell_type": "markdown",
   "id": "6918494c",
   "metadata": {
    "toc": true
   },
   "source": [
    "<h1>Table of Contents<span class=\"tocSkip\"></span></h1>\n",
    "<div class=\"toc\"><ul class=\"toc-item\"><li><span><a href=\"#Feature-Selection\" data-toc-modified-id=\"Feature-Selection-1\"><span class=\"toc-item-num\">1&nbsp;&nbsp;</span>Feature Selection</a></span><ul class=\"toc-item\"><li><span><a href=\"#Variance-Thresholding\" data-toc-modified-id=\"Variance-Thresholding-1.1\"><span class=\"toc-item-num\">1.1&nbsp;&nbsp;</span>Variance Thresholding</a></span></li><li><span><a href=\"#Anova-Test\" data-toc-modified-id=\"Anova-Test-1.2\"><span class=\"toc-item-num\">1.2&nbsp;&nbsp;</span>Anova Test</a></span></li><li><span><a href=\"#RFE-(Recursive-Feature-Elimination)\" data-toc-modified-id=\"RFE-(Recursive-Feature-Elimination)-1.3\"><span class=\"toc-item-num\">1.3&nbsp;&nbsp;</span>RFE (Recursive Feature Elimination)</a></span></li><li><span><a href=\"#Feature-Selection-using-RandomForest\" data-toc-modified-id=\"Feature-Selection-using-RandomForest-1.4\"><span class=\"toc-item-num\">1.4&nbsp;&nbsp;</span>Feature Selection using RandomForest</a></span></li><li><span><a href=\"#Conclusion\" data-toc-modified-id=\"Conclusion-1.5\"><span class=\"toc-item-num\">1.5&nbsp;&nbsp;</span>Conclusion</a></span></li></ul></li><li><span><a href=\"#Modelling\" data-toc-modified-id=\"Modelling-2\"><span class=\"toc-item-num\">2&nbsp;&nbsp;</span>Modelling</a></span><ul class=\"toc-item\"><li><span><a href=\"#Decision-tree-modelling\" data-toc-modified-id=\"Decision-tree-modelling-2.1\"><span class=\"toc-item-num\">2.1&nbsp;&nbsp;</span>Decision tree modelling</a></span></li><li><span><a href=\"#Hyperparameter-tuning-the-decision-tree\" data-toc-modified-id=\"Hyperparameter-tuning-the-decision-tree-2.2\"><span class=\"toc-item-num\">2.2&nbsp;&nbsp;</span>Hyperparameter tuning the decision tree</a></span></li></ul></li></ul></div>"
   ]
  },
  {
   "cell_type": "markdown",
   "id": "1d6575a4",
   "metadata": {},
   "source": [
    "<center><h1>Feature Selection</h1></center>"
   ]
  },
  {
   "cell_type": "code",
   "execution_count": 34,
   "id": "a48945d2",
   "metadata": {},
   "outputs": [],
   "source": [
    "import numpy as np\n",
    "import pandas as pd\n",
    "\n",
    "from sklearn.preprocessing import (\n",
    "    MinMaxScaler, \n",
    "    StandardScaler\n",
    ")\n",
    "\n",
    "from sklearn.tree import DecisionTreeClassifier\n",
    "from sklearn.ensemble import RandomForestClassifier\n",
    "\n",
    "from sklearn import metrics\n",
    "\n",
    "from sklearn.model_selection import train_test_split, KFold\n",
    "\n",
    "from sklearn.feature_selection import (\n",
    "    VarianceThreshold, \n",
    "    f_classif,\n",
    "    SelectKBest,\n",
    "    SelectFromModel,\n",
    "    RFE\n",
    ")\n",
    "\n",
    "from prettytable import PrettyTable"
   ]
  },
  {
   "cell_type": "code",
   "execution_count": 2,
   "id": "d1222750",
   "metadata": {},
   "outputs": [],
   "source": [
    "df = pd.read_csv(\"./Data_removed_outlier_iqr.csv\")"
   ]
  },
  {
   "cell_type": "code",
   "execution_count": 3,
   "id": "7b124fdd",
   "metadata": {},
   "outputs": [
    {
     "data": {
      "text/html": [
       "<div>\n",
       "<style scoped>\n",
       "    .dataframe tbody tr th:only-of-type {\n",
       "        vertical-align: middle;\n",
       "    }\n",
       "\n",
       "    .dataframe tbody tr th {\n",
       "        vertical-align: top;\n",
       "    }\n",
       "\n",
       "    .dataframe thead th {\n",
       "        text-align: right;\n",
       "    }\n",
       "</style>\n",
       "<table border=\"1\" class=\"dataframe\">\n",
       "  <thead>\n",
       "    <tr style=\"text-align: right;\">\n",
       "      <th></th>\n",
       "      <th>Area</th>\n",
       "      <th>Perimeter</th>\n",
       "      <th>MajorAxisLength</th>\n",
       "      <th>MinorAxisLength</th>\n",
       "      <th>AspectRation</th>\n",
       "      <th>Eccentricity</th>\n",
       "      <th>ConvexArea</th>\n",
       "      <th>EquivDiameter</th>\n",
       "      <th>Extent</th>\n",
       "      <th>Solidity</th>\n",
       "      <th>roundness</th>\n",
       "      <th>Compactness</th>\n",
       "      <th>ShapeFactor1</th>\n",
       "      <th>ShapeFactor2</th>\n",
       "      <th>ShapeFactor3</th>\n",
       "      <th>ShapeFactor4</th>\n",
       "      <th>Class</th>\n",
       "    </tr>\n",
       "  </thead>\n",
       "  <tbody>\n",
       "    <tr>\n",
       "      <th>0</th>\n",
       "      <td>35280</td>\n",
       "      <td>717.703</td>\n",
       "      <td>264.995250</td>\n",
       "      <td>170.035245</td>\n",
       "      <td>1.558472</td>\n",
       "      <td>0.766994</td>\n",
       "      <td>35772</td>\n",
       "      <td>211.943132</td>\n",
       "      <td>0.703616</td>\n",
       "      <td>0.986246</td>\n",
       "      <td>0.860694</td>\n",
       "      <td>0.799800</td>\n",
       "      <td>0.007511</td>\n",
       "      <td>0.001896</td>\n",
       "      <td>0.639680</td>\n",
       "      <td>0.996923</td>\n",
       "      <td>DERMASON</td>\n",
       "    </tr>\n",
       "    <tr>\n",
       "      <th>1</th>\n",
       "      <td>83296</td>\n",
       "      <td>1142.638</td>\n",
       "      <td>446.765889</td>\n",
       "      <td>239.013317</td>\n",
       "      <td>1.869209</td>\n",
       "      <td>0.844861</td>\n",
       "      <td>84270</td>\n",
       "      <td>325.662035</td>\n",
       "      <td>0.702588</td>\n",
       "      <td>0.988442</td>\n",
       "      <td>0.801709</td>\n",
       "      <td>0.728932</td>\n",
       "      <td>0.005364</td>\n",
       "      <td>0.000934</td>\n",
       "      <td>0.531342</td>\n",
       "      <td>0.993190</td>\n",
       "      <td>CALI</td>\n",
       "    </tr>\n",
       "    <tr>\n",
       "      <th>2</th>\n",
       "      <td>35594</td>\n",
       "      <td>689.634</td>\n",
       "      <td>254.572928</td>\n",
       "      <td>178.441837</td>\n",
       "      <td>1.426644</td>\n",
       "      <td>0.713214</td>\n",
       "      <td>35966</td>\n",
       "      <td>212.884213</td>\n",
       "      <td>0.811629</td>\n",
       "      <td>0.989657</td>\n",
       "      <td>0.940479</td>\n",
       "      <td>0.836241</td>\n",
       "      <td>0.007152</td>\n",
       "      <td>0.002157</td>\n",
       "      <td>0.699298</td>\n",
       "      <td>0.997650</td>\n",
       "      <td>DERMASON</td>\n",
       "    </tr>\n",
       "    <tr>\n",
       "      <th>3</th>\n",
       "      <td>52710</td>\n",
       "      <td>872.700</td>\n",
       "      <td>326.039383</td>\n",
       "      <td>207.399450</td>\n",
       "      <td>1.572036</td>\n",
       "      <td>0.771592</td>\n",
       "      <td>53280</td>\n",
       "      <td>259.060720</td>\n",
       "      <td>0.677419</td>\n",
       "      <td>0.989302</td>\n",
       "      <td>0.869707</td>\n",
       "      <td>0.794569</td>\n",
       "      <td>0.006186</td>\n",
       "      <td>0.001521</td>\n",
       "      <td>0.631340</td>\n",
       "      <td>0.992488</td>\n",
       "      <td>SIRA</td>\n",
       "    </tr>\n",
       "    <tr>\n",
       "      <th>4</th>\n",
       "      <td>62855</td>\n",
       "      <td>1004.759</td>\n",
       "      <td>413.879306</td>\n",
       "      <td>194.299306</td>\n",
       "      <td>2.130112</td>\n",
       "      <td>0.882954</td>\n",
       "      <td>63781</td>\n",
       "      <td>282.894807</td>\n",
       "      <td>0.598340</td>\n",
       "      <td>0.985482</td>\n",
       "      <td>0.782395</td>\n",
       "      <td>0.683520</td>\n",
       "      <td>0.006585</td>\n",
       "      <td>0.000887</td>\n",
       "      <td>0.467200</td>\n",
       "      <td>0.995188</td>\n",
       "      <td>HOROZ</td>\n",
       "    </tr>\n",
       "  </tbody>\n",
       "</table>\n",
       "</div>"
      ],
      "text/plain": [
       "    Area  Perimeter  MajorAxisLength  MinorAxisLength  AspectRation  \\\n",
       "0  35280    717.703       264.995250       170.035245      1.558472   \n",
       "1  83296   1142.638       446.765889       239.013317      1.869209   \n",
       "2  35594    689.634       254.572928       178.441837      1.426644   \n",
       "3  52710    872.700       326.039383       207.399450      1.572036   \n",
       "4  62855   1004.759       413.879306       194.299306      2.130112   \n",
       "\n",
       "   Eccentricity  ConvexArea  EquivDiameter    Extent  Solidity  roundness  \\\n",
       "0      0.766994       35772     211.943132  0.703616  0.986246   0.860694   \n",
       "1      0.844861       84270     325.662035  0.702588  0.988442   0.801709   \n",
       "2      0.713214       35966     212.884213  0.811629  0.989657   0.940479   \n",
       "3      0.771592       53280     259.060720  0.677419  0.989302   0.869707   \n",
       "4      0.882954       63781     282.894807  0.598340  0.985482   0.782395   \n",
       "\n",
       "   Compactness  ShapeFactor1  ShapeFactor2  ShapeFactor3  ShapeFactor4  \\\n",
       "0     0.799800      0.007511      0.001896      0.639680      0.996923   \n",
       "1     0.728932      0.005364      0.000934      0.531342      0.993190   \n",
       "2     0.836241      0.007152      0.002157      0.699298      0.997650   \n",
       "3     0.794569      0.006186      0.001521      0.631340      0.992488   \n",
       "4     0.683520      0.006585      0.000887      0.467200      0.995188   \n",
       "\n",
       "      Class  \n",
       "0  DERMASON  \n",
       "1      CALI  \n",
       "2  DERMASON  \n",
       "3      SIRA  \n",
       "4     HOROZ  "
      ]
     },
     "execution_count": 3,
     "metadata": {},
     "output_type": "execute_result"
    }
   ],
   "source": [
    "df.head()"
   ]
  },
  {
   "cell_type": "code",
   "execution_count": 4,
   "id": "957b2f2d",
   "metadata": {},
   "outputs": [],
   "source": [
    "X = df.drop('Class', axis=1)\n",
    "y = df['Class'].astype('category').cat.codes"
   ]
  },
  {
   "cell_type": "code",
   "execution_count": 5,
   "id": "a16fe526",
   "metadata": {},
   "outputs": [
    {
     "data": {
      "text/plain": [
       "Area               2.822575e+08\n",
       "Perimeter          2.552720e+04\n",
       "MajorAxisLength    4.481631e+03\n",
       "MinorAxisLength    8.885643e+02\n",
       "AspectRation       6.266115e-02\n",
       "Eccentricity       8.710692e-03\n",
       "ConvexArea         2.930358e+08\n",
       "EquivDiameter      1.712622e+03\n",
       "Extent             2.414141e-03\n",
       "Solidity           2.150092e-05\n",
       "roundness          3.647966e-03\n",
       "Compactness        3.917317e-03\n",
       "ShapeFactor1       9.303870e-07\n",
       "ShapeFactor2       3.371308e-07\n",
       "ShapeFactor3       1.007840e-02\n",
       "ShapeFactor4       1.858476e-05\n",
       "dtype: float64"
      ]
     },
     "execution_count": 5,
     "metadata": {},
     "output_type": "execute_result"
    }
   ],
   "source": [
    "X.var(numeric_only=True)"
   ]
  },
  {
   "cell_type": "code",
   "execution_count": 6,
   "id": "25ff0a5b",
   "metadata": {},
   "outputs": [],
   "source": [
    "scaler = MinMaxScaler(feature_range=(1, 10))\n",
    "X_scaled = scaler.fit_transform(X)"
   ]
  },
  {
   "cell_type": "code",
   "execution_count": 7,
   "id": "3c2cb786",
   "metadata": {},
   "outputs": [],
   "source": [
    "X_scaled_df = pd.DataFrame(X_scaled, columns=df.columns[:-1].tolist())"
   ]
  },
  {
   "cell_type": "code",
   "execution_count": 8,
   "id": "8ade6929",
   "metadata": {},
   "outputs": [
    {
     "data": {
      "text/html": [
       "<div>\n",
       "<style scoped>\n",
       "    .dataframe tbody tr th:only-of-type {\n",
       "        vertical-align: middle;\n",
       "    }\n",
       "\n",
       "    .dataframe tbody tr th {\n",
       "        vertical-align: top;\n",
       "    }\n",
       "\n",
       "    .dataframe thead th {\n",
       "        text-align: right;\n",
       "    }\n",
       "</style>\n",
       "<table border=\"1\" class=\"dataframe\">\n",
       "  <thead>\n",
       "    <tr style=\"text-align: right;\">\n",
       "      <th></th>\n",
       "      <th>Area</th>\n",
       "      <th>Perimeter</th>\n",
       "      <th>MajorAxisLength</th>\n",
       "      <th>MinorAxisLength</th>\n",
       "      <th>AspectRation</th>\n",
       "      <th>Eccentricity</th>\n",
       "      <th>ConvexArea</th>\n",
       "      <th>EquivDiameter</th>\n",
       "      <th>Extent</th>\n",
       "      <th>Solidity</th>\n",
       "      <th>roundness</th>\n",
       "      <th>Compactness</th>\n",
       "      <th>ShapeFactor1</th>\n",
       "      <th>ShapeFactor2</th>\n",
       "      <th>ShapeFactor3</th>\n",
       "      <th>ShapeFactor4</th>\n",
       "    </tr>\n",
       "  </thead>\n",
       "  <tbody>\n",
       "    <tr>\n",
       "      <th>0</th>\n",
       "      <td>2.098625</td>\n",
       "      <td>3.016910</td>\n",
       "      <td>3.087722</td>\n",
       "      <td>2.683622</td>\n",
       "      <td>4.417042</td>\n",
       "      <td>8.122872</td>\n",
       "      <td>2.109502</td>\n",
       "      <td>2.727128</td>\n",
       "      <td>5.293329</td>\n",
       "      <td>8.994033</td>\n",
       "      <td>7.665143</td>\n",
       "      <td>5.132964</td>\n",
       "      <td>6.251251</td>\n",
       "      <td>4.536541</td>\n",
       "      <td>4.656919</td>\n",
       "      <td>9.514172</td>\n",
       "    </tr>\n",
       "    <tr>\n",
       "      <th>1</th>\n",
       "      <td>5.648529</td>\n",
       "      <td>7.458373</td>\n",
       "      <td>7.750059</td>\n",
       "      <td>5.127365</td>\n",
       "      <td>6.406905</td>\n",
       "      <td>9.134902</td>\n",
       "      <td>5.675823</td>\n",
       "      <td>6.601082</td>\n",
       "      <td>5.263568</td>\n",
       "      <td>9.256008</td>\n",
       "      <td>6.605667</td>\n",
       "      <td>3.293449</td>\n",
       "      <td>3.512836</td>\n",
       "      <td>1.566158</td>\n",
       "      <td>2.929442</td>\n",
       "      <td>8.868550</td>\n",
       "    </tr>\n",
       "    <tr>\n",
       "      <th>2</th>\n",
       "      <td>2.121839</td>\n",
       "      <td>2.723530</td>\n",
       "      <td>2.820394</td>\n",
       "      <td>2.981450</td>\n",
       "      <td>3.572851</td>\n",
       "      <td>7.423900</td>\n",
       "      <td>2.123768</td>\n",
       "      <td>2.759187</td>\n",
       "      <td>8.420327</td>\n",
       "      <td>9.400973</td>\n",
       "      <td>9.098218</td>\n",
       "      <td>6.078862</td>\n",
       "      <td>5.793397</td>\n",
       "      <td>5.344295</td>\n",
       "      <td>5.607558</td>\n",
       "      <td>9.639797</td>\n",
       "    </tr>\n",
       "    <tr>\n",
       "      <th>3</th>\n",
       "      <td>3.387254</td>\n",
       "      <td>4.636954</td>\n",
       "      <td>4.653477</td>\n",
       "      <td>4.007355</td>\n",
       "      <td>4.503898</td>\n",
       "      <td>8.182628</td>\n",
       "      <td>3.396961</td>\n",
       "      <td>4.332238</td>\n",
       "      <td>4.534940</td>\n",
       "      <td>9.358605</td>\n",
       "      <td>7.827025</td>\n",
       "      <td>4.997184</td>\n",
       "      <td>4.560889</td>\n",
       "      <td>3.378249</td>\n",
       "      <td>4.523934</td>\n",
       "      <td>8.747308</td>\n",
       "    </tr>\n",
       "    <tr>\n",
       "      <th>4</th>\n",
       "      <td>4.137291</td>\n",
       "      <td>6.017248</td>\n",
       "      <td>6.906533</td>\n",
       "      <td>3.543245</td>\n",
       "      <td>8.077647</td>\n",
       "      <td>9.629996</td>\n",
       "      <td>4.169156</td>\n",
       "      <td>5.144171</td>\n",
       "      <td>2.245580</td>\n",
       "      <td>8.902799</td>\n",
       "      <td>6.258752</td>\n",
       "      <td>2.114683</td>\n",
       "      <td>5.069827</td>\n",
       "      <td>1.419470</td>\n",
       "      <td>1.906669</td>\n",
       "      <td>9.214072</td>\n",
       "    </tr>\n",
       "  </tbody>\n",
       "</table>\n",
       "</div>"
      ],
      "text/plain": [
       "       Area  Perimeter  MajorAxisLength  MinorAxisLength  AspectRation  \\\n",
       "0  2.098625   3.016910         3.087722         2.683622      4.417042   \n",
       "1  5.648529   7.458373         7.750059         5.127365      6.406905   \n",
       "2  2.121839   2.723530         2.820394         2.981450      3.572851   \n",
       "3  3.387254   4.636954         4.653477         4.007355      4.503898   \n",
       "4  4.137291   6.017248         6.906533         3.543245      8.077647   \n",
       "\n",
       "   Eccentricity  ConvexArea  EquivDiameter    Extent  Solidity  roundness  \\\n",
       "0      8.122872    2.109502       2.727128  5.293329  8.994033   7.665143   \n",
       "1      9.134902    5.675823       6.601082  5.263568  9.256008   6.605667   \n",
       "2      7.423900    2.123768       2.759187  8.420327  9.400973   9.098218   \n",
       "3      8.182628    3.396961       4.332238  4.534940  9.358605   7.827025   \n",
       "4      9.629996    4.169156       5.144171  2.245580  8.902799   6.258752   \n",
       "\n",
       "   Compactness  ShapeFactor1  ShapeFactor2  ShapeFactor3  ShapeFactor4  \n",
       "0     5.132964      6.251251      4.536541      4.656919      9.514172  \n",
       "1     3.293449      3.512836      1.566158      2.929442      8.868550  \n",
       "2     6.078862      5.793397      5.344295      5.607558      9.639797  \n",
       "3     4.997184      4.560889      3.378249      4.523934      8.747308  \n",
       "4     2.114683      5.069827      1.419470      1.906669      9.214072  "
      ]
     },
     "execution_count": 8,
     "metadata": {},
     "output_type": "execute_result"
    }
   ],
   "source": [
    "X_scaled_df.head()"
   ]
  },
  {
   "cell_type": "code",
   "execution_count": 9,
   "id": "e9b47752",
   "metadata": {},
   "outputs": [
    {
     "data": {
      "text/plain": [
       "Area               1.542790\n",
       "Perimeter          2.788754\n",
       "MajorAxisLength    2.948464\n",
       "MinorAxisLength    1.115265\n",
       "AspectRation       2.569564\n",
       "Eccentricity       1.471410\n",
       "ConvexArea         1.584579\n",
       "EquivDiameter      1.987491\n",
       "Extent             2.023309\n",
       "Solidity           0.306082\n",
       "roundness          1.176912\n",
       "Compactness        2.639371\n",
       "ShapeFactor1       1.512696\n",
       "ShapeFactor2       3.215439\n",
       "ShapeFactor3       2.562470\n",
       "ShapeFactor4       0.555753\n",
       "dtype: float64"
      ]
     },
     "execution_count": 9,
     "metadata": {},
     "output_type": "execute_result"
    }
   ],
   "source": [
    "X_scaled_df.var()"
   ]
  },
  {
   "cell_type": "markdown",
   "id": "11099d7b",
   "metadata": {},
   "source": [
    "## Variance Thresholding\n",
    "\n",
    "If the variance is low or close to zero, then a feature is approximately constant and will not improve the performance of the model. In that case, it should be removed.\n",
    "\n",
    "Variance will also be very low for a feature if only a handful of observations of that feature differ from a constant value.\n",
    "\n",
    "What we can do is set a threshold and drop features with low variance "
   ]
  },
  {
   "cell_type": "code",
   "execution_count": 10,
   "id": "9b441108",
   "metadata": {},
   "outputs": [],
   "source": [
    "vt = VarianceThreshold(threshold=1)\n",
    "X_scaled_var_feats = vt.fit_transform(X_scaled)"
   ]
  },
  {
   "cell_type": "code",
   "execution_count": 11,
   "id": "cc771ff5",
   "metadata": {},
   "outputs": [],
   "source": [
    "X_scaled_var_feats_df = pd.DataFrame(\n",
    "    X_scaled_var_feats, \n",
    "    columns=X_scaled_df.columns[vt.get_support(indices=True)]\n",
    ")"
   ]
  },
  {
   "cell_type": "code",
   "execution_count": 12,
   "id": "cc73c3fb",
   "metadata": {},
   "outputs": [
    {
     "data": {
      "text/html": [
       "<div>\n",
       "<style scoped>\n",
       "    .dataframe tbody tr th:only-of-type {\n",
       "        vertical-align: middle;\n",
       "    }\n",
       "\n",
       "    .dataframe tbody tr th {\n",
       "        vertical-align: top;\n",
       "    }\n",
       "\n",
       "    .dataframe thead th {\n",
       "        text-align: right;\n",
       "    }\n",
       "</style>\n",
       "<table border=\"1\" class=\"dataframe\">\n",
       "  <thead>\n",
       "    <tr style=\"text-align: right;\">\n",
       "      <th></th>\n",
       "      <th>Area</th>\n",
       "      <th>Perimeter</th>\n",
       "      <th>MajorAxisLength</th>\n",
       "      <th>MinorAxisLength</th>\n",
       "      <th>AspectRation</th>\n",
       "      <th>Eccentricity</th>\n",
       "      <th>ConvexArea</th>\n",
       "      <th>EquivDiameter</th>\n",
       "      <th>Extent</th>\n",
       "      <th>roundness</th>\n",
       "      <th>Compactness</th>\n",
       "      <th>ShapeFactor1</th>\n",
       "      <th>ShapeFactor2</th>\n",
       "      <th>ShapeFactor3</th>\n",
       "    </tr>\n",
       "  </thead>\n",
       "  <tbody>\n",
       "    <tr>\n",
       "      <th>0</th>\n",
       "      <td>2.098625</td>\n",
       "      <td>3.016910</td>\n",
       "      <td>3.087722</td>\n",
       "      <td>2.683622</td>\n",
       "      <td>4.417042</td>\n",
       "      <td>8.122872</td>\n",
       "      <td>2.109502</td>\n",
       "      <td>2.727128</td>\n",
       "      <td>5.293329</td>\n",
       "      <td>7.665143</td>\n",
       "      <td>5.132964</td>\n",
       "      <td>6.251251</td>\n",
       "      <td>4.536541</td>\n",
       "      <td>4.656919</td>\n",
       "    </tr>\n",
       "    <tr>\n",
       "      <th>1</th>\n",
       "      <td>5.648529</td>\n",
       "      <td>7.458373</td>\n",
       "      <td>7.750059</td>\n",
       "      <td>5.127365</td>\n",
       "      <td>6.406905</td>\n",
       "      <td>9.134902</td>\n",
       "      <td>5.675823</td>\n",
       "      <td>6.601082</td>\n",
       "      <td>5.263568</td>\n",
       "      <td>6.605667</td>\n",
       "      <td>3.293449</td>\n",
       "      <td>3.512836</td>\n",
       "      <td>1.566158</td>\n",
       "      <td>2.929442</td>\n",
       "    </tr>\n",
       "    <tr>\n",
       "      <th>2</th>\n",
       "      <td>2.121839</td>\n",
       "      <td>2.723530</td>\n",
       "      <td>2.820394</td>\n",
       "      <td>2.981450</td>\n",
       "      <td>3.572851</td>\n",
       "      <td>7.423900</td>\n",
       "      <td>2.123768</td>\n",
       "      <td>2.759187</td>\n",
       "      <td>8.420327</td>\n",
       "      <td>9.098218</td>\n",
       "      <td>6.078862</td>\n",
       "      <td>5.793397</td>\n",
       "      <td>5.344295</td>\n",
       "      <td>5.607558</td>\n",
       "    </tr>\n",
       "    <tr>\n",
       "      <th>3</th>\n",
       "      <td>3.387254</td>\n",
       "      <td>4.636954</td>\n",
       "      <td>4.653477</td>\n",
       "      <td>4.007355</td>\n",
       "      <td>4.503898</td>\n",
       "      <td>8.182628</td>\n",
       "      <td>3.396961</td>\n",
       "      <td>4.332238</td>\n",
       "      <td>4.534940</td>\n",
       "      <td>7.827025</td>\n",
       "      <td>4.997184</td>\n",
       "      <td>4.560889</td>\n",
       "      <td>3.378249</td>\n",
       "      <td>4.523934</td>\n",
       "    </tr>\n",
       "    <tr>\n",
       "      <th>4</th>\n",
       "      <td>4.137291</td>\n",
       "      <td>6.017248</td>\n",
       "      <td>6.906533</td>\n",
       "      <td>3.543245</td>\n",
       "      <td>8.077647</td>\n",
       "      <td>9.629996</td>\n",
       "      <td>4.169156</td>\n",
       "      <td>5.144171</td>\n",
       "      <td>2.245580</td>\n",
       "      <td>6.258752</td>\n",
       "      <td>2.114683</td>\n",
       "      <td>5.069827</td>\n",
       "      <td>1.419470</td>\n",
       "      <td>1.906669</td>\n",
       "    </tr>\n",
       "  </tbody>\n",
       "</table>\n",
       "</div>"
      ],
      "text/plain": [
       "       Area  Perimeter  MajorAxisLength  MinorAxisLength  AspectRation  \\\n",
       "0  2.098625   3.016910         3.087722         2.683622      4.417042   \n",
       "1  5.648529   7.458373         7.750059         5.127365      6.406905   \n",
       "2  2.121839   2.723530         2.820394         2.981450      3.572851   \n",
       "3  3.387254   4.636954         4.653477         4.007355      4.503898   \n",
       "4  4.137291   6.017248         6.906533         3.543245      8.077647   \n",
       "\n",
       "   Eccentricity  ConvexArea  EquivDiameter    Extent  roundness  Compactness  \\\n",
       "0      8.122872    2.109502       2.727128  5.293329   7.665143     5.132964   \n",
       "1      9.134902    5.675823       6.601082  5.263568   6.605667     3.293449   \n",
       "2      7.423900    2.123768       2.759187  8.420327   9.098218     6.078862   \n",
       "3      8.182628    3.396961       4.332238  4.534940   7.827025     4.997184   \n",
       "4      9.629996    4.169156       5.144171  2.245580   6.258752     2.114683   \n",
       "\n",
       "   ShapeFactor1  ShapeFactor2  ShapeFactor3  \n",
       "0      6.251251      4.536541      4.656919  \n",
       "1      3.512836      1.566158      2.929442  \n",
       "2      5.793397      5.344295      5.607558  \n",
       "3      4.560889      3.378249      4.523934  \n",
       "4      5.069827      1.419470      1.906669  "
      ]
     },
     "execution_count": 12,
     "metadata": {},
     "output_type": "execute_result"
    }
   ],
   "source": [
    "X_scaled_var_feats_df.head()"
   ]
  },
  {
   "cell_type": "markdown",
   "id": "87fd72c0",
   "metadata": {},
   "source": [
    "**Obvservation**\n",
    "\n",
    " - As we can see 2 low variance features are removed which are `Solidity` and `ShapeFactor4`"
   ]
  },
  {
   "cell_type": "markdown",
   "id": "b7ef1cbe",
   "metadata": {},
   "source": [
    "## Anova Test\n",
    "\n",
    "Analysis of variance (ANOVA) is a statistical technique that is used to check if the means of two or more groups are significantly different from each other. ANOVA checks the impact of one or more factors by comparing the means of different samples. \n",
    "\n",
    "If we had categorical variables we would do another test called the $\\chi^2$ test. Since we have all numeric features we do the ANOVA test."
   ]
  },
  {
   "cell_type": "code",
   "execution_count": 13,
   "id": "2d1cf863",
   "metadata": {},
   "outputs": [
    {
     "data": {
      "text/plain": [
       "SelectKBest(k=8)"
      ]
     },
     "execution_count": 13,
     "metadata": {},
     "output_type": "execute_result"
    }
   ],
   "source": [
    "anova_filter = SelectKBest(score_func=f_classif, k=8)\n",
    "anova_filter.fit(X, y)"
   ]
  },
  {
   "cell_type": "code",
   "execution_count": 14,
   "id": "6ca72c37",
   "metadata": {},
   "outputs": [],
   "source": [
    "anova_df = pd.DataFrame({\n",
    "    'features': df.columns[anova_filter.get_support(indices=True)],\n",
    "    'scores': anova_filter.scores_[anova_filter.get_support(indices=True)]\n",
    "})"
   ]
  },
  {
   "cell_type": "code",
   "execution_count": 15,
   "id": "1c9fe7e7",
   "metadata": {},
   "outputs": [
    {
     "data": {
      "text/html": [
       "<div>\n",
       "<style scoped>\n",
       "    .dataframe tbody tr th:only-of-type {\n",
       "        vertical-align: middle;\n",
       "    }\n",
       "\n",
       "    .dataframe tbody tr th {\n",
       "        vertical-align: top;\n",
       "    }\n",
       "\n",
       "    .dataframe thead th {\n",
       "        text-align: right;\n",
       "    }\n",
       "</style>\n",
       "<table border=\"1\" class=\"dataframe\">\n",
       "  <thead>\n",
       "    <tr style=\"text-align: right;\">\n",
       "      <th></th>\n",
       "      <th>features</th>\n",
       "      <th>scores</th>\n",
       "    </tr>\n",
       "  </thead>\n",
       "  <tbody>\n",
       "    <tr>\n",
       "      <th>0</th>\n",
       "      <td>Area</td>\n",
       "      <td>12106.046095</td>\n",
       "    </tr>\n",
       "    <tr>\n",
       "      <th>1</th>\n",
       "      <td>Perimeter</td>\n",
       "      <td>13571.034479</td>\n",
       "    </tr>\n",
       "    <tr>\n",
       "      <th>2</th>\n",
       "      <td>MajorAxisLength</td>\n",
       "      <td>13811.838587</td>\n",
       "    </tr>\n",
       "    <tr>\n",
       "      <th>3</th>\n",
       "      <td>AspectRation</td>\n",
       "      <td>10508.820302</td>\n",
       "    </tr>\n",
       "    <tr>\n",
       "      <th>4</th>\n",
       "      <td>ConvexArea</td>\n",
       "      <td>12251.935448</td>\n",
       "    </tr>\n",
       "    <tr>\n",
       "      <th>5</th>\n",
       "      <td>EquivDiameter</td>\n",
       "      <td>12284.518500</td>\n",
       "    </tr>\n",
       "    <tr>\n",
       "      <th>6</th>\n",
       "      <td>Compactness</td>\n",
       "      <td>10309.663853</td>\n",
       "    </tr>\n",
       "    <tr>\n",
       "      <th>7</th>\n",
       "      <td>ShapeFactor2</td>\n",
       "      <td>10833.619482</td>\n",
       "    </tr>\n",
       "  </tbody>\n",
       "</table>\n",
       "</div>"
      ],
      "text/plain": [
       "          features        scores\n",
       "0             Area  12106.046095\n",
       "1        Perimeter  13571.034479\n",
       "2  MajorAxisLength  13811.838587\n",
       "3     AspectRation  10508.820302\n",
       "4       ConvexArea  12251.935448\n",
       "5    EquivDiameter  12284.518500\n",
       "6      Compactness  10309.663853\n",
       "7     ShapeFactor2  10833.619482"
      ]
     },
     "execution_count": 15,
     "metadata": {},
     "output_type": "execute_result"
    }
   ],
   "source": [
    "anova_df"
   ]
  },
  {
   "cell_type": "markdown",
   "id": "1d1591a2",
   "metadata": {},
   "source": [
    "**Obvservation**\n",
    "\n",
    " - We have selected 8 best features according to the anova scores. \n",
    " - We can select more features also, it can be a thought of as a hyperparameter to be tuned i.e trying different models with different number of features\n",
    " - I selected the number 8 as in the previous EDA notebook we saw that 8 principal components could be used to describe the whole dataset"
   ]
  },
  {
   "cell_type": "markdown",
   "id": "d48ea860",
   "metadata": {},
   "source": [
    "## RFE (Recursive Feature Elimination)\n",
    "\n",
    "Recursive Feature Elimination selects features by recursively considering smaller subsets of features by pruning the least important feature at each step. Here models are created iteartively and in each iteration it determines the best and worst performing features and this process continues until all the features are explored.Next ranking is given on eah feature based on their elimination orde. In the worst case, if a dataset contains N number of features RFE will do a greedy search for $N^2$ combinations of features."
   ]
  },
  {
   "cell_type": "code",
   "execution_count": 16,
   "id": "f7648f42",
   "metadata": {},
   "outputs": [
    {
     "name": "stdout",
     "output_type": "stream",
     "text": [
      "Fitting estimator with 16 features.\n",
      "Fitting estimator with 15 features.\n",
      "Fitting estimator with 14 features.\n",
      "Fitting estimator with 13 features.\n",
      "Fitting estimator with 12 features.\n",
      "Fitting estimator with 11 features.\n",
      "Fitting estimator with 10 features.\n",
      "Fitting estimator with 9 features.\n"
     ]
    },
    {
     "data": {
      "text/plain": [
       "RFE(estimator=DecisionTreeClassifier(), n_features_to_select=8, verbose=3)"
      ]
     },
     "execution_count": 16,
     "metadata": {},
     "output_type": "execute_result"
    }
   ],
   "source": [
    "rfe = RFE(estimator=DecisionTreeClassifier(), n_features_to_select=8, verbose=3)\n",
    "rfe.fit(X, y)"
   ]
  },
  {
   "cell_type": "code",
   "execution_count": 19,
   "id": "150de8cf",
   "metadata": {},
   "outputs": [
    {
     "data": {
      "text/plain": [
       "array(['Perimeter', 'MajorAxisLength', 'MinorAxisLength', 'Solidity',\n",
       "       'roundness', 'ShapeFactor1', 'ShapeFactor3', 'ShapeFactor4'],\n",
       "      dtype=object)"
      ]
     },
     "execution_count": 19,
     "metadata": {},
     "output_type": "execute_result"
    }
   ],
   "source": [
    "rfe.get_feature_names_out()"
   ]
  },
  {
   "cell_type": "code",
   "execution_count": 20,
   "id": "56de84b9",
   "metadata": {},
   "outputs": [],
   "source": [
    "rfe_df = pd.DataFrame(\n",
    "    {\n",
    "        'features': X.columns.to_list(),\n",
    "        'rank': rfe.ranking_,\n",
    "        'selected': rfe.support_\n",
    "    }\n",
    ")"
   ]
  },
  {
   "cell_type": "code",
   "execution_count": 21,
   "id": "8014193b",
   "metadata": {},
   "outputs": [
    {
     "data": {
      "text/html": [
       "<div>\n",
       "<style scoped>\n",
       "    .dataframe tbody tr th:only-of-type {\n",
       "        vertical-align: middle;\n",
       "    }\n",
       "\n",
       "    .dataframe tbody tr th {\n",
       "        vertical-align: top;\n",
       "    }\n",
       "\n",
       "    .dataframe thead th {\n",
       "        text-align: right;\n",
       "    }\n",
       "</style>\n",
       "<table border=\"1\" class=\"dataframe\">\n",
       "  <thead>\n",
       "    <tr style=\"text-align: right;\">\n",
       "      <th></th>\n",
       "      <th>features</th>\n",
       "      <th>rank</th>\n",
       "      <th>selected</th>\n",
       "    </tr>\n",
       "  </thead>\n",
       "  <tbody>\n",
       "    <tr>\n",
       "      <th>0</th>\n",
       "      <td>Area</td>\n",
       "      <td>8</td>\n",
       "      <td>False</td>\n",
       "    </tr>\n",
       "    <tr>\n",
       "      <th>1</th>\n",
       "      <td>Perimeter</td>\n",
       "      <td>1</td>\n",
       "      <td>True</td>\n",
       "    </tr>\n",
       "    <tr>\n",
       "      <th>2</th>\n",
       "      <td>MajorAxisLength</td>\n",
       "      <td>1</td>\n",
       "      <td>True</td>\n",
       "    </tr>\n",
       "    <tr>\n",
       "      <th>3</th>\n",
       "      <td>MinorAxisLength</td>\n",
       "      <td>1</td>\n",
       "      <td>True</td>\n",
       "    </tr>\n",
       "    <tr>\n",
       "      <th>4</th>\n",
       "      <td>AspectRation</td>\n",
       "      <td>9</td>\n",
       "      <td>False</td>\n",
       "    </tr>\n",
       "    <tr>\n",
       "      <th>5</th>\n",
       "      <td>Eccentricity</td>\n",
       "      <td>6</td>\n",
       "      <td>False</td>\n",
       "    </tr>\n",
       "    <tr>\n",
       "      <th>6</th>\n",
       "      <td>ConvexArea</td>\n",
       "      <td>5</td>\n",
       "      <td>False</td>\n",
       "    </tr>\n",
       "    <tr>\n",
       "      <th>7</th>\n",
       "      <td>EquivDiameter</td>\n",
       "      <td>2</td>\n",
       "      <td>False</td>\n",
       "    </tr>\n",
       "    <tr>\n",
       "      <th>8</th>\n",
       "      <td>Extent</td>\n",
       "      <td>4</td>\n",
       "      <td>False</td>\n",
       "    </tr>\n",
       "    <tr>\n",
       "      <th>9</th>\n",
       "      <td>Solidity</td>\n",
       "      <td>1</td>\n",
       "      <td>True</td>\n",
       "    </tr>\n",
       "    <tr>\n",
       "      <th>10</th>\n",
       "      <td>roundness</td>\n",
       "      <td>1</td>\n",
       "      <td>True</td>\n",
       "    </tr>\n",
       "    <tr>\n",
       "      <th>11</th>\n",
       "      <td>Compactness</td>\n",
       "      <td>3</td>\n",
       "      <td>False</td>\n",
       "    </tr>\n",
       "    <tr>\n",
       "      <th>12</th>\n",
       "      <td>ShapeFactor1</td>\n",
       "      <td>1</td>\n",
       "      <td>True</td>\n",
       "    </tr>\n",
       "    <tr>\n",
       "      <th>13</th>\n",
       "      <td>ShapeFactor2</td>\n",
       "      <td>7</td>\n",
       "      <td>False</td>\n",
       "    </tr>\n",
       "    <tr>\n",
       "      <th>14</th>\n",
       "      <td>ShapeFactor3</td>\n",
       "      <td>1</td>\n",
       "      <td>True</td>\n",
       "    </tr>\n",
       "    <tr>\n",
       "      <th>15</th>\n",
       "      <td>ShapeFactor4</td>\n",
       "      <td>1</td>\n",
       "      <td>True</td>\n",
       "    </tr>\n",
       "  </tbody>\n",
       "</table>\n",
       "</div>"
      ],
      "text/plain": [
       "           features  rank  selected\n",
       "0              Area     8     False\n",
       "1         Perimeter     1      True\n",
       "2   MajorAxisLength     1      True\n",
       "3   MinorAxisLength     1      True\n",
       "4      AspectRation     9     False\n",
       "5      Eccentricity     6     False\n",
       "6        ConvexArea     5     False\n",
       "7     EquivDiameter     2     False\n",
       "8            Extent     4     False\n",
       "9          Solidity     1      True\n",
       "10        roundness     1      True\n",
       "11      Compactness     3     False\n",
       "12     ShapeFactor1     1      True\n",
       "13     ShapeFactor2     7     False\n",
       "14     ShapeFactor3     1      True\n",
       "15     ShapeFactor4     1      True"
      ]
     },
     "execution_count": 21,
     "metadata": {},
     "output_type": "execute_result"
    }
   ],
   "source": [
    "rfe_df"
   ]
  },
  {
   "cell_type": "markdown",
   "id": "b9b222ef",
   "metadata": {},
   "source": [
    "**Obvservation**\n",
    "\n",
    " - We can see that the ones which are marked as `True` are the features selected."
   ]
  },
  {
   "cell_type": "markdown",
   "id": "ec59b406",
   "metadata": {},
   "source": [
    "## Feature Selection using RandomForest\n",
    "\n",
    "Feature selection using Random forest comes under the category of Embedded methods. Embedded methods combine the qualities of filter and wrapper methods. They are implemented by algorithms that have their own built-in feature selection methods. Some of the benefits of embedded methods are :\n",
    "\n",
    "1. They are highly accurate.\n",
    "2. They generalize better.\n",
    "3. They are interpretable"
   ]
  },
  {
   "cell_type": "code",
   "execution_count": 22,
   "id": "f6047031",
   "metadata": {},
   "outputs": [],
   "source": [
    "X_train, X_test, y_train, y_test = train_test_split(X, y, test_size=0.3)"
   ]
  },
  {
   "cell_type": "code",
   "execution_count": 23,
   "id": "64fe432d",
   "metadata": {
    "scrolled": false
   },
   "outputs": [
    {
     "name": "stderr",
     "output_type": "stream",
     "text": [
      "[Parallel(n_jobs=-1)]: Using backend ThreadingBackend with 8 concurrent workers.\n",
      "[Parallel(n_jobs=-1)]: Done  34 tasks      | elapsed:    0.1s\n",
      "[Parallel(n_jobs=-1)]: Done 100 out of 100 | elapsed:    0.5s finished\n"
     ]
    },
    {
     "data": {
      "text/plain": [
       "SelectFromModel(estimator=RandomForestClassifier(n_jobs=-1, verbose=1))"
      ]
     },
     "execution_count": 23,
     "metadata": {},
     "output_type": "execute_result"
    }
   ],
   "source": [
    "selector = SelectFromModel(estimator=RandomForestClassifier(n_estimators=100, verbose=1, n_jobs=-1))\n",
    "selector.fit(X_train, y_train)"
   ]
  },
  {
   "cell_type": "code",
   "execution_count": 24,
   "id": "99cf6bff",
   "metadata": {},
   "outputs": [
    {
     "name": "stdout",
     "output_type": "stream",
     "text": [
      "Selected features are: ['Perimeter' 'MajorAxisLength' 'MinorAxisLength' 'AspectRation'\n",
      " 'ConvexArea' 'Compactness' 'ShapeFactor1' 'ShapeFactor3']\n"
     ]
    }
   ],
   "source": [
    "print(f\"Selected features are: {selector.get_feature_names_out()}\")"
   ]
  },
  {
   "cell_type": "markdown",
   "id": "5844a1a6",
   "metadata": {},
   "source": [
    "## Conclusion\n",
    "\n",
    "I now enlist all the methods used and the features selected"
   ]
  },
  {
   "cell_type": "code",
   "execution_count": 25,
   "id": "277c035f",
   "metadata": {},
   "outputs": [],
   "source": [
    "methods = [\n",
    "    'Variance Thresholding (threshold = 1)',\n",
    "    'ANOVA F-test',\n",
    "    'Recursive Feature Elimination (estimator = DecisionTreeClassifier)',\n",
    "    'Using RandomForest feature importance'\n",
    "]\n",
    "\n",
    "features = [\n",
    "    X_scaled_var_feats_df.columns.to_list(),\n",
    "    df.columns[anova_filter.get_support(indices=True)].to_list(),\n",
    "    rfe.get_feature_names_out().tolist(),\n",
    "    selector.get_feature_names_out().tolist()\n",
    "]"
   ]
  },
  {
   "cell_type": "code",
   "execution_count": 26,
   "id": "a3d05dc2",
   "metadata": {},
   "outputs": [],
   "source": [
    "table = PrettyTable(['Methods', 'Features Selected'])\n",
    "for m, f in zip(methods, features):\n",
    "    table.add_row([m, f])"
   ]
  },
  {
   "cell_type": "code",
   "execution_count": 27,
   "id": "b192246c",
   "metadata": {},
   "outputs": [
    {
     "data": {
      "text/html": [
       "<table>\n",
       "    <thead>\n",
       "        <tr>\n",
       "            <th>Methods</th>\n",
       "            <th>Features Selected</th>\n",
       "        </tr>\n",
       "    </thead>\n",
       "    <tbody>\n",
       "        <tr>\n",
       "            <td>Variance Thresholding (threshold = 1)</td>\n",
       "            <td>[&#x27;Area&#x27;, &#x27;Perimeter&#x27;, &#x27;MajorAxisLength&#x27;, &#x27;MinorAxisLength&#x27;, &#x27;AspectRation&#x27;, &#x27;Eccentricity&#x27;, &#x27;ConvexArea&#x27;, &#x27;EquivDiameter&#x27;, &#x27;Extent&#x27;, &#x27;roundness&#x27;, &#x27;Compactness&#x27;, &#x27;ShapeFactor1&#x27;, &#x27;ShapeFactor2&#x27;, &#x27;ShapeFactor3&#x27;]</td>\n",
       "        </tr>\n",
       "        <tr>\n",
       "            <td>ANOVA F-test</td>\n",
       "            <td>[&#x27;Area&#x27;, &#x27;Perimeter&#x27;, &#x27;MajorAxisLength&#x27;, &#x27;AspectRation&#x27;, &#x27;ConvexArea&#x27;, &#x27;EquivDiameter&#x27;, &#x27;Compactness&#x27;, &#x27;ShapeFactor2&#x27;]</td>\n",
       "        </tr>\n",
       "        <tr>\n",
       "            <td>Recursive Feature Elimination (estimator = DecisionTreeClassifier)</td>\n",
       "            <td>[&#x27;Perimeter&#x27;, &#x27;MajorAxisLength&#x27;, &#x27;MinorAxisLength&#x27;, &#x27;Solidity&#x27;, &#x27;roundness&#x27;, &#x27;ShapeFactor1&#x27;, &#x27;ShapeFactor3&#x27;, &#x27;ShapeFactor4&#x27;]</td>\n",
       "        </tr>\n",
       "        <tr>\n",
       "            <td>Using RandomForest feature importance</td>\n",
       "            <td>[&#x27;Perimeter&#x27;, &#x27;MajorAxisLength&#x27;, &#x27;MinorAxisLength&#x27;, &#x27;AspectRation&#x27;, &#x27;ConvexArea&#x27;, &#x27;Compactness&#x27;, &#x27;ShapeFactor1&#x27;, &#x27;ShapeFactor3&#x27;]</td>\n",
       "        </tr>\n",
       "    </tbody>\n",
       "</table>"
      ],
      "text/plain": [
       "+--------------------------------------------------------------------+------------------------------------------------------------------------------------------------------------------------------------------------------------------------------------------------------------------+\n",
       "|                              Methods                               |                                                                                                Features Selected                                                                                                 |\n",
       "+--------------------------------------------------------------------+------------------------------------------------------------------------------------------------------------------------------------------------------------------------------------------------------------------+\n",
       "|               Variance Thresholding (threshold = 1)                | ['Area', 'Perimeter', 'MajorAxisLength', 'MinorAxisLength', 'AspectRation', 'Eccentricity', 'ConvexArea', 'EquivDiameter', 'Extent', 'roundness', 'Compactness', 'ShapeFactor1', 'ShapeFactor2', 'ShapeFactor3'] |\n",
       "|                            ANOVA F-test                            |                                              ['Area', 'Perimeter', 'MajorAxisLength', 'AspectRation', 'ConvexArea', 'EquivDiameter', 'Compactness', 'ShapeFactor2']                                              |\n",
       "| Recursive Feature Elimination (estimator = DecisionTreeClassifier) |                                           ['Perimeter', 'MajorAxisLength', 'MinorAxisLength', 'Solidity', 'roundness', 'ShapeFactor1', 'ShapeFactor3', 'ShapeFactor4']                                           |\n",
       "|               Using RandomForest feature importance                |                                         ['Perimeter', 'MajorAxisLength', 'MinorAxisLength', 'AspectRation', 'ConvexArea', 'Compactness', 'ShapeFactor1', 'ShapeFactor3']                                         |\n",
       "+--------------------------------------------------------------------+------------------------------------------------------------------------------------------------------------------------------------------------------------------------------------------------------------------+"
      ]
     },
     "execution_count": 27,
     "metadata": {},
     "output_type": "execute_result"
    }
   ],
   "source": [
    "table"
   ]
  },
  {
   "cell_type": "markdown",
   "id": "552853b1",
   "metadata": {},
   "source": [
    "# Modelling"
   ]
  },
  {
   "cell_type": "markdown",
   "id": "6cc26ac3",
   "metadata": {},
   "source": [
    "Let's start with features selected using the ANOVA F-test\n",
    "\n",
    "Our metric of choice is going to be `Weighted F1-score`. \n",
    "Here's a very good explanation for it: [link](https://stats.stackexchange.com/questions/463224/which-performance-metrics-for-highly-imbalanced-multiclass-dataset) "
   ]
  },
  {
   "cell_type": "code",
   "execution_count": 28,
   "id": "6472d1fd",
   "metadata": {},
   "outputs": [],
   "source": [
    "feats = anova_filter.get_feature_names_out().tolist()"
   ]
  },
  {
   "cell_type": "code",
   "execution_count": 29,
   "id": "7331561c",
   "metadata": {},
   "outputs": [
    {
     "data": {
      "text/html": [
       "<div>\n",
       "<style scoped>\n",
       "    .dataframe tbody tr th:only-of-type {\n",
       "        vertical-align: middle;\n",
       "    }\n",
       "\n",
       "    .dataframe tbody tr th {\n",
       "        vertical-align: top;\n",
       "    }\n",
       "\n",
       "    .dataframe thead th {\n",
       "        text-align: right;\n",
       "    }\n",
       "</style>\n",
       "<table border=\"1\" class=\"dataframe\">\n",
       "  <thead>\n",
       "    <tr style=\"text-align: right;\">\n",
       "      <th></th>\n",
       "      <th>Area</th>\n",
       "      <th>Perimeter</th>\n",
       "      <th>MajorAxisLength</th>\n",
       "      <th>AspectRation</th>\n",
       "      <th>ConvexArea</th>\n",
       "      <th>EquivDiameter</th>\n",
       "      <th>Compactness</th>\n",
       "      <th>ShapeFactor2</th>\n",
       "    </tr>\n",
       "  </thead>\n",
       "  <tbody>\n",
       "    <tr>\n",
       "      <th>0</th>\n",
       "      <td>35280</td>\n",
       "      <td>717.703</td>\n",
       "      <td>264.995250</td>\n",
       "      <td>1.558472</td>\n",
       "      <td>35772</td>\n",
       "      <td>211.943132</td>\n",
       "      <td>0.799800</td>\n",
       "      <td>0.001896</td>\n",
       "    </tr>\n",
       "    <tr>\n",
       "      <th>1</th>\n",
       "      <td>83296</td>\n",
       "      <td>1142.638</td>\n",
       "      <td>446.765889</td>\n",
       "      <td>1.869209</td>\n",
       "      <td>84270</td>\n",
       "      <td>325.662035</td>\n",
       "      <td>0.728932</td>\n",
       "      <td>0.000934</td>\n",
       "    </tr>\n",
       "    <tr>\n",
       "      <th>2</th>\n",
       "      <td>35594</td>\n",
       "      <td>689.634</td>\n",
       "      <td>254.572928</td>\n",
       "      <td>1.426644</td>\n",
       "      <td>35966</td>\n",
       "      <td>212.884213</td>\n",
       "      <td>0.836241</td>\n",
       "      <td>0.002157</td>\n",
       "    </tr>\n",
       "    <tr>\n",
       "      <th>3</th>\n",
       "      <td>52710</td>\n",
       "      <td>872.700</td>\n",
       "      <td>326.039383</td>\n",
       "      <td>1.572036</td>\n",
       "      <td>53280</td>\n",
       "      <td>259.060720</td>\n",
       "      <td>0.794569</td>\n",
       "      <td>0.001521</td>\n",
       "    </tr>\n",
       "    <tr>\n",
       "      <th>4</th>\n",
       "      <td>62855</td>\n",
       "      <td>1004.759</td>\n",
       "      <td>413.879306</td>\n",
       "      <td>2.130112</td>\n",
       "      <td>63781</td>\n",
       "      <td>282.894807</td>\n",
       "      <td>0.683520</td>\n",
       "      <td>0.000887</td>\n",
       "    </tr>\n",
       "    <tr>\n",
       "      <th>5</th>\n",
       "      <td>36112</td>\n",
       "      <td>723.077</td>\n",
       "      <td>225.328776</td>\n",
       "      <td>1.100957</td>\n",
       "      <td>36709</td>\n",
       "      <td>214.427672</td>\n",
       "      <td>0.951621</td>\n",
       "      <td>0.003156</td>\n",
       "    </tr>\n",
       "    <tr>\n",
       "      <th>6</th>\n",
       "      <td>59442</td>\n",
       "      <td>975.979</td>\n",
       "      <td>402.887444</td>\n",
       "      <td>2.118794</td>\n",
       "      <td>60289</td>\n",
       "      <td>275.107079</td>\n",
       "      <td>0.682839</td>\n",
       "      <td>0.000909</td>\n",
       "    </tr>\n",
       "    <tr>\n",
       "      <th>7</th>\n",
       "      <td>58931</td>\n",
       "      <td>957.164</td>\n",
       "      <td>388.354344</td>\n",
       "      <td>2.001383</td>\n",
       "      <td>59526</td>\n",
       "      <td>273.922032</td>\n",
       "      <td>0.705340</td>\n",
       "      <td>0.001006</td>\n",
       "    </tr>\n",
       "    <tr>\n",
       "      <th>8</th>\n",
       "      <td>34010</td>\n",
       "      <td>681.989</td>\n",
       "      <td>257.829640</td>\n",
       "      <td>1.528818</td>\n",
       "      <td>34410</td>\n",
       "      <td>208.093433</td>\n",
       "      <td>0.807097</td>\n",
       "      <td>0.001984</td>\n",
       "    </tr>\n",
       "    <tr>\n",
       "      <th>9</th>\n",
       "      <td>27280</td>\n",
       "      <td>603.203</td>\n",
       "      <td>223.021086</td>\n",
       "      <td>1.428199</td>\n",
       "      <td>27550</td>\n",
       "      <td>186.370531</td>\n",
       "      <td>0.835663</td>\n",
       "      <td>0.002459</td>\n",
       "    </tr>\n",
       "  </tbody>\n",
       "</table>\n",
       "</div>"
      ],
      "text/plain": [
       "    Area  Perimeter  MajorAxisLength  AspectRation  ConvexArea  EquivDiameter  \\\n",
       "0  35280    717.703       264.995250      1.558472       35772     211.943132   \n",
       "1  83296   1142.638       446.765889      1.869209       84270     325.662035   \n",
       "2  35594    689.634       254.572928      1.426644       35966     212.884213   \n",
       "3  52710    872.700       326.039383      1.572036       53280     259.060720   \n",
       "4  62855   1004.759       413.879306      2.130112       63781     282.894807   \n",
       "5  36112    723.077       225.328776      1.100957       36709     214.427672   \n",
       "6  59442    975.979       402.887444      2.118794       60289     275.107079   \n",
       "7  58931    957.164       388.354344      2.001383       59526     273.922032   \n",
       "8  34010    681.989       257.829640      1.528818       34410     208.093433   \n",
       "9  27280    603.203       223.021086      1.428199       27550     186.370531   \n",
       "\n",
       "   Compactness  ShapeFactor2  \n",
       "0     0.799800      0.001896  \n",
       "1     0.728932      0.000934  \n",
       "2     0.836241      0.002157  \n",
       "3     0.794569      0.001521  \n",
       "4     0.683520      0.000887  \n",
       "5     0.951621      0.003156  \n",
       "6     0.682839      0.000909  \n",
       "7     0.705340      0.001006  \n",
       "8     0.807097      0.001984  \n",
       "9     0.835663      0.002459  "
      ]
     },
     "execution_count": 29,
     "metadata": {},
     "output_type": "execute_result"
    }
   ],
   "source": [
    "X[feats].head(10)"
   ]
  },
  {
   "cell_type": "code",
   "execution_count": 32,
   "id": "8f2330b9",
   "metadata": {},
   "outputs": [],
   "source": [
    "X_ = X[feats].values\n",
    "y_ = y.values"
   ]
  },
  {
   "cell_type": "code",
   "execution_count": 66,
   "id": "75aa0cf5",
   "metadata": {},
   "outputs": [],
   "source": [
    "def cross_validate(X, y, model):\n",
    "    kfold = KFold(n_splits=10)\n",
    "    idx = 1\n",
    "    for train_index, test_index in kfold.split(X=X, y=y):\n",
    "        X_train_ , X_test_ = X.iloc[train_index,:],X.iloc[test_index,:]\n",
    "        y_train_ , y_test_ = y[train_index] , y[test_index]\n",
    "        \n",
    "        model.fit(X_train_, y_train_)\n",
    "        y_pred_ = model.predict(X_test_)\n",
    "            \n",
    "        print(\n",
    "            f\"[FOLD {idx}] \" \n",
    "            f\"Weighted F1-score: {round(metrics.f1_score(y_pred_, y_test_, average='weighted'), 3)} \"\n",
    "        )\n",
    "        \n",
    "        idx += 1"
   ]
  },
  {
   "cell_type": "markdown",
   "id": "2eafe7cd",
   "metadata": {},
   "source": [
    "## Decision tree modelling"
   ]
  },
  {
   "cell_type": "code",
   "execution_count": 67,
   "id": "081a985b",
   "metadata": {},
   "outputs": [
    {
     "name": "stdout",
     "output_type": "stream",
     "text": [
      "[FOLD 1] Weighted F1-score: 0.897 \n",
      "[FOLD 2] Weighted F1-score: 0.874 \n",
      "[FOLD 3] Weighted F1-score: 0.895 \n",
      "[FOLD 4] Weighted F1-score: 0.902 \n",
      "[FOLD 5] Weighted F1-score: 0.901 \n",
      "[FOLD 6] Weighted F1-score: 0.885 \n",
      "[FOLD 7] Weighted F1-score: 0.886 \n",
      "[FOLD 8] Weighted F1-score: 0.9 \n",
      "[FOLD 9] Weighted F1-score: 0.882 \n",
      "[FOLD 10] Weighted F1-score: 0.885 \n"
     ]
    }
   ],
   "source": [
    "cross_validate(X, y, DecisionTreeClassifier())"
   ]
  },
  {
   "cell_type": "markdown",
   "id": "678f1fae",
   "metadata": {},
   "source": [
    "## Hyperparameter tuning the decision tree"
   ]
  },
  {
   "cell_type": "code",
   "execution_count": null,
   "id": "520f8900",
   "metadata": {},
   "outputs": [],
   "source": []
  }
 ],
 "metadata": {
  "kernelspec": {
   "display_name": "Python 3 (ipykernel)",
   "language": "python",
   "name": "python3"
  },
  "language_info": {
   "codemirror_mode": {
    "name": "ipython",
    "version": 3
   },
   "file_extension": ".py",
   "mimetype": "text/x-python",
   "name": "python",
   "nbconvert_exporter": "python",
   "pygments_lexer": "ipython3",
   "version": "3.8.5"
  },
  "toc": {
   "base_numbering": 1,
   "nav_menu": {},
   "number_sections": true,
   "sideBar": true,
   "skip_h1_title": false,
   "title_cell": "Table of Contents",
   "title_sidebar": "Contents",
   "toc_cell": true,
   "toc_position": {
    "height": "565.6px",
    "left": "24px",
    "top": "197.125px",
    "width": "273.825px"
   },
   "toc_section_display": true,
   "toc_window_display": true
  }
 },
 "nbformat": 4,
 "nbformat_minor": 5
}
