{
 "cells": [
  {
   "cell_type": "code",
   "execution_count": 1,
   "id": "de4fb895",
   "metadata": {},
   "outputs": [],
   "source": [
    "import tensorflow as tf\n",
    "from tensorflow.keras import layers, losses, metrics, optimizers, callbacks\n",
    "import pandas as pd\n",
    "\n",
    "from sklearn.preprocessing import StandardScaler\n",
    "from sklearn.model_selection import train_test_split\n",
    "from sklearn.metrics import confusion_matrix, classification_report, f1_score, accuracy_score\n",
    "from imblearn.metrics import classification_report_imbalanced\n",
    "\n",
    "from imblearn.over_sampling import RandomOverSampler, SMOTE\n",
    "from imblearn.under_sampling import RandomUnderSampler\n",
    "\n",
    "import seaborn as sns\n",
    "import matplotlib.pyplot as plt\n",
    "import requests\n",
    "import numpy as np\n",
    "\n",
    "import joblib"
   ]
  },
  {
   "cell_type": "code",
   "execution_count": 2,
   "id": "ae04e209",
   "metadata": {},
   "outputs": [],
   "source": [
    "np.random.seed(42)"
   ]
  },
  {
   "cell_type": "markdown",
   "id": "26b682c0",
   "metadata": {},
   "source": [
    "## Reading the dataset"
   ]
  },
  {
   "cell_type": "code",
   "execution_count": 3,
   "id": "c03a4088",
   "metadata": {},
   "outputs": [],
   "source": [
    "df = (\n",
    "    pd.read_csv(\"./DryBeanDataset/Dry_Bean_Dataset.csv\")\n",
    "    .sample(frac=1)\n",
    "    .reset_index(drop=True)\n",
    ")"
   ]
  },
  {
   "cell_type": "code",
   "execution_count": 4,
   "id": "4474a92a",
   "metadata": {},
   "outputs": [
    {
     "data": {
      "text/html": [
       "<div>\n",
       "<style scoped>\n",
       "    .dataframe tbody tr th:only-of-type {\n",
       "        vertical-align: middle;\n",
       "    }\n",
       "\n",
       "    .dataframe tbody tr th {\n",
       "        vertical-align: top;\n",
       "    }\n",
       "\n",
       "    .dataframe thead th {\n",
       "        text-align: right;\n",
       "    }\n",
       "</style>\n",
       "<table border=\"1\" class=\"dataframe\">\n",
       "  <thead>\n",
       "    <tr style=\"text-align: right;\">\n",
       "      <th></th>\n",
       "      <th>Area</th>\n",
       "      <th>Perimeter</th>\n",
       "      <th>MajorAxisLength</th>\n",
       "      <th>MinorAxisLength</th>\n",
       "      <th>AspectRation</th>\n",
       "      <th>Eccentricity</th>\n",
       "      <th>ConvexArea</th>\n",
       "      <th>EquivDiameter</th>\n",
       "      <th>Extent</th>\n",
       "      <th>Solidity</th>\n",
       "      <th>roundness</th>\n",
       "      <th>Compactness</th>\n",
       "      <th>ShapeFactor1</th>\n",
       "      <th>ShapeFactor2</th>\n",
       "      <th>ShapeFactor3</th>\n",
       "      <th>ShapeFactor4</th>\n",
       "      <th>Class</th>\n",
       "    </tr>\n",
       "  </thead>\n",
       "  <tbody>\n",
       "    <tr>\n",
       "      <th>0</th>\n",
       "      <td>42339</td>\n",
       "      <td>741.226</td>\n",
       "      <td>260.199330</td>\n",
       "      <td>207.306394</td>\n",
       "      <td>1.255144</td>\n",
       "      <td>0.604347</td>\n",
       "      <td>42676</td>\n",
       "      <td>232.180294</td>\n",
       "      <td>0.771202</td>\n",
       "      <td>0.992103</td>\n",
       "      <td>0.968387</td>\n",
       "      <td>0.892317</td>\n",
       "      <td>0.006146</td>\n",
       "      <td>0.002403</td>\n",
       "      <td>0.796230</td>\n",
       "      <td>0.999383</td>\n",
       "      <td>SEKER</td>\n",
       "    </tr>\n",
       "    <tr>\n",
       "      <th>1</th>\n",
       "      <td>68247</td>\n",
       "      <td>1088.754</td>\n",
       "      <td>370.368146</td>\n",
       "      <td>237.863792</td>\n",
       "      <td>1.557060</td>\n",
       "      <td>0.766507</td>\n",
       "      <td>70172</td>\n",
       "      <td>294.779204</td>\n",
       "      <td>0.767683</td>\n",
       "      <td>0.972567</td>\n",
       "      <td>0.723492</td>\n",
       "      <td>0.795909</td>\n",
       "      <td>0.005427</td>\n",
       "      <td>0.001343</td>\n",
       "      <td>0.633471</td>\n",
       "      <td>0.986352</td>\n",
       "      <td>BARBUNYA</td>\n",
       "    </tr>\n",
       "    <tr>\n",
       "      <th>2</th>\n",
       "      <td>37856</td>\n",
       "      <td>708.716</td>\n",
       "      <td>248.430330</td>\n",
       "      <td>194.360324</td>\n",
       "      <td>1.278195</td>\n",
       "      <td>0.622835</td>\n",
       "      <td>38232</td>\n",
       "      <td>219.544429</td>\n",
       "      <td>0.744640</td>\n",
       "      <td>0.990165</td>\n",
       "      <td>0.947109</td>\n",
       "      <td>0.883726</td>\n",
       "      <td>0.006563</td>\n",
       "      <td>0.002469</td>\n",
       "      <td>0.780972</td>\n",
       "      <td>0.998235</td>\n",
       "      <td>SEKER</td>\n",
       "    </tr>\n",
       "    <tr>\n",
       "      <th>3</th>\n",
       "      <td>33143</td>\n",
       "      <td>648.385</td>\n",
       "      <td>222.526309</td>\n",
       "      <td>189.737379</td>\n",
       "      <td>1.172812</td>\n",
       "      <td>0.522480</td>\n",
       "      <td>33377</td>\n",
       "      <td>205.423899</td>\n",
       "      <td>0.769980</td>\n",
       "      <td>0.992989</td>\n",
       "      <td>0.990685</td>\n",
       "      <td>0.923144</td>\n",
       "      <td>0.006714</td>\n",
       "      <td>0.003008</td>\n",
       "      <td>0.852195</td>\n",
       "      <td>0.999465</td>\n",
       "      <td>SEKER</td>\n",
       "    </tr>\n",
       "    <tr>\n",
       "      <th>4</th>\n",
       "      <td>29925</td>\n",
       "      <td>647.570</td>\n",
       "      <td>237.714031</td>\n",
       "      <td>161.004849</td>\n",
       "      <td>1.476440</td>\n",
       "      <td>0.735703</td>\n",
       "      <td>30321</td>\n",
       "      <td>195.196551</td>\n",
       "      <td>0.785309</td>\n",
       "      <td>0.986940</td>\n",
       "      <td>0.896748</td>\n",
       "      <td>0.821140</td>\n",
       "      <td>0.007944</td>\n",
       "      <td>0.002228</td>\n",
       "      <td>0.674271</td>\n",
       "      <td>0.995521</td>\n",
       "      <td>DERMASON</td>\n",
       "    </tr>\n",
       "    <tr>\n",
       "      <th>5</th>\n",
       "      <td>38489</td>\n",
       "      <td>707.978</td>\n",
       "      <td>244.119399</td>\n",
       "      <td>200.950084</td>\n",
       "      <td>1.214826</td>\n",
       "      <td>0.567805</td>\n",
       "      <td>38782</td>\n",
       "      <td>221.372349</td>\n",
       "      <td>0.788871</td>\n",
       "      <td>0.992445</td>\n",
       "      <td>0.964955</td>\n",
       "      <td>0.906820</td>\n",
       "      <td>0.006343</td>\n",
       "      <td>0.002646</td>\n",
       "      <td>0.822322</td>\n",
       "      <td>0.998979</td>\n",
       "      <td>SEKER</td>\n",
       "    </tr>\n",
       "    <tr>\n",
       "      <th>6</th>\n",
       "      <td>89592</td>\n",
       "      <td>1155.357</td>\n",
       "      <td>452.291405</td>\n",
       "      <td>254.964533</td>\n",
       "      <td>1.773939</td>\n",
       "      <td>0.825968</td>\n",
       "      <td>90627</td>\n",
       "      <td>337.745581</td>\n",
       "      <td>0.795772</td>\n",
       "      <td>0.988580</td>\n",
       "      <td>0.843425</td>\n",
       "      <td>0.746743</td>\n",
       "      <td>0.005048</td>\n",
       "      <td>0.000968</td>\n",
       "      <td>0.557626</td>\n",
       "      <td>0.989193</td>\n",
       "      <td>CALI</td>\n",
       "    </tr>\n",
       "    <tr>\n",
       "      <th>7</th>\n",
       "      <td>42379</td>\n",
       "      <td>759.965</td>\n",
       "      <td>251.037567</td>\n",
       "      <td>215.217912</td>\n",
       "      <td>1.166434</td>\n",
       "      <td>0.514795</td>\n",
       "      <td>42840</td>\n",
       "      <td>232.289945</td>\n",
       "      <td>0.763586</td>\n",
       "      <td>0.989239</td>\n",
       "      <td>0.922090</td>\n",
       "      <td>0.925319</td>\n",
       "      <td>0.005924</td>\n",
       "      <td>0.002679</td>\n",
       "      <td>0.856216</td>\n",
       "      <td>0.998720</td>\n",
       "      <td>SEKER</td>\n",
       "    </tr>\n",
       "    <tr>\n",
       "      <th>8</th>\n",
       "      <td>203536</td>\n",
       "      <td>1735.247</td>\n",
       "      <td>648.157318</td>\n",
       "      <td>401.698875</td>\n",
       "      <td>1.613540</td>\n",
       "      <td>0.784795</td>\n",
       "      <td>206049</td>\n",
       "      <td>509.067858</td>\n",
       "      <td>0.774879</td>\n",
       "      <td>0.987804</td>\n",
       "      <td>0.849432</td>\n",
       "      <td>0.785408</td>\n",
       "      <td>0.003184</td>\n",
       "      <td>0.000747</td>\n",
       "      <td>0.616866</td>\n",
       "      <td>0.995337</td>\n",
       "      <td>BOMBAY</td>\n",
       "    </tr>\n",
       "    <tr>\n",
       "      <th>9</th>\n",
       "      <td>27306</td>\n",
       "      <td>608.784</td>\n",
       "      <td>225.492411</td>\n",
       "      <td>154.595717</td>\n",
       "      <td>1.458594</td>\n",
       "      <td>0.727986</td>\n",
       "      <td>27648</td>\n",
       "      <td>186.459323</td>\n",
       "      <td>0.801491</td>\n",
       "      <td>0.987630</td>\n",
       "      <td>0.925852</td>\n",
       "      <td>0.826898</td>\n",
       "      <td>0.008258</td>\n",
       "      <td>0.002382</td>\n",
       "      <td>0.683761</td>\n",
       "      <td>0.997330</td>\n",
       "      <td>DERMASON</td>\n",
       "    </tr>\n",
       "  </tbody>\n",
       "</table>\n",
       "</div>"
      ],
      "text/plain": [
       "     Area  Perimeter  MajorAxisLength  MinorAxisLength  AspectRation  \\\n",
       "0   42339    741.226       260.199330       207.306394      1.255144   \n",
       "1   68247   1088.754       370.368146       237.863792      1.557060   \n",
       "2   37856    708.716       248.430330       194.360324      1.278195   \n",
       "3   33143    648.385       222.526309       189.737379      1.172812   \n",
       "4   29925    647.570       237.714031       161.004849      1.476440   \n",
       "5   38489    707.978       244.119399       200.950084      1.214826   \n",
       "6   89592   1155.357       452.291405       254.964533      1.773939   \n",
       "7   42379    759.965       251.037567       215.217912      1.166434   \n",
       "8  203536   1735.247       648.157318       401.698875      1.613540   \n",
       "9   27306    608.784       225.492411       154.595717      1.458594   \n",
       "\n",
       "   Eccentricity  ConvexArea  EquivDiameter    Extent  Solidity  roundness  \\\n",
       "0      0.604347       42676     232.180294  0.771202  0.992103   0.968387   \n",
       "1      0.766507       70172     294.779204  0.767683  0.972567   0.723492   \n",
       "2      0.622835       38232     219.544429  0.744640  0.990165   0.947109   \n",
       "3      0.522480       33377     205.423899  0.769980  0.992989   0.990685   \n",
       "4      0.735703       30321     195.196551  0.785309  0.986940   0.896748   \n",
       "5      0.567805       38782     221.372349  0.788871  0.992445   0.964955   \n",
       "6      0.825968       90627     337.745581  0.795772  0.988580   0.843425   \n",
       "7      0.514795       42840     232.289945  0.763586  0.989239   0.922090   \n",
       "8      0.784795      206049     509.067858  0.774879  0.987804   0.849432   \n",
       "9      0.727986       27648     186.459323  0.801491  0.987630   0.925852   \n",
       "\n",
       "   Compactness  ShapeFactor1  ShapeFactor2  ShapeFactor3  ShapeFactor4  \\\n",
       "0     0.892317      0.006146      0.002403      0.796230      0.999383   \n",
       "1     0.795909      0.005427      0.001343      0.633471      0.986352   \n",
       "2     0.883726      0.006563      0.002469      0.780972      0.998235   \n",
       "3     0.923144      0.006714      0.003008      0.852195      0.999465   \n",
       "4     0.821140      0.007944      0.002228      0.674271      0.995521   \n",
       "5     0.906820      0.006343      0.002646      0.822322      0.998979   \n",
       "6     0.746743      0.005048      0.000968      0.557626      0.989193   \n",
       "7     0.925319      0.005924      0.002679      0.856216      0.998720   \n",
       "8     0.785408      0.003184      0.000747      0.616866      0.995337   \n",
       "9     0.826898      0.008258      0.002382      0.683761      0.997330   \n",
       "\n",
       "      Class  \n",
       "0     SEKER  \n",
       "1  BARBUNYA  \n",
       "2     SEKER  \n",
       "3     SEKER  \n",
       "4  DERMASON  \n",
       "5     SEKER  \n",
       "6      CALI  \n",
       "7     SEKER  \n",
       "8    BOMBAY  \n",
       "9  DERMASON  "
      ]
     },
     "execution_count": 4,
     "metadata": {},
     "output_type": "execute_result"
    }
   ],
   "source": [
    "df.head(10)"
   ]
  },
  {
   "cell_type": "markdown",
   "id": "92f888a8",
   "metadata": {},
   "source": [
    "## Creating the model"
   ]
  },
  {
   "cell_type": "code",
   "execution_count": 5,
   "id": "8f344ea3",
   "metadata": {},
   "outputs": [],
   "source": [
    "net = tf.keras.Sequential(\n",
    "    [\n",
    "        layers.Dense(512, activation=\"relu\"),\n",
    "        layers.Dense(256, activation=\"relu\"),\n",
    "        layers.Dense(7),\n",
    "    ]\n",
    ")"
   ]
  },
  {
   "cell_type": "code",
   "execution_count": 6,
   "id": "7cd4b173",
   "metadata": {},
   "outputs": [],
   "source": [
    "X = df.drop(columns=[\"Class\"])\n",
    "y = df.Class.astype('category').cat.codes"
   ]
  },
  {
   "cell_type": "markdown",
   "id": "98071ed7",
   "metadata": {},
   "source": [
    "### Without Resampling"
   ]
  },
  {
   "cell_type": "code",
   "execution_count": 7,
   "id": "a75bfecd",
   "metadata": {},
   "outputs": [],
   "source": [
    "# scaling the the data for training!\n",
    "scaler = StandardScaler()\n",
    "\n",
    "X_train, X_test, y_train, y_test = train_test_split(X, y, test_size=0.25)\n",
    "\n",
    "X_train = scaler.fit_transform(X_train)\n",
    "\n",
    "X_train, X_val, y_train, y_val = train_test_split(X_train, y_train, test_size=0.25)"
   ]
  },
  {
   "cell_type": "code",
   "execution_count": 8,
   "id": "b66c207f",
   "metadata": {},
   "outputs": [],
   "source": [
    "train_ds = tf.data.Dataset.from_tensor_slices((X_train, y_train)).batch(32)\n",
    "val_ds = tf.data.Dataset.from_tensor_slices((X_val, y_val)).batch(16)"
   ]
  },
  {
   "cell_type": "code",
   "execution_count": 9,
   "id": "47890e98",
   "metadata": {},
   "outputs": [],
   "source": [
    "net.compile(\n",
    "    optimizer=optimizers.Adam(learning_rate=3e-4),\n",
    "    loss=losses.SparseCategoricalCrossentropy(from_logits=True),\n",
    "    metrics=[metrics.SparseCategoricalAccuracy()],\n",
    ")"
   ]
  },
  {
   "cell_type": "code",
   "execution_count": 10,
   "id": "64d6ada7",
   "metadata": {
    "scrolled": false
   },
   "outputs": [
    {
     "name": "stdout",
     "output_type": "stream",
     "text": [
      "Epoch 1/30\n",
      "233/240 [============================>.] - ETA: 0s - loss: 0.5038 - sparse_categorical_accuracy: 0.8513\n",
      "Epoch 00001: val_loss improved from inf to 0.24559, saving model to models\\4\n",
      "INFO:tensorflow:Assets written to: models\\4\\assets\n",
      "240/240 [==============================] - 2s 7ms/step - loss: 0.4963 - sparse_categorical_accuracy: 0.8533 - val_loss: 0.2456 - val_sparse_categorical_accuracy: 0.9197\n",
      "Epoch 2/30\n",
      "240/240 [==============================] - ETA: 0s - loss: 0.2318 - sparse_categorical_accuracy: 0.9146\n",
      "Epoch 00002: val_loss improved from 0.24559 to 0.21529, saving model to models\\4\n",
      "INFO:tensorflow:Assets written to: models\\4\\assets\n",
      "240/240 [==============================] - 1s 6ms/step - loss: 0.2318 - sparse_categorical_accuracy: 0.9146 - val_loss: 0.2153 - val_sparse_categorical_accuracy: 0.9244\n",
      "Epoch 3/30\n",
      "230/240 [===========================>..] - ETA: 0s - loss: 0.2134 - sparse_categorical_accuracy: 0.9192\n",
      "Epoch 00003: val_loss improved from 0.21529 to 0.20792, saving model to models\\4\n",
      "INFO:tensorflow:Assets written to: models\\4\\assets\n",
      "240/240 [==============================] - 1s 6ms/step - loss: 0.2130 - sparse_categorical_accuracy: 0.9199 - val_loss: 0.2079 - val_sparse_categorical_accuracy: 0.9248\n",
      "Epoch 4/30\n",
      "234/240 [============================>.] - ETA: 0s - loss: 0.2056 - sparse_categorical_accuracy: 0.9209\n",
      "Epoch 00004: val_loss improved from 0.20792 to 0.20551, saving model to models\\4\n",
      "INFO:tensorflow:Assets written to: models\\4\\assets\n",
      "240/240 [==============================] - 2s 7ms/step - loss: 0.2047 - sparse_categorical_accuracy: 0.9215 - val_loss: 0.2055 - val_sparse_categorical_accuracy: 0.9232\n",
      "Epoch 5/30\n",
      "232/240 [============================>.] - ETA: 0s - loss: 0.2004 - sparse_categorical_accuracy: 0.9227\n",
      "Epoch 00005: val_loss improved from 0.20551 to 0.20451, saving model to models\\4\n",
      "INFO:tensorflow:Assets written to: models\\4\\assets\n",
      "240/240 [==============================] - 1s 6ms/step - loss: 0.1996 - sparse_categorical_accuracy: 0.9233 - val_loss: 0.2045 - val_sparse_categorical_accuracy: 0.9232\n",
      "Epoch 6/30\n",
      "232/240 [============================>.] - ETA: 0s - loss: 0.1969 - sparse_categorical_accuracy: 0.9247\n",
      "Epoch 00006: val_loss improved from 0.20451 to 0.20361, saving model to models\\4\n",
      "INFO:tensorflow:Assets written to: models\\4\\assets\n",
      "240/240 [==============================] - 1s 6ms/step - loss: 0.1962 - sparse_categorical_accuracy: 0.9253 - val_loss: 0.2036 - val_sparse_categorical_accuracy: 0.9216\n",
      "Epoch 7/30\n",
      "236/240 [============================>.] - ETA: 0s - loss: 0.1941 - sparse_categorical_accuracy: 0.9262\n",
      "Epoch 00007: val_loss improved from 0.20361 to 0.20302, saving model to models\\4\n",
      "INFO:tensorflow:Assets written to: models\\4\\assets\n",
      "240/240 [==============================] - 1s 6ms/step - loss: 0.1934 - sparse_categorical_accuracy: 0.9263 - val_loss: 0.2030 - val_sparse_categorical_accuracy: 0.9216\n",
      "Epoch 8/30\n",
      "235/240 [============================>.] - ETA: 0s - loss: 0.1915 - sparse_categorical_accuracy: 0.9269\n",
      "Epoch 00008: val_loss improved from 0.20302 to 0.20262, saving model to models\\4\n",
      "INFO:tensorflow:Assets written to: models\\4\\assets\n",
      "240/240 [==============================] - 2s 6ms/step - loss: 0.1912 - sparse_categorical_accuracy: 0.9269 - val_loss: 0.2026 - val_sparse_categorical_accuracy: 0.9216\n",
      "Epoch 9/30\n",
      "235/240 [============================>.] - ETA: 0s - loss: 0.1896 - sparse_categorical_accuracy: 0.9275\n",
      "Epoch 00009: val_loss improved from 0.20262 to 0.20236, saving model to models\\4\n",
      "INFO:tensorflow:Assets written to: models\\4\\assets\n",
      "240/240 [==============================] - 1s 6ms/step - loss: 0.1893 - sparse_categorical_accuracy: 0.9274 - val_loss: 0.2024 - val_sparse_categorical_accuracy: 0.9220\n",
      "Epoch 10/30\n",
      "224/240 [===========================>..] - ETA: 0s - loss: 0.1882 - sparse_categorical_accuracy: 0.9265\n",
      "Epoch 00010: val_loss improved from 0.20236 to 0.20216, saving model to models\\4\n",
      "INFO:tensorflow:Assets written to: models\\4\\assets\n",
      "240/240 [==============================] - 1s 6ms/step - loss: 0.1876 - sparse_categorical_accuracy: 0.9272 - val_loss: 0.2022 - val_sparse_categorical_accuracy: 0.9220\n",
      "Epoch 11/30\n",
      "232/240 [============================>.] - ETA: 0s - loss: 0.1866 - sparse_categorical_accuracy: 0.9275\n",
      "Epoch 00011: val_loss improved from 0.20216 to 0.20190, saving model to models\\4\n",
      "INFO:tensorflow:Assets written to: models\\4\\assets\n",
      "240/240 [==============================] - 2s 7ms/step - loss: 0.1861 - sparse_categorical_accuracy: 0.9280 - val_loss: 0.2019 - val_sparse_categorical_accuracy: 0.9212\n",
      "Epoch 12/30\n",
      "228/240 [===========================>..] - ETA: 0s - loss: 0.1854 - sparse_categorical_accuracy: 0.9285\n",
      "Epoch 00012: val_loss improved from 0.20190 to 0.20174, saving model to models\\4\n",
      "INFO:tensorflow:Assets written to: models\\4\\assets\n",
      "240/240 [==============================] - 2s 7ms/step - loss: 0.1847 - sparse_categorical_accuracy: 0.9293 - val_loss: 0.2017 - val_sparse_categorical_accuracy: 0.9224\n",
      "Epoch 13/30\n",
      "230/240 [===========================>..] - ETA: 0s - loss: 0.1831 - sparse_categorical_accuracy: 0.9295\n",
      "Epoch 00013: val_loss improved from 0.20174 to 0.20144, saving model to models\\4\n",
      "INFO:tensorflow:Assets written to: models\\4\\assets\n",
      "240/240 [==============================] - 2s 7ms/step - loss: 0.1834 - sparse_categorical_accuracy: 0.9300 - val_loss: 0.2014 - val_sparse_categorical_accuracy: 0.9232\n",
      "Epoch 14/30\n",
      "227/240 [===========================>..] - ETA: 0s - loss: 0.1833 - sparse_categorical_accuracy: 0.9292\n",
      "Epoch 00014: val_loss improved from 0.20144 to 0.20120, saving model to models\\4\n",
      "INFO:tensorflow:Assets written to: models\\4\\assets\n",
      "240/240 [==============================] - 2s 8ms/step - loss: 0.1821 - sparse_categorical_accuracy: 0.9301 - val_loss: 0.2012 - val_sparse_categorical_accuracy: 0.9232\n",
      "Epoch 15/30\n",
      "232/240 [============================>.] - ETA: 0s - loss: 0.1814 - sparse_categorical_accuracy: 0.9300\n",
      "Epoch 00015: val_loss improved from 0.20120 to 0.20088, saving model to models\\4\n",
      "INFO:tensorflow:Assets written to: models\\4\\assets\n",
      "240/240 [==============================] - 2s 7ms/step - loss: 0.1810 - sparse_categorical_accuracy: 0.9305 - val_loss: 0.2009 - val_sparse_categorical_accuracy: 0.9228\n",
      "Epoch 16/30\n",
      "224/240 [===========================>..] - ETA: 0s - loss: 0.1804 - sparse_categorical_accuracy: 0.9305\n",
      "Epoch 00016: val_loss improved from 0.20088 to 0.20070, saving model to models\\4\n",
      "INFO:tensorflow:Assets written to: models\\4\\assets\n",
      "240/240 [==============================] - 2s 7ms/step - loss: 0.1798 - sparse_categorical_accuracy: 0.9310 - val_loss: 0.2007 - val_sparse_categorical_accuracy: 0.9236\n",
      "Epoch 17/30\n",
      "229/240 [===========================>..] - ETA: 0s - loss: 0.1790 - sparse_categorical_accuracy: 0.9308\n",
      "Epoch 00017: val_loss improved from 0.20070 to 0.20040, saving model to models\\4\n",
      "INFO:tensorflow:Assets written to: models\\4\\assets\n",
      "240/240 [==============================] - 2s 9ms/step - loss: 0.1788 - sparse_categorical_accuracy: 0.9313 - val_loss: 0.2004 - val_sparse_categorical_accuracy: 0.9244\n",
      "Epoch 18/30\n",
      "229/240 [===========================>..] - ETA: 0s - loss: 0.1780 - sparse_categorical_accuracy: 0.9311\n",
      "Epoch 00018: val_loss improved from 0.20040 to 0.20035, saving model to models\\4\n",
      "INFO:tensorflow:Assets written to: models\\4\\assets\n",
      "240/240 [==============================] - 2s 8ms/step - loss: 0.1778 - sparse_categorical_accuracy: 0.9316 - val_loss: 0.2004 - val_sparse_categorical_accuracy: 0.9248\n",
      "Epoch 19/30\n",
      "234/240 [============================>.] - ETA: 0s - loss: 0.1774 - sparse_categorical_accuracy: 0.9316\n",
      "Epoch 00019: val_loss improved from 0.20035 to 0.20024, saving model to models\\4\n",
      "INFO:tensorflow:Assets written to: models\\4\\assets\n",
      "240/240 [==============================] - 2s 7ms/step - loss: 0.1768 - sparse_categorical_accuracy: 0.9319 - val_loss: 0.2002 - val_sparse_categorical_accuracy: 0.9248\n",
      "Epoch 20/30\n",
      "225/240 [===========================>..] - ETA: 0s - loss: 0.1765 - sparse_categorical_accuracy: 0.9319\n",
      "Epoch 00020: val_loss improved from 0.20024 to 0.20001, saving model to models\\4\n",
      "INFO:tensorflow:Assets written to: models\\4\\assets\n",
      "240/240 [==============================] - 1s 6ms/step - loss: 0.1758 - sparse_categorical_accuracy: 0.9326 - val_loss: 0.2000 - val_sparse_categorical_accuracy: 0.9259\n"
     ]
    },
    {
     "name": "stdout",
     "output_type": "stream",
     "text": [
      "Epoch 21/30\n",
      "238/240 [============================>.] - ETA: 0s - loss: 0.1747 - sparse_categorical_accuracy: 0.9329\n",
      "Epoch 00021: val_loss improved from 0.20001 to 0.19970, saving model to models\\4\n",
      "INFO:tensorflow:Assets written to: models\\4\\assets\n",
      "240/240 [==============================] - 2s 7ms/step - loss: 0.1748 - sparse_categorical_accuracy: 0.9327 - val_loss: 0.1997 - val_sparse_categorical_accuracy: 0.9263\n",
      "Epoch 22/30\n",
      "228/240 [===========================>..] - ETA: 0s - loss: 0.1745 - sparse_categorical_accuracy: 0.9328\n",
      "Epoch 00022: val_loss improved from 0.19970 to 0.19944, saving model to models\\4\n",
      "INFO:tensorflow:Assets written to: models\\4\\assets\n",
      "240/240 [==============================] - 2s 8ms/step - loss: 0.1739 - sparse_categorical_accuracy: 0.9335 - val_loss: 0.1994 - val_sparse_categorical_accuracy: 0.9259\n",
      "Epoch 23/30\n",
      "240/240 [==============================] - ETA: 0s - loss: 0.1729 - sparse_categorical_accuracy: 0.9334\n",
      "Epoch 00023: val_loss improved from 0.19944 to 0.19902, saving model to models\\4\n",
      "INFO:tensorflow:Assets written to: models\\4\\assets\n",
      "240/240 [==============================] - 2s 8ms/step - loss: 0.1729 - sparse_categorical_accuracy: 0.9334 - val_loss: 0.1990 - val_sparse_categorical_accuracy: 0.9259\n",
      "Epoch 24/30\n",
      "237/240 [============================>.] - ETA: 0s - loss: 0.1724 - sparse_categorical_accuracy: 0.9337\n",
      "Epoch 00024: val_loss improved from 0.19902 to 0.19897, saving model to models\\4\n",
      "INFO:tensorflow:Assets written to: models\\4\\assets\n",
      "240/240 [==============================] - 1s 6ms/step - loss: 0.1721 - sparse_categorical_accuracy: 0.9336 - val_loss: 0.1990 - val_sparse_categorical_accuracy: 0.9255\n",
      "Epoch 25/30\n",
      "235/240 [============================>.] - ETA: 0s - loss: 0.1714 - sparse_categorical_accuracy: 0.9343\n",
      "Epoch 00025: val_loss improved from 0.19897 to 0.19869, saving model to models\\4\n",
      "INFO:tensorflow:Assets written to: models\\4\\assets\n",
      "240/240 [==============================] - 1s 6ms/step - loss: 0.1712 - sparse_categorical_accuracy: 0.9343 - val_loss: 0.1987 - val_sparse_categorical_accuracy: 0.9255\n",
      "Epoch 26/30\n",
      "231/240 [===========================>..] - ETA: 0s - loss: 0.1703 - sparse_categorical_accuracy: 0.9341\n",
      "Epoch 00026: val_loss improved from 0.19869 to 0.19841, saving model to models\\4\n",
      "INFO:tensorflow:Assets written to: models\\4\\assets\n",
      "240/240 [==============================] - 1s 6ms/step - loss: 0.1704 - sparse_categorical_accuracy: 0.9346 - val_loss: 0.1984 - val_sparse_categorical_accuracy: 0.9259\n",
      "Epoch 27/30\n",
      "229/240 [===========================>..] - ETA: 0s - loss: 0.1696 - sparse_categorical_accuracy: 0.9337\n",
      "Epoch 00027: val_loss improved from 0.19841 to 0.19827, saving model to models\\4\n",
      "INFO:tensorflow:Assets written to: models\\4\\assets\n",
      "240/240 [==============================] - 2s 7ms/step - loss: 0.1695 - sparse_categorical_accuracy: 0.9343 - val_loss: 0.1983 - val_sparse_categorical_accuracy: 0.9259\n",
      "Epoch 28/30\n",
      "227/240 [===========================>..] - ETA: 0s - loss: 0.1698 - sparse_categorical_accuracy: 0.9336\n",
      "Epoch 00028: val_loss improved from 0.19827 to 0.19825, saving model to models\\4\n",
      "INFO:tensorflow:Assets written to: models\\4\\assets\n",
      "240/240 [==============================] - 2s 7ms/step - loss: 0.1687 - sparse_categorical_accuracy: 0.9348 - val_loss: 0.1982 - val_sparse_categorical_accuracy: 0.9263\n",
      "Epoch 29/30\n",
      "227/240 [===========================>..] - ETA: 0s - loss: 0.1690 - sparse_categorical_accuracy: 0.9341\n",
      "Epoch 00029: val_loss improved from 0.19825 to 0.19824, saving model to models\\4\n",
      "INFO:tensorflow:Assets written to: models\\4\\assets\n",
      "240/240 [==============================] - 2s 7ms/step - loss: 0.1679 - sparse_categorical_accuracy: 0.9351 - val_loss: 0.1982 - val_sparse_categorical_accuracy: 0.9267\n",
      "Epoch 30/30\n",
      "230/240 [===========================>..] - ETA: 0s - loss: 0.1668 - sparse_categorical_accuracy: 0.9351\n",
      "Epoch 00030: val_loss did not improve from 0.19824\n",
      "240/240 [==============================] - 1s 4ms/step - loss: 0.1671 - sparse_categorical_accuracy: 0.9355 - val_loss: 0.1983 - val_sparse_categorical_accuracy: 0.9263\n"
     ]
    }
   ],
   "source": [
    "history = net.fit(\n",
    "    train_ds,\n",
    "    validation_data=val_ds,\n",
    "    epochs=30,\n",
    "    callbacks=[\n",
    "        callbacks.ModelCheckpoint(\"models/4\", save_best_only=True, verbose=3),\n",
    "    ],\n",
    ")"
   ]
  },
  {
   "cell_type": "code",
   "execution_count": 11,
   "id": "a86f773c",
   "metadata": {},
   "outputs": [],
   "source": [
    "# Transforming the test set\n",
    "\n",
    "X_test = scaler.transform(X_test)\n",
    "\n",
    "test_ds = tf.data.Dataset.from_tensor_slices((X_test, y_test)).batch(16)"
   ]
  },
  {
   "cell_type": "code",
   "execution_count": 12,
   "id": "038ef33d",
   "metadata": {},
   "outputs": [
    {
     "name": "stdout",
     "output_type": "stream",
     "text": [
      "213/213 [==============================] - 0s 2ms/step - loss: 0.1857 - sparse_categorical_accuracy: 0.9336\n"
     ]
    },
    {
     "data": {
      "text/plain": [
       "[0.18566052615642548, 0.9335880279541016]"
      ]
     },
     "execution_count": 12,
     "metadata": {},
     "output_type": "execute_result"
    }
   ],
   "source": [
    "net.evaluate(test_ds)"
   ]
  },
  {
   "cell_type": "code",
   "execution_count": 13,
   "id": "10eacb08",
   "metadata": {},
   "outputs": [],
   "source": [
    "preds = net(X_test)\n",
    "preds = tf.argmax(preds, axis=1)"
   ]
  },
  {
   "cell_type": "code",
   "execution_count": 14,
   "id": "07d6d9de",
   "metadata": {},
   "outputs": [
    {
     "data": {
      "text/plain": [
       "array([0, 3, 0, ..., 6, 2, 0], dtype=int64)"
      ]
     },
     "execution_count": 14,
     "metadata": {},
     "output_type": "execute_result"
    }
   ],
   "source": [
    "preds.numpy()"
   ]
  },
  {
   "cell_type": "code",
   "execution_count": 15,
   "id": "0c679337",
   "metadata": {},
   "outputs": [
    {
     "data": {
      "text/plain": [
       "0.9339398450491823"
      ]
     },
     "execution_count": 15,
     "metadata": {},
     "output_type": "execute_result"
    }
   ],
   "source": [
    "f1_score(y_true=y_test, y_pred=preds.numpy(), average='weighted')"
   ]
  },
  {
   "cell_type": "code",
   "execution_count": 16,
   "id": "a9c1602f",
   "metadata": {},
   "outputs": [
    {
     "name": "stdout",
     "output_type": "stream",
     "text": [
      "                   pre       rec       spe        f1       geo       iba       sup\n",
      "\n",
      "   BARBUNYA       0.94      0.95      0.99      0.94      0.97      0.93       331\n",
      "     BOMBAY       1.00      1.00      1.00      1.00      1.00      1.00       135\n",
      "       CALI       0.98      0.92      1.00      0.95      0.96      0.91       416\n",
      "   DERMASON       0.95      0.90      0.98      0.93      0.94      0.88       902\n",
      "      HOROZ       0.95      0.96      0.99      0.95      0.98      0.95       482\n",
      "      SEKER       0.95      0.96      0.99      0.95      0.97      0.95       504\n",
      "       SIRA       0.85      0.92      0.96      0.89      0.94      0.89       633\n",
      "\n",
      "avg / total       0.94      0.93      0.98      0.93      0.96      0.91      3403\n",
      "\n"
     ]
    }
   ],
   "source": [
    "cf = confusion_matrix(y_test, preds)\n",
    "\n",
    "classes = df.Class.astype(\"category\").cat.categories.tolist()\n",
    "print(classification_report_imbalanced(y_test, preds, target_names=classes))"
   ]
  },
  {
   "cell_type": "code",
   "execution_count": 17,
   "id": "bd6ce1d5",
   "metadata": {},
   "outputs": [
    {
     "data": {
      "image/png": "[encoded data removed]",
      "text/plain": [
       "<Figure size 720x576 with 2 Axes>"
      ]
     },
     "metadata": {},
     "output_type": "display_data"
    }
   ],
   "source": [
    "classes = df.Class.astype(\"category\").cat.categories.tolist()\n",
    "sns.set(rc={\"figure.figsize\": (10, 8)}, font_scale=1.25)\n",
    "ax = sns.heatmap(\n",
    "    cf, annot=True, xticklabels=classes, yticklabels=classes, fmt=\"d\", cmap=\"viridis_r\"\n",
    ")\n",
    "ax.set_ylabel(\"Actual Class\")\n",
    "_ = ax.set_xlabel(\"Predicted Class\")"
   ]
  },
  {
   "cell_type": "markdown",
   "id": "40496e11",
   "metadata": {},
   "source": [
    "### With SMOTE Oversampling"
   ]
  },
  {
   "cell_type": "code",
   "execution_count": 18,
   "id": "132aba71",
   "metadata": {},
   "outputs": [],
   "source": [
    "X_train, X_test, y_train, y_test = train_test_split(X, y, test_size=0.25)"
   ]
  },
  {
   "cell_type": "code",
   "execution_count": 19,
   "id": "4678fc90",
   "metadata": {},
   "outputs": [],
   "source": [
    "X_test.to_csv(\"./test_files/full_feats_test.csv\", index=False)"
   ]
  },
  {
   "cell_type": "code",
   "execution_count": 20,
   "id": "5bbcd43e",
   "metadata": {},
   "outputs": [],
   "source": [
    "X_train_sampled, y_train_sampled = SMOTE().fit_resample(X_train, y_train) "
   ]
  },
  {
   "cell_type": "code",
   "execution_count": 21,
   "id": "6b2bdd3d",
   "metadata": {},
   "outputs": [],
   "source": [
    "scaler = StandardScaler()\n",
    "\n",
    "X_train_sampled = scaler.fit_transform(X_train_sampled)\n",
    "\n",
    "X_train, X_val, y_train, y_val = train_test_split(X_train_sampled, y_train_sampled, test_size=0.25)"
   ]
  },
  {
   "cell_type": "code",
   "execution_count": 22,
   "id": "75575026",
   "metadata": {},
   "outputs": [],
   "source": [
    "train_ds = tf.data.Dataset.from_tensor_slices((X_train, y_train)).batch(32)\n",
    "val_ds = tf.data.Dataset.from_tensor_slices((X_val, y_val)).batch(16)"
   ]
  },
  {
   "cell_type": "code",
   "execution_count": 23,
   "id": "3046f2d2",
   "metadata": {
    "scrolled": false
   },
   "outputs": [
    {
     "name": "stdout",
     "output_type": "stream",
     "text": [
      "Epoch 1/30\n",
      "431/433 [============================>.] - ETA: 0s - loss: 0.1512 - sparse_categorical_accuracy: 0.9454\n",
      "Epoch 00001: val_loss improved from inf to 0.13347, saving model to models\\5\n",
      "INFO:tensorflow:Assets written to: models\\5\\assets\n",
      "433/433 [==============================] - 3s 7ms/step - loss: 0.1514 - sparse_categorical_accuracy: 0.9454 - val_loss: 0.1335 - val_sparse_categorical_accuracy: 0.9479\n",
      "Epoch 2/30\n",
      "427/433 [============================>.] - ETA: 0s - loss: 0.1300 - sparse_categorical_accuracy: 0.9521\n",
      "Epoch 00002: val_loss improved from 0.13347 to 0.13186, saving model to models\\5\n",
      "INFO:tensorflow:Assets written to: models\\5\\assets\n",
      "433/433 [==============================] - 4s 8ms/step - loss: 0.1298 - sparse_categorical_accuracy: 0.9522 - val_loss: 0.1319 - val_sparse_categorical_accuracy: 0.9490\n",
      "Epoch 3/30\n",
      "424/433 [============================>.] - ETA: 0s - loss: 0.1267 - sparse_categorical_accuracy: 0.9526\n",
      "Epoch 00003: val_loss improved from 0.13186 to 0.13097, saving model to models\\5\n",
      "INFO:tensorflow:Assets written to: models\\5\\assets\n",
      "433/433 [==============================] - 3s 7ms/step - loss: 0.1267 - sparse_categorical_accuracy: 0.9526 - val_loss: 0.1310 - val_sparse_categorical_accuracy: 0.9490\n",
      "Epoch 4/30\n",
      "422/433 [============================>.] - ETA: 0s - loss: 0.1246 - sparse_categorical_accuracy: 0.9533\n",
      "Epoch 00004: val_loss improved from 0.13097 to 0.13059, saving model to models\\5\n",
      "INFO:tensorflow:Assets written to: models\\5\\assets\n",
      "433/433 [==============================] - 3s 7ms/step - loss: 0.1247 - sparse_categorical_accuracy: 0.9531 - val_loss: 0.1306 - val_sparse_categorical_accuracy: 0.9490\n",
      "Epoch 5/30\n",
      "423/433 [============================>.] - ETA: 0s - loss: 0.1233 - sparse_categorical_accuracy: 0.9538\n",
      "Epoch 00005: val_loss improved from 0.13059 to 0.13029, saving model to models\\5\n",
      "INFO:tensorflow:Assets written to: models\\5\\assets\n",
      "433/433 [==============================] - 3s 7ms/step - loss: 0.1231 - sparse_categorical_accuracy: 0.9538 - val_loss: 0.1303 - val_sparse_categorical_accuracy: 0.9499\n",
      "Epoch 6/30\n",
      "431/433 [============================>.] - ETA: 0s - loss: 0.1215 - sparse_categorical_accuracy: 0.9544- ETA: 0s - loss: 0.1216 - sparse_categorical_accuracy: 0.954\n",
      "Epoch 00006: val_loss improved from 0.13029 to 0.13010, saving model to models\\5\n",
      "INFO:tensorflow:Assets written to: models\\5\\assets\n",
      "433/433 [==============================] - 3s 8ms/step - loss: 0.1217 - sparse_categorical_accuracy: 0.9544 - val_loss: 0.1301 - val_sparse_categorical_accuracy: 0.9497\n",
      "Epoch 7/30\n",
      "428/433 [============================>.] - ETA: 0s - loss: 0.1207 - sparse_categorical_accuracy: 0.9546\n",
      "Epoch 00007: val_loss improved from 0.13010 to 0.13009, saving model to models\\5\n",
      "INFO:tensorflow:Assets written to: models\\5\\assets\n",
      "433/433 [==============================] - 3s 6ms/step - loss: 0.1205 - sparse_categorical_accuracy: 0.9547 - val_loss: 0.1301 - val_sparse_categorical_accuracy: 0.9501\n",
      "Epoch 8/30\n",
      "420/433 [============================>.] - ETA: 0s - loss: 0.1195 - sparse_categorical_accuracy: 0.9554\n",
      "Epoch 00008: val_loss improved from 0.13009 to 0.12976, saving model to models\\5\n",
      "INFO:tensorflow:Assets written to: models\\5\\assets\n",
      "433/433 [==============================] - 2s 5ms/step - loss: 0.1194 - sparse_categorical_accuracy: 0.9552 - val_loss: 0.1298 - val_sparse_categorical_accuracy: 0.9501\n",
      "Epoch 9/30\n",
      "421/433 [============================>.] - ETA: 0s - loss: 0.1183 - sparse_categorical_accuracy: 0.9560\n",
      "Epoch 00009: val_loss improved from 0.12976 to 0.12974, saving model to models\\5\n",
      "INFO:tensorflow:Assets written to: models\\5\\assets\n",
      "433/433 [==============================] - 2s 5ms/step - loss: 0.1184 - sparse_categorical_accuracy: 0.9557 - val_loss: 0.1297 - val_sparse_categorical_accuracy: 0.9499\n",
      "Epoch 10/30\n",
      "420/433 [============================>.] - ETA: 0s - loss: 0.1175 - sparse_categorical_accuracy: 0.9562\n",
      "Epoch 00010: val_loss did not improve from 0.12974\n",
      "433/433 [==============================] - 2s 4ms/step - loss: 0.1174 - sparse_categorical_accuracy: 0.9560 - val_loss: 0.1298 - val_sparse_categorical_accuracy: 0.9499\n",
      "Epoch 11/30\n",
      "430/433 [============================>.] - ETA: 0s - loss: 0.1163 - sparse_categorical_accuracy: 0.9563\n",
      "Epoch 00011: val_loss improved from 0.12974 to 0.12971, saving model to models\\5\n",
      "INFO:tensorflow:Assets written to: models\\5\\assets\n",
      "433/433 [==============================] - 2s 5ms/step - loss: 0.1165 - sparse_categorical_accuracy: 0.9564 - val_loss: 0.1297 - val_sparse_categorical_accuracy: 0.9505\n",
      "Epoch 12/30\n",
      "433/433 [==============================] - ETA: 0s - loss: 0.1156 - sparse_categorical_accuracy: 0.9571\n",
      "Epoch 00012: val_loss improved from 0.12971 to 0.12961, saving model to models\\5\n",
      "INFO:tensorflow:Assets written to: models\\5\\assets\n",
      "433/433 [==============================] - 2s 5ms/step - loss: 0.1156 - sparse_categorical_accuracy: 0.9571 - val_loss: 0.1296 - val_sparse_categorical_accuracy: 0.9505\n",
      "Epoch 13/30\n",
      "433/433 [==============================] - ETA: 0s - loss: 0.1147 - sparse_categorical_accuracy: 0.9575\n",
      "Epoch 00013: val_loss improved from 0.12961 to 0.12945, saving model to models\\5\n",
      "INFO:tensorflow:Assets written to: models\\5\\assets\n",
      "433/433 [==============================] - 2s 5ms/step - loss: 0.1147 - sparse_categorical_accuracy: 0.9575 - val_loss: 0.1295 - val_sparse_categorical_accuracy: 0.9508\n",
      "Epoch 14/30\n",
      "431/433 [============================>.] - ETA: 0s - loss: 0.1136 - sparse_categorical_accuracy: 0.9577\n",
      "Epoch 00014: val_loss did not improve from 0.12945\n",
      "433/433 [==============================] - 2s 4ms/step - loss: 0.1139 - sparse_categorical_accuracy: 0.9577 - val_loss: 0.1296 - val_sparse_categorical_accuracy: 0.9508\n",
      "Epoch 15/30\n",
      "423/433 [============================>.] - ETA: 0s - loss: 0.1132 - sparse_categorical_accuracy: 0.9581\n",
      "Epoch 00015: val_loss improved from 0.12945 to 0.12933, saving model to models\\5\n",
      "INFO:tensorflow:Assets written to: models\\5\\assets\n",
      "433/433 [==============================] - 2s 5ms/step - loss: 0.1130 - sparse_categorical_accuracy: 0.9583 - val_loss: 0.1293 - val_sparse_categorical_accuracy: 0.9508\n",
      "Epoch 16/30\n",
      "430/433 [============================>.] - ETA: 0s - loss: 0.1121 - sparse_categorical_accuracy: 0.9583\n",
      "Epoch 00016: val_loss did not improve from 0.12933\n",
      "433/433 [==============================] - 2s 4ms/step - loss: 0.1123 - sparse_categorical_accuracy: 0.9583 - val_loss: 0.1294 - val_sparse_categorical_accuracy: 0.9510\n",
      "Epoch 17/30\n",
      "424/433 [============================>.] - ETA: 0s - loss: 0.1115 - sparse_categorical_accuracy: 0.9587\n",
      "Epoch 00017: val_loss did not improve from 0.12933\n",
      "433/433 [==============================] - 2s 4ms/step - loss: 0.1115 - sparse_categorical_accuracy: 0.9589 - val_loss: 0.1295 - val_sparse_categorical_accuracy: 0.9512\n",
      "Epoch 18/30\n",
      "416/433 [===========================>..] - ETA: 0s - loss: 0.1103 - sparse_categorical_accuracy: 0.9592\n",
      "Epoch 00018: val_loss did not improve from 0.12933\n",
      "433/433 [==============================] - 2s 4ms/step - loss: 0.1108 - sparse_categorical_accuracy: 0.9594 - val_loss: 0.1295 - val_sparse_categorical_accuracy: 0.9510\n",
      "Epoch 19/30\n",
      "433/433 [==============================] - ETA: 0s - loss: 0.1100 - sparse_categorical_accuracy: 0.9594\n",
      "Epoch 00019: val_loss did not improve from 0.12933\n",
      "433/433 [==============================] - 2s 4ms/step - loss: 0.1100 - sparse_categorical_accuracy: 0.9594 - val_loss: 0.1294 - val_sparse_categorical_accuracy: 0.9510\n",
      "Epoch 20/30\n",
      "419/433 [============================>.] - ETA: 0s - loss: 0.1092 - sparse_categorical_accuracy: 0.9597\n",
      "Epoch 00020: val_loss improved from 0.12933 to 0.12933, saving model to models\\5\n",
      "INFO:tensorflow:Assets written to: models\\5\\assets\n",
      "433/433 [==============================] - 2s 5ms/step - loss: 0.1093 - sparse_categorical_accuracy: 0.9598 - val_loss: 0.1293 - val_sparse_categorical_accuracy: 0.9512\n",
      "Epoch 21/30\n",
      "424/433 [============================>.] - ETA: 0s - loss: 0.1085 - sparse_categorical_accuracy: 0.9600\n",
      "Epoch 00021: val_loss improved from 0.12933 to 0.12928, saving model to models\\5\n",
      "INFO:tensorflow:Assets written to: models\\5\\assets\n",
      "433/433 [==============================] - 2s 5ms/step - loss: 0.1085 - sparse_categorical_accuracy: 0.9602 - val_loss: 0.1293 - val_sparse_categorical_accuracy: 0.9514\n"
     ]
    },
    {
     "name": "stdout",
     "output_type": "stream",
     "text": [
      "Epoch 22/30\n",
      "432/433 [============================>.] - ETA: 0s - loss: 0.1078 - sparse_categorical_accuracy: 0.9606\n",
      "Epoch 00022: val_loss improved from 0.12928 to 0.12921, saving model to models\\5\n",
      "INFO:tensorflow:Assets written to: models\\5\\assets\n",
      "433/433 [==============================] - 2s 6ms/step - loss: 0.1078 - sparse_categorical_accuracy: 0.9606 - val_loss: 0.1292 - val_sparse_categorical_accuracy: 0.9514\n",
      "Epoch 23/30\n",
      "423/433 [============================>.] - ETA: 0s - loss: 0.1073 - sparse_categorical_accuracy: 0.9603\n",
      "Epoch 00023: val_loss improved from 0.12921 to 0.12914, saving model to models\\5\n",
      "INFO:tensorflow:Assets written to: models\\5\\assets\n",
      "433/433 [==============================] - 3s 6ms/step - loss: 0.1071 - sparse_categorical_accuracy: 0.9607 - val_loss: 0.1291 - val_sparse_categorical_accuracy: 0.9514\n",
      "Epoch 24/30\n",
      "421/433 [============================>.] - ETA: 0s - loss: 0.1064 - sparse_categorical_accuracy: 0.9607\n",
      "Epoch 00024: val_loss did not improve from 0.12914\n",
      "433/433 [==============================] - 2s 6ms/step - loss: 0.1064 - sparse_categorical_accuracy: 0.9609 - val_loss: 0.1292 - val_sparse_categorical_accuracy: 0.9514\n",
      "Epoch 25/30\n",
      "428/433 [============================>.] - ETA: 0s - loss: 0.1059 - sparse_categorical_accuracy: 0.9609\n",
      "Epoch 00025: val_loss did not improve from 0.12914\n",
      "433/433 [==============================] - 2s 5ms/step - loss: 0.1057 - sparse_categorical_accuracy: 0.9611 - val_loss: 0.1292 - val_sparse_categorical_accuracy: 0.9510\n",
      "Epoch 26/30\n",
      "425/433 [============================>.] - ETA: 0s - loss: 0.1052 - sparse_categorical_accuracy: 0.9607\n",
      "Epoch 00026: val_loss did not improve from 0.12914\n",
      "433/433 [==============================] - 2s 5ms/step - loss: 0.1050 - sparse_categorical_accuracy: 0.9611 - val_loss: 0.1296 - val_sparse_categorical_accuracy: 0.9512\n",
      "Epoch 27/30\n",
      "431/433 [============================>.] - ETA: 0s - loss: 0.1042 - sparse_categorical_accuracy: 0.9613\n",
      "Epoch 00027: val_loss did not improve from 0.12914\n",
      "433/433 [==============================] - 2s 5ms/step - loss: 0.1044 - sparse_categorical_accuracy: 0.9613 - val_loss: 0.1296 - val_sparse_categorical_accuracy: 0.9516\n",
      "Epoch 28/30\n",
      "421/433 [============================>.] - ETA: 0s - loss: 0.1038 - sparse_categorical_accuracy: 0.9616\n",
      "Epoch 00028: val_loss did not improve from 0.12914\n",
      "433/433 [==============================] - 2s 6ms/step - loss: 0.1037 - sparse_categorical_accuracy: 0.9617 - val_loss: 0.1295 - val_sparse_categorical_accuracy: 0.9521\n",
      "Epoch 29/30\n",
      "431/433 [============================>.] - ETA: 0s - loss: 0.1028 - sparse_categorical_accuracy: 0.9621\n",
      "Epoch 00029: val_loss did not improve from 0.12914\n",
      "433/433 [==============================] - 2s 5ms/step - loss: 0.1031 - sparse_categorical_accuracy: 0.9621 - val_loss: 0.1297 - val_sparse_categorical_accuracy: 0.9523\n",
      "Epoch 30/30\n",
      "421/433 [============================>.] - ETA: 0s - loss: 0.1024 - sparse_categorical_accuracy: 0.9622\n",
      "Epoch 00030: val_loss did not improve from 0.12914\n",
      "433/433 [==============================] - 2s 5ms/step - loss: 0.1024 - sparse_categorical_accuracy: 0.9625 - val_loss: 0.1297 - val_sparse_categorical_accuracy: 0.9523\n"
     ]
    }
   ],
   "source": [
    "history = net.fit(\n",
    "    train_ds,\n",
    "    validation_data=val_ds,\n",
    "    epochs=30,\n",
    "    callbacks=[\n",
    "        callbacks.ModelCheckpoint(\"models/5\", save_best_only=True, verbose=3),\n",
    "    ],\n",
    ")"
   ]
  },
  {
   "cell_type": "code",
   "execution_count": 24,
   "id": "d33920d2",
   "metadata": {},
   "outputs": [
    {
     "name": "stdout",
     "output_type": "stream",
     "text": [
      "213/213 [==============================] - 1s 2ms/step - loss: 0.1986 - sparse_categorical_accuracy: 0.9304\n"
     ]
    },
    {
     "data": {
      "text/plain": [
       "[0.19860129058361053, 0.9303555488586426]"
      ]
     },
     "execution_count": 24,
     "metadata": {},
     "output_type": "execute_result"
    }
   ],
   "source": [
    "X_test = scaler.transform(X_test)\n",
    "test_ds = tf.data.Dataset.from_tensor_slices((X_test, y_test)).batch(16)\n",
    "net.evaluate(test_ds)"
   ]
  },
  {
   "cell_type": "code",
   "execution_count": 25,
   "id": "673e87a4",
   "metadata": {},
   "outputs": [
    {
     "data": {
      "text/plain": [
       "array([5, 3, 3, ..., 3, 6, 4], dtype=int64)"
      ]
     },
     "execution_count": 25,
     "metadata": {},
     "output_type": "execute_result"
    }
   ],
   "source": [
    "preds = net(X_test)\n",
    "preds = tf.argmax(preds, axis=1)\n",
    "preds.numpy()"
   ]
  },
  {
   "cell_type": "code",
   "execution_count": 26,
   "id": "45608647",
   "metadata": {},
   "outputs": [],
   "source": [
    "idx2class = {\n",
    "    0: \"BARBUNYA\",\n",
    "    1: \"BOMBAY\",\n",
    "    2: \"CALI\",\n",
    "    3: \"DERMASON\",\n",
    "    4: \"HOROZ\",\n",
    "    5: \"SEKER\",\n",
    "    6: \"SIRA\",\n",
    "}"
   ]
  },
  {
   "cell_type": "code",
   "execution_count": 27,
   "id": "919cbb01",
   "metadata": {},
   "outputs": [
    {
     "data": {
      "text/plain": [
       "0.9304004472599166"
      ]
     },
     "execution_count": 27,
     "metadata": {},
     "output_type": "execute_result"
    }
   ],
   "source": [
    "f1_score(y_test, preds, average='weighted')"
   ]
  },
  {
   "cell_type": "code",
   "execution_count": 28,
   "id": "30147b2a",
   "metadata": {},
   "outputs": [
    {
     "name": "stdout",
     "output_type": "stream",
     "text": [
      "                   pre       rec       spe        f1       geo       iba       sup\n",
      "\n",
      "          0       0.95      0.91      0.99      0.93      0.95      0.90       318\n",
      "          1       1.00      1.00      1.00      1.00      1.00      1.00       127\n",
      "          2       0.94      0.97      0.99      0.95      0.98      0.96       389\n",
      "          3       0.90      0.94      0.96      0.92      0.95      0.90       912\n",
      "          4       0.97      0.95      0.99      0.96      0.97      0.94       476\n",
      "          5       0.97      0.94      1.00      0.95      0.97      0.93       482\n",
      "          6       0.89      0.87      0.97      0.88      0.92      0.84       699\n",
      "\n",
      "avg / total       0.93      0.93      0.98      0.93      0.96      0.91      3403\n",
      "\n"
     ]
    }
   ],
   "source": [
    "print(classification_report_imbalanced(y_test, preds))"
   ]
  },
  {
   "cell_type": "code",
   "execution_count": 29,
   "id": "002f6d7b",
   "metadata": {},
   "outputs": [
    {
     "data": {
      "image/png": "[encoded data removed]",
      "text/plain": [
       "<Figure size 720x576 with 2 Axes>"
      ]
     },
     "metadata": {},
     "output_type": "display_data"
    }
   ],
   "source": [
    "cf = confusion_matrix(y_test, preds)\n",
    "\n",
    "classes = df.Class.astype(\"category\").cat.categories.tolist()\n",
    "sns.set(rc={\"figure.figsize\": (10, 8)}, font_scale=1.25)\n",
    "ax = sns.heatmap(\n",
    "    cf, annot=True, xticklabels=classes, yticklabels=classes, fmt=\"d\", cmap=\"viridis_r\"\n",
    ")\n",
    "ax.set_ylabel(\"Actual Class\")\n",
    "_ = ax.set_xlabel(\"Predicted Class\")"
   ]
  },
  {
   "cell_type": "code",
   "execution_count": 30,
   "id": "629fbcb1",
   "metadata": {},
   "outputs": [
    {
     "data": {
      "text/plain": [
       "['./ML_models/NN_scaler.scaler']"
      ]
     },
     "execution_count": 30,
     "metadata": {},
     "output_type": "execute_result"
    }
   ],
   "source": [
    "joblib.dump(scaler, filename='./ML_models/NN_scaler.scaler')"
   ]
  },
  {
   "cell_type": "code",
   "execution_count": 31,
   "id": "f189042e",
   "metadata": {},
   "outputs": [],
   "source": [
    "test_df = pd.read_csv(\"./test_files/full_feats_test.csv\")"
   ]
  },
  {
   "cell_type": "code",
   "execution_count": 32,
   "id": "51f8a594",
   "metadata": {},
   "outputs": [
    {
     "data": {
      "text/html": [
       "<div>\n",
       "<style scoped>\n",
       "    .dataframe tbody tr th:only-of-type {\n",
       "        vertical-align: middle;\n",
       "    }\n",
       "\n",
       "    .dataframe tbody tr th {\n",
       "        vertical-align: top;\n",
       "    }\n",
       "\n",
       "    .dataframe thead th {\n",
       "        text-align: right;\n",
       "    }\n",
       "</style>\n",
       "<table border=\"1\" class=\"dataframe\">\n",
       "  <thead>\n",
       "    <tr style=\"text-align: right;\">\n",
       "      <th></th>\n",
       "      <th>Area</th>\n",
       "      <th>Perimeter</th>\n",
       "      <th>MajorAxisLength</th>\n",
       "      <th>MinorAxisLength</th>\n",
       "      <th>AspectRation</th>\n",
       "      <th>Eccentricity</th>\n",
       "      <th>ConvexArea</th>\n",
       "      <th>EquivDiameter</th>\n",
       "      <th>Extent</th>\n",
       "      <th>Solidity</th>\n",
       "      <th>roundness</th>\n",
       "      <th>Compactness</th>\n",
       "      <th>ShapeFactor1</th>\n",
       "      <th>ShapeFactor2</th>\n",
       "      <th>ShapeFactor3</th>\n",
       "      <th>ShapeFactor4</th>\n",
       "    </tr>\n",
       "  </thead>\n",
       "  <tbody>\n",
       "    <tr>\n",
       "      <th>0</th>\n",
       "      <td>40000</td>\n",
       "      <td>727.877</td>\n",
       "      <td>246.699162</td>\n",
       "      <td>206.888462</td>\n",
       "      <td>1.192426</td>\n",
       "      <td>0.544707</td>\n",
       "      <td>40425</td>\n",
       "      <td>225.675833</td>\n",
       "      <td>0.755858</td>\n",
       "      <td>0.989487</td>\n",
       "      <td>0.948755</td>\n",
       "      <td>0.914782</td>\n",
       "      <td>0.006167</td>\n",
       "      <td>0.002664</td>\n",
       "      <td>0.836825</td>\n",
       "      <td>0.997852</td>\n",
       "    </tr>\n",
       "    <tr>\n",
       "      <th>1</th>\n",
       "      <td>23689</td>\n",
       "      <td>575.638</td>\n",
       "      <td>205.967800</td>\n",
       "      <td>146.747501</td>\n",
       "      <td>1.403552</td>\n",
       "      <td>0.701695</td>\n",
       "      <td>24018</td>\n",
       "      <td>173.671447</td>\n",
       "      <td>0.765272</td>\n",
       "      <td>0.986302</td>\n",
       "      <td>0.898375</td>\n",
       "      <td>0.843197</td>\n",
       "      <td>0.008695</td>\n",
       "      <td>0.002711</td>\n",
       "      <td>0.710981</td>\n",
       "      <td>0.997899</td>\n",
       "    </tr>\n",
       "    <tr>\n",
       "      <th>2</th>\n",
       "      <td>31426</td>\n",
       "      <td>651.033</td>\n",
       "      <td>241.522589</td>\n",
       "      <td>166.167758</td>\n",
       "      <td>1.453486</td>\n",
       "      <td>0.725710</td>\n",
       "      <td>31760</td>\n",
       "      <td>200.032062</td>\n",
       "      <td>0.734578</td>\n",
       "      <td>0.989484</td>\n",
       "      <td>0.931736</td>\n",
       "      <td>0.828213</td>\n",
       "      <td>0.007685</td>\n",
       "      <td>0.002231</td>\n",
       "      <td>0.685936</td>\n",
       "      <td>0.996999</td>\n",
       "    </tr>\n",
       "    <tr>\n",
       "      <th>3</th>\n",
       "      <td>71826</td>\n",
       "      <td>1033.615</td>\n",
       "      <td>399.283078</td>\n",
       "      <td>230.561523</td>\n",
       "      <td>1.731785</td>\n",
       "      <td>0.816434</td>\n",
       "      <td>72664</td>\n",
       "      <td>302.409827</td>\n",
       "      <td>0.737744</td>\n",
       "      <td>0.988467</td>\n",
       "      <td>0.844839</td>\n",
       "      <td>0.757382</td>\n",
       "      <td>0.005559</td>\n",
       "      <td>0.001128</td>\n",
       "      <td>0.573628</td>\n",
       "      <td>0.993400</td>\n",
       "    </tr>\n",
       "    <tr>\n",
       "      <th>4</th>\n",
       "      <td>62296</td>\n",
       "      <td>970.321</td>\n",
       "      <td>376.031819</td>\n",
       "      <td>211.968931</td>\n",
       "      <td>1.773995</td>\n",
       "      <td>0.825980</td>\n",
       "      <td>63057</td>\n",
       "      <td>281.634037</td>\n",
       "      <td>0.811178</td>\n",
       "      <td>0.987932</td>\n",
       "      <td>0.831456</td>\n",
       "      <td>0.748963</td>\n",
       "      <td>0.006036</td>\n",
       "      <td>0.001172</td>\n",
       "      <td>0.560946</td>\n",
       "      <td>0.995115</td>\n",
       "    </tr>\n",
       "  </tbody>\n",
       "</table>\n",
       "</div>"
      ],
      "text/plain": [
       "    Area  Perimeter  MajorAxisLength  MinorAxisLength  AspectRation  \\\n",
       "0  40000    727.877       246.699162       206.888462      1.192426   \n",
       "1  23689    575.638       205.967800       146.747501      1.403552   \n",
       "2  31426    651.033       241.522589       166.167758      1.453486   \n",
       "3  71826   1033.615       399.283078       230.561523      1.731785   \n",
       "4  62296    970.321       376.031819       211.968931      1.773995   \n",
       "\n",
       "   Eccentricity  ConvexArea  EquivDiameter    Extent  Solidity  roundness  \\\n",
       "0      0.544707       40425     225.675833  0.755858  0.989487   0.948755   \n",
       "1      0.701695       24018     173.671447  0.765272  0.986302   0.898375   \n",
       "2      0.725710       31760     200.032062  0.734578  0.989484   0.931736   \n",
       "3      0.816434       72664     302.409827  0.737744  0.988467   0.844839   \n",
       "4      0.825980       63057     281.634037  0.811178  0.987932   0.831456   \n",
       "\n",
       "   Compactness  ShapeFactor1  ShapeFactor2  ShapeFactor3  ShapeFactor4  \n",
       "0     0.914782      0.006167      0.002664      0.836825      0.997852  \n",
       "1     0.843197      0.008695      0.002711      0.710981      0.997899  \n",
       "2     0.828213      0.007685      0.002231      0.685936      0.996999  \n",
       "3     0.757382      0.005559      0.001128      0.573628      0.993400  \n",
       "4     0.748963      0.006036      0.001172      0.560946      0.995115  "
      ]
     },
     "execution_count": 32,
     "metadata": {},
     "output_type": "execute_result"
    }
   ],
   "source": [
    "test_df.head()"
   ]
  },
  {
   "cell_type": "code",
   "execution_count": 33,
   "id": "fd1f96c5",
   "metadata": {},
   "outputs": [
    {
     "data": {
      "text/plain": [
       "13123    5\n",
       "8100     3\n",
       "5692     3\n",
       "708      2\n",
       "2241     2\n",
       "dtype: int8"
      ]
     },
     "execution_count": 33,
     "metadata": {},
     "output_type": "execute_result"
    }
   ],
   "source": [
    "y_test[:5]"
   ]
  },
  {
   "cell_type": "code",
   "execution_count": null,
   "id": "5f914651",
   "metadata": {},
   "outputs": [],
   "source": []
  }
 ],
 "metadata": {
  "kernelspec": {
   "display_name": "Python 3 (ipykernel)",
   "language": "python",
   "name": "python3"
  },
  "language_info": {
   "codemirror_mode": {
    "name": "ipython",
    "version": 3
   },
   "file_extension": ".py",
   "mimetype": "text/x-python",
   "name": "python",
   "nbconvert_exporter": "python",
   "pygments_lexer": "ipython3",
   "version": "3.8.5"
  },
  "toc": {
   "base_numbering": 1,
   "nav_menu": {},
   "number_sections": true,
   "sideBar": true,
   "skip_h1_title": false,
   "title_cell": "Table of Contents",
   "title_sidebar": "Contents",
   "toc_cell": false,
   "toc_position": {
    "height": "calc(100% - 180px)",
    "left": "10px",
    "top": "150px",
    "width": "303.825px"
   },
   "toc_section_display": true,
   "toc_window_display": true
  }
 },
 "nbformat": 4,
 "nbformat_minor": 5
}
