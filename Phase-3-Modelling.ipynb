{
 "cells": [
  {
   "cell_type": "markdown",
   "id": "1d6575a4",
   "metadata": {},
   "source": [
    "<center><h1>Modelling</h1></center>"
   ]
  },
  {
   "cell_type": "code",
   "execution_count": 1,
   "id": "cf1499ae-f547-4df1-9b70-bcd39cf0615d",
   "metadata": {},
   "outputs": [],
   "source": [
    "import numpy as np\n",
    "import pandas as pd\n",
    "import matplotlib.pyplot as plt\n",
    "from pathlib import Path\n",
    "\n",
    "from tqdm import tqdm\n",
    "\n",
    "from sklearn.model_selection import train_test_split, KFold\n",
    "from sklearn.multiclass import OneVsRestClassifier\n",
    "from sklearn.tree import DecisionTreeClassifier\n",
    "from sklearn.metrics import (\n",
    "    f1_score,\n",
    "    roc_auc_score,\n",
    "    accuracy_score,\n",
    "    confusion_matrix,\n",
    "    classification_report,\n",
    "    roc_curve,\n",
    ")\n",
    "from sklearn.preprocessing import StandardScaler\n",
    "from imblearn.over_sampling import RandomOverSampler, SMOTE\n",
    "from imblearn.under_sampling import (\n",
    "    RandomUnderSampler,\n",
    "    RepeatedEditedNearestNeighbours,\n",
    "    TomekLinks,\n",
    ")"
   ]
  },
  {
   "cell_type": "code",
   "execution_count": 2,
   "id": "874b2ca9",
   "metadata": {},
   "outputs": [],
   "source": [
    "data = Path(\"./Data_removed_outlier_iqr.csv\")"
   ]
  },
  {
   "cell_type": "code",
   "execution_count": 3,
   "id": "83de1a1b",
   "metadata": {},
   "outputs": [],
   "source": [
    "df = pd.read_csv(data)"
   ]
  },
  {
   "cell_type": "code",
   "execution_count": 4,
   "id": "8fe95c3c",
   "metadata": {},
   "outputs": [
    {
     "data": {
      "text/html": [
       "<div>\n",
       "<style scoped>\n",
       "    .dataframe tbody tr th:only-of-type {\n",
       "        vertical-align: middle;\n",
       "    }\n",
       "\n",
       "    .dataframe tbody tr th {\n",
       "        vertical-align: top;\n",
       "    }\n",
       "\n",
       "    .dataframe thead th {\n",
       "        text-align: right;\n",
       "    }\n",
       "</style>\n",
       "<table border=\"1\" class=\"dataframe\">\n",
       "  <thead>\n",
       "    <tr style=\"text-align: right;\">\n",
       "      <th></th>\n",
       "      <th>Area</th>\n",
       "      <th>Perimeter</th>\n",
       "      <th>MajorAxisLength</th>\n",
       "      <th>MinorAxisLength</th>\n",
       "      <th>AspectRation</th>\n",
       "      <th>Eccentricity</th>\n",
       "      <th>ConvexArea</th>\n",
       "      <th>EquivDiameter</th>\n",
       "      <th>Extent</th>\n",
       "      <th>Solidity</th>\n",
       "      <th>roundness</th>\n",
       "      <th>Compactness</th>\n",
       "      <th>ShapeFactor1</th>\n",
       "      <th>ShapeFactor2</th>\n",
       "      <th>ShapeFactor3</th>\n",
       "      <th>ShapeFactor4</th>\n",
       "      <th>Class</th>\n",
       "    </tr>\n",
       "  </thead>\n",
       "  <tbody>\n",
       "    <tr>\n",
       "      <th>0</th>\n",
       "      <td>35280</td>\n",
       "      <td>717.703</td>\n",
       "      <td>264.995250</td>\n",
       "      <td>170.035245</td>\n",
       "      <td>1.558472</td>\n",
       "      <td>0.766994</td>\n",
       "      <td>35772</td>\n",
       "      <td>211.943132</td>\n",
       "      <td>0.703616</td>\n",
       "      <td>0.986246</td>\n",
       "      <td>0.860694</td>\n",
       "      <td>0.799800</td>\n",
       "      <td>0.007511</td>\n",
       "      <td>0.001896</td>\n",
       "      <td>0.639680</td>\n",
       "      <td>0.996923</td>\n",
       "      <td>DERMASON</td>\n",
       "    </tr>\n",
       "    <tr>\n",
       "      <th>1</th>\n",
       "      <td>83296</td>\n",
       "      <td>1142.638</td>\n",
       "      <td>446.765889</td>\n",
       "      <td>239.013317</td>\n",
       "      <td>1.869209</td>\n",
       "      <td>0.844861</td>\n",
       "      <td>84270</td>\n",
       "      <td>325.662035</td>\n",
       "      <td>0.702588</td>\n",
       "      <td>0.988442</td>\n",
       "      <td>0.801709</td>\n",
       "      <td>0.728932</td>\n",
       "      <td>0.005364</td>\n",
       "      <td>0.000934</td>\n",
       "      <td>0.531342</td>\n",
       "      <td>0.993190</td>\n",
       "      <td>CALI</td>\n",
       "    </tr>\n",
       "    <tr>\n",
       "      <th>2</th>\n",
       "      <td>35594</td>\n",
       "      <td>689.634</td>\n",
       "      <td>254.572928</td>\n",
       "      <td>178.441837</td>\n",
       "      <td>1.426644</td>\n",
       "      <td>0.713214</td>\n",
       "      <td>35966</td>\n",
       "      <td>212.884213</td>\n",
       "      <td>0.811629</td>\n",
       "      <td>0.989657</td>\n",
       "      <td>0.940479</td>\n",
       "      <td>0.836241</td>\n",
       "      <td>0.007152</td>\n",
       "      <td>0.002157</td>\n",
       "      <td>0.699298</td>\n",
       "      <td>0.997650</td>\n",
       "      <td>DERMASON</td>\n",
       "    </tr>\n",
       "    <tr>\n",
       "      <th>3</th>\n",
       "      <td>52710</td>\n",
       "      <td>872.700</td>\n",
       "      <td>326.039383</td>\n",
       "      <td>207.399450</td>\n",
       "      <td>1.572036</td>\n",
       "      <td>0.771592</td>\n",
       "      <td>53280</td>\n",
       "      <td>259.060720</td>\n",
       "      <td>0.677419</td>\n",
       "      <td>0.989302</td>\n",
       "      <td>0.869707</td>\n",
       "      <td>0.794569</td>\n",
       "      <td>0.006186</td>\n",
       "      <td>0.001521</td>\n",
       "      <td>0.631340</td>\n",
       "      <td>0.992488</td>\n",
       "      <td>SIRA</td>\n",
       "    </tr>\n",
       "    <tr>\n",
       "      <th>4</th>\n",
       "      <td>62855</td>\n",
       "      <td>1004.759</td>\n",
       "      <td>413.879306</td>\n",
       "      <td>194.299306</td>\n",
       "      <td>2.130112</td>\n",
       "      <td>0.882954</td>\n",
       "      <td>63781</td>\n",
       "      <td>282.894807</td>\n",
       "      <td>0.598340</td>\n",
       "      <td>0.985482</td>\n",
       "      <td>0.782395</td>\n",
       "      <td>0.683520</td>\n",
       "      <td>0.006585</td>\n",
       "      <td>0.000887</td>\n",
       "      <td>0.467200</td>\n",
       "      <td>0.995188</td>\n",
       "      <td>HOROZ</td>\n",
       "    </tr>\n",
       "  </tbody>\n",
       "</table>\n",
       "</div>"
      ],
      "text/plain": [
       "    Area  Perimeter  MajorAxisLength  MinorAxisLength  AspectRation  \\\n",
       "0  35280    717.703       264.995250       170.035245      1.558472   \n",
       "1  83296   1142.638       446.765889       239.013317      1.869209   \n",
       "2  35594    689.634       254.572928       178.441837      1.426644   \n",
       "3  52710    872.700       326.039383       207.399450      1.572036   \n",
       "4  62855   1004.759       413.879306       194.299306      2.130112   \n",
       "\n",
       "   Eccentricity  ConvexArea  EquivDiameter    Extent  Solidity  roundness  \\\n",
       "0      0.766994       35772     211.943132  0.703616  0.986246   0.860694   \n",
       "1      0.844861       84270     325.662035  0.702588  0.988442   0.801709   \n",
       "2      0.713214       35966     212.884213  0.811629  0.989657   0.940479   \n",
       "3      0.771592       53280     259.060720  0.677419  0.989302   0.869707   \n",
       "4      0.882954       63781     282.894807  0.598340  0.985482   0.782395   \n",
       "\n",
       "   Compactness  ShapeFactor1  ShapeFactor2  ShapeFactor3  ShapeFactor4  \\\n",
       "0     0.799800      0.007511      0.001896      0.639680      0.996923   \n",
       "1     0.728932      0.005364      0.000934      0.531342      0.993190   \n",
       "2     0.836241      0.007152      0.002157      0.699298      0.997650   \n",
       "3     0.794569      0.006186      0.001521      0.631340      0.992488   \n",
       "4     0.683520      0.006585      0.000887      0.467200      0.995188   \n",
       "\n",
       "      Class  \n",
       "0  DERMASON  \n",
       "1      CALI  \n",
       "2  DERMASON  \n",
       "3      SIRA  \n",
       "4     HOROZ  "
      ]
     },
     "execution_count": 4,
     "metadata": {},
     "output_type": "execute_result"
    }
   ],
   "source": [
    "df.head()"
   ]
  },
  {
   "cell_type": "markdown",
   "id": "25a892d8-df07-49a1-aaac-d9b29e991279",
   "metadata": {
    "jupyter": {
     "outputs_hidden": false
    },
    "pycharm": {
     "name": "#%%\n"
    }
   },
   "source": [
    "## Baseline model"
   ]
  },
  {
   "cell_type": "markdown",
   "id": "f81bbb9d-8409-4630-935b-906bd203e46e",
   "metadata": {},
   "source": [
    "We can start with a simple baseline model: `DecisionTree` as this would not require scaling the data"
   ]
  },
  {
   "cell_type": "markdown",
   "id": "2069307c-c902-4533-8ded-ccf23fda03f9",
   "metadata": {},
   "source": [
    "I have already shuffled the columns so I will directly split them into `TRAIN` and `TEST`. We will further use the `TRAIN` set to do KFold cross validation."
   ]
  },
  {
   "cell_type": "code",
   "execution_count": 5,
   "id": "2369465b-2b44-4d9e-a411-b0050045ded2",
   "metadata": {},
   "outputs": [],
   "source": [
    "X = df.iloc[:, :16].values\n",
    "y = df.Class.astype(\"category\").cat.codes.values"
   ]
  },
  {
   "cell_type": "code",
   "execution_count": 6,
   "id": "9c0f7e82",
   "metadata": {},
   "outputs": [],
   "source": [
    "X_sclaed = StandardScaler().fit_transform(X)\n",
    "y_scaled = y"
   ]
  },
  {
   "cell_type": "code",
   "execution_count": 7,
   "id": "723c8bde-86be-41aa-897d-623776384531",
   "metadata": {},
   "outputs": [],
   "source": [
    "lbl2idx = {}\n",
    "for k, v in enumerate(df.Class.astype(\"category\").cat.categories):\n",
    "    lbl2idx[v] = k"
   ]
  },
  {
   "cell_type": "code",
   "execution_count": 8,
   "id": "98d147b7-1b04-4c98-bcc4-d536b4258096",
   "metadata": {},
   "outputs": [
    {
     "data": {
      "text/plain": [
       "{'BARBUNYA': 0,\n",
       " 'BOMBAY': 1,\n",
       " 'CALI': 2,\n",
       " 'DERMASON': 3,\n",
       " 'HOROZ': 4,\n",
       " 'SEKER': 5,\n",
       " 'SIRA': 6}"
      ]
     },
     "execution_count": 8,
     "metadata": {},
     "output_type": "execute_result"
    }
   ],
   "source": [
    "lbl2idx"
   ]
  },
  {
   "cell_type": "code",
   "execution_count": 9,
   "id": "a8f9135d-9f9b-44b3-ac34-5de8034d2aa2",
   "metadata": {},
   "outputs": [],
   "source": [
    "X_train, X_test, y_train, y_test = train_test_split(X, y, test_size=0.3)"
   ]
  },
  {
   "cell_type": "code",
   "execution_count": 10,
   "id": "92f10832-c954-4e9b-9501-f59d0f6c5736",
   "metadata": {},
   "outputs": [],
   "source": [
    "dt = DecisionTreeClassifier()"
   ]
  },
  {
   "cell_type": "code",
   "execution_count": 11,
   "id": "bbea7271-f98c-444c-a5d2-b551336ff573",
   "metadata": {},
   "outputs": [],
   "source": [
    "def plot(metrics, metric_name, splits=10):\n",
    "\n",
    "    splits = list(range(1, splits + 1))\n",
    "    plt.plot(splits, metrics)\n",
    "    plt.xlabel(\"splits\")\n",
    "    plt.ylabel(f\"{metric_name}\")\n",
    "    plt.show()\n",
    "\n",
    "    print(f\"Average validation {metric_name}: {sum(metrics)/10}\")"
   ]
  },
  {
   "cell_type": "code",
   "execution_count": 12,
   "id": "3c6b4c96-5113-4e9f-9b36-0bc42ab8a4c1",
   "metadata": {},
   "outputs": [
    {
     "name": "stderr",
     "output_type": "stream",
     "text": [
      "100%|███████████████████████████████████████████████████████████████████████████████████████████████████████████████████████████████| 10/10 [00:01<00:00,  7.01it/s]\n"
     ]
    }
   ],
   "source": [
    "kfold = KFold(n_splits=10)\n",
    "metrics = []\n",
    "\n",
    "for train_idx, val_idx in tqdm(kfold.split(X_train, y_train), total=10):\n",
    "    X_t, y_t = X_train[train_idx], y_train[train_idx]\n",
    "    X_val, y_val = X_train[val_idx], y_train[val_idx]\n",
    "\n",
    "    dt.fit(X_t, y_t)\n",
    "\n",
    "    y_pred = dt.predict(X_val)\n",
    "\n",
    "    score = accuracy_score(y_pred, y_val)\n",
    "    metrics.append(score)"
   ]
  },
  {
   "cell_type": "code",
   "execution_count": 13,
   "id": "f7f1cd9f",
   "metadata": {},
   "outputs": [
    {
     "data": {
      "text/plain": [
       "0.8782409761057448"
      ]
     },
     "execution_count": 13,
     "metadata": {},
     "output_type": "execute_result"
    }
   ],
   "source": [
    "y_pred_test = dt.predict(X_test)\n",
    "accuracy_score(y_pred_test, y_test)"
   ]
  },
  {
   "cell_type": "code",
   "execution_count": 14,
   "id": "3e5b46d8",
   "metadata": {},
   "outputs": [
    {
     "ename": "TypeError",
     "evalue": "'numpy.float64' object is not iterable",
     "output_type": "error",
     "traceback": [
      "\u001b[1;31m---------------------------------------------------------------------------\u001b[0m",
      "\u001b[1;31mTypeError\u001b[0m                                 Traceback (most recent call last)",
      "Input \u001b[1;32mIn [14]\u001b[0m, in \u001b[0;36m<module>\u001b[1;34m\u001b[0m\n\u001b[0;32m      1\u001b[0m scores \u001b[38;5;241m=\u001b[39m np\u001b[38;5;241m.\u001b[39msum(metrics, axis\u001b[38;5;241m=\u001b[39m\u001b[38;5;241m0\u001b[39m) \u001b[38;5;241m/\u001b[39m \u001b[38;5;241m10\u001b[39m\n\u001b[1;32m----> 2\u001b[0m \u001b[38;5;28;01mfor\u001b[39;00m c, score \u001b[38;5;129;01min\u001b[39;00m \u001b[38;5;28;43mzip\u001b[39;49m\u001b[43m(\u001b[49m\u001b[38;5;28;43mlist\u001b[39;49m\u001b[43m(\u001b[49m\u001b[43mlbl2idx\u001b[49m\u001b[38;5;241;43m.\u001b[39;49m\u001b[43mkeys\u001b[49m\u001b[43m(\u001b[49m\u001b[43m)\u001b[49m\u001b[43m)\u001b[49m\u001b[43m,\u001b[49m\u001b[43m \u001b[49m\u001b[43mscores\u001b[49m\u001b[43m)\u001b[49m:\n\u001b[0;32m      3\u001b[0m     \u001b[38;5;28mprint\u001b[39m(\u001b[38;5;124mf\u001b[39m\u001b[38;5;124m\"\u001b[39m\u001b[38;5;124mAveraged f1-score for class \u001b[39m\u001b[38;5;132;01m{\u001b[39;00mc\u001b[38;5;132;01m}\u001b[39;00m\u001b[38;5;124m: \u001b[39m\u001b[38;5;132;01m{\u001b[39;00mscore\u001b[38;5;132;01m}\u001b[39;00m\u001b[38;5;124m\"\u001b[39m)\n",
      "\u001b[1;31mTypeError\u001b[0m: 'numpy.float64' object is not iterable"
     ]
    }
   ],
   "source": [
    "scores = np.sum(metrics, axis=0) / 10\n",
    "for c, score in zip(list(lbl2idx.keys()), scores):\n",
    "    print(f\"Averaged f1-score for class {c}: {score}\")"
   ]
  },
  {
   "cell_type": "code",
   "execution_count": null,
   "id": "66ec9405-2814-4825-a767-0b5a9b287495",
   "metadata": {},
   "outputs": [],
   "source": [
    "X_sam, y_sam = RandomOverSampler().fit_resample(X_train, y_train)"
   ]
  },
  {
   "cell_type": "code",
   "execution_count": null,
   "id": "500d64ab-013d-4049-8779-04ec771a776c",
   "metadata": {},
   "outputs": [],
   "source": [
    "kf = KFold(n_splits=10, shuffle=True)\n",
    "metrics = []\n",
    "for train_idx, val_idx in tqdm(kf.split(X_sam, y_sam), total=kf.get_n_splits()):\n",
    "    X_train, y_train = X_sam[train_idx], y_sam[train_idx]\n",
    "    X_val, y_val = X_sam[val_idx], y_sam[val_idx]\n",
    "    dt.fit(X_train, y_train)\n",
    "\n",
    "    y_pred = dt.predict(X_val)\n",
    "    metrics.append(f1_score(y_pred, y_val, average=None))"
   ]
  },
  {
   "cell_type": "code",
   "execution_count": null,
   "id": "b51c416d",
   "metadata": {},
   "outputs": [],
   "source": [
    "np.sum(metrics, axis=0) / 10"
   ]
  },
  {
   "cell_type": "code",
   "execution_count": null,
   "id": "a48945d2",
   "metadata": {},
   "outputs": [],
   "source": []
  }
 ],
 "metadata": {
  "kernelspec": {
   "display_name": "Python 3 (ipykernel)",
   "language": "python",
   "name": "python3"
  },
  "language_info": {
   "codemirror_mode": {
    "name": "ipython",
    "version": 3
   },
   "file_extension": ".py",
   "mimetype": "text/x-python",
   "name": "python",
   "nbconvert_exporter": "python",
   "pygments_lexer": "ipython3",
   "version": "3.9.7"
  },
  "toc": {
   "base_numbering": 1,
   "nav_menu": {},
   "number_sections": false,
   "sideBar": true,
   "skip_h1_title": false,
   "title_cell": "Table of Contents",
   "title_sidebar": "Contents",
   "toc_cell": true,
   "toc_position": {
    "height": "565.6px",
    "left": "24px",
    "top": "197.125px",
    "width": "273.825px"
   },
   "toc_section_display": true,
   "toc_window_display": false
  }
 },
 "nbformat": 4,
 "nbformat_minor": 5
}
