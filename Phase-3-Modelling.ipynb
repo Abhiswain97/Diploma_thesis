{
 "cells": [
  {
   "cell_type": "markdown",
   "id": "c5e484a5",
   "metadata": {
    "toc": true
   },
   "source": [
    "<h1>Table of Contents<span class=\"tocSkip\"></span></h1>\n",
    "<div class=\"toc\"><ul class=\"toc-item\"><li><span><a href=\"#Modelling\" data-toc-modified-id=\"Modelling-1\">Modelling</a></span><ul class=\"toc-item\"><li><span><a href=\"#Baseline-model\" data-toc-modified-id=\"Baseline-model-1.1\">Baseline model</a></span></li></ul></li></ul></div>"
   ]
  },
  {
   "cell_type": "markdown",
   "id": "1d6575a4",
   "metadata": {},
   "source": [
    "<center><h1>Modelling</h1></center>"
   ]
  },
  {
   "cell_type": "code",
   "execution_count": null,
   "id": "cf1499ae-f547-4df1-9b70-bcd39cf0615d",
   "metadata": {},
   "outputs": [],
   "source": [
    "import numpy as np\n",
    "import pandas as pd\n",
    "import matplotlib.pyplot as plt\n",
    "from pathlib import Path\n",
    "\n",
    "from tqdm import tqdm\n",
    "\n",
    "from sklearn.model_selection import train_test_split, KFold\n",
    "from sklearn.multiclass import OneVsRestClassifier\n",
    "from sklearn.tree import DecisionTreeClassifier\n",
    "from sklearn.metrics import (\n",
    "    f1_score,\n",
    "    roc_auc_score,\n",
    "    accuracy_score,\n",
    "    confusion_matrix,\n",
    "    classification_report,\n",
    "    roc_curve,\n",
    ")\n",
    "from sklearn.preprocessing import StandardScaler\n",
    "from imblearn.over_sampling import RandomOverSampler, SMOTE\n",
    "from imblearn.under_sampling import (\n",
    "    RandomUnderSampler,\n",
    "    RepeatedEditedNearestNeighbours,\n",
    "    TomekLinks,\n",
    ")"
   ]
  },
  {
   "cell_type": "code",
   "execution_count": null,
   "id": "874b2ca9",
   "metadata": {},
   "outputs": [],
   "source": [
    "data = Path(\"./Data_removed_outlier_iqr.csv\")"
   ]
  },
  {
   "cell_type": "code",
   "execution_count": null,
   "id": "83de1a1b",
   "metadata": {},
   "outputs": [],
   "source": [
    "df = pd.read_csv(data)"
   ]
  },
  {
   "cell_type": "code",
   "execution_count": null,
   "id": "8fe95c3c",
   "metadata": {},
   "outputs": [],
   "source": [
    "df.head()"
   ]
  },
  {
   "cell_type": "markdown",
   "id": "25a892d8-df07-49a1-aaac-d9b29e991279",
   "metadata": {
    "jupyter": {
     "outputs_hidden": false
    },
    "pycharm": {
     "name": "#%%\n"
    }
   },
   "source": [
    "## Baseline model"
   ]
  },
  {
   "cell_type": "markdown",
   "id": "f81bbb9d-8409-4630-935b-906bd203e46e",
   "metadata": {},
   "source": [
    "We can start with a simple baseline model: `DecisionTree` as this would not require scaling the data"
   ]
  },
  {
   "cell_type": "markdown",
   "id": "2069307c-c902-4533-8ded-ccf23fda03f9",
   "metadata": {},
   "source": [
    "I have already shuffled the columns so I will directly split them into `TRAIN` and `TEST`. We will further use the `TRAIN` set to do KFold cross validation."
   ]
  },
  {
   "cell_type": "code",
   "execution_count": null,
   "id": "2369465b-2b44-4d9e-a411-b0050045ded2",
   "metadata": {},
   "outputs": [],
   "source": [
    "X = df.iloc[:, :16].values\n",
    "y = df.Class.astype(\"category\").cat.codes.values"
   ]
  },
  {
   "cell_type": "code",
   "execution_count": null,
   "id": "9c0f7e82",
   "metadata": {},
   "outputs": [],
   "source": [
    "X_sclaed = StandardScaler().fit_transform(X)\n",
    "y_scaled = y"
   ]
  },
  {
   "cell_type": "code",
   "execution_count": null,
   "id": "723c8bde-86be-41aa-897d-623776384531",
   "metadata": {},
   "outputs": [],
   "source": [
    "lbl2idx = {}\n",
    "for k, v in enumerate(df.Class.astype(\"category\").cat.categories):\n",
    "    lbl2idx[v] = k"
   ]
  },
  {
   "cell_type": "code",
   "execution_count": null,
   "id": "98d147b7-1b04-4c98-bcc4-d536b4258096",
   "metadata": {},
   "outputs": [],
   "source": [
    "lbl2idx"
   ]
  },
  {
   "cell_type": "code",
   "execution_count": null,
   "id": "a8f9135d-9f9b-44b3-ac34-5de8034d2aa2",
   "metadata": {},
   "outputs": [],
   "source": [
    "X_train, X_test, y_train, y_test = train_test_split(X, y, test_size=0.3)"
   ]
  },
  {
   "cell_type": "code",
   "execution_count": null,
   "id": "92f10832-c954-4e9b-9501-f59d0f6c5736",
   "metadata": {},
   "outputs": [],
   "source": [
    "dt = DecisionTreeClassifier()"
   ]
  },
  {
   "cell_type": "code",
   "execution_count": null,
   "id": "bbea7271-f98c-444c-a5d2-b551336ff573",
   "metadata": {},
   "outputs": [],
   "source": [
    "def plot(metrics, metric_name, splits=10):\n",
    "\n",
    "    splits = list(range(1, splits + 1))\n",
    "    plt.plot(splits, metrics)\n",
    "    plt.xlabel(\"splits\")\n",
    "    plt.ylabel(f\"{metric_name}\")\n",
    "    plt.show()\n",
    "\n",
    "    print(f\"Average validation {metric_name}: {sum(metrics)/10}\")"
   ]
  },
  {
   "cell_type": "code",
   "execution_count": null,
   "id": "3c6b4c96-5113-4e9f-9b36-0bc42ab8a4c1",
   "metadata": {},
   "outputs": [],
   "source": [
    "kfold = KFold(n_splits=10)\n",
    "metrics = []\n",
    "\n",
    "for train_idx, val_idx in tqdm(kfold.split(X_train, y_train), total=10):\n",
    "    X_t, y_t = X_train[train_idx], y_train[train_idx]\n",
    "    X_val, y_val = X_train[val_idx], y_train[val_idx]\n",
    "\n",
    "    dt.fit(X_t, y_t)\n",
    "\n",
    "    y_pred = dt.predict(X_val)\n",
    "\n",
    "    score = accuracy_score(y_pred, y_val)\n",
    "    metrics.append(score)"
   ]
  },
  {
   "cell_type": "code",
   "execution_count": null,
   "id": "f7f1cd9f",
   "metadata": {},
   "outputs": [],
   "source": [
    "y_pred_test = dt.predict(X_test)\n",
    "accuracy_score(y_pred_test, y_test)"
   ]
  },
  {
   "cell_type": "code",
   "execution_count": null,
   "id": "3e5b46d8",
   "metadata": {},
   "outputs": [],
   "source": [
    "scores = np.sum(metrics, axis=0) / 10\n",
    "for c, score in zip(list(lbl2idx.keys()), scores):\n",
    "    print(f\"Averaged f1-score for class {c}: {score}\")"
   ]
  },
  {
   "cell_type": "code",
   "execution_count": null,
   "id": "66ec9405-2814-4825-a767-0b5a9b287495",
   "metadata": {},
   "outputs": [],
   "source": [
    "X_sam, y_sam = RandomOverSampler().fit_resample(X_train, y_train)"
   ]
  },
  {
   "cell_type": "code",
   "execution_count": null,
   "id": "500d64ab-013d-4049-8779-04ec771a776c",
   "metadata": {},
   "outputs": [],
   "source": [
    "kf = KFold(n_splits=10, shuffle=True)\n",
    "metrics = []\n",
    "for train_idx, val_idx in tqdm(kf.split(X_sam, y_sam), total=kf.get_n_splits()):\n",
    "    X_train, y_train = X_sam[train_idx], y_sam[train_idx]\n",
    "    X_val, y_val = X_sam[val_idx], y_sam[val_idx]\n",
    "    dt.fit(X_train, y_train)\n",
    "\n",
    "    y_pred = dt.predict(X_val)\n",
    "    metrics.append(f1_score(y_pred, y_val, average=None))"
   ]
  },
  {
   "cell_type": "code",
   "execution_count": null,
   "id": "b51c416d",
   "metadata": {},
   "outputs": [],
   "source": [
    "np.sum(metrics, axis=0) / 10"
   ]
  },
  {
   "cell_type": "code",
   "execution_count": null,
   "id": "a48945d2",
   "metadata": {},
   "outputs": [],
   "source": []
  }
 ],
 "metadata": {
  "kernelspec": {
   "display_name": "Python 3",
   "language": "python",
   "name": "python3"
  },
  "language_info": {
   "codemirror_mode": {
    "name": "ipython",
    "version": 3
   },
   "file_extension": ".py",
   "mimetype": "text/x-python",
   "name": "python",
   "nbconvert_exporter": "python",
   "pygments_lexer": "ipython3",
   "version": "3.8.8"
  },
  "toc": {
   "base_numbering": 1,
   "nav_menu": {},
   "number_sections": false,
   "sideBar": true,
   "skip_h1_title": false,
   "title_cell": "Table of Contents",
   "title_sidebar": "Contents",
   "toc_cell": true,
   "toc_position": {
    "height": "565.6px",
    "left": "24px",
    "top": "197.125px",
    "width": "273.825px"
   },
   "toc_section_display": true,
   "toc_window_display": false
  }
 },
 "nbformat": 4,
 "nbformat_minor": 5
}
