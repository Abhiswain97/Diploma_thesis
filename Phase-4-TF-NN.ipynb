{
 "cells": [
  {
   "cell_type": "code",
   "execution_count": 1,
   "id": "de4fb895",
   "metadata": {},
   "outputs": [],
   "source": [
    "import tensorflow as tf\n",
    "from tensorflow.keras import layers, losses, metrics, optimizers, callbacks\n",
    "import pandas as pd\n",
    "\n",
    "from sklearn.preprocessing import StandardScaler\n",
    "from sklearn.model_selection import train_test_split\n",
    "from sklearn.metrics import confusion_matrix, classification_report, f1_score\n",
    "from imblearn.metrics import classification_report_imbalanced\n",
    "\n",
    "from imblearn.over_sampling import RandomOverSampler, SMOTE\n",
    "from imblearn.under_sampling import RandomUnderSampler\n",
    "\n",
    "import seaborn as sns\n",
    "import matplotlib.pyplot as plt\n",
    "import requests"
   ]
  },
  {
   "cell_type": "code",
   "execution_count": 3,
   "id": "c03a4088",
   "metadata": {},
   "outputs": [],
   "source": [
    "df = pd.read_csv('./DryBeanDataset/Dry_Bean_Dataset.csv').sample(frac=1).reset_index(drop=True)"
   ]
  },
  {
   "cell_type": "code",
   "execution_count": 4,
   "id": "4474a92a",
   "metadata": {},
   "outputs": [
    {
     "data": {
      "text/html": [
       "<div>\n",
       "<style scoped>\n",
       "    .dataframe tbody tr th:only-of-type {\n",
       "        vertical-align: middle;\n",
       "    }\n",
       "\n",
       "    .dataframe tbody tr th {\n",
       "        vertical-align: top;\n",
       "    }\n",
       "\n",
       "    .dataframe thead th {\n",
       "        text-align: right;\n",
       "    }\n",
       "</style>\n",
       "<table border=\"1\" class=\"dataframe\">\n",
       "  <thead>\n",
       "    <tr style=\"text-align: right;\">\n",
       "      <th></th>\n",
       "      <th>Area</th>\n",
       "      <th>Perimeter</th>\n",
       "      <th>MajorAxisLength</th>\n",
       "      <th>MinorAxisLength</th>\n",
       "      <th>AspectRation</th>\n",
       "      <th>Eccentricity</th>\n",
       "      <th>ConvexArea</th>\n",
       "      <th>EquivDiameter</th>\n",
       "      <th>Extent</th>\n",
       "      <th>Solidity</th>\n",
       "      <th>roundness</th>\n",
       "      <th>Compactness</th>\n",
       "      <th>ShapeFactor1</th>\n",
       "      <th>ShapeFactor2</th>\n",
       "      <th>ShapeFactor3</th>\n",
       "      <th>ShapeFactor4</th>\n",
       "      <th>Class</th>\n",
       "    </tr>\n",
       "  </thead>\n",
       "  <tbody>\n",
       "    <tr>\n",
       "      <th>0</th>\n",
       "      <td>84334</td>\n",
       "      <td>1123.665</td>\n",
       "      <td>370.966423</td>\n",
       "      <td>290.369127</td>\n",
       "      <td>1.277568</td>\n",
       "      <td>0.622353</td>\n",
       "      <td>85612</td>\n",
       "      <td>327.684885</td>\n",
       "      <td>0.778276</td>\n",
       "      <td>0.985072</td>\n",
       "      <td>0.839342</td>\n",
       "      <td>0.883328</td>\n",
       "      <td>0.004399</td>\n",
       "      <td>0.001652</td>\n",
       "      <td>0.780268</td>\n",
       "      <td>0.996845</td>\n",
       "      <td>BARBUNYA</td>\n",
       "    </tr>\n",
       "    <tr>\n",
       "      <th>1</th>\n",
       "      <td>64839</td>\n",
       "      <td>953.714</td>\n",
       "      <td>370.229724</td>\n",
       "      <td>223.892876</td>\n",
       "      <td>1.653602</td>\n",
       "      <td>0.796423</td>\n",
       "      <td>65397</td>\n",
       "      <td>287.324866</td>\n",
       "      <td>0.707764</td>\n",
       "      <td>0.991467</td>\n",
       "      <td>0.895798</td>\n",
       "      <td>0.776072</td>\n",
       "      <td>0.005710</td>\n",
       "      <td>0.001278</td>\n",
       "      <td>0.602288</td>\n",
       "      <td>0.995944</td>\n",
       "      <td>CALI</td>\n",
       "    </tr>\n",
       "    <tr>\n",
       "      <th>2</th>\n",
       "      <td>48892</td>\n",
       "      <td>825.048</td>\n",
       "      <td>312.503481</td>\n",
       "      <td>199.748839</td>\n",
       "      <td>1.564482</td>\n",
       "      <td>0.769050</td>\n",
       "      <td>49353</td>\n",
       "      <td>249.501960</td>\n",
       "      <td>0.820556</td>\n",
       "      <td>0.990659</td>\n",
       "      <td>0.902587</td>\n",
       "      <td>0.798397</td>\n",
       "      <td>0.006392</td>\n",
       "      <td>0.001602</td>\n",
       "      <td>0.637438</td>\n",
       "      <td>0.997261</td>\n",
       "      <td>SIRA</td>\n",
       "    </tr>\n",
       "    <tr>\n",
       "      <th>3</th>\n",
       "      <td>29494</td>\n",
       "      <td>635.349</td>\n",
       "      <td>236.393694</td>\n",
       "      <td>159.218566</td>\n",
       "      <td>1.484712</td>\n",
       "      <td>0.739159</td>\n",
       "      <td>29830</td>\n",
       "      <td>193.785776</td>\n",
       "      <td>0.771428</td>\n",
       "      <td>0.988736</td>\n",
       "      <td>0.918161</td>\n",
       "      <td>0.819759</td>\n",
       "      <td>0.008015</td>\n",
       "      <td>0.002233</td>\n",
       "      <td>0.672004</td>\n",
       "      <td>0.997733</td>\n",
       "      <td>DERMASON</td>\n",
       "    </tr>\n",
       "    <tr>\n",
       "      <th>4</th>\n",
       "      <td>129409</td>\n",
       "      <td>1348.888</td>\n",
       "      <td>484.364424</td>\n",
       "      <td>341.172659</td>\n",
       "      <td>1.419705</td>\n",
       "      <td>0.709831</td>\n",
       "      <td>130688</td>\n",
       "      <td>405.917056</td>\n",
       "      <td>0.799334</td>\n",
       "      <td>0.990213</td>\n",
       "      <td>0.893763</td>\n",
       "      <td>0.838041</td>\n",
       "      <td>0.003743</td>\n",
       "      <td>0.001139</td>\n",
       "      <td>0.702312</td>\n",
       "      <td>0.997076</td>\n",
       "      <td>BOMBAY</td>\n",
       "    </tr>\n",
       "    <tr>\n",
       "      <th>5</th>\n",
       "      <td>51071</td>\n",
       "      <td>833.064</td>\n",
       "      <td>300.387070</td>\n",
       "      <td>216.692076</td>\n",
       "      <td>1.386239</td>\n",
       "      <td>0.692543</td>\n",
       "      <td>51633</td>\n",
       "      <td>255.001209</td>\n",
       "      <td>0.774754</td>\n",
       "      <td>0.989115</td>\n",
       "      <td>0.924757</td>\n",
       "      <td>0.848909</td>\n",
       "      <td>0.005882</td>\n",
       "      <td>0.001884</td>\n",
       "      <td>0.720646</td>\n",
       "      <td>0.998988</td>\n",
       "      <td>SEKER</td>\n",
       "    </tr>\n",
       "    <tr>\n",
       "      <th>6</th>\n",
       "      <td>72923</td>\n",
       "      <td>1083.134</td>\n",
       "      <td>406.963153</td>\n",
       "      <td>229.197676</td>\n",
       "      <td>1.775599</td>\n",
       "      <td>0.826327</td>\n",
       "      <td>74095</td>\n",
       "      <td>304.710432</td>\n",
       "      <td>0.689932</td>\n",
       "      <td>0.984182</td>\n",
       "      <td>0.781106</td>\n",
       "      <td>0.748742</td>\n",
       "      <td>0.005581</td>\n",
       "      <td>0.001082</td>\n",
       "      <td>0.560615</td>\n",
       "      <td>0.995427</td>\n",
       "      <td>BARBUNYA</td>\n",
       "    </tr>\n",
       "    <tr>\n",
       "      <th>7</th>\n",
       "      <td>51408</td>\n",
       "      <td>866.227</td>\n",
       "      <td>300.842462</td>\n",
       "      <td>218.056725</td>\n",
       "      <td>1.379652</td>\n",
       "      <td>0.688938</td>\n",
       "      <td>52127</td>\n",
       "      <td>255.841159</td>\n",
       "      <td>0.743610</td>\n",
       "      <td>0.986207</td>\n",
       "      <td>0.860948</td>\n",
       "      <td>0.850416</td>\n",
       "      <td>0.005852</td>\n",
       "      <td>0.001888</td>\n",
       "      <td>0.723207</td>\n",
       "      <td>0.997774</td>\n",
       "      <td>SEKER</td>\n",
       "    </tr>\n",
       "    <tr>\n",
       "      <th>8</th>\n",
       "      <td>25537</td>\n",
       "      <td>597.771</td>\n",
       "      <td>229.832389</td>\n",
       "      <td>141.785143</td>\n",
       "      <td>1.620991</td>\n",
       "      <td>0.787036</td>\n",
       "      <td>25884</td>\n",
       "      <td>180.318380</td>\n",
       "      <td>0.722200</td>\n",
       "      <td>0.986594</td>\n",
       "      <td>0.898070</td>\n",
       "      <td>0.784565</td>\n",
       "      <td>0.009000</td>\n",
       "      <td>0.002103</td>\n",
       "      <td>0.615542</td>\n",
       "      <td>0.997787</td>\n",
       "      <td>DERMASON</td>\n",
       "    </tr>\n",
       "    <tr>\n",
       "      <th>9</th>\n",
       "      <td>42506</td>\n",
       "      <td>748.990</td>\n",
       "      <td>259.418196</td>\n",
       "      <td>209.126437</td>\n",
       "      <td>1.240485</td>\n",
       "      <td>0.591730</td>\n",
       "      <td>42916</td>\n",
       "      <td>232.637744</td>\n",
       "      <td>0.799947</td>\n",
       "      <td>0.990446</td>\n",
       "      <td>0.952156</td>\n",
       "      <td>0.896767</td>\n",
       "      <td>0.006103</td>\n",
       "      <td>0.002435</td>\n",
       "      <td>0.804192</td>\n",
       "      <td>0.997587</td>\n",
       "      <td>SEKER</td>\n",
       "    </tr>\n",
       "  </tbody>\n",
       "</table>\n",
       "</div>"
      ],
      "text/plain": [
       "     Area  Perimeter  MajorAxisLength  MinorAxisLength  AspectRation  \\\n",
       "0   84334   1123.665       370.966423       290.369127      1.277568   \n",
       "1   64839    953.714       370.229724       223.892876      1.653602   \n",
       "2   48892    825.048       312.503481       199.748839      1.564482   \n",
       "3   29494    635.349       236.393694       159.218566      1.484712   \n",
       "4  129409   1348.888       484.364424       341.172659      1.419705   \n",
       "5   51071    833.064       300.387070       216.692076      1.386239   \n",
       "6   72923   1083.134       406.963153       229.197676      1.775599   \n",
       "7   51408    866.227       300.842462       218.056725      1.379652   \n",
       "8   25537    597.771       229.832389       141.785143      1.620991   \n",
       "9   42506    748.990       259.418196       209.126437      1.240485   \n",
       "\n",
       "   Eccentricity  ConvexArea  EquivDiameter    Extent  Solidity  roundness  \\\n",
       "0      0.622353       85612     327.684885  0.778276  0.985072   0.839342   \n",
       "1      0.796423       65397     287.324866  0.707764  0.991467   0.895798   \n",
       "2      0.769050       49353     249.501960  0.820556  0.990659   0.902587   \n",
       "3      0.739159       29830     193.785776  0.771428  0.988736   0.918161   \n",
       "4      0.709831      130688     405.917056  0.799334  0.990213   0.893763   \n",
       "5      0.692543       51633     255.001209  0.774754  0.989115   0.924757   \n",
       "6      0.826327       74095     304.710432  0.689932  0.984182   0.781106   \n",
       "7      0.688938       52127     255.841159  0.743610  0.986207   0.860948   \n",
       "8      0.787036       25884     180.318380  0.722200  0.986594   0.898070   \n",
       "9      0.591730       42916     232.637744  0.799947  0.990446   0.952156   \n",
       "\n",
       "   Compactness  ShapeFactor1  ShapeFactor2  ShapeFactor3  ShapeFactor4  \\\n",
       "0     0.883328      0.004399      0.001652      0.780268      0.996845   \n",
       "1     0.776072      0.005710      0.001278      0.602288      0.995944   \n",
       "2     0.798397      0.006392      0.001602      0.637438      0.997261   \n",
       "3     0.819759      0.008015      0.002233      0.672004      0.997733   \n",
       "4     0.838041      0.003743      0.001139      0.702312      0.997076   \n",
       "5     0.848909      0.005882      0.001884      0.720646      0.998988   \n",
       "6     0.748742      0.005581      0.001082      0.560615      0.995427   \n",
       "7     0.850416      0.005852      0.001888      0.723207      0.997774   \n",
       "8     0.784565      0.009000      0.002103      0.615542      0.997787   \n",
       "9     0.896767      0.006103      0.002435      0.804192      0.997587   \n",
       "\n",
       "      Class  \n",
       "0  BARBUNYA  \n",
       "1      CALI  \n",
       "2      SIRA  \n",
       "3  DERMASON  \n",
       "4    BOMBAY  \n",
       "5     SEKER  \n",
       "6  BARBUNYA  \n",
       "7     SEKER  \n",
       "8  DERMASON  \n",
       "9     SEKER  "
      ]
     },
     "execution_count": 4,
     "metadata": {},
     "output_type": "execute_result"
    }
   ],
   "source": [
    "df.head(10)"
   ]
  },
  {
   "cell_type": "code",
   "execution_count": 5,
   "id": "8f344ea3",
   "metadata": {},
   "outputs": [],
   "source": [
    "net = tf.keras.Sequential(\n",
    "    [\n",
    "        layers.Dense(512, activation='relu'),\n",
    "        layers.Dense(256, activation='relu'),\n",
    "        layers.Dense(7)\n",
    "    ]\n",
    ")"
   ]
  },
  {
   "cell_type": "code",
   "execution_count": 6,
   "id": "7cd4b173",
   "metadata": {},
   "outputs": [],
   "source": [
    "X = df.drop(columns=[\"Class\"]).values\n",
    "y = df.Class.astype(\"category\").cat.codes.values"
   ]
  },
  {
   "cell_type": "code",
   "execution_count": 7,
   "id": "ba557b50",
   "metadata": {},
   "outputs": [],
   "source": [
    "# X, y = SMOTE().fit_resample(X, y)"
   ]
  },
  {
   "cell_type": "code",
   "execution_count": 8,
   "id": "a75bfecd",
   "metadata": {},
   "outputs": [],
   "source": [
    "# scaling the the data for training!\n",
    "scaler = StandardScaler()\n",
    "\n",
    "X_train, X_test, y_train, y_test = train_test_split(\n",
    "    X, y, test_size=0.25\n",
    ")\n",
    "\n",
    "X_train = scaler.fit_transform(X_train)\n",
    "\n",
    "X_train, X_val, y_train, y_val = train_test_split(\n",
    "    X_train, y_train, test_size=0.25\n",
    ")"
   ]
  },
  {
   "cell_type": "code",
   "execution_count": 10,
   "id": "b66c207f",
   "metadata": {},
   "outputs": [],
   "source": [
    "train_ds = tf.data.Dataset.from_tensor_slices((X_train, y_train)).batch(32)\n",
    "val_ds = tf.data.Dataset.from_tensor_slices((X_val, y_val)).batch(16)"
   ]
  },
  {
   "cell_type": "code",
   "execution_count": 12,
   "id": "47890e98",
   "metadata": {},
   "outputs": [],
   "source": [
    "net.compile(\n",
    "    optimizer=optimizers.Adam(learning_rate=3e-4),\n",
    "    loss=losses.SparseCategoricalCrossentropy(from_logits=True),\n",
    "    metrics=[\n",
    "        metrics.SparseCategoricalAccuracy()\n",
    "    ]\n",
    ")"
   ]
  },
  {
   "cell_type": "code",
   "execution_count": 13,
   "id": "64d6ada7",
   "metadata": {
    "scrolled": false
   },
   "outputs": [
    {
     "name": "stdout",
     "output_type": "stream",
     "text": [
      "Epoch 1/10\n",
      "237/240 [============================>.] - ETA: 0s - loss: 0.5101 - sparse_categorical_accuracy: 0.8444\n",
      "Epoch 00001: val_loss improved from inf to 0.24518, saving model to models\\2\n",
      "INFO:tensorflow:Assets written to: models\\2\\assets\n",
      "240/240 [==============================] - 3s 8ms/step - loss: 0.5075 - sparse_categorical_accuracy: 0.8450 - val_loss: 0.2452 - val_sparse_categorical_accuracy: 0.9177\n",
      "Epoch 2/10\n",
      "227/240 [===========================>..] - ETA: 0s - loss: 0.2254 - sparse_categorical_accuracy: 0.9189\n",
      "Epoch 00002: val_loss improved from 0.24518 to 0.21549, saving model to models\\2\n",
      "INFO:tensorflow:Assets written to: models\\2\\assets\n",
      "240/240 [==============================] - 2s 7ms/step - loss: 0.2245 - sparse_categorical_accuracy: 0.9190 - val_loss: 0.2155 - val_sparse_categorical_accuracy: 0.9189\n",
      "Epoch 3/10\n",
      "239/240 [============================>.] - ETA: 0s - loss: 0.2053 - sparse_categorical_accuracy: 0.9252\n",
      "Epoch 00003: val_loss improved from 0.21549 to 0.20733, saving model to models\\2\n",
      "INFO:tensorflow:Assets written to: models\\2\\assets\n",
      "240/240 [==============================] - 2s 7ms/step - loss: 0.2061 - sparse_categorical_accuracy: 0.9249 - val_loss: 0.2073 - val_sparse_categorical_accuracy: 0.9232\n",
      "Epoch 4/10\n",
      "229/240 [===========================>..] - ETA: 0s - loss: 0.1989 - sparse_categorical_accuracy: 0.9258\n",
      "Epoch 00004: val_loss improved from 0.20733 to 0.20348, saving model to models\\2\n",
      "INFO:tensorflow:Assets written to: models\\2\\assets\n",
      "240/240 [==============================] - 2s 7ms/step - loss: 0.1984 - sparse_categorical_accuracy: 0.9258 - val_loss: 0.2035 - val_sparse_categorical_accuracy: 0.9252\n",
      "Epoch 5/10\n",
      "240/240 [==============================] - ETA: 0s - loss: 0.1936 - sparse_categorical_accuracy: 0.9265\n",
      "Epoch 00005: val_loss improved from 0.20348 to 0.20126, saving model to models\\2\n",
      "INFO:tensorflow:Assets written to: models\\2\\assets\n",
      "240/240 [==============================] - 2s 7ms/step - loss: 0.1936 - sparse_categorical_accuracy: 0.9265 - val_loss: 0.2013 - val_sparse_categorical_accuracy: 0.9255\n",
      "Epoch 6/10\n",
      "229/240 [===========================>..] - ETA: 0s - loss: 0.1907 - sparse_categorical_accuracy: 0.9281\n",
      "Epoch 00006: val_loss improved from 0.20126 to 0.19975, saving model to models\\2\n",
      "INFO:tensorflow:Assets written to: models\\2\\assets\n",
      "240/240 [==============================] - 2s 8ms/step - loss: 0.1902 - sparse_categorical_accuracy: 0.9282 - val_loss: 0.1998 - val_sparse_categorical_accuracy: 0.9267\n",
      "Epoch 7/10\n",
      "229/240 [===========================>..] - ETA: 0s - loss: 0.1879 - sparse_categorical_accuracy: 0.9294\n",
      "Epoch 00007: val_loss improved from 0.19975 to 0.19871, saving model to models\\2\n",
      "INFO:tensorflow:Assets written to: models\\2\\assets\n",
      "240/240 [==============================] - 2s 8ms/step - loss: 0.1875 - sparse_categorical_accuracy: 0.9295 - val_loss: 0.1987 - val_sparse_categorical_accuracy: 0.9259\n",
      "Epoch 8/10\n",
      "240/240 [==============================] - ETA: 0s - loss: 0.1853 - sparse_categorical_accuracy: 0.9303\n",
      "Epoch 00008: val_loss improved from 0.19871 to 0.19790, saving model to models\\2\n",
      "INFO:tensorflow:Assets written to: models\\2\\assets\n",
      "240/240 [==============================] - 2s 8ms/step - loss: 0.1853 - sparse_categorical_accuracy: 0.9303 - val_loss: 0.1979 - val_sparse_categorical_accuracy: 0.9267\n",
      "Epoch 9/10\n",
      "230/240 [===========================>..] - ETA: 0s - loss: 0.1834 - sparse_categorical_accuracy: 0.9314\n",
      "Epoch 00009: val_loss improved from 0.19790 to 0.19729, saving model to models\\2\n",
      "INFO:tensorflow:Assets written to: models\\2\\assets\n",
      "240/240 [==============================] - 2s 7ms/step - loss: 0.1832 - sparse_categorical_accuracy: 0.9313 - val_loss: 0.1973 - val_sparse_categorical_accuracy: 0.9271\n",
      "Epoch 10/10\n",
      "240/240 [==============================] - ETA: 0s - loss: 0.1815 - sparse_categorical_accuracy: 0.9321\n",
      "Epoch 00010: val_loss improved from 0.19729 to 0.19657, saving model to models\\2\n",
      "INFO:tensorflow:Assets written to: models\\2\\assets\n",
      "240/240 [==============================] - 2s 7ms/step - loss: 0.1815 - sparse_categorical_accuracy: 0.9321 - val_loss: 0.1966 - val_sparse_categorical_accuracy: 0.9275\n"
     ]
    }
   ],
   "source": [
    "history = net.fit(\n",
    "    train_ds, \n",
    "    validation_data=val_ds, \n",
    "    epochs=10, \n",
    "    callbacks=[\n",
    "        callbacks.ModelCheckpoint('models/2', save_best_only=True, verbose=3),\n",
    "    ]\n",
    ")"
   ]
  },
  {
   "cell_type": "code",
   "execution_count": 14,
   "id": "a86f773c",
   "metadata": {},
   "outputs": [],
   "source": [
    "# Transforming the test set\n",
    "\n",
    "X_test = scaler.transform(X_test)\n",
    "\n",
    "test_ds = tf.data.Dataset.from_tensor_slices((X_test, y_test)).batch(16)"
   ]
  },
  {
   "cell_type": "code",
   "execution_count": 15,
   "id": "038ef33d",
   "metadata": {},
   "outputs": [
    {
     "name": "stdout",
     "output_type": "stream",
     "text": [
      "213/213 [==============================] - 1s 3ms/step - loss: 0.2110 - sparse_categorical_accuracy: 0.9242\n"
     ]
    },
    {
     "data": {
      "text/plain": [
       "[0.211009219288826, 0.9241845607757568]"
      ]
     },
     "execution_count": 15,
     "metadata": {},
     "output_type": "execute_result"
    }
   ],
   "source": [
    "net.evaluate(test_ds)"
   ]
  },
  {
   "cell_type": "code",
   "execution_count": 16,
   "id": "10eacb08",
   "metadata": {},
   "outputs": [],
   "source": [
    "preds = net(X_test)\n",
    "preds = tf.argmax(preds, axis=1)"
   ]
  },
  {
   "cell_type": "code",
   "execution_count": 20,
   "id": "a9c1602f",
   "metadata": {},
   "outputs": [
    {
     "name": "stdout",
     "output_type": "stream",
     "text": [
      "                   pre       rec       spe        f1       geo       iba       sup\n",
      "\n",
      "   BARBUNYA       0.92      0.92      0.99      0.92      0.95      0.90       327\n",
      "     BOMBAY       1.00      0.97      1.00      0.98      0.98      0.96       154\n",
      "       CALI       0.91      0.95      0.99      0.93      0.97      0.93       390\n",
      "   DERMASON       0.92      0.92      0.97      0.92      0.94      0.89       872\n",
      "      HOROZ       0.96      0.95      0.99      0.95      0.97      0.94       504\n",
      "      SEKER       0.94      0.95      0.99      0.95      0.97      0.94       523\n",
      "       SIRA       0.88      0.87      0.97      0.87      0.92      0.84       633\n",
      "\n",
      "avg / total       0.92      0.92      0.98      0.92      0.95      0.90      3403\n",
      "\n"
     ]
    }
   ],
   "source": [
    "cf = confusion_matrix(y_test, preds)\n",
    "\n",
    "classes = df.Class.astype(\"category\").cat.categories.tolist()\n",
    "print(classification_report_imbalanced(y_test, preds, target_names=classes))"
   ]
  },
  {
   "cell_type": "code",
   "execution_count": 18,
   "id": "bd6ce1d5",
   "metadata": {},
   "outputs": [
    {
     "data": {
      "image/png": "[encoded data removed]",
      "text/plain": [
       "<Figure size 720x576 with 2 Axes>"
      ]
     },
     "metadata": {},
     "output_type": "display_data"
    }
   ],
   "source": [
    "classes = df.Class.astype(\"category\").cat.categories.tolist()\n",
    "sns.set(rc={\"figure.figsize\": (10, 8)}, font_scale=1.25)\n",
    "_ = sns.heatmap(cf, annot=True, xticklabels=classes, yticklabels=classes, fmt=\"d\", cmap=\"viridis_r\")"
   ]
  },
  {
   "cell_type": "markdown",
   "id": "d0958555",
   "metadata": {},
   "source": [
    "## Testing on one example"
   ]
  },
  {
   "cell_type": "code",
   "execution_count": 23,
   "id": "ded7b0dd",
   "metadata": {},
   "outputs": [
    {
     "data": {
      "text/plain": [
       "(array([7.05730000e+04, 1.04901600e+03, 3.94676397e+02, 2.28370126e+02,\n",
       "        1.72823129e+00, 8.15592825e-01, 7.17450000e+04, 2.99760462e+02,\n",
       "        6.72636294e-01, 9.83664367e-01, 8.05905684e-01, 7.59509471e-01,\n",
       "        5.59245600e-03, 1.14792900e-03, 5.76854637e-01, 9.96938232e-01]),\n",
       " 0)"
      ]
     },
     "execution_count": 23,
     "metadata": {},
     "output_type": "execute_result"
    }
   ],
   "source": [
    "sample = X_test[100]\n",
    "sample, y_test[100]"
   ]
  },
  {
   "cell_type": "code",
   "execution_count": 24,
   "id": "b2aa5709",
   "metadata": {},
   "outputs": [],
   "source": [
    "X_test_scaled = scaler.transform(X_test)"
   ]
  },
  {
   "cell_type": "code",
   "execution_count": 18,
   "id": "959ce181",
   "metadata": {},
   "outputs": [],
   "source": [
    "def predict(feats):\n",
    "    idx2class = {\n",
    "        0: 'BARBUNYA',\n",
    "        1: 'BOMBAY',\n",
    "        2: 'CALI',\n",
    "        3: 'DERMASON',\n",
    "        4: 'HOROZ',\n",
    "        5: 'SEKER',\n",
    "        6: 'SIRA'\n",
    "    }\n",
    "    \n",
    "    payload = {\n",
    "        \"instances\": [\n",
    "            feats.tolist()\n",
    "        ]\n",
    "    }\n",
    "\n",
    "    res = requests.post(\n",
    "        url='http://localhost:8605/v1/models/dry_bean_model:predict', \n",
    "        json=payload\n",
    "    )\n",
    "\n",
    "    preds = res.json()\n",
    "    preds = preds['predictions']\n",
    "    idx = tf.argmax(preds, axis=1)\n",
    "    \n",
    "    print(f\"The predicted class is: {idx2class[idx.numpy()[0]]}\")"
   ]
  },
  {
   "cell_type": "code",
   "execution_count": 22,
   "id": "573bd3ea",
   "metadata": {},
   "outputs": [
    {
     "name": "stdout",
     "output_type": "stream",
     "text": [
      "The predicted class is: DERMASON\n"
     ]
    }
   ],
   "source": [
    "predict(X_test_scaled[101])"
   ]
  },
  {
   "cell_type": "code",
   "execution_count": null,
   "id": "a40a2846",
   "metadata": {},
   "outputs": [],
   "source": []
  }
 ],
 "metadata": {
  "kernelspec": {
   "display_name": "Python 3 (ipykernel)",
   "language": "python",
   "name": "python3"
  },
  "language_info": {
   "codemirror_mode": {
    "name": "ipython",
    "version": 3
   },
   "file_extension": ".py",
   "mimetype": "text/x-python",
   "name": "python",
   "nbconvert_exporter": "python",
   "pygments_lexer": "ipython3",
   "version": "3.8.5"
  },
  "toc": {
   "base_numbering": 1,
   "nav_menu": {},
   "number_sections": true,
   "sideBar": true,
   "skip_h1_title": false,
   "title_cell": "Table of Contents",
   "title_sidebar": "Contents",
   "toc_cell": false,
   "toc_position": {
    "height": "calc(100% - 180px)",
    "left": "10px",
    "top": "150px",
    "width": "303.837px"
   },
   "toc_section_display": true,
   "toc_window_display": true
  }
 },
 "nbformat": 4,
 "nbformat_minor": 5
}
