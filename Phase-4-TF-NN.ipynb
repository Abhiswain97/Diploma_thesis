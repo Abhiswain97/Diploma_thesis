{
 "cells": [
  {
   "cell_type": "code",
   "execution_count": 1,
   "id": "de4fb895",
   "metadata": {},
   "outputs": [],
   "source": [
    "import tensorflow as tf\n",
    "from tensorflow.keras import layers, losses, metrics, optimizers, callbacks\n",
    "import pandas as pd\n",
    "\n",
    "from sklearn.preprocessing import StandardScaler\n",
    "from sklearn.model_selection import train_test_split\n",
    "from sklearn.metrics import confusion_matrix, classification_report, f1_score\n",
    "from imblearn.metrics import classification_report_imbalanced\n",
    "\n",
    "from imblearn.over_sampling import RandomOverSampler, SMOTE\n",
    "from imblearn.under_sampling import RandomUnderSampler\n",
    "\n",
    "import seaborn as sns\n",
    "import matplotlib.pyplot as plt\n",
    "import requests"
   ]
  },
  {
   "cell_type": "code",
   "execution_count": 40,
   "id": "c03a4088",
   "metadata": {},
   "outputs": [],
   "source": [
    "df1 = (\n",
    "    pd.read_csv(\"./DryBeanDataset/Dry_Bean_Dataset.csv\")\n",
    "    .sample(frac=1)\n",
    "    .reset_index(drop=True)\n",
    ")\n",
    "df = pd.read_csv(\"./selected_features/Anova.csv\")"
   ]
  },
  {
   "cell_type": "code",
   "execution_count": 26,
   "id": "4474a92a",
   "metadata": {},
   "outputs": [
    {
     "data": {
      "text/html": [
       "<div>\n",
       "<style scoped>\n",
       "    .dataframe tbody tr th:only-of-type {\n",
       "        vertical-align: middle;\n",
       "    }\n",
       "\n",
       "    .dataframe tbody tr th {\n",
       "        vertical-align: top;\n",
       "    }\n",
       "\n",
       "    .dataframe thead th {\n",
       "        text-align: right;\n",
       "    }\n",
       "</style>\n",
       "<table border=\"1\" class=\"dataframe\">\n",
       "  <thead>\n",
       "    <tr style=\"text-align: right;\">\n",
       "      <th></th>\n",
       "      <th>Area</th>\n",
       "      <th>Perimeter</th>\n",
       "      <th>MajorAxisLength</th>\n",
       "      <th>AspectRation</th>\n",
       "      <th>ConvexArea</th>\n",
       "      <th>EquivDiameter</th>\n",
       "      <th>Compactness</th>\n",
       "      <th>ShapeFactor2</th>\n",
       "      <th>labels</th>\n",
       "    </tr>\n",
       "  </thead>\n",
       "  <tbody>\n",
       "    <tr>\n",
       "      <th>0</th>\n",
       "      <td>35280</td>\n",
       "      <td>717.703</td>\n",
       "      <td>264.995250</td>\n",
       "      <td>1.558472</td>\n",
       "      <td>35772</td>\n",
       "      <td>211.943132</td>\n",
       "      <td>0.799800</td>\n",
       "      <td>0.001896</td>\n",
       "      <td>3</td>\n",
       "    </tr>\n",
       "    <tr>\n",
       "      <th>1</th>\n",
       "      <td>83296</td>\n",
       "      <td>1142.638</td>\n",
       "      <td>446.765889</td>\n",
       "      <td>1.869209</td>\n",
       "      <td>84270</td>\n",
       "      <td>325.662035</td>\n",
       "      <td>0.728932</td>\n",
       "      <td>0.000934</td>\n",
       "      <td>2</td>\n",
       "    </tr>\n",
       "    <tr>\n",
       "      <th>2</th>\n",
       "      <td>35594</td>\n",
       "      <td>689.634</td>\n",
       "      <td>254.572928</td>\n",
       "      <td>1.426644</td>\n",
       "      <td>35966</td>\n",
       "      <td>212.884213</td>\n",
       "      <td>0.836241</td>\n",
       "      <td>0.002157</td>\n",
       "      <td>3</td>\n",
       "    </tr>\n",
       "    <tr>\n",
       "      <th>3</th>\n",
       "      <td>52710</td>\n",
       "      <td>872.700</td>\n",
       "      <td>326.039383</td>\n",
       "      <td>1.572036</td>\n",
       "      <td>53280</td>\n",
       "      <td>259.060720</td>\n",
       "      <td>0.794569</td>\n",
       "      <td>0.001521</td>\n",
       "      <td>6</td>\n",
       "    </tr>\n",
       "    <tr>\n",
       "      <th>4</th>\n",
       "      <td>62855</td>\n",
       "      <td>1004.759</td>\n",
       "      <td>413.879306</td>\n",
       "      <td>2.130112</td>\n",
       "      <td>63781</td>\n",
       "      <td>282.894807</td>\n",
       "      <td>0.683520</td>\n",
       "      <td>0.000887</td>\n",
       "      <td>4</td>\n",
       "    </tr>\n",
       "    <tr>\n",
       "      <th>5</th>\n",
       "      <td>36112</td>\n",
       "      <td>723.077</td>\n",
       "      <td>225.328776</td>\n",
       "      <td>1.100957</td>\n",
       "      <td>36709</td>\n",
       "      <td>214.427672</td>\n",
       "      <td>0.951621</td>\n",
       "      <td>0.003156</td>\n",
       "      <td>5</td>\n",
       "    </tr>\n",
       "    <tr>\n",
       "      <th>6</th>\n",
       "      <td>59442</td>\n",
       "      <td>975.979</td>\n",
       "      <td>402.887444</td>\n",
       "      <td>2.118794</td>\n",
       "      <td>60289</td>\n",
       "      <td>275.107079</td>\n",
       "      <td>0.682839</td>\n",
       "      <td>0.000909</td>\n",
       "      <td>4</td>\n",
       "    </tr>\n",
       "    <tr>\n",
       "      <th>7</th>\n",
       "      <td>58931</td>\n",
       "      <td>957.164</td>\n",
       "      <td>388.354344</td>\n",
       "      <td>2.001383</td>\n",
       "      <td>59526</td>\n",
       "      <td>273.922032</td>\n",
       "      <td>0.705340</td>\n",
       "      <td>0.001006</td>\n",
       "      <td>4</td>\n",
       "    </tr>\n",
       "    <tr>\n",
       "      <th>8</th>\n",
       "      <td>34010</td>\n",
       "      <td>681.989</td>\n",
       "      <td>257.829640</td>\n",
       "      <td>1.528818</td>\n",
       "      <td>34410</td>\n",
       "      <td>208.093433</td>\n",
       "      <td>0.807097</td>\n",
       "      <td>0.001984</td>\n",
       "      <td>3</td>\n",
       "    </tr>\n",
       "    <tr>\n",
       "      <th>9</th>\n",
       "      <td>27280</td>\n",
       "      <td>603.203</td>\n",
       "      <td>223.021086</td>\n",
       "      <td>1.428199</td>\n",
       "      <td>27550</td>\n",
       "      <td>186.370531</td>\n",
       "      <td>0.835663</td>\n",
       "      <td>0.002459</td>\n",
       "      <td>3</td>\n",
       "    </tr>\n",
       "  </tbody>\n",
       "</table>\n",
       "</div>"
      ],
      "text/plain": [
       "    Area  Perimeter  MajorAxisLength  AspectRation  ConvexArea  EquivDiameter  \\\n",
       "0  35280    717.703       264.995250      1.558472       35772     211.943132   \n",
       "1  83296   1142.638       446.765889      1.869209       84270     325.662035   \n",
       "2  35594    689.634       254.572928      1.426644       35966     212.884213   \n",
       "3  52710    872.700       326.039383      1.572036       53280     259.060720   \n",
       "4  62855   1004.759       413.879306      2.130112       63781     282.894807   \n",
       "5  36112    723.077       225.328776      1.100957       36709     214.427672   \n",
       "6  59442    975.979       402.887444      2.118794       60289     275.107079   \n",
       "7  58931    957.164       388.354344      2.001383       59526     273.922032   \n",
       "8  34010    681.989       257.829640      1.528818       34410     208.093433   \n",
       "9  27280    603.203       223.021086      1.428199       27550     186.370531   \n",
       "\n",
       "   Compactness  ShapeFactor2  labels  \n",
       "0     0.799800      0.001896       3  \n",
       "1     0.728932      0.000934       2  \n",
       "2     0.836241      0.002157       3  \n",
       "3     0.794569      0.001521       6  \n",
       "4     0.683520      0.000887       4  \n",
       "5     0.951621      0.003156       5  \n",
       "6     0.682839      0.000909       4  \n",
       "7     0.705340      0.001006       4  \n",
       "8     0.807097      0.001984       3  \n",
       "9     0.835663      0.002459       3  "
      ]
     },
     "execution_count": 26,
     "metadata": {},
     "output_type": "execute_result"
    }
   ],
   "source": [
    "df.head(10)"
   ]
  },
  {
   "cell_type": "code",
   "execution_count": 27,
   "id": "8f344ea3",
   "metadata": {},
   "outputs": [],
   "source": [
    "net = tf.keras.Sequential(\n",
    "    [\n",
    "        layers.Dense(512, activation=\"relu\"),\n",
    "        layers.Dense(256, activation=\"relu\"),\n",
    "        layers.Dense(7),\n",
    "    ]\n",
    ")"
   ]
  },
  {
   "cell_type": "code",
   "execution_count": 29,
   "id": "7cd4b173",
   "metadata": {},
   "outputs": [],
   "source": [
    "X = df.drop(columns=[\"labels\"]).values\n",
    "# y = df.Class.astype(\"category\").cat.codes.values\n",
    "y = df.labels.values"
   ]
  },
  {
   "cell_type": "code",
   "execution_count": 30,
   "id": "ba557b50",
   "metadata": {},
   "outputs": [],
   "source": [
    "# X, y = SMOTE().fit_resample(X, y)"
   ]
  },
  {
   "cell_type": "code",
   "execution_count": 31,
   "id": "a75bfecd",
   "metadata": {},
   "outputs": [],
   "source": [
    "# scaling the the data for training!\n",
    "scaler = StandardScaler()\n",
    "\n",
    "X_train, X_test, y_train, y_test = train_test_split(X, y, test_size=0.25)\n",
    "\n",
    "X_train = scaler.fit_transform(X_train)\n",
    "\n",
    "X_train, X_val, y_train, y_val = train_test_split(X_train, y_train, test_size=0.25)"
   ]
  },
  {
   "cell_type": "code",
   "execution_count": 32,
   "id": "b66c207f",
   "metadata": {},
   "outputs": [],
   "source": [
    "train_ds = tf.data.Dataset.from_tensor_slices((X_train, y_train)).batch(32)\n",
    "val_ds = tf.data.Dataset.from_tensor_slices((X_val, y_val)).batch(16)"
   ]
  },
  {
   "cell_type": "code",
   "execution_count": 33,
   "id": "47890e98",
   "metadata": {},
   "outputs": [],
   "source": [
    "net.compile(\n",
    "    optimizer=optimizers.Adam(learning_rate=3e-4),\n",
    "    loss=losses.SparseCategoricalCrossentropy(from_logits=True),\n",
    "    metrics=[metrics.SparseCategoricalAccuracy()],\n",
    ")"
   ]
  },
  {
   "cell_type": "code",
   "execution_count": 34,
   "id": "64d6ada7",
   "metadata": {
    "scrolled": false
   },
   "outputs": [
    {
     "name": "stdout",
     "output_type": "stream",
     "text": [
      "Epoch 1/20\n",
      "231/231 [==============================] - ETA: 0s - loss: 0.6025 - sparse_categorical_accuracy: 0.8157\n",
      "Epoch 00001: val_loss improved from inf to 0.36866, saving model to models\\4\n",
      "INFO:tensorflow:Assets written to: models\\4\\assets\n",
      "231/231 [==============================] - 7s 26ms/step - loss: 0.6025 - sparse_categorical_accuracy: 0.8157 - val_loss: 0.3687 - val_sparse_categorical_accuracy: 0.8845\n",
      "Epoch 2/20\n",
      "230/231 [============================>.] - ETA: 0s - loss: 0.3111 - sparse_categorical_accuracy: 0.8895\n",
      "Epoch 00002: val_loss improved from 0.36866 to 0.30920, saving model to models\\4\n",
      "INFO:tensorflow:Assets written to: models\\4\\assets\n",
      "231/231 [==============================] - 2s 10ms/step - loss: 0.3108 - sparse_categorical_accuracy: 0.8897 - val_loss: 0.3092 - val_sparse_categorical_accuracy: 0.8955\n",
      "Epoch 3/20\n",
      "223/231 [===========================>..] - ETA: 0s - loss: 0.2872 - sparse_categorical_accuracy: 0.8945\n",
      "Epoch 00003: val_loss improved from 0.30920 to 0.28359, saving model to models\\4\n",
      "INFO:tensorflow:Assets written to: models\\4\\assets\n",
      "231/231 [==============================] - 3s 12ms/step - loss: 0.2855 - sparse_categorical_accuracy: 0.8957 - val_loss: 0.2836 - val_sparse_categorical_accuracy: 0.9004\n",
      "Epoch 4/20\n",
      "225/231 [============================>.] - ETA: 0s - loss: 0.2736 - sparse_categorical_accuracy: 0.8992\n",
      "Epoch 00004: val_loss improved from 0.28359 to 0.26917, saving model to models\\4\n",
      "INFO:tensorflow:Assets written to: models\\4\\assets\n",
      "231/231 [==============================] - 2s 11ms/step - loss: 0.2714 - sparse_categorical_accuracy: 0.9003 - val_loss: 0.2692 - val_sparse_categorical_accuracy: 0.9012\n",
      "Epoch 5/20\n",
      "218/231 [===========================>..] - ETA: 0s - loss: 0.2654 - sparse_categorical_accuracy: 0.9031\n",
      "Epoch 00005: val_loss improved from 0.26917 to 0.26092, saving model to models\\4\n",
      "INFO:tensorflow:Assets written to: models\\4\\assets\n",
      "231/231 [==============================] - 4s 16ms/step - loss: 0.2630 - sparse_categorical_accuracy: 0.9048 - val_loss: 0.2609 - val_sparse_categorical_accuracy: 0.9048\n",
      "Epoch 6/20\n",
      "218/231 [===========================>..] - ETA: 0s - loss: 0.2598 - sparse_categorical_accuracy: 0.9050\n",
      "Epoch 00006: val_loss improved from 0.26092 to 0.25585, saving model to models\\4\n",
      "INFO:tensorflow:Assets written to: models\\4\\assets\n",
      "231/231 [==============================] - 3s 14ms/step - loss: 0.2575 - sparse_categorical_accuracy: 0.9066 - val_loss: 0.2558 - val_sparse_categorical_accuracy: 0.9081\n",
      "Epoch 7/20\n",
      "227/231 [============================>.] - ETA: 0s - loss: 0.2553 - sparse_categorical_accuracy: 0.9067\n",
      "Epoch 00007: val_loss improved from 0.25585 to 0.25289, saving model to models\\4\n",
      "INFO:tensorflow:Assets written to: models\\4\\assets\n",
      "231/231 [==============================] - 2s 10ms/step - loss: 0.2539 - sparse_categorical_accuracy: 0.9076 - val_loss: 0.2529 - val_sparse_categorical_accuracy: 0.9089\n",
      "Epoch 8/20\n",
      "221/231 [===========================>..] - ETA: 0s - loss: 0.2522 - sparse_categorical_accuracy: 0.9064\n",
      "Epoch 00008: val_loss improved from 0.25289 to 0.25088, saving model to models\\4\n",
      "INFO:tensorflow:Assets written to: models\\4\\assets\n",
      "231/231 [==============================] - 3s 12ms/step - loss: 0.2512 - sparse_categorical_accuracy: 0.9076 - val_loss: 0.2509 - val_sparse_categorical_accuracy: 0.9093\n",
      "Epoch 9/20\n",
      "226/231 [============================>.] - ETA: 0s - loss: 0.2512 - sparse_categorical_accuracy: 0.9069\n",
      "Epoch 00009: val_loss improved from 0.25088 to 0.24957, saving model to models\\4\n",
      "INFO:tensorflow:Assets written to: models\\4\\assets\n",
      "231/231 [==============================] - 3s 14ms/step - loss: 0.2492 - sparse_categorical_accuracy: 0.9081 - val_loss: 0.2496 - val_sparse_categorical_accuracy: 0.9093\n",
      "Epoch 10/20\n",
      "220/231 [===========================>..] - ETA: 0s - loss: 0.2493 - sparse_categorical_accuracy: 0.9075\n",
      "Epoch 00010: val_loss improved from 0.24957 to 0.24878, saving model to models\\4\n",
      "INFO:tensorflow:Assets written to: models\\4\\assets\n",
      "231/231 [==============================] - 4s 16ms/step - loss: 0.2476 - sparse_categorical_accuracy: 0.9090 - val_loss: 0.2488 - val_sparse_categorical_accuracy: 0.9105\n",
      "Epoch 11/20\n",
      "229/231 [============================>.] - ETA: 0s - loss: 0.2472 - sparse_categorical_accuracy: 0.9087\n",
      "Epoch 00011: val_loss improved from 0.24878 to 0.24776, saving model to models\\4\n",
      "INFO:tensorflow:Assets written to: models\\4\\assets\n",
      "231/231 [==============================] - 4s 17ms/step - loss: 0.2463 - sparse_categorical_accuracy: 0.9091 - val_loss: 0.2478 - val_sparse_categorical_accuracy: 0.9109\n",
      "Epoch 12/20\n",
      "231/231 [==============================] - ETA: 0s - loss: 0.2451 - sparse_categorical_accuracy: 0.9085- ETA: 5s - loss: 0.2615 - sparse_catego\n",
      "Epoch 00012: val_loss improved from 0.24776 to 0.24680, saving model to models\\4\n",
      "INFO:tensorflow:Assets written to: models\\4\\assets\n",
      "231/231 [==============================] - 4s 15ms/step - loss: 0.2451 - sparse_categorical_accuracy: 0.9085 - val_loss: 0.2468 - val_sparse_categorical_accuracy: 0.9109\n",
      "Epoch 13/20\n",
      "225/231 [============================>.] - ETA: 0s - loss: 0.2458 - sparse_categorical_accuracy: 0.9085- ETA: 3s - loss: 0.2245 - sparse_categ\n",
      "Epoch 00013: val_loss improved from 0.24680 to 0.24610, saving model to models\\4\n",
      "INFO:tensorflow:Assets written to: models\\4\\assets\n",
      "231/231 [==============================] - 3s 11ms/step - loss: 0.2441 - sparse_categorical_accuracy: 0.9097 - val_loss: 0.2461 - val_sparse_categorical_accuracy: 0.9113\n",
      "Epoch 14/20\n",
      "219/231 [===========================>..] - ETA: 0s - loss: 0.2454 - sparse_categorical_accuracy: 0.9087\n",
      "Epoch 00014: val_loss improved from 0.24610 to 0.24552, saving model to models\\4\n",
      "INFO:tensorflow:Assets written to: models\\4\\assets\n",
      "231/231 [==============================] - 3s 12ms/step - loss: 0.2431 - sparse_categorical_accuracy: 0.9105 - val_loss: 0.2455 - val_sparse_categorical_accuracy: 0.9113\n",
      "Epoch 15/20\n",
      "231/231 [==============================] - ETA: 0s - loss: 0.2422 - sparse_categorical_accuracy: 0.9104\n",
      "Epoch 00015: val_loss improved from 0.24552 to 0.24472, saving model to models\\4\n",
      "INFO:tensorflow:Assets written to: models\\4\\assets\n",
      "231/231 [==============================] - 3s 13ms/step - loss: 0.2422 - sparse_categorical_accuracy: 0.9104 - val_loss: 0.2447 - val_sparse_categorical_accuracy: 0.9118\n",
      "Epoch 16/20\n",
      "225/231 [============================>.] - ETA: 0s - loss: 0.2431 - sparse_categorical_accuracy: 0.9099\n",
      "Epoch 00016: val_loss improved from 0.24472 to 0.24434, saving model to models\\4\n",
      "INFO:tensorflow:Assets written to: models\\4\\assets\n",
      "231/231 [==============================] - 3s 14ms/step - loss: 0.2414 - sparse_categorical_accuracy: 0.9110 - val_loss: 0.2443 - val_sparse_categorical_accuracy: 0.9118\n",
      "Epoch 17/20\n",
      "229/231 [============================>.] - ETA: 0s - loss: 0.2415 - sparse_categorical_accuracy: 0.9105\n",
      "Epoch 00017: val_loss improved from 0.24434 to 0.24363, saving model to models\\4\n",
      "INFO:tensorflow:Assets written to: models\\4\\assets\n",
      "231/231 [==============================] - 3s 14ms/step - loss: 0.2406 - sparse_categorical_accuracy: 0.9109 - val_loss: 0.2436 - val_sparse_categorical_accuracy: 0.9122\n",
      "Epoch 18/20\n",
      "227/231 [============================>.] - ETA: 0s - loss: 0.2411 - sparse_categorical_accuracy: 0.9100\n",
      "Epoch 00018: val_loss improved from 0.24363 to 0.24315, saving model to models\\4\n",
      "INFO:tensorflow:Assets written to: models\\4\\assets\n",
      "231/231 [==============================] - 3s 14ms/step - loss: 0.2399 - sparse_categorical_accuracy: 0.9109 - val_loss: 0.2432 - val_sparse_categorical_accuracy: 0.9122\n",
      "Epoch 19/20\n",
      "223/231 [===========================>..] - ETA: 0s - loss: 0.2406 - sparse_categorical_accuracy: 0.9102\n",
      "Epoch 00019: val_loss improved from 0.24315 to 0.24268, saving model to models\\4\n",
      "INFO:tensorflow:Assets written to: models\\4\\assets\n",
      "231/231 [==============================] - 3s 13ms/step - loss: 0.2392 - sparse_categorical_accuracy: 0.9113 - val_loss: 0.2427 - val_sparse_categorical_accuracy: 0.9122\n",
      "Epoch 20/20\n",
      "226/231 [============================>.] - ETA: 0s - loss: 0.2402 - sparse_categorical_accuracy: 0.9101\n",
      "Epoch 00020: val_loss improved from 0.24268 to 0.24208, saving model to models\\4\n"
     ]
    },
    {
     "name": "stdout",
     "output_type": "stream",
     "text": [
      "INFO:tensorflow:Assets written to: models\\4\\assets\n",
      "231/231 [==============================] - 3s 15ms/step - loss: 0.2385 - sparse_categorical_accuracy: 0.9112 - val_loss: 0.2421 - val_sparse_categorical_accuracy: 0.9113\n"
     ]
    }
   ],
   "source": [
    "history = net.fit(\n",
    "    train_ds,\n",
    "    validation_data=val_ds,\n",
    "    epochs=20,\n",
    "    callbacks=[\n",
    "        callbacks.ModelCheckpoint(\"models/4\", save_best_only=True, verbose=3),\n",
    "    ],\n",
    ")"
   ]
  },
  {
   "cell_type": "code",
   "execution_count": 35,
   "id": "a86f773c",
   "metadata": {},
   "outputs": [],
   "source": [
    "# Transforming the test set\n",
    "\n",
    "X_test = scaler.transform(X_test)\n",
    "\n",
    "test_ds = tf.data.Dataset.from_tensor_slices((X_test, y_test)).batch(16)"
   ]
  },
  {
   "cell_type": "code",
   "execution_count": 36,
   "id": "038ef33d",
   "metadata": {},
   "outputs": [
    {
     "name": "stdout",
     "output_type": "stream",
     "text": [
      "205/205 [==============================] - 1s 6ms/step - loss: 0.2722 - sparse_categorical_accuracy: 0.8999\n"
     ]
    },
    {
     "data": {
      "text/plain": [
       "[0.2722165286540985, 0.8999390006065369]"
      ]
     },
     "execution_count": 36,
     "metadata": {},
     "output_type": "execute_result"
    }
   ],
   "source": [
    "net.evaluate(test_ds)"
   ]
  },
  {
   "cell_type": "code",
   "execution_count": 37,
   "id": "10eacb08",
   "metadata": {},
   "outputs": [],
   "source": [
    "preds = net(X_test)\n",
    "preds = tf.argmax(preds, axis=1)"
   ]
  },
  {
   "cell_type": "code",
   "execution_count": 41,
   "id": "a9c1602f",
   "metadata": {},
   "outputs": [
    {
     "name": "stdout",
     "output_type": "stream",
     "text": [
      "                   pre       rec       spe        f1       geo       iba       sup\n",
      "\n",
      "   BARBUNYA       0.96      0.80      1.00      0.87      0.89      0.78       335\n",
      "     BOMBAY       1.00      1.00      1.00      1.00      1.00      1.00         3\n",
      "       CALI       0.87      0.95      0.98      0.91      0.96      0.93       416\n",
      "   DERMASON       0.89      0.92      0.96      0.91      0.94      0.88       854\n",
      "      HOROZ       0.98      0.89      1.00      0.93      0.94      0.88       508\n",
      "      SEKER       0.95      0.94      0.99      0.95      0.97      0.93       513\n",
      "       SIRA       0.81      0.86      0.95      0.84      0.91      0.81       649\n",
      "\n",
      "avg / total       0.90      0.90      0.98      0.90      0.94      0.87      3278\n",
      "\n"
     ]
    }
   ],
   "source": [
    "cf = confusion_matrix(y_test, preds)\n",
    "\n",
    "classes = df1.Class.astype(\"category\").cat.categories.tolist()\n",
    "print(classification_report_imbalanced(y_test, preds, target_names=classes))"
   ]
  },
  {
   "cell_type": "code",
   "execution_count": 43,
   "id": "bd6ce1d5",
   "metadata": {},
   "outputs": [
    {
     "data": {
      "image/png": "[encoded data removed]",
      "text/plain": [
       "<Figure size 720x576 with 2 Axes>"
      ]
     },
     "metadata": {},
     "output_type": "display_data"
    }
   ],
   "source": [
    "classes = df1.Class.astype(\"category\").cat.categories.tolist()\n",
    "sns.set(rc={\"figure.figsize\": (10, 8)}, font_scale=1.25)\n",
    "ax = sns.heatmap(\n",
    "    cf, annot=True, xticklabels=classes, yticklabels=classes, fmt=\"d\", cmap=\"viridis_r\"\n",
    ")\n",
    "ax.set_ylabel(\"Actual Class\")\n",
    "_ = ax.set_xlabel(\"Predicted Class\")"
   ]
  },
  {
   "cell_type": "markdown",
   "id": "d0958555",
   "metadata": {},
   "source": [
    "## Testing on one example"
   ]
  },
  {
   "cell_type": "code",
   "execution_count": 23,
   "id": "ded7b0dd",
   "metadata": {},
   "outputs": [
    {
     "data": {
      "text/plain": [
       "(array([7.05730000e+04, 1.04901600e+03, 3.94676397e+02, 2.28370126e+02,\n",
       "        1.72823129e+00, 8.15592825e-01, 7.17450000e+04, 2.99760462e+02,\n",
       "        6.72636294e-01, 9.83664367e-01, 8.05905684e-01, 7.59509471e-01,\n",
       "        5.59245600e-03, 1.14792900e-03, 5.76854637e-01, 9.96938232e-01]),\n",
       " 0)"
      ]
     },
     "execution_count": 23,
     "metadata": {},
     "output_type": "execute_result"
    }
   ],
   "source": [
    "sample = X_test[100]\n",
    "sample, y_test[100]"
   ]
  },
  {
   "cell_type": "code",
   "execution_count": 24,
   "id": "b2aa5709",
   "metadata": {},
   "outputs": [],
   "source": [
    "X_test_scaled = scaler.transform(X_test)"
   ]
  },
  {
   "cell_type": "code",
   "execution_count": 18,
   "id": "959ce181",
   "metadata": {},
   "outputs": [],
   "source": [
    "def predict(feats):\n",
    "    idx2class = {\n",
    "        0: \"BARBUNYA\",\n",
    "        1: \"BOMBAY\",\n",
    "        2: \"CALI\",\n",
    "        3: \"DERMASON\",\n",
    "        4: \"HOROZ\",\n",
    "        5: \"SEKER\",\n",
    "        6: \"SIRA\",\n",
    "    }\n",
    "\n",
    "    payload = {\"instances\": [feats.tolist()]}\n",
    "\n",
    "    res = requests.post(\n",
    "        url=\"http://localhost:8605/v1/models/dry_bean_model:predict\", json=payload\n",
    "    )\n",
    "\n",
    "    preds = res.json()\n",
    "    preds = preds[\"predictions\"]\n",
    "    idx = tf.argmax(preds, axis=1)\n",
    "\n",
    "    print(f\"The predicted class is: {idx2class[idx.numpy()[0]]}\")"
   ]
  },
  {
   "cell_type": "code",
   "execution_count": 22,
   "id": "573bd3ea",
   "metadata": {},
   "outputs": [
    {
     "name": "stdout",
     "output_type": "stream",
     "text": [
      "The predicted class is: DERMASON\n"
     ]
    }
   ],
   "source": [
    "predict(X_test_scaled[101])"
   ]
  },
  {
   "cell_type": "code",
   "execution_count": null,
   "id": "a40a2846",
   "metadata": {},
   "outputs": [],
   "source": []
  }
 ],
 "metadata": {
  "kernelspec": {
   "display_name": "Python 3 (ipykernel)",
   "language": "python",
   "name": "python3"
  },
  "language_info": {
   "codemirror_mode": {
    "name": "ipython",
    "version": 3
   },
   "file_extension": ".py",
   "mimetype": "text/x-python",
   "name": "python",
   "nbconvert_exporter": "python",
   "pygments_lexer": "ipython3",
   "version": "3.8.5"
  },
  "toc": {
   "base_numbering": 1,
   "nav_menu": {},
   "number_sections": true,
   "sideBar": true,
   "skip_h1_title": false,
   "title_cell": "Table of Contents",
   "title_sidebar": "Contents",
   "toc_cell": false,
   "toc_position": {
    "height": "calc(100% - 180px)",
    "left": "10px",
    "top": "150px",
    "width": "303.837px"
   },
   "toc_section_display": true,
   "toc_window_display": true
  }
 },
 "nbformat": 4,
 "nbformat_minor": 5
}
