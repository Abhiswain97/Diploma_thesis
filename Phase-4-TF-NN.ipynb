{
 "cells": [
  {
   "cell_type": "code",
   "execution_count": 34,
   "id": "de4fb895",
   "metadata": {},
   "outputs": [],
   "source": [
    "import tensorflow as tf\n",
    "from tensorflow.keras import layers, losses, metrics, optimizers, callbacks\n",
    "import pandas as pd\n",
    "\n",
    "from sklearn.preprocessing import StandardScaler\n",
    "from sklearn.model_selection import train_test_split\n",
    "from sklearn.metrics import confusion_matrix, classification_report, f1_score, accuracy_score\n",
    "from imblearn.metrics import classification_report_imbalanced\n",
    "\n",
    "from imblearn.over_sampling import RandomOverSampler, SMOTE\n",
    "from imblearn.under_sampling import RandomUnderSampler\n",
    "\n",
    "import seaborn as sns\n",
    "import matplotlib.pyplot as plt\n",
    "import requests"
   ]
  },
  {
   "cell_type": "markdown",
   "id": "8b197af5",
   "metadata": {},
   "source": [
    "## Reading the dataset"
   ]
  },
  {
   "cell_type": "code",
   "execution_count": 2,
   "id": "c03a4088",
   "metadata": {},
   "outputs": [],
   "source": [
    "df = (\n",
    "    pd.read_csv(\"./DryBeanDataset/Dry_Bean_Dataset.csv\")\n",
    "    .sample(frac=1)\n",
    "    .reset_index(drop=True)\n",
    ")\n",
    "# df = pd.read_csv(\"./selected_features/Anova.csv\")"
   ]
  },
  {
   "cell_type": "code",
   "execution_count": 3,
   "id": "4474a92a",
   "metadata": {},
   "outputs": [
    {
     "data": {
      "text/html": [
       "<div>\n",
       "<style scoped>\n",
       "    .dataframe tbody tr th:only-of-type {\n",
       "        vertical-align: middle;\n",
       "    }\n",
       "\n",
       "    .dataframe tbody tr th {\n",
       "        vertical-align: top;\n",
       "    }\n",
       "\n",
       "    .dataframe thead th {\n",
       "        text-align: right;\n",
       "    }\n",
       "</style>\n",
       "<table border=\"1\" class=\"dataframe\">\n",
       "  <thead>\n",
       "    <tr style=\"text-align: right;\">\n",
       "      <th></th>\n",
       "      <th>Area</th>\n",
       "      <th>Perimeter</th>\n",
       "      <th>MajorAxisLength</th>\n",
       "      <th>MinorAxisLength</th>\n",
       "      <th>AspectRation</th>\n",
       "      <th>Eccentricity</th>\n",
       "      <th>ConvexArea</th>\n",
       "      <th>EquivDiameter</th>\n",
       "      <th>Extent</th>\n",
       "      <th>Solidity</th>\n",
       "      <th>roundness</th>\n",
       "      <th>Compactness</th>\n",
       "      <th>ShapeFactor1</th>\n",
       "      <th>ShapeFactor2</th>\n",
       "      <th>ShapeFactor3</th>\n",
       "      <th>ShapeFactor4</th>\n",
       "      <th>Class</th>\n",
       "    </tr>\n",
       "  </thead>\n",
       "  <tbody>\n",
       "    <tr>\n",
       "      <th>0</th>\n",
       "      <td>68852</td>\n",
       "      <td>981.885</td>\n",
       "      <td>354.744204</td>\n",
       "      <td>248.506994</td>\n",
       "      <td>1.427502</td>\n",
       "      <td>0.713628</td>\n",
       "      <td>69563</td>\n",
       "      <td>296.082909</td>\n",
       "      <td>0.774001</td>\n",
       "      <td>0.989779</td>\n",
       "      <td>0.897439</td>\n",
       "      <td>0.834638</td>\n",
       "      <td>0.005152</td>\n",
       "      <td>0.001542</td>\n",
       "      <td>0.696620</td>\n",
       "      <td>0.994427</td>\n",
       "      <td>BARBUNYA</td>\n",
       "    </tr>\n",
       "    <tr>\n",
       "      <th>1</th>\n",
       "      <td>36109</td>\n",
       "      <td>690.918</td>\n",
       "      <td>236.918386</td>\n",
       "      <td>194.403861</td>\n",
       "      <td>1.218692</td>\n",
       "      <td>0.571572</td>\n",
       "      <td>36461</td>\n",
       "      <td>214.418765</td>\n",
       "      <td>0.771560</td>\n",
       "      <td>0.990346</td>\n",
       "      <td>0.950544</td>\n",
       "      <td>0.905032</td>\n",
       "      <td>0.006561</td>\n",
       "      <td>0.002715</td>\n",
       "      <td>0.819083</td>\n",
       "      <td>0.998210</td>\n",
       "      <td>SEKER</td>\n",
       "    </tr>\n",
       "    <tr>\n",
       "      <th>2</th>\n",
       "      <td>37177</td>\n",
       "      <td>707.976</td>\n",
       "      <td>259.312475</td>\n",
       "      <td>182.921571</td>\n",
       "      <td>1.417616</td>\n",
       "      <td>0.708800</td>\n",
       "      <td>37528</td>\n",
       "      <td>217.566603</td>\n",
       "      <td>0.803827</td>\n",
       "      <td>0.990647</td>\n",
       "      <td>0.932067</td>\n",
       "      <td>0.839013</td>\n",
       "      <td>0.006975</td>\n",
       "      <td>0.002132</td>\n",
       "      <td>0.703943</td>\n",
       "      <td>0.997921</td>\n",
       "      <td>DERMASON</td>\n",
       "    </tr>\n",
       "    <tr>\n",
       "      <th>3</th>\n",
       "      <td>36730</td>\n",
       "      <td>692.349</td>\n",
       "      <td>235.968065</td>\n",
       "      <td>198.496267</td>\n",
       "      <td>1.188778</td>\n",
       "      <td>0.540725</td>\n",
       "      <td>37038</td>\n",
       "      <td>216.254684</td>\n",
       "      <td>0.766678</td>\n",
       "      <td>0.991684</td>\n",
       "      <td>0.962899</td>\n",
       "      <td>0.916457</td>\n",
       "      <td>0.006424</td>\n",
       "      <td>0.002796</td>\n",
       "      <td>0.839894</td>\n",
       "      <td>0.998448</td>\n",
       "      <td>SEKER</td>\n",
       "    </tr>\n",
       "    <tr>\n",
       "      <th>4</th>\n",
       "      <td>49728</td>\n",
       "      <td>823.685</td>\n",
       "      <td>285.910127</td>\n",
       "      <td>221.804301</td>\n",
       "      <td>1.289020</td>\n",
       "      <td>0.630999</td>\n",
       "      <td>50280</td>\n",
       "      <td>251.626024</td>\n",
       "      <td>0.779595</td>\n",
       "      <td>0.989021</td>\n",
       "      <td>0.921061</td>\n",
       "      <td>0.880088</td>\n",
       "      <td>0.005749</td>\n",
       "      <td>0.002128</td>\n",
       "      <td>0.774555</td>\n",
       "      <td>0.998416</td>\n",
       "      <td>SEKER</td>\n",
       "    </tr>\n",
       "    <tr>\n",
       "      <th>5</th>\n",
       "      <td>45325</td>\n",
       "      <td>801.826</td>\n",
       "      <td>301.858749</td>\n",
       "      <td>192.067748</td>\n",
       "      <td>1.571626</td>\n",
       "      <td>0.771455</td>\n",
       "      <td>45963</td>\n",
       "      <td>240.228188</td>\n",
       "      <td>0.800230</td>\n",
       "      <td>0.986119</td>\n",
       "      <td>0.885906</td>\n",
       "      <td>0.795830</td>\n",
       "      <td>0.006660</td>\n",
       "      <td>0.001648</td>\n",
       "      <td>0.633345</td>\n",
       "      <td>0.995382</td>\n",
       "      <td>SIRA</td>\n",
       "    </tr>\n",
       "    <tr>\n",
       "      <th>6</th>\n",
       "      <td>47044</td>\n",
       "      <td>855.838</td>\n",
       "      <td>354.304435</td>\n",
       "      <td>170.357301</td>\n",
       "      <td>2.079773</td>\n",
       "      <td>0.876818</td>\n",
       "      <td>47566</td>\n",
       "      <td>244.741253</td>\n",
       "      <td>0.621699</td>\n",
       "      <td>0.989026</td>\n",
       "      <td>0.807107</td>\n",
       "      <td>0.690765</td>\n",
       "      <td>0.007531</td>\n",
       "      <td>0.001058</td>\n",
       "      <td>0.477157</td>\n",
       "      <td>0.992378</td>\n",
       "      <td>HOROZ</td>\n",
       "    </tr>\n",
       "    <tr>\n",
       "      <th>7</th>\n",
       "      <td>60868</td>\n",
       "      <td>1018.898</td>\n",
       "      <td>416.225028</td>\n",
       "      <td>187.510757</td>\n",
       "      <td>2.219739</td>\n",
       "      <td>0.892775</td>\n",
       "      <td>61982</td>\n",
       "      <td>278.387400</td>\n",
       "      <td>0.760869</td>\n",
       "      <td>0.982027</td>\n",
       "      <td>0.736779</td>\n",
       "      <td>0.668839</td>\n",
       "      <td>0.006838</td>\n",
       "      <td>0.000844</td>\n",
       "      <td>0.447345</td>\n",
       "      <td>0.992990</td>\n",
       "      <td>HOROZ</td>\n",
       "    </tr>\n",
       "    <tr>\n",
       "      <th>8</th>\n",
       "      <td>175276</td>\n",
       "      <td>1595.654</td>\n",
       "      <td>608.730967</td>\n",
       "      <td>368.763860</td>\n",
       "      <td>1.650734</td>\n",
       "      <td>0.795624</td>\n",
       "      <td>177114</td>\n",
       "      <td>472.406958</td>\n",
       "      <td>0.789343</td>\n",
       "      <td>0.989623</td>\n",
       "      <td>0.865077</td>\n",
       "      <td>0.776052</td>\n",
       "      <td>0.003473</td>\n",
       "      <td>0.000777</td>\n",
       "      <td>0.602257</td>\n",
       "      <td>0.994166</td>\n",
       "      <td>BOMBAY</td>\n",
       "    </tr>\n",
       "    <tr>\n",
       "      <th>9</th>\n",
       "      <td>51650</td>\n",
       "      <td>906.338</td>\n",
       "      <td>368.488038</td>\n",
       "      <td>179.682191</td>\n",
       "      <td>2.050777</td>\n",
       "      <td>0.873056</td>\n",
       "      <td>52390</td>\n",
       "      <td>256.442630</td>\n",
       "      <td>0.668046</td>\n",
       "      <td>0.985875</td>\n",
       "      <td>0.790132</td>\n",
       "      <td>0.695932</td>\n",
       "      <td>0.007134</td>\n",
       "      <td>0.001032</td>\n",
       "      <td>0.484321</td>\n",
       "      <td>0.993235</td>\n",
       "      <td>HOROZ</td>\n",
       "    </tr>\n",
       "  </tbody>\n",
       "</table>\n",
       "</div>"
      ],
      "text/plain": [
       "     Area  Perimeter  MajorAxisLength  MinorAxisLength  AspectRation  \\\n",
       "0   68852    981.885       354.744204       248.506994      1.427502   \n",
       "1   36109    690.918       236.918386       194.403861      1.218692   \n",
       "2   37177    707.976       259.312475       182.921571      1.417616   \n",
       "3   36730    692.349       235.968065       198.496267      1.188778   \n",
       "4   49728    823.685       285.910127       221.804301      1.289020   \n",
       "5   45325    801.826       301.858749       192.067748      1.571626   \n",
       "6   47044    855.838       354.304435       170.357301      2.079773   \n",
       "7   60868   1018.898       416.225028       187.510757      2.219739   \n",
       "8  175276   1595.654       608.730967       368.763860      1.650734   \n",
       "9   51650    906.338       368.488038       179.682191      2.050777   \n",
       "\n",
       "   Eccentricity  ConvexArea  EquivDiameter    Extent  Solidity  roundness  \\\n",
       "0      0.713628       69563     296.082909  0.774001  0.989779   0.897439   \n",
       "1      0.571572       36461     214.418765  0.771560  0.990346   0.950544   \n",
       "2      0.708800       37528     217.566603  0.803827  0.990647   0.932067   \n",
       "3      0.540725       37038     216.254684  0.766678  0.991684   0.962899   \n",
       "4      0.630999       50280     251.626024  0.779595  0.989021   0.921061   \n",
       "5      0.771455       45963     240.228188  0.800230  0.986119   0.885906   \n",
       "6      0.876818       47566     244.741253  0.621699  0.989026   0.807107   \n",
       "7      0.892775       61982     278.387400  0.760869  0.982027   0.736779   \n",
       "8      0.795624      177114     472.406958  0.789343  0.989623   0.865077   \n",
       "9      0.873056       52390     256.442630  0.668046  0.985875   0.790132   \n",
       "\n",
       "   Compactness  ShapeFactor1  ShapeFactor2  ShapeFactor3  ShapeFactor4  \\\n",
       "0     0.834638      0.005152      0.001542      0.696620      0.994427   \n",
       "1     0.905032      0.006561      0.002715      0.819083      0.998210   \n",
       "2     0.839013      0.006975      0.002132      0.703943      0.997921   \n",
       "3     0.916457      0.006424      0.002796      0.839894      0.998448   \n",
       "4     0.880088      0.005749      0.002128      0.774555      0.998416   \n",
       "5     0.795830      0.006660      0.001648      0.633345      0.995382   \n",
       "6     0.690765      0.007531      0.001058      0.477157      0.992378   \n",
       "7     0.668839      0.006838      0.000844      0.447345      0.992990   \n",
       "8     0.776052      0.003473      0.000777      0.602257      0.994166   \n",
       "9     0.695932      0.007134      0.001032      0.484321      0.993235   \n",
       "\n",
       "      Class  \n",
       "0  BARBUNYA  \n",
       "1     SEKER  \n",
       "2  DERMASON  \n",
       "3     SEKER  \n",
       "4     SEKER  \n",
       "5      SIRA  \n",
       "6     HOROZ  \n",
       "7     HOROZ  \n",
       "8    BOMBAY  \n",
       "9     HOROZ  "
      ]
     },
     "execution_count": 3,
     "metadata": {},
     "output_type": "execute_result"
    }
   ],
   "source": [
    "df.head(10)"
   ]
  },
  {
   "cell_type": "markdown",
   "id": "a6cca914",
   "metadata": {},
   "source": [
    "## Creating the model"
   ]
  },
  {
   "cell_type": "code",
   "execution_count": 17,
   "id": "8f344ea3",
   "metadata": {},
   "outputs": [],
   "source": [
    "net = tf.keras.Sequential(\n",
    "    [\n",
    "        layers.Dense(512, activation=\"relu\"),\n",
    "        layers.Dense(256, activation=\"relu\"),\n",
    "        layers.Dense(7),\n",
    "    ]\n",
    ")"
   ]
  },
  {
   "cell_type": "code",
   "execution_count": 19,
   "id": "7cd4b173",
   "metadata": {},
   "outputs": [],
   "source": [
    "X = df.drop(columns=[\"Class\"]).values\n",
    "y = df.Class.astype('category').cat.codes.values"
   ]
  },
  {
   "cell_type": "markdown",
   "id": "4880e73e",
   "metadata": {},
   "source": [
    "### Without Resampling"
   ]
  },
  {
   "cell_type": "code",
   "execution_count": 7,
   "id": "a75bfecd",
   "metadata": {},
   "outputs": [],
   "source": [
    "# scaling the the data for training!\n",
    "scaler = StandardScaler()\n",
    "\n",
    "X_train, X_test, y_train, y_test = train_test_split(X, y, test_size=0.25)\n",
    "\n",
    "X_train = scaler.fit_transform(X_train)\n",
    "\n",
    "X_train, X_val, y_train, y_val = train_test_split(X_train, y_train, test_size=0.25)"
   ]
  },
  {
   "cell_type": "code",
   "execution_count": 8,
   "id": "b66c207f",
   "metadata": {},
   "outputs": [],
   "source": [
    "train_ds = tf.data.Dataset.from_tensor_slices((X_train, y_train)).batch(32)\n",
    "val_ds = tf.data.Dataset.from_tensor_slices((X_val, y_val)).batch(16)"
   ]
  },
  {
   "cell_type": "code",
   "execution_count": 24,
   "id": "47890e98",
   "metadata": {},
   "outputs": [],
   "source": [
    "net.compile(\n",
    "    optimizer=optimizers.Adam(learning_rate=3e-4),\n",
    "    loss=losses.SparseCategoricalCrossentropy(from_logits=True),\n",
    "    metrics=[metrics.SparseCategoricalAccuracy()],\n",
    ")"
   ]
  },
  {
   "cell_type": "code",
   "execution_count": 10,
   "id": "64d6ada7",
   "metadata": {
    "scrolled": false
   },
   "outputs": [
    {
     "name": "stdout",
     "output_type": "stream",
     "text": [
      "Epoch 1/20\n",
      "237/240 [============================>.] - ETA: 0s - loss: 0.5086 - sparse_categorical_accuracy: 0.8463\n",
      "Epoch 00001: val_loss improved from inf to 0.24519, saving model to models\\4\n",
      "INFO:tensorflow:Assets written to: models\\4\\assets\n",
      "240/240 [==============================] - 3s 8ms/step - loss: 0.5060 - sparse_categorical_accuracy: 0.8470 - val_loss: 0.2452 - val_sparse_categorical_accuracy: 0.9103\n",
      "Epoch 2/20\n",
      "228/240 [===========================>..] - ETA: 0s - loss: 0.2295 - sparse_categorical_accuracy: 0.9211\n",
      "Epoch 00002: val_loss improved from 0.24519 to 0.21605, saving model to models\\4\n",
      "INFO:tensorflow:Assets written to: models\\4\\assets\n",
      "240/240 [==============================] - 1s 6ms/step - loss: 0.2278 - sparse_categorical_accuracy: 0.9216 - val_loss: 0.2160 - val_sparse_categorical_accuracy: 0.9212\n",
      "Epoch 3/20\n",
      "229/240 [===========================>..] - ETA: 0s - loss: 0.2096 - sparse_categorical_accuracy: 0.9233\n",
      "Epoch 00003: val_loss improved from 0.21605 to 0.20884, saving model to models\\4\n",
      "INFO:tensorflow:Assets written to: models\\4\\assets\n",
      "240/240 [==============================] - 1s 6ms/step - loss: 0.2084 - sparse_categorical_accuracy: 0.9236 - val_loss: 0.2088 - val_sparse_categorical_accuracy: 0.9236\n",
      "Epoch 4/20\n",
      "234/240 [============================>.] - ETA: 0s - loss: 0.2017 - sparse_categorical_accuracy: 0.9244\n",
      "Epoch 00004: val_loss improved from 0.20884 to 0.20494, saving model to models\\4\n",
      "INFO:tensorflow:Assets written to: models\\4\\assets\n",
      "240/240 [==============================] - 1s 6ms/step - loss: 0.2006 - sparse_categorical_accuracy: 0.9246 - val_loss: 0.2049 - val_sparse_categorical_accuracy: 0.9255\n",
      "Epoch 5/20\n",
      "236/240 [============================>.] - ETA: 0s - loss: 0.1962 - sparse_categorical_accuracy: 0.9257\n",
      "Epoch 00005: val_loss improved from 0.20494 to 0.20256, saving model to models\\4\n",
      "INFO:tensorflow:Assets written to: models\\4\\assets\n",
      "240/240 [==============================] - 1s 6ms/step - loss: 0.1957 - sparse_categorical_accuracy: 0.9261 - val_loss: 0.2026 - val_sparse_categorical_accuracy: 0.9255\n",
      "Epoch 6/20\n",
      "224/240 [===========================>..] - ETA: 0s - loss: 0.1912 - sparse_categorical_accuracy: 0.9277\n",
      "Epoch 00006: val_loss improved from 0.20256 to 0.20087, saving model to models\\4\n",
      "INFO:tensorflow:Assets written to: models\\4\\assets\n",
      "240/240 [==============================] - 1s 6ms/step - loss: 0.1922 - sparse_categorical_accuracy: 0.9270 - val_loss: 0.2009 - val_sparse_categorical_accuracy: 0.9259\n",
      "Epoch 7/20\n",
      "227/240 [===========================>..] - ETA: 0s - loss: 0.1900 - sparse_categorical_accuracy: 0.9273\n",
      "Epoch 00007: val_loss improved from 0.20087 to 0.19942, saving model to models\\4\n",
      "INFO:tensorflow:Assets written to: models\\4\\assets\n",
      "240/240 [==============================] - 1s 6ms/step - loss: 0.1893 - sparse_categorical_accuracy: 0.9275 - val_loss: 0.1994 - val_sparse_categorical_accuracy: 0.9259\n",
      "Epoch 8/20\n",
      "233/240 [============================>.] - ETA: 0s - loss: 0.1883 - sparse_categorical_accuracy: 0.9288\n",
      "Epoch 00008: val_loss improved from 0.19942 to 0.19827, saving model to models\\4\n",
      "INFO:tensorflow:Assets written to: models\\4\\assets\n",
      "240/240 [==============================] - 1s 6ms/step - loss: 0.1870 - sparse_categorical_accuracy: 0.9292 - val_loss: 0.1983 - val_sparse_categorical_accuracy: 0.9252\n",
      "Epoch 9/20\n",
      "226/240 [===========================>..] - ETA: 0s - loss: 0.1851 - sparse_categorical_accuracy: 0.9293\n",
      "Epoch 00009: val_loss improved from 0.19827 to 0.19769, saving model to models\\4\n",
      "INFO:tensorflow:Assets written to: models\\4\\assets\n",
      "240/240 [==============================] - 1s 6ms/step - loss: 0.1850 - sparse_categorical_accuracy: 0.9293 - val_loss: 0.1977 - val_sparse_categorical_accuracy: 0.9252\n",
      "Epoch 10/20\n",
      "227/240 [===========================>..] - ETA: 0s - loss: 0.1842 - sparse_categorical_accuracy: 0.9295\n",
      "Epoch 00010: val_loss improved from 0.19769 to 0.19685, saving model to models\\4\n",
      "INFO:tensorflow:Assets written to: models\\4\\assets\n",
      "240/240 [==============================] - 1s 6ms/step - loss: 0.1835 - sparse_categorical_accuracy: 0.9297 - val_loss: 0.1969 - val_sparse_categorical_accuracy: 0.9259\n",
      "Epoch 11/20\n",
      "224/240 [===========================>..] - ETA: 0s - loss: 0.1812 - sparse_categorical_accuracy: 0.9312\n",
      "Epoch 00011: val_loss improved from 0.19685 to 0.19601, saving model to models\\4\n",
      "INFO:tensorflow:Assets written to: models\\4\\assets\n",
      "240/240 [==============================] - 1s 6ms/step - loss: 0.1820 - sparse_categorical_accuracy: 0.9305 - val_loss: 0.1960 - val_sparse_categorical_accuracy: 0.9267\n",
      "Epoch 12/20\n",
      "222/240 [==========================>...] - ETA: 0s - loss: 0.1805 - sparse_categorical_accuracy: 0.9309\n",
      "Epoch 00012: val_loss improved from 0.19601 to 0.19519, saving model to models\\4\n",
      "INFO:tensorflow:Assets written to: models\\4\\assets\n",
      "240/240 [==============================] - 1s 6ms/step - loss: 0.1806 - sparse_categorical_accuracy: 0.9305 - val_loss: 0.1952 - val_sparse_categorical_accuracy: 0.9263\n",
      "Epoch 13/20\n",
      "235/240 [============================>.] - ETA: 0s - loss: 0.1800 - sparse_categorical_accuracy: 0.9307\n",
      "Epoch 00013: val_loss improved from 0.19519 to 0.19454, saving model to models\\4\n",
      "INFO:tensorflow:Assets written to: models\\4\\assets\n",
      "240/240 [==============================] - 1s 6ms/step - loss: 0.1792 - sparse_categorical_accuracy: 0.9310 - val_loss: 0.1945 - val_sparse_categorical_accuracy: 0.9271\n",
      "Epoch 14/20\n",
      "230/240 [===========================>..] - ETA: 0s - loss: 0.1798 - sparse_categorical_accuracy: 0.9306\n",
      "Epoch 00014: val_loss improved from 0.19454 to 0.19402, saving model to models\\4\n",
      "INFO:tensorflow:Assets written to: models\\4\\assets\n",
      "240/240 [==============================] - 1s 6ms/step - loss: 0.1780 - sparse_categorical_accuracy: 0.9314 - val_loss: 0.1940 - val_sparse_categorical_accuracy: 0.9271\n",
      "Epoch 15/20\n",
      "228/240 [===========================>..] - ETA: 0s - loss: 0.1779 - sparse_categorical_accuracy: 0.9315\n",
      "Epoch 00015: val_loss improved from 0.19402 to 0.19312, saving model to models\\4\n",
      "INFO:tensorflow:Assets written to: models\\4\\assets\n",
      "240/240 [==============================] - 1s 6ms/step - loss: 0.1769 - sparse_categorical_accuracy: 0.9318 - val_loss: 0.1931 - val_sparse_categorical_accuracy: 0.9287\n",
      "Epoch 16/20\n",
      "235/240 [============================>.] - ETA: 0s - loss: 0.1765 - sparse_categorical_accuracy: 0.9322\n",
      "Epoch 00016: val_loss improved from 0.19312 to 0.19255, saving model to models\\4\n",
      "INFO:tensorflow:Assets written to: models\\4\\assets\n",
      "240/240 [==============================] - 1s 6ms/step - loss: 0.1757 - sparse_categorical_accuracy: 0.9325 - val_loss: 0.1926 - val_sparse_categorical_accuracy: 0.9287\n",
      "Epoch 17/20\n",
      "230/240 [===========================>..] - ETA: 0s - loss: 0.1765 - sparse_categorical_accuracy: 0.9322\n",
      "Epoch 00017: val_loss improved from 0.19255 to 0.19199, saving model to models\\4\n",
      "INFO:tensorflow:Assets written to: models\\4\\assets\n",
      "240/240 [==============================] - 1s 6ms/step - loss: 0.1747 - sparse_categorical_accuracy: 0.9330 - val_loss: 0.1920 - val_sparse_categorical_accuracy: 0.9287\n",
      "Epoch 18/20\n",
      "222/240 [==========================>...] - ETA: 0s - loss: 0.1738 - sparse_categorical_accuracy: 0.9340\n",
      "Epoch 00018: val_loss improved from 0.19199 to 0.19148, saving model to models\\4\n",
      "INFO:tensorflow:Assets written to: models\\4\\assets\n",
      "240/240 [==============================] - 1s 6ms/step - loss: 0.1738 - sparse_categorical_accuracy: 0.9336 - val_loss: 0.1915 - val_sparse_categorical_accuracy: 0.9287\n",
      "Epoch 19/20\n",
      "225/240 [===========================>..] - ETA: 0s - loss: 0.1723 - sparse_categorical_accuracy: 0.9340\n",
      "Epoch 00019: val_loss improved from 0.19148 to 0.19090, saving model to models\\4\n",
      "INFO:tensorflow:Assets written to: models\\4\\assets\n",
      "240/240 [==============================] - 1s 6ms/step - loss: 0.1728 - sparse_categorical_accuracy: 0.9338 - val_loss: 0.1909 - val_sparse_categorical_accuracy: 0.9295\n",
      "Epoch 20/20\n",
      "228/240 [===========================>..] - ETA: 0s - loss: 0.1728 - sparse_categorical_accuracy: 0.9330\n",
      "Epoch 00020: val_loss improved from 0.19090 to 0.19058, saving model to models\\4\n",
      "INFO:tensorflow:Assets written to: models\\4\\assets\n",
      "240/240 [==============================] - 1s 6ms/step - loss: 0.1718 - sparse_categorical_accuracy: 0.9334 - val_loss: 0.1906 - val_sparse_categorical_accuracy: 0.9295\n"
     ]
    }
   ],
   "source": [
    "history = net.fit(\n",
    "    train_ds,\n",
    "    validation_data=val_ds,\n",
    "    epochs=20,\n",
    "    callbacks=[\n",
    "        callbacks.ModelCheckpoint(\"models/4\", save_best_only=True, verbose=3),\n",
    "    ],\n",
    ")"
   ]
  },
  {
   "cell_type": "code",
   "execution_count": 11,
   "id": "a86f773c",
   "metadata": {},
   "outputs": [],
   "source": [
    "# Transforming the test set\n",
    "\n",
    "X_test = scaler.transform(X_test)\n",
    "\n",
    "test_ds = tf.data.Dataset.from_tensor_slices((X_test, y_test)).batch(16)"
   ]
  },
  {
   "cell_type": "code",
   "execution_count": 12,
   "id": "038ef33d",
   "metadata": {},
   "outputs": [
    {
     "name": "stdout",
     "output_type": "stream",
     "text": [
      "213/213 [==============================] - 0s 2ms/step - loss: 0.1947 - sparse_categorical_accuracy: 0.9304\n"
     ]
    },
    {
     "data": {
      "text/plain": [
       "[0.19465896487236023, 0.9303555488586426]"
      ]
     },
     "execution_count": 12,
     "metadata": {},
     "output_type": "execute_result"
    }
   ],
   "source": [
    "net.evaluate(test_ds)"
   ]
  },
  {
   "cell_type": "code",
   "execution_count": 13,
   "id": "10eacb08",
   "metadata": {},
   "outputs": [],
   "source": [
    "preds = net(X_test)\n",
    "preds = tf.argmax(preds, axis=1)"
   ]
  },
  {
   "cell_type": "code",
   "execution_count": 15,
   "id": "0c6428b2",
   "metadata": {},
   "outputs": [
    {
     "data": {
      "text/plain": [
       "array([4, 5, 5, ..., 3, 3, 1], dtype=int64)"
      ]
     },
     "execution_count": 15,
     "metadata": {},
     "output_type": "execute_result"
    }
   ],
   "source": [
    "preds.numpy()"
   ]
  },
  {
   "cell_type": "code",
   "execution_count": 16,
   "id": "0fd94882",
   "metadata": {},
   "outputs": [
    {
     "data": {
      "text/plain": [
       "0.9298963069257667"
      ]
     },
     "execution_count": 16,
     "metadata": {},
     "output_type": "execute_result"
    }
   ],
   "source": [
    "f1_score(y_true=y_test, y_pred=preds.numpy(), average='weighted')"
   ]
  },
  {
   "cell_type": "code",
   "execution_count": 15,
   "id": "a9c1602f",
   "metadata": {},
   "outputs": [
    {
     "name": "stdout",
     "output_type": "stream",
     "text": [
      "                   pre       rec       spe        f1       geo       iba       sup\n",
      "\n",
      "   BARBUNYA       0.95      0.96      0.99      0.96      0.98      0.95       335\n",
      "     BOMBAY       1.00      1.00      1.00      1.00      1.00      1.00       150\n",
      "       CALI       0.96      0.96      0.99      0.96      0.97      0.95       386\n",
      "   DERMASON       0.92      0.91      0.97      0.91      0.94      0.88       893\n",
      "      HOROZ       0.96      0.96      0.99      0.96      0.98      0.95       458\n",
      "      SEKER       0.96      0.95      0.99      0.96      0.97      0.94       512\n",
      "       SIRA       0.85      0.88      0.96      0.86      0.92      0.84       669\n",
      "\n",
      "avg / total       0.93      0.93      0.98      0.93      0.96      0.91      3403\n",
      "\n"
     ]
    }
   ],
   "source": [
    "cf = confusion_matrix(y_test, preds)\n",
    "\n",
    "classes = df.Class.astype(\"category\").cat.categories.tolist()\n",
    "print(classification_report_imbalanced(y_test, preds, target_names=classes))"
   ]
  },
  {
   "cell_type": "code",
   "execution_count": 17,
   "id": "bd6ce1d5",
   "metadata": {},
   "outputs": [
    {
     "data": {
      "image/png": "[encoded data removed]",
      "text/plain": [
       "<Figure size 720x576 with 2 Axes>"
      ]
     },
     "metadata": {},
     "output_type": "display_data"
    }
   ],
   "source": [
    "classes = df.Class.astype(\"category\").cat.categories.tolist()\n",
    "sns.set(rc={\"figure.figsize\": (10, 8)}, font_scale=1.25)\n",
    "ax = sns.heatmap(\n",
    "    cf, annot=True, xticklabels=classes, yticklabels=classes, fmt=\"d\", cmap=\"viridis_r\"\n",
    ")\n",
    "ax.set_ylabel(\"Actual Class\")\n",
    "_ = ax.set_xlabel(\"Predicted Class\")"
   ]
  },
  {
   "cell_type": "markdown",
   "id": "6d8b8c08",
   "metadata": {},
   "source": [
    "### With SMOTE Oversampling"
   ]
  },
  {
   "cell_type": "code",
   "execution_count": 20,
   "id": "bbec155b",
   "metadata": {},
   "outputs": [],
   "source": [
    "X_sampled, y_sampled = SMOTE().fit_resample(X, y) "
   ]
  },
  {
   "cell_type": "code",
   "execution_count": 21,
   "id": "273e1ec8",
   "metadata": {},
   "outputs": [],
   "source": [
    "scaler = StandardScaler()\n",
    "\n",
    "X_train, X_test, y_train, y_test = train_test_split(X_sampled, y_sampled, test_size=0.25)\n",
    "\n",
    "X_train = scaler.fit_transform(X_train)\n",
    "\n",
    "X_train, X_val, y_train, y_val = train_test_split(X_train, y_train, test_size=0.25)"
   ]
  },
  {
   "cell_type": "code",
   "execution_count": 22,
   "id": "3aa5dee0",
   "metadata": {},
   "outputs": [],
   "source": [
    "train_ds = tf.data.Dataset.from_tensor_slices((X_train, y_train)).batch(32)\n",
    "val_ds = tf.data.Dataset.from_tensor_slices((X_val, y_val)).batch(16)"
   ]
  },
  {
   "cell_type": "code",
   "execution_count": 25,
   "id": "b6f8994b",
   "metadata": {
    "scrolled": false
   },
   "outputs": [
    {
     "name": "stdout",
     "output_type": "stream",
     "text": [
      "Epoch 1/20\n",
      "436/437 [============================>.] - ETA: 0s - loss: 0.3504 - sparse_categorical_accuracy: 0.8898\n",
      "Epoch 00001: val_loss improved from inf to 0.18167, saving model to models\\5\n",
      "INFO:tensorflow:Assets written to: models\\5\\assets\n",
      "437/437 [==============================] - 2s 5ms/step - loss: 0.3502 - sparse_categorical_accuracy: 0.8899 - val_loss: 0.1817 - val_sparse_categorical_accuracy: 0.9439\n",
      "Epoch 2/20\n",
      "425/437 [============================>.] - ETA: 0s - loss: 0.1632 - sparse_categorical_accuracy: 0.9418\n",
      "Epoch 00002: val_loss improved from 0.18167 to 0.16037, saving model to models\\5\n",
      "INFO:tensorflow:Assets written to: models\\5\\assets\n",
      "437/437 [==============================] - 3s 6ms/step - loss: 0.1634 - sparse_categorical_accuracy: 0.9413 - val_loss: 0.1604 - val_sparse_categorical_accuracy: 0.9491\n",
      "Epoch 3/20\n",
      "424/437 [============================>.] - ETA: 0s - loss: 0.1518 - sparse_categorical_accuracy: 0.9448\n",
      "Epoch 00003: val_loss improved from 0.16037 to 0.15337, saving model to models\\5\n",
      "INFO:tensorflow:Assets written to: models\\5\\assets\n",
      "437/437 [==============================] - 3s 6ms/step - loss: 0.1518 - sparse_categorical_accuracy: 0.9445 - val_loss: 0.1534 - val_sparse_categorical_accuracy: 0.9504\n",
      "Epoch 4/20\n",
      "430/437 [============================>.] - ETA: 0s - loss: 0.1474 - sparse_categorical_accuracy: 0.9456\n",
      "Epoch 00004: val_loss improved from 0.15337 to 0.14995, saving model to models\\5\n",
      "INFO:tensorflow:Assets written to: models\\5\\assets\n",
      "437/437 [==============================] - 3s 7ms/step - loss: 0.1467 - sparse_categorical_accuracy: 0.9456 - val_loss: 0.1499 - val_sparse_categorical_accuracy: 0.9506\n",
      "Epoch 5/20\n",
      "426/437 [============================>.] - ETA: 0s - loss: 0.1432 - sparse_categorical_accuracy: 0.9474\n",
      "Epoch 00005: val_loss improved from 0.14995 to 0.14763, saving model to models\\5\n",
      "INFO:tensorflow:Assets written to: models\\5\\assets\n",
      "437/437 [==============================] - 2s 5ms/step - loss: 0.1434 - sparse_categorical_accuracy: 0.9472 - val_loss: 0.1476 - val_sparse_categorical_accuracy: 0.9527\n",
      "Epoch 6/20\n",
      "425/437 [============================>.] - ETA: 0s - loss: 0.1408 - sparse_categorical_accuracy: 0.9483\n",
      "Epoch 00006: val_loss improved from 0.14763 to 0.14619, saving model to models\\5\n",
      "INFO:tensorflow:Assets written to: models\\5\\assets\n",
      "437/437 [==============================] - 2s 5ms/step - loss: 0.1411 - sparse_categorical_accuracy: 0.9481 - val_loss: 0.1462 - val_sparse_categorical_accuracy: 0.9529\n",
      "Epoch 7/20\n",
      "430/437 [============================>.] - ETA: 0s - loss: 0.1397 - sparse_categorical_accuracy: 0.9493\n",
      "Epoch 00007: val_loss improved from 0.14619 to 0.14495, saving model to models\\5\n",
      "INFO:tensorflow:Assets written to: models\\5\\assets\n",
      "437/437 [==============================] - 2s 5ms/step - loss: 0.1390 - sparse_categorical_accuracy: 0.9494 - val_loss: 0.1450 - val_sparse_categorical_accuracy: 0.9534\n",
      "Epoch 8/20\n",
      "419/437 [===========================>..] - ETA: 0s - loss: 0.1372 - sparse_categorical_accuracy: 0.9500\n",
      "Epoch 00008: val_loss improved from 0.14495 to 0.14398, saving model to models\\5\n",
      "INFO:tensorflow:Assets written to: models\\5\\assets\n",
      "437/437 [==============================] - 2s 5ms/step - loss: 0.1372 - sparse_categorical_accuracy: 0.9499 - val_loss: 0.1440 - val_sparse_categorical_accuracy: 0.9536\n",
      "Epoch 9/20\n",
      "423/437 [============================>.] - ETA: 0s - loss: 0.1357 - sparse_categorical_accuracy: 0.9502\n",
      "Epoch 00009: val_loss improved from 0.14398 to 0.14303, saving model to models\\5\n",
      "INFO:tensorflow:Assets written to: models\\5\\assets\n",
      "437/437 [==============================] - 2s 5ms/step - loss: 0.1356 - sparse_categorical_accuracy: 0.9503 - val_loss: 0.1430 - val_sparse_categorical_accuracy: 0.9542\n",
      "Epoch 10/20\n",
      "431/437 [============================>.] - ETA: 0s - loss: 0.1345 - sparse_categorical_accuracy: 0.9498\n",
      "Epoch 00010: val_loss improved from 0.14303 to 0.14217, saving model to models\\5\n",
      "INFO:tensorflow:Assets written to: models\\5\\assets\n",
      "437/437 [==============================] - 2s 5ms/step - loss: 0.1340 - sparse_categorical_accuracy: 0.9500 - val_loss: 0.1422 - val_sparse_categorical_accuracy: 0.9549\n",
      "Epoch 11/20\n",
      "422/437 [===========================>..] - ETA: 0s - loss: 0.1326 - sparse_categorical_accuracy: 0.9505\n",
      "Epoch 00011: val_loss improved from 0.14217 to 0.14135, saving model to models\\5\n",
      "INFO:tensorflow:Assets written to: models\\5\\assets\n",
      "437/437 [==============================] - 2s 5ms/step - loss: 0.1326 - sparse_categorical_accuracy: 0.9505 - val_loss: 0.1414 - val_sparse_categorical_accuracy: 0.9549\n",
      "Epoch 12/20\n",
      "425/437 [============================>.] - ETA: 0s - loss: 0.1312 - sparse_categorical_accuracy: 0.9510\n",
      "Epoch 00012: val_loss improved from 0.14135 to 0.14066, saving model to models\\5\n",
      "INFO:tensorflow:Assets written to: models\\5\\assets\n",
      "437/437 [==============================] - 2s 5ms/step - loss: 0.1313 - sparse_categorical_accuracy: 0.9512 - val_loss: 0.1407 - val_sparse_categorical_accuracy: 0.9549\n",
      "Epoch 13/20\n",
      "424/437 [============================>.] - ETA: 0s - loss: 0.1302 - sparse_categorical_accuracy: 0.9509\n",
      "Epoch 00013: val_loss improved from 0.14066 to 0.14007, saving model to models\\5\n",
      "INFO:tensorflow:Assets written to: models\\5\\assets\n",
      "437/437 [==============================] - 2s 5ms/step - loss: 0.1301 - sparse_categorical_accuracy: 0.9512 - val_loss: 0.1401 - val_sparse_categorical_accuracy: 0.9544\n",
      "Epoch 14/20\n",
      "436/437 [============================>.] - ETA: 0s - loss: 0.1290 - sparse_categorical_accuracy: 0.9515\n",
      "Epoch 00014: val_loss improved from 0.14007 to 0.13934, saving model to models\\5\n",
      "INFO:tensorflow:Assets written to: models\\5\\assets\n",
      "437/437 [==============================] - 2s 5ms/step - loss: 0.1289 - sparse_categorical_accuracy: 0.9516 - val_loss: 0.1393 - val_sparse_categorical_accuracy: 0.9547\n",
      "Epoch 15/20\n",
      "427/437 [============================>.] - ETA: 0s - loss: 0.1278 - sparse_categorical_accuracy: 0.9519\n",
      "Epoch 00015: val_loss improved from 0.13934 to 0.13881, saving model to models\\5\n",
      "INFO:tensorflow:Assets written to: models\\5\\assets\n",
      "437/437 [==============================] - 2s 5ms/step - loss: 0.1279 - sparse_categorical_accuracy: 0.9522 - val_loss: 0.1388 - val_sparse_categorical_accuracy: 0.9553\n",
      "Epoch 16/20\n",
      "424/437 [============================>.] - ETA: 0s - loss: 0.1269 - sparse_categorical_accuracy: 0.9517\n",
      "Epoch 00016: val_loss improved from 0.13881 to 0.13838, saving model to models\\5\n",
      "INFO:tensorflow:Assets written to: models\\5\\assets\n",
      "437/437 [==============================] - 2s 5ms/step - loss: 0.1268 - sparse_categorical_accuracy: 0.9520 - val_loss: 0.1384 - val_sparse_categorical_accuracy: 0.9549\n",
      "Epoch 17/20\n",
      "421/437 [===========================>..] - ETA: 0s - loss: 0.1259 - sparse_categorical_accuracy: 0.9521\n",
      "Epoch 00017: val_loss improved from 0.13838 to 0.13810, saving model to models\\5\n",
      "INFO:tensorflow:Assets written to: models\\5\\assets\n",
      "437/437 [==============================] - 2s 5ms/step - loss: 0.1259 - sparse_categorical_accuracy: 0.9523 - val_loss: 0.1381 - val_sparse_categorical_accuracy: 0.9544\n",
      "Epoch 18/20\n",
      "429/437 [============================>.] - ETA: 0s - loss: 0.1257 - sparse_categorical_accuracy: 0.9524\n",
      "Epoch 00018: val_loss improved from 0.13810 to 0.13775, saving model to models\\5\n",
      "INFO:tensorflow:Assets written to: models\\5\\assets\n",
      "437/437 [==============================] - 3s 6ms/step - loss: 0.1249 - sparse_categorical_accuracy: 0.9528 - val_loss: 0.1377 - val_sparse_categorical_accuracy: 0.9540\n",
      "Epoch 19/20\n",
      "428/437 [============================>.] - ETA: 0s - loss: 0.1245 - sparse_categorical_accuracy: 0.9529\n",
      "Epoch 00019: val_loss improved from 0.13775 to 0.13751, saving model to models\\5\n",
      "INFO:tensorflow:Assets written to: models\\5\\assets\n",
      "437/437 [==============================] - 2s 5ms/step - loss: 0.1240 - sparse_categorical_accuracy: 0.9532 - val_loss: 0.1375 - val_sparse_categorical_accuracy: 0.9540\n",
      "Epoch 20/20\n",
      "428/437 [============================>.] - ETA: 0s - loss: 0.1236 - sparse_categorical_accuracy: 0.9529\n",
      "Epoch 00020: val_loss improved from 0.13751 to 0.13724, saving model to models\\5\n",
      "INFO:tensorflow:Assets written to: models\\5\\assets\n",
      "437/437 [==============================] - 2s 5ms/step - loss: 0.1231 - sparse_categorical_accuracy: 0.9532 - val_loss: 0.1372 - val_sparse_categorical_accuracy: 0.9542\n"
     ]
    }
   ],
   "source": [
    "history = net.fit(\n",
    "    train_ds,\n",
    "    validation_data=val_ds,\n",
    "    epochs=20,\n",
    "    callbacks=[\n",
    "        callbacks.ModelCheckpoint(\"models/5\", save_best_only=True, verbose=3),\n",
    "    ],\n",
    ")"
   ]
  },
  {
   "cell_type": "code",
   "execution_count": 27,
   "id": "9801071a",
   "metadata": {},
   "outputs": [
    {
     "name": "stdout",
     "output_type": "stream",
     "text": [
      "388/388 [==============================] - 1s 3ms/step - loss: 0.1348 - sparse_categorical_accuracy: 0.9484\n"
     ]
    },
    {
     "data": {
      "text/plain": [
       "[0.13477090001106262, 0.948436975479126]"
      ]
     },
     "execution_count": 27,
     "metadata": {},
     "output_type": "execute_result"
    }
   ],
   "source": [
    "X_test = scaler.transform(X_test)\n",
    "test_ds = tf.data.Dataset.from_tensor_slices((X_test, y_test)).batch(16)\n",
    "net.evaluate(test_ds)"
   ]
  },
  {
   "cell_type": "code",
   "execution_count": 28,
   "id": "5a77942f",
   "metadata": {},
   "outputs": [
    {
     "data": {
      "text/plain": [
       "array([4, 1, 0, ..., 0, 4, 3], dtype=int64)"
      ]
     },
     "execution_count": 28,
     "metadata": {},
     "output_type": "execute_result"
    }
   ],
   "source": [
    "preds = net(X_test)\n",
    "preds = tf.argmax(preds, axis=1)\n",
    "preds.numpy()"
   ]
  },
  {
   "cell_type": "code",
   "execution_count": 29,
   "id": "3221609e",
   "metadata": {},
   "outputs": [
    {
     "data": {
      "text/plain": [
       "0.9484439923152497"
      ]
     },
     "execution_count": 29,
     "metadata": {},
     "output_type": "execute_result"
    }
   ],
   "source": [
    "f1_score(y_test, preds, average='weighted')"
   ]
  },
  {
   "cell_type": "code",
   "execution_count": 31,
   "id": "049fcec9",
   "metadata": {},
   "outputs": [
    {
     "name": "stdout",
     "output_type": "stream",
     "text": [
      "                   pre       rec       spe        f1       geo       iba       sup\n",
      "\n",
      "          0       0.98      0.94      1.00      0.96      0.97      0.93       874\n",
      "          1       1.00      1.00      1.00      1.00      1.00      1.00       923\n",
      "          2       0.94      0.97      0.99      0.96      0.98      0.96       847\n",
      "          3       0.93      0.89      0.99      0.91      0.94      0.87       888\n",
      "          4       0.98      0.96      1.00      0.97      0.98      0.95       914\n",
      "          5       0.93      0.98      0.99      0.96      0.99      0.97       891\n",
      "          6       0.88      0.90      0.98      0.89      0.94      0.87       869\n",
      "\n",
      "avg / total       0.95      0.95      0.99      0.95      0.97      0.94      6206\n",
      "\n"
     ]
    }
   ],
   "source": [
    "print(classification_report_imbalanced(y_test, preds))"
   ]
  },
  {
   "cell_type": "code",
   "execution_count": 33,
   "id": "f1d505ff",
   "metadata": {},
   "outputs": [
    {
     "data": {
      "image/png": "[encoded data removed]",
      "text/plain": [
       "<Figure size 720x576 with 2 Axes>"
      ]
     },
     "metadata": {},
     "output_type": "display_data"
    }
   ],
   "source": [
    "cf = confusion_matrix(y_test, preds)\n",
    "\n",
    "classes = df.Class.astype(\"category\").cat.categories.tolist()\n",
    "sns.set(rc={\"figure.figsize\": (10, 8)}, font_scale=1.25)\n",
    "ax = sns.heatmap(\n",
    "    cf, annot=True, xticklabels=classes, yticklabels=classes, fmt=\"d\", cmap=\"viridis_r\"\n",
    ")\n",
    "ax.set_ylabel(\"Actual Class\")\n",
    "_ = ax.set_xlabel(\"Predicted Class\")"
   ]
  }
 ],
 "metadata": {
  "kernelspec": {
   "display_name": "Python 3 (ipykernel)",
   "language": "python",
   "name": "python3"
  },
  "language_info": {
   "codemirror_mode": {
    "name": "ipython",
    "version": 3
   },
   "file_extension": ".py",
   "mimetype": "text/x-python",
   "name": "python",
   "nbconvert_exporter": "python",
   "pygments_lexer": "ipython3",
   "version": "3.8.5"
  },
  "toc": {
   "base_numbering": 1,
   "nav_menu": {},
   "number_sections": true,
   "sideBar": true,
   "skip_h1_title": false,
   "title_cell": "Table of Contents",
   "title_sidebar": "Contents",
   "toc_cell": false,
   "toc_position": {
    "height": "calc(100% - 180px)",
    "left": "10px",
    "top": "150px",
    "width": "303.825px"
   },
   "toc_section_display": true,
   "toc_window_display": true
  }
 },
 "nbformat": 4,
 "nbformat_minor": 5
}
