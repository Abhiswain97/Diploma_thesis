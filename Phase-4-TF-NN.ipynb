{
 "cells": [
  {
   "cell_type": "code",
   "execution_count": 1,
   "id": "de4fb895",
   "metadata": {},
   "outputs": [],
   "source": [
    "import tensorflow as tf\n",
    "from tensorflow.keras import layers, losses, metrics, optimizers, callbacks\n",
    "import pandas as pd\n",
    "\n",
    "from sklearn.preprocessing import StandardScaler\n",
    "from sklearn.model_selection import train_test_split\n",
    "from sklearn.metrics import confusion_matrix, classification_report, f1_score\n",
    "from imblearn.metrics import classification_report_imbalanced\n",
    "\n",
    "from imblearn.over_sampling import RandomOverSampler, SMOTE\n",
    "from imblearn.under_sampling import RandomUnderSampler\n",
    "\n",
    "import seaborn as sns\n",
    "import matplotlib.pyplot as plt\n",
    "import requests"
   ]
  },
  {
   "cell_type": "code",
   "execution_count": 2,
   "id": "c03a4088",
   "metadata": {},
   "outputs": [],
   "source": [
    "df = (\n",
    "    pd.read_csv(\"./DryBeanDataset/Dry_Bean_Dataset.csv\")\n",
    "    .sample(frac=1)\n",
    "    .reset_index(drop=True)\n",
    ")\n",
    "# df = pd.read_csv(\"./selected_features/Anova.csv\")"
   ]
  },
  {
   "cell_type": "code",
   "execution_count": 3,
   "id": "4474a92a",
   "metadata": {},
   "outputs": [
    {
     "data": {
      "text/html": [
       "<div>\n",
       "<style scoped>\n",
       "    .dataframe tbody tr th:only-of-type {\n",
       "        vertical-align: middle;\n",
       "    }\n",
       "\n",
       "    .dataframe tbody tr th {\n",
       "        vertical-align: top;\n",
       "    }\n",
       "\n",
       "    .dataframe thead th {\n",
       "        text-align: right;\n",
       "    }\n",
       "</style>\n",
       "<table border=\"1\" class=\"dataframe\">\n",
       "  <thead>\n",
       "    <tr style=\"text-align: right;\">\n",
       "      <th></th>\n",
       "      <th>Area</th>\n",
       "      <th>Perimeter</th>\n",
       "      <th>MajorAxisLength</th>\n",
       "      <th>MinorAxisLength</th>\n",
       "      <th>AspectRation</th>\n",
       "      <th>Eccentricity</th>\n",
       "      <th>ConvexArea</th>\n",
       "      <th>EquivDiameter</th>\n",
       "      <th>Extent</th>\n",
       "      <th>Solidity</th>\n",
       "      <th>roundness</th>\n",
       "      <th>Compactness</th>\n",
       "      <th>ShapeFactor1</th>\n",
       "      <th>ShapeFactor2</th>\n",
       "      <th>ShapeFactor3</th>\n",
       "      <th>ShapeFactor4</th>\n",
       "      <th>Class</th>\n",
       "    </tr>\n",
       "  </thead>\n",
       "  <tbody>\n",
       "    <tr>\n",
       "      <th>0</th>\n",
       "      <td>67311</td>\n",
       "      <td>1037.096</td>\n",
       "      <td>374.417253</td>\n",
       "      <td>229.301248</td>\n",
       "      <td>1.632862</td>\n",
       "      <td>0.790531</td>\n",
       "      <td>68197</td>\n",
       "      <td>292.750793</td>\n",
       "      <td>0.756907</td>\n",
       "      <td>0.987008</td>\n",
       "      <td>0.786426</td>\n",
       "      <td>0.781884</td>\n",
       "      <td>0.005562</td>\n",
       "      <td>0.001282</td>\n",
       "      <td>0.611342</td>\n",
       "      <td>0.998238</td>\n",
       "      <td>BARBUNYA</td>\n",
       "    </tr>\n",
       "    <tr>\n",
       "      <th>1</th>\n",
       "      <td>72263</td>\n",
       "      <td>1097.796</td>\n",
       "      <td>375.594915</td>\n",
       "      <td>245.380765</td>\n",
       "      <td>1.530662</td>\n",
       "      <td>0.757089</td>\n",
       "      <td>73699</td>\n",
       "      <td>303.328385</td>\n",
       "      <td>0.719393</td>\n",
       "      <td>0.980515</td>\n",
       "      <td>0.753499</td>\n",
       "      <td>0.807594</td>\n",
       "      <td>0.005198</td>\n",
       "      <td>0.001364</td>\n",
       "      <td>0.652209</td>\n",
       "      <td>0.998311</td>\n",
       "      <td>BARBUNYA</td>\n",
       "    </tr>\n",
       "    <tr>\n",
       "      <th>2</th>\n",
       "      <td>38858</td>\n",
       "      <td>753.174</td>\n",
       "      <td>280.915962</td>\n",
       "      <td>176.562975</td>\n",
       "      <td>1.591024</td>\n",
       "      <td>0.777789</td>\n",
       "      <td>39287</td>\n",
       "      <td>222.430983</td>\n",
       "      <td>0.690809</td>\n",
       "      <td>0.989080</td>\n",
       "      <td>0.860795</td>\n",
       "      <td>0.791806</td>\n",
       "      <td>0.007229</td>\n",
       "      <td>0.001753</td>\n",
       "      <td>0.626957</td>\n",
       "      <td>0.997504</td>\n",
       "      <td>SIRA</td>\n",
       "    </tr>\n",
       "    <tr>\n",
       "      <th>3</th>\n",
       "      <td>42412</td>\n",
       "      <td>752.034</td>\n",
       "      <td>246.964873</td>\n",
       "      <td>218.819383</td>\n",
       "      <td>1.128624</td>\n",
       "      <td>0.463619</td>\n",
       "      <td>42848</td>\n",
       "      <td>232.380368</td>\n",
       "      <td>0.771436</td>\n",
       "      <td>0.989824</td>\n",
       "      <td>0.942375</td>\n",
       "      <td>0.940945</td>\n",
       "      <td>0.005823</td>\n",
       "      <td>0.002816</td>\n",
       "      <td>0.885378</td>\n",
       "      <td>0.999259</td>\n",
       "      <td>SEKER</td>\n",
       "    </tr>\n",
       "    <tr>\n",
       "      <th>4</th>\n",
       "      <td>34366</td>\n",
       "      <td>672.823</td>\n",
       "      <td>242.708301</td>\n",
       "      <td>181.042190</td>\n",
       "      <td>1.340617</td>\n",
       "      <td>0.666030</td>\n",
       "      <td>34666</td>\n",
       "      <td>209.179708</td>\n",
       "      <td>0.758497</td>\n",
       "      <td>0.991346</td>\n",
       "      <td>0.953975</td>\n",
       "      <td>0.861856</td>\n",
       "      <td>0.007062</td>\n",
       "      <td>0.002404</td>\n",
       "      <td>0.742796</td>\n",
       "      <td>0.995806</td>\n",
       "      <td>DERMASON</td>\n",
       "    </tr>\n",
       "    <tr>\n",
       "      <th>5</th>\n",
       "      <td>24469</td>\n",
       "      <td>578.395</td>\n",
       "      <td>217.572673</td>\n",
       "      <td>143.446059</td>\n",
       "      <td>1.516756</td>\n",
       "      <td>0.751878</td>\n",
       "      <td>24762</td>\n",
       "      <td>176.507502</td>\n",
       "      <td>0.706666</td>\n",
       "      <td>0.988167</td>\n",
       "      <td>0.919130</td>\n",
       "      <td>0.811258</td>\n",
       "      <td>0.008892</td>\n",
       "      <td>0.002376</td>\n",
       "      <td>0.658139</td>\n",
       "      <td>0.998236</td>\n",
       "      <td>DERMASON</td>\n",
       "    </tr>\n",
       "    <tr>\n",
       "      <th>6</th>\n",
       "      <td>40547</td>\n",
       "      <td>725.149</td>\n",
       "      <td>259.024364</td>\n",
       "      <td>199.592115</td>\n",
       "      <td>1.297769</td>\n",
       "      <td>0.637375</td>\n",
       "      <td>40819</td>\n",
       "      <td>227.213652</td>\n",
       "      <td>0.761990</td>\n",
       "      <td>0.993336</td>\n",
       "      <td>0.968978</td>\n",
       "      <td>0.877190</td>\n",
       "      <td>0.006388</td>\n",
       "      <td>0.002333</td>\n",
       "      <td>0.769463</td>\n",
       "      <td>0.998585</td>\n",
       "      <td>SEKER</td>\n",
       "    </tr>\n",
       "    <tr>\n",
       "      <th>7</th>\n",
       "      <td>165330</td>\n",
       "      <td>1540.253</td>\n",
       "      <td>574.535399</td>\n",
       "      <td>368.862049</td>\n",
       "      <td>1.557589</td>\n",
       "      <td>0.766690</td>\n",
       "      <td>167922</td>\n",
       "      <td>458.807905</td>\n",
       "      <td>0.776744</td>\n",
       "      <td>0.984564</td>\n",
       "      <td>0.875744</td>\n",
       "      <td>0.798572</td>\n",
       "      <td>0.003475</td>\n",
       "      <td>0.000872</td>\n",
       "      <td>0.637717</td>\n",
       "      <td>0.993301</td>\n",
       "      <td>BOMBAY</td>\n",
       "    </tr>\n",
       "    <tr>\n",
       "      <th>8</th>\n",
       "      <td>176826</td>\n",
       "      <td>1632.597</td>\n",
       "      <td>640.290869</td>\n",
       "      <td>354.942649</td>\n",
       "      <td>1.803928</td>\n",
       "      <td>0.832286</td>\n",
       "      <td>179666</td>\n",
       "      <td>474.491154</td>\n",
       "      <td>0.809576</td>\n",
       "      <td>0.984193</td>\n",
       "      <td>0.833677</td>\n",
       "      <td>0.741056</td>\n",
       "      <td>0.003621</td>\n",
       "      <td>0.000674</td>\n",
       "      <td>0.549163</td>\n",
       "      <td>0.990651</td>\n",
       "      <td>BOMBAY</td>\n",
       "    </tr>\n",
       "    <tr>\n",
       "      <th>9</th>\n",
       "      <td>78930</td>\n",
       "      <td>1079.255</td>\n",
       "      <td>417.604550</td>\n",
       "      <td>242.072082</td>\n",
       "      <td>1.725125</td>\n",
       "      <td>0.814853</td>\n",
       "      <td>79874</td>\n",
       "      <td>317.012298</td>\n",
       "      <td>0.784483</td>\n",
       "      <td>0.988181</td>\n",
       "      <td>0.851538</td>\n",
       "      <td>0.759121</td>\n",
       "      <td>0.005291</td>\n",
       "      <td>0.001084</td>\n",
       "      <td>0.576264</td>\n",
       "      <td>0.994128</td>\n",
       "      <td>CALI</td>\n",
       "    </tr>\n",
       "  </tbody>\n",
       "</table>\n",
       "</div>"
      ],
      "text/plain": [
       "     Area  Perimeter  MajorAxisLength  MinorAxisLength  AspectRation  \\\n",
       "0   67311   1037.096       374.417253       229.301248      1.632862   \n",
       "1   72263   1097.796       375.594915       245.380765      1.530662   \n",
       "2   38858    753.174       280.915962       176.562975      1.591024   \n",
       "3   42412    752.034       246.964873       218.819383      1.128624   \n",
       "4   34366    672.823       242.708301       181.042190      1.340617   \n",
       "5   24469    578.395       217.572673       143.446059      1.516756   \n",
       "6   40547    725.149       259.024364       199.592115      1.297769   \n",
       "7  165330   1540.253       574.535399       368.862049      1.557589   \n",
       "8  176826   1632.597       640.290869       354.942649      1.803928   \n",
       "9   78930   1079.255       417.604550       242.072082      1.725125   \n",
       "\n",
       "   Eccentricity  ConvexArea  EquivDiameter    Extent  Solidity  roundness  \\\n",
       "0      0.790531       68197     292.750793  0.756907  0.987008   0.786426   \n",
       "1      0.757089       73699     303.328385  0.719393  0.980515   0.753499   \n",
       "2      0.777789       39287     222.430983  0.690809  0.989080   0.860795   \n",
       "3      0.463619       42848     232.380368  0.771436  0.989824   0.942375   \n",
       "4      0.666030       34666     209.179708  0.758497  0.991346   0.953975   \n",
       "5      0.751878       24762     176.507502  0.706666  0.988167   0.919130   \n",
       "6      0.637375       40819     227.213652  0.761990  0.993336   0.968978   \n",
       "7      0.766690      167922     458.807905  0.776744  0.984564   0.875744   \n",
       "8      0.832286      179666     474.491154  0.809576  0.984193   0.833677   \n",
       "9      0.814853       79874     317.012298  0.784483  0.988181   0.851538   \n",
       "\n",
       "   Compactness  ShapeFactor1  ShapeFactor2  ShapeFactor3  ShapeFactor4  \\\n",
       "0     0.781884      0.005562      0.001282      0.611342      0.998238   \n",
       "1     0.807594      0.005198      0.001364      0.652209      0.998311   \n",
       "2     0.791806      0.007229      0.001753      0.626957      0.997504   \n",
       "3     0.940945      0.005823      0.002816      0.885378      0.999259   \n",
       "4     0.861856      0.007062      0.002404      0.742796      0.995806   \n",
       "5     0.811258      0.008892      0.002376      0.658139      0.998236   \n",
       "6     0.877190      0.006388      0.002333      0.769463      0.998585   \n",
       "7     0.798572      0.003475      0.000872      0.637717      0.993301   \n",
       "8     0.741056      0.003621      0.000674      0.549163      0.990651   \n",
       "9     0.759121      0.005291      0.001084      0.576264      0.994128   \n",
       "\n",
       "      Class  \n",
       "0  BARBUNYA  \n",
       "1  BARBUNYA  \n",
       "2      SIRA  \n",
       "3     SEKER  \n",
       "4  DERMASON  \n",
       "5  DERMASON  \n",
       "6     SEKER  \n",
       "7    BOMBAY  \n",
       "8    BOMBAY  \n",
       "9      CALI  "
      ]
     },
     "execution_count": 3,
     "metadata": {},
     "output_type": "execute_result"
    }
   ],
   "source": [
    "df.head(10)"
   ]
  },
  {
   "cell_type": "code",
   "execution_count": 4,
   "id": "8f344ea3",
   "metadata": {},
   "outputs": [],
   "source": [
    "net = tf.keras.Sequential(\n",
    "    [\n",
    "        layers.Dense(512, activation=\"relu\"),\n",
    "        layers.Dense(256, activation=\"relu\"),\n",
    "        layers.Dense(7),\n",
    "    ]\n",
    ")"
   ]
  },
  {
   "cell_type": "code",
   "execution_count": 6,
   "id": "7cd4b173",
   "metadata": {},
   "outputs": [],
   "source": [
    "X = df.drop(columns=[\"Class\"]).values\n",
    "# y = df.Class.astype(\"category\").cat.codes.values\n",
    "y = df.Class.astype('category').cat.codes.values"
   ]
  },
  {
   "cell_type": "code",
   "execution_count": 30,
   "id": "ba557b50",
   "metadata": {},
   "outputs": [],
   "source": [
    "# X, y = SMOTE().fit_resample(X, y)"
   ]
  },
  {
   "cell_type": "code",
   "execution_count": 7,
   "id": "a75bfecd",
   "metadata": {},
   "outputs": [],
   "source": [
    "# scaling the the data for training!\n",
    "scaler = StandardScaler()\n",
    "\n",
    "X_train, X_test, y_train, y_test = train_test_split(X, y, test_size=0.25)\n",
    "\n",
    "X_train = scaler.fit_transform(X_train)\n",
    "\n",
    "X_train, X_val, y_train, y_val = train_test_split(X_train, y_train, test_size=0.25)"
   ]
  },
  {
   "cell_type": "code",
   "execution_count": 8,
   "id": "b66c207f",
   "metadata": {},
   "outputs": [],
   "source": [
    "train_ds = tf.data.Dataset.from_tensor_slices((X_train, y_train)).batch(32)\n",
    "val_ds = tf.data.Dataset.from_tensor_slices((X_val, y_val)).batch(16)"
   ]
  },
  {
   "cell_type": "code",
   "execution_count": 9,
   "id": "47890e98",
   "metadata": {},
   "outputs": [],
   "source": [
    "net.compile(\n",
    "    optimizer=optimizers.Adam(learning_rate=3e-4),\n",
    "    loss=losses.SparseCategoricalCrossentropy(from_logits=True),\n",
    "    metrics=[metrics.SparseCategoricalAccuracy()],\n",
    ")"
   ]
  },
  {
   "cell_type": "code",
   "execution_count": 10,
   "id": "64d6ada7",
   "metadata": {
    "scrolled": false
   },
   "outputs": [
    {
     "name": "stdout",
     "output_type": "stream",
     "text": [
      "Epoch 1/20\n",
      "230/240 [===========================>..] - ETA: 0s - loss: 0.4989 - sparse_categorical_accuracy: 0.8459\n",
      "Epoch 00001: val_loss improved from inf to 0.27054, saving model to models\\4\n",
      "INFO:tensorflow:Assets written to: models\\4\\assets\n",
      "240/240 [==============================] - 3s 8ms/step - loss: 0.4904 - sparse_categorical_accuracy: 0.8487 - val_loss: 0.2705 - val_sparse_categorical_accuracy: 0.9091\n",
      "Epoch 2/20\n",
      "229/240 [===========================>..] - ETA: 0s - loss: 0.2237 - sparse_categorical_accuracy: 0.9207\n",
      "Epoch 00002: val_loss improved from 0.27054 to 0.23979, saving model to models\\4\n",
      "INFO:tensorflow:Assets written to: models\\4\\assets\n",
      "240/240 [==============================] - 2s 8ms/step - loss: 0.2241 - sparse_categorical_accuracy: 0.9212 - val_loss: 0.2398 - val_sparse_categorical_accuracy: 0.9150\n",
      "Epoch 3/20\n",
      "230/240 [===========================>..] - ETA: 0s - loss: 0.2036 - sparse_categorical_accuracy: 0.9254\n",
      "Epoch 00003: val_loss improved from 0.23979 to 0.23105, saving model to models\\4\n",
      "INFO:tensorflow:Assets written to: models\\4\\assets\n",
      "240/240 [==============================] - 2s 7ms/step - loss: 0.2046 - sparse_categorical_accuracy: 0.9255 - val_loss: 0.2311 - val_sparse_categorical_accuracy: 0.9189\n",
      "Epoch 4/20\n",
      "238/240 [============================>.] - ETA: 0s - loss: 0.1965 - sparse_categorical_accuracy: 0.9257\n",
      "Epoch 00004: val_loss improved from 0.23105 to 0.22641, saving model to models\\4\n",
      "INFO:tensorflow:Assets written to: models\\4\\assets\n",
      "240/240 [==============================] - 2s 7ms/step - loss: 0.1967 - sparse_categorical_accuracy: 0.9258 - val_loss: 0.2264 - val_sparse_categorical_accuracy: 0.9185\n",
      "Epoch 5/20\n",
      "235/240 [============================>.] - ETA: 0s - loss: 0.1900 - sparse_categorical_accuracy: 0.9275\n",
      "Epoch 00005: val_loss improved from 0.22641 to 0.22370, saving model to models\\4\n",
      "INFO:tensorflow:Assets written to: models\\4\\assets\n",
      "240/240 [==============================] - 2s 9ms/step - loss: 0.1918 - sparse_categorical_accuracy: 0.9271 - val_loss: 0.2237 - val_sparse_categorical_accuracy: 0.9193\n",
      "Epoch 6/20\n",
      "233/240 [============================>.] - ETA: 0s - loss: 0.1869 - sparse_categorical_accuracy: 0.9281\n",
      "Epoch 00006: val_loss improved from 0.22370 to 0.22149, saving model to models\\4\n",
      "INFO:tensorflow:Assets written to: models\\4\\assets\n",
      "240/240 [==============================] - 2s 7ms/step - loss: 0.1882 - sparse_categorical_accuracy: 0.9282 - val_loss: 0.2215 - val_sparse_categorical_accuracy: 0.9208\n",
      "Epoch 7/20\n",
      "237/240 [============================>.] - ETA: 0s - loss: 0.1851 - sparse_categorical_accuracy: 0.9289\n",
      "Epoch 00007: val_loss improved from 0.22149 to 0.21994, saving model to models\\4\n",
      "INFO:tensorflow:Assets written to: models\\4\\assets\n",
      "240/240 [==============================] - 2s 8ms/step - loss: 0.1854 - sparse_categorical_accuracy: 0.9288 - val_loss: 0.2199 - val_sparse_categorical_accuracy: 0.9208\n",
      "Epoch 8/20\n",
      "240/240 [==============================] - ETA: 0s - loss: 0.1831 - sparse_categorical_accuracy: 0.9292\n",
      "Epoch 00008: val_loss improved from 0.21994 to 0.21891, saving model to models\\4\n",
      "INFO:tensorflow:Assets written to: models\\4\\assets\n",
      "240/240 [==============================] - 2s 8ms/step - loss: 0.1831 - sparse_categorical_accuracy: 0.9292 - val_loss: 0.2189 - val_sparse_categorical_accuracy: 0.9224\n",
      "Epoch 9/20\n",
      "228/240 [===========================>..] - ETA: 0s - loss: 0.1810 - sparse_categorical_accuracy: 0.9298\n",
      "Epoch 00009: val_loss improved from 0.21891 to 0.21798, saving model to models\\4\n",
      "INFO:tensorflow:Assets written to: models\\4\\assets\n",
      "240/240 [==============================] - 2s 8ms/step - loss: 0.1811 - sparse_categorical_accuracy: 0.9299 - val_loss: 0.2180 - val_sparse_categorical_accuracy: 0.9224\n",
      "Epoch 10/20\n",
      "237/240 [============================>.] - ETA: 0s - loss: 0.1789 - sparse_categorical_accuracy: 0.9309\n",
      "Epoch 00010: val_loss improved from 0.21798 to 0.21731, saving model to models\\4\n",
      "INFO:tensorflow:Assets written to: models\\4\\assets\n",
      "240/240 [==============================] - 2s 8ms/step - loss: 0.1792 - sparse_categorical_accuracy: 0.9308 - val_loss: 0.2173 - val_sparse_categorical_accuracy: 0.9224\n",
      "Epoch 11/20\n",
      "233/240 [============================>.] - ETA: 0s - loss: 0.1766 - sparse_categorical_accuracy: 0.9312\n",
      "Epoch 00011: val_loss improved from 0.21731 to 0.21662, saving model to models\\4\n",
      "INFO:tensorflow:Assets written to: models\\4\\assets\n",
      "240/240 [==============================] - 2s 8ms/step - loss: 0.1776 - sparse_categorical_accuracy: 0.9312 - val_loss: 0.2166 - val_sparse_categorical_accuracy: 0.9220\n",
      "Epoch 12/20\n",
      "230/240 [===========================>..] - ETA: 0s - loss: 0.1758 - sparse_categorical_accuracy: 0.9312\n",
      "Epoch 00012: val_loss improved from 0.21662 to 0.21627, saving model to models\\4\n",
      "INFO:tensorflow:Assets written to: models\\4\\assets\n",
      "240/240 [==============================] - 2s 8ms/step - loss: 0.1761 - sparse_categorical_accuracy: 0.9314 - val_loss: 0.2163 - val_sparse_categorical_accuracy: 0.9216\n",
      "Epoch 13/20\n",
      "238/240 [============================>.] - ETA: 0s - loss: 0.1745 - sparse_categorical_accuracy: 0.9316\n",
      "Epoch 00013: val_loss improved from 0.21627 to 0.21593, saving model to models\\4\n",
      "INFO:tensorflow:Assets written to: models\\4\\assets\n",
      "240/240 [==============================] - 2s 8ms/step - loss: 0.1747 - sparse_categorical_accuracy: 0.9316 - val_loss: 0.2159 - val_sparse_categorical_accuracy: 0.9216\n",
      "Epoch 14/20\n",
      "237/240 [============================>.] - ETA: 0s - loss: 0.1730 - sparse_categorical_accuracy: 0.9330\n",
      "Epoch 00014: val_loss improved from 0.21593 to 0.21547, saving model to models\\4\n",
      "INFO:tensorflow:Assets written to: models\\4\\assets\n",
      "240/240 [==============================] - 2s 8ms/step - loss: 0.1734 - sparse_categorical_accuracy: 0.9329 - val_loss: 0.2155 - val_sparse_categorical_accuracy: 0.9205\n",
      "Epoch 15/20\n",
      "240/240 [==============================] - ETA: 0s - loss: 0.1721 - sparse_categorical_accuracy: 0.9333\n",
      "Epoch 00015: val_loss improved from 0.21547 to 0.21493, saving model to models\\4\n",
      "INFO:tensorflow:Assets written to: models\\4\\assets\n",
      "240/240 [==============================] - 2s 8ms/step - loss: 0.1721 - sparse_categorical_accuracy: 0.9333 - val_loss: 0.2149 - val_sparse_categorical_accuracy: 0.9212\n",
      "Epoch 16/20\n",
      "233/240 [============================>.] - ETA: 0s - loss: 0.1700 - sparse_categorical_accuracy: 0.9335\n",
      "Epoch 00016: val_loss improved from 0.21493 to 0.21469, saving model to models\\4\n",
      "INFO:tensorflow:Assets written to: models\\4\\assets\n",
      "240/240 [==============================] - 2s 7ms/step - loss: 0.1708 - sparse_categorical_accuracy: 0.9333 - val_loss: 0.2147 - val_sparse_categorical_accuracy: 0.9201\n",
      "Epoch 17/20\n",
      "232/240 [============================>.] - ETA: 0s - loss: 0.1686 - sparse_categorical_accuracy: 0.9337\n",
      "Epoch 00017: val_loss improved from 0.21469 to 0.21445, saving model to models\\4\n",
      "INFO:tensorflow:Assets written to: models\\4\\assets\n",
      "240/240 [==============================] - 2s 8ms/step - loss: 0.1696 - sparse_categorical_accuracy: 0.9334 - val_loss: 0.2144 - val_sparse_categorical_accuracy: 0.9208\n",
      "Epoch 18/20\n",
      "237/240 [============================>.] - ETA: 0s - loss: 0.1681 - sparse_categorical_accuracy: 0.9339\n",
      "Epoch 00018: val_loss improved from 0.21445 to 0.21415, saving model to models\\4\n",
      "INFO:tensorflow:Assets written to: models\\4\\assets\n",
      "240/240 [==============================] - 2s 8ms/step - loss: 0.1685 - sparse_categorical_accuracy: 0.9338 - val_loss: 0.2141 - val_sparse_categorical_accuracy: 0.9208\n",
      "Epoch 19/20\n",
      "231/240 [===========================>..] - ETA: 0s - loss: 0.1667 - sparse_categorical_accuracy: 0.9341\n",
      "Epoch 00019: val_loss improved from 0.21415 to 0.21410, saving model to models\\4\n",
      "INFO:tensorflow:Assets written to: models\\4\\assets\n",
      "240/240 [==============================] - 2s 8ms/step - loss: 0.1673 - sparse_categorical_accuracy: 0.9338 - val_loss: 0.2141 - val_sparse_categorical_accuracy: 0.9205\n",
      "Epoch 20/20\n",
      "238/240 [============================>.] - ETA: 0s - loss: 0.1661 - sparse_categorical_accuracy: 0.9343\n",
      "Epoch 00020: val_loss improved from 0.21410 to 0.21395, saving model to models\\4\n",
      "INFO:tensorflow:Assets written to: models\\4\\assets\n",
      "240/240 [==============================] - 2s 9ms/step - loss: 0.1663 - sparse_categorical_accuracy: 0.9343 - val_loss: 0.2140 - val_sparse_categorical_accuracy: 0.9208\n"
     ]
    }
   ],
   "source": [
    "history = net.fit(\n",
    "    train_ds,\n",
    "    validation_data=val_ds,\n",
    "    epochs=20,\n",
    "    callbacks=[\n",
    "        callbacks.ModelCheckpoint(\"models/4\", save_best_only=True, verbose=3),\n",
    "    ],\n",
    ")"
   ]
  },
  {
   "cell_type": "code",
   "execution_count": 11,
   "id": "a86f773c",
   "metadata": {},
   "outputs": [],
   "source": [
    "# Transforming the test set\n",
    "\n",
    "X_test = scaler.transform(X_test)\n",
    "\n",
    "test_ds = tf.data.Dataset.from_tensor_slices((X_test, y_test)).batch(16)"
   ]
  },
  {
   "cell_type": "code",
   "execution_count": 12,
   "id": "038ef33d",
   "metadata": {},
   "outputs": [
    {
     "name": "stdout",
     "output_type": "stream",
     "text": [
      "213/213 [==============================] - 1s 2ms/step - loss: 0.1904 - sparse_categorical_accuracy: 0.9289\n"
     ]
    },
    {
     "data": {
      "text/plain": [
       "[0.19042223691940308, 0.9288862943649292]"
      ]
     },
     "execution_count": 12,
     "metadata": {},
     "output_type": "execute_result"
    }
   ],
   "source": [
    "net.evaluate(test_ds)"
   ]
  },
  {
   "cell_type": "code",
   "execution_count": 13,
   "id": "10eacb08",
   "metadata": {},
   "outputs": [],
   "source": [
    "preds = net(X_test)\n",
    "preds = tf.argmax(preds, axis=1)"
   ]
  },
  {
   "cell_type": "code",
   "execution_count": 15,
   "id": "a9c1602f",
   "metadata": {},
   "outputs": [
    {
     "name": "stdout",
     "output_type": "stream",
     "text": [
      "                   pre       rec       spe        f1       geo       iba       sup\n",
      "\n",
      "   BARBUNYA       0.95      0.96      0.99      0.96      0.98      0.95       335\n",
      "     BOMBAY       1.00      1.00      1.00      1.00      1.00      1.00       150\n",
      "       CALI       0.96      0.96      0.99      0.96      0.97      0.95       386\n",
      "   DERMASON       0.92      0.91      0.97      0.91      0.94      0.88       893\n",
      "      HOROZ       0.96      0.96      0.99      0.96      0.98      0.95       458\n",
      "      SEKER       0.96      0.95      0.99      0.96      0.97      0.94       512\n",
      "       SIRA       0.85      0.88      0.96      0.86      0.92      0.84       669\n",
      "\n",
      "avg / total       0.93      0.93      0.98      0.93      0.96      0.91      3403\n",
      "\n"
     ]
    }
   ],
   "source": [
    "cf = confusion_matrix(y_test, preds)\n",
    "\n",
    "classes = df.Class.astype(\"category\").cat.categories.tolist()\n",
    "print(classification_report_imbalanced(y_test, preds, target_names=classes))"
   ]
  },
  {
   "cell_type": "code",
   "execution_count": 17,
   "id": "bd6ce1d5",
   "metadata": {},
   "outputs": [
    {
     "data": {
      "image/png": "[encoded data removed]",
      "text/plain": [
       "<Figure size 720x576 with 2 Axes>"
      ]
     },
     "metadata": {},
     "output_type": "display_data"
    }
   ],
   "source": [
    "classes = df.Class.astype(\"category\").cat.categories.tolist()\n",
    "sns.set(rc={\"figure.figsize\": (10, 8)}, font_scale=1.25)\n",
    "ax = sns.heatmap(\n",
    "    cf, annot=True, xticklabels=classes, yticklabels=classes, fmt=\"d\", cmap=\"viridis_r\"\n",
    ")\n",
    "ax.set_ylabel(\"Actual Class\")\n",
    "_ = ax.set_xlabel(\"Predicted Class\")"
   ]
  },
  {
   "cell_type": "markdown",
   "id": "d0958555",
   "metadata": {},
   "source": [
    "## Testing on one example"
   ]
  },
  {
   "cell_type": "code",
   "execution_count": 22,
   "id": "ded7b0dd",
   "metadata": {},
   "outputs": [
    {
     "data": {
      "text/plain": [
       "(array([-0.62180646, -0.76679377, -0.65111294, -0.75483974, -0.05892578,\n",
       "         0.21357593, -0.62665287, -0.71639006,  1.29420515,  0.95441196,\n",
       "         0.73853368, -0.0397688 ,  0.89863268,  0.28491842, -0.07818509,\n",
       "         0.5787687 ]),\n",
       " 3)"
      ]
     },
     "execution_count": 22,
     "metadata": {},
     "output_type": "execute_result"
    }
   ],
   "source": [
    "sample = X_test[10]\n",
    "sample, y_test[10]"
   ]
  },
  {
   "cell_type": "code",
   "execution_count": 23,
   "id": "b2aa5709",
   "metadata": {},
   "outputs": [],
   "source": [
    "X_test_scaled = scaler.transform(X_test)"
   ]
  },
  {
   "cell_type": "code",
   "execution_count": 29,
   "id": "8a3abaec",
   "metadata": {},
   "outputs": [
    {
     "data": {
      "text/plain": [
       "(array([5.28806800e+04, 8.54464248e+02, 3.19966306e+02, 2.01985776e+02,\n",
       "        1.58443882e+00, 7.51143776e-01, 5.35969176e+04, 2.52814512e+02,\n",
       "        7.49406799e-01, 9.87152868e-01, 8.73169414e-01, 7.99611972e-01,\n",
       "        6.56701964e-03, 1.71557757e-03, 6.43212375e-01, 9.95071891e-01]),\n",
       " array([2.88348244e+04, 2.11791300e+02, 8.49818004e+01, 4.42656713e+01,\n",
       "        2.47544422e-01, 9.23221967e-02, 2.92776408e+04, 5.84345382e+01,\n",
       "        4.90807704e-02, 4.57335251e-03, 5.93698993e-02, 6.19117901e-02,\n",
       "        1.11785313e-03, 5.97888436e-04, 9.93098433e-02, 4.29739483e-03]))"
      ]
     },
     "execution_count": 29,
     "metadata": {},
     "output_type": "execute_result"
    }
   ],
   "source": [
    "scaler.mean_, scaler.scale_"
   ]
  },
  {
   "cell_type": "code",
   "execution_count": 30,
   "id": "36805188",
   "metadata": {},
   "outputs": [],
   "source": [
    "import joblib"
   ]
  },
  {
   "cell_type": "code",
   "execution_count": 31,
   "id": "3737cf6f",
   "metadata": {},
   "outputs": [
    {
     "data": {
      "text/plain": [
       "['./ML_models/NN_scaler.scaler']"
      ]
     },
     "execution_count": 31,
     "metadata": {},
     "output_type": "execute_result"
    }
   ],
   "source": [
    "joblib.dump(scaler, filename=\"./ML_models/NN_scaler.scaler\")"
   ]
  },
  {
   "cell_type": "code",
   "execution_count": 24,
   "id": "959ce181",
   "metadata": {},
   "outputs": [],
   "source": [
    "def predict(feats):\n",
    "    idx2class = {\n",
    "        0: \"BARBUNYA\",\n",
    "        1: \"BOMBAY\",\n",
    "        2: \"CALI\",\n",
    "        3: \"DERMASON\",\n",
    "        4: \"HOROZ\",\n",
    "        5: \"SEKER\",\n",
    "        6: \"SIRA\",\n",
    "    }\n",
    "\n",
    "    payload = {\"instances\": [feats.tolist()]}\n",
    "\n",
    "    res = requests.post(\n",
    "        url=\"http://localhost:8605/v1/models/dry_bean_model:predict\", json=payload\n",
    "    )\n",
    "\n",
    "    preds = res.json()\n",
    "    preds = preds[\"predictions\"]\n",
    "    idx = tf.argmax(preds, axis=1)\n",
    "\n",
    "    print(f\"The predicted class is: {idx2class[idx.numpy()[0]]}\")"
   ]
  },
  {
   "cell_type": "code",
   "execution_count": 25,
   "id": "573bd3ea",
   "metadata": {},
   "outputs": [
    {
     "name": "stdout",
     "output_type": "stream",
     "text": [
      "The predicted class is: DERMASON\n"
     ]
    }
   ],
   "source": [
    "predict(X_test_scaled[10])"
   ]
  },
  {
   "cell_type": "code",
   "execution_count": 33,
   "id": "a40a2846",
   "metadata": {},
   "outputs": [
    {
     "data": {
      "text/plain": [
       "(16,)"
      ]
     },
     "execution_count": 33,
     "metadata": {},
     "output_type": "execute_result"
    }
   ],
   "source": [
    "X_test_scaled[0].shape"
   ]
  },
  {
   "cell_type": "code",
   "execution_count": null,
   "id": "c7c70674",
   "metadata": {},
   "outputs": [],
   "source": []
  }
 ],
 "metadata": {
  "kernelspec": {
   "display_name": "Python 3 (ipykernel)",
   "language": "python",
   "name": "python3"
  },
  "language_info": {
   "codemirror_mode": {
    "name": "ipython",
    "version": 3
   },
   "file_extension": ".py",
   "mimetype": "text/x-python",
   "name": "python",
   "nbconvert_exporter": "python",
   "pygments_lexer": "ipython3",
   "version": "3.8.5"
  },
  "toc": {
   "base_numbering": 1,
   "nav_menu": {},
   "number_sections": true,
   "sideBar": true,
   "skip_h1_title": false,
   "title_cell": "Table of Contents",
   "title_sidebar": "Contents",
   "toc_cell": false,
   "toc_position": {
    "height": "calc(100% - 180px)",
    "left": "10px",
    "top": "150px",
    "width": "303.837px"
   },
   "toc_section_display": true,
   "toc_window_display": true
  }
 },
 "nbformat": 4,
 "nbformat_minor": 5
}
