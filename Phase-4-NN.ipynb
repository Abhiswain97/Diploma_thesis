{
 "cells": [
  {
   "cell_type": "code",
   "execution_count": 1,
   "id": "c576b054-6e1b-4eb2-812e-18ee5c080bd4",
   "metadata": {},
   "outputs": [],
   "source": [
    "import torch\n",
    "import torch.nn as nn\n",
    "from torch.utils.data import TensorDataset, DataLoader, random_split\n",
    "\n",
    "import pytorch_lightning as pl\n",
    "from pytorch_lightning.loggers import WandbLogger\n",
    "from torchmetrics import Accuracy\n",
    "from torchmetrics.functional import accuracy, confusion_matrix, f1\n",
    "\n",
    "import pandas as pd\n",
    "from sklearn.preprocessing import StandardScaler\n",
    "from sklearn.model_selection import train_test_split\n",
    "from imblearn.over_sampling import RandomOverSampler\n",
    "\n",
    "import seaborn as sns"
   ]
  },
  {
   "cell_type": "markdown",
   "id": "5e50a083",
   "metadata": {},
   "source": [
    "## Read the data & separate features and labels"
   ]
  },
  {
   "cell_type": "code",
   "execution_count": 2,
   "id": "cd58eb76-8a4e-4e7d-8dd6-07f45e614600",
   "metadata": {},
   "outputs": [],
   "source": [
    "df = pd.read_csv(\"Data_removed_outlier_iqr.csv\")"
   ]
  },
  {
   "cell_type": "code",
   "execution_count": 3,
   "id": "ee93877b-df43-4486-85a5-5b64abff04af",
   "metadata": {},
   "outputs": [
    {
     "data": {
      "text/html": [
       "<div>\n",
       "<style scoped>\n",
       "    .dataframe tbody tr th:only-of-type {\n",
       "        vertical-align: middle;\n",
       "    }\n",
       "\n",
       "    .dataframe tbody tr th {\n",
       "        vertical-align: top;\n",
       "    }\n",
       "\n",
       "    .dataframe thead th {\n",
       "        text-align: right;\n",
       "    }\n",
       "</style>\n",
       "<table border=\"1\" class=\"dataframe\">\n",
       "  <thead>\n",
       "    <tr style=\"text-align: right;\">\n",
       "      <th></th>\n",
       "      <th>Area</th>\n",
       "      <th>Perimeter</th>\n",
       "      <th>MajorAxisLength</th>\n",
       "      <th>MinorAxisLength</th>\n",
       "      <th>AspectRation</th>\n",
       "      <th>Eccentricity</th>\n",
       "      <th>ConvexArea</th>\n",
       "      <th>EquivDiameter</th>\n",
       "      <th>Extent</th>\n",
       "      <th>Solidity</th>\n",
       "      <th>roundness</th>\n",
       "      <th>Compactness</th>\n",
       "      <th>ShapeFactor1</th>\n",
       "      <th>ShapeFactor2</th>\n",
       "      <th>ShapeFactor3</th>\n",
       "      <th>ShapeFactor4</th>\n",
       "      <th>Class</th>\n",
       "    </tr>\n",
       "  </thead>\n",
       "  <tbody>\n",
       "    <tr>\n",
       "      <th>0</th>\n",
       "      <td>35280</td>\n",
       "      <td>717.703</td>\n",
       "      <td>264.995250</td>\n",
       "      <td>170.035245</td>\n",
       "      <td>1.558472</td>\n",
       "      <td>0.766994</td>\n",
       "      <td>35772</td>\n",
       "      <td>211.943132</td>\n",
       "      <td>0.703616</td>\n",
       "      <td>0.986246</td>\n",
       "      <td>0.860694</td>\n",
       "      <td>0.799800</td>\n",
       "      <td>0.007511</td>\n",
       "      <td>0.001896</td>\n",
       "      <td>0.639680</td>\n",
       "      <td>0.996923</td>\n",
       "      <td>DERMASON</td>\n",
       "    </tr>\n",
       "    <tr>\n",
       "      <th>1</th>\n",
       "      <td>83296</td>\n",
       "      <td>1142.638</td>\n",
       "      <td>446.765889</td>\n",
       "      <td>239.013317</td>\n",
       "      <td>1.869209</td>\n",
       "      <td>0.844861</td>\n",
       "      <td>84270</td>\n",
       "      <td>325.662035</td>\n",
       "      <td>0.702588</td>\n",
       "      <td>0.988442</td>\n",
       "      <td>0.801709</td>\n",
       "      <td>0.728932</td>\n",
       "      <td>0.005364</td>\n",
       "      <td>0.000934</td>\n",
       "      <td>0.531342</td>\n",
       "      <td>0.993190</td>\n",
       "      <td>CALI</td>\n",
       "    </tr>\n",
       "    <tr>\n",
       "      <th>2</th>\n",
       "      <td>35594</td>\n",
       "      <td>689.634</td>\n",
       "      <td>254.572928</td>\n",
       "      <td>178.441837</td>\n",
       "      <td>1.426644</td>\n",
       "      <td>0.713214</td>\n",
       "      <td>35966</td>\n",
       "      <td>212.884213</td>\n",
       "      <td>0.811629</td>\n",
       "      <td>0.989657</td>\n",
       "      <td>0.940479</td>\n",
       "      <td>0.836241</td>\n",
       "      <td>0.007152</td>\n",
       "      <td>0.002157</td>\n",
       "      <td>0.699298</td>\n",
       "      <td>0.997650</td>\n",
       "      <td>DERMASON</td>\n",
       "    </tr>\n",
       "    <tr>\n",
       "      <th>3</th>\n",
       "      <td>52710</td>\n",
       "      <td>872.700</td>\n",
       "      <td>326.039383</td>\n",
       "      <td>207.399450</td>\n",
       "      <td>1.572036</td>\n",
       "      <td>0.771592</td>\n",
       "      <td>53280</td>\n",
       "      <td>259.060720</td>\n",
       "      <td>0.677419</td>\n",
       "      <td>0.989302</td>\n",
       "      <td>0.869707</td>\n",
       "      <td>0.794569</td>\n",
       "      <td>0.006186</td>\n",
       "      <td>0.001521</td>\n",
       "      <td>0.631340</td>\n",
       "      <td>0.992488</td>\n",
       "      <td>SIRA</td>\n",
       "    </tr>\n",
       "    <tr>\n",
       "      <th>4</th>\n",
       "      <td>62855</td>\n",
       "      <td>1004.759</td>\n",
       "      <td>413.879306</td>\n",
       "      <td>194.299306</td>\n",
       "      <td>2.130112</td>\n",
       "      <td>0.882954</td>\n",
       "      <td>63781</td>\n",
       "      <td>282.894807</td>\n",
       "      <td>0.598340</td>\n",
       "      <td>0.985482</td>\n",
       "      <td>0.782395</td>\n",
       "      <td>0.683520</td>\n",
       "      <td>0.006585</td>\n",
       "      <td>0.000887</td>\n",
       "      <td>0.467200</td>\n",
       "      <td>0.995188</td>\n",
       "      <td>HOROZ</td>\n",
       "    </tr>\n",
       "    <tr>\n",
       "      <th>5</th>\n",
       "      <td>36112</td>\n",
       "      <td>723.077</td>\n",
       "      <td>225.328776</td>\n",
       "      <td>204.666339</td>\n",
       "      <td>1.100957</td>\n",
       "      <td>0.418317</td>\n",
       "      <td>36709</td>\n",
       "      <td>214.427672</td>\n",
       "      <td>0.792243</td>\n",
       "      <td>0.983737</td>\n",
       "      <td>0.867945</td>\n",
       "      <td>0.951621</td>\n",
       "      <td>0.006240</td>\n",
       "      <td>0.003156</td>\n",
       "      <td>0.905583</td>\n",
       "      <td>0.997008</td>\n",
       "      <td>SEKER</td>\n",
       "    </tr>\n",
       "    <tr>\n",
       "      <th>6</th>\n",
       "      <td>59442</td>\n",
       "      <td>975.979</td>\n",
       "      <td>402.887444</td>\n",
       "      <td>190.149460</td>\n",
       "      <td>2.118794</td>\n",
       "      <td>0.881616</td>\n",
       "      <td>60289</td>\n",
       "      <td>275.107079</td>\n",
       "      <td>0.732468</td>\n",
       "      <td>0.985951</td>\n",
       "      <td>0.784192</td>\n",
       "      <td>0.682839</td>\n",
       "      <td>0.006778</td>\n",
       "      <td>0.000909</td>\n",
       "      <td>0.466268</td>\n",
       "      <td>0.987927</td>\n",
       "      <td>HOROZ</td>\n",
       "    </tr>\n",
       "    <tr>\n",
       "      <th>7</th>\n",
       "      <td>58931</td>\n",
       "      <td>957.164</td>\n",
       "      <td>388.354344</td>\n",
       "      <td>194.043039</td>\n",
       "      <td>2.001383</td>\n",
       "      <td>0.866225</td>\n",
       "      <td>59526</td>\n",
       "      <td>273.922032</td>\n",
       "      <td>0.822714</td>\n",
       "      <td>0.990004</td>\n",
       "      <td>0.808316</td>\n",
       "      <td>0.705340</td>\n",
       "      <td>0.006590</td>\n",
       "      <td>0.001006</td>\n",
       "      <td>0.497505</td>\n",
       "      <td>0.995698</td>\n",
       "      <td>HOROZ</td>\n",
       "    </tr>\n",
       "    <tr>\n",
       "      <th>8</th>\n",
       "      <td>34010</td>\n",
       "      <td>681.989</td>\n",
       "      <td>257.829640</td>\n",
       "      <td>168.646392</td>\n",
       "      <td>1.528818</td>\n",
       "      <td>0.756408</td>\n",
       "      <td>34410</td>\n",
       "      <td>208.093433</td>\n",
       "      <td>0.713147</td>\n",
       "      <td>0.988375</td>\n",
       "      <td>0.918886</td>\n",
       "      <td>0.807097</td>\n",
       "      <td>0.007581</td>\n",
       "      <td>0.001984</td>\n",
       "      <td>0.651405</td>\n",
       "      <td>0.995880</td>\n",
       "      <td>DERMASON</td>\n",
       "    </tr>\n",
       "    <tr>\n",
       "      <th>9</th>\n",
       "      <td>27280</td>\n",
       "      <td>603.203</td>\n",
       "      <td>223.021086</td>\n",
       "      <td>156.155434</td>\n",
       "      <td>1.428199</td>\n",
       "      <td>0.713964</td>\n",
       "      <td>27550</td>\n",
       "      <td>186.370531</td>\n",
       "      <td>0.760418</td>\n",
       "      <td>0.990200</td>\n",
       "      <td>0.942166</td>\n",
       "      <td>0.835663</td>\n",
       "      <td>0.008175</td>\n",
       "      <td>0.002459</td>\n",
       "      <td>0.698333</td>\n",
       "      <td>0.997359</td>\n",
       "      <td>DERMASON</td>\n",
       "    </tr>\n",
       "  </tbody>\n",
       "</table>\n",
       "</div>"
      ],
      "text/plain": [
       "    Area  Perimeter  MajorAxisLength  MinorAxisLength  AspectRation  \\\n",
       "0  35280    717.703       264.995250       170.035245      1.558472   \n",
       "1  83296   1142.638       446.765889       239.013317      1.869209   \n",
       "2  35594    689.634       254.572928       178.441837      1.426644   \n",
       "3  52710    872.700       326.039383       207.399450      1.572036   \n",
       "4  62855   1004.759       413.879306       194.299306      2.130112   \n",
       "5  36112    723.077       225.328776       204.666339      1.100957   \n",
       "6  59442    975.979       402.887444       190.149460      2.118794   \n",
       "7  58931    957.164       388.354344       194.043039      2.001383   \n",
       "8  34010    681.989       257.829640       168.646392      1.528818   \n",
       "9  27280    603.203       223.021086       156.155434      1.428199   \n",
       "\n",
       "   Eccentricity  ConvexArea  EquivDiameter    Extent  Solidity  roundness  \\\n",
       "0      0.766994       35772     211.943132  0.703616  0.986246   0.860694   \n",
       "1      0.844861       84270     325.662035  0.702588  0.988442   0.801709   \n",
       "2      0.713214       35966     212.884213  0.811629  0.989657   0.940479   \n",
       "3      0.771592       53280     259.060720  0.677419  0.989302   0.869707   \n",
       "4      0.882954       63781     282.894807  0.598340  0.985482   0.782395   \n",
       "5      0.418317       36709     214.427672  0.792243  0.983737   0.867945   \n",
       "6      0.881616       60289     275.107079  0.732468  0.985951   0.784192   \n",
       "7      0.866225       59526     273.922032  0.822714  0.990004   0.808316   \n",
       "8      0.756408       34410     208.093433  0.713147  0.988375   0.918886   \n",
       "9      0.713964       27550     186.370531  0.760418  0.990200   0.942166   \n",
       "\n",
       "   Compactness  ShapeFactor1  ShapeFactor2  ShapeFactor3  ShapeFactor4  \\\n",
       "0     0.799800      0.007511      0.001896      0.639680      0.996923   \n",
       "1     0.728932      0.005364      0.000934      0.531342      0.993190   \n",
       "2     0.836241      0.007152      0.002157      0.699298      0.997650   \n",
       "3     0.794569      0.006186      0.001521      0.631340      0.992488   \n",
       "4     0.683520      0.006585      0.000887      0.467200      0.995188   \n",
       "5     0.951621      0.006240      0.003156      0.905583      0.997008   \n",
       "6     0.682839      0.006778      0.000909      0.466268      0.987927   \n",
       "7     0.705340      0.006590      0.001006      0.497505      0.995698   \n",
       "8     0.807097      0.007581      0.001984      0.651405      0.995880   \n",
       "9     0.835663      0.008175      0.002459      0.698333      0.997359   \n",
       "\n",
       "      Class  \n",
       "0  DERMASON  \n",
       "1      CALI  \n",
       "2  DERMASON  \n",
       "3      SIRA  \n",
       "4     HOROZ  \n",
       "5     SEKER  \n",
       "6     HOROZ  \n",
       "7     HOROZ  \n",
       "8  DERMASON  \n",
       "9  DERMASON  "
      ]
     },
     "execution_count": 3,
     "metadata": {},
     "output_type": "execute_result"
    }
   ],
   "source": [
    "df.head(10)"
   ]
  },
  {
   "cell_type": "code",
   "execution_count": 4,
   "id": "a6ce96a2-1eb0-4af5-81be-65fd7a8738f1",
   "metadata": {},
   "outputs": [],
   "source": [
    "X = df.drop(columns=[\"Class\"]).values\n",
    "y = df.Class.astype(\"category\").cat.codes.values"
   ]
  },
  {
   "cell_type": "markdown",
   "id": "6be0d095",
   "metadata": {},
   "source": [
    "## Creating the Neural Network\n",
    "\n",
    "We can create a network separately or since this is a simple network so we can just simply put it inside our `LightningModule`"
   ]
  },
  {
   "cell_type": "code",
   "execution_count": 5,
   "id": "1a7acc7d-000f-4a17-b68c-a8af1f076e74",
   "metadata": {},
   "outputs": [],
   "source": [
    "class Net(nn.Module):\n",
    "    def __init__(self):\n",
    "        super(Net, self).__init__()\n",
    "        self.net = nn.Sequential(\n",
    "            nn.Linear(16, 256),\n",
    "            nn.LeakyReLU(inplace=True),\n",
    "            nn.Linear(256, 128),\n",
    "            nn.ReLU(inplace=True),\n",
    "            nn.Linear(128, 7),\n",
    "            nn.SELU(inplace=True),\n",
    "        )\n",
    "\n",
    "    def forward(self, x):\n",
    "        return self.net(x)"
   ]
  },
  {
   "cell_type": "markdown",
   "id": "beeb01e8",
   "metadata": {},
   "source": [
    "## Creating the `LightningDataModule`"
   ]
  },
  {
   "cell_type": "code",
   "execution_count": 20,
   "id": "06f31fdd",
   "metadata": {},
   "outputs": [],
   "source": [
    "class DrybeanDataModule(pl.LightningDataModule):\n",
    "    def __init__(self, X, y, sampler=None):\n",
    "        super(DrybeanDataModule, self).__init__()\n",
    "        self.X, self.y = X, y\n",
    "        self.sampler = sampler\n",
    "\n",
    "    def prepare_data(self):\n",
    "        if self.sampler is not None:\n",
    "            self.X, self.y = self.sampler().fit_resample(self.X, self.y)\n",
    "\n",
    "        scaler = StandardScaler()\n",
    "        X_scaled = scaler.fit_transform(self.X)\n",
    "        self.X_train, self.X_test, self.y_train, self.y_test = train_test_split(\n",
    "            X_scaled, self.y, test_size=0.25\n",
    "        )\n",
    "\n",
    "    def setup(self, stage):\n",
    "        if stage == \"fit\" or stage is None:\n",
    "            X_train_tensor = torch.tensor(self.X_train, dtype=torch.float)\n",
    "            y_train_tensor = torch.tensor(self.y_train, dtype=torch.long)\n",
    "            ds = TensorDataset(X_train_tensor, y_train_tensor)\n",
    "\n",
    "            lengths = [int(len(ds) * 0.8), int(len(ds) * 0.2) + 1]\n",
    "            self.train_ds, self.val_ds = random_split(ds, lengths)\n",
    "\n",
    "        if stage == \"test\" or stage is None:\n",
    "            X_test_tensor = torch.tensor(self.X_test, dtype=torch.float)\n",
    "            y_test_tensor = torch.tensor(self.y_test, dtype=torch.long)\n",
    "            self.test_ds = TensorDataset(X_test_tensor, y_test_tensor)\n",
    "\n",
    "    def train_dataloader(self):\n",
    "        return DataLoader(self.train_ds, batch_size=16, num_workers=4)\n",
    "\n",
    "    def val_dataloader(self):\n",
    "        return DataLoader(self.val_ds, batch_size=16, num_workers=4)\n",
    "\n",
    "    def test_dataloader(self):\n",
    "        return DataLoader(self.test_ds, batch_size=16, num_workers=4)"
   ]
  },
  {
   "cell_type": "markdown",
   "id": "28ea7da1",
   "metadata": {},
   "source": [
    "## Creating the `LightningModule`"
   ]
  },
  {
   "cell_type": "code",
   "execution_count": 21,
   "id": "52058044",
   "metadata": {},
   "outputs": [],
   "source": [
    "class LitDrybean(pl.LightningModule):\n",
    "    def __init__(self):\n",
    "        super(LitDrybean, self).__init__()\n",
    "        self.model = Net()\n",
    "        self.loss = nn.CrossEntropyLoss()\n",
    "\n",
    "    def configure_optimizers(self):\n",
    "        return torch.optim.Adam(self.model.parameters(), lr=1e-4)\n",
    "\n",
    "    def forward(self, x):\n",
    "        return self.model(x)\n",
    "\n",
    "    def training_step(self, batch, batch_idx):\n",
    "        feats, labels = batch\n",
    "\n",
    "        preds = self.forward(feats)\n",
    "\n",
    "        loss = self.loss(input=preds, target=labels)\n",
    "\n",
    "        self.log(\"train_loss\", loss)\n",
    "        self.log(\"train_acc\", accuracy(preds, labels), prog_bar=True)\n",
    "\n",
    "        return loss\n",
    "\n",
    "    def validation_step(self, batch, batch_idx):\n",
    "        feats, labels = batch\n",
    "\n",
    "        preds = self.forward(feats)\n",
    "\n",
    "        loss = self.loss(input=preds, target=labels)\n",
    "\n",
    "        self.log(\"val_loss\", loss)\n",
    "        self.log(\"val_acc\", accuracy(preds, labels), prog_bar=True)\n",
    "\n",
    "        return loss\n",
    "\n",
    "    def test_step(self, batch, batch_idx):\n",
    "        feats, labels = batch\n",
    "\n",
    "        preds = self.forward(feats)\n",
    "\n",
    "        loss = self.loss(input=preds, target=labels)\n",
    "\n",
    "        self.log(\"test_loss\", loss)\n",
    "        self.log(\"test_acc\", accuracy(preds, labels), prog_bar=True)\n",
    "\n",
    "        return loss"
   ]
  },
  {
   "cell_type": "code",
   "execution_count": 28,
   "id": "b1d57fc1",
   "metadata": {
    "scrolled": false
   },
   "outputs": [
    {
     "name": "stderr",
     "output_type": "stream",
     "text": [
      "GPU available: True, used: True\n",
      "TPU available: False, using: 0 TPU cores\n",
      "IPU available: False, using: 0 IPUs\n",
      "LOCAL_RANK: 0 - CUDA_VISIBLE_DEVICES: [0]\n",
      "\n",
      "  | Name  | Type             | Params\n",
      "-------------------------------------------\n",
      "0 | model | Net              | 38.2 K\n",
      "1 | loss  | CrossEntropyLoss | 0     \n",
      "-------------------------------------------\n",
      "38.2 K    Trainable params\n",
      "0         Non-trainable params\n",
      "38.2 K    Total params\n",
      "0.153     Total estimated model params size (MB)\n"
     ]
    },
    {
     "data": {
      "application/vnd.jupyter.widget-view+json": {
       "model_id": "",
       "version_major": 2,
       "version_minor": 0
      },
      "text/plain": [
       "Validation sanity check: 0it [00:00, ?it/s]"
      ]
     },
     "metadata": {},
     "output_type": "display_data"
    },
    {
     "data": {
      "application/vnd.jupyter.widget-view+json": {
       "model_id": "e13bf3491e174d20acfe2ee7cf44235b",
       "version_major": 2,
       "version_minor": 0
      },
      "text/plain": [
       "Training: -1it [00:00, ?it/s]"
      ]
     },
     "metadata": {},
     "output_type": "display_data"
    },
    {
     "data": {
      "application/vnd.jupyter.widget-view+json": {
       "model_id": "",
       "version_major": 2,
       "version_minor": 0
      },
      "text/plain": [
       "Validating: 0it [00:00, ?it/s]"
      ]
     },
     "metadata": {},
     "output_type": "display_data"
    },
    {
     "data": {
      "application/vnd.jupyter.widget-view+json": {
       "model_id": "",
       "version_major": 2,
       "version_minor": 0
      },
      "text/plain": [
       "Validating: 0it [00:00, ?it/s]"
      ]
     },
     "metadata": {},
     "output_type": "display_data"
    },
    {
     "data": {
      "application/vnd.jupyter.widget-view+json": {
       "model_id": "",
       "version_major": 2,
       "version_minor": 0
      },
      "text/plain": [
       "Validating: 0it [00:00, ?it/s]"
      ]
     },
     "metadata": {},
     "output_type": "display_data"
    },
    {
     "data": {
      "application/vnd.jupyter.widget-view+json": {
       "model_id": "",
       "version_major": 2,
       "version_minor": 0
      },
      "text/plain": [
       "Validating: 0it [00:00, ?it/s]"
      ]
     },
     "metadata": {},
     "output_type": "display_data"
    },
    {
     "data": {
      "application/vnd.jupyter.widget-view+json": {
       "model_id": "",
       "version_major": 2,
       "version_minor": 0
      },
      "text/plain": [
       "Validating: 0it [00:00, ?it/s]"
      ]
     },
     "metadata": {},
     "output_type": "display_data"
    },
    {
     "data": {
      "application/vnd.jupyter.widget-view+json": {
       "model_id": "",
       "version_major": 2,
       "version_minor": 0
      },
      "text/plain": [
       "Validating: 0it [00:00, ?it/s]"
      ]
     },
     "metadata": {},
     "output_type": "display_data"
    },
    {
     "data": {
      "application/vnd.jupyter.widget-view+json": {
       "model_id": "",
       "version_major": 2,
       "version_minor": 0
      },
      "text/plain": [
       "Validating: 0it [00:00, ?it/s]"
      ]
     },
     "metadata": {},
     "output_type": "display_data"
    },
    {
     "data": {
      "application/vnd.jupyter.widget-view+json": {
       "model_id": "",
       "version_major": 2,
       "version_minor": 0
      },
      "text/plain": [
       "Validating: 0it [00:00, ?it/s]"
      ]
     },
     "metadata": {},
     "output_type": "display_data"
    },
    {
     "data": {
      "application/vnd.jupyter.widget-view+json": {
       "model_id": "",
       "version_major": 2,
       "version_minor": 0
      },
      "text/plain": [
       "Validating: 0it [00:00, ?it/s]"
      ]
     },
     "metadata": {},
     "output_type": "display_data"
    },
    {
     "data": {
      "application/vnd.jupyter.widget-view+json": {
       "model_id": "",
       "version_major": 2,
       "version_minor": 0
      },
      "text/plain": [
       "Validating: 0it [00:00, ?it/s]"
      ]
     },
     "metadata": {},
     "output_type": "display_data"
    }
   ],
   "source": [
    "model = LitDrybean()\n",
    "dm = DrybeanDataModule(X, y)\n",
    "wandb_logger = WandbLogger(name=\"Adam-256-0.0001-bs16\", project=\"pytorchlightning\")\n",
    "trainer = pl.Trainer(\n",
    "    logger=wandb_logger, checkpoint_callback=True, min_epochs=5, max_epochs=10, log_every_n_steps=10, gpus=1\n",
    ")\n",
    "\n",
    "trainer.fit(model, datamodule=dm)"
   ]
  },
  {
   "cell_type": "code",
   "execution_count": 29,
   "id": "1e0acd9b",
   "metadata": {
    "scrolled": false
   },
   "outputs": [
    {
     "name": "stderr",
     "output_type": "stream",
     "text": [
      "LOCAL_RANK: 0 - CUDA_VISIBLE_DEVICES: [0]\n"
     ]
    },
    {
     "data": {
      "application/vnd.jupyter.widget-view+json": {
       "model_id": "a95fd95be2af44dda81b301cd4ddf37d",
       "version_major": 2,
       "version_minor": 0
      },
      "text/plain": [
       "Testing: 0it [00:00, ?it/s]"
      ]
     },
     "metadata": {},
     "output_type": "display_data"
    },
    {
     "name": "stdout",
     "output_type": "stream",
     "text": [
      "--------------------------------------------------------------------------------\n",
      "DATALOADER:0 TEST RESULTS\n",
      "{'test_acc': 0.9185478687286377, 'test_loss': 0.23230046033859253}\n",
      "--------------------------------------------------------------------------------\n"
     ]
    }
   ],
   "source": [
    "results = trainer.test()"
   ]
  },
  {
   "cell_type": "markdown",
   "id": "de9e0df7",
   "metadata": {},
   "source": [
    "## Tracking using `Tensorboard`"
   ]
  },
  {
   "cell_type": "code",
   "execution_count": 30,
   "id": "d78ac4f7",
   "metadata": {},
   "outputs": [
    {
     "name": "stdout",
     "output_type": "stream",
     "text": [
      "The tensorboard extension is already loaded. To reload it, use:\n",
      "  %reload_ext tensorboard\n"
     ]
    }
   ],
   "source": [
    "%load_ext tensorboard"
   ]
  },
  {
   "cell_type": "code",
   "execution_count": 31,
   "id": "dbbd287d",
   "metadata": {
    "scrolled": false
   },
   "outputs": [],
   "source": [
    "# %tensorboard --logdir lightning_logs/version_"
   ]
  },
  {
   "cell_type": "markdown",
   "id": "b669170c",
   "metadata": {},
   "source": [
    "## Confusion Matrix with visualization for test predictions"
   ]
  },
  {
   "cell_type": "code",
   "execution_count": 32,
   "id": "6151aa76",
   "metadata": {
    "scrolled": false
   },
   "outputs": [],
   "source": [
    "with torch.no_grad():\n",
    "    test_tensor = torch.tensor(dm.X_test)\n",
    "    labels = torch.tensor(dm.y_test)\n",
    "    preds = model.model(test_tensor.float())\n",
    "    cf = confusion_matrix(preds, labels, num_classes=7)"
   ]
  },
  {
   "cell_type": "code",
   "execution_count": 33,
   "id": "0c61b061",
   "metadata": {},
   "outputs": [
    {
     "data": {
      "image/png": "[encoded data removed]",
      "text/plain": [
       "<Figure size 720x576 with 2 Axes>"
      ]
     },
     "metadata": {},
     "output_type": "display_data"
    }
   ],
   "source": [
    "classes = df.Class.astype(\"category\").cat.categories.tolist()\n",
    "sns.set(rc={\"figure.figsize\": (10, 8)}, font_scale=1.25)\n",
    "_ = sns.heatmap(cf, annot=True, xticklabels=classes, yticklabels=classes, fmt=\"d\")"
   ]
  },
  {
   "cell_type": "code",
   "execution_count": null,
   "id": "6c730077",
   "metadata": {},
   "outputs": [],
   "source": []
  }
 ],
 "metadata": {
  "kernelspec": {
   "display_name": "Python 3",
   "language": "python",
   "name": "python3"
  },
  "language_info": {
   "codemirror_mode": {
    "name": "ipython",
    "version": 3
   },
   "file_extension": ".py",
   "mimetype": "text/x-python",
   "name": "python",
   "nbconvert_exporter": "python",
   "pygments_lexer": "ipython3",
   "version": "3.8.8"
  },
  "toc": {
   "base_numbering": 1,
   "nav_menu": {},
   "number_sections": true,
   "sideBar": true,
   "skip_h1_title": false,
   "title_cell": "Table of Contents",
   "title_sidebar": "Contents",
   "toc_cell": false,
   "toc_position": {},
   "toc_section_display": true,
   "toc_window_display": true
  }
 },
 "nbformat": 4,
 "nbformat_minor": 5
}
